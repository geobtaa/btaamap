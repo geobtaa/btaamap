{
 "cells": [
  {
   "cell_type": "markdown",
   "metadata": {},
   "source": [
    "# Harvest BTAA Geoportals\n",
    "\n",
    "> Original created on Dec 16 2020 <br>\n",
    "Edited on Jan 28 2021 -- Converted GeoJSON into TopoJSON to reduce file size<br>\n",
    "@author: Yijing Zhou @YijingZhou33 "
   ]
  },
  {
   "cell_type": "markdown",
   "metadata": {},
   "source": [
    "## Part 0: Initialization"
   ]
  },
  {
   "cell_type": "markdown",
   "metadata": {},
   "source": [
    "### Import necessary modules"
   ]
  },
  {
   "cell_type": "code",
   "execution_count": 1,
   "metadata": {},
   "outputs": [],
   "source": [
    "import os\n",
    "import pandas as pd\n",
    "import json\n",
    "import numpy as np\n",
    "import re\n",
    "from bs4 import BeautifulSoup, SoupStrainer\n",
    "import requests\n",
    "import geopandas as gpd\n",
    "import folium"
   ]
  },
  {
   "cell_type": "markdown",
   "metadata": {},
   "source": [
    "Note that **<a href='https://pypi.org/project/mapclassify/'>mapclassify</a>**, **<a href='https://seaborn.pydata.org/'>seaborn</a>** and **<a href='https://mattijn.github.io/topojson/'>topojson</a>** aren't built-in modules in Anaconda. You may need to install in advance. "
   ]
  },
  {
   "cell_type": "code",
   "execution_count": 2,
   "metadata": {},
   "outputs": [],
   "source": [
    "# pip install mapclassify \n",
    "# pip install seaborn\n",
    "# pip install topojson\n",
    "import mapclassify \n",
    "import seaborn as sns \n",
    "import topojson as tp"
   ]
  },
  {
   "cell_type": "markdown",
   "metadata": {},
   "source": [
    "### Set file path"
   ]
  },
  {
   "cell_type": "code",
   "execution_count": 3,
   "metadata": {},
   "outputs": [],
   "source": [
    "# ********** Input Files **********\n",
    "## Raw data: CSV files\n",
    "stategeoportals = os.path.join('data', 'allStates.csv')\n",
    "countygeoportals = os.path.join('data', 'allCounties.csv')\n",
    "citygeoportals = os.path.join('data', 'allCities.csv')\n",
    "\n",
    "## Basemap GeoJSON files for states and counties \n",
    "statejson = os.path.join('data', 'states.json')\n",
    "countyjson = os.path.join('data', 'counties.json')\n",
    "\n",
    "# ********** Output Files **********\n",
    "activestates = os.path.join('json', 'activeStates.topo.json')\n",
    "activecounties = os.path.join('json', 'activeCounties.topo.json')\n",
    "activecities = os.path.join('json', 'activeCities.json')\n",
    "\n",
    "legendjson = os.path.join('json', 'legend.json')"
   ]
  },
  {
   "cell_type": "markdown",
   "metadata": {},
   "source": [
    "***\n",
    "\n",
    "## Part 1: State Geoportals TopoJSON"
   ]
  },
  {
   "cell_type": "markdown",
   "metadata": {},
   "source": [
    "### Format state name in state geoportals spreadsheet `allStates.csv`"
   ]
  },
  {
   "cell_type": "code",
   "execution_count": 4,
   "metadata": {},
   "outputs": [
    {
     "data": {
      "text/html": [
       "<div>\n",
       "<style scoped>\n",
       "    .dataframe tbody tr th:only-of-type {\n",
       "        vertical-align: middle;\n",
       "    }\n",
       "\n",
       "    .dataframe tbody tr th {\n",
       "        vertical-align: top;\n",
       "    }\n",
       "\n",
       "    .dataframe thead th {\n",
       "        text-align: right;\n",
       "    }\n",
       "</style>\n",
       "<table border=\"1\" class=\"dataframe\">\n",
       "  <thead>\n",
       "    <tr style=\"text-align: right;\">\n",
       "      <th></th>\n",
       "      <th>stateCode</th>\n",
       "      <th>State</th>\n",
       "      <th>Title</th>\n",
       "      <th>sourceURL</th>\n",
       "      <th>btaaURL</th>\n",
       "    </tr>\n",
       "  </thead>\n",
       "  <tbody>\n",
       "    <tr>\n",
       "      <th>0</th>\n",
       "      <td>01d-02</td>\n",
       "      <td>Indiana</td>\n",
       "      <td>Indiana Spatial Data Portal</td>\n",
       "      <td>http://gis.iu.edu</td>\n",
       "      <td>https://geo.btaa.org/?q=01d</td>\n",
       "    </tr>\n",
       "    <tr>\n",
       "      <th>1</th>\n",
       "      <td>09a-02</td>\n",
       "      <td>Indiana</td>\n",
       "      <td>Indiana Statewide LiDAR: 2011-2013</td>\n",
       "      <td>https://doi.org/10.5069/G9959FHZ</td>\n",
       "      <td>https://geo.btaa.org/?q=09a</td>\n",
       "    </tr>\n",
       "    <tr>\n",
       "      <th>2</th>\n",
       "      <td>09a-03</td>\n",
       "      <td>Indiana</td>\n",
       "      <td>Indiana Statewide LiDAR: 2016-2019</td>\n",
       "      <td>https://lidar.jinha.org/</td>\n",
       "      <td>https://geo.btaa.org/?q=09a</td>\n",
       "    </tr>\n",
       "    <tr>\n",
       "      <th>3</th>\n",
       "      <td>03a-01-001</td>\n",
       "      <td>Iowa</td>\n",
       "      <td>Interactive map of coal mines in Iowa</td>\n",
       "      <td>https://programs.iowadnr.gov/maps/coalmines/</td>\n",
       "      <td>https://geo.btaa.org/?q=03a</td>\n",
       "    </tr>\n",
       "    <tr>\n",
       "      <th>4</th>\n",
       "      <td>03a-02</td>\n",
       "      <td>Iowa</td>\n",
       "      <td>IowaDOT Open Data</td>\n",
       "      <td>https://public-iowadot.opendata.arcgis.com</td>\n",
       "      <td>https://geo.btaa.org/?q=03a</td>\n",
       "    </tr>\n",
       "  </tbody>\n",
       "</table>\n",
       "</div>"
      ],
      "text/plain": [
       "    stateCode    State                                  Title  \\\n",
       "0      01d-02  Indiana            Indiana Spatial Data Portal   \n",
       "1      09a-02  Indiana     Indiana Statewide LiDAR: 2011-2013   \n",
       "2      09a-03  Indiana     Indiana Statewide LiDAR: 2016-2019   \n",
       "3  03a-01-001     Iowa  Interactive map of coal mines in Iowa   \n",
       "4      03a-02     Iowa                      IowaDOT Open Data   \n",
       "\n",
       "                                      sourceURL                      btaaURL  \n",
       "0                             http://gis.iu.edu  https://geo.btaa.org/?q=01d  \n",
       "1              https://doi.org/10.5069/G9959FHZ  https://geo.btaa.org/?q=09a  \n",
       "2                      https://lidar.jinha.org/  https://geo.btaa.org/?q=09a  \n",
       "3  https://programs.iowadnr.gov/maps/coalmines/  https://geo.btaa.org/?q=03a  \n",
       "4    https://public-iowadot.opendata.arcgis.com  https://geo.btaa.org/?q=03a  "
      ]
     },
     "execution_count": 4,
     "metadata": {},
     "output_type": "execute_result"
    }
   ],
   "source": [
    "df_csv = pd.read_csv(stategeoportals)\n",
    "df_csv['btaaURL'] = df_csv['btaaURL'].apply(lambda x: x.split('-')[0])\n",
    "df_csv.head()"
   ]
  },
  {
   "cell_type": "markdown",
   "metadata": {},
   "source": [
    "### Extract total records number from BTAA Geoportal search page"
   ]
  },
  {
   "cell_type": "code",
   "execution_count": 5,
   "metadata": {},
   "outputs": [],
   "source": [
    "def totalRecords(df):\n",
    "    totalrecords = []\n",
    "    for _, row in df.iterrows():\n",
    "        url = row['btaaURL']        \n",
    "        ## Start session and get the search page\n",
    "        session = requests.Session()\n",
    "        response = session.get(url)\n",
    "        ## Parse only part of the page (<meta> tag) for better performance using SoupStrainer and lxml\n",
    "        strainer = SoupStrainer('meta', attrs={'name': 'totalResults'})\n",
    "        soup = BeautifulSoup(response.content, 'lxml', parse_only=strainer)\n",
    "        ## The find() method looks through <meta> tag’s descendants and retrieves one result with attribute 'name'\n",
    "        meta_tag = soup.find('meta', attrs={'name': 'totalResults'})\n",
    "        ## Grab the content inside the <meta> tag that matches the filter\n",
    "        totalrecord = meta_tag.get('content')\n",
    "        totalrecords.append(totalrecord)\n",
    "    return totalrecords"
   ]
  },
  {
   "cell_type": "code",
   "execution_count": 6,
   "metadata": {},
   "outputs": [],
   "source": [
    "df_csv['totalRecords'] = totalRecords(df_csv)"
   ]
  },
  {
   "cell_type": "markdown",
   "metadata": {},
   "source": [
    "### Inspect the numinum number of total records\n",
    "If it equals to 0, meaning the landing page is 404 Not Found. Go back to check if the identifier is still active. "
   ]
  },
  {
   "cell_type": "code",
   "execution_count": 7,
   "metadata": {},
   "outputs": [],
   "source": [
    "def check_totalRecords(df):\n",
    "    df['totalRecords'] = df['totalRecords'].astype(int)\n",
    "    if df['totalRecords'].min() == 0:\n",
    "        return df[df['totalRecords']==0]\n",
    "    else:\n",
    "        print('> State Geoportal Codes all valid!')"
   ]
  },
  {
   "cell_type": "code",
   "execution_count": 8,
   "metadata": {},
   "outputs": [
    {
     "name": "stdout",
     "output_type": "stream",
     "text": [
      "> State Geoportal Codes all valid!\n"
     ]
    }
   ],
   "source": [
    "check_totalRecords(df_csv)"
   ]
  },
  {
   "cell_type": "markdown",
   "metadata": {},
   "source": [
    "### Group dataframe rows into list by geoportal sites"
   ]
  },
  {
   "cell_type": "code",
   "execution_count": 9,
   "metadata": {},
   "outputs": [
    {
     "name": "stderr",
     "output_type": "stream",
     "text": [
      "/var/folders/h1/wds8r6757dz_4h_l5tz85gyw0000gq/T/ipykernel_29015/2430260879.py:8: FutureWarning: Not prepending group keys to the result index of transform-like apply. In the future, the group keys will be included in the index, regardless of whether the applied function returns a like-indexed object.\n",
      "To preserve the previous behavior, use\n",
      "\n",
      "\t>>> .groupby(..., group_keys=False)\n",
      "\n",
      "To adopt the future behavior and silence this warning, use \n",
      "\n",
      "\t>>> .groupby(..., group_keys=True)\n",
      "  df_group = df_csv.groupby(['State']).apply(aggregate_to_array).drop_duplicates(subset=['State'])\n"
     ]
    },
    {
     "data": {
      "text/html": [
       "<div>\n",
       "<style scoped>\n",
       "    .dataframe tbody tr th:only-of-type {\n",
       "        vertical-align: middle;\n",
       "    }\n",
       "\n",
       "    .dataframe tbody tr th {\n",
       "        vertical-align: top;\n",
       "    }\n",
       "\n",
       "    .dataframe thead th {\n",
       "        text-align: right;\n",
       "    }\n",
       "</style>\n",
       "<table border=\"1\" class=\"dataframe\">\n",
       "  <thead>\n",
       "    <tr style=\"text-align: right;\">\n",
       "      <th></th>\n",
       "      <th>stateCode</th>\n",
       "      <th>State</th>\n",
       "      <th>Title</th>\n",
       "      <th>sourceURL</th>\n",
       "      <th>btaaURL</th>\n",
       "      <th>totalRecords</th>\n",
       "    </tr>\n",
       "  </thead>\n",
       "  <tbody>\n",
       "    <tr>\n",
       "      <th>0</th>\n",
       "      <td>[01d-02, 09a-02, 09a-03]</td>\n",
       "      <td>Indiana</td>\n",
       "      <td>[Indiana Spatial Data Portal, Indiana Statewid...</td>\n",
       "      <td>[http://gis.iu.edu, https://doi.org/10.5069/G9...</td>\n",
       "      <td>https://geo.btaa.org/?q=01d</td>\n",
       "      <td>4819</td>\n",
       "    </tr>\n",
       "    <tr>\n",
       "      <th>3</th>\n",
       "      <td>[03a-01-001, 03a-02, www_iowadatacenter_org, 0...</td>\n",
       "      <td>Iowa</td>\n",
       "      <td>[Interactive map of coal mines in Iowa, IowaDO...</td>\n",
       "      <td>[https://programs.iowadnr.gov/maps/coalmines/,...</td>\n",
       "      <td>https://geo.btaa.org/?q=03a</td>\n",
       "      <td>836</td>\n",
       "    </tr>\n",
       "    <tr>\n",
       "      <th>5</th>\n",
       "      <td>[04a-01]</td>\n",
       "      <td>Maryland</td>\n",
       "      <td>[Maryland iMap]</td>\n",
       "      <td>[http://data.imap.maryland.gov]</td>\n",
       "      <td>https://geo.btaa.org/?q=04a</td>\n",
       "      <td>1142</td>\n",
       "    </tr>\n",
       "    <tr>\n",
       "      <th>6</th>\n",
       "      <td>[06a-02, 06a-01]</td>\n",
       "      <td>Michigan</td>\n",
       "      <td>[Michigan DNR Open Data Portal, State of Michi...</td>\n",
       "      <td>[https://gis-midnr.opendata.arcgis.com, http:/...</td>\n",
       "      <td>https://geo.btaa.org/?q=06a</td>\n",
       "      <td>2819</td>\n",
       "    </tr>\n",
       "    <tr>\n",
       "      <th>7</th>\n",
       "      <td>[05a-02, 05a-01]</td>\n",
       "      <td>Minnesota</td>\n",
       "      <td>[Minnesota Legislative Coordinating Commission...</td>\n",
       "      <td>[https://www.gis.leg.mn/html/download.html, ht...</td>\n",
       "      <td>https://geo.btaa.org/?q=05a</td>\n",
       "      <td>4136</td>\n",
       "    </tr>\n",
       "  </tbody>\n",
       "</table>\n",
       "</div>"
      ],
      "text/plain": [
       "                                           stateCode      State  \\\n",
       "0                           [01d-02, 09a-02, 09a-03]    Indiana   \n",
       "3  [03a-01-001, 03a-02, www_iowadatacenter_org, 0...       Iowa   \n",
       "5                                           [04a-01]   Maryland   \n",
       "6                                   [06a-02, 06a-01]   Michigan   \n",
       "7                                   [05a-02, 05a-01]  Minnesota   \n",
       "\n",
       "                                               Title  \\\n",
       "0  [Indiana Spatial Data Portal, Indiana Statewid...   \n",
       "3  [Interactive map of coal mines in Iowa, IowaDO...   \n",
       "5                                    [Maryland iMap]   \n",
       "6  [Michigan DNR Open Data Portal, State of Michi...   \n",
       "7  [Minnesota Legislative Coordinating Commission...   \n",
       "\n",
       "                                           sourceURL  \\\n",
       "0  [http://gis.iu.edu, https://doi.org/10.5069/G9...   \n",
       "3  [https://programs.iowadnr.gov/maps/coalmines/,...   \n",
       "5                    [http://data.imap.maryland.gov]   \n",
       "6  [https://gis-midnr.opendata.arcgis.com, http:/...   \n",
       "7  [https://www.gis.leg.mn/html/download.html, ht...   \n",
       "\n",
       "                       btaaURL  totalRecords  \n",
       "0  https://geo.btaa.org/?q=01d          4819  \n",
       "3  https://geo.btaa.org/?q=03a           836  \n",
       "5  https://geo.btaa.org/?q=04a          1142  \n",
       "6  https://geo.btaa.org/?q=06a          2819  \n",
       "7  https://geo.btaa.org/?q=05a          4136  "
      ]
     },
     "execution_count": 9,
     "metadata": {},
     "output_type": "execute_result"
    }
   ],
   "source": [
    "def aggregate_to_array(data):\n",
    "    groupItems = ['stateCode', 'Title', 'sourceURL']\n",
    "    for i in range(len(groupItems)):\n",
    "        data[groupItems[i]] = np.tile([data[groupItems[i]].values], (data.shape[0], 1)).tolist()\n",
    "    return data\n",
    "\n",
    "## Group by ['State']\n",
    "df_group = df_csv.groupby(['State']).apply(aggregate_to_array).drop_duplicates(subset=['State'])\n",
    "df_group.head()"
   ]
  },
  {
   "cell_type": "markdown",
   "metadata": {},
   "source": [
    "### Merge state GeoJSON and geoportal GeoJSON"
   ]
  },
  {
   "cell_type": "code",
   "execution_count": 10,
   "metadata": {},
   "outputs": [
    {
     "data": {
      "text/html": [
       "<div>\n",
       "<style scoped>\n",
       "    .dataframe tbody tr th:only-of-type {\n",
       "        vertical-align: middle;\n",
       "    }\n",
       "\n",
       "    .dataframe tbody tr th {\n",
       "        vertical-align: top;\n",
       "    }\n",
       "\n",
       "    .dataframe thead th {\n",
       "        text-align: right;\n",
       "    }\n",
       "</style>\n",
       "<table border=\"1\" class=\"dataframe\">\n",
       "  <thead>\n",
       "    <tr style=\"text-align: right;\">\n",
       "      <th></th>\n",
       "      <th>State</th>\n",
       "      <th>boundingBox</th>\n",
       "    </tr>\n",
       "  </thead>\n",
       "  <tbody>\n",
       "    <tr>\n",
       "      <th>0</th>\n",
       "      <td>Iowa</td>\n",
       "      <td>[[[-91.12, 40.71], [-91.12, 40.71], [-91.09, 4...</td>\n",
       "    </tr>\n",
       "    <tr>\n",
       "      <th>1</th>\n",
       "      <td>Minnesota</td>\n",
       "      <td>[[[-91.73, 43.5], [-91.73, 43.5], [-91.61, 43....</td>\n",
       "    </tr>\n",
       "    <tr>\n",
       "      <th>2</th>\n",
       "      <td>Nebraska</td>\n",
       "      <td>[[[-101.41, 40.0], [-101.41, 40.0], [-101.32, ...</td>\n",
       "    </tr>\n",
       "    <tr>\n",
       "      <th>3</th>\n",
       "      <td>Illinois</td>\n",
       "      <td>[[[-88.07, 37.51], [-88.07, 37.51], [-88.13, 3...</td>\n",
       "    </tr>\n",
       "    <tr>\n",
       "      <th>4</th>\n",
       "      <td>Indiana</td>\n",
       "      <td>[[[-86.34, 38.18], [-86.34, 38.18], [-86.3, 38...</td>\n",
       "    </tr>\n",
       "  </tbody>\n",
       "</table>\n",
       "</div>"
      ],
      "text/plain": [
       "       State                                        boundingBox\n",
       "0       Iowa  [[[-91.12, 40.71], [-91.12, 40.71], [-91.09, 4...\n",
       "1  Minnesota  [[[-91.73, 43.5], [-91.73, 43.5], [-91.61, 43....\n",
       "2   Nebraska  [[[-101.41, 40.0], [-101.41, 40.0], [-101.32, ...\n",
       "3   Illinois  [[[-88.07, 37.51], [-88.07, 37.51], [-88.13, 3...\n",
       "4    Indiana  [[[-86.34, 38.18], [-86.34, 38.18], [-86.3, 38..."
      ]
     },
     "execution_count": 10,
     "metadata": {},
     "output_type": "execute_result"
    }
   ],
   "source": [
    "## Load statejson featuer properties\n",
    "state_geojson = gpd.read_file(statejson)\n",
    "state_json = json.loads(state_geojson.to_json())\n",
    "df_allState = pd.json_normalize(state_json['features'])\n",
    "\n",
    "## Change column names for further operation\n",
    "df_allState = df_allState[['properties.State', 'geometry.coordinates']].rename(\n",
    "    columns={'properties.State':'State', 'geometry.coordinates':'boundingBox'})\n",
    "\n",
    "df_allState.head()"
   ]
  },
  {
   "cell_type": "code",
   "execution_count": 11,
   "metadata": {},
   "outputs": [
    {
     "data": {
      "text/html": [
       "<div>\n",
       "<style scoped>\n",
       "    .dataframe tbody tr th:only-of-type {\n",
       "        vertical-align: middle;\n",
       "    }\n",
       "\n",
       "    .dataframe tbody tr th {\n",
       "        vertical-align: top;\n",
       "    }\n",
       "\n",
       "    .dataframe thead th {\n",
       "        text-align: right;\n",
       "    }\n",
       "</style>\n",
       "<table border=\"1\" class=\"dataframe\">\n",
       "  <thead>\n",
       "    <tr style=\"text-align: right;\">\n",
       "      <th></th>\n",
       "      <th>stateCode</th>\n",
       "      <th>State</th>\n",
       "      <th>Title</th>\n",
       "      <th>sourceURL</th>\n",
       "      <th>btaaURL</th>\n",
       "      <th>totalRecords</th>\n",
       "      <th>boundingBox</th>\n",
       "    </tr>\n",
       "  </thead>\n",
       "  <tbody>\n",
       "    <tr>\n",
       "      <th>0</th>\n",
       "      <td>[01d-02, 09a-02, 09a-03]</td>\n",
       "      <td>Indiana</td>\n",
       "      <td>[Indiana Spatial Data Portal, Indiana Statewid...</td>\n",
       "      <td>[http://gis.iu.edu, https://doi.org/10.5069/G9...</td>\n",
       "      <td>https://geo.btaa.org/?q=01d</td>\n",
       "      <td>4819</td>\n",
       "      <td>[[[-86.34, 38.18], [-86.34, 38.18], [-86.3, 38...</td>\n",
       "    </tr>\n",
       "    <tr>\n",
       "      <th>1</th>\n",
       "      <td>[03a-01-001, 03a-02, www_iowadatacenter_org, 0...</td>\n",
       "      <td>Iowa</td>\n",
       "      <td>[Interactive map of coal mines in Iowa, IowaDO...</td>\n",
       "      <td>[https://programs.iowadnr.gov/maps/coalmines/,...</td>\n",
       "      <td>https://geo.btaa.org/?q=03a</td>\n",
       "      <td>836</td>\n",
       "      <td>[[[-91.12, 40.71], [-91.12, 40.71], [-91.09, 4...</td>\n",
       "    </tr>\n",
       "    <tr>\n",
       "      <th>2</th>\n",
       "      <td>[04a-01]</td>\n",
       "      <td>Maryland</td>\n",
       "      <td>[Maryland iMap]</td>\n",
       "      <td>[http://data.imap.maryland.gov]</td>\n",
       "      <td>https://geo.btaa.org/?q=04a</td>\n",
       "      <td>1142</td>\n",
       "      <td>[[[[-75.71, 38.65], [-75.71, 38.65], [-75.72, ...</td>\n",
       "    </tr>\n",
       "    <tr>\n",
       "      <th>3</th>\n",
       "      <td>[06a-02, 06a-01]</td>\n",
       "      <td>Michigan</td>\n",
       "      <td>[Michigan DNR Open Data Portal, State of Michi...</td>\n",
       "      <td>[https://gis-midnr.opendata.arcgis.com, http:/...</td>\n",
       "      <td>https://geo.btaa.org/?q=06a</td>\n",
       "      <td>2819</td>\n",
       "      <td>[[[[-88.5, 48.17], [-88.5, 48.17], [-89.16, 47...</td>\n",
       "    </tr>\n",
       "    <tr>\n",
       "      <th>4</th>\n",
       "      <td>[05a-02, 05a-01]</td>\n",
       "      <td>Minnesota</td>\n",
       "      <td>[Minnesota Legislative Coordinating Commission...</td>\n",
       "      <td>[https://www.gis.leg.mn/html/download.html, ht...</td>\n",
       "      <td>https://geo.btaa.org/?q=05a</td>\n",
       "      <td>4136</td>\n",
       "      <td>[[[-91.73, 43.5], [-91.73, 43.5], [-91.61, 43....</td>\n",
       "    </tr>\n",
       "  </tbody>\n",
       "</table>\n",
       "</div>"
      ],
      "text/plain": [
       "                                           stateCode      State  \\\n",
       "0                           [01d-02, 09a-02, 09a-03]    Indiana   \n",
       "1  [03a-01-001, 03a-02, www_iowadatacenter_org, 0...       Iowa   \n",
       "2                                           [04a-01]   Maryland   \n",
       "3                                   [06a-02, 06a-01]   Michigan   \n",
       "4                                   [05a-02, 05a-01]  Minnesota   \n",
       "\n",
       "                                               Title  \\\n",
       "0  [Indiana Spatial Data Portal, Indiana Statewid...   \n",
       "1  [Interactive map of coal mines in Iowa, IowaDO...   \n",
       "2                                    [Maryland iMap]   \n",
       "3  [Michigan DNR Open Data Portal, State of Michi...   \n",
       "4  [Minnesota Legislative Coordinating Commission...   \n",
       "\n",
       "                                           sourceURL  \\\n",
       "0  [http://gis.iu.edu, https://doi.org/10.5069/G9...   \n",
       "1  [https://programs.iowadnr.gov/maps/coalmines/,...   \n",
       "2                    [http://data.imap.maryland.gov]   \n",
       "3  [https://gis-midnr.opendata.arcgis.com, http:/...   \n",
       "4  [https://www.gis.leg.mn/html/download.html, ht...   \n",
       "\n",
       "                       btaaURL  totalRecords  \\\n",
       "0  https://geo.btaa.org/?q=01d          4819   \n",
       "1  https://geo.btaa.org/?q=03a           836   \n",
       "2  https://geo.btaa.org/?q=04a          1142   \n",
       "3  https://geo.btaa.org/?q=06a          2819   \n",
       "4  https://geo.btaa.org/?q=05a          4136   \n",
       "\n",
       "                                         boundingBox  \n",
       "0  [[[-86.34, 38.18], [-86.34, 38.18], [-86.3, 38...  \n",
       "1  [[[-91.12, 40.71], [-91.12, 40.71], [-91.09, 4...  \n",
       "2  [[[[-75.71, 38.65], [-75.71, 38.65], [-75.72, ...  \n",
       "3  [[[[-88.5, 48.17], [-88.5, 48.17], [-89.16, 47...  \n",
       "4  [[[-91.73, 43.5], [-91.73, 43.5], [-91.61, 43....  "
      ]
     },
     "execution_count": 11,
     "metadata": {},
     "output_type": "execute_result"
    }
   ],
   "source": [
    "## Join on column 'State' from left dataframe df_group\n",
    "df_merge = pd.merge(df_group, df_allState, on = 'State', how = 'left')\n",
    "df_merge.head()"
   ]
  },
  {
   "cell_type": "markdown",
   "metadata": {},
   "source": [
    "### Create state GeoJSON features"
   ]
  },
  {
   "cell_type": "code",
   "execution_count": 12,
   "metadata": {},
   "outputs": [
    {
     "name": "stdout",
     "output_type": "stream",
     "text": [
      "> Creating state GeoJSON features...\n"
     ]
    }
   ],
   "source": [
    "def create_geojson_features(df):\n",
    "    print('> Creating state GeoJSON features...')\n",
    "    features = []\n",
    "    geometry_type = ''\n",
    "    geojson = {\n",
    "        'type': 'FeatureCollection',\n",
    "        'features': features\n",
    "    }\n",
    "        \n",
    "    for _, row in df.iterrows():\n",
    "        if type(row['boundingBox'][0][0][0]) is float:\n",
    "            geometry_type = 'Polygon'\n",
    "        else:\n",
    "            geometry_type = 'MultiPolygon'\n",
    "            \n",
    "        feature = {\n",
    "            'type': 'Feature',\n",
    "            'geometry': {\n",
    "                'type': geometry_type, \n",
    "                'coordinates': row['boundingBox']\n",
    "            },\n",
    "            'properties': {\n",
    "                'State': row['State'],\n",
    "                'Title': '|'.join([str(elem) for elem in row['Title']]),\n",
    "                'sourceURL': '|'.join([str(elem) for elem in row['sourceURL']]), \n",
    "                'btaaURL': row['btaaURL'],\n",
    "                'totalRecords': row['totalRecords']\n",
    "            }\n",
    "           }\n",
    "\n",
    "        features.append(feature)\n",
    "    return geojson\n",
    "\n",
    "data_geojson = create_geojson_features(df_merge)"
   ]
  },
  {
   "cell_type": "markdown",
   "metadata": {},
   "source": [
    "### Write to state TopoJSON file `activeStates.topo.json`"
   ]
  },
  {
   "cell_type": "code",
   "execution_count": 13,
   "metadata": {},
   "outputs": [
    {
     "name": "stdout",
     "output_type": "stream",
     "text": [
      "> Creating state TopoJSON file...\n"
     ]
    }
   ],
   "source": [
    "state_geojson = gpd.GeoDataFrame.from_features(data_geojson[\"features\"])\n",
    "# TopoJSON is an extension of GeoJSON to compress geometry information\n",
    "topo = tp.Topology(state_geojson)\n",
    "topo.to_json(activestates)\n",
    "print('> Creating state TopoJSON file...')"
   ]
  },
  {
   "cell_type": "markdown",
   "metadata": {},
   "source": [
    "### Inspect state TopoJSON"
   ]
  },
  {
   "cell_type": "code",
   "execution_count": 14,
   "metadata": {},
   "outputs": [
    {
     "data": {
      "text/html": [
       "\n",
       "<div id=\"altair-viz-3097d861f4d044bd8ea8e9f25709aa96\"></div>\n",
       "<script type=\"text/javascript\">\n",
       "  (function(spec, embedOpt){\n",
       "    let outputDiv = document.currentScript.previousElementSibling;\n",
       "    if (outputDiv.id !== \"altair-viz-3097d861f4d044bd8ea8e9f25709aa96\") {\n",
       "      outputDiv = document.getElementById(\"altair-viz-3097d861f4d044bd8ea8e9f25709aa96\");\n",
       "    }\n",
       "    const paths = {\n",
       "      \"vega\": \"https://cdn.jsdelivr.net/npm//vega@5?noext\",\n",
       "      \"vega-lib\": \"https://cdn.jsdelivr.net/npm//vega-lib?noext\",\n",
       "      \"vega-lite\": \"https://cdn.jsdelivr.net/npm//vega-lite@4.8.1?noext\",\n",
       "      \"vega-embed\": \"https://cdn.jsdelivr.net/npm//vega-embed@6?noext\",\n",
       "    };\n",
       "\n",
       "    function loadScript(lib) {\n",
       "      return new Promise(function(resolve, reject) {\n",
       "        var s = document.createElement('script');\n",
       "        s.src = paths[lib];\n",
       "        s.async = true;\n",
       "        s.onload = () => resolve(paths[lib]);\n",
       "        s.onerror = () => reject(`Error loading script: ${paths[lib]}`);\n",
       "        document.getElementsByTagName(\"head\")[0].appendChild(s);\n",
       "      });\n",
       "    }\n",
       "\n",
       "    function showError(err) {\n",
       "      outputDiv.innerHTML = `<div class=\"error\" style=\"color:red;\">${err}</div>`;\n",
       "      throw err;\n",
       "    }\n",
       "\n",
       "    function displayChart(vegaEmbed) {\n",
       "      vegaEmbed(outputDiv, spec, embedOpt)\n",
       "        .catch(err => showError(`Javascript Error: ${err.message}<br>This usually means there's a typo in your chart specification. See the javascript console for the full traceback.`));\n",
       "    }\n",
       "\n",
       "    if(typeof define === \"function\" && define.amd) {\n",
       "      requirejs.config({paths});\n",
       "      require([\"vega-embed\"], displayChart, err => showError(`Error loading script: ${err.message}`));\n",
       "    } else if (typeof vegaEmbed === \"function\") {\n",
       "      displayChart(vegaEmbed);\n",
       "    } else {\n",
       "      loadScript(\"vega\")\n",
       "        .then(() => loadScript(\"vega-lite\"))\n",
       "        .then(() => loadScript(\"vega-embed\"))\n",
       "        .catch(showError)\n",
       "        .then(() => displayChart(vegaEmbed));\n",
       "    }\n",
       "  })({\"config\": {\"view\": {\"continuousWidth\": 400, \"continuousHeight\": 300}}, \"data\": {\"name\": \"data-41bd04b2dd0e3777fd4b4765725e913a\", \"format\": {\"mesh\": \"data\", \"type\": \"topojson\"}}, \"mark\": {\"type\": \"geoshape\", \"filled\": false}, \"projection\": {\"reflectY\": true, \"type\": \"identity\"}, \"title\": \"State Topology\", \"width\": 300, \"$schema\": \"https://vega.github.io/schema/vega-lite/v4.8.1.json\", \"datasets\": {\"data-41bd04b2dd0e3777fd4b4765725e913a\": \"{\\\"type\\\":\\\"Topology\\\",\\\"objects\\\":{\\\"data\\\":{\\\"geometries\\\":[{\\\"properties\\\":{\\\"State\\\":\\\"Indiana\\\",\\\"Title\\\":\\\"Indiana Spatial Data Portal|Indiana Statewide LiDAR: 2011-2013|Indiana Statewide LiDAR: 2016-2019\\\",\\\"sourceURL\\\":\\\"http://gis.iu.edu|https://doi.org/10.5069/G9959FHZ|https://lidar.jinha.org/\\\",\\\"btaaURL\\\":\\\"https://geo.btaa.org/?q=01d\\\",\\\"totalRecords\\\":4819},\\\"type\\\":\\\"Polygon\\\",\\\"arcs\\\":[[-26,0,-15,-20,1]],\\\"id\\\":0},{\\\"properties\\\":{\\\"State\\\":\\\"Iowa\\\",\\\"Title\\\":\\\"Interactive map of coal mines in Iowa|IowaDOT Open Data|State Data Center of Iowa|Iowa Geodata|Election Data: Iowa\\\",\\\"sourceURL\\\":\\\"https://programs.iowadnr.gov/maps/coalmines/|https://public-iowadot.opendata.arcgis.com|https://www.iowadatacenter.org/|https://geodata.iowa.gov|https://sos.iowa.gov/elections/otherinfo.html\\\",\\\"btaaURL\\\":\\\"https://geo.btaa.org/?q=03a\\\",\\\"totalRecords\\\":836},\\\"type\\\":\\\"Polygon\\\",\\\"arcs\\\":[[2,-18,3,-17,4,-24]],\\\"id\\\":1},{\\\"properties\\\":{\\\"State\\\":\\\"Maryland\\\",\\\"Title\\\":\\\"Maryland iMap\\\",\\\"sourceURL\\\":\\\"http://data.imap.maryland.gov\\\",\\\"btaaURL\\\":\\\"https://geo.btaa.org/?q=04a\\\",\\\"totalRecords\\\":1142},\\\"type\\\":\\\"MultiPolygon\\\",\\\"arcs\\\":[[[-31,5]],[[6]],[[7]],[[8]]],\\\"id\\\":2},{\\\"properties\\\":{\\\"State\\\":\\\"Michigan\\\",\\\"Title\\\":\\\"Michigan DNR Open Data Portal|State of Michigan Open Data Portal\\\",\\\"sourceURL\\\":\\\"https://gis-midnr.opendata.arcgis.com|http://gis-michigan.opendata.arcgis.com\\\",\\\"btaaURL\\\":\\\"https://geo.btaa.org/?q=06a\\\",\\\"totalRecords\\\":2819},\\\"type\\\":\\\"MultiPolygon\\\",\\\"arcs\\\":[[[9]],[[10]],[[11]],[[12]],[[13,-21,14]]],\\\"id\\\":3},{\\\"properties\\\":{\\\"State\\\":\\\"Minnesota\\\",\\\"Title\\\":\\\"Minnesota Legislative Coordinating Commission - Geospatial Information (LCC-GIS)|Minnesota Geospatial Commons\\\",\\\"sourceURL\\\":\\\"https://www.gis.leg.mn/html/download.html|https://gisdata.mn.gov\\\",\\\"btaaURL\\\":\\\"https://geo.btaa.org/?q=05a\\\",\\\"totalRecords\\\":4136},\\\"type\\\":\\\"Polygon\\\",\\\"arcs\\\":[[15,16]],\\\"id\\\":4},{\\\"properties\\\":{\\\"State\\\":\\\"Nebraska\\\",\\\"Title\\\":\\\"Natural Resources Data Bank|Nebraska Department of Transportation Map Gallery|Nebraska Game & Parks Map and Data Portal|NebraskaMap\\\",\\\"sourceURL\\\":\\\"https://dnr.nebraska.gov/data|https://dot.nebraska.gov/travel/map-library/|https://data-outdoornebraska.opendata.arcgis.com/|https://www.nebraskamap.gov\\\",\\\"btaaURL\\\":\\\"https://geo.btaa.org/?q=13a\\\",\\\"totalRecords\\\":212},\\\"type\\\":\\\"Polygon\\\",\\\"arcs\\\":[[17,18]],\\\"id\\\":5},{\\\"properties\\\":{\\\"State\\\":\\\"Ohio\\\",\\\"Title\\\":\\\"Ohio Public Utilities Commission Maps and GIS Data Directory|Ohio Spatial Data Infrastructure Downloads|GEOhio Spatial Data Discovery Portal\\\",\\\"sourceURL\\\":\\\"https://www.puco.ohio.gov/utility-maps/maps-and-gis-data-directory/?dirPath=GIS_Data%2F|https://ogrip.oit.ohio.gov/ServicesData/GEOhioSpatialInformationPortal/OhioSpatialDataInfrastructure-Downloads.aspx|http://ogrip-geohio.opendata.arcgis.com\\\",\\\"btaaURL\\\":\\\"https://geo.btaa.org/?q=11a\\\",\\\"totalRecords\\\":723},\\\"type\\\":\\\"Polygon\\\",\\\"arcs\\\":[[19,20,21,-29,22]],\\\"id\\\":6},{\\\"properties\\\":{\\\"State\\\":\\\"Illinois\\\",\\\"Title\\\":\\\"State of Illinois Data Portal\\\",\\\"sourceURL\\\":\\\"https://data.illinois.gov\\\",\\\"btaaURL\\\":\\\"https://geo.btaa.org/?q=02a\\\",\\\"totalRecords\\\":184},\\\"type\\\":\\\"Polygon\\\",\\\"arcs\\\":[[23,24,25,26]],\\\"id\\\":7},{\\\"properties\\\":{\\\"State\\\":\\\"Pennsylvania\\\",\\\"Title\\\":\\\"Pennsylvania Department of Conservation and Natural Resources Open Data Portal|PASDA: The Pennsylvania Geospatial Data Clearinghouse\\\",\\\"sourceURL\\\":\\\"https://newdata-dcnr.opendata.arcgis.com|http://www.pasda.psu.edu\\\",\\\"btaaURL\\\":\\\"https://geo.btaa.org/?q=08a\\\",\\\"totalRecords\\\":1940},\\\"type\\\":\\\"Polygon\\\",\\\"arcs\\\":[[27,28,29,30]],\\\"id\\\":8}],\\\"type\\\":\\\"GeometryCollection\\\"}},\\\"bbox\\\":[-104.06,36.99,-74.7,49.37],\\\"transform\\\":{\\\"scale\\\":[0.00029360293602936026,0.00012380123801238008],\\\"translate\\\":[-104.06,36.99]},\\\"arcs\\\":[[[56301,38206],[238,-403],[136,80],[-68,-161],[170,-243],[545,0],[988,727],[375,404]],[[65565,17043],[-68,0],[-205,-242],[0,-161],[34,-162],[137,-162],[34,-242],[-68,-242],[-103,-162],[0,-161],[68,-81],[205,0],[34,-162],[0,-80],[-102,-323],[0,-324],[-545,-80],[-171,-162],[-136,-81],[-170,-323],[-136,-81],[-171,0],[-204,324],[-511,0],[-102,-162],[0,-242],[102,-889],[0,-161],[-34,-162],[-136,-161],[-136,-404],[-341,-162],[-102,-565],[-34,-323],[-102,-324],[-239,-242],[-136,81],[-68,81],[-102,-81],[-34,-323],[-205,-485],[0,-969],[-68,-242],[-102,-162],[-170,-81],[-69,-81],[-68,-161],[-170,323],[-306,81],[-205,161],[-102,162],[-34,161],[-34,566],[-136,242],[-68,81],[-103,0],[0,-162],[171,-80],[0,-243],[-171,-80],[-68,-81],[-136,161],[-34,0],[-34,-161],[102,-162],[0,-81],[-68,-161],[-136,-81],[-68,0],[-35,-242],[0,-243],[35,-403],[0,-81],[-69,-81],[-136,81],[-68,-81],[-34,-485],[-136,-80],[-68,0],[0,80],[34,323],[-34,81],[-68,0],[-137,-161],[-68,80],[-170,647],[-102,80],[-102,0],[-137,-323],[-102,-80],[-204,-81],[-68,-81],[-103,-81],[-102,-807],[-136,-243],[-68,81],[-102,323],[-68,81],[-171,81],[-136,161],[-136,162],[-273,323],[-204,81],[-170,-162],[-341,404],[-102,-404],[136,-242],[0,-243],[-68,-161],[-136,-81],[-102,81],[0,484],[-103,0],[-68,-80],[-68,80],[-238,-161],[-136,81],[-137,242],[-68,0],[-34,-162],[-34,-161],[102,-323],[-34,-242],[-68,-81],[-68,-162],[-170,162],[-103,81]],[[42949,27302],[-102,161],[-34,0],[-34,162],[-102,0],[0,242],[-34,0],[34,162],[-171,0],[-34,161],[-102,162],[0,242],[-238,162],[0,242],[-102,81],[-69,161],[-715,0],[-817,-80],[-579,0],[-988,-81],[-238,0],[-1295,-81],[-2350,0],[-783,-81],[-1601,0],[-511,81],[-2520,0],[-1329,81]],[[25953,44426],[-136,242],[-34,323],[-34,81],[34,81],[-68,404],[-102,242],[-68,81],[-239,323],[-34,323],[34,243],[102,161],[35,323],[68,-81],[34,162],[68,404],[0,81],[102,323],[-34,323],[68,161],[-68,323],[136,81],[68,162],[0,81],[34,323],[-68,646],[-68,81],[-238,80],[-34,81],[34,81],[-34,81],[-34,242],[136,162],[68,403],[-34,162],[-102,162],[-102,323],[34,323],[-69,161],[477,0]],[[43733,52584],[-69,-323],[103,-323],[34,-404],[68,-161],[340,-323],[34,-243],[0,-161],[-306,-889],[-34,-565],[34,0],[34,-646],[34,-566],[170,-485],[34,-726],[34,-324],[239,-242],[272,-242],[102,0],[477,-162],[205,-161],[102,-566],[68,-81],[34,-242],[-34,-161]],[[96287,22051],[68,-2746],[34,-646],[0,-404],[34,-888],[102,-2504],[34,-1454],[0,-727],[34,-808],[1192,0],[886,-81],[-205,-646],[0,-808],[-374,-565],[-375,-1050],[0,-404],[-886,-162],[-68,-242],[-749,81],[341,969],[-443,646],[204,404],[-68,81],[239,161],[-341,0],[68,808],[-68,162],[-204,-808],[-137,0],[-102,323],[-170,-485],[-749,1454],[0,323],[340,485],[-204,485],[749,-243],[0,404],[-68,-242],[-102,161],[-136,808],[-171,0],[-170,404],[-170,81],[-239,-727],[-34,161],[273,1051],[272,-485],[68,161],[205,808],[102,0],[-68,81],[0,404],[-34,-242],[-307,403],[307,1212],[-375,-242],[-68,323],[68,565],[375,969],[238,324],[647,161],[-443,81],[103,646],[-69,404],[-204,404],[-170,-242],[-239,-1131],[-272,-243],[-443,162],[-136,-1292],[-443,80],[-238,162],[136,-242],[-68,-243],[-102,-161],[68,-162],[102,323],[477,-646],[-171,-1696],[-272,-1212],[102,-404],[34,-1534],[409,-1051],[-68,-323],[-34,-242],[-171,162],[-170,565],[-443,323],[1056,-1938],[34,-1293],[-851,1373],[-613,81],[-341,1292],[-170,-727],[-205,243],[-102,808],[-749,-324],[-136,162],[-68,646],[511,1293],[34,242],[102,161],[34,162],[68,-81],[34,81],[0,565],[477,808],[-341,646],[-102,162],[-272,-485],[-103,243],[-306,161],[-68,404],[-205,242],[-102,81],[-272,0],[-102,81],[-69,161],[-102,162],[-34,323],[136,162],[69,323],[0,81],[-103,161],[-170,162],[-102,242],[-170,0],[-205,161],[-170,0],[-68,81],[0,243],[-34,161],[68,162],[-68,242],[-136,0],[0,242],[34,0],[-34,162],[102,161],[-205,-80],[-68,80],[68,81],[0,162],[-34,0],[-68,-162],[-34,323],[-68,81],[136,81],[34,0],[0,323],[-68,-81],[-102,162],[0,-162],[-34,0],[-136,162],[-34,0],[34,-243],[-68,162],[-137,-81],[-102,162],[-204,484],[-307,81],[-68,-81],[-102,-80],[0,-81],[-102,-162],[-34,-161],[-273,161],[-34,-80],[-68,0],[0,-162],[-170,81],[102,-243],[-170,0],[-34,-80],[136,-243],[-102,0],[-34,-161],[-69,-81],[-102,81],[-170,-81],[-136,162],[-136,-81],[-35,81],[-68,0],[-170,161],[-34,162],[-102,0],[-34,161],[102,81],[34,81],[0,81],[-136,0],[0,80],[-102,-80],[0,-81],[-69,-243],[35,-161],[-103,-81],[-102,-242],[-306,-566],[-34,-161],[-273,323],[-34,81],[-34,-162],[-102,0],[0,-161],[-102,-243],[-103,-81],[0,-161],[-340,-323],[-68,-162],[-68,-242],[-171,-81],[-102,-161],[-238,-485],[-34,0],[-103,-81],[35,4200]],[[94584,15509],[0,484],[-171,-80],[102,-162],[-34,-242],[-68,81],[34,-324],[-170,-242],[68,889],[204,646],[171,-485],[0,-484],[-68,242],[-68,-323]],[[98739,11793],[68,0],[-136,-1050],[68,1050]],[[98058,8401],[102,80],[102,404],[170,889],[239,969],[-273,-1615],[-238,-727],[-102,0]],[[52997,90306],[-443,-1131],[-920,-565],[-442,-889],[-375,-242],[-170,161],[-34,324],[136,484],[2248,1858]],[[52997,83198],[204,565],[783,727],[1431,162],[307,-404],[-137,-242],[-613,-243],[-1022,-1292],[-647,-1696],[-204,969],[-409,161],[-34,889],[341,404]],[[61988,72536],[-170,-81],[-34,-323],[-511,323],[-647,-81],[-204,-323],[-68,-646],[-409,-566],[-239,-80],[35,-243],[-205,-81],[-170,-726],[-204,242],[-35,323],[409,969],[-613,162],[-477,-970],[-749,-80],[-477,-1212],[-238,-1050],[-852,-2100],[-34,-404],[-272,242],[-205,323],[-34,162],[68,81],[0,242],[34,81],[35,161],[170,647],[34,80],[-170,243],[-239,-323],[-238,80],[-34,-80],[-68,161],[-34,0],[0,-81],[-35,81],[103,323],[-34,323],[170,162],[68,242],[-68,323],[-68,243],[136,0],[34,242],[0,81],[-136,323],[0,161],[136,81],[-68,162],[0,80],[-136,81],[-102,243],[-341,161],[-68,242],[-205,-80],[-136,0],[-136,242],[34,81],[170,323],[-102,161],[34,243],[-68,81],[-136,80],[-102,81],[-103,0],[-170,162],[-136,-81],[-68,81],[-170,161],[-103,-81],[-170,162],[-102,0],[-34,81],[-102,80],[-103,0],[-102,-80],[-68,80],[-68,-242],[-68,0],[-136,242],[-68,0],[-103,81],[-136,-81],[-34,81],[-34,81],[-34,-81],[-443,323],[-204,243],[-375,404],[-2827,1211],[-613,323],[-34,243],[-68,161],[-68,404],[-170,565],[-171,0],[-34,81],[-102,81],[0,81],[-34,81],[-273,-81],[-68,242],[1329,889],[442,727],[341,403],[1362,243],[614,565],[272,646],[477,0],[204,243],[170,565],[852,1050],[34,-808],[375,-161],[0,-646],[238,-323],[-34,-485],[-102,-565],[102,-485],[920,1212],[-34,-404],[510,80],[477,0],[818,-565],[987,-2666],[886,-80],[341,323],[476,-808],[375,404],[409,-566],[613,1131],[1056,889],[170,-81],[817,242],[1227,-161],[919,727],[954,81],[-273,-647],[34,-1130],[-102,-324],[102,-242],[307,81],[443,-404],[579,323],[204,-565],[511,565],[375,81],[442,-1939],[-306,-323],[68,-323],[443,81],[306,-404],[-102,-323],[239,-485],[306,-161],[-34,-404],[-681,161],[-818,162],[-510,-162],[-409,485],[-239,0],[-136,-1454],[-408,242],[-716,1050],[-1090,647],[-442,0],[-511,-1050],[-682,0]],[[68834,72859],[171,-162],[136,323],[307,81],[-35,242],[-170,81],[273,162],[204,-81],[204,-646],[205,-162],[-171,-484],[-204,-81],[-170,242],[-579,-81],[-171,485],[-136,-242],[136,323]],[[58685,38610],[715,1131],[409,1777],[442,969],[307,1374],[204,2827],[-170,2827],[-647,2908],[-273,1454],[307,888],[170,0],[-102,81],[0,323],[-102,1050],[68,0],[-272,808],[442,1050],[409,1373],[102,1373],[-68,1454],[511,243],[102,403],[-68,566],[102,404],[920,727],[647,1696],[136,-162],[-272,-1777],[34,-1454],[374,-161],[273,808],[238,1211],[-34,1616],[68,484],[205,404],[749,404],[341,0],[238,323],[-545,404],[-136,889],[136,484],[341,404],[34,485],[851,323],[852,-1050],[511,161],[374,-323],[239,-484],[102,-566],[647,-81],[477,-646],[238,0],[409,-484],[307,80],[34,-242],[340,-485],[-102,-80],[68,-404],[307,-889],[-443,-404],[34,-323],[-102,-81],[102,-565],[375,-565],[136,-1293],[-136,-1454],[-137,-1454],[-579,-646],[-136,-727],[-102,-808],[-341,-565],[-579,-323],[-170,-323],[-68,-1777],[817,-808],[171,81],[408,969],[137,-242],[68,404],[340,727],[137,807],[1328,1050],[443,-323],[272,-484],[375,-1454],[34,-808],[375,-4200],[272,-1616],[-170,-565],[0,-1131],[-171,-1050],[-442,0],[68,323],[-341,81],[-306,-323],[68,-243],[-307,-888],[68,-323],[-204,-808],[-613,-565],[-273,-1374],[0,-727],[-987,-2423]],[[65633,38045],[0,485],[-4905,0],[-1022,80],[-1021,0]],[[25885,52584],[0,11874],[34,2504],[-34,162],[-68,242],[-170,404],[-273,161],[-272,81],[-170,404],[-103,485],[-238,484],[-34,243],[68,323],[579,727],[204,565],[35,81],[68,889],[34,161],[-68,565],[102,647],[-68,646],[-68,81],[0,242],[-35,162],[0,807],[-34,81],[-136,81],[-136,404],[-68,161],[0,323],[-102,162],[-34,808],[-69,80],[-34,162],[-34,81],[0,404],[34,242],[0,404],[-68,404],[102,242],[-34,242],[69,404],[0,162],[-103,-81],[0,162],[-34,80],[34,81],[-102,0],[0,242],[-68,81],[68,162],[-34,404],[34,80],[-68,485],[34,162],[-34,565],[-34,162],[34,242],[-34,161],[34,243],[-34,161],[34,162],[-34,242],[-68,0],[34,242],[-34,162],[68,323],[-34,162],[34,161],[-34,162],[34,323],[-68,161],[-68,404],[-102,323],[-35,404],[-102,243],[-68,161],[0,162],[-68,323],[-68,81],[0,323],[-102,242],[-68,808],[-68,161],[-35,243],[-68,161],[0,162],[-68,80],[68,81],[-68,81],[0,242],[34,0],[68,81],[-102,81],[102,81],[-68,0],[34,242],[-68,0],[102,162],[0,80],[0,0],[0,81],[-68,81],[68,81],[-102,80],[34,243],[-68,0],[68,81],[-34,80],[-68,81],[102,162],[-68,0],[0,80],[102,0],[0,162],[-68,0],[34,646],[-68,0],[34,81],[-68,81],[0,80],[34,0],[-68,81],[68,81],[-34,81],[68,81],[0,161],[68,81],[-34,81],[68,0],[34,323],[-68,242],[34,81],[-68,161],[0,162],[-68,81],[34,0],[-34,161],[-68,162],[34,81],[-68,80],[34,162],[-34,242],[-136,485],[-34,565],[7050,0],[34,2989],[1090,-323],[511,-3635],[-34,-808],[409,-565],[953,0],[205,-485],[1328,-242],[102,-727],[102,-162],[920,162],[136,161],[34,324],[545,403],[715,-80],[477,0],[750,-727],[306,0],[34,-323],[-238,-81],[-34,-242],[715,-162],[136,-323],[-34,-323],[341,-1131],[306,161],[-68,485],[68,404],[511,162],[307,-81],[204,-889],[647,-323],[273,-81],[34,-727],[442,-80],[0,-485],[1124,323],[716,969],[579,404],[408,-1292],[579,242],[34,-242],[1397,161],[409,-161],[136,-566],[306,-242],[511,323],[750,-242],[-341,-81],[-34,-242],[-1226,-1131],[-1737,-889],[-1737,-2019],[-1533,-2746],[-1124,-1535],[-988,-1131],[-408,-969],[-307,0],[34,-81],[0,-4766],[-136,-80],[-68,-324],[-34,0],[-205,81],[-136,-404],[-204,0],[-102,-242],[-409,-242],[-136,-243],[-68,-403],[-69,0],[-102,-647],[-170,-242],[-102,-162],[-102,-565],[34,-485],[136,-161],[272,0],[103,-81],[136,-646],[136,-81],[34,-161],[-34,-324],[-204,-646],[-137,-161],[-34,-727],[0,-162],[68,-242],[-34,-404],[-170,-323],[136,-404],[-34,-162],[68,-484],[0,-162],[-68,-161],[34,-323],[0,-162],[-170,-727],[238,-323],[375,-565],[68,-243],[341,-242],[579,-242],[68,-81],[68,-404],[170,-242],[137,-162],[408,-161],[409,-485],[102,-162],[68,-161],[0,-243],[103,-242],[136,-565],[340,-404],[341,-566],[170,-242],[102,-81],[137,0],[340,-323],[205,-323],[272,-808],[136,-484],[-34,-566],[0,-323],[102,-646],[-34,-404],[69,-404]],[[43733,52584],[-17848,0]],[[25953,44426],[137,-161],[0,-243],[-68,-242],[34,-242],[-34,-243],[102,-161],[68,-243],[102,-161],[34,-162],[-34,-242],[-68,-162],[34,-323],[204,-404],[68,-565],[103,-162],[0,-242],[136,0],[34,-161],[136,-81],[0,-404],[-34,-162],[68,-323],[205,-565],[-69,-323],[0,-162],[35,-242],[-103,-81],[0,-81],[68,-242],[-34,-404],[103,-161],[-34,-162],[0,-162],[136,-161],[170,161],[34,-80],[-34,-162],[-34,-161],[0,-81],[204,-81],[34,-81],[0,-969],[171,-323],[-34,-81],[-34,162],[-69,-81],[69,-566],[-34,-161],[0,-162],[204,-80],[0,-81],[-68,-81],[68,-404],[-68,-323],[68,-242],[0,-323],[68,-243],[0,-565],[34,-242],[-68,-162],[0,-485],[-102,-484],[374,-727],[34,-162],[-34,-242]],[[28235,29079],[34,-323],[69,-162],[170,-81],[0,324],[34,80],[68,-80],[0,-243],[-68,-161],[-68,-162],[204,-727],[34,-323],[34,-81],[0,-161],[-102,-81],[0,-81],[170,0],[171,-323],[238,-323],[34,-162],[34,-323],[136,-323],[103,-81],[34,-161],[-68,-162],[-34,-242],[136,-162],[68,-80],[136,-162],[-68,-81],[-1533,0],[-749,81],[-817,-81],[-1908,0],[-374,81],[-17507,0],[0,8078],[-6812,0],[0,3150],[-34,1373],[34,1131],[0,2423],[-34,4927],[0,3151],[4326,0],[2384,-81],[12227,0],[136,-404],[239,-162],[272,-323],[477,-323],[102,0],[68,-161],[0,-81],[307,-323],[238,0],[103,161],[136,323],[0,243],[238,80],[68,-161],[102,0],[137,81],[136,-162],[204,162],[205,-81],[204,81],[102,0],[68,-81],[239,161],[272,-80],[136,-81],[103,0],[68,-81],[34,-242],[170,-81],[102,-242],[375,-81],[136,0],[34,-81],[-34,-161],[34,-81],[205,81],[340,-243],[0,-161],[34,-81],[273,0],[68,-81],[34,-161],[-102,-162],[34,-81],[238,-484],[34,-243],[68,-80],[103,80],[102,0],[204,-242],[170,0]],[[65565,17043],[0,6624],[34,727],[0,2504],[34,242],[0,10905]],[[65633,38045],[1396,81],[68,0],[1669,80],[375,0],[954,81]],[[70095,38287],[1124,-808],[511,-727],[681,0],[68,-242],[-988,-404],[545,-242],[647,161],[579,-484],[715,323],[1090,727],[205,-162],[749,-80],[886,1130],[408,727],[1226,1050],[1635,1131]],[[80176,29483],[-170,-162],[-136,0],[-102,-81],[-103,-242],[0,-81],[137,-242],[0,-323],[102,-162],[-102,-646],[0,-81],[68,-161],[34,-485],[-34,-242],[-136,-242],[-103,-485],[-68,-162],[0,-161],[-136,-889],[0,-484],[-68,-243],[0,-242],[-34,-81],[-102,81],[-34,0],[0,-162],[68,-242],[-34,-81],[-103,-161],[35,-243],[-171,-403],[34,-162],[102,-162],[0,-161],[-102,-162],[-34,-161],[-34,-323],[-102,-81],[-68,0],[-170,-242],[-171,-323],[-34,-81],[-204,-243],[-68,-242],[-205,-242],[-68,-162],[-68,-81],[-68,-161],[-136,0],[-205,-323],[-136,0],[-170,484],[-136,0],[-239,-484],[-68,-162],[-34,-484],[-341,0],[-68,-81],[-34,-323],[-68,-81],[-136,-242],[68,-404],[-34,-323],[-136,-81],[-102,0],[0,-81],[34,-242],[102,-162],[0,-404],[68,-323],[-68,-80],[-136,242],[-69,-81],[-102,-404],[-68,-161],[-102,80],[-34,81],[102,323],[-102,404],[-34,81],[-136,0],[-69,242],[-136,-81],[-68,-161],[-102,-81],[-34,-242],[-136,-404],[-34,-485],[-171,-323],[-68,-161],[136,-566],[-34,-242],[68,-404],[-34,-242],[-102,-162],[-204,81],[-68,-81],[-68,-888],[-68,-243],[-205,-80],[-68,0],[-272,-162],[-205,-81],[-102,0],[-34,81],[-68,485],[-205,242],[-102,323],[-136,81],[-204,81],[-102,80],[-69,243],[-34,404],[-68,242],[34,323],[-68,162],[-102,80],[-170,-242],[-205,-81],[-102,-161],[-170,-243],[-102,-323],[-137,-81],[-238,81],[-68,-81],[-68,-80],[-68,0],[-34,80],[-34,162],[-137,162],[-272,80],[-170,243],[-103,80],[-306,-161],[-34,-162],[-34,-161],[-68,-162],[-69,0],[-102,162],[-204,81],[-68,323],[-170,161],[-69,243],[-170,161],[-170,162],[-307,-162],[-136,81],[-307,161],[-170,162],[-34,485],[-68,404],[-102,161],[-68,565],[-137,243],[-136,0],[-102,81],[-68,484],[-170,0],[-103,-161],[-238,-162],[-102,0],[-170,162],[-239,404],[-170,-243],[-68,-81]],[[42949,27302],[102,161],[103,0],[68,81],[-68,404],[68,404],[-34,242],[-103,162],[0,161],[103,243],[408,323],[137,0],[204,161],[102,162],[34,242],[102,404],[0,565],[137,404],[238,323],[68,243],[34,969],[-34,242],[-102,323],[-102,243],[-137,81],[-136,403],[0,324],[102,484],[34,566],[103,161],[102,81],[170,-81],[375,162],[204,80],[239,0],[170,81],[204,404],[205,162],[272,0],[68,80],[68,243],[239,161],[34,81],[0,404],[34,565],[68,324],[170,161],[205,242],[170,970],[34,404],[-34,403],[-68,243],[0,323],[-34,161],[-34,0],[-137,323],[-306,324],[-170,80],[-137,243],[-34,161],[-34,646],[-34,162],[-170,242],[-239,243],[-170,323],[-136,161],[0,81],[34,162]],[[45708,44588],[749,0],[1703,-81],[1908,0],[1430,-81],[3883,0],[-136,-1454],[272,-1212],[307,-807],[204,-1697],[273,-1050]],[[56301,38206],[0,-7835],[-35,-2100],[0,-9208],[-204,-81],[-102,-242],[68,-81],[-34,-162],[34,-161],[102,-81],[-34,-323],[0,-81],[-68,0],[-102,-242],[-102,-162],[34,-161],[0,-162],[102,-81],[0,-80],[68,-81],[68,-162],[34,-484],[-34,-81],[136,-81],[69,-161],[0,-243],[-35,-242],[-68,-242],[34,-81],[137,-485],[-34,-161],[34,-81],[0,-242],[-103,-404],[-170,-162],[-136,-242],[0,-162],[34,-161],[-68,-81],[-34,-162],[-68,-161],[68,-242],[0,-162],[-102,0],[-34,-162],[-239,-80],[0,-81],[68,-81],[-34,-242],[-102,-323],[-170,-243],[-68,-484],[-34,0],[-34,242],[-35,0],[-34,-162],[-68,-161],[0,161],[-68,0],[-170,-484],[-34,-81],[34,-242],[170,-243],[0,-80],[-68,-162],[-68,-81],[-170,-242],[34,-81],[170,81],[-68,-242],[-170,-162],[-35,0],[0,-81],[69,-80],[-34,-162],[34,-242],[-69,-162],[0,-242],[-68,0],[-68,81],[0,-162],[171,0],[0,-81],[-35,-81],[-204,81],[0,-81],[68,-242],[171,-242],[-35,-81],[-170,0],[0,-81],[170,-80]],[[54563,6624],[-102,-566],[-204,-323],[-102,-323],[0,-242],[102,-404],[204,-566],[-68,-242],[-749,-323],[-170,-242],[-205,80],[-170,-161],[-136,-808],[34,-323],[170,-404],[102,-404],[-102,-484],[-102,-243],[-34,0],[-102,-81],[-137,81],[-170,323],[-272,243],[-171,0],[-34,80],[-374,404],[-239,162],[-204,0],[-273,-243],[-170,-646],[-102,-161],[-68,-243],[0,-242],[68,-242],[68,-81],[-204,0],[-68,323],[-103,81],[-68,404],[-136,0],[-34,-243],[170,-242],[0,-161],[-68,-81],[-102,81],[-238,323],[0,404],[-137,323],[-68,242],[-102,404],[0,242],[-68,81],[-68,161],[0,243],[34,161],[102,81],[102,162],[34,404],[-68,323],[-136,323],[-136,646],[68,404],[-34,242],[34,242],[-34,81],[-205,162],[-306,323],[-34,242],[-34,162],[-137,323],[-408,565],[-34,0],[-34,-161],[-103,-81],[-136,0],[-136,242],[68,404],[-170,81],[-102,161],[-273,324],[-34,161],[-272,323],[-137,243],[-136,403],[-170,162],[-68,323],[-34,727],[34,404],[68,161],[136,324],[102,727],[34,80],[68,243],[205,403],[0,404],[-68,323],[0,162],[136,404],[68,161],[68,81],[34,243],[-68,161],[-375,485],[-136,81],[-136,0],[-307,323],[-204,0],[-204,-566],[-137,-161],[-204,80],[-136,485],[-136,808],[0,161],[68,243],[-102,404],[0,484],[-35,162],[-34,242],[-136,404],[-238,404],[-341,404],[-306,323],[-69,242],[-102,485],[-238,161],[-136,404],[-409,727],[-170,242],[0,324],[-34,323],[-239,484],[0,243],[68,80],[0,162],[-68,242],[-136,485],[-34,485],[-68,484],[34,566],[34,404],[34,484],[136,485]],[[83719,22051],[-3543,0],[0,2424],[-34,1131],[34,1938],[0,1939]],[[80176,29483],[0,10904]],[[80176,40387],[2589,2262],[0,-2181],[14918,0],[102,-81],[102,-242],[137,-81],[102,-646],[272,0],[68,-81],[102,-81],[0,-80],[137,-243],[-68,-80],[0,-162],[136,-81],[0,-323],[-34,-161],[68,-566],[-68,-242],[0,-81],[136,-242],[68,-243],[136,-484],[137,0],[102,-162],[0,-161],[136,80],[238,-161],[137,0],[34,-81],[0,-161],[102,-162],[34,-242],[-307,-323],[0,-81],[-136,-162],[-136,-404],[34,-161],[-170,-566],[-136,-242],[-103,-81],[-34,-161],[68,0],[-102,-162],[-136,-242],[-102,-162],[-171,-80],[-68,-162],[0,-161],[205,-485],[34,-162],[34,-80],[34,-81],[-170,-162],[34,-161],[-34,-243],[-103,-161],[-136,0],[-68,-162],[0,-242],[-68,-242],[102,-162],[-102,-161],[34,-162],[0,-162],[34,-242],[-34,-81],[68,-80],[204,0],[137,-81],[68,-243],[-34,-484],[34,-323],[136,-162],[68,81],[102,-81],[69,-404],[68,-161],[34,-162],[136,-81],[136,-403],[341,-566],[34,-242],[-68,-243],[-273,0],[-136,-323],[-307,-161],[-68,-243],[-238,-161],[-68,-162],[-34,-80],[-102,0],[-103,-162],[-34,-242],[34,-243],[0,-161],[-170,0],[-204,-242],[-341,0],[-238,-404],[-171,242],[-374,81],[-205,0],[-170,-162],[-204,-404],[-68,-404],[-68,0]],[[96287,22051],[-5757,0],[-2111,81],[-784,-81],[-3916,0]]]}\"}}, {\"mode\": \"vega-lite\"});\n",
       "</script>"
      ],
      "text/plain": [
       "alt.Chart(...)"
      ]
     },
     "execution_count": 14,
     "metadata": {},
     "output_type": "execute_result"
    }
   ],
   "source": [
    "topo.to_alt().properties(title='State Topology')"
   ]
  },
  {
   "cell_type": "markdown",
   "metadata": {},
   "source": [
    "***\n",
    "\n",
    "## Part 2: County Geoportals TopoJSON"
   ]
  },
  {
   "cell_type": "markdown",
   "metadata": {},
   "source": [
    "### Format county name in county geoportals spreadsheet `allCounties.csv`"
   ]
  },
  {
   "cell_type": "code",
   "execution_count": 15,
   "metadata": {},
   "outputs": [
    {
     "data": {
      "text/html": [
       "<div>\n",
       "<style scoped>\n",
       "    .dataframe tbody tr th:only-of-type {\n",
       "        vertical-align: middle;\n",
       "    }\n",
       "\n",
       "    .dataframe tbody tr th {\n",
       "        vertical-align: top;\n",
       "    }\n",
       "\n",
       "    .dataframe thead th {\n",
       "        text-align: right;\n",
       "    }\n",
       "</style>\n",
       "<table border=\"1\" class=\"dataframe\">\n",
       "  <thead>\n",
       "    <tr style=\"text-align: right;\">\n",
       "      <th></th>\n",
       "      <th>countyCode</th>\n",
       "      <th>County</th>\n",
       "      <th>State</th>\n",
       "      <th>Title</th>\n",
       "      <th>sourceURL</th>\n",
       "      <th>btaaURL</th>\n",
       "    </tr>\n",
       "  </thead>\n",
       "  <tbody>\n",
       "    <tr>\n",
       "      <th>0</th>\n",
       "      <td>02b-17001</td>\n",
       "      <td>Adams County</td>\n",
       "      <td>Illinois</td>\n",
       "      <td>Adams County, Illinois GIS</td>\n",
       "      <td>https://www.adamscountygis.com</td>\n",
       "      <td>https://geo.btaa.org/?q=02b-17001</td>\n",
       "    </tr>\n",
       "    <tr>\n",
       "      <th>1</th>\n",
       "      <td>06b-26005</td>\n",
       "      <td>Allegan County</td>\n",
       "      <td>Michigan</td>\n",
       "      <td>Allegan County GIS Data Library</td>\n",
       "      <td>https://www.allegancounty.org/online-services/...</td>\n",
       "      <td>https://geo.btaa.org/?q=06b-26005</td>\n",
       "    </tr>\n",
       "    <tr>\n",
       "      <th>2</th>\n",
       "      <td>08b-42003</td>\n",
       "      <td>Allegheny County</td>\n",
       "      <td>Pennsylvania</td>\n",
       "      <td>Allegheny County GIS Open Data</td>\n",
       "      <td>https://openac-alcogis.opendata.arcgis.com</td>\n",
       "      <td>https://geo.btaa.org/?q=08b-42003</td>\n",
       "    </tr>\n",
       "    <tr>\n",
       "      <th>3</th>\n",
       "      <td>11b-39003</td>\n",
       "      <td>Allen County</td>\n",
       "      <td>Ohio</td>\n",
       "      <td>Allen County GIS Data Download Page</td>\n",
       "      <td>http://gis.allencountyohio.com/GIS/downloads.html</td>\n",
       "      <td>https://geo.btaa.org/?q=11b-39003</td>\n",
       "    </tr>\n",
       "    <tr>\n",
       "      <th>4</th>\n",
       "      <td>04b-24003</td>\n",
       "      <td>Anne Arundel County</td>\n",
       "      <td>Maryland</td>\n",
       "      <td>Anne Arundel County GIS Data</td>\n",
       "      <td>https://maps.aacounty.org/</td>\n",
       "      <td>https://geo.btaa.org/?q=04b-24003</td>\n",
       "    </tr>\n",
       "  </tbody>\n",
       "</table>\n",
       "</div>"
      ],
      "text/plain": [
       "  countyCode               County         State  \\\n",
       "0  02b-17001         Adams County      Illinois   \n",
       "1  06b-26005       Allegan County      Michigan   \n",
       "2  08b-42003     Allegheny County  Pennsylvania   \n",
       "3  11b-39003         Allen County          Ohio   \n",
       "4  04b-24003  Anne Arundel County      Maryland   \n",
       "\n",
       "                                 Title  \\\n",
       "0           Adams County, Illinois GIS   \n",
       "1      Allegan County GIS Data Library   \n",
       "2       Allegheny County GIS Open Data   \n",
       "3  Allen County GIS Data Download Page   \n",
       "4         Anne Arundel County GIS Data   \n",
       "\n",
       "                                           sourceURL  \\\n",
       "0                     https://www.adamscountygis.com   \n",
       "1  https://www.allegancounty.org/online-services/...   \n",
       "2         https://openac-alcogis.opendata.arcgis.com   \n",
       "3  http://gis.allencountyohio.com/GIS/downloads.html   \n",
       "4                         https://maps.aacounty.org/   \n",
       "\n",
       "                             btaaURL  \n",
       "0  https://geo.btaa.org/?q=02b-17001  \n",
       "1  https://geo.btaa.org/?q=06b-26005  \n",
       "2  https://geo.btaa.org/?q=08b-42003  \n",
       "3  https://geo.btaa.org/?q=11b-39003  \n",
       "4  https://geo.btaa.org/?q=04b-24003  "
      ]
     },
     "execution_count": 15,
     "metadata": {},
     "output_type": "execute_result"
    }
   ],
   "source": [
    "df_csv = pd.read_csv(countygeoportals)\n",
    "\n",
    "## Replace 'Saint' and 'St' with 'St.'\n",
    "#commenting out jan-2023 as the lambda is not working\n",
    "# df_csv['County'] = df_csv['County'].apply(lambda x: re.sub(r'(Saint\\s|^St\\s|^St\\.\\s)', 'St. ', x))\n",
    "\n",
    "df_csv.head()"
   ]
  },
  {
   "cell_type": "markdown",
   "metadata": {},
   "source": [
    "### Extract total records number from BTAA Geoportal search page"
   ]
  },
  {
   "cell_type": "code",
   "execution_count": 16,
   "metadata": {},
   "outputs": [],
   "source": [
    "df_csv['totalRecords'] = totalRecords(df_csv)"
   ]
  },
  {
   "cell_type": "markdown",
   "metadata": {},
   "source": [
    "### Inspect the numinum number of total records\n",
    "If it equals to 0, meaning the landing page is 404 Not Found. Go back to check if the identifier is still active. "
   ]
  },
  {
   "cell_type": "code",
   "execution_count": 17,
   "metadata": {},
   "outputs": [
    {
     "name": "stdout",
     "output_type": "stream",
     "text": [
      "> State Geoportal Codes all valid!\n"
     ]
    }
   ],
   "source": [
    "check_totalRecords(df_csv)"
   ]
  },
  {
   "cell_type": "markdown",
   "metadata": {},
   "source": [
    "### Group dataframe rows into list by geoportal sites"
   ]
  },
  {
   "cell_type": "code",
   "execution_count": 18,
   "metadata": {},
   "outputs": [
    {
     "name": "stderr",
     "output_type": "stream",
     "text": [
      "/var/folders/h1/wds8r6757dz_4h_l5tz85gyw0000gq/T/ipykernel_29015/1245351213.py:8: FutureWarning: Not prepending group keys to the result index of transform-like apply. In the future, the group keys will be included in the index, regardless of whether the applied function returns a like-indexed object.\n",
      "To preserve the previous behavior, use\n",
      "\n",
      "\t>>> .groupby(..., group_keys=False)\n",
      "\n",
      "To adopt the future behavior and silence this warning, use \n",
      "\n",
      "\t>>> .groupby(..., group_keys=True)\n",
      "  df_group = df_csv.groupby(['County', 'State']).apply(aggregate_to_array).drop_duplicates(subset=['County', 'State'])\n"
     ]
    },
    {
     "data": {
      "text/html": [
       "<div>\n",
       "<style scoped>\n",
       "    .dataframe tbody tr th:only-of-type {\n",
       "        vertical-align: middle;\n",
       "    }\n",
       "\n",
       "    .dataframe tbody tr th {\n",
       "        vertical-align: top;\n",
       "    }\n",
       "\n",
       "    .dataframe thead th {\n",
       "        text-align: right;\n",
       "    }\n",
       "</style>\n",
       "<table border=\"1\" class=\"dataframe\">\n",
       "  <thead>\n",
       "    <tr style=\"text-align: right;\">\n",
       "      <th></th>\n",
       "      <th>countyCode</th>\n",
       "      <th>County</th>\n",
       "      <th>State</th>\n",
       "      <th>Title</th>\n",
       "      <th>sourceURL</th>\n",
       "      <th>btaaURL</th>\n",
       "      <th>totalRecords</th>\n",
       "    </tr>\n",
       "  </thead>\n",
       "  <tbody>\n",
       "    <tr>\n",
       "      <th>0</th>\n",
       "      <td>02b-17001</td>\n",
       "      <td>Adams County</td>\n",
       "      <td>Illinois</td>\n",
       "      <td>[Adams County, Illinois GIS]</td>\n",
       "      <td>[https://www.adamscountygis.com]</td>\n",
       "      <td>https://geo.btaa.org/?q=02b-17001</td>\n",
       "      <td>1</td>\n",
       "    </tr>\n",
       "    <tr>\n",
       "      <th>1</th>\n",
       "      <td>06b-26005</td>\n",
       "      <td>Allegan County</td>\n",
       "      <td>Michigan</td>\n",
       "      <td>[Allegan County GIS Data Library]</td>\n",
       "      <td>[https://www.allegancounty.org/online-services...</td>\n",
       "      <td>https://geo.btaa.org/?q=06b-26005</td>\n",
       "      <td>12</td>\n",
       "    </tr>\n",
       "    <tr>\n",
       "      <th>2</th>\n",
       "      <td>08b-42003</td>\n",
       "      <td>Allegheny County</td>\n",
       "      <td>Pennsylvania</td>\n",
       "      <td>[Allegheny County GIS Open Data]</td>\n",
       "      <td>[https://openac-alcogis.opendata.arcgis.com]</td>\n",
       "      <td>https://geo.btaa.org/?q=08b-42003</td>\n",
       "      <td>17</td>\n",
       "    </tr>\n",
       "    <tr>\n",
       "      <th>3</th>\n",
       "      <td>11b-39003</td>\n",
       "      <td>Allen County</td>\n",
       "      <td>Ohio</td>\n",
       "      <td>[Allen County GIS Data Download Page]</td>\n",
       "      <td>[http://gis.allencountyohio.com/GIS/downloads....</td>\n",
       "      <td>https://geo.btaa.org/?q=11b-39003</td>\n",
       "      <td>12</td>\n",
       "    </tr>\n",
       "    <tr>\n",
       "      <th>4</th>\n",
       "      <td>04b-24003</td>\n",
       "      <td>Anne Arundel County</td>\n",
       "      <td>Maryland</td>\n",
       "      <td>[Anne Arundel County GIS Data]</td>\n",
       "      <td>[https://maps.aacounty.org/]</td>\n",
       "      <td>https://geo.btaa.org/?q=04b-24003</td>\n",
       "      <td>241</td>\n",
       "    </tr>\n",
       "  </tbody>\n",
       "</table>\n",
       "</div>"
      ],
      "text/plain": [
       "  countyCode               County         State  \\\n",
       "0  02b-17001         Adams County      Illinois   \n",
       "1  06b-26005       Allegan County      Michigan   \n",
       "2  08b-42003     Allegheny County  Pennsylvania   \n",
       "3  11b-39003         Allen County          Ohio   \n",
       "4  04b-24003  Anne Arundel County      Maryland   \n",
       "\n",
       "                                   Title  \\\n",
       "0           [Adams County, Illinois GIS]   \n",
       "1      [Allegan County GIS Data Library]   \n",
       "2       [Allegheny County GIS Open Data]   \n",
       "3  [Allen County GIS Data Download Page]   \n",
       "4         [Anne Arundel County GIS Data]   \n",
       "\n",
       "                                           sourceURL  \\\n",
       "0                   [https://www.adamscountygis.com]   \n",
       "1  [https://www.allegancounty.org/online-services...   \n",
       "2       [https://openac-alcogis.opendata.arcgis.com]   \n",
       "3  [http://gis.allencountyohio.com/GIS/downloads....   \n",
       "4                       [https://maps.aacounty.org/]   \n",
       "\n",
       "                             btaaURL  totalRecords  \n",
       "0  https://geo.btaa.org/?q=02b-17001             1  \n",
       "1  https://geo.btaa.org/?q=06b-26005            12  \n",
       "2  https://geo.btaa.org/?q=08b-42003            17  \n",
       "3  https://geo.btaa.org/?q=11b-39003            12  \n",
       "4  https://geo.btaa.org/?q=04b-24003           241  "
      ]
     },
     "execution_count": 18,
     "metadata": {},
     "output_type": "execute_result"
    }
   ],
   "source": [
    "def aggregate_to_array(data):\n",
    "    groupItems = ['Title', 'sourceURL', 'totalRecords']\n",
    "    for i in range(len(groupItems)):\n",
    "        data[groupItems[i]] = np.tile([data[groupItems[i]].values], (data.shape[0], 1)).tolist()\n",
    "    return data\n",
    "\n",
    "## Group by ['County', 'State']\n",
    "df_group = df_csv.groupby(['County', 'State']).apply(aggregate_to_array).drop_duplicates(subset=['County', 'State'])\n",
    "## Sum up the total records if there're multiple geoportals in one county\n",
    "df_group['totalRecords'] = df_group['totalRecords'].apply(lambda x: sum(int(item)for item in x))\n",
    "df_group.head()"
   ]
  },
  {
   "cell_type": "markdown",
   "metadata": {},
   "source": [
    "### Classify the geoportal by total number\n",
    "You may want to adjust the classification method **`NaturalBreaks`** and class number **`k`**. \n",
    "Reference the <a href=\"https://pypi.org/project/mapclassify/\">mapclassify</a>. Note that we're going to exclude the outler `totaLRecords == 1` first. "
   ]
  },
  {
   "cell_type": "code",
   "execution_count": 19,
   "metadata": {},
   "outputs": [
    {
     "data": {
      "text/plain": [
       "NaturalBreaks           \n",
       "\n",
       "    Interval       Count\n",
       "------------------------\n",
       "[  2.00,  43.00] |    50\n",
       "( 43.00, 111.00] |    21\n",
       "(111.00, 253.00] |     5\n",
       "(253.00, 512.00] |     2"
      ]
     },
     "execution_count": 19,
     "metadata": {},
     "output_type": "execute_result"
    }
   ],
   "source": [
    "df_excludeOne = df_group[df_group['totalRecords'] != 1]\n",
    "n4 = mapclassify.NaturalBreaks(df_excludeOne.totalRecords, k=4)\n",
    "n4"
   ]
  },
  {
   "cell_type": "code",
   "execution_count": 20,
   "metadata": {},
   "outputs": [],
   "source": [
    "countyInterval = [1.0] + [i for i in list(n4.bins)]"
   ]
  },
  {
   "cell_type": "markdown",
   "metadata": {},
   "source": [
    "### Assign different color to each geoportal based on total records class"
   ]
  },
  {
   "cell_type": "code",
   "execution_count": 21,
   "metadata": {},
   "outputs": [
    {
     "data": {
      "image/png": "[encoded data removed]",
      "text/plain": [
       "<Figure size 500x100 with 1 Axes>"
      ]
     },
     "metadata": {},
     "output_type": "display_data"
    }
   ],
   "source": [
    "## Select the gradient color palette\n",
    "palette = ['#b3cde0','#6497b1','#005b96','#03396c ','#011f4b']\n",
    "colorScale = np.array(['#b3cde0','#6497b1','#005b96','#03396c','#011f4b'])\n",
    "sns.palplot(sns.color_palette(colorScale))"
   ]
  },
  {
   "cell_type": "code",
   "execution_count": 22,
   "metadata": {
    "scrolled": true
   },
   "outputs": [
    {
     "data": {
      "text/html": [
       "<div>\n",
       "<style scoped>\n",
       "    .dataframe tbody tr th:only-of-type {\n",
       "        vertical-align: middle;\n",
       "    }\n",
       "\n",
       "    .dataframe tbody tr th {\n",
       "        vertical-align: top;\n",
       "    }\n",
       "\n",
       "    .dataframe thead th {\n",
       "        text-align: right;\n",
       "    }\n",
       "</style>\n",
       "<table border=\"1\" class=\"dataframe\">\n",
       "  <thead>\n",
       "    <tr style=\"text-align: right;\">\n",
       "      <th></th>\n",
       "      <th>countyCode</th>\n",
       "      <th>County</th>\n",
       "      <th>State</th>\n",
       "      <th>Title</th>\n",
       "      <th>sourceURL</th>\n",
       "      <th>btaaURL</th>\n",
       "      <th>totalRecords</th>\n",
       "      <th>Color</th>\n",
       "    </tr>\n",
       "  </thead>\n",
       "  <tbody>\n",
       "    <tr>\n",
       "      <th>0</th>\n",
       "      <td>02b-17001</td>\n",
       "      <td>Adams County</td>\n",
       "      <td>Illinois</td>\n",
       "      <td>[Adams County, Illinois GIS]</td>\n",
       "      <td>[https://www.adamscountygis.com]</td>\n",
       "      <td>https://geo.btaa.org/?q=02b-17001</td>\n",
       "      <td>1</td>\n",
       "      <td>#b3cde0</td>\n",
       "    </tr>\n",
       "    <tr>\n",
       "      <th>1</th>\n",
       "      <td>06b-26005</td>\n",
       "      <td>Allegan County</td>\n",
       "      <td>Michigan</td>\n",
       "      <td>[Allegan County GIS Data Library]</td>\n",
       "      <td>[https://www.allegancounty.org/online-services...</td>\n",
       "      <td>https://geo.btaa.org/?q=06b-26005</td>\n",
       "      <td>12</td>\n",
       "      <td>#6497b1</td>\n",
       "    </tr>\n",
       "    <tr>\n",
       "      <th>2</th>\n",
       "      <td>08b-42003</td>\n",
       "      <td>Allegheny County</td>\n",
       "      <td>Pennsylvania</td>\n",
       "      <td>[Allegheny County GIS Open Data]</td>\n",
       "      <td>[https://openac-alcogis.opendata.arcgis.com]</td>\n",
       "      <td>https://geo.btaa.org/?q=08b-42003</td>\n",
       "      <td>17</td>\n",
       "      <td>#6497b1</td>\n",
       "    </tr>\n",
       "    <tr>\n",
       "      <th>3</th>\n",
       "      <td>11b-39003</td>\n",
       "      <td>Allen County</td>\n",
       "      <td>Ohio</td>\n",
       "      <td>[Allen County GIS Data Download Page]</td>\n",
       "      <td>[http://gis.allencountyohio.com/GIS/downloads....</td>\n",
       "      <td>https://geo.btaa.org/?q=11b-39003</td>\n",
       "      <td>12</td>\n",
       "      <td>#6497b1</td>\n",
       "    </tr>\n",
       "    <tr>\n",
       "      <th>4</th>\n",
       "      <td>04b-24003</td>\n",
       "      <td>Anne Arundel County</td>\n",
       "      <td>Maryland</td>\n",
       "      <td>[Anne Arundel County GIS Data]</td>\n",
       "      <td>[https://maps.aacounty.org/]</td>\n",
       "      <td>https://geo.btaa.org/?q=04b-24003</td>\n",
       "      <td>241</td>\n",
       "      <td>#03396c</td>\n",
       "    </tr>\n",
       "  </tbody>\n",
       "</table>\n",
       "</div>"
      ],
      "text/plain": [
       "  countyCode               County         State  \\\n",
       "0  02b-17001         Adams County      Illinois   \n",
       "1  06b-26005       Allegan County      Michigan   \n",
       "2  08b-42003     Allegheny County  Pennsylvania   \n",
       "3  11b-39003         Allen County          Ohio   \n",
       "4  04b-24003  Anne Arundel County      Maryland   \n",
       "\n",
       "                                   Title  \\\n",
       "0           [Adams County, Illinois GIS]   \n",
       "1      [Allegan County GIS Data Library]   \n",
       "2       [Allegheny County GIS Open Data]   \n",
       "3  [Allen County GIS Data Download Page]   \n",
       "4         [Anne Arundel County GIS Data]   \n",
       "\n",
       "                                           sourceURL  \\\n",
       "0                   [https://www.adamscountygis.com]   \n",
       "1  [https://www.allegancounty.org/online-services...   \n",
       "2       [https://openac-alcogis.opendata.arcgis.com]   \n",
       "3  [http://gis.allencountyohio.com/GIS/downloads....   \n",
       "4                       [https://maps.aacounty.org/]   \n",
       "\n",
       "                             btaaURL  totalRecords     Color  \n",
       "0  https://geo.btaa.org/?q=02b-17001             1   #b3cde0  \n",
       "1  https://geo.btaa.org/?q=06b-26005            12   #6497b1  \n",
       "2  https://geo.btaa.org/?q=08b-42003            17   #6497b1  \n",
       "3  https://geo.btaa.org/?q=11b-39003            12   #6497b1  \n",
       "4  https://geo.btaa.org/?q=04b-24003           241  #03396c   "
      ]
     },
     "execution_count": 22,
     "metadata": {},
     "output_type": "execute_result"
    }
   ],
   "source": [
    "def totalRecords_color(row):\n",
    "    if row['totalRecords'] <= countyInterval[0]:\n",
    "        return palette[0]\n",
    "    elif row['totalRecords'] > countyInterval[0] and row['totalRecords'] <= countyInterval[1]:\n",
    "        return palette[1]\n",
    "    elif row['totalRecords'] > countyInterval[1] and row['totalRecords'] <= countyInterval[2]:\n",
    "        return palette[2]\n",
    "    elif row['totalRecords'] > countyInterval[2] and row['totalRecords'] <= countyInterval[3]:\n",
    "        return palette[3]\n",
    "    else:\n",
    "        return palette[4]\n",
    "\n",
    "## Append a new column with color generated above\n",
    "df_group['Color'] = df_group.apply(totalRecords_color, axis=1)\n",
    "df_group.head()"
   ]
  },
  {
   "cell_type": "markdown",
   "metadata": {},
   "source": [
    "### Merge county GeoJSON and geoportal GeoJSON"
   ]
  },
  {
   "cell_type": "code",
   "execution_count": 23,
   "metadata": {},
   "outputs": [
    {
     "data": {
      "text/html": [
       "<div>\n",
       "<style scoped>\n",
       "    .dataframe tbody tr th:only-of-type {\n",
       "        vertical-align: middle;\n",
       "    }\n",
       "\n",
       "    .dataframe tbody tr th {\n",
       "        vertical-align: top;\n",
       "    }\n",
       "\n",
       "    .dataframe thead th {\n",
       "        text-align: right;\n",
       "    }\n",
       "</style>\n",
       "<table border=\"1\" class=\"dataframe\">\n",
       "  <thead>\n",
       "    <tr style=\"text-align: right;\">\n",
       "      <th></th>\n",
       "      <th>County</th>\n",
       "      <th>State</th>\n",
       "      <th>boundingBox</th>\n",
       "    </tr>\n",
       "  </thead>\n",
       "  <tbody>\n",
       "    <tr>\n",
       "      <th>0</th>\n",
       "      <td>Chase County</td>\n",
       "      <td>Nebraska</td>\n",
       "      <td>[[[-102.05, 40.7], [-102.05, 40.7], [-102.05, ...</td>\n",
       "    </tr>\n",
       "    <tr>\n",
       "      <th>1</th>\n",
       "      <td>Dundy County</td>\n",
       "      <td>Nebraska</td>\n",
       "      <td>[[[-101.32, 40.35], [-101.32, 40.35], [-101.33...</td>\n",
       "    </tr>\n",
       "    <tr>\n",
       "      <th>2</th>\n",
       "      <td>Frontier County</td>\n",
       "      <td>Nebraska</td>\n",
       "      <td>[[[-100.78, 40.7], [-100.78, 40.7], [-100.78, ...</td>\n",
       "    </tr>\n",
       "    <tr>\n",
       "      <th>3</th>\n",
       "      <td>Furnas County</td>\n",
       "      <td>Nebraska</td>\n",
       "      <td>[[[-100.09, 40.35], [-100.09, 40.35], [-100.1,...</td>\n",
       "    </tr>\n",
       "    <tr>\n",
       "      <th>4</th>\n",
       "      <td>Gosper County</td>\n",
       "      <td>Nebraska</td>\n",
       "      <td>[[[-99.98, 40.7], [-99.98, 40.7], [-99.98, 40....</td>\n",
       "    </tr>\n",
       "  </tbody>\n",
       "</table>\n",
       "</div>"
      ],
      "text/plain": [
       "            County     State  \\\n",
       "0     Chase County  Nebraska   \n",
       "1     Dundy County  Nebraska   \n",
       "2  Frontier County  Nebraska   \n",
       "3    Furnas County  Nebraska   \n",
       "4    Gosper County  Nebraska   \n",
       "\n",
       "                                         boundingBox  \n",
       "0  [[[-102.05, 40.7], [-102.05, 40.7], [-102.05, ...  \n",
       "1  [[[-101.32, 40.35], [-101.32, 40.35], [-101.33...  \n",
       "2  [[[-100.78, 40.7], [-100.78, 40.7], [-100.78, ...  \n",
       "3  [[[-100.09, 40.35], [-100.09, 40.35], [-100.1,...  \n",
       "4  [[[-99.98, 40.7], [-99.98, 40.7], [-99.98, 40....  "
      ]
     },
     "execution_count": 23,
     "metadata": {},
     "output_type": "execute_result"
    }
   ],
   "source": [
    "## Load countyjson featuer properties\n",
    "county_geojson = gpd.read_file(countyjson)\n",
    "county_json = json.loads(county_geojson.to_json())\n",
    "df_allCounty = pd.json_normalize(county_json['features'])\n",
    "\n",
    "## Change column names for further operation\n",
    "df_allCounty = df_allCounty[['properties.County', 'properties.State', 'geometry.coordinates']].rename(\n",
    "    columns={'properties.County':'County', 'properties.State':'State', 'geometry.coordinates':'boundingBox'})\n",
    "\n",
    "df_allCounty.head()"
   ]
  },
  {
   "cell_type": "code",
   "execution_count": 24,
   "metadata": {},
   "outputs": [
    {
     "data": {
      "text/html": [
       "<div>\n",
       "<style scoped>\n",
       "    .dataframe tbody tr th:only-of-type {\n",
       "        vertical-align: middle;\n",
       "    }\n",
       "\n",
       "    .dataframe tbody tr th {\n",
       "        vertical-align: top;\n",
       "    }\n",
       "\n",
       "    .dataframe thead th {\n",
       "        text-align: right;\n",
       "    }\n",
       "</style>\n",
       "<table border=\"1\" class=\"dataframe\">\n",
       "  <thead>\n",
       "    <tr style=\"text-align: right;\">\n",
       "      <th></th>\n",
       "      <th>countyCode</th>\n",
       "      <th>County</th>\n",
       "      <th>State</th>\n",
       "      <th>Title</th>\n",
       "      <th>sourceURL</th>\n",
       "      <th>btaaURL</th>\n",
       "      <th>totalRecords</th>\n",
       "      <th>Color</th>\n",
       "      <th>boundingBox</th>\n",
       "    </tr>\n",
       "  </thead>\n",
       "  <tbody>\n",
       "    <tr>\n",
       "      <th>0</th>\n",
       "      <td>02b-17001</td>\n",
       "      <td>Adams County</td>\n",
       "      <td>Illinois</td>\n",
       "      <td>[Adams County, Illinois GIS]</td>\n",
       "      <td>[https://www.adamscountygis.com]</td>\n",
       "      <td>https://geo.btaa.org/?q=02b-17001</td>\n",
       "      <td>1</td>\n",
       "      <td>#b3cde0</td>\n",
       "      <td>[[[-91.51, 40.2], [-91.51, 40.2], [-91.51, 40....</td>\n",
       "    </tr>\n",
       "    <tr>\n",
       "      <th>1</th>\n",
       "      <td>06b-26005</td>\n",
       "      <td>Allegan County</td>\n",
       "      <td>Michigan</td>\n",
       "      <td>[Allegan County GIS Data Library]</td>\n",
       "      <td>[https://www.allegancounty.org/online-services...</td>\n",
       "      <td>https://geo.btaa.org/?q=06b-26005</td>\n",
       "      <td>12</td>\n",
       "      <td>#6497b1</td>\n",
       "      <td>[[[-86.21, 42.77], [-86.21, 42.77], [-86.21, 4...</td>\n",
       "    </tr>\n",
       "    <tr>\n",
       "      <th>2</th>\n",
       "      <td>08b-42003</td>\n",
       "      <td>Allegheny County</td>\n",
       "      <td>Pennsylvania</td>\n",
       "      <td>[Allegheny County GIS Open Data]</td>\n",
       "      <td>[https://openac-alcogis.opendata.arcgis.com]</td>\n",
       "      <td>https://geo.btaa.org/?q=08b-42003</td>\n",
       "      <td>17</td>\n",
       "      <td>#6497b1</td>\n",
       "      <td>[[[-80.15, 40.67], [-80.15, 40.67], [-80.15, 4...</td>\n",
       "    </tr>\n",
       "    <tr>\n",
       "      <th>3</th>\n",
       "      <td>11b-39003</td>\n",
       "      <td>Allen County</td>\n",
       "      <td>Ohio</td>\n",
       "      <td>[Allen County GIS Data Download Page]</td>\n",
       "      <td>[http://gis.allencountyohio.com/GIS/downloads....</td>\n",
       "      <td>https://geo.btaa.org/?q=11b-39003</td>\n",
       "      <td>12</td>\n",
       "      <td>#6497b1</td>\n",
       "      <td>[[[-83.88, 40.92], [-83.88, 40.92], [-83.92, 4...</td>\n",
       "    </tr>\n",
       "    <tr>\n",
       "      <th>4</th>\n",
       "      <td>04b-24003</td>\n",
       "      <td>Anne Arundel County</td>\n",
       "      <td>Maryland</td>\n",
       "      <td>[Anne Arundel County GIS Data]</td>\n",
       "      <td>[https://maps.aacounty.org/]</td>\n",
       "      <td>https://geo.btaa.org/?q=04b-24003</td>\n",
       "      <td>241</td>\n",
       "      <td>#03396c</td>\n",
       "      <td>[[[[-76.5, 39.09], [-76.5, 39.09], [-76.5, 39....</td>\n",
       "    </tr>\n",
       "  </tbody>\n",
       "</table>\n",
       "</div>"
      ],
      "text/plain": [
       "  countyCode               County         State  \\\n",
       "0  02b-17001         Adams County      Illinois   \n",
       "1  06b-26005       Allegan County      Michigan   \n",
       "2  08b-42003     Allegheny County  Pennsylvania   \n",
       "3  11b-39003         Allen County          Ohio   \n",
       "4  04b-24003  Anne Arundel County      Maryland   \n",
       "\n",
       "                                   Title  \\\n",
       "0           [Adams County, Illinois GIS]   \n",
       "1      [Allegan County GIS Data Library]   \n",
       "2       [Allegheny County GIS Open Data]   \n",
       "3  [Allen County GIS Data Download Page]   \n",
       "4         [Anne Arundel County GIS Data]   \n",
       "\n",
       "                                           sourceURL  \\\n",
       "0                   [https://www.adamscountygis.com]   \n",
       "1  [https://www.allegancounty.org/online-services...   \n",
       "2       [https://openac-alcogis.opendata.arcgis.com]   \n",
       "3  [http://gis.allencountyohio.com/GIS/downloads....   \n",
       "4                       [https://maps.aacounty.org/]   \n",
       "\n",
       "                             btaaURL  totalRecords     Color  \\\n",
       "0  https://geo.btaa.org/?q=02b-17001             1   #b3cde0   \n",
       "1  https://geo.btaa.org/?q=06b-26005            12   #6497b1   \n",
       "2  https://geo.btaa.org/?q=08b-42003            17   #6497b1   \n",
       "3  https://geo.btaa.org/?q=11b-39003            12   #6497b1   \n",
       "4  https://geo.btaa.org/?q=04b-24003           241  #03396c    \n",
       "\n",
       "                                         boundingBox  \n",
       "0  [[[-91.51, 40.2], [-91.51, 40.2], [-91.51, 40....  \n",
       "1  [[[-86.21, 42.77], [-86.21, 42.77], [-86.21, 4...  \n",
       "2  [[[-80.15, 40.67], [-80.15, 40.67], [-80.15, 4...  \n",
       "3  [[[-83.88, 40.92], [-83.88, 40.92], [-83.92, 4...  \n",
       "4  [[[[-76.5, 39.09], [-76.5, 39.09], [-76.5, 39....  "
      ]
     },
     "execution_count": 24,
     "metadata": {},
     "output_type": "execute_result"
    }
   ],
   "source": [
    "## Join on column 'County' and 'State' from left dataframe df_group\n",
    "df_merge = pd.merge(df_group, df_allCounty, on = ['County','State'], how = 'left')\n",
    "df_merge.head()"
   ]
  },
  {
   "cell_type": "markdown",
   "metadata": {},
   "source": [
    "### Return rows with Nan value\n",
    "Check if there exists any records doesn't include any coordinates information in the boundingBox column. <br>\n",
    "If so, go back to `allCounties.csv` and manually change the **county** name to the one in `county.json`, then go to `Kernel` > `Restart & Run All`"
   ]
  },
  {
   "cell_type": "code",
   "execution_count": 25,
   "metadata": {},
   "outputs": [
    {
     "name": "stdout",
     "output_type": "stream",
     "text": [
      "> No NULL rows\n"
     ]
    }
   ],
   "source": [
    "def check_nanrows(df):\n",
    "    if df.isnull().values.any():\n",
    "        return df[df['boundingBox'].isnull()]\n",
    "    else:\n",
    "        print('> No NULL rows')        \n",
    "check_nanrows(df_merge)"
   ]
  },
  {
   "cell_type": "markdown",
   "metadata": {},
   "source": [
    "### Create county GeoJSON features"
   ]
  },
  {
   "cell_type": "code",
   "execution_count": 26,
   "metadata": {},
   "outputs": [
    {
     "name": "stdout",
     "output_type": "stream",
     "text": [
      "> Creating county GeoJSON features...\n"
     ]
    }
   ],
   "source": [
    "def create_geojson_features(df):\n",
    "    print('> Creating county GeoJSON features...')\n",
    "    features = []\n",
    "    geometry_type = ''\n",
    "    geojson = {\n",
    "        'type': 'FeatureCollection',\n",
    "        'features': features\n",
    "    }\n",
    "        \n",
    "    for _, row in df.iterrows():\n",
    "        if type(row['boundingBox'][0][0][0]) is float:\n",
    "            geometry_type = 'Polygon'\n",
    "        else:\n",
    "            geometry_type = 'MultiPolygon'\n",
    "            \n",
    "        feature = {\n",
    "            'type': 'Feature',\n",
    "            'geometry': {\n",
    "                'type': geometry_type, \n",
    "                'coordinates': row['boundingBox']\n",
    "            },\n",
    "            'properties': {\n",
    "                'County': row['County'],\n",
    "                'State': row['State'],\n",
    "                'countyCode': row['countyCode'],\n",
    "                'Title': '|'.join([str(elem) for elem in row['Title']]),\n",
    "                'sourceURL': '|'.join([str(elem) for elem in row['sourceURL']]), \n",
    "                'btaaURL': row['btaaURL'],\n",
    "                'totalRecords': row['totalRecords'],\n",
    "                'Color' : row['Color']\n",
    "            }\n",
    "           }\n",
    "\n",
    "        features.append(feature)\n",
    "    return geojson\n",
    "\n",
    "data_geojson = create_geojson_features(df_merge)"
   ]
  },
  {
   "cell_type": "markdown",
   "metadata": {},
   "source": [
    "### Write to county TopoJSON file `activeCounties.topo.json`"
   ]
  },
  {
   "cell_type": "code",
   "execution_count": 27,
   "metadata": {
    "scrolled": true
   },
   "outputs": [
    {
     "name": "stdout",
     "output_type": "stream",
     "text": [
      "> Creating county TopoJSON file...\n"
     ]
    }
   ],
   "source": [
    "county_geojson = gpd.GeoDataFrame.from_features(data_geojson[\"features\"])\n",
    "# TopoJSON is an extension of GeoJSON to compress geometry information\n",
    "topo = tp.Topology(county_geojson)\n",
    "topo.to_json(activecounties)\n",
    "print('> Creating county TopoJSON file...')"
   ]
  },
  {
   "cell_type": "markdown",
   "metadata": {},
   "source": [
    "### Inspect county TopoJSON"
   ]
  },
  {
   "cell_type": "code",
   "execution_count": 28,
   "metadata": {},
   "outputs": [
    {
     "data": {
      "text/html": [
       "\n",
       "<div id=\"altair-viz-54f4a49884d54382947b034a3b26739e\"></div>\n",
       "<script type=\"text/javascript\">\n",
       "  (function(spec, embedOpt){\n",
       "    let outputDiv = document.currentScript.previousElementSibling;\n",
       "    if (outputDiv.id !== \"altair-viz-54f4a49884d54382947b034a3b26739e\") {\n",
       "      outputDiv = document.getElementById(\"altair-viz-54f4a49884d54382947b034a3b26739e\");\n",
       "    }\n",
       "    const paths = {\n",
       "      \"vega\": \"https://cdn.jsdelivr.net/npm//vega@5?noext\",\n",
       "      \"vega-lib\": \"https://cdn.jsdelivr.net/npm//vega-lib?noext\",\n",
       "      \"vega-lite\": \"https://cdn.jsdelivr.net/npm//vega-lite@4.8.1?noext\",\n",
       "      \"vega-embed\": \"https://cdn.jsdelivr.net/npm//vega-embed@6?noext\",\n",
       "    };\n",
       "\n",
       "    function loadScript(lib) {\n",
       "      return new Promise(function(resolve, reject) {\n",
       "        var s = document.createElement('script');\n",
       "        s.src = paths[lib];\n",
       "        s.async = true;\n",
       "        s.onload = () => resolve(paths[lib]);\n",
       "        s.onerror = () => reject(`Error loading script: ${paths[lib]}`);\n",
       "        document.getElementsByTagName(\"head\")[0].appendChild(s);\n",
       "      });\n",
       "    }\n",
       "\n",
       "    function showError(err) {\n",
       "      outputDiv.innerHTML = `<div class=\"error\" style=\"color:red;\">${err}</div>`;\n",
       "      throw err;\n",
       "    }\n",
       "\n",
       "    function displayChart(vegaEmbed) {\n",
       "      vegaEmbed(outputDiv, spec, embedOpt)\n",
       "        .catch(err => showError(`Javascript Error: ${err.message}<br>This usually means there's a typo in your chart specification. See the javascript console for the full traceback.`));\n",
       "    }\n",
       "\n",
       "    if(typeof define === \"function\" && define.amd) {\n",
       "      requirejs.config({paths});\n",
       "      require([\"vega-embed\"], displayChart, err => showError(`Error loading script: ${err.message}`));\n",
       "    } else if (typeof vegaEmbed === \"function\") {\n",
       "      displayChart(vegaEmbed);\n",
       "    } else {\n",
       "      loadScript(\"vega\")\n",
       "        .then(() => loadScript(\"vega-lite\"))\n",
       "        .then(() => loadScript(\"vega-embed\"))\n",
       "        .catch(showError)\n",
       "        .then(() => displayChart(vegaEmbed));\n",
       "    }\n",
       "  })({\"config\": {\"view\": {\"continuousWidth\": 400, \"continuousHeight\": 300}}, \"data\": {\"name\": \"data-ce27043f1c46820a8301b36ef610fd3f\", \"format\": {\"mesh\": \"data\", \"type\": \"topojson\"}}, \"mark\": {\"type\": \"geoshape\", \"filled\": false}, \"projection\": {\"reflectY\": true, \"type\": \"identity\"}, \"title\": \"County Topology\", \"width\": 300, \"$schema\": \"https://vega.github.io/schema/vega-lite/v4.8.1.json\", \"datasets\": {\"data-ce27043f1c46820a8301b36ef610fd3f\": \"{\\\"type\\\":\\\"Topology\\\",\\\"objects\\\":{\\\"data\\\":{\\\"geometries\\\":[{\\\"properties\\\":{\\\"County\\\":\\\"Adams County\\\",\\\"State\\\":\\\"Illinois\\\",\\\"countyCode\\\":\\\"02b-17001\\\",\\\"Title\\\":\\\"Adams County, Illinois GIS\\\",\\\"sourceURL\\\":\\\"https://www.adamscountygis.com\\\",\\\"btaaURL\\\":\\\"https://geo.btaa.org/?q=02b-17001\\\",\\\"totalRecords\\\":1,\\\"Color\\\":\\\"#b3cde0\\\"},\\\"type\\\":\\\"Polygon\\\",\\\"arcs\\\":[[0]],\\\"id\\\":0},{\\\"properties\\\":{\\\"County\\\":\\\"Allegan County\\\",\\\"State\\\":\\\"Michigan\\\",\\\"countyCode\\\":\\\"06b-26005\\\",\\\"Title\\\":\\\"Allegan County GIS Data Library\\\",\\\"sourceURL\\\":\\\"https://www.allegancounty.org/online-services/gis-data-library/county\\\",\\\"btaaURL\\\":\\\"https://geo.btaa.org/?q=06b-26005\\\",\\\"totalRecords\\\":12,\\\"Color\\\":\\\"#6497b1\\\"},\\\"type\\\":\\\"Polygon\\\",\\\"arcs\\\":[[1]],\\\"id\\\":1},{\\\"properties\\\":{\\\"County\\\":\\\"Allegheny County\\\",\\\"State\\\":\\\"Pennsylvania\\\",\\\"countyCode\\\":\\\"08b-42003\\\",\\\"Title\\\":\\\"Allegheny County GIS Open Data\\\",\\\"sourceURL\\\":\\\"https://openac-alcogis.opendata.arcgis.com\\\",\\\"btaaURL\\\":\\\"https://geo.btaa.org/?q=08b-42003\\\",\\\"totalRecords\\\":17,\\\"Color\\\":\\\"#6497b1\\\"},\\\"type\\\":\\\"Polygon\\\",\\\"arcs\\\":[[2]],\\\"id\\\":2},{\\\"properties\\\":{\\\"County\\\":\\\"Allen County\\\",\\\"State\\\":\\\"Ohio\\\",\\\"countyCode\\\":\\\"11b-39003\\\",\\\"Title\\\":\\\"Allen County GIS Data Download Page\\\",\\\"sourceURL\\\":\\\"http://gis.allencountyohio.com/GIS/downloads.html\\\",\\\"btaaURL\\\":\\\"https://geo.btaa.org/?q=11b-39003\\\",\\\"totalRecords\\\":12,\\\"Color\\\":\\\"#6497b1\\\"},\\\"type\\\":\\\"Polygon\\\",\\\"arcs\\\":[[-271,3,-48,4,-561]],\\\"id\\\":3},{\\\"properties\\\":{\\\"County\\\":\\\"Anne Arundel County\\\",\\\"State\\\":\\\"Maryland\\\",\\\"countyCode\\\":\\\"04b-24003\\\",\\\"Title\\\":\\\"Anne Arundel County GIS Data\\\",\\\"sourceURL\\\":\\\"https://maps.aacounty.org/\\\",\\\"btaaURL\\\":\\\"https://geo.btaa.org/?q=04b-24003\\\",\\\"totalRecords\\\":241,\\\"Color\\\":\\\"#03396c \\\"},\\\"type\\\":\\\"MultiPolygon\\\",\\\"arcs\\\":[[[5]],[[6]],[[7]],[[8]],[[9]],[[10,11,-16,15]],[[12]],[[13]],[[-102,-101,100,-100,550,-551,-550,-549,548,-548,-547,546,-546,-545,544,-544,-543,542,-542,-541,540,-540,-539,538,-538,-537,536,-536,-535,-317,-62,14,15,16],[17],[18],[19],[20]]],\\\"id\\\":4},{\\\"properties\\\":{\\\"County\\\":\\\"Anoka County\\\",\\\"State\\\":\\\"Minnesota\\\",\\\"countyCode\\\":\\\"05b-27003\\\",\\\"Title\\\":\\\"Anoka County GIS Data Downloads\\\",\\\"sourceURL\\\":\\\"https://www.anokacounty.us/1990/Data-Downloads\\\",\\\"btaaURL\\\":\\\"https://geo.btaa.org/?q=05b-27003\\\",\\\"totalRecords\\\":29,\\\"Color\\\":\\\"#6497b1\\\"},\\\"type\\\":\\\"Polygon\\\",\\\"arcs\\\":[[-645,-324,-136,21,23,22,-600,-292],[-24,23]],\\\"id\\\":5},{\\\"properties\\\":{\\\"County\\\":\\\"Ashland County\\\",\\\"State\\\":\\\"Wisconsin\\\",\\\"countyCode\\\":\\\"10b-55003\\\",\\\"Title\\\":\\\"Ashland County, WI GIS Open Data Portal|GIS - Ashland County, WI\\\",\\\"sourceURL\\\":\\\"https://data-ashlandcountywi.opendata.arcgis.com|https://co.ashland.wi.us/gis\\\",\\\"btaaURL\\\":\\\"https://geo.btaa.org/?q=10b-55003\\\",\\\"totalRecords\\\":17,\\\"Color\\\":\\\"#6497b1\\\"},\\\"type\\\":\\\"MultiPolygon\\\",\\\"arcs\\\":[[[-76,24]],[[25]],[[26]],[[27]],[[28]],[[29]],[[30]],[[31]],[[32]],[[33]],[[34]],[[35]],[[36]],[[37]],[[38]],[[39]],[[40]],[[41]],[[42]]],\\\"id\\\":6},{\\\"properties\\\":{\\\"County\\\":\\\"Ashtabula County\\\",\\\"State\\\":\\\"Ohio\\\",\\\"countyCode\\\":\\\"11b-39007\\\",\\\"Title\\\":\\\"ArcGIS REST Services Directory for Ashtabula County, Ohio\\\",\\\"sourceURL\\\":\\\"https://parcelmap.ashtabulacounty.us/arcgis/rest/services\\\",\\\"btaaURL\\\":\\\"https://geo.btaa.org/?q=11b-39007\\\",\\\"totalRecords\\\":1,\\\"Color\\\":\\\"#b3cde0\\\"},\\\"type\\\":\\\"Polygon\\\",\\\"arcs\\\":[[-179,43,-256,-340,44]],\\\"id\\\":7},{\\\"properties\\\":{\\\"County\\\":\\\"Athens County\\\",\\\"State\\\":\\\"Ohio\\\",\\\"countyCode\\\":\\\"11b-39009\\\",\\\"Title\\\":\\\"Athens County GIS Data\\\",\\\"sourceURL\\\":\\\"https://data-athgis.opendata.arcgis.com\\\",\\\"btaaURL\\\":\\\"https://geo.btaa.org/?q=11b-39009\\\",\\\"totalRecords\\\":29,\\\"Color\\\":\\\"#6497b1\\\"},\\\"type\\\":\\\"Polygon\\\",\\\"arcs\\\":[[45,-770,46,-301]],\\\"id\\\":8},{\\\"properties\\\":{\\\"County\\\":\\\"Auglaize County\\\",\\\"State\\\":\\\"Ohio\\\",\\\"countyCode\\\":\\\"11b-39011\\\",\\\"Title\\\":\\\"Auglaize County, Ohio GIS Open Data Downloads\\\",\\\"sourceURL\\\":\\\"http://augcogis.maps.arcgis.com/apps/PublicGallery/index.html?appid=8c6858fbb82042a6b72aa3b059433cdb\\\",\\\"btaaURL\\\":\\\"https://geo.btaa.org/?q=11b-39011\\\",\\\"totalRecords\\\":1,\\\"Color\\\":\\\"#b3cde0\\\"},\\\"type\\\":\\\"Polygon\\\",\\\"arcs\\\":[[47,48,-369,49,-418,50]],\\\"id\\\":9},{\\\"properties\\\":{\\\"County\\\":\\\"Baltimore County\\\",\\\"State\\\":\\\"Maryland\\\",\\\"countyCode\\\":\\\"04b-24005\\\",\\\"Title\\\":\\\"Baltimore County Open Data Portal\\\",\\\"sourceURL\\\":\\\"https://data-bc-gis.opendata.arcgis.com\\\",\\\"btaaURL\\\":\\\"https://geo.btaa.org/?q=04b-24005\\\",\\\"totalRecords\\\":184,\\\"Color\\\":\\\"#03396c \\\"},\\\"type\\\":\\\"MultiPolygon\\\",\\\"arcs\\\":[[[114,-115]],[[274,-275]],[[51,-52]],[[63,-64]],[[52]],[[53]],[[-67,54]],[[55]],[[56]],[[57]],[[58]],[[59,60,61,-316,-315,314,-314,-313,312,-312,-311,310,-310,-309,308,-308,-114,-113,112,111,-111,-110,109,-109,-108,-107,-106,62,-288,-287,286,-286,-285,284,-284,-283,282,-282,-281,280,-280,-279,278,63,64,65,66,67],[68]]],\\\"id\\\":10},{\\\"properties\\\":{\\\"County\\\":\\\"Bayfield County\\\",\\\"State\\\":\\\"Wisconsin\\\",\\\"countyCode\\\":\\\"10b-55007\\\",\\\"Title\\\":\\\"Bayfield County GIS Download\\\",\\\"sourceURL\\\":\\\"https://www.bayfieldcounty.wi.gov/892/GIS-Data-Download\\\",\\\"btaaURL\\\":\\\"https://geo.btaa.org/?q=10b-55007\\\",\\\"totalRecords\\\":1,\\\"Color\\\":\\\"#b3cde0\\\"},\\\"type\\\":\\\"MultiPolygon\\\",\\\"arcs\\\":[[[69]],[[70]],[[71]],[[72]],[[-210,73,77,74,75,76],[-78,77]]],\\\"id\\\":11},{\\\"properties\\\":{\\\"County\\\":\\\"Becker County\\\",\\\"State\\\":\\\"Minnesota\\\",\\\"countyCode\\\":\\\"05b-27005\\\",\\\"Title\\\":\\\"Becker County GIS Data Downloads\\\",\\\"sourceURL\\\":\\\"https://www.co.becker.mn.us/online_services/GIS_data.aspx\\\",\\\"btaaURL\\\":\\\"https://geo.btaa.org/?q=05b-27005\\\",\\\"totalRecords\\\":24,\\\"Color\\\":\\\"#6497b1\\\"},\\\"type\\\":\\\"Polygon\\\",\\\"arcs\\\":[[-321,78,-496,-137,79,-143]],\\\"id\\\":12},{\\\"properties\\\":{\\\"County\\\":\\\"Belmont County\\\",\\\"State\\\":\\\"Ohio\\\",\\\"countyCode\\\":\\\"11b-39013\\\",\\\"Title\\\":\\\"Data/Downloads for Belmont County, Ohio\\\",\\\"sourceURL\\\":\\\"http://www.belcogis.com/DataDownloads.htm\\\",\\\"btaaURL\\\":\\\"https://geo.btaa.org/?q=11b-39013\\\",\\\"totalRecords\\\":1,\\\"Color\\\":\\\"#b3cde0\\\"},\\\"type\\\":\\\"Polygon\\\",\\\"arcs\\\":[[80]],\\\"id\\\":13},{\\\"properties\\\":{\\\"County\\\":\\\"Beltrami County\\\",\\\"State\\\":\\\"Minnesota\\\",\\\"countyCode\\\":\\\"05b-27007\\\",\\\"Title\\\":\\\"Beltrami County Open GIS Data\\\",\\\"sourceURL\\\":\\\"https://bemidji-beltramicounty.opendata.arcgis.com/\\\",\\\"btaaURL\\\":\\\"https://geo.btaa.org/?q=05b-27007\\\",\\\"totalRecords\\\":1,\\\"Color\\\":\\\"#b3cde0\\\"},\\\"type\\\":\\\"Polygon\\\",\\\"arcs\\\":[[-319,-142,-141,-140,81]],\\\"id\\\":14},{\\\"properties\\\":{\\\"County\\\":\\\"Benton County\\\",\\\"State\\\":\\\"Minnesota\\\",\\\"countyCode\\\":\\\"05b-27009\\\",\\\"Title\\\":\\\"Benton County GIS Data Downloads\\\",\\\"sourceURL\\\":\\\"https://www.co.benton.mn.us/274/GIS-Mapping\\\",\\\"btaaURL\\\":\\\"https://geo.btaa.org/?q=05b-27009\\\",\\\"totalRecords\\\":6,\\\"Color\\\":\\\"#6497b1\\\"},\\\"type\\\":\\\"Polygon\\\",\\\"arcs\\\":[[82,-642,-704,-703,702,-702]],\\\"id\\\":15},{\\\"properties\\\":{\\\"County\\\":\\\"Big Stone County\\\",\\\"State\\\":\\\"Minnesota\\\",\\\"countyCode\\\":\\\"05b-27011\\\",\\\"Title\\\":\\\"Big Stone County Open Data\\\",\\\"sourceURL\\\":\\\"https://data-bigstonecounty.opendata.arcgis.com\\\",\\\"btaaURL\\\":\\\"https://geo.btaa.org/?q=05b-27011\\\",\\\"totalRecords\\\":15,\\\"Color\\\":\\\"#6497b1\\\"},\\\"type\\\":\\\"Polygon\\\",\\\"arcs\\\":[[-721,83]],\\\"id\\\":16},{\\\"properties\\\":{\\\"County\\\":\\\"Brown County\\\",\\\"State\\\":\\\"Wisconsin\\\",\\\"countyCode\\\":\\\"10b-55009\\\",\\\"Title\\\":\\\"Brown County GIS Download\\\",\\\"sourceURL\\\":\\\"https://www.co.brown.wi.us/departments/?department=85713eda4cdc\\\",\\\"btaaURL\\\":\\\"https://geo.btaa.org/?q=10b-55009\\\",\\\"totalRecords\\\":1,\\\"Color\\\":\\\"#b3cde0\\\"},\\\"type\\\":\\\"MultiPolygon\\\",\\\"arcs\\\":[[[84]],[[90,-91]],[[89,-90]],[[85,-88,87]],[[86,87,88,89,90,91,-97,-504]]],\\\"id\\\":17},{\\\"properties\\\":{\\\"County\\\":\\\"Brown County\\\",\\\"State\\\":\\\"Ohio\\\",\\\"countyCode\\\":\\\"11b-39015\\\",\\\"Title\\\":\\\"Spatial Data for Brown County, Ohio\\\",\\\"sourceURL\\\":\\\"http://gis.browncountyengineer.org/gisweb/pages/downloads/BROWN-CO-DOWNLOADS.ASP\\\",\\\"btaaURL\\\":\\\"https://geo.btaa.org/?q=11b-39015\\\",\\\"totalRecords\\\":12,\\\"Color\\\":\\\"#6497b1\\\"},\\\"type\\\":\\\"MultiPolygon\\\",\\\"arcs\\\":[[[92]],[[-150,93,-148]]],\\\"id\\\":18},{\\\"properties\\\":{\\\"County\\\":\\\"Buffalo County\\\",\\\"State\\\":\\\"Wisconsin\\\",\\\"countyCode\\\":\\\"10b-55011\\\",\\\"Title\\\":\\\"Buffalo County GIS Download\\\",\\\"sourceURL\\\":\\\"https://www.buffalocounty.com/377/Geospatial-Data-Access\\\",\\\"btaaURL\\\":\\\"https://geo.btaa.org/?q=10b-55011\\\",\\\"totalRecords\\\":1,\\\"Color\\\":\\\"#b3cde0\\\"},\\\"type\\\":\\\"Polygon\\\",\\\"arcs\\\":[[-220,-728,-727,726,-726,-725,724,-724,94]],\\\"id\\\":19},{\\\"properties\\\":{\\\"County\\\":\\\"Butler County\\\",\\\"State\\\":\\\"Ohio\\\",\\\"countyCode\\\":\\\"11b-39017\\\",\\\"Title\\\":\\\"ArcGIS REST Services Directory for Butler County Auditor, Ohio\\\",\\\"sourceURL\\\":\\\"https://maps.butlercountyauditor.org/arcgis/rest/services\\\",\\\"btaaURL\\\":\\\"https://geo.btaa.org/?q=11b-39017\\\",\\\"totalRecords\\\":1,\\\"Color\\\":\\\"#b3cde0\\\"},\\\"type\\\":\\\"Polygon\\\",\\\"arcs\\\":[[-452,-762,95,-531]],\\\"id\\\":20},{\\\"properties\\\":{\\\"County\\\":\\\"Calumet County\\\",\\\"State\\\":\\\"Wisconsin\\\",\\\"countyCode\\\":\\\"10b-55015\\\",\\\"Title\\\":\\\"Calumet County GIS Download\\\",\\\"sourceURL\\\":\\\"https://www.calumetmaps.com/data.html\\\",\\\"btaaURL\\\":\\\"https://geo.btaa.org/?q=10b-55015\\\",\\\"totalRecords\\\":1,\\\"Color\\\":\\\"#b3cde0\\\"},\\\"type\\\":\\\"Polygon\\\",\\\"arcs\\\":[[-501,96,97,-641,-233,98]],\\\"id\\\":21},{\\\"properties\\\":{\\\"County\\\":\\\"Calvert County\\\",\\\"State\\\":\\\"Maryland\\\",\\\"countyCode\\\":\\\"04b-24009\\\",\\\"Title\\\":\\\"Calvert County Open GIS Data Portal|Calvert County GIS, Historic Maps, Topos\\\",\\\"sourceURL\\\":\\\"https://calvert-county-open-data-calvertgis.hub.arcgis.com|http://www.co.cal.md.us/index.aspx?NID=1534\\\",\\\"btaaURL\\\":\\\"https://geo.btaa.org/?q=04b-24009\\\",\\\"totalRecords\\\":19,\\\"Color\\\":\\\"#6497b1\\\"},\\\"type\\\":\\\"Polygon\\\",\\\"arcs\\\":[[550,-551,99,-101,100,101,102,-554,-553,552,-552]],\\\"id\\\":22},{\\\"properties\\\":{\\\"County\\\":\\\"Carlton County\\\",\\\"State\\\":\\\"Minnesota\\\",\\\"countyCode\\\":\\\"05b-27017\\\",\\\"Title\\\":\\\"Carlton County Open Data\\\",\\\"sourceURL\\\":\\\"https://data-carltoncounty.opendata.arcgis.com\\\",\\\"btaaURL\\\":\\\"https://geo.btaa.org/?q=05b-27017\\\",\\\"totalRecords\\\":1,\\\"Color\\\":\\\"#b3cde0\\\"},\\\"type\\\":\\\"Polygon\\\",\\\"arcs\\\":[[-690,-203,103]],\\\"id\\\":23},{\\\"properties\\\":{\\\"County\\\":\\\"Carroll County\\\",\\\"State\\\":\\\"Maryland\\\",\\\"countyCode\\\":\\\"04b-24013\\\",\\\"Title\\\":\\\"Carroll County GIS Open Data\\\",\\\"sourceURL\\\":\\\"https://data-carrollco-md.opendata.arcgis.com\\\",\\\"btaaURL\\\":\\\"https://geo.btaa.org/?q=04b-24013\\\",\\\"totalRecords\\\":29,\\\"Color\\\":\\\"#6497b1\\\"},\\\"type\\\":\\\"MultiPolygon\\\",\\\"arcs\\\":[[[317,-318]],[[317,-306,-253,-252,251,-251,-250,249,-249,-248,247,-247,-246,245,-245,243,-243,-242,241,-241,-240,239,-239,-238,237,-237,104,105,106,107,108,-110,109,110,111,-113,112,113,-307],[-115,114]]],\\\"id\\\":24},{\\\"properties\\\":{\\\"County\\\":\\\"Carver County\\\",\\\"State\\\":\\\"Minnesota\\\",\\\"countyCode\\\":\\\"05b-27019\\\",\\\"Title\\\":\\\"Carver County GIS Data\\\",\\\"sourceURL\\\":\\\"http://data-carver.opendata.arcgis.com\\\",\\\"btaaURL\\\":\\\"https://geo.btaa.org/?q=05b-27019\\\",\\\"totalRecords\\\":41,\\\"Color\\\":\\\"#6497b1\\\"},\\\"type\\\":\\\"Polygon\\\",\\\"arcs\\\":[[115,-294,-628,-627,626,-626,-625,624,-624,-623,622,-622,620,-620,619,-619,116,-412]],\\\"id\\\":25},{\\\"properties\\\":{\\\"County\\\":\\\"Cass County\\\",\\\"State\\\":\\\"Iowa\\\",\\\"countyCode\\\":\\\"03b-19029\\\",\\\"Title\\\":\\\"Cass County GIS Downloadable Files\\\",\\\"sourceURL\\\":\\\"https://www.casscountyia.gov/county-departments/gis-coordinator/\\\",\\\"btaaURL\\\":\\\"https://geo.btaa.org/?q=03b-19029\\\",\\\"totalRecords\\\":11,\\\"Color\\\":\\\"#6497b1\\\"},\\\"type\\\":\\\"Polygon\\\",\\\"arcs\\\":[[117,-527]],\\\"id\\\":26},{\\\"properties\\\":{\\\"County\\\":\\\"Centre County\\\",\\\"State\\\":\\\"Pennsylvania\\\",\\\"countyCode\\\":\\\"08b-42027\\\",\\\"Title\\\":\\\"Centre County Open Data\\\",\\\"sourceURL\\\":\\\"http://gisdata-centrecountygov.opendata.arcgis.com\\\",\\\"btaaURL\\\":\\\"https://geo.btaa.org/?q=08b-42027\\\",\\\"totalRecords\\\":80,\\\"Color\\\":\\\"#005b96\\\"},\\\"type\\\":\\\"MultiPolygon\\\",\\\"arcs\\\":[[[118]],[[120,-121]],[[119,120,121],[122]]],\\\"id\\\":27},{\\\"properties\\\":{\\\"County\\\":\\\"Champaign County\\\",\\\"State\\\":\\\"Ohio\\\",\\\"countyCode\\\":\\\"11b-39021\\\",\\\"Title\\\":\\\"GIS Data Downloads for Champaign County, Ohio\\\",\\\"sourceURL\\\":\\\"https://downloads.ddti.net/champaignoh\\\",\\\"btaaURL\\\":\\\"https://geo.btaa.org/?q=11b-39021\\\",\\\"totalRecords\\\":17,\\\"Color\\\":\\\"#6497b1\\\"},\\\"type\\\":\\\"Polygon\\\",\\\"arcs\\\":[[-367,-746,-392,123]],\\\"id\\\":28},{\\\"properties\\\":{\\\"County\\\":\\\"Chester County\\\",\\\"State\\\":\\\"Pennsylvania\\\",\\\"countyCode\\\":\\\"08b-42029\\\",\\\"Title\\\":\\\"Chester County GIS Data\\\",\\\"sourceURL\\\":\\\"https://data1-chesco.opendata.arcgis.com\\\",\\\"btaaURL\\\":\\\"https://geo.btaa.org/?q=08b-42029\\\",\\\"totalRecords\\\":14,\\\"Color\\\":\\\"#6497b1\\\"},\\\"type\\\":\\\"MultiPolygon\\\",\\\"arcs\\\":[[[124]],[[125]],[[126]],[[127]],[[449,-450]],[[446,-447]],[[-446,-445,-444,-443,441,-441,128,-448,-447,446]]],\\\"id\\\":29},{\\\"properties\\\":{\\\"County\\\":\\\"Chippewa County\\\",\\\"State\\\":\\\"Minnesota\\\",\\\"countyCode\\\":\\\"05b-27023\\\",\\\"Title\\\":\\\"Chippewa County Open GIS Data\\\",\\\"sourceURL\\\":\\\"https://data-chippewa.opendata.arcgis.com/\\\",\\\"btaaURL\\\":\\\"https://geo.btaa.org/?q=05b-27023\\\",\\\"totalRecords\\\":7,\\\"Color\\\":\\\"#6497b1\\\"},\\\"type\\\":\\\"MultiPolygon\\\",\\\"arcs\\\":[[[129,-130]],[[129,130,-603,131],[132]]],\\\"id\\\":30},{\\\"properties\\\":{\\\"County\\\":\\\"Chisago County\\\",\\\"State\\\":\\\"Minnesota\\\",\\\"countyCode\\\":\\\"05b-27025\\\",\\\"Title\\\":\\\"Chisago County GIS Data Downloads\\\",\\\"sourceURL\\\":\\\"https://chisagocounty.us/427/Geographic-Information-Systems-GIS\\\",\\\"btaaURL\\\":\\\"https://geo.btaa.org/?q=05b-27025\\\",\\\"totalRecords\\\":15,\\\"Color\\\":\\\"#6497b1\\\"},\\\"type\\\":\\\"Polygon\\\",\\\"arcs\\\":[[133,-519,-518,517,-517,134,135,-323]],\\\"id\\\":31},{\\\"properties\\\":{\\\"County\\\":\\\"Clay County\\\",\\\"State\\\":\\\"Minnesota\\\",\\\"countyCode\\\":\\\"05b-27027\\\",\\\"Title\\\":\\\"Clay County Open Data\\\",\\\"sourceURL\\\":\\\"https://data-claycountymn.opendata.arcgis.com\\\",\\\"btaaURL\\\":\\\"https://geo.btaa.org/?q=05b-27027\\\",\\\"totalRecords\\\":21,\\\"Color\\\":\\\"#6497b1\\\"},\\\"type\\\":\\\"Polygon\\\",\\\"arcs\\\":[[136,-500,-793,137,138]],\\\"id\\\":32},{\\\"properties\\\":{\\\"County\\\":\\\"Clearwater County\\\",\\\"State\\\":\\\"Minnesota\\\",\\\"countyCode\\\":\\\"05b-27029\\\",\\\"Title\\\":\\\"Clearwater County GIS Data Downloads\\\",\\\"sourceURL\\\":\\\"https://www.co.clearwater.mn.us/index.asp?Type=B_LIST&SEC=%7BC3EA334C-2D16-4252-B563-7908C6E147D2%7D\\\",\\\"btaaURL\\\":\\\"https://geo.btaa.org/?q=05b-27029\\\",\\\"totalRecords\\\":3,\\\"Color\\\":\\\"#6497b1\\\"},\\\"type\\\":\\\"Polygon\\\",\\\"arcs\\\":[[139,140,141,-322,142,143,-513,144]],\\\"id\\\":33},{\\\"properties\\\":{\\\"County\\\":\\\"Clermont County\\\",\\\"State\\\":\\\"Ohio\\\",\\\"countyCode\\\":\\\"11b-39025\\\",\\\"Title\\\":\\\"Download GIS Data for Clermont County, Ohio\\\",\\\"sourceURL\\\":\\\"http://gis.clermontcountyohio.gov/download-gis-data\\\",\\\"btaaURL\\\":\\\"https://geo.btaa.org/?q=11b-39025\\\",\\\"totalRecords\\\":1,\\\"Color\\\":\\\"#b3cde0\\\"},\\\"type\\\":\\\"MultiPolygon\\\",\\\"arcs\\\":[[[145]],[[146,-760,-759,758,-151,147]]],\\\"id\\\":34},{\\\"properties\\\":{\\\"County\\\":\\\"Clinton County\\\",\\\"State\\\":\\\"Ohio\\\",\\\"countyCode\\\":\\\"11b-39027\\\",\\\"Title\\\":\\\"Clinton County, Ohio, Geographic Information Systems\\\",\\\"sourceURL\\\":\\\"http://www.clintoncountyohgis.org/index.htm\\\",\\\"btaaURL\\\":\\\"https://geo.btaa.org/?q=11b-39027\\\",\\\"totalRecords\\\":1,\\\"Color\\\":\\\"#b3cde0\\\"},\\\"type\\\":\\\"Polygon\\\",\\\"arcs\\\":[[-268,148,149,150,758,-758]],\\\"id\\\":35},{\\\"properties\\\":{\\\"County\\\":\\\"Columbia County\\\",\\\"State\\\":\\\"Wisconsin\\\",\\\"countyCode\\\":\\\"10b-55021\\\",\\\"Title\\\":\\\"Land Records Data Portal of Columbia County, WI|Land Information Department of Columbia County, WI\\\",\\\"sourceURL\\\":\\\"https://opendata-cclid.opendata.arcgis.com|https://www.co.columbia.wi.us/columbiacounty/landinformation/LandInformation/tabid/757/Default.aspx\\\",\\\"btaaURL\\\":\\\"https://geo.btaa.org/?q=10b-55021\\\",\\\"totalRecords\\\":63,\\\"Color\\\":\\\"#005b96\\\"},\\\"type\\\":\\\"MultiPolygon\\\",\\\"arcs\\\":[[[188]],[[-611,151,-187]]],\\\"id\\\":36},{\\\"properties\\\":{\\\"County\\\":\\\"Cook County\\\",\\\"State\\\":\\\"Minnesota\\\",\\\"countyCode\\\":\\\"05b-27031\\\",\\\"Title\\\":\\\"Cook County Open GIS Data\\\",\\\"sourceURL\\\":\\\"https://open-data-portal-cookcountymn.hub.arcgis.com/\\\",\\\"btaaURL\\\":\\\"https://geo.btaa.org/?q=05b-27031\\\",\\\"totalRecords\\\":1,\\\"Color\\\":\\\"#b3cde0\\\"},\\\"type\\\":\\\"MultiPolygon\\\",\\\"arcs\\\":[[[152]],[[153]],[[154]],[[155]],[[156]],[[157]],[[158]],[[159]],[[160]],[[161]],[[162]],[[163]],[[164]],[[165]],[[-169,168,166]],[[170,-171]],[[167]],[[168,169,170,171]]],\\\"id\\\":37},{\\\"properties\\\":{\\\"County\\\":\\\"Cook County\\\",\\\"State\\\":\\\"Illinois\\\",\\\"countyCode\\\":\\\"12b-17031\\\",\\\"Title\\\":\\\"Cook Central|Cook County Open Data\\\",\\\"sourceURL\\\":\\\"https://hub-cookcountyil.opendata.arcgis.com|https://datacatalog.cookcountyil.gov\\\",\\\"btaaURL\\\":\\\"https://geo.btaa.org/?q=12b-17031\\\",\\\"totalRecords\\\":512,\\\"Color\\\":\\\"#011f4b\\\"},\\\"type\\\":\\\"MultiPolygon\\\",\\\"arcs\\\":[[[172]],[[-218,-217,216,-216,-215,214,-214,173,-350,174,-795],[-212,211]]],\\\"id\\\":38},{\\\"properties\\\":{\\\"County\\\":\\\"Coshocton County\\\",\\\"State\\\":\\\"Ohio\\\",\\\"countyCode\\\":\\\"11b-39031\\\",\\\"Title\\\":\\\"Data Downloads for Coshocton County, Ohio\\\",\\\"sourceURL\\\":\\\"http://www.coshoctoncounty.net/taxmap/gis-downloads\\\",\\\"btaaURL\\\":\\\"https://geo.btaa.org/?q=11b-39031\\\",\\\"totalRecords\\\":1,\\\"Color\\\":\\\"#b3cde0\\\"},\\\"type\\\":\\\"Polygon\\\",\\\"arcs\\\":[[-304,-738,175,-461,-361,-332]],\\\"id\\\":39},{\\\"properties\\\":{\\\"County\\\":\\\"Crawford County\\\",\\\"State\\\":\\\"Pennsylvania\\\",\\\"countyCode\\\":\\\"08b-42039\\\",\\\"Title\\\":\\\"Crawford County Open Data\\\",\\\"sourceURL\\\":\\\"https://share-open-data-crawfordcountypa.opendata.arcgis.com\\\",\\\"btaaURL\\\":\\\"https://geo.btaa.org/?q=08b-42039\\\",\\\"totalRecords\\\":57,\\\"Color\\\":\\\"#005b96\\\"},\\\"type\\\":\\\"MultiPolygon\\\",\\\"arcs\\\":[[[176]],[[177,178]]],\\\"id\\\":40},{\\\"properties\\\":{\\\"County\\\":\\\"Crawford County\\\",\\\"State\\\":\\\"Ohio\\\",\\\"countyCode\\\":\\\"11b-39033\\\",\\\"Title\\\":\\\"Downloads for Crawford County, Ohio\\\",\\\"sourceURL\\\":\\\"https://beacon.schneidercorp.com/Application.aspx?AppID=853&LayerID=16691&PageTypeID=16&PageID=7411&Q=291215914\\\",\\\"btaaURL\\\":\\\"https://geo.btaa.org/?q=11b-39033\\\",\\\"totalRecords\\\":27,\\\"Color\\\":\\\"#6497b1\\\"},\\\"type\\\":\\\"Polygon\\\",\\\"arcs\\\":[[-636,179,-454,-408,180]],\\\"id\\\":41},{\\\"properties\\\":{\\\"County\\\":\\\"Crow Wing County\\\",\\\"State\\\":\\\"Minnesota\\\",\\\"countyCode\\\":\\\"05b-27035\\\",\\\"Title\\\":\\\"Crow Wing County Open GIS Data\\\",\\\"sourceURL\\\":\\\"https://www.crowwing.us/85/Interactive-Maps\\\",\\\"btaaURL\\\":\\\"https://geo.btaa.org/?q=05b-27035\\\",\\\"totalRecords\\\":1,\\\"Color\\\":\\\"#b3cde0\\\"},\\\"type\\\":\\\"Polygon\\\",\\\"arcs\\\":[[181]],\\\"id\\\":42},{\\\"properties\\\":{\\\"County\\\":\\\"Cuyahoga County\\\",\\\"State\\\":\\\"Ohio\\\",\\\"countyCode\\\":\\\"11b-39035\\\",\\\"Title\\\":\\\"Cuyahoga County Open Data\\\",\\\"sourceURL\\\":\\\"https://data-cuyahoga.opendata.arcgis.com\\\",\\\"btaaURL\\\":\\\"https://geo.btaa.org/?q=11b-39035\\\",\\\"totalRecords\\\":2,\\\"Color\\\":\\\"#6497b1\\\"},\\\"type\\\":\\\"MultiPolygon\\\",\\\"arcs\\\":[[[258,-259]],[[-259,-258,-714,-713,712,-712,-711,710,-710,-709,708,-708,-417,-371,182,-344,-255]]],\\\"id\\\":43},{\\\"properties\\\":{\\\"County\\\":\\\"Dallas County\\\",\\\"State\\\":\\\"Iowa\\\",\\\"countyCode\\\":\\\"03b-19049\\\",\\\"Title\\\":\\\"Dallas County Data Download\\\",\\\"sourceURL\\\":\\\"https://www.dallascountyiowa.gov/government/business-and-planning/gis/data-download\\\",\\\"btaaURL\\\":\\\"https://geo.btaa.org/?q=03b-19049\\\",\\\"totalRecords\\\":1,\\\"Color\\\":\\\"#b3cde0\\\"},\\\"type\\\":\\\"Polygon\\\",\\\"arcs\\\":[[183]],\\\"id\\\":44},{\\\"properties\\\":{\\\"County\\\":\\\"Dane County\\\",\\\"State\\\":\\\"Wisconsin\\\",\\\"countyCode\\\":\\\"10b-55025\\\",\\\"Title\\\":\\\"Discover Dane County, WI\\\",\\\"sourceURL\\\":\\\"https://gis-countyofdane.opendata.arcgis.com\\\",\\\"btaaURL\\\":\\\"https://geo.btaa.org/?q=10b-55025\\\",\\\"totalRecords\\\":61,\\\"Color\\\":\\\"#005b96\\\"},\\\"type\\\":\\\"MultiPolygon\\\",\\\"arcs\\\":[[[184]],[[-263,185,-612,186,187],[188]]],\\\"id\\\":45},{\\\"properties\\\":{\\\"County\\\":\\\"Dauphin County\\\",\\\"State\\\":\\\"Pennsylvania\\\",\\\"countyCode\\\":\\\"08b-42043\\\",\\\"Title\\\":\\\"Dauphin County GIS Data Portal\\\",\\\"sourceURL\\\":\\\"https://data-dauphinco.opendata.arcgis.com\\\",\\\"btaaURL\\\":\\\"https://geo.btaa.org/?q=08b-42043\\\",\\\"totalRecords\\\":16,\\\"Color\\\":\\\"#6497b1\\\"},\\\"type\\\":\\\"Polygon\\\",\\\"arcs\\\":[[189],[190]],\\\"id\\\":46},{\\\"properties\\\":{\\\"County\\\":\\\"Defiance County\\\",\\\"State\\\":\\\"Ohio\\\",\\\"countyCode\\\":\\\"11b-39039\\\",\\\"Title\\\":\\\"Defiance County GIS\\\",\\\"sourceURL\\\":\\\"https://www.defiance-county.com/engineer/GIS.htm\\\",\\\"btaaURL\\\":\\\"https://geo.btaa.org/?q=11b-39039\\\",\\\"totalRecords\\\":1,\\\"Color\\\":\\\"#b3cde0\\\"},\\\"type\\\":\\\"Polygon\\\",\\\"arcs\\\":[[-297,-563,191]],\\\"id\\\":47},{\\\"properties\\\":{\\\"County\\\":\\\"Delaware County\\\",\\\"State\\\":\\\"Ohio\\\",\\\"countyCode\\\":\\\"11b-39041\\\",\\\"Title\\\":\\\"Delaware County GIS\\\",\\\"sourceURL\\\":\\\"https://gisdata-delco.hub.arcgis.com/\\\",\\\"btaaURL\\\":\\\"https://geo.btaa.org/?q=11b-39041\\\",\\\"totalRecords\\\":1,\\\"Color\\\":\\\"#b3cde0\\\"},\\\"type\\\":\\\"Polygon\\\",\\\"arcs\\\":[[-358,-357,-235,-743,-406,-458,-457,456,-333,-359]],\\\"id\\\":48},{\\\"properties\\\":{\\\"County\\\":\\\"Douglas County\\\",\\\"State\\\":\\\"Minnesota\\\",\\\"countyCode\\\":\\\"05b-27041\\\",\\\"Title\\\":\\\"Douglas County Public Works Open Data\\\",\\\"sourceURL\\\":\\\"https://data-dcpw.opendata.arcgis.com/datasets/parcels\\\",\\\"btaaURL\\\":\\\"https://geo.btaa.org/?q=05b-27041\\\",\\\"totalRecords\\\":1,\\\"Color\\\":\\\"#b3cde0\\\"},\\\"type\\\":\\\"Polygon\\\",\\\"arcs\\\":[[-498,192,-700,-520,-260]],\\\"id\\\":49},{\\\"properties\\\":{\\\"County\\\":\\\"Douglas County\\\",\\\"State\\\":\\\"Wisconsin\\\",\\\"countyCode\\\":\\\"10b-55031\\\",\\\"Title\\\":\\\"Douglas County GIS Download\\\",\\\"sourceURL\\\":\\\"https://www.ci.superior.wi.us/474/Geospatial-Data-GIS\\\",\\\"btaaURL\\\":\\\"https://geo.btaa.org/?q=10b-55031\\\",\\\"totalRecords\\\":1,\\\"Color\\\":\\\"#b3cde0\\\"},\\\"type\\\":\\\"MultiPolygon\\\",\\\"arcs\\\":[[[193]],[[194,-195]],[[-207,195]],[[196]],[[197]],[[198]],[[199]],[[200]],[[-763,201,202,-689,688,-688,203,-671,204,-682,205,206,207,208,209],[210]]],\\\"id\\\":50},{\\\"properties\\\":{\\\"County\\\":\\\"DuPage County\\\",\\\"State\\\":\\\"Illinois\\\",\\\"countyCode\\\":\\\"12b-17043\\\",\\\"Title\\\":\\\"DuPage County GIS\\\",\\\"sourceURL\\\":\\\"https://gisdata-dupage.opendata.arcgis.com\\\",\\\"btaaURL\\\":\\\"https://geo.btaa.org/?q=12b-17043\\\",\\\"totalRecords\\\":56,\\\"Color\\\":\\\"#005b96\\\"},\\\"type\\\":\\\"MultiPolygon\\\",\\\"arcs\\\":[[[211,-212]],[[-794,212,213,-215,214,215,-217,216,217],[218]]],\\\"id\\\":51},{\\\"properties\\\":{\\\"County\\\":\\\"Eau Claire County\\\",\\\"State\\\":\\\"Wisconsin\\\",\\\"countyCode\\\":\\\"10b-55035\\\",\\\"Title\\\":\\\"GIS Divison of Eau Claire County, WI|Eau Claire County Geospatial Hub\\\",\\\"sourceURL\\\":\\\"https://www.co.eau-claire.wi.us/our-government/departments-and-facilities/department-directory/planning-and-development/gis-division|https://hub-eccounty.hub.arcgis.com\\\",\\\"btaaURL\\\":\\\"https://geo.btaa.org/?q=10b-55035\\\",\\\"totalRecords\\\":61,\\\"Color\\\":\\\"#005b96\\\"},\\\"type\\\":\\\"Polygon\\\",\\\"arcs\\\":[[-729,219,220]],\\\"id\\\":52},{\\\"properties\\\":{\\\"County\\\":\\\"Erie County\\\",\\\"State\\\":\\\"Ohio\\\",\\\"countyCode\\\":\\\"11b-39043\\\",\\\"Title\\\":\\\"GIS Data Downloads for Erie County, Ohio\\\",\\\"sourceURL\\\":\\\"https://downloads.ddti.net/erieoh\\\",\\\"btaaURL\\\":\\\"https://geo.btaa.org/?q=11b-39043\\\",\\\"totalRecords\\\":57,\\\"Color\\\":\\\"#005b96\\\"},\\\"type\\\":\\\"MultiPolygon\\\",\\\"arcs\\\":[[[221]],[[222]],[[228,-229,223]],[[-373,224,225,226]],[[227,228,229]],[[230]]],\\\"id\\\":53},{\\\"properties\\\":{\\\"County\\\":\\\"Fairfield County\\\",\\\"State\\\":\\\"Ohio\\\",\\\"countyCode\\\":\\\"11b-39045\\\",\\\"Title\\\":\\\"GIS Data Downloads for Fairfield County Auditor's Office, Ohio\\\",\\\"sourceURL\\\":\\\"https://www.co.fairfield.oh.us/gis\\\",\\\"btaaURL\\\":\\\"https://geo.btaa.org/?q=11b-39045\\\",\\\"totalRecords\\\":36,\\\"Color\\\":\\\"#6497b1\\\"},\\\"type\\\":\\\"Polygon\\\",\\\"arcs\\\":[[-355,231,-299,-508,-236]],\\\"id\\\":54},{\\\"properties\\\":{\\\"County\\\":\\\"Fond du Lac County\\\",\\\"State\\\":\\\"Wisconsin\\\",\\\"countyCode\\\":\\\"10b-55039\\\",\\\"Title\\\":\\\"Fond du Lac County GIS Download\\\",\\\"sourceURL\\\":\\\"https://www.fdlco.wi.gov/departments/departments-f-m/land-information/data-download\\\",\\\"btaaURL\\\":\\\"https://geo.btaa.org/?q=10b-55039\\\",\\\"totalRecords\\\":1,\\\"Color\\\":\\\"#b3cde0\\\"},\\\"type\\\":\\\"MultiPolygon\\\",\\\"arcs\\\":[[[768]],[[232,-640,-766,233]]],\\\"id\\\":55},{\\\"properties\\\":{\\\"County\\\":\\\"Franklin County\\\",\\\"State\\\":\\\"Ohio\\\",\\\"countyCode\\\":\\\"11b-39049\\\",\\\"Title\\\":\\\"Franklin County Auditor, Ohio Open Data|GIS Shapefiles for Franklin County Auditor, Ohio\\\",\\\"sourceURL\\\":\\\"https://auditor-fca.opendata.arcgis.com|ftp://apps.franklincountyauditor.com\\\",\\\"btaaURL\\\":\\\"https://geo.btaa.org/?q=11b-39049\\\",\\\"totalRecords\\\":43,\\\"Color\\\":\\\"#6497b1\\\"},\\\"type\\\":\\\"MultiPolygon\\\",\\\"arcs\\\":[[[400,-401]],[[400,-401]],[[399]],[[361]],[[398]],[[397]],[[-507,-397,-396,395,-395,-394,393,-393,-744,234,-356,235],[329],[352]]],\\\"id\\\":56},{\\\"properties\\\":{\\\"County\\\":\\\"Frederick County\\\",\\\"State\\\":\\\"Maryland\\\",\\\"countyCode\\\":\\\"04b-24021\\\",\\\"Title\\\":\\\"Frederick County Open Data\\\",\\\"sourceURL\\\":\\\"https://gis-fcgmd.opendata.arcgis.com\\\",\\\"btaaURL\\\":\\\"https://geo.btaa.org/?q=04b-24021\\\",\\\"totalRecords\\\":96,\\\"Color\\\":\\\"#005b96\\\"},\\\"type\\\":\\\"Polygon\\\",\\\"arcs\\\":[[236,-238,237,238,-240,239,240,-242,241,242,243,244,-246,245,246,-248,247,248,-250,249,250,-252,251,252,-440,-439,-438,253]],\\\"id\\\":57},{\\\"properties\\\":{\\\"County\\\":\\\"Geauga County\\\",\\\"State\\\":\\\"Ohio\\\",\\\"countyCode\\\":\\\"11b-39055\\\",\\\"Title\\\":\\\"GIS Data Downloads for Geauga County Auditor, Ohio\\\",\\\"sourceURL\\\":\\\"http://www.auditor.co.geauga.oh.us/GIS/Downloads\\\",\\\"btaaURL\\\":\\\"https://geo.btaa.org/?q=11b-39055\\\",\\\"totalRecords\\\":51,\\\"Color\\\":\\\"#005b96\\\"},\\\"type\\\":\\\"MultiPolygon\\\",\\\"arcs\\\":[[[344]],[[-259,258,254,-343,-342,341,-341,255,256,-524,257]]],\\\"id\\\":58},{\\\"properties\\\":{\\\"County\\\":\\\"Grant County\\\",\\\"State\\\":\\\"Minnesota\\\",\\\"countyCode\\\":\\\"05b-27051\\\",\\\"Title\\\":\\\"Grant County Open GIS Data\\\",\\\"sourceURL\\\":\\\"https://share-co-grant-mn-us.opendata.arcgis.com/\\\",\\\"btaaURL\\\":\\\"https://geo.btaa.org/?q=05b-27051\\\",\\\"totalRecords\\\":1,\\\"Color\\\":\\\"#b3cde0\\\"},\\\"type\\\":\\\"Polygon\\\",\\\"arcs\\\":[[-499,259,260,-719,-790]],\\\"id\\\":59},{\\\"properties\\\":{\\\"County\\\":\\\"Grant County\\\",\\\"State\\\":\\\"Wisconsin\\\",\\\"countyCode\\\":\\\"10b-55043\\\",\\\"Title\\\":\\\"Grant County Web Portal\\\",\\\"sourceURL\\\":\\\"http://www.grantcountylandrecords.com/GCSWebPortal/Search.aspx\\\",\\\"btaaURL\\\":\\\"https://geo.btaa.org/?q=10b-55043\\\",\\\"totalRecords\\\":1,\\\"Color\\\":\\\"#b3cde0\\\"},\\\"type\\\":\\\"Polygon\\\",\\\"arcs\\\":[[-338,261]],\\\"id\\\":60},{\\\"properties\\\":{\\\"County\\\":\\\"Green County\\\",\\\"State\\\":\\\"Wisconsin\\\",\\\"countyCode\\\":\\\"10b-55045\\\",\\\"Title\\\":\\\"Green County GIS Download\\\",\\\"sourceURL\\\":\\\"https://wi-greencounty.civicplus.com/179/Downloadable-GIS-Data-Forms\\\",\\\"btaaURL\\\":\\\"https://geo.btaa.org/?q=10b-55045\\\",\\\"totalRecords\\\":1,\\\"Color\\\":\\\"#b3cde0\\\"},\\\"type\\\":\\\"Polygon\\\",\\\"arcs\\\":[[262,263,-336,264]],\\\"id\\\":61},{\\\"properties\\\":{\\\"County\\\":\\\"Greene County\\\",\\\"State\\\":\\\"Ohio\\\",\\\"countyCode\\\":\\\"11b-39057\\\",\\\"Title\\\":\\\"Data for Greene County, Ohio\\\",\\\"sourceURL\\\":\\\"https://www.greenecountyohio.gov/DocumentCenter\\\",\\\"btaaURL\\\":\\\"https://geo.btaa.org/?q=11b-39057\\\",\\\"totalRecords\\\":1,\\\"Color\\\":\\\"#b3cde0\\\"},\\\"type\\\":\\\"Polygon\\\",\\\"arcs\\\":[[265,-390,266,267,-757,-451]],\\\"id\\\":62},{\\\"properties\\\":{\\\"County\\\":\\\"Hamilton County\\\",\\\"State\\\":\\\"Indiana\\\",\\\"countyCode\\\":\\\"01b-18057\\\",\\\"Title\\\":\\\"Hamilton County, Indiana Open Data Collection|Hamilton County GIS Portal\\\",\\\"sourceURL\\\":\\\"nan|https://gis1.hamiltoncounty.in.gov/portal/home\\\",\\\"btaaURL\\\":\\\"https://geo.btaa.org/?q=01b-18057\\\",\\\"totalRecords\\\":13,\\\"Color\\\":\\\"#6497b1\\\"},\\\"type\\\":\\\"Polygon\\\",\\\"arcs\\\":[[268]],\\\"id\\\":63},{\\\"properties\\\":{\\\"County\\\":\\\"Hancock County\\\",\\\"State\\\":\\\"Ohio\\\",\\\"countyCode\\\":\\\"11b-39063\\\",\\\"Title\\\":\\\"GIS Data Downloads for Hancock County, Ohio\\\",\\\"sourceURL\\\":\\\"https://downloads.ddti.net/hancockoh\\\",\\\"btaaURL\\\":\\\"https://geo.btaa.org/?q=11b-39063\\\",\\\"totalRecords\\\":1,\\\"Color\\\":\\\"#b3cde0\\\"},\\\"type\\\":\\\"Polygon\\\",\\\"arcs\\\":[[-806,-638,269,270,-560]],\\\"id\\\":64},{\\\"properties\\\":{\\\"County\\\":\\\"Harford County\\\",\\\"State\\\":\\\"Maryland\\\",\\\"countyCode\\\":\\\"04b-24025\\\",\\\"Title\\\":\\\"Harford County Planning and Zoning Open GIS\\\",\\\"sourceURL\\\":\\\"https://planning-harfordgis.opendata.arcgis.com\\\",\\\"btaaURL\\\":\\\"https://geo.btaa.org/?q=04b-24025\\\",\\\"totalRecords\\\":1,\\\"Color\\\":\\\"#b3cde0\\\"},\\\"type\\\":\\\"MultiPolygon\\\",\\\"arcs\\\":[[[271]],[[272]],[[276,-277]],[[276,275,-276,-277]],[[-277,273,-276,274,275,276,277,-279,278,279,-281,280,281,-283,282,283,-285,284,285,-287,286,287,288],[289]],[[290]]],\\\"id\\\":65},{\\\"properties\\\":{\\\"County\\\":\\\"Hennepin County\\\",\\\"State\\\":\\\"Minnesota\\\",\\\"countyCode\\\":\\\"05b-27053\\\",\\\"Title\\\":\\\"Hennepin County GIS Data\\\",\\\"sourceURL\\\":\\\"https://gis-hennepin.hub.arcgis.com/pages/open-data\\\",\\\"btaaURL\\\":\\\"https://geo.btaa.org/?q=05b-27053\\\",\\\"totalRecords\\\":29,\\\"Color\\\":\\\"#6497b1\\\"},\\\"type\\\":\\\"Polygon\\\",\\\"arcs\\\":[[-646,291,-602,292,-631,-630,629,-629,293,294]],\\\"id\\\":66},{\\\"properties\\\":{\\\"County\\\":\\\"Henry County\\\",\\\"State\\\":\\\"Ohio\\\",\\\"countyCode\\\":\\\"11b-39069\\\",\\\"Title\\\":\\\"ArcGIS REST Services Directory for Henry County, Ohio\\\",\\\"sourceURL\\\":\\\"https://services.arcgis.com/osmyvTbXDC07yFxn/ArcGIS/rest/services\\\",\\\"btaaURL\\\":\\\"https://geo.btaa.org/?q=11b-39069\\\",\\\"totalRecords\\\":1,\\\"Color\\\":\\\"#b3cde0\\\"},\\\"type\\\":\\\"Polygon\\\",\\\"arcs\\\":[[295,-808,-807,-564,296,297]],\\\"id\\\":67},{\\\"properties\\\":{\\\"County\\\":\\\"Hocking County\\\",\\\"State\\\":\\\"Ohio\\\",\\\"countyCode\\\":\\\"11b-39073\\\",\\\"Title\\\":\\\"Downloadable Maps and Data for Hocking County, Ohio\\\",\\\"sourceURL\\\":\\\"https://hocking.oh.gov/publicmaps/index.php\\\",\\\"btaaURL\\\":\\\"https://geo.btaa.org/?q=11b-39073\\\",\\\"totalRecords\\\":1,\\\"Color\\\":\\\"#b3cde0\\\"},\\\"type\\\":\\\"Polygon\\\",\\\"arcs\\\":[[298,299,300,301,-509]],\\\"id\\\":68},{\\\"properties\\\":{\\\"County\\\":\\\"Holmes County\\\",\\\"State\\\":\\\"Ohio\\\",\\\"countyCode\\\":\\\"11b-39075\\\",\\\"Title\\\":\\\"Holmes County Public GIS Downloads\\\",\\\"sourceURL\\\":\\\"https://www.co.holmes.oh.us/gis-overview\\\",\\\"btaaURL\\\":\\\"https://geo.btaa.org/?q=11b-39075\\\",\\\"totalRecords\\\":1,\\\"Color\\\":\\\"#b3cde0\\\"},\\\"type\\\":\\\"Polygon\\\",\\\"arcs\\\":[[302,-731,-741,-740,-739,303,-331,304]],\\\"id\\\":69},{\\\"properties\\\":{\\\"County\\\":\\\"Howard County\\\",\\\"State\\\":\\\"Maryland\\\",\\\"countyCode\\\":\\\"04b-24027\\\",\\\"Title\\\":\\\"Howard County Open Data\\\",\\\"sourceURL\\\":\\\"https://data.howardcountymd.gov\\\",\\\"btaaURL\\\":\\\"https://geo.btaa.org/?q=04b-24027\\\",\\\"totalRecords\\\":200,\\\"Color\\\":\\\"#03396c \\\"},\\\"type\\\":\\\"Polygon\\\",\\\"arcs\\\":[[-535,-534,-436,-435,-434,-433,432,-432,-431,-430,-429,-428,-427,426,-426,-425,424,-424,-423,422,-422,439,305,-318,306,307,-309,308,309,-311,310,311,-313,312,313,-315,314,315,316,534],[-318,317]],\\\"id\\\":70},{\\\"properties\\\":{\\\"County\\\":\\\"Hubbard County\\\",\\\"State\\\":\\\"Minnesota\\\",\\\"countyCode\\\":\\\"05b-27057\\\",\\\"Title\\\":\\\"Hubbard County Open Geospatial Data\\\",\\\"sourceURL\\\":\\\"https://getdata-hubbardcounty.opendata.arcgis.com\\\",\\\"btaaURL\\\":\\\"https://geo.btaa.org/?q=05b-27057\\\",\\\"totalRecords\\\":1,\\\"Color\\\":\\\"#b3cde0\\\"},\\\"type\\\":\\\"Polygon\\\",\\\"arcs\\\":[[318,319,320,321]],\\\"id\\\":71},{\\\"properties\\\":{\\\"County\\\":\\\"Isanti County\\\",\\\"State\\\":\\\"Minnesota\\\",\\\"countyCode\\\":\\\"05b-27059\\\",\\\"Title\\\":\\\"Isanti County GIS Data\\\",\\\"sourceURL\\\":\\\"https://www.co.isanti.mn.us/175/Geographic-Information-Systems-GIS\\\",\\\"btaaURL\\\":\\\"https://geo.btaa.org/?q=05b-27059\\\",\\\"totalRecords\\\":1,\\\"Color\\\":\\\"#b3cde0\\\"},\\\"type\\\":\\\"Polygon\\\",\\\"arcs\\\":[[322,323,-644,324]],\\\"id\\\":72},{\\\"properties\\\":{\\\"County\\\":\\\"Kankakee County\\\",\\\"State\\\":\\\"Illinois\\\",\\\"countyCode\\\":\\\"02b-17091\\\",\\\"Title\\\":\\\"Kankakee County GIS\\\",\\\"sourceURL\\\":\\\"http://www.k3gis.com\\\",\\\"btaaURL\\\":\\\"https://geo.btaa.org/?q=02b-17091\\\",\\\"totalRecords\\\":1,\\\"Color\\\":\\\"#b3cde0\\\"},\\\"type\\\":\\\"Polygon\\\",\\\"arcs\\\":[[325,-797]],\\\"id\\\":73},{\\\"properties\\\":{\\\"County\\\":\\\"Kendall County\\\",\\\"State\\\":\\\"Illinois\\\",\\\"countyCode\\\":\\\"02b-17093\\\",\\\"Title\\\":\\\"Kendall County GIS\\\",\\\"sourceURL\\\":\\\"https://www.kendallcountyil.gov/departments/geographic-information-systems\\\",\\\"btaaURL\\\":\\\"https://geo.btaa.org/?q=02b-17093\\\",\\\"totalRecords\\\":1,\\\"Color\\\":\\\"#b3cde0\\\"},\\\"type\\\":\\\"Polygon\\\",\\\"arcs\\\":[[-799,326]],\\\"id\\\":74},{\\\"properties\\\":{\\\"County\\\":\\\"Kenosha County\\\",\\\"State\\\":\\\"Wisconsin\\\",\\\"countyCode\\\":\\\"10b-55059\\\",\\\"Title\\\":\\\"Kenosha County, WI GIS Open Data Portal|Digital Mapping Data of Kenosha County, WI\\\",\\\"sourceURL\\\":\\\"https://dataportal.kenoshacounty.org|https://www.kenoshacounty.org/1035/Digital-Mapping-Data\\\",\\\"btaaURL\\\":\\\"https://geo.btaa.org/?q=10b-55059\\\",\\\"totalRecords\\\":48,\\\"Color\\\":\\\"#005b96\\\"},\\\"type\\\":\\\"Polygon\\\",\\\"arcs\\\":[[-598,327,-348,328,-754]],\\\"id\\\":75},{\\\"properties\\\":{\\\"County\\\":\\\"Knox County\\\",\\\"State\\\":\\\"Ohio\\\",\\\"countyCode\\\":\\\"11b-39083\\\",\\\"Title\\\":\\\"Downloadable Files from Knox County, Ohio\\\",\\\"sourceURL\\\":\\\"https://co.knox.oh.us/tax-map-and-gis/archive-and-downloads/\\\",\\\"btaaURL\\\":\\\"https://geo.btaa.org/?q=11b-39083\\\",\\\"totalRecords\\\":1,\\\"Color\\\":\\\"#b3cde0\\\"},\\\"type\\\":\\\"MultiPolygon\\\",\\\"arcs\\\":[[[329]],[[330,331,-360,332,-457,-456,333]]],\\\"id\\\":76},{\\\"properties\\\":{\\\"County\\\":\\\"Lafayette County\\\",\\\"State\\\":\\\"Wisconsin\\\",\\\"countyCode\\\":\\\"10b-55065\\\",\\\"Title\\\":\\\"Lafayette County GIS Download\\\",\\\"sourceURL\\\":\\\"nan\\\",\\\"btaaURL\\\":\\\"https://geo.btaa.org/?q=10b-55065\\\",\\\"totalRecords\\\":1,\\\"Color\\\":\\\"#b3cde0\\\"},\\\"type\\\":\\\"Polygon\\\",\\\"arcs\\\":[[334,335,336,337]],\\\"id\\\":77},{\\\"properties\\\":{\\\"County\\\":\\\"Lake County\\\",\\\"State\\\":\\\"Ohio\\\",\\\"countyCode\\\":\\\"11b-39085\\\",\\\"Title\\\":\\\"GIS Data Download for Lake County, Ohio\\\",\\\"sourceURL\\\":\\\"https://www.lakegis.org/GIS-Home/GIS-Data-Download\\\",\\\"btaaURL\\\":\\\"https://geo.btaa.org/?q=11b-39085\\\",\\\"totalRecords\\\":1,\\\"Color\\\":\\\"#b3cde0\\\"},\\\"type\\\":\\\"Polygon\\\",\\\"arcs\\\":[[338,339,340,-342,341,342,343],[344]],\\\"id\\\":78},{\\\"properties\\\":{\\\"County\\\":\\\"Lake County\\\",\\\"State\\\":\\\"Illinois\\\",\\\"countyCode\\\":\\\"12b-17097\\\",\\\"Title\\\":\\\"Lake County Illinois Open Data Portal\\\",\\\"sourceURL\\\":\\\"https://data-lakecountyil.opendata.arcgis.com\\\",\\\"btaaURL\\\":\\\"https://geo.btaa.org/?q=12b-17097\\\",\\\"totalRecords\\\":63,\\\"Color\\\":\\\"#005b96\\\"},\\\"type\\\":\\\"MultiPolygon\\\",\\\"arcs\\\":[[[345]],[[346,347,348,349]]],\\\"id\\\":79},{\\\"properties\\\":{\\\"County\\\":\\\"Lawrence County\\\",\\\"State\\\":\\\"Ohio\\\",\\\"countyCode\\\":\\\"11b-39087\\\",\\\"Title\\\":\\\"GIS Data Downloads for Lawrence County, Ohio\\\",\\\"sourceURL\\\":\\\"https://downloads.ddti.net/lawrenceoh\\\",\\\"btaaURL\\\":\\\"https://geo.btaa.org/?q=11b-39087\\\",\\\"totalRecords\\\":1,\\\"Color\\\":\\\"#b3cde0\\\"},\\\"type\\\":\\\"Polygon\\\",\\\"arcs\\\":[[350],[351]],\\\"id\\\":80},{\\\"properties\\\":{\\\"County\\\":\\\"Licking County\\\",\\\"State\\\":\\\"Ohio\\\",\\\"countyCode\\\":\\\"11b-39089\\\",\\\"Title\\\":\\\"GIS Downloads for Licking County, Ohio\\\",\\\"sourceURL\\\":\\\"https://www.lcounty.com/gis_downloads/default.htm\\\",\\\"btaaURL\\\":\\\"https://geo.btaa.org/?q=11b-39089\\\",\\\"totalRecords\\\":6,\\\"Color\\\":\\\"#6497b1\\\"},\\\"type\\\":\\\"MultiPolygon\\\",\\\"arcs\\\":[[[357,-358]],[[352]],[[353,354,355,356,357,358,359,360,-463],[361]]],\\\"id\\\":81},{\\\"properties\\\":{\\\"County\\\":\\\"Lincoln County\\\",\\\"State\\\":\\\"Wisconsin\\\",\\\"countyCode\\\":\\\"10b-55069\\\",\\\"Title\\\":\\\"Lincoln County GIS Download\\\",\\\"sourceURL\\\":\\\"https://maps.co.lincoln.wi.us/webapps/gisportal/data.html\\\",\\\"btaaURL\\\":\\\"https://geo.btaa.org/?q=10b-55069\\\",\\\"totalRecords\\\":1,\\\"Color\\\":\\\"#b3cde0\\\"},\\\"type\\\":\\\"Polygon\\\",\\\"arcs\\\":[[-472,471,-471,362,-403,363,-468,-467,466,-473]],\\\"id\\\":82},{\\\"properties\\\":{\\\"County\\\":\\\"Linn County\\\",\\\"State\\\":\\\"Iowa\\\",\\\"countyCode\\\":\\\"03b-19113\\\",\\\"Title\\\":\\\"Linn County, Iowa Open Data Portal\\\",\\\"sourceURL\\\":\\\"http://opendata-linncounty-gis.opendata.arcgis.com\\\",\\\"btaaURL\\\":\\\"https://geo.btaa.org/?q=03b-19113\\\",\\\"totalRecords\\\":41,\\\"Color\\\":\\\"#6497b1\\\"},\\\"type\\\":\\\"Polygon\\\",\\\"arcs\\\":[[364]],\\\"id\\\":83},{\\\"properties\\\":{\\\"County\\\":\\\"Logan County\\\",\\\"State\\\":\\\"Ohio\\\",\\\"countyCode\\\":\\\"11b-39091\\\",\\\"Title\\\":\\\"Engineer's Office Maproom FTP for Logan County, Ohio\\\",\\\"sourceURL\\\":\\\"https://www.lceo.us/LOCO_ENG_FTP\\\",\\\"btaaURL\\\":\\\"https://geo.btaa.org/?q=11b-39091\\\",\\\"totalRecords\\\":1,\\\"Color\\\":\\\"#b3cde0\\\"},\\\"type\\\":\\\"Polygon\\\",\\\"arcs\\\":[[365,-749,-748,747,-747,366,367,368]],\\\"id\\\":84},{\\\"properties\\\":{\\\"County\\\":\\\"Lorain County\\\",\\\"State\\\":\\\"Ohio\\\",\\\"countyCode\\\":\\\"11b-39093\\\",\\\"Title\\\":\\\"Lorain County GIS Data\\\",\\\"sourceURL\\\":\\\"https://data-loraingis.opendata.arcgis.com\\\",\\\"btaaURL\\\":\\\"https://geo.btaa.org/?q=11b-39093\\\",\\\"totalRecords\\\":81,\\\"Color\\\":\\\"#005b96\\\"},\\\"type\\\":\\\"Polygon\\\",\\\"arcs\\\":[[369,370,-416,371,372,373]],\\\"id\\\":85},{\\\"properties\\\":{\\\"County\\\":\\\"Lucas County\\\",\\\"State\\\":\\\"Ohio\\\",\\\"countyCode\\\":\\\"11b-39095\\\",\\\"Title\\\":\\\"ArcGIS REST Services Directory for Lucas County, Ohio\\\",\\\"sourceURL\\\":\\\"https://lcapps.co.lucas.oh.us/arcgis/rest/services\\\",\\\"btaaURL\\\":\\\"https://geo.btaa.org/?q=11b-39095\\\",\\\"totalRecords\\\":1,\\\"Color\\\":\\\"#b3cde0\\\"},\\\"type\\\":\\\"MultiPolygon\\\",\\\"arcs\\\":[[[374]],[[375]],[[-382,376]],[[377]],[[378]],[[379,380,381,382,383,-477,-809,-808,384,385]],[[386]]],\\\"id\\\":86},{\\\"properties\\\":{\\\"County\\\":\\\"Macoupin County\\\",\\\"State\\\":\\\"Illinois\\\",\\\"countyCode\\\":\\\"02b-17117\\\",\\\"Title\\\":\\\"Macoupin Data\\\",\\\"sourceURL\\\":\\\"https://data.macoupincountyil.gov/\\\",\\\"btaaURL\\\":\\\"https://geo.btaa.org/?q=02b-17117\\\",\\\"totalRecords\\\":18,\\\"Color\\\":\\\"#6497b1\\\"},\\\"type\\\":\\\"Polygon\\\",\\\"arcs\\\":[[387]],\\\"id\\\":87},{\\\"properties\\\":{\\\"County\\\":\\\"Madison County\\\",\\\"State\\\":\\\"Ohio\\\",\\\"countyCode\\\":\\\"11b-39097\\\",\\\"Title\\\":\\\"GIS Data Downloads for Madison County, Ohio\\\",\\\"sourceURL\\\":\\\"https://downloads.ddti.net/madisonoh\\\",\\\"btaaURL\\\":\\\"https://geo.btaa.org/?q=11b-39097\\\",\\\"totalRecords\\\":1,\\\"Color\\\":\\\"#b3cde0\\\"},\\\"type\\\":\\\"Polygon\\\",\\\"arcs\\\":[[388,389,390,391,-745,392,-394,393,394,-396,395,396,-511],[397],[398],[399],[-401,400],[-401,400]],\\\"id\\\":88},{\\\"properties\\\":{\\\"County\\\":\\\"Mahoning County\\\",\\\"State\\\":\\\"Ohio\\\",\\\"countyCode\\\":\\\"11b-39099\\\",\\\"Title\\\":\\\"Public FTP for Mahoning County, Ohio\\\",\\\"sourceURL\\\":\\\"https://gisapp.mahoningcountyoh.gov/Public_FTP_Folder\\\",\\\"btaaURL\\\":\\\"https://geo.btaa.org/?q=11b-39099\\\",\\\"totalRecords\\\":1,\\\"Color\\\":\\\"#b3cde0\\\"},\\\"type\\\":\\\"Polygon\\\",\\\"arcs\\\":[[401,-695,-526]],\\\"id\\\":89},{\\\"properties\\\":{\\\"County\\\":\\\"Marathon County\\\",\\\"State\\\":\\\"Wisconsin\\\",\\\"countyCode\\\":\\\"10b-55073\\\",\\\"Title\\\":\\\"Marathon County GIS Download\\\",\\\"sourceURL\\\":\\\"https://www.co.marathon.wi.us/Departments/ConservationPlanningZoning/GEOServices/GeographicInformationSystem%28GIS%29/GISData.aspx\\\",\\\"btaaURL\\\":\\\"https://geo.btaa.org/?q=10b-55073\\\",\\\"totalRecords\\\":1,\\\"Color\\\":\\\"#b3cde0\\\"},\\\"type\\\":\\\"Polygon\\\",\\\"arcs\\\":[[402,403,-522,-800,404]],\\\"id\\\":90},{\\\"properties\\\":{\\\"County\\\":\\\"Marion County\\\",\\\"State\\\":\\\"Ohio\\\",\\\"countyCode\\\":\\\"11b-39101\\\",\\\"Title\\\":\\\"ArcGIS REST Services Directory for Marion County, Ohio\\\",\\\"sourceURL\\\":\\\"http://mcoiis.co.marion.oh.us/arcgis/rest/services\\\",\\\"btaaURL\\\":\\\"https://geo.btaa.org/?q=11b-39101\\\",\\\"totalRecords\\\":1,\\\"Color\\\":\\\"#b3cde0\\\"},\\\"type\\\":\\\"Polygon\\\",\\\"arcs\\\":[[-459,405,-742,406,407]],\\\"id\\\":91},{\\\"properties\\\":{\\\"County\\\":\\\"Mason County\\\",\\\"State\\\":\\\"Illinois\\\",\\\"countyCode\\\":\\\"02b-17125\\\",\\\"Title\\\":\\\"Mason County, Department of Assessment\\\",\\\"sourceURL\\\":\\\"https://www.masoncountyil.org/assessment.htm\\\",\\\"btaaURL\\\":\\\"https://geo.btaa.org/?q=02b-17125\\\",\\\"totalRecords\\\":1,\\\"Color\\\":\\\"#b3cde0\\\"},\\\"type\\\":\\\"Polygon\\\",\\\"arcs\\\":[[408]],\\\"id\\\":92},{\\\"properties\\\":{\\\"County\\\":\\\"McLean County\\\",\\\"State\\\":\\\"Illinois\\\",\\\"countyCode\\\":\\\"02b-17113\\\",\\\"Title\\\":\\\"McLean County GIS Consortium Open Data|McLean County GIS\\\",\\\"sourceURL\\\":\\\"http://www.mcgis.org/|http://mcggis.maps.arcgis.com/home/index.html\\\",\\\"btaaURL\\\":\\\"https://geo.btaa.org/?q=02b-17113\\\",\\\"totalRecords\\\":23,\\\"Color\\\":\\\"#6497b1\\\"},\\\"type\\\":\\\"Polygon\\\",\\\"arcs\\\":[[409]],\\\"id\\\":93},{\\\"properties\\\":{\\\"County\\\":\\\"McLeod County\\\",\\\"State\\\":\\\"Minnesota\\\",\\\"countyCode\\\":\\\"05b-27085\\\",\\\"Title\\\":\\\"McLeod County GIS Data Downloads\\\",\\\"sourceURL\\\":\\\"https://www.mcleodcountymn.gov/departments/public_works/gis_(mapping___surveying)/index.php\\\",\\\"btaaURL\\\":\\\"https://geo.btaa.org/?q=05b-27085\\\",\\\"totalRecords\\\":9,\\\"Color\\\":\\\"#6497b1\\\"},\\\"type\\\":\\\"Polygon\\\",\\\"arcs\\\":[[410,411,412,-605]],\\\"id\\\":94},{\\\"properties\\\":{\\\"County\\\":\\\"Medina County\\\",\\\"State\\\":\\\"Ohio\\\",\\\"countyCode\\\":\\\"11b-39103\\\",\\\"Title\\\":\\\"GIS Data Downloads for Medina County, Ohio\\\",\\\"sourceURL\\\":\\\"http://www.gisdata.co.medina.oh.us\\\",\\\"btaaURL\\\":\\\"https://geo.btaa.org/?q=11b-39103\\\",\\\"totalRecords\\\":1,\\\"Color\\\":\\\"#b3cde0\\\"},\\\"type\\\":\\\"MultiPolygon\\\",\\\"arcs\\\":[[[413,-414]],[[-718,414,415,416]]],\\\"id\\\":95},{\\\"properties\\\":{\\\"County\\\":\\\"Mercer County\\\",\\\"State\\\":\\\"Ohio\\\",\\\"countyCode\\\":\\\"11b-39107\\\",\\\"Title\\\":\\\"Auditor's Office Downloads for Mercer County, Ohio\\\",\\\"sourceURL\\\":\\\"https://www.mercercountyohio.org/elected-officials/auditor/downloads\\\",\\\"btaaURL\\\":\\\"https://geo.btaa.org/?q=11b-39107\\\",\\\"totalRecords\\\":1,\\\"Color\\\":\\\"#b3cde0\\\"},\\\"type\\\":\\\"Polygon\\\",\\\"arcs\\\":[[417,418]],\\\"id\\\":96},{\\\"properties\\\":{\\\"County\\\":\\\"Milwaukee County\\\",\\\"State\\\":\\\"Wisconsin\\\",\\\"countyCode\\\":\\\"10b-55079\\\",\\\"Title\\\":\\\"Milwaukee County GIS Download|GIS Data Downloads for Milwaukee County, WI\\\",\\\"sourceURL\\\":\\\"https://gis-mclio.opendata.arcgis.com/|https://county.milwaukee.gov/EN/Administrative-Services/Land-Information-Office/GIS-Data-Downloads\\\",\\\"btaaURL\\\":\\\"https://geo.btaa.org/?q=10b-55079\\\",\\\"totalRecords\\\":63,\\\"Color\\\":\\\"#005b96\\\"},\\\"type\\\":\\\"MultiPolygon\\\",\\\"arcs\\\":[[[419]],[[419]],[[-778,420,-599],[774],[775]]],\\\"id\\\":97},{\\\"properties\\\":{\\\"County\\\":\\\"Montgomery County\\\",\\\"State\\\":\\\"Maryland\\\",\\\"countyCode\\\":\\\"04b-24031\\\",\\\"Title\\\":\\\"Montgomery County GIS Open Data|Data Downloads - Montgomery Planning\\\",\\\"sourceURL\\\":\\\"https://data2018-mcgov-gis.opendata.arcgis.com|https://montgomeryplanning.org/tools/gis-and-mapping/data-downloads/\\\",\\\"btaaURL\\\":\\\"https://geo.btaa.org/?q=04b-24031\\\",\\\"totalRecords\\\":253,\\\"Color\\\":\\\"#03396c \\\"},\\\"type\\\":\\\"Polygon\\\",\\\"arcs\\\":[[-440,421,-423,422,423,-425,424,425,-427,426,427,428,429,430,431,-433,432,433,434,435,-559,436,437,438,439]],\\\"id\\\":98},{\\\"properties\\\":{\\\"County\\\":\\\"Montgomery County\\\",\\\"State\\\":\\\"Pennsylvania\\\",\\\"countyCode\\\":\\\"08b-42091\\\",\\\"Title\\\":\\\"Montgomery County Open Data\\\",\\\"sourceURL\\\":\\\"https://data-montcopa.opendata.arcgis.com\\\",\\\"btaaURL\\\":\\\"https://geo.btaa.org/?q=08b-42091\\\",\\\"totalRecords\\\":78,\\\"Color\\\":\\\"#005b96\\\"},\\\"type\\\":\\\"Polygon\\\",\\\"arcs\\\":[[440,441,442,443,444,445,446,-447,447,448],[-450,449]],\\\"id\\\":99},{\\\"properties\\\":{\\\"County\\\":\\\"Montgomery County\\\",\\\"State\\\":\\\"Ohio\\\",\\\"countyCode\\\":\\\"11b-39113\\\",\\\"Title\\\":\\\"GeoDataBase Files Downloads for Montgomery County, Ohio\\\",\\\"sourceURL\\\":\\\"http://www.mcauditor.org/downloads/gis_download_geodb.cfm\\\",\\\"btaaURL\\\":\\\"https://geo.btaa.org/?q=11b-39113\\\",\\\"totalRecords\\\":1,\\\"Color\\\":\\\"#b3cde0\\\"},\\\"type\\\":\\\"Polygon\\\",\\\"arcs\\\":[[450,-756,451,-530,452]],\\\"id\\\":100},{\\\"properties\\\":{\\\"County\\\":\\\"Morrow County\\\",\\\"State\\\":\\\"Ohio\\\",\\\"countyCode\\\":\\\"11b-39117\\\",\\\"Title\\\":\\\"Enterprise GIS Data Download Page for Morrow County, Ohio\\\",\\\"sourceURL\\\":\\\"https://www.morrowgis.info/gis-data.html\\\",\\\"btaaURL\\\":\\\"https://geo.btaa.org/?q=11b-39117\\\",\\\"totalRecords\\\":1,\\\"Color\\\":\\\"#b3cde0\\\"},\\\"type\\\":\\\"Polygon\\\",\\\"arcs\\\":[[453,454,455,456,457,458]],\\\"id\\\":101},{\\\"properties\\\":{\\\"County\\\":\\\"Mower County\\\",\\\"State\\\":\\\"Minnesota\\\",\\\"countyCode\\\":\\\"05b-27099\\\",\\\"Title\\\":\\\"Mower County Open GIS Data\\\",\\\"sourceURL\\\":\\\"https://geospatial-hub-mowercountymn.hub.arcgis.com/pages/open-data\\\",\\\"btaaURL\\\":\\\"https://geo.btaa.org/?q=05b-27099\\\",\\\"totalRecords\\\":1,\\\"Color\\\":\\\"#b3cde0\\\"},\\\"type\\\":\\\"Polygon\\\",\\\"arcs\\\":[[459]],\\\"id\\\":102},{\\\"properties\\\":{\\\"County\\\":\\\"Muskingum County\\\",\\\"State\\\":\\\"Ohio\\\",\\\"countyCode\\\":\\\"11b-39119\\\",\\\"Title\\\":\\\"GIS Data Downloads for Muskingum County, Ohio\\\",\\\"sourceURL\\\":\\\"https://downloads.ddti.net/muskingumoh\\\",\\\"btaaURL\\\":\\\"https://geo.btaa.org/?q=11b-39119\\\",\\\"totalRecords\\\":1,\\\"Color\\\":\\\"#b3cde0\\\"},\\\"type\\\":\\\"Polygon\\\",\\\"arcs\\\":[[460,461,462]],\\\"id\\\":103},{\\\"properties\\\":{\\\"County\\\":\\\"Oakland County\\\",\\\"State\\\":\\\"Michigan\\\",\\\"countyCode\\\":\\\"06b-26125\\\",\\\"Title\\\":\\\"Oakland County, MI Open data\\\",\\\"sourceURL\\\":\\\"http://accessoakland.oakgov.com\\\",\\\"btaaURL\\\":\\\"https://geo.btaa.org/?q=06b-26125\\\",\\\"totalRecords\\\":149,\\\"Color\\\":\\\"#03396c \\\"},\\\"type\\\":\\\"Polygon\\\",\\\"arcs\\\":[[463,-772],[464]],\\\"id\\\":104},{\\\"properties\\\":{\\\"County\\\":\\\"Oneida County\\\",\\\"State\\\":\\\"Wisconsin\\\",\\\"countyCode\\\":\\\"10b-55085\\\",\\\"Title\\\":\\\"Oneida County GIS Download\\\",\\\"sourceURL\\\":\\\"https://oneida.ncwrpc.info/\\\",\\\"btaaURL\\\":\\\"https://geo.btaa.org/?q=10b-55085\\\",\\\"totalRecords\\\":1,\\\"Color\\\":\\\"#b3cde0\\\"},\\\"type\\\":\\\"MultiPolygon\\\",\\\"arcs\\\":[[[465]],[[-467,466,467,468,-751,469,470,-472,471,472]]],\\\"id\\\":105},{\\\"properties\\\":{\\\"County\\\":\\\"Ottawa County\\\",\\\"State\\\":\\\"Ohio\\\",\\\"countyCode\\\":\\\"11b-39123\\\",\\\"Title\\\":\\\"Data Downloads for Ottawa County, Ohio\\\",\\\"sourceURL\\\":\\\"https://drive.google.com/drive/folders/0B4hTJB05icP8cjNJZnFIVEVJbmM\\\",\\\"btaaURL\\\":\\\"https://geo.btaa.org/?q=11b-39123\\\",\\\"totalRecords\\\":1,\\\"Color\\\":\\\"#b3cde0\\\"},\\\"type\\\":\\\"MultiPolygon\\\",\\\"arcs\\\":[[[473,-485]],[[481,-482]],[[474]],[[475]],[[-803,476,477,481,-482,479,478,480,482,483,-485,484,485]],[[486]],[[487]],[[488]],[[489]],[[490]],[[491]],[[492]],[[493]],[[494]]],\\\"id\\\":106},{\\\"properties\\\":{\\\"County\\\":\\\"Otter Tail County\\\",\\\"State\\\":\\\"Minnesota\\\",\\\"countyCode\\\":\\\"05b-27111\\\",\\\"Title\\\":\\\"Otter Tail County GIS Data Downloads\\\",\\\"sourceURL\\\":\\\"https://ottertailcountymn.us/content-page/gis-shapefile-downloads\\\",\\\"btaaURL\\\":\\\"https://geo.btaa.org/?q=05b-27111\\\",\\\"totalRecords\\\":11,\\\"Color\\\":\\\"#6497b1\\\"},\\\"type\\\":\\\"Polygon\\\",\\\"arcs\\\":[[495,496,497,498,-789,499]],\\\"id\\\":107},{\\\"properties\\\":{\\\"County\\\":\\\"Outagamie County\\\",\\\"State\\\":\\\"Wisconsin\\\",\\\"countyCode\\\":\\\"10b-55087\\\",\\\"Title\\\":\\\"Outagamie County GIS Download|GIS Maps and Property Information for Outagamie County, WI\\\",\\\"sourceURL\\\":\\\"https://data-ocgis.opendata.arcgis.com/|https://www.outagamie.org/government/departments-a-e/development-and-land-services/gis-land-information\\\",\\\"btaaURL\\\":\\\"https://geo.btaa.org/?q=10b-55087\\\",\\\"totalRecords\\\":20,\\\"Color\\\":\\\"#6497b1\\\"},\\\"type\\\":\\\"Polygon\\\",\\\"arcs\\\":[[500,501,-783,502,503],[504]],\\\"id\\\":108},{\\\"properties\\\":{\\\"County\\\":\\\"Peoria County\\\",\\\"State\\\":\\\"Illinois\\\",\\\"countyCode\\\":\\\"12b-17143\\\",\\\"Title\\\":\\\"Peoria County GIS Open Data Portal\\\",\\\"sourceURL\\\":\\\"https://data-peoriacountygis.opendata.arcgis.com\\\",\\\"btaaURL\\\":\\\"https://geo.btaa.org/?q=12b-17143\\\",\\\"totalRecords\\\":75,\\\"Color\\\":\\\"#005b96\\\"},\\\"type\\\":\\\"Polygon\\\",\\\"arcs\\\":[[505]],\\\"id\\\":109},{\\\"properties\\\":{\\\"County\\\":\\\"Pickaway County\\\",\\\"State\\\":\\\"Ohio\\\",\\\"countyCode\\\":\\\"11b-39129\\\",\\\"Title\\\":\\\"GIS and Map Data Downloads for Pickaway County, Ohio\\\",\\\"sourceURL\\\":\\\"https://www.pickaway.org/GIS_files/GIS.htm\\\",\\\"btaaURL\\\":\\\"https://geo.btaa.org/?q=11b-39129\\\",\\\"totalRecords\\\":1,\\\"Color\\\":\\\"#b3cde0\\\"},\\\"type\\\":\\\"Polygon\\\",\\\"arcs\\\":[[506,507,508,509,510]],\\\"id\\\":110},{\\\"properties\\\":{\\\"County\\\":\\\"Pierce County\\\",\\\"State\\\":\\\"Wisconsin\\\",\\\"countyCode\\\":\\\"10b-55093\\\",\\\"Title\\\":\\\"Pierce County GIS Open Data Portal\\\",\\\"sourceURL\\\":\\\"https://data-piercecounty-wi.hub.arcgis.com\\\",\\\"btaaURL\\\":\\\"https://geo.btaa.org/?q=10b-55093\\\",\\\"totalRecords\\\":5,\\\"Color\\\":\\\"#6497b1\\\"},\\\"type\\\":\\\"Polygon\\\",\\\"arcs\\\":[[-668,511]],\\\"id\\\":111},{\\\"properties\\\":{\\\"County\\\":\\\"Polk County\\\",\\\"State\\\":\\\"Minnesota\\\",\\\"countyCode\\\":\\\"05b-27119\\\",\\\"Title\\\":\\\"Polk County GIS Open Data\\\",\\\"sourceURL\\\":\\\"https://polkdata-pcg.opendata.arcgis.com\\\",\\\"btaaURL\\\":\\\"https://geo.btaa.org/?q=05b-27119\\\",\\\"totalRecords\\\":26,\\\"Color\\\":\\\"#6497b1\\\"},\\\"type\\\":\\\"Polygon\\\",\\\"arcs\\\":[[512,513]],\\\"id\\\":112},{\\\"properties\\\":{\\\"County\\\":\\\"Polk County\\\",\\\"State\\\":\\\"Wisconsin\\\",\\\"countyCode\\\":\\\"10b-55095\\\",\\\"Title\\\":\\\"Polk County GIS Download\\\",\\\"sourceURL\\\":\\\"https://www.co.polk.wi.us/index.asp?SEC=A94D4B49-F047-496F-A7B9-A259974E7E6F&Type=B_BASIC\\\",\\\"btaaURL\\\":\\\"https://geo.btaa.org/?q=10b-55095\\\",\\\"totalRecords\\\":1,\\\"Color\\\":\\\"#b3cde0\\\"},\\\"type\\\":\\\"Polygon\\\",\\\"arcs\\\":[[514,-666,515,516,-518,517,518]],\\\"id\\\":113},{\\\"properties\\\":{\\\"County\\\":\\\"Pope County\\\",\\\"State\\\":\\\"Minnesota\\\",\\\"countyCode\\\":\\\"05b-27121\\\",\\\"Title\\\":\\\"Pope County Open Data\\\",\\\"sourceURL\\\":\\\"https://data-popecounty.opendata.arcgis.com\\\",\\\"btaaURL\\\":\\\"https://geo.btaa.org/?q=05b-27121\\\",\\\"totalRecords\\\":39,\\\"Color\\\":\\\"#6497b1\\\"},\\\"type\\\":\\\"Polygon\\\",\\\"arcs\\\":[[519,-699,520]],\\\"id\\\":114},{\\\"properties\\\":{\\\"County\\\":\\\"Portage County\\\",\\\"State\\\":\\\"Wisconsin\\\",\\\"countyCode\\\":\\\"10b-55097\\\",\\\"Title\\\":\\\"Portage County GIS Download\\\",\\\"sourceURL\\\":\\\"https://www.co.portage.wi.us/department/planning-zoning/land-information-gis/maps-and-gis-data\\\",\\\"btaaURL\\\":\\\"https://geo.btaa.org/?q=10b-55097\\\",\\\"totalRecords\\\":1,\\\"Color\\\":\\\"#b3cde0\\\"},\\\"type\\\":\\\"Polygon\\\",\\\"arcs\\\":[[521,-785,-786,522,-801]],\\\"id\\\":115},{\\\"properties\\\":{\\\"County\\\":\\\"Portage County\\\",\\\"State\\\":\\\"Ohio\\\",\\\"countyCode\\\":\\\"11b-39133\\\",\\\"Title\\\":\\\"GIS Data Downloads for Portage County, Ohio\\\",\\\"sourceURL\\\":\\\"https://www.co.portage.oh.us/geographic-information-systems/pages/data-downloads\\\",\\\"btaaURL\\\":\\\"https://geo.btaa.org/?q=11b-39133\\\",\\\"totalRecords\\\":1,\\\"Color\\\":\\\"#b3cde0\\\"},\\\"type\\\":\\\"MultiPolygon\\\",\\\"arcs\\\":[[[696]],[[523,524,525,-694,-715]]],\\\"id\\\":116},{\\\"properties\\\":{\\\"County\\\":\\\"Pottawattamie County\\\",\\\"State\\\":\\\"Iowa\\\",\\\"countyCode\\\":\\\"03b-19155\\\",\\\"Title\\\":\\\"Pottawattamie County GIS Hub\\\",\\\"sourceURL\\\":\\\"https://gis.pottcounty-ia.gov/portal/apps/sites/#/hub\\\",\\\"btaaURL\\\":\\\"https://geo.btaa.org/?q=03b-19155\\\",\\\"totalRecords\\\":1,\\\"Color\\\":\\\"#b3cde0\\\"},\\\"type\\\":\\\"Polygon\\\",\\\"arcs\\\":[[526,527,-608,528]],\\\"id\\\":117},{\\\"properties\\\":{\\\"County\\\":\\\"Preble County\\\",\\\"State\\\":\\\"Ohio\\\",\\\"countyCode\\\":\\\"11b-39135\\\",\\\"Title\\\":\\\"GIS Data Downloads for Preble County, Ohio\\\",\\\"sourceURL\\\":\\\"https://downloads.ddti.net/prebleoh\\\",\\\"btaaURL\\\":\\\"https://geo.btaa.org/?q=11b-39135\\\",\\\"totalRecords\\\":1,\\\"Color\\\":\\\"#b3cde0\\\"},\\\"type\\\":\\\"Polygon\\\",\\\"arcs\\\":[[529,530,531]],\\\"id\\\":118},{\\\"properties\\\":{\\\"County\\\":\\\"Prince George's County\\\",\\\"State\\\":\\\"Maryland\\\",\\\"countyCode\\\":\\\"04b-24033\\\",\\\"Title\\\":\\\"Prince George's County Open Data Portal|Prince George's County GIS Open Data\\\",\\\"sourceURL\\\":\\\"https://data.princegeorgescountymd.gov|http://gisdata.pgplanning.org/opendata\\\",\\\"btaaURL\\\":\\\"https://geo.btaa.org/?q=04b-24033\\\",\\\"totalRecords\\\":499,\\\"Color\\\":\\\"#011f4b\\\"},\\\"type\\\":\\\"MultiPolygon\\\",\\\"arcs\\\":[[[532,-533]],[[532,-533]],[[555,-556]],[[533,534,535,-537,536,537,-539,538,539,-541,540,541,-543,542,543,-545,544,545,-547,546,547,-549,548,549,550,551,-553,552,553,554,555,-556,556,557,558]]],\\\"id\\\":119},{\\\"properties\\\":{\\\"County\\\":\\\"Putnam County\\\",\\\"State\\\":\\\"Ohio\\\",\\\"countyCode\\\":\\\"11b-39137\\\",\\\"Title\\\":\\\"GIS Downloads for Putnam County, Ohio\\\",\\\"sourceURL\\\":\\\"http://www.putnamcountygis.com/Downloads/\\\",\\\"btaaURL\\\":\\\"https://geo.btaa.org/?q=11b-39137\\\",\\\"totalRecords\\\":1,\\\"Color\\\":\\\"#b3cde0\\\"},\\\"type\\\":\\\"Polygon\\\",\\\"arcs\\\":[[559,560,561,562,563]],\\\"id\\\":120},{\\\"properties\\\":{\\\"County\\\":\\\"Queen Anne's County\\\",\\\"State\\\":\\\"Maryland\\\",\\\"countyCode\\\":\\\"04b-24035\\\",\\\"Title\\\":\\\"GIS Data Downloads for Queen Anne's County, Maryland\\\",\\\"sourceURL\\\":\\\"http://www.qac.org/912/GIS-Data-Download\\\",\\\"btaaURL\\\":\\\"https://geo.btaa.org/?q=04b-24035\\\",\\\"totalRecords\\\":58,\\\"Color\\\":\\\"#005b96\\\"},\\\"type\\\":\\\"MultiPolygon\\\",\\\"arcs\\\":[[[564]],[[565]],[[566]],[[567]],[[568]],[[569]],[[570]],[[592,-593]],[[-588,571,572,573,584,-585,583,574,-581,575]],[[-591,576,577,578,579,580,581,582,583,584,585,586,587,588,589]],[[590,591,-593,592,593,594],[595]]],\\\"id\\\":121},{\\\"properties\\\":{\\\"County\\\":\\\"Racine County\\\",\\\"State\\\":\\\"Wisconsin\\\",\\\"countyCode\\\":\\\"10b-55101\\\",\\\"Title\\\":\\\"Racine County GIS Download|Racine County Land Information\\\",\\\"sourceURL\\\":\\\"https://data.racinecounty.opendata.arcgis.com/|https://www.arcgis.com/apps/PublicGallery/index.html?appid=b2972f78af4f43779929e08093e1a778\\\",\\\"btaaURL\\\":\\\"https://geo.btaa.org/?q=10b-55101\\\",\\\"totalRecords\\\":102,\\\"Color\\\":\\\"#005b96\\\"},\\\"type\\\":\\\"Polygon\\\",\\\"arcs\\\":[[596,597,-753,-779,598]],\\\"id\\\":122},{\\\"properties\\\":{\\\"County\\\":\\\"Ramsey County\\\",\\\"State\\\":\\\"Minnesota\\\",\\\"countyCode\\\":\\\"05b-27123\\\",\\\"Title\\\":\\\"Ramsey County Open Data\\\",\\\"sourceURL\\\":\\\"https://data-ramseygis.opendata.arcgis.com\\\",\\\"btaaURL\\\":\\\"https://geo.btaa.org/?q=05b-27123\\\",\\\"totalRecords\\\":40,\\\"Color\\\":\\\"#6497b1\\\"},\\\"type\\\":\\\"Polygon\\\",\\\"arcs\\\":[[599,600,601]],\\\"id\\\":123},{\\\"properties\\\":{\\\"County\\\":\\\"Renville County\\\",\\\"State\\\":\\\"Minnesota\\\",\\\"countyCode\\\":\\\"05b-27127\\\",\\\"Title\\\":\\\"Renville County Open GIS Data\\\",\\\"sourceURL\\\":\\\"https://hub-renvilleco.hub.arcgis.com/\\\",\\\"btaaURL\\\":\\\"https://geo.btaa.org/?q=05b-27127\\\",\\\"totalRecords\\\":1,\\\"Color\\\":\\\"#b3cde0\\\"},\\\"type\\\":\\\"Polygon\\\",\\\"arcs\\\":[[602,603,604,605],[606]],\\\"id\\\":124},{\\\"properties\\\":{\\\"County\\\":\\\"Sarpy County\\\",\\\"State\\\":\\\"Nebraska\\\",\\\"countyCode\\\":\\\"13b-31153\\\",\\\"Title\\\":\\\"Sarpy County GIS Portal\\\",\\\"sourceURL\\\":\\\"https://gis.sarpy.com/\\\",\\\"btaaURL\\\":\\\"https://geo.btaa.org/?q=13b-31153\\\",\\\"totalRecords\\\":111,\\\"Color\\\":\\\"#005b96\\\"},\\\"type\\\":\\\"Polygon\\\",\\\"arcs\\\":[[607,608],[609]],\\\"id\\\":125},{\\\"properties\\\":{\\\"County\\\":\\\"Sauk County\\\",\\\"State\\\":\\\"Wisconsin\\\",\\\"countyCode\\\":\\\"10b-55111\\\",\\\"Title\\\":\\\"Sauk County GIS Download|Land Information of Sauk County, WI\\\",\\\"sourceURL\\\":\\\"https://data.saukgis.opendata.arcgis.com/|https://www.co.sauk.wi.us/landinformation\\\",\\\"btaaURL\\\":\\\"https://geo.btaa.org/?q=10b-55111\\\",\\\"totalRecords\\\":61,\\\"Color\\\":\\\"#005b96\\\"},\\\"type\\\":\\\"Polygon\\\",\\\"arcs\\\":[[610,611,612]],\\\"id\\\":126},{\\\"properties\\\":{\\\"County\\\":\\\"Scott County\\\",\\\"State\\\":\\\"Iowa\\\",\\\"countyCode\\\":\\\"03b-19163\\\",\\\"Title\\\":\\\"Scott County GIS Data\\\",\\\"sourceURL\\\":\\\"https://www.scottcountyiowa.com/it/data\\\",\\\"btaaURL\\\":\\\"https://geo.btaa.org/?q=03b-19163\\\",\\\"totalRecords\\\":1,\\\"Color\\\":\\\"#b3cde0\\\"},\\\"type\\\":\\\"Polygon\\\",\\\"arcs\\\":[[613],[614]],\\\"id\\\":127},{\\\"properties\\\":{\\\"County\\\":\\\"Scott County\\\",\\\"State\\\":\\\"Minnesota\\\",\\\"countyCode\\\":\\\"05b-27139\\\",\\\"Title\\\":\\\"Scott County Open Data\\\",\\\"sourceURL\\\":\\\"https://opendata.gis.co.scott.mn.us\\\",\\\"btaaURL\\\":\\\"https://geo.btaa.org/?q=05b-27139\\\",\\\"totalRecords\\\":22,\\\"Color\\\":\\\"#6497b1\\\"},\\\"type\\\":\\\"MultiPolygon\\\",\\\"arcs\\\":[[[615]],[[633,616,617,619,-619,618,-620,620,621,-623,622,623,-625,624,625,-627,626,627,628,-630,629,630,631],[632],[-634,633]]],\\\"id\\\":128},{\\\"properties\\\":{\\\"County\\\":\\\"Seneca County\\\",\\\"State\\\":\\\"Ohio\\\",\\\"countyCode\\\":\\\"11b-39047\\\",\\\"Title\\\":\\\"Seneca County GIS Data|Seneca County GIS Data Downloads\\\",\\\"sourceURL\\\":\\\"http://downloads.ddti.net/SenecaOH|https://downloads.ddti.net/SenecaOH\\\",\\\"btaaURL\\\":\\\"https://geo.btaa.org/?q=11b-39047\\\",\\\"totalRecords\\\":2,\\\"Color\\\":\\\"#6497b1\\\"},\\\"type\\\":\\\"Polygon\\\",\\\"arcs\\\":[[634,635,636,637,-805]],\\\"id\\\":129},{\\\"properties\\\":{\\\"County\\\":\\\"Sheboygan County\\\",\\\"State\\\":\\\"Wisconsin\\\",\\\"countyCode\\\":\\\"10b-55117\\\",\\\"Title\\\":\\\"Sheboygan County GIS Download\\\",\\\"sourceURL\\\":\\\"https://data-shebco.opendata.arcgis.com/\\\",\\\"btaaURL\\\":\\\"https://geo.btaa.org/?q=10b-55117\\\",\\\"totalRecords\\\":1,\\\"Color\\\":\\\"#b3cde0\\\"},\\\"type\\\":\\\"Polygon\\\",\\\"arcs\\\":[[638,-767,639,640]],\\\"id\\\":130},{\\\"properties\\\":{\\\"County\\\":\\\"Sherburne County\\\",\\\"State\\\":\\\"Minnesota\\\",\\\"countyCode\\\":\\\"05b-27141\\\",\\\"Title\\\":\\\"Sherburne County Open Data\\\",\\\"sourceURL\\\":\\\"https://data-sherburnegis.opendata.arcgis.com\\\",\\\"btaaURL\\\":\\\"https://geo.btaa.org/?q=05b-27141\\\",\\\"totalRecords\\\":1,\\\"Color\\\":\\\"#b3cde0\\\"},\\\"type\\\":\\\"Polygon\\\",\\\"arcs\\\":[[641,642,643,644,645,646,-705]],\\\"id\\\":131},{\\\"properties\\\":{\\\"County\\\":\\\"St. Mary's County\\\",\\\"State\\\":\\\"Maryland\\\",\\\"countyCode\\\":\\\"04b-24037\\\",\\\"Title\\\":\\\"St Mary's County GIS Downloadable Layers\\\",\\\"sourceURL\\\":\\\"https://www.stmarysmd.com/it/gis/\\\",\\\"btaaURL\\\":\\\"https://geo.btaa.org/?q=04b-24037\\\",\\\"totalRecords\\\":26,\\\"Color\\\":\\\"#6497b1\\\"},\\\"type\\\":\\\"MultiPolygon\\\",\\\"arcs\\\":[[[647]],[[659,-660]],[[648]],[[649]],[[650]],[[651]],[[652,662,-663,653,654,663,655,656,657,658,659,660],[661],[-663,662],[-664,663],[664]]],\\\"id\\\":132},{\\\"properties\\\":{\\\"County\\\":\\\"St. Croix County\\\",\\\"State\\\":\\\"Wisconsin\\\",\\\"countyCode\\\":\\\"10b-55109\\\",\\\"Title\\\":\\\"St. Croix County GIS Download\\\",\\\"sourceURL\\\":\\\"https://gis-scccdd.opendata.arcgis.com/\\\",\\\"btaaURL\\\":\\\"https://geo.btaa.org/?q=10b-55109\\\",\\\"totalRecords\\\":7,\\\"Color\\\":\\\"#6497b1\\\"},\\\"type\\\":\\\"Polygon\\\",\\\"arcs\\\":[[665,666,667,668]],\\\"id\\\":133},{\\\"properties\\\":{\\\"County\\\":\\\"St. Louis County\\\",\\\"State\\\":\\\"Minnesota\\\",\\\"countyCode\\\":\\\"05b-27137\\\",\\\"Title\\\":\\\"Saint Louis County GIS & Mapping\\\",\\\"sourceURL\\\":\\\"https://stlouiscountymndata-slcgis.opendata.arcgis.com\\\",\\\"btaaURL\\\":\\\"https://geo.btaa.org/?q=05b-27137\\\",\\\"totalRecords\\\":8,\\\"Color\\\":\\\"#6497b1\\\"},\\\"type\\\":\\\"MultiPolygon\\\",\\\"arcs\\\":[[[669]],[[670,-671]],[[671]],[[672]],[[673]],[[683,-684]],[[674]],[[676,-677]],[[678,-679]],[[675,676,677]],[[-679,678,679,680,681,682,683,-684,684,685,686,687,-689,688,689,690]]],\\\"id\\\":134},{\\\"properties\\\":{\\\"County\\\":\\\"Stark County\\\",\\\"State\\\":\\\"Ohio\\\",\\\"countyCode\\\":\\\"11b-39151\\\",\\\"Title\\\":\\\"Stark County GIS Data\\\",\\\"sourceURL\\\":\\\"http://opendata.starkcountyohio.gov\\\",\\\"btaaURL\\\":\\\"https://geo.btaa.org/?q=11b-39151\\\",\\\"totalRecords\\\":7,\\\"Color\\\":\\\"#6497b1\\\"},\\\"type\\\":\\\"Polygon\\\",\\\"arcs\\\":[[691,692,-716,693,694,695,-736,-735,734,-734,-733,732,-732,-731],[696]],\\\"id\\\":135},{\\\"properties\\\":{\\\"County\\\":\\\"Stearns County\\\",\\\"State\\\":\\\"Minnesota\\\",\\\"countyCode\\\":\\\"05b-27145\\\",\\\"Title\\\":\\\"Stearns County GIS Data for Download\\\",\\\"sourceURL\\\":\\\"https://stearns-county-gis-stearns.hub.arcgis.com\\\",\\\"btaaURL\\\":\\\"https://geo.btaa.org/?q=05b-27145\\\",\\\"totalRecords\\\":1,\\\"Color\\\":\\\"#b3cde0\\\"},\\\"type\\\":\\\"Polygon\\\",\\\"arcs\\\":[[706,697,698,699,700,701,-703,702,703,704,705],[-707,706]],\\\"id\\\":136},{\\\"properties\\\":{\\\"County\\\":\\\"Summit County\\\",\\\"State\\\":\\\"Ohio\\\",\\\"countyCode\\\":\\\"11b-39153\\\",\\\"Title\\\":\\\"Summit County GIS Data\\\",\\\"sourceURL\\\":\\\"https://data-summitgis.opendata.arcgis.com\\\",\\\"btaaURL\\\":\\\"https://geo.btaa.org/?q=11b-39153\\\",\\\"totalRecords\\\":7,\\\"Color\\\":\\\"#6497b1\\\"},\\\"type\\\":\\\"Polygon\\\",\\\"arcs\\\":[[707,-709,708,709,-711,710,711,-713,712,713,714,715,716,717]],\\\"id\\\":137},{\\\"properties\\\":{\\\"County\\\":\\\"Traverse County\\\",\\\"State\\\":\\\"Minnesota\\\",\\\"countyCode\\\":\\\"05b-27155\\\",\\\"Title\\\":\\\"Traverse County Open GIS Data\\\",\\\"sourceURL\\\":\\\"https://data-traversecountymn.opendata.arcgis.com/\\\",\\\"btaaURL\\\":\\\"https://geo.btaa.org/?q=05b-27155\\\",\\\"totalRecords\\\":1,\\\"Color\\\":\\\"#b3cde0\\\"},\\\"type\\\":\\\"Polygon\\\",\\\"arcs\\\":[[-791,718,719,720,721]],\\\"id\\\":138},{\\\"properties\\\":{\\\"County\\\":\\\"Trempealeau County\\\",\\\"State\\\":\\\"Wisconsin\\\",\\\"countyCode\\\":\\\"10b-55121\\\",\\\"Title\\\":\\\"Trempealeau County GIS Download\\\",\\\"sourceURL\\\":\\\"https://www.tremplocounty.com/tchome/landrecords/data.aspx\\\",\\\"btaaURL\\\":\\\"https://geo.btaa.org/?q=10b-55121\\\",\\\"totalRecords\\\":1,\\\"Color\\\":\\\"#b3cde0\\\"},\\\"type\\\":\\\"MultiPolygon\\\",\\\"arcs\\\":[[[722]],[[723,-725,724,725,-727,726,727,728,729]]],\\\"id\\\":139},{\\\"properties\\\":{\\\"County\\\":\\\"Tuscarawas County\\\",\\\"State\\\":\\\"Ohio\\\",\\\"countyCode\\\":\\\"11b-39157\\\",\\\"Title\\\":\\\"GIS Data Store for Tuscarawas County, Ohio\\\",\\\"sourceURL\\\":\\\"https://www.co.tuscarawas.oh.us/GIS\\\",\\\"btaaURL\\\":\\\"https://geo.btaa.org/?q=11b-39157\\\",\\\"totalRecords\\\":1,\\\"Color\\\":\\\"#b3cde0\\\"},\\\"type\\\":\\\"Polygon\\\",\\\"arcs\\\":[[730,731,-733,732,733,-735,734,735,736,737,738,739,740]],\\\"id\\\":140},{\\\"properties\\\":{\\\"County\\\":\\\"Union County\\\",\\\"State\\\":\\\"Ohio\\\",\\\"countyCode\\\":\\\"11b-39159\\\",\\\"Title\\\":\\\"Union County GIS Data\\\",\\\"sourceURL\\\":\\\"https://www7.co.union.oh.us/unionoh/\\\",\\\"btaaURL\\\":\\\"https://geo.btaa.org/?q=11b-39159\\\",\\\"totalRecords\\\":1,\\\"Color\\\":\\\"#b3cde0\\\"},\\\"type\\\":\\\"Polygon\\\",\\\"arcs\\\":[[741,742,743,744,745,746,-748,747,748,749]],\\\"id\\\":141},{\\\"properties\\\":{\\\"County\\\":\\\"Vilas County\\\",\\\"State\\\":\\\"Wisconsin\\\",\\\"countyCode\\\":\\\"10b-55125\\\",\\\"Title\\\":\\\"Vilas County GIS Download|Geodata Hub of Vilas County, WI\\\",\\\"sourceURL\\\":\\\"https://data-vilas.opendata.arcgis.com/|https://data-vilas.opendata.arcgis.com\\\",\\\"btaaURL\\\":\\\"https://geo.btaa.org/?q=10b-55125\\\",\\\"totalRecords\\\":49,\\\"Color\\\":\\\"#005b96\\\"},\\\"type\\\":\\\"Polygon\\\",\\\"arcs\\\":[[750,751]],\\\"id\\\":142},{\\\"properties\\\":{\\\"County\\\":\\\"Walworth County\\\",\\\"State\\\":\\\"Wisconsin\\\",\\\"countyCode\\\":\\\"10b-55127\\\",\\\"Title\\\":\\\"Walworth County GIS Download\\\",\\\"sourceURL\\\":\\\"https://open-walco.opendata.arcgis.com/\\\",\\\"btaaURL\\\":\\\"https://geo.btaa.org/?q=10b-55127\\\",\\\"totalRecords\\\":1,\\\"Color\\\":\\\"#b3cde0\\\"},\\\"type\\\":\\\"Polygon\\\",\\\"arcs\\\":[[-780,752,753,754]],\\\"id\\\":143},{\\\"properties\\\":{\\\"County\\\":\\\"Warren County\\\",\\\"State\\\":\\\"Ohio\\\",\\\"countyCode\\\":\\\"11b-39165\\\",\\\"Title\\\":\\\"GIS Data Downloads for Warren County, Ohio\\\",\\\"sourceURL\\\":\\\"https://www.co.warren.oh.us/warrengis/\\\",\\\"btaaURL\\\":\\\"https://geo.btaa.org/?q=11b-39165\\\",\\\"totalRecords\\\":1,\\\"Color\\\":\\\"#b3cde0\\\"},\\\"type\\\":\\\"Polygon\\\",\\\"arcs\\\":[[755,756,757,-759,758,759,760,761]],\\\"id\\\":144},{\\\"properties\\\":{\\\"County\\\":\\\"Washburn County\\\",\\\"State\\\":\\\"Wisconsin\\\",\\\"countyCode\\\":\\\"10b-55129\\\",\\\"Title\\\":\\\"Washburn County GIS Download\\\",\\\"sourceURL\\\":\\\"https://www.co.washburn.wi.us/departments/land-info-surveyor-mapping/gis-data\\\",\\\"btaaURL\\\":\\\"https://geo.btaa.org/?q=10b-55129\\\",\\\"totalRecords\\\":1,\\\"Color\\\":\\\"#b3cde0\\\"},\\\"type\\\":\\\"Polygon\\\",\\\"arcs\\\":[[762,763]],\\\"id\\\":145},{\\\"properties\\\":{\\\"County\\\":\\\"Washington County\\\",\\\"State\\\":\\\"Wisconsin\\\",\\\"countyCode\\\":\\\"10b-55131\\\",\\\"Title\\\":\\\"Washington County GIS Download\\\",\\\"sourceURL\\\":\\\"https://washingtoncowi.maps.arcgis.com/apps/MapSeries/index.html?appid=0db0dd8e8e9f4f51931a58ec26a5037a\\\",\\\"btaaURL\\\":\\\"https://geo.btaa.org/?q=10b-55131\\\",\\\"totalRecords\\\":1,\\\"Color\\\":\\\"#b3cde0\\\"},\\\"type\\\":\\\"Polygon\\\",\\\"arcs\\\":[[764,765,766,767,-777],[768]],\\\"id\\\":146},{\\\"properties\\\":{\\\"County\\\":\\\"Washington County\\\",\\\"State\\\":\\\"Ohio\\\",\\\"countyCode\\\":\\\"11b-39167\\\",\\\"Title\\\":\\\"GIS Data Downloads for Washington County, Ohio\\\",\\\"sourceURL\\\":\\\"https://downloads.ddti.net/washingtonoh\\\",\\\"btaaURL\\\":\\\"https://geo.btaa.org/?q=11b-39167\\\",\\\"totalRecords\\\":1,\\\"Color\\\":\\\"#b3cde0\\\"},\\\"type\\\":\\\"Polygon\\\",\\\"arcs\\\":[[769,770]],\\\"id\\\":147},{\\\"properties\\\":{\\\"County\\\":\\\"Washtenaw County\\\",\\\"State\\\":\\\"Michigan\\\",\\\"countyCode\\\":\\\"07b-26161\\\",\\\"Title\\\":\\\"Washtenaw County, Michigan Open Data\\\",\\\"sourceURL\\\":\\\"https://data-washtenaw.opendata.arcgis.com\\\",\\\"btaaURL\\\":\\\"https://geo.btaa.org/?q=07b-26161\\\",\\\"totalRecords\\\":9,\\\"Color\\\":\\\"#6497b1\\\"},\\\"type\\\":\\\"Polygon\\\",\\\"arcs\\\":[[771,772],[773]],\\\"id\\\":148},{\\\"properties\\\":{\\\"County\\\":\\\"Waukesha County\\\",\\\"State\\\":\\\"Wisconsin\\\",\\\"countyCode\\\":\\\"10b-55133\\\",\\\"Title\\\":\\\"Waukesha County GIS Download\\\",\\\"sourceURL\\\":\\\"https://data-waukeshacounty.opendata.arcgis.com/\\\",\\\"btaaURL\\\":\\\"https://geo.btaa.org/?q=10b-55133\\\",\\\"totalRecords\\\":108,\\\"Color\\\":\\\"#005b96\\\"},\\\"type\\\":\\\"MultiPolygon\\\",\\\"arcs\\\":[[[774]],[[775]],[[776,777,778,779,780]]],\\\"id\\\":149},{\\\"properties\\\":{\\\"County\\\":\\\"Waupaca County\\\",\\\"State\\\":\\\"Wisconsin\\\",\\\"countyCode\\\":\\\"10b-55135\\\",\\\"Title\\\":\\\"Waupaca County GIS Download\\\",\\\"sourceURL\\\":\\\"https://data2017-04-05t135915451z-waupacacounty.opendata.arcgis.com/\\\",\\\"btaaURL\\\":\\\"https://geo.btaa.org/?q=10b-55135\\\",\\\"totalRecords\\\":30,\\\"Color\\\":\\\"#6497b1\\\"},\\\"type\\\":\\\"Polygon\\\",\\\"arcs\\\":[[781,782,783,-787,784]],\\\"id\\\":150},{\\\"properties\\\":{\\\"County\\\":\\\"Waushara County\\\",\\\"State\\\":\\\"Wisconsin\\\",\\\"countyCode\\\":\\\"10b-55137\\\",\\\"Title\\\":\\\"Waushara County GIS Download\\\",\\\"sourceURL\\\":\\\"https://data-waushara.opendata.arcgis.com/\\\",\\\"btaaURL\\\":\\\"https://geo.btaa.org/?q=10b-55137\\\",\\\"totalRecords\\\":10,\\\"Color\\\":\\\"#6497b1\\\"},\\\"type\\\":\\\"Polygon\\\",\\\"arcs\\\":[[785,786,787]],\\\"id\\\":151},{\\\"properties\\\":{\\\"County\\\":\\\"Wilkin County\\\",\\\"State\\\":\\\"Minnesota\\\",\\\"countyCode\\\":\\\"05b-27167\\\",\\\"Title\\\":\\\"Wilkin County, Minnesota Open Data\\\",\\\"sourceURL\\\":\\\"https://share-wilkinco.opendata.arcgis.com\\\",\\\"btaaURL\\\":\\\"https://geo.btaa.org/?q=05b-27167\\\",\\\"totalRecords\\\":16,\\\"Color\\\":\\\"#6497b1\\\"},\\\"type\\\":\\\"Polygon\\\",\\\"arcs\\\":[[788,789,790,791,792]],\\\"id\\\":152},{\\\"properties\\\":{\\\"County\\\":\\\"Will County\\\",\\\"State\\\":\\\"Illinois\\\",\\\"countyCode\\\":\\\"02b-17197\\\",\\\"Title\\\":\\\"Will County Data\\\",\\\"sourceURL\\\":\\\"https://www.willcountyillinois.com/County-Offices/Administration/GIS-Division/Data\\\",\\\"btaaURL\\\":\\\"https://geo.btaa.org/?q=02b-17197\\\",\\\"totalRecords\\\":1,\\\"Color\\\":\\\"#b3cde0\\\"},\\\"type\\\":\\\"Polygon\\\",\\\"arcs\\\":[[793,794,795,796,797,798]],\\\"id\\\":153},{\\\"properties\\\":{\\\"County\\\":\\\"Wood County\\\",\\\"State\\\":\\\"Wisconsin\\\",\\\"countyCode\\\":\\\"10b-55141\\\",\\\"Title\\\":\\\"Wood County Open Data Portal\\\",\\\"sourceURL\\\":\\\"https://opendata.woodcogis.com/\\\",\\\"btaaURL\\\":\\\"https://geo.btaa.org/?q=10b-55141\\\",\\\"totalRecords\\\":14,\\\"Color\\\":\\\"#6497b1\\\"},\\\"type\\\":\\\"Polygon\\\",\\\"arcs\\\":[[799,800,801]],\\\"id\\\":154},{\\\"properties\\\":{\\\"County\\\":\\\"Wood County\\\",\\\"State\\\":\\\"Ohio\\\",\\\"countyCode\\\":\\\"11b-39173\\\",\\\"Title\\\":\\\"ArcGIS REST Services Directory for Wood County, Ohio\\\",\\\"sourceURL\\\":\\\"http://engineer.co.wood.oh.us/arcgis/rest/services\\\",\\\"btaaURL\\\":\\\"https://geo.btaa.org/?q=11b-39173\\\",\\\"totalRecords\\\":1,\\\"Color\\\":\\\"#b3cde0\\\"},\\\"type\\\":\\\"Polygon\\\",\\\"arcs\\\":[[802,803,804,805,806,807,808]],\\\"id\\\":155}],\\\"type\\\":\\\"GeometryCollection\\\"}},\\\"bbox\\\":[-97.15,38.04,-75.01,48.63],\\\"transform\\\":{\\\"scale\\\":[0.00022140221402214023,0.00010590105901059014],\\\"translate\\\":[-97.15,38.04]},\\\"arcs\\\":[[[25474,20396],[45,0],[45,0],[136,0],[90,0],[45,0],[46,0],[45,0],[45,0],[45,0],[90,0],[46,0],[45,0],[45,0],[45,0],[45,0],[45,0],[46,0],[45,0],[135,0],[91,0],[45,0],[45,0],[45,0],[45,0],[45,0],[91,0],[45,0],[45,0],[45,0],[45,0],[46,0],[135,0],[45,-94],[45,0],[46,0],[45,0],[90,0],[45,0],[45,0],[46,0],[135,0],[45,0],[136,0],[90,0],[0,-94],[0,-189],[0,-189],[0,-95],[0,-94],[0,-94],[0,-95],[0,-94],[0,-95],[0,-189],[0,-94],[0,-94],[0,-95],[0,-94],[0,-95],[0,-94],[0,-95],[0,-94],[0,-94],[0,-95],[0,-94],[0,-95],[0,-94],[-45,0],[0,-95],[0,-94],[0,-94],[0,-95],[0,-94],[0,-95],[0,-94],[0,-95],[0,-377],[0,-95],[0,-94],[0,-283],[-45,0],[-45,0],[-46,0],[-45,0],[-45,0],[-90,0],[-45,0],[-46,0],[-45,0],[-45,0],[-45,0],[-45,0],[-45,0],[-46,0],[-45,0],[-45,0],[-45,0],[-45,0],[-91,0],[-180,0],[-46,0],[-45,0],[-45,0],[-90,0],[-90,0],[-46,0],[-45,0],[-45,0],[-45,0],[-90,0],[-46,0],[-45,0],[-45,0],[-45,0],[-45,0],[-91,0],[0,94],[0,94],[46,0],[0,95],[-46,94],[0,95],[-45,0],[-45,94],[-45,0],[-45,95],[-45,0],[-46,94],[-45,0],[0,94],[-45,189],[0,95],[0,94],[45,0],[0,95],[45,0],[0,94],[46,0],[0,94],[0,95],[0,94],[-46,0],[-45,95],[-45,94],[0,95],[-45,0],[0,94],[-45,0],[0,94],[0,95],[-45,94],[0,95],[-46,0],[0,189],[0,94],[0,94],[-45,95],[0,94],[0,95],[0,94],[-45,95],[0,94],[0,94],[0,95],[0,94],[0,95],[0,94],[0,95],[0,94],[0,94]],[[49412,44664],[46,0],[45,0],[135,0],[226,0],[316,0],[91,0],[135,0],[90,0],[46,0],[270,0],[91,0],[90,0],[136,0],[135,0],[91,0],[90,0],[135,0],[226,0],[45,0],[46,0],[45,0],[45,0],[45,0],[45,0],[91,0],[45,0],[90,0],[90,0],[0,-189],[0,-283],[0,-189],[0,-189],[45,-283],[0,-94],[0,-95],[0,-94],[0,-95],[0,-94],[0,-94],[0,-189],[0,-95],[0,-94],[0,-95],[0,-283],[0,-94],[0,-95],[0,-94],[0,-95],[0,-188],[0,-95],[0,-94],[0,-95],[-45,0],[-90,0],[-45,0],[-136,0],[-45,0],[-45,0],[-90,0],[-45,0],[-46,0],[-45,0],[-45,0],[-90,0],[-45,0],[-136,0],[-45,0],[-181,0],[-90,0],[-136,0],[-226,0],[-45,0],[-45,0],[-90,0],[-45,0],[-45,0],[-136,0],[-45,0],[-45,0],[-45,0],[-46,0],[-45,0],[-90,0],[-45,0],[-45,0],[-46,0],[-45,0],[-90,0],[-136,0],[-45,0],[-45,0],[-45,0],[-90,0],[-136,0],[-45,0],[-45,0],[-46,0],[-45,0],[0,95],[0,94],[45,0],[0,95],[0,94],[46,0],[0,94],[0,95],[0,94],[0,95],[0,94],[45,0],[0,95],[0,94],[0,94],[0,95],[0,94],[45,0],[0,95],[0,94],[0,95],[0,94],[45,0],[-45,0],[0,94],[0,95],[0,94],[0,95],[0,94],[45,0],[0,95],[0,94],[45,0],[0,94],[0,95],[0,94],[0,95],[0,94],[0,95],[0,94],[0,94],[0,95],[0,94]],[[76783,24835],[46,0],[45,0],[45,0],[45,0],[45,0],[45,0],[46,0],[45,0],[45,0],[45,0],[45,0],[45,0],[46,0],[45,0],[45,0],[45,0],[45,0],[91,0],[45,0],[90,0],[135,0],[46,0],[45,0],[0,94],[0,-94],[45,0],[90,0],[46,0],[45,0],[90,0],[45,0],[45,0],[46,0],[45,0],[45,0],[45,0],[45,0],[45,0],[46,0],[45,0],[45,0],[45,0],[-45,0],[0,-95],[45,0],[0,-94],[0,-95],[0,-94],[-45,0],[-45,0],[0,-95],[-45,0],[0,-94],[-46,-94],[-45,0],[-45,0],[-45,0],[0,-95],[-45,0],[0,-94],[0,-95],[0,-94],[0,-95],[45,0],[45,0],[45,0],[45,0],[0,-94],[46,0],[0,-94],[45,0],[45,0],[0,-95],[0,-189],[0,-94],[0,-95],[0,-94],[0,-94],[0,-95],[0,-94],[0,-95],[-45,0],[0,-94],[-45,0],[0,-95],[-46,0],[46,0],[-46,0],[0,-94],[-45,0],[-45,-94],[-45,0],[0,-95],[-45,0],[0,-94],[0,-95],[-45,-94],[0,-95],[0,-94],[0,-94],[0,-95],[-46,0],[0,-94],[46,-95],[45,0],[-45,0],[0,-94],[-46,0],[-45,0],[0,-95],[45,0],[0,-94],[0,-94],[-45,0],[0,-95],[-45,0],[0,-94],[45,0],[45,0],[46,0],[-136,-95],[-45,0],[-90,-94],[-91,-95],[-45,0],[-45,0],[-45,0],[0,-94],[-46,0],[0,94],[-45,0],[-45,0],[-45,95],[-45,0],[-45,0],[-45,0],[0,94],[-46,0],[0,95],[0,94],[46,0],[45,0],[45,0],[45,0],[0,95],[45,0],[45,0],[-45,0],[0,94],[-180,94],[-46,0],[-45,0],[-90,95],[-45,0],[-45,0],[0,94],[-46,0],[-45,0],[-45,0],[-45,95],[-45,0],[-45,0],[-46,0],[0,94],[-45,0],[-45,0],[-45,0],[-136,95],[-45,0],[-90,94],[-90,189],[-46,94],[-45,95],[-45,0],[-45,94],[-45,95],[-46,94],[-45,94],[-45,0],[-45,95],[-45,94],[-45,95],[-45,0],[0,94],[-46,0],[-90,189],[-45,94],[45,0],[0,95],[45,0],[45,94],[46,95],[45,94],[45,0],[90,189],[45,0],[45,94],[46,95],[90,94],[45,95],[45,0],[0,94],[46,0],[0,95],[45,0],[45,0],[-45,0],[45,0],[0,94],[45,0],[45,0],[45,0],[46,0],[-46,94],[0,95],[0,94],[0,95],[0,94],[0,95]],[[59936,26251],[0,-1700]],[[57588,24929],[0,1322],[271,0],[0,378]],[[93269,9915],[0,0],[0,0],[0,0],[0,0],[0,0],[0,0],[0,0],[0,0],[0,0],[0,0],[0,0],[0,0],[0,0],[0,0]],[[93360,9915],[0,0],[0,0],[0,0],[0,0],[0,0],[0,0],[0,0],[0,0],[0,0]],[[93450,9820],[0,0],[0,0],[0,0],[0,0],[0,0],[0,0],[0,0],[0,0],[0,0],[0,0],[0,0],[0,0],[0,0],[0,0],[0,0]],[[93450,9820],[0,0],[0,0],[0,0],[0,0],[0,0],[0,0],[0,0],[0,0],[0,0],[0,0],[0,0],[0,0],[0,0],[0,0],[0,0],[0,0],[0,0],[0,0],[0,0],[0,0],[0,0],[0,0],[0,0],[0,0]],[[92953,9443],[45,0],[-45,0]],[[93269,8121],[0,0]],[[93269,8121],[0,94],[0,0],[0,-94]],[[93088,7932],[0,94],[0,-94]],[[93314,7649],[0,0],[0,0],[0,0],[0,0],[0,0],[0,0],[0,0],[0,0],[0,0],[0,0],[0,0],[0,0],[0,0],[0,0]],[[92727,11331],[45,-94],[46,-95],[45,-94],[45,0],[0,-189],[-45,0],[0,-94],[0,0],[0,94],[45,0],[0,-94],[-45,0],[0,-189],[-45,0],[0,0],[45,0],[0,94],[45,0],[0,95],[0,0],[0,94],[45,0],[0,95],[-45,0],[0,94],[45,-94],[90,0],[91,94],[0,-283],[0,0],[0,-95],[45,0],[0,0],[-45,0],[0,-94],[-46,0],[0,0],[-45,0],[0,0],[91,0],[-46,-95],[0,0],[-90,0],[0,0],[45,-94],[0,0],[0,0],[0,0],[0,94],[91,0],[0,95],[45,0],[0,94],[90,0],[0,-94],[-45,0],[0,-95],[-45,0],[0,-94],[45,0],[0,94],[45,0],[0,0],[0,0],[0,0],[45,95],[46,0],[0,0],[45,0],[0,-95],[45,0],[45,-94],[45,0],[0,-94],[-135,0],[0,0],[-45,0],[0,-95],[45,0],[0,95],[45,0],[0,0],[45,0],[0,-95],[45,0],[0,0],[0,0],[0,95],[45,0],[0,-378],[46,0],[0,-189],[-46,0],[0,-94],[-45,94],[0,94],[-45,0],[0,95],[90,0],[0,-95],[0,0],[0,0],[46,0],[0,95],[-91,0],[0,94],[0,0],[0,-94],[-45,94],[-45,0],[0,-94],[-45,0],[0,0],[0,0],[0,-95],[-45,0],[0,95],[0,0],[0,-95],[0,0],[0,0],[-46,0],[0,0],[-45,0],[0,0],[-45,0],[0,95],[-45,0],[0,0],[0,0],[0,94],[0,0],[0,-94],[-45,0],[0,189],[-91,0],[0,0],[45,0],[0,-95],[46,0],[0,-94],[-46,0],[0,0],[46,0],[0,-95],[45,0],[0,-94],[-45,0],[0,0],[45,0],[0,-94],[0,0],[0,94],[45,0],[0,0],[90,0],[0,-94],[46,0],[0,0],[135,0],[0,-95],[-45,0],[0,-94],[0,0],[0,94],[135,0],[0,-94],[0,0],[0,-95],[-45,0],[0,0],[45,0],[0,95],[91,0],[0,-95],[45,0],[0,-189],[-45,0],[0,-94],[-45,0],[0,-94],[0,0],[0,94],[-46,0],[0,189],[-45,0],[0,-95],[-45,0],[0,0],[90,0],[0,-94],[-90,0],[0,0],[-45,0],[0,94],[-45,0],[0,0],[45,0],[0,-94],[0,0],[0,-94],[45,0],[0,-189],[-45,94],[0,0],[0,0],[-45,0],[0,95],[-91,0],[0,94],[0,0],[0,94],[-90,0],[0,95],[-45,0],[0,94],[-45,0],[0,95],[-46,0],[0,94],[0,0],[0,95],[-45,0],[0,0],[-45,0],[0,94],[-45,0],[0,0],[-45,0],[0,0],[-45,0],[0,94],[-45,0],[0,-94],[135,0],[0,-94],[45,0],[0,-95],[0,0],[0,0],[-45,0],[0,-94],[-45,0],[0,-95],[45,0],[0,0],[45,95],[0,-95],[90,0],[0,-94],[91,0],[-45,-95],[45,0],[0,-94],[45,0],[-45,94],[45,0],[0,-94],[0,0],[0,-94],[45,0],[0,94],[45,0],[0,-94],[-45,0],[0,-95],[45,0],[0,95],[46,0],[0,-95],[0,0],[-46,-94],[0,0],[0,0],[46,0],[0,0],[0,0],[0,-95],[0,0],[0,95],[45,0],[0,-95],[0,0],[0,-94],[0,0],[0,-95],[45,0],[-45,95],[45,0],[0,0],[45,-95],[-45,0],[0,-94],[0,0],[0,-189],[-45,0],[0,0],[0,0],[-45,95],[0,0],[-46,0],[0,94],[0,0],[0,0],[-45,0],[0,0],[-45,0],[0,0],[-45,0],[0,189],[0,0],[0,-95],[-45,0],[0,189],[0,0],[0,-94],[-46,0],[0,0],[-45,0],[0,94],[-45,0],[0,0],[-45,0],[0,0],[-45,0],[45,95],[0,0],[0,0],[-45,0],[0,-95],[-45,0],[0,95],[-45,0],[0,94],[0,0],[0,-189],[90,0],[0,-94],[0,0],[0,-95],[-45,0],[0,0],[45,0],[0,0],[45,0],[0,95],[90,0],[0,-95],[0,0],[0,95],[45,0],[0,-95],[0,0],[0,-94],[-45,0],[0,-94],[45,0],[0,94],[46,0],[0,-94],[45,0],[0,0],[45,0],[0,-95],[0,0],[0,-94]],[[93224,8121],[45,0]],[[93269,8121],[45,0],[0,-189],[-45,0],[-45,-94],[0,94],[0,0],[0,94],[0,0],[0,-94],[-45,0],[0,94],[-45,0],[0,95],[45,0],[0,0],[-45,0],[0,-95],[-46,0],[0,0],[-45,0],[0,-94],[91,0],[0,-94],[45,0],[0,0],[-45,0],[0,0],[-46,0],[0,-95],[0,0],[0,-94],[0,0],[0,-95],[-45,0],[0,-94],[45,0],[0,0],[46,0],[0,0],[45,0],[0,0],[0,0],[0,94],[-45,0],[0,95],[90,0],[0,0],[45,0],[0,0],[45,0],[0,0],[-45,-95],[45,0],[0,-94],[-45,0],[0,-189],[-45,0],[0,-94],[-45,0],[-45,-95],[0,95],[0,0],[0,-95],[0,0],[0,-94],[-46,0],[0,-95],[-90,0],[0,189],[0,0],[0,-189],[0,0],[0,-189],[0,0],[0,-94],[45,0],[0,-94],[91,0],[0,-189]],[[93224,9820],[0,0],[0,0],[0,0],[0,0],[0,0],[0,0],[0,0],[0,0],[0,0]],[[93088,9820],[0,0],[0,0],[0,0],[0,0],[0,0],[0,0],[0,0],[0,0]],[[92908,9820],[0,0],[0,0],[0,0],[0,0],[0,0],[0,0],[0,0],[0,0],[0,0],[0,0],[0,0],[0,0],[0,0],[0,0],[0,0]],[[92863,9820],[0,0],[0,0],[0,0],[0,0],[0,0],[0,0],[0,0],[0,0],[0,0],[0,0],[0,0],[0,0],[0,0],[0,0],[0,0],[0,0],[0,0]],[[18654,68555],[0,-1039]],[[18654,67421],[0,-566]],[[18654,67516],[0,-95]],[[28094,80736],[0,-95],[90,0],[0,95],[45,-95],[0,95],[45,0],[0,0],[46,0],[0,94],[90,0],[0,95],[135,0],[0,94],[181,0],[0,94],[90,0],[0,95],[46,0],[0,94],[90,0],[0,95],[-90,0],[0,94],[225,0],[0,0],[46,0],[0,-94],[0,0],[0,94],[-91,0],[0,95],[-45,0],[0,94],[-45,0],[0,94],[-90,0],[0,0],[90,0],[0,-94],[45,0],[0,-94],[90,0],[0,-95],[46,0],[45,-94],[45,0],[0,-95],[45,0],[45,-94],[45,0],[46,-95],[45,0],[0,-94],[90,0],[0,-94],[45,0],[45,-95],[46,0],[0,-94],[135,0],[0,-3305],[542,0],[0,-850],[181,0],[90,94],[181,-94],[135,0],[0,-1605],[-2845,0],[0,188],[45,95],[0,1322]],[[28681,82058],[-45,0],[45,0],[45,0],[45,0],[0,-95],[45,0],[0,-94],[46,0],[-46,0],[0,94],[-45,0],[0,95],[-45,0],[-45,0]],[[28862,83002],[0,94],[0,95],[45,0],[0,94],[0,95],[45,0],[45,0],[45,0],[0,-95],[-45,0],[0,-94],[-45,0],[0,-95],[-45,-94],[-45,0]],[[29539,83380],[45,0],[45,0],[0,-95],[46,0],[0,-94],[45,0],[-45,0],[0,-95],[-46,0],[-45,0],[-45,0],[-45,0],[0,-94],[-45,0],[-45,0],[-46,0],[-45,-94],[-45,0],[-45,0],[0,-95],[45,-94],[45,0],[45,0],[0,-95],[-45,0],[-45,0],[-45,0],[0,-94],[-45,0],[-45,0],[-46,0],[0,94],[-45,0],[0,-94],[-45,0],[0,-95],[-45,0],[-45,0],[0,-94],[-45,0],[0,-94],[-46,0],[-45,0],[-45,0],[0,94],[45,94],[0,95],[-45,0],[0,94],[45,0],[45,0],[46,0],[0,95],[45,0],[45,0],[45,0],[0,94],[45,95],[45,0],[46,0],[0,94],[45,0],[45,0],[45,94],[45,0],[45,95],[46,0],[0,94],[45,0],[0,95],[45,0],[45,0]],[[29268,83569],[0,-95],[-45,0],[-45,0],[-45,0],[0,95],[45,0],[45,0],[0,94],[45,-94]],[[30171,83474],[-45,0],[0,-94],[-45,0],[-45,0],[-45,0],[-45,94],[45,0],[45,0],[0,95],[45,0],[45,0],[45,0],[46,0],[0,94],[45,0],[0,-94],[-45,0],[-46,-95]],[[30307,83757],[0,0],[0,0],[0,0],[0,0],[0,0],[0,0],[0,0],[0,0],[0,0],[0,0],[0,0],[0,0],[0,0]],[[28997,84230],[45,0],[45,0],[0,-95],[0,-94],[46,0],[45,0],[0,-95],[0,-94],[-45,0],[-46,0],[-45,0],[0,-95],[-45,0],[-45,0],[0,95],[-45,0],[0,94],[-45,0],[45,0],[0,95],[-45,0],[0,94],[45,95],[45,0],[45,0]],[[29900,84324],[46,0],[0,-94],[45,0],[0,-95],[-45,0],[0,-94],[0,-95],[-46,0],[-45,0],[-45,0],[0,-94],[45,0],[0,-95],[-45,0],[0,95],[-45,0],[-45,0],[-45,0],[-46,0],[-45,0],[-45,0],[0,-95],[-45,0],[-45,0],[-45,0],[-46,0],[0,95],[0,94],[46,0],[0,95],[45,0],[45,0],[0,94],[45,0],[45,0],[45,0],[0,95],[46,0],[45,0],[45,0],[45,0],[45,94],[45,0]],[[29404,84418],[45,0],[0,-94],[-45,0],[0,-94],[-46,0],[-45,0],[0,-95],[-45,0],[-45,0],[0,95],[45,0],[0,94],[45,0],[0,94],[45,0],[46,0]],[[29178,84702],[45,0],[0,-95],[45,0],[-45,0],[0,-94],[-45,0],[0,-95],[-45,0],[-46,0],[0,95],[0,94],[46,0],[0,95],[45,0]],[[29539,84702],[0,-95],[45,0],[-45,0],[0,-94],[-45,0],[0,94],[-45,0],[45,0],[0,95],[45,0]],[[28862,84891],[45,0],[0,-95],[45,0],[0,-94],[-45,0],[0,-95],[-45,0],[-46,0],[0,95],[0,94],[-45,0],[45,95],[46,0]],[[29404,84891],[-46,0],[0,94],[46,0],[0,-94]],[[29765,84607],[-45,95],[0,94],[0,95],[-45,0],[45,94],[45,0],[-45,-94],[45,0],[0,-95],[45,0],[0,-94],[0,-95],[-45,0]],[[29313,85079],[0,-94],[-45,0],[0,-94],[-45,0],[0,-95],[-45,0],[0,95],[0,94],[0,94],[45,0],[45,-94],[0,94],[45,0],[45,0],[-45,0]],[[29629,85174],[0,94],[0,95],[0,-95],[46,0],[0,-94],[-46,0]],[[30442,85363],[0,-95],[0,95],[46,0],[45,0],[0,-95],[-45,0],[45,0],[0,-94],[-45,0],[0,-95],[0,-94],[-46,0],[0,-94],[46,0],[0,-95],[-46,0],[0,-94],[-45,0],[-45,0],[0,-95],[-45,0],[-45,0],[-45,0],[0,-94],[-46,0],[0,94],[46,0],[0,95],[0,94],[0,95],[0,94],[0,94],[45,95],[0,94],[45,0],[45,0],[0,95],[45,0],[45,0]],[[29042,85174],[-45,0],[0,94],[0,95],[45,0],[0,-95],[0,-94]],[[75112,32672],[-2168,0]],[[72944,35977],[45,0],[0,94],[271,0],[0,95],[226,0],[0,94],[136,0],[0,95],[135,0],[0,94],[45,0],[0,95],[226,0],[45,94],[226,0],[0,94],[136,0],[0,95],[180,0],[0,94],[181,0],[0,95],[136,0],[0,94],[135,0],[0,95],[45,0],[0,-1228]],[[67705,14353],[135,0],[0,-94],[362,0],[0,-756],[-45,0],[0,-94],[451,0],[45,-95],[497,0]],[[69647,11142],[0,-188],[-45,0],[0,-95],[-45,0],[0,-94],[-452,0],[-90,94],[-1039,0],[-90,95],[-678,0],[0,377],[45,95],[0,377],[-180,0],[0,378],[45,0],[0,472]],[[57588,24929],[90,0],[90,94],[633,0],[0,-283],[496,0],[0,-189],[1039,0]],[[59936,24551],[0,-944]],[[59394,23040],[-1535,0],[0,-944],[-407,0],[0,-283]],[[57317,24929],[271,0]],[[93902,12748],[0,0]],[[93676,12748],[0,0],[0,0],[0,0],[0,0],[0,0],[0,0],[0,0],[0,0],[0,0],[0,0],[0,0],[0,0],[0,0],[0,0],[0,0],[0,0],[0,0],[0,0]],[[92321,12464],[0,0],[0,0],[0,0],[0,0],[0,0]],[[93902,12181],[45,0],[0,0],[45,0],[0,-94],[45,0],[0,-95],[-45,0],[0,0],[-45,0],[0,95],[45,0],[0,0],[-45,-95],[45,0],[0,95],[-45,0],[0,-95],[0,0],[0,95],[-45,0]],[[93856,11331],[-45,0],[-45,0],[0,95],[45,0],[45,0],[46,94],[45,0],[45,0],[-45,-94],[-91,-95]],[[92682,11331],[0,0],[0,0],[0,0],[0,0],[0,0],[0,0],[0,0]],[[93766,11237],[0,94],[0,-94],[-45,0],[45,0]],[[93179,11048],[0,94],[0,-94]],[[92727,11331],[0,0]],[[92727,11331],[-45,0],[0,-94],[45,94]],[[92727,11331],[0,-94],[-45,0],[0,-95],[-45,0],[0,95],[-136,0],[0,-95],[-135,0],[0,-94]],[[91959,15864],[994,0]],[[93902,12748],[-46,0]],[[93856,12748],[0,-95],[-135,0],[0,95],[-45,-95],[0,0],[135,0],[0,-94],[45,0],[0,94],[91,0],[0,0],[45,0],[0,-189],[0,0],[0,-188],[45,0],[0,0],[-90,0],[0,0],[-45,0],[0,94],[-46,0],[0,-94],[46,0],[0,-95]],[[93902,12181],[0,95],[-46,0],[0,0],[-45,0],[0,94],[0,0],[0,-94],[45,0],[0,-95],[46,0]],[[93902,12181],[0,-94]],[[93902,12087],[-46,0],[0,0],[-45,0],[0,94],[-45,-94],[0,0],[90,0],[0,-95],[0,0],[0,-94],[-45,0],[0,94],[-45,0],[0,0],[-45,0],[0,189],[0,0],[0,0],[-45,0],[0,-94],[0,0],[0,0],[0,0],[0,-95],[-45,0],[0,95],[-46,0],[0,94],[0,0],[0,-94],[-45,0],[0,94],[0,0],[0,-94],[45,0],[0,-95],[-45,0],[0,0],[91,0],[0,-94],[-46,0],[0,0],[136,0],[0,-95],[-45,0],[-45,-94],[45,0],[0,94],[45,0],[0,0],[90,0],[0,-94],[-90,0],[0,-94],[0,0],[0,-95],[0,0],[0,-94],[-181,0],[0,189],[0,0],[0,94],[0,0],[0,94],[45,0],[0,0],[-45,0],[0,-94],[-45,94],[0,0],[-45,0],[0,95],[45,0],[0,0],[-90,0],[0,0],[45,0],[0,-95],[-45,0],[0,95],[-91,0],[0,189],[0,0],[0,-95],[-45,0],[0,0],[0,0],[0,-94],[91,0],[0,-95],[45,0],[0,-94],[45,0],[45,-94],[0,-189],[45,0],[0,-95],[91,0],[0,-94],[90,0],[0,0],[-45,0],[0,-95],[-45,0],[0,-94],[-46,0],[0,-94],[-45,0],[0,94],[45,-94],[0,94],[-45,0],[0,-94],[-45,0],[0,94],[45,0],[0,94],[-90,0],[0,95],[0,0],[0,-189],[-90,0],[0,0],[-46,0],[0,-94],[-45,0],[0,94],[0,0],[0,189],[45,0],[0,189],[46,0],[0,94],[0,0],[45,95],[-45,0],[0,0],[0,0],[0,-95],[0,0],[0,-94],[-46,0],[0,94],[0,0],[0,-94],[-45,0],[0,94],[0,0],[0,-94],[45,0],[0,-95],[-45,0],[0,-94],[-90,0],[0,0],[0,0],[0,94],[-45,0],[0,1228],[-813,0],[0,-850],[45,-94],[90,0],[0,-95],[91,0],[0,-94],[90,0],[45,-95],[45,0]],[[93405,11520],[0,0],[0,0],[0,0],[0,0],[0,0],[0,0],[0,0],[0,0],[0,0],[0,0],[0,0],[0,0],[0,0],[0,0],[0,0],[0,0],[0,0],[0,0],[0,0],[0,0],[0,0],[0,0],[0,0]],[[28410,84418],[-45,0],[0,95],[-45,0],[45,0],[45,-95],[0,95],[45,0],[0,-95],[-45,0]],[[28681,84324],[-45,0],[45,0],[0,94],[45,0],[45,0],[-45,0],[0,-94],[-45,0]],[[27958,84230],[-45,0],[0,94],[-45,0],[0,94],[0,95],[45,0],[45,0],[45,0],[46,0],[0,94],[45,0],[0,-94],[45,0],[-45,0],[0,-95],[0,-94],[0,-94],[-45,0],[-46,0],[-45,0]],[[27597,84041],[0,94],[45,0],[0,-94],[-45,0]],[[25293,82341],[45,0],[0,-94],[46,94],[135,0],[45,94],[181,0],[45,95],[91,0],[0,94],[225,0],[46,95],[45,94],[45,0],[0,95],[90,0],[0,94],[271,0],[0,94],[45,0],[0,95],[46,0],[0,94],[45,0],[45,95],[90,0],[0,94],[45,0],[0,95],[45,0],[0,-95],[-45,0],[0,-94],[-45,0],[0,-189]],[[26919,83191],[45,0],[0,-95],[46,0],[0,95],[45,0],[0,94],[45,0],[0,95],[90,0],[-45,-95],[181,0],[0,95],[45,0],[0,94],[181,0],[0,95],[45,0],[0,94],[45,0],[0,94],[90,0],[0,95],[91,0],[45,94],[0,95],[181,0],[0,-95],[135,0],[0,95],[45,0],[0,94],[91,0],[0,95],[225,0],[0,-284],[91,0],[0,95],[90,0],[0,-95],[45,-94],[0,-95],[91,0],[0,-94],[45,0],[0,-189],[-91,0],[0,95],[-45,0],[0,-95],[45,0],[0,-94],[-45,0],[0,-95],[-45,-94],[0,-189],[-45,0],[0,-94],[-45,0],[0,-95],[-45,0],[-46,-94],[0,-95],[-135,0],[0,-189],[-45,0],[0,-94],[-91,0],[0,-94],[46,0],[0,-189],[45,0],[0,-95],[45,0],[0,-189],[45,0],[0,-94],[-45,0],[0,-94],[-90,0],[0,-95],[-136,0],[0,-94],[-45,0],[0,-95],[0,0],[0,-189],[-45,-94],[0,-94],[-91,0],[0,-189],[0,0],[0,0],[46,0],[0,0],[45,0]],[[28094,80736],[0,-850],[45,0],[0,-1794],[-45,-95],[0,-377],[45,0],[0,-1039]],[[28139,76581],[-181,0],[-45,94],[-45,-94],[-316,0],[-362,94],[-1897,0]],[[26874,83191],[45,0]],[[8988,82719],[0,-756]],[[4336,86024],[2891,0]],[[71905,20113],[91,0],[45,0],[45,0],[45,0],[45,0],[46,0],[45,0],[45,0],[45,0],[45,0],[45,0],[91,0],[45,0],[45,0],[90,0],[46,0],[0,-94],[90,0],[45,0],[135,0],[46,0],[45,0],[45,0],[316,0],[136,0],[226,0],[90,0],[45,0],[0,-95],[0,95],[136,0],[90,0],[45,0],[45,0],[-45,-95],[0,-94],[0,-95],[0,-94],[0,-94],[0,-95],[-45,-94],[-45,0],[0,-95],[-45,0],[0,-94],[0,-95],[45,0],[0,-94],[0,-94],[0,-95],[-45,0],[0,-94],[0,-95],[0,-94],[0,-95],[0,-94],[0,-94],[-46,0],[0,-95],[-45,0],[0,-94],[0,-95],[0,-94],[0,-95],[0,-94],[-45,0],[-45,0],[0,94],[-45,0],[-45,0],[-46,0],[0,-94],[0,-94],[46,0],[0,-95],[0,-94],[45,0],[0,-95],[0,-94],[-45,0],[-46,0],[0,-95],[-45,0],[-45,0],[-90,0],[-91,0],[-45,0],[-45,0],[-45,0],[-45,0],[-45,0],[-136,95],[-45,0],[-45,0],[-46,0],[-45,0],[-45,0],[-90,0],[-45,0],[-91,0],[-45,0],[-45,0],[-45,0],[-45,0],[-45,0],[-46,0],[-45,0],[-45,0],[0,94],[-45,0],[-45,0],[-45,0],[-91,0],[-90,0],[-45,0],[-45,0],[-46,0],[-45,0],[0,95],[0,94],[0,95],[0,94],[0,94],[45,189],[-45,0],[45,0],[0,95],[0,189],[0,94],[0,94],[0,95],[0,94],[0,95],[0,189],[0,94],[0,94],[0,95],[0,94],[0,95],[0,94],[0,95],[0,94],[0,94],[0,95],[0,94],[0,95],[0,94]],[[7091,94239],[-45,0],[0,3305],[-45,0],[0,1605],[1761,0],[0,-1605],[3523,0],[46,-1133],[0,-5949],[0,0],[0,-283],[45,0],[0,-284],[-45,-189],[45,-283],[0,-94],[-45,0],[0,-850],[-1130,0]],[[12873,73087],[0,95],[-46,0],[0,94],[-135,0],[0,94],[-45,95],[2665,0],[0,-2455]],[[4065,71293],[45,0],[0,-1700],[542,0],[0,-1605],[91,0],[0,-567],[-46,0],[0,95],[-135,0],[0,0],[-181,0],[0,94],[-90,0],[0,95],[-45,0],[-45,94],[-271,0],[0,189],[0,0],[0,94],[-226,0],[-45,95],[-362,0],[0,94],[-135,0],[0,284],[-45,0],[0,94],[-46,189],[-45,0],[0,189],[-45,0],[0,94],[-45,0],[0,95],[-90,0],[0,94],[-136,0],[-45,94],[-90,0],[0,95],[-136,0],[0,94],[-361,0],[0,95],[-45,0],[0,94],[-46,0],[0,95],[-45,94],[-45,0],[0,94],[-45,0],[0,284],[-45,0],[0,94],[-45,95],[0,94],[-46,0],[0,94],[-45,0],[0,95],[-45,94],[-45,0],[0,95],[-45,0],[-45,94],[-91,189]],[[41418,61850],[-45,95],[45,0],[0,-95]],[[41373,62606],[45,0],[0,-95],[-45,0],[0,95]],[[40198,61756],[46,189],[0,0],[0,566],[-46,0],[0,189],[91,0],[0,-94],[316,0],[0,94],[768,0]],[[41373,62700],[0,-94]],[[41373,62606],[-45,0],[0,-189],[0,0],[0,-95]],[[41328,62322],[-46,0]],[[41282,62322],[0,0]],[[41282,62322],[0,-189],[46,0],[0,-94],[45,0],[0,-94],[-45,0],[0,94],[-46,0],[0,-189],[0,0],[-45,-94],[0,0],[-90,0],[0,-189],[-45,0],[0,0],[45,0],[0,0],[45,0],[0,-95],[90,0],[0,-94],[136,0],[0,-94],[226,0],[0,94],[45,0],[0,94],[45,0],[0,95],[45,94],[0,95],[0,0],[0,94],[45,0],[0,95],[91,0],[0,94],[45,0],[0,94],[135,0],[0,95],[91,0],[0,94],[226,0],[0,-944],[-46,0],[0,-189],[0,0],[46,-94],[-46,-95],[46,-94],[0,-283],[-46,-95],[0,-1133],[-542,0],[0,-850],[-677,0]],[[59349,10104],[0,0],[0,0],[0,0],[0,0]],[[59981,11426],[0,-2172],[904,0],[0,-189],[-46,0],[0,-850],[-45,-377],[0,-756],[-45,-283],[0,-944],[-45,-95],[0,-94],[-45,0],[0,94],[-226,0],[0,95],[-45,94],[0,283],[-90,0],[0,95],[-136,0],[0,94],[-45,0],[0,189],[-45,0],[0,94],[-45,0],[0,95],[-91,0],[-45,94],[-135,0],[-46,95],[-90,0],[0,94],[-181,0],[0,-94],[-135,0],[0,-95],[-136,0]],[[25248,56562],[-180,0],[0,95],[-46,94],[-90,0],[0,95],[-90,0],[0,94],[-45,0],[0,94],[-46,95],[-45,94],[-135,0],[0,189],[-45,0],[0,95],[-136,0],[0,94],[-90,0],[0,94],[-136,0],[0,95],[-90,0],[0,94],[-45,95],[-45,0],[-46,94],[-45,0],[0,95],[-90,0],[0,188],[-45,95],[0,283],[-46,0],[0,189],[-90,0],[0,283],[45,0],[-45,95],[0,94],[-45,0],[0,94],[-45,0],[-45,95],[-45,94],[-46,0],[0,95],[-135,0],[0,94],[-90,0],[-46,95],[-90,0],[0,94],[-135,0],[0,378],[45,0],[0,189],[45,0],[0,283],[45,0],[0,189],[45,0],[0,94],[-45,0],[0,95],[45,94],[0,283],[45,0],[0,189],[91,0],[45,95],[1581,0]],[[57813,11803],[-90,0],[-45,95],[-497,0],[-45,94],[-45,0],[0,-94],[-91,0],[-45,94],[-451,0],[0,-94],[-588,0],[-45,94],[-135,0],[-45,-94],[0,2549]],[[40469,58545],[678,0]],[[41147,58545],[0,-3305]],[[39521,55712],[0,2833]],[[92411,6704],[0,95],[90,0]],[[92501,6704],[0,95]],[[92501,6799],[91,0],[0,94],[135,0],[0,-472],[361,0],[46,-94]],[[93134,6327],[0,-189],[0,0],[0,-378],[45,0],[0,-283],[45,0],[0,-189],[-45,0],[0,-661],[45,0],[0,-283],[45,0],[0,-95],[45,0],[0,-94],[46,-95],[45,0],[0,-94],[45,0],[0,-94],[45,0],[0,-95],[45,0],[0,-94],[45,0],[0,-95],[46,0],[0,-94],[45,0],[0,-95],[45,0],[0,-94],[90,0],[0,-94],[-45,0],[0,-284],[-45,0],[0,-94],[-45,0],[0,-95],[-45,0],[0,-94],[-46,0],[-45,94],[0,-94],[-90,0],[0,94],[-90,0],[0,95],[45,0],[0,94],[-45,0],[0,95],[-46,94],[0,95],[-45,0],[0,94],[-45,0],[0,94],[-45,0],[0,95],[-45,0],[0,94],[-46,0],[0,-94],[-45,0],[0,94],[-45,0],[0,0],[-45,0],[-45,95],[-45,0],[0,94],[-45,0],[0,189],[45,0],[0,94],[-45,0],[0,95],[0,0],[0,-283],[-46,0],[0,94],[-135,0],[0,94],[0,0],[0,95],[-45,0],[0,94],[-45,95],[0,94],[0,0],[0,95],[45,0],[0,94],[-45,0],[0,94],[0,0],[0,189],[45,0],[0,0],[45,0],[0,0],[45,0],[0,95],[-45,0],[0,-95],[-45,0],[0,0],[-91,0],[0,567]],[[21951,79130],[-3433,0],[-45,189],[0,1322],[45,95],[-45,0],[0,1699]],[[90017,15864],[1942,0]],[[91959,15864],[0,-189],[-45,-94],[0,-95],[-45,-94],[0,-189],[-45,-189],[0,-94],[-45,-189],[0,-95],[-45,0],[0,-94],[-91,-472],[-45,-284],[0,-188],[-45,0],[0,-95],[-45,0],[0,-189]],[[91508,13314],[45,0],[0,-94]],[[91553,13220],[-45,94]],[[91508,13314],[0,-94]],[[91553,13220],[-45,0]],[[91508,13220],[-46,0],[0,-95],[46,0],[0,-94],[45,0],[0,-189],[-45,0],[45,-94],[-45,0],[0,-189],[45,0],[0,-95]],[[91553,12464],[0,0]],[[91598,12464],[-45,0]],[[91553,12464],[0,-94]],[[91508,13220],[0,0]],[[14182,65533],[1084,0]],[[15266,62322],[0,284],[-542,0],[0,472],[-542,0]],[[9033,32766],[136,0],[181,-94],[1716,0],[0,-3211],[-2078,0]],[[86630,29839],[0,0],[0,0],[0,0],[0,0],[0,0],[0,0]],[[88165,28800],[0,0]],[[88165,28800],[45,0]],[[88210,28800],[46,0],[0,-94],[90,0],[0,-94],[90,0],[0,-95],[46,0],[-46,-94],[-45,0],[0,-95],[45,-94],[46,0],[45,-189],[45,0],[0,-189],[45,0],[45,-94],[45,-189],[46,0],[225,94],[91,0],[0,95],[271,0],[90,94],[136,0],[90,95],[45,0],[181,94],[226,189],[90,0],[45,94],[136,0],[-91,-94],[-45,-95],[-45,-94],[-45,0],[0,-94],[-91,-95],[-45,-189],[-45,-94],[-45,-95],[-45,-94],[-46,0],[0,-94],[-45,-95],[-45,-94],[-45,-95],[-45,-94],[-45,0],[0,-95],[-91,0],[0,-94],[-45,-94],[-90,-95],[-45,0],[-45,-94],[-91,0],[-45,-95],[-90,0],[-45,-94],[-46,0],[-271,-283],[-135,-95],[-45,0],[-45,-94],[-91,0],[-45,-95],[-90,0],[-46,-94],[-45,0],[-90,-95],[-45,0],[-90,-94],[-91,-94],[-45,-95],[-45,95],[0,94],[-90,-94],[-136,0],[-181,188],[-180,0],[-45,-94],[-46,0],[0,-94],[-135,0],[0,-95],[-181,-189],[-45,0],[-45,95],[-136,0],[0,94],[-135,0],[-136,95],[-45,0],[-45,94],[-135,0],[-46,94],[-767,0],[-362,-94],[0,94],[-45,0],[0,95],[-45,0],[0,94],[90,0],[0,95],[45,0],[0,94],[46,0],[0,189],[45,0],[0,94],[90,0],[0,95],[45,0],[0,189],[45,0],[0,94],[136,0],[0,0],[45,0],[0,189],[45,0],[0,94],[45,0],[0,95],[46,0],[-46,94],[0,95],[91,0],[0,94],[135,0],[0,95],[45,0],[0,94],[46,0],[0,94],[-46,0],[0,95],[91,0],[0,-95],[45,0],[0,189],[45,0],[0,-94],[-45,0],[0,-95],[90,0],[0,-94],[45,0],[0,94],[136,0],[0,189],[-45,0],[0,95],[45,0],[0,94],[45,0],[0,95],[45,0],[0,0],[0,0],[0,94],[-45,0],[0,94],[0,0],[0,95],[0,0],[0,94],[45,0],[0,95],[-45,0],[0,94],[-90,0],[0,95],[0,0],[0,94],[-45,0],[0,189],[-46,0],[0,189],[91,0],[0,94],[45,0],[0,-94],[45,0],[0,94],[90,0],[0,189],[181,0],[0,-94],[45,0],[0,188],[45,0],[0,95],[91,0],[0,378],[45,0],[0,94],[45,0],[0,-94],[45,0],[0,188],[91,0],[0,95],[45,0],[0,94],[45,0],[0,-661],[497,0],[0,-377],[45,0],[0,0],[45,0],[0,-95],[45,0],[0,-94],[45,0],[46,-95],[90,0],[0,0],[271,0],[0,-94],[90,0],[45,-95]],[[85546,27101],[0,0],[0,0],[0,0],[0,0],[0,0],[0,0],[0,0],[0,0]],[[61562,18602],[-361,0],[-136,95],[-632,0],[-90,94],[-678,0],[-180,95],[-272,0],[0,94],[46,94],[0,850],[45,189],[0,944],[45,0]],[[95166,16242],[0,0],[0,0],[0,0],[0,0]],[[97379,16997],[46,0],[-46,0]],[[98057,18413],[0,0],[0,0],[0,0],[0,0],[0,0],[0,0],[0,0]],[[97967,19358],[0,0],[0,0],[0,0],[0,0],[0,0],[0,0],[0,0],[0,0]],[[98418,19074],[-90,0],[-45,-94],[-91,0],[0,-189],[0,0],[-45,-94],[0,-95],[-45,0],[-45,-94],[-45,0],[0,-95],[45,0],[0,-94],[-45,0],[-45,-94],[-91,0],[0,-95],[-45,0],[-90,-94],[-45,0],[0,-189],[-46,0],[46,-95],[-46,0],[-45,95],[0,-95],[-45,0],[0,-94],[-45,0],[0,-94],[-45,0],[0,-95],[-45,0],[0,-94],[-46,0],[-45,-95],[0,0],[0,-189],[45,0],[0,-94],[-90,0],[-45,-94],[-136,0],[0,-95],[-135,0],[0,-94],[-45,0],[-45,-95],[-46,0],[0,-94],[-45,0],[-45,-95],[-45,-94],[-45,0],[0,-94],[-45,-95],[-46,-94],[0,-189],[-1671,0],[0,94],[91,0],[0,95],[45,0],[0,-95],[45,-94],[0,94],[45,0],[0,95],[-45,0],[0,0],[45,0],[0,94],[45,0],[-45,95],[136,0],[0,188],[45,0],[0,95],[45,0],[0,94],[0,0],[0,95],[45,0],[0,94],[-45,0],[0,95],[45,0],[0,0],[45,0],[0,188],[45,0],[0,189],[91,0],[0,284],[-45,0],[0,188],[0,0],[0,95],[90,0],[0,94],[-45,0],[0,284],[90,188],[45,189],[45,0],[0,95],[46,94],[0,95],[45,0],[0,94],[-45,0],[0,567],[45,0],[45,94],[135,94],[46,0],[45,95],[45,94],[45,0],[45,95],[45,0],[0,94],[91,95],[180,188],[46,95],[90,94],[45,0],[0,95],[45,0],[91,94]],[[7136,64211],[-45,0]],[[7091,64211],[-90,0],[0,94],[-90,0],[0,95],[0,0],[0,94],[-46,0],[0,95],[-45,-95],[0,95],[-45,0],[0,94],[-45,0],[-45,94],[0,95],[-46,0],[0,-95],[-135,0],[0,95],[-45,0],[0,189],[-45,0],[0,94],[-91,0],[0,95],[-45,0],[0,-95],[0,0],[0,95],[-45,0],[0,-95],[-45,0],[0,95],[-136,0],[0,94],[-45,0],[0,283],[-45,0],[0,0],[-45,0],[0,95],[-45,0],[-45,94],[-46,0],[0,95],[-45,0],[0,94],[-45,0],[0,94],[-271,378],[-45,0],[-45,95],[-45,94],[-46,0],[0,94],[-45,0],[0,95],[-45,0],[0,94],[-45,0],[0,95],[-45,0],[0,94],[3523,0],[0,-2455]],[[7543,63361],[-45,0],[0,189],[-181,0],[45,94],[45,0],[0,95],[0,0],[0,94],[-135,0],[0,189],[-90,0],[0,94],[-46,0],[0,95]],[[6865,64494],[0,0],[0,0],[0,0],[0,0],[0,0],[0,0],[0,0],[0,0],[0,0],[0,0],[0,0],[0,0],[0,0],[0,0]],[[18112,72615],[1310,0],[0,-94],[-91,0],[0,-284],[-45,0],[0,-377],[-45,0],[0,-95]],[[19873,68555],[-1219,0]],[[18654,68555],[0,1038]],[[4336,86024],[0,-1606],[90,0],[0,-944],[-45,-94],[0,-1228],[45,-189]],[[1626,81113],[0,0]],[[1626,81113],[0,189],[-45,0],[0,189],[0,0],[0,95],[45,0],[0,0],[45,0],[0,94],[0,0],[0,94],[-45,0],[0,95],[0,0],[45,94],[0,0],[0,189],[0,0],[0,95],[-45,0],[0,94],[0,0],[0,94],[45,0],[0,0],[-45,0],[0,0],[45,0],[0,95],[-45,0],[0,94],[0,0],[0,95],[-45,0],[0,189],[45,0],[0,94],[45,0],[0,0],[0,0],[0,94],[0,0],[0,95],[-45,0],[0,94],[45,0],[0,189],[45,0],[0,95],[-45,0],[0,94],[45,0],[0,94],[46,0],[0,0],[45,0],[-45,95],[45,0],[-45,94],[-91,0],[0,-94],[-45,0],[0,94],[0,0],[0,189],[-45,0],[0,189],[-45,0],[0,0],[-45,0],[0,189],[0,0],[0,94],[-46,0],[0,95],[0,0],[0,94],[91,0],[0,95],[-45,0],[45,94],[-45,0],[0,94],[0,0],[0,95],[0,0],[0,189],[-46,-95],[0,95],[46,0],[0,94],[0,0],[0,283],[0,0],[0,95],[-46,0],[0,189],[2891,0]],[[7091,94239],[1581,0]],[[8672,94239],[-45,0]],[[8627,94239],[0,-95],[-45,0],[0,-188],[-45,0],[0,-189],[-46,0],[0,-189],[-45,0],[0,-283],[45,-95],[0,-94],[46,0],[0,-95],[45,0],[0,-94],[135,0],[45,-95],[91,0],[0,-755],[-45,-94],[45,0],[0,-1039],[45,0],[0,-2455]],[[8943,86024],[-1716,0]],[[7227,86024],[0,3305]],[[7091,93389],[0,850]],[[59349,10198],[0,0],[0,0],[0,0],[0,0],[0,0]],[[59168,6893],[-180,0],[0,95],[-136,0],[0,94],[-180,0],[0,95],[-226,0],[0,94],[-45,0],[-46,94],[0,661],[-45,95],[-45,94],[0,95],[-45,0],[0,94],[-45,0],[0,94],[-45,95],[-46,0],[0,189],[-45,0],[0,377],[-45,0],[0,95],[-45,0],[0,378],[45,0],[0,566],[45,95],[0,472],[45,0],[0,94],[46,0],[0,189],[-136,0],[-45,94],[0,95],[90,0],[0,189],[91,0],[45,94],[45,0],[0,95]],[[59439,11426],[0,-95],[-45,-283],[0,-661],[-45,-94],[0,-378],[-45,-189],[0,-567],[-45,-188],[0,-284],[-46,-566],[0,-567],[-45,-94],[0,-567]],[[60885,14259],[361,0],[45,-95],[0,-378],[-45,-661],[0,-472],[-45,0],[-45,-94],[-45,-95],[-46,0],[-90,-188],[-90,-95],[-46,0],[0,-94],[-45,0],[-45,-95],[-135,-94],[-45,-95],[-91,-94],[-45,-94],[-45,0],[0,-95],[-45,0],[0,-94],[-45,-95],[0,-94],[-46,0],[0,-95],[-135,0],[0,189],[45,95],[-181,0]],[[59981,11426],[-542,0]],[[59439,11426],[-90,0]],[[33243,52880],[2981,0],[0,-95],[542,0],[0,-2172],[45,0],[0,-94],[0,0],[0,-189],[-45,0],[0,-850]],[[28139,89518],[0,0],[0,0],[0,0],[0,0],[0,0],[0,0],[0,0],[0,0],[0,0],[0,0],[0,0],[0,0],[0,0],[0,0],[0,0],[0,0],[0,0],[0,0],[0,0],[0,0],[0,0],[0,0],[0,0]],[[28184,89612],[0,0],[0,0],[0,0],[0,0]],[[31978,92161],[0,0],[0,0],[0,0],[0,0],[0,0],[0,0],[0,0],[0,0],[0,0],[0,0],[0,0],[0,0],[0,0],[0,0],[0,0],[0,0],[0,0],[0,0]],[[33017,92917],[0,0],[0,0],[0,0],[0,0],[0,0],[0,0],[0,0],[0,0],[0,0],[0,0],[0,0],[0,0],[0,0],[0,0],[0,0],[0,0],[0,0],[0,0],[0,0],[0,0],[0,0],[0,0],[0,0],[0,0]],[[33062,92917],[0,0],[0,0],[0,0],[0,0],[0,0],[0,0],[0,0],[0,0],[0,0],[0,0],[0,0],[0,0],[0,0],[0,0],[0,0],[0,0],[0,0],[0,0],[0,0],[0,0]],[[33875,93578],[-45,0],[45,0],[-45,0],[45,0]],[[34236,93767],[0,-95],[-45,0],[-45,0],[45,0],[0,95],[45,0]],[[34146,93767],[0,0],[0,0],[0,0],[0,0],[0,0],[0,0],[0,0],[0,0],[0,0],[0,0],[0,0],[0,0],[0,0],[0,0],[0,0],[0,0],[0,0],[0,0],[0,0],[0,0]],[[34282,93767],[-46,0],[46,0]],[[34327,93767],[-45,0],[45,0]],[[34101,93767],[45,0],[-45,0]],[[34236,93767],[0,0],[0,0],[0,0],[0,0],[0,0],[0,0],[0,0],[0,0],[0,0],[0,0],[0,0],[0,0],[0,0],[0,0],[0,0],[0,0],[0,0],[0,0],[0,0],[0,0],[0,0],[0,0]],[[34146,93767],[0,94],[0,-94]],[[34282,93861],[0,0],[0,0],[0,0],[0,0],[0,0],[0,0],[0,0],[0,0],[0,0],[0,0],[0,0],[0,0],[0,0],[0,0],[0,0],[0,0],[0,0],[0,0],[0,0]],[[34236,93861],[-45,-94],[0,0],[0,94]],[[34282,93956],[0,0],[0,0],[0,0],[0,0],[0,0],[0,0],[0,0],[0,0],[0,0],[0,0],[0,0],[0,0],[0,0],[0,0],[0,0],[0,0],[0,0],[0,0],[0,0],[0,0]],[[34236,93861],[-45,0]],[[34191,93861],[-135,0]],[[34056,93861],[-45,0]],[[34011,93861],[0,95],[45,0],[0,94],[-45,0],[0,-94],[-91,0],[0,-95],[-45,0],[0,-94],[45,0],[0,-95],[-45,0],[0,95],[-136,0],[0,-95],[-45,0],[0,-94],[45,0],[0,-95],[-135,0],[0,-94],[-90,0],[0,-94],[-45,0],[0,-95],[-91,0],[0,-94],[-135,0],[0,-95],[-136,0],[0,-94],[-135,0],[0,-95],[-45,0],[0,0],[-136,0],[0,0],[-90,0],[0,-94],[-91,0],[0,-94],[-45,0],[0,-95],[-135,0],[0,-94],[-136,0],[0,-95],[-226,0],[0,-94],[-135,0],[0,-95],[-181,0],[0,0],[-90,0],[0,-94],[-181,0],[0,-94],[-271,0],[0,-95],[-135,0],[0,-94],[-226,0],[0,-95],[-45,0],[0,-94],[-45,0],[0,94],[0,0],[0,-94],[-46,0],[0,0],[-316,0],[0,-94],[-90,0],[0,-95],[-226,0],[0,-94],[-181,0],[-45,-95],[-45,0],[0,-94],[-90,0],[0,-95],[-136,0],[0,-94],[-135,0],[0,-94],[-91,0],[0,-95],[-135,0],[0,-94],[-136,0],[0,-95],[-90,0],[0,-94],[-90,0],[0,-95],[-136,0],[0,-94],[-45,0],[0,-94],[-90,0],[0,-95],[-91,0],[0,-94],[-90,0],[0,-95],[-90,0],[0,-94],[-91,0],[0,-95],[-45,0],[0,-94],[-45,0],[-45,-94],[-45,0],[-45,-95],[-91,0],[0,-94],[-45,0],[0,-95],[-90,0],[0,-94],[-45,0],[0,-95],[-91,0],[0,3966],[-45,0],[0,850],[45,95],[0,661],[-45,0],[0,1227],[45,0],[0,95],[91,0],[0,94],[90,94],[226,95],[90,0],[0,94],[90,95],[46,-95],[180,0],[0,-283],[45,-94],[0,-189],[-45,0],[45,-95],[0,95],[136,0],[0,-189],[90,0],[0,-95],[-45,-94],[45,0],[0,-94],[0,0],[0,-95],[45,0],[0,-94],[46,-95],[45,-94],[45,0],[181,94],[271,0],[45,95],[90,0],[0,94],[226,0],[-45,-94],[0,-95],[406,0],[0,95],[91,0],[45,-95],[180,0],[0,95],[46,0],[0,-95],[45,0],[45,-94],[90,0],[45,94],[0,-94],[46,0],[0,94],[135,0],[0,95],[45,-95],[226,0],[45,95],[542,0],[0,-95],[271,0],[45,-94],[91,0],[45,-95],[0,-94],[45,0],[0,-94],[45,0],[45,-95],[-45,-94],[0,-95],[91,0],[0,-94],[45,0],[0,-95],[45,95],[0,-95],[45,0],[0,95],[45,-95],[0,95],[45,0],[0,-189],[46,0],[0,-94],[316,0],[45,94],[45,0],[0,94],[45,0],[0,95],[45,0],[0,-95],[46,0],[0,95],[361,0],[0,-95],[316,0],[0,0],[45,0],[0,0],[136,0],[0,0],[45,0],[0,-94],[406,0],[0,94],[91,0],[0,-94],[-226,0],[0,-94],[-136,0],[0,-95]],[[41915,38810],[0,0],[0,0],[0,0],[0,0]],[[40153,37299],[0,755],[91,0],[0,756],[180,0]],[[42412,38810],[45,0],[0,-189],[45,0],[0,-94],[45,0],[0,-95],[45,0],[0,-94],[45,0],[0,-95],[46,0],[0,-94],[90,0],[0,-95],[45,-94],[0,-283],[45,-95],[0,0],[0,-189],[45,0],[0,-283],[91,0],[0,-94],[-45,0],[0,-95],[45,-94],[0,-189],[45,-94],[0,0],[0,-189],[45,0],[0,94],[45,0],[0,-94],[-45,0],[0,-95],[-45,0],[0,-94],[45,0],[0,-283],[45,0],[0,-95],[0,0],[0,-94],[45,0],[0,-95],[46,0],[0,-283],[45,0],[0,-94],[45,0],[0,-95],[90,0],[0,-94],[45,0],[0,-95],[0,0],[0,-94],[46,-95],[-46,0],[0,-94],[46,0],[0,-378],[-46,-94],[0,-95],[0,0],[0,-849],[46,0],[0,-95],[-46,-94],[0,0],[0,-661]],[[70144,20585],[-226,0],[0,-661],[-226,0]],[[79042,33805],[0,0],[0,0],[0,0],[0,0]],[[75112,35977],[4110,0],[0,-2172],[-993,0],[0,-189],[-91,0],[0,-94],[-45,-95],[-45,0],[0,-94],[-90,0],[0,-94],[-91,0],[0,-95],[-90,0],[45,-94],[-90,0],[0,-95],[-90,0],[0,-189],[-91,0],[0,-94],[-90,0],[0,-94],[-587,0],[0,-95],[-1039,0],[-45,95],[-678,0],[0,94]],[[75112,32672],[0,3305]],[[64679,27951],[497,0],[0,-1134],[-46,-377],[0,-1228]],[[63414,25118],[0,2738]],[[12692,77808],[45,0],[0,95],[0,94],[0,95],[0,94],[0,95],[0,188],[0,95],[0,94],[0,95],[0,189],[0,94],[0,94],[0,95],[0,94],[0,95],[0,94],[0,95],[0,94],[0,94],[0,95],[0,94],[0,95],[0,94],[0,95],[0,94],[0,94],[0,95],[0,94],[0,95],[0,94],[0,95],[0,94],[0,94],[-90,0],[0,189],[0,95],[0,94],[0,95],[0,94],[0,189],[0,94],[45,95],[0,94],[0,95],[0,94],[0,94],[0,95],[0,94],[0,95],[0,94],[45,0],[90,0],[91,0],[0,-94],[0,94],[45,0],[135,-94],[46,94],[90,-94],[90,0],[90,0],[91,0],[135,0],[91,0],[90,0],[45,0],[45,0],[-45,0],[45,0],[46,0],[45,0],[90,0],[45,0],[45,0],[91,0],[135,0],[45,0],[46,0],[180,0],[45,0],[46,0],[90,0],[135,0],[46,0],[45,0],[90,0],[45,0],[0,-378],[0,-94],[0,-95],[0,-94],[0,-95],[0,-94],[0,-283],[0,-95],[0,-94],[0,-95],[0,-283],[0,-94],[0,-95],[0,-94],[-45,0],[-45,0],[0,-95],[-45,0],[0,-94],[0,-95],[0,-94],[0,-94],[0,-95],[0,-94],[0,-95],[0,-94],[0,-95],[0,-94],[0,-94],[0,-95],[0,-189],[0,-94],[0,-95],[0,-94],[0,-94],[0,-284],[0,-94],[0,-95],[0,-188],[0,-189],[0,-95],[0,-472],[45,0],[0,-94],[-45,0],[0,-95],[0,-94],[0,-95],[0,-94],[0,-94],[0,-95],[0,-94],[0,-95],[-91,0],[-45,0],[-90,0],[-90,0],[-46,0],[-45,0],[-45,0],[-90,0],[-45,0],[-46,0],[-45,0],[-45,0],[-45,0],[-90,0],[-46,0],[-90,0],[-45,0],[-136,0],[-45,0],[-90,0],[-136,0],[-45,0],[-45,0],[-45,0],[-45,0],[-46,0],[-45,0],[-45,0],[-90,0],[-45,0],[-45,0],[-46,0],[-90,0],[-45,0],[-45,0],[-45,0],[-46,0],[-45,0],[-45,0],[-90,0],[-45,0],[-46,0],[0,95],[0,94],[0,95],[-45,0],[0,94],[-45,0],[0,94],[-45,0],[0,95],[45,0],[-45,0],[45,0],[0,94],[0,95],[45,0],[45,0],[0,94],[46,0],[0,95],[45,0],[-45,0],[45,0],[0,94],[45,0],[0,94]],[[68563,32766],[0,-94],[90,0],[0,-94],[271,0],[0,-95],[181,0],[0,95],[136,0],[45,94],[135,0],[0,-94],[226,0],[0,94],[90,0],[0,94],[0,0],[91,0],[0,95],[45,0],[0,94],[45,0],[0,-94],[45,94],[45,0],[0,95],[46,0],[0,94],[45,0],[0,0],[90,0],[0,95],[90,0],[0,94],[46,0],[0,94],[45,0],[0,95],[45,0],[45,94],[45,95],[45,0],[0,94],[136,0],[0,95],[45,0]],[[15086,32766],[-45,0],[45,0],[-45,0],[-91,0],[-90,0],[-45,0],[-45,0],[0,-94],[-46,0],[-45,0],[-180,0],[-136,0],[-135,0],[-136,0],[-361,0],[-45,0],[-46,0],[-271,0],[-45,0],[-90,0],[-45,0],[-45,0],[0,94],[0,95],[0,755],[-46,0],[-135,0],[0,189],[0,95],[0,188],[0,189],[0,95],[0,94],[0,95],[0,188],[0,95],[0,189],[0,94],[0,95],[0,849],[45,0],[90,0],[46,0],[90,0],[90,0],[136,0],[45,0],[45,0],[90,0],[46,0],[180,0],[45,0],[91,0],[90,0],[45,0],[45,0],[91,0],[45,0],[316,0],[45,0],[91,0],[45,0],[135,0],[91,0],[0,-94],[0,-189],[0,-94],[0,-95],[0,-94],[45,-95],[0,-94],[0,-94],[0,-189],[0,-95],[0,-94],[0,-95],[0,-94],[0,-94],[0,-95],[0,-94],[0,-189],[0,-189],[0,-94],[0,-95],[0,-94],[0,-95],[45,0],[45,0],[0,-94],[0,-95],[0,-94],[0,-94],[0,-95],[0,-94],[0,-189],[0,-95],[-45,0],[-45,0]],[[34056,49575],[0,0],[0,0],[0,0],[0,0]],[[33017,45514],[0,3211]],[[33559,49575],[1626,0],[0,-95],[1581,0]],[[36766,49480],[0,-4060],[-1581,0],[-45,-95]],[[35230,49480],[0,0],[0,0],[0,0],[0,0],[0,0],[0,0],[0,0],[0,0],[0,0],[0,0],[0,0],[0,0]],[[92276,19641],[-46,0],[-45,0],[0,94],[0,95],[-45,0],[0,94],[0,95],[0,94],[0,95],[-45,0],[-45,0],[-45,0],[0,94],[-46,0],[0,94],[-45,0],[-45,0],[-45,0],[-45,0],[0,95],[0,94],[-45,0],[-46,0],[-45,95],[-45,0],[0,94],[-45,0],[0,95],[-45,0],[-46,0],[0,94],[-45,0],[0,94],[0,95],[-45,0],[0,94],[0,95],[0,94],[0,95],[45,0],[-45,0],[45,0],[0,94],[-45,0],[0,94],[-45,0],[0,95],[0,94],[-45,0],[-45,0],[-45,0],[-46,0],[-45,0],[-45,0],[-45,0],[-45,0],[-45,0],[0,95],[0,94],[-46,0],[0,95],[0,94],[46,0],[45,0],[0,94],[-45,0],[0,95],[0,94],[45,0],[45,0],[45,95],[45,0],[0,94],[45,0],[46,95],[45,0],[0,94],[0,94],[0,95],[-45,0],[-46,94],[-45,0],[0,95],[0,94],[-45,0],[0,95],[45,0],[0,94],[0,94],[-45,0],[0,95],[0,94],[0,95],[45,0],[45,0],[0,94],[46,0],[45,95],[0,94],[0,94],[0,95],[45,-95],[0,-94],[45,0],[45,0],[0,-94],[0,94],[45,0],[45,0],[46,0],[0,94],[45,0],[45,0],[0,95],[45,0],[45,0],[46,0],[45,0],[45,0],[45,0],[0,94],[0,95],[45,0],[0,-95],[45,0],[46,0],[0,95],[45,0],[45,0],[45,0],[45,0],[45,0],[46,0],[0,94],[45,0],[45,0],[45,-94],[45,-95],[45,0],[46,-94],[45,0],[45,-95],[90,-94],[0,-94],[45,0],[46,0],[0,-95],[90,0],[0,-94],[45,0],[0,-95],[45,0],[45,0],[0,-94],[45,0],[0,-95],[-45,0],[-587,-755],[91,-378],[0,-94],[45,-283],[45,-95],[45,-189],[0,-94],[0,-95],[45,0],[0,-188],[45,-95],[0,-94],[0,-95],[46,0],[0,-189],[45,-188],[0,-95],[45,-94],[0,-95],[45,-94],[0,-95],[0,-94],[-45,0],[-45,0],[-45,0],[-46,0],[0,-94],[-45,0],[-45,0],[0,-95],[-45,0],[0,-94],[-45,94],[0,-94],[-45,0],[0,94],[0,-94],[-46,0],[0,-95],[-45,0],[-45,0],[0,95],[-45,0],[0,-95],[0,-94],[-45,0],[0,-95],[-45,0],[0,-94]],[[92501,20019],[0,0],[0,0],[0,0],[0,0],[0,0],[0,0],[0,0],[0,0],[0,0],[0,0],[0,0],[0,0]],[[57859,29556],[0,378],[-542,0],[0,377],[-1536,0],[0,1700],[2078,0]],[[9033,76203],[0,-1699],[46,0],[0,-1511]],[[22493,81963],[0,0],[0,0],[0,0],[0,0],[0,0]],[[22403,81963],[0,0]],[[22990,81963],[45,0],[0,-94]],[[22358,81869],[0,0],[0,0],[0,0],[0,0],[0,0],[0,0]],[[22358,81869],[0,0],[0,0],[0,0],[0,0],[0,0]],[[22358,81774],[0,0],[0,0],[0,0],[0,0],[0,0],[0,0],[0,0]],[[22403,81774],[-45,0],[45,0],[-45,0],[45,95],[45,0],[0,-95],[-45,0]],[[22448,81774],[0,0],[0,0],[0,0],[0,0],[0,0],[0,0],[0,0]],[[23035,76675],[-1084,0],[0,2455]],[[21951,79130],[0,2267]],[[22312,81397],[46,94],[45,95]],[[22448,81680],[0,94],[45,0],[0,-188],[0,0],[0,94],[45,-94],[45,0],[-45,94],[0,0],[-45,94],[0,95],[45,0],[0,-95],[0,0],[0,0],[0,0],[45,0],[0,0],[0,0],[0,95],[46,0],[0,189],[90,0],[0,94],[45,0],[0,0],[90,0],[0,-94],[46,0],[-46,94],[-45,0],[0,95]],[[22854,82247],[0,-95],[46,0],[0,-94],[45,0],[45,-95]],[[22990,81963],[45,-94]],[[23035,81869],[0,0]],[[23035,81869],[45,0],[0,0],[45,0],[0,-95],[0,0],[0,-94],[46,0],[0,0],[45,0],[0,-94],[135,0],[45,94],[-90,0],[-45,94],[-90,0],[45,95],[90,-189],[90,0],[46,-94],[225,0],[0,94],[542,0],[0,94],[136,0],[0,95],[135,0],[0,94],[181,0],[0,95],[181,0],[45,94],[90,0],[0,95],[181,0],[0,94],[135,0]],[[25293,82341],[0,-5666]],[[22538,81680],[0,94],[0,-94]],[[41689,36638],[0,0]],[[40153,34749],[0,2550]],[[40153,37299],[1536,0],[0,-661]],[[41644,36638],[45,0]],[[41689,36638],[0,-1700],[45,-94],[0,-95],[-45,0],[0,-94],[-90,0],[0,-94],[-46,0]],[[41553,34466],[0,95]],[[41553,34561],[-45,-95],[-316,0]],[[40153,35222],[0,0],[0,0],[0,0],[0,0],[0,0],[0,0]],[[25384,61945],[-542,0]],[[24842,61945],[0,2455],[3297,0],[0,-2455],[-1129,0]],[[64362,32011],[0,0],[0,0],[0,0],[0,0],[0,0],[0,0],[0,0]],[[65401,32294],[0,0],[0,0],[0,0],[0,0],[0,0],[0,0],[0,0],[0,0],[0,0],[0,0],[0,0],[0,0],[0,0],[0,0],[0,0],[0,0]],[[65401,32389],[0,0]],[[66892,30595],[-678,0],[-45,94],[-1535,0],[0,755],[-46,95],[0,472],[-226,0],[46,94],[180,0],[0,95],[91,0],[0,94],[0,0],[0,189]],[[64679,32483],[0,0]],[[64679,32483],[0,-94],[90,0],[0,0],[90,0],[0,-95],[46,0],[0,-94],[90,0],[0,-95],[45,0],[0,95],[45,0],[0,94],[45,0],[0,-94],[46,0],[0,94],[135,0],[0,-94],[45,0],[0,-95],[45,95],[46,0],[0,-95],[45,0],[0,-94],[135,0],[0,-94],[91,0],[-46,-95],[46,0],[0,95],[-46,0],[0,94],[0,0],[0,-94],[91,0],[0,-95],[90,0],[45,-94],[90,0],[0,-95],[91,0],[45,-94],[181,0],[45,94],[90,0],[0,95],[91,0],[45,94],[45,0],[0,95],[135,0],[46,94],[45,0]],[[65401,32389],[46,-95],[45,0],[0,-94],[45,0],[0,-95],[45,0],[0,0],[-45,0],[0,95],[-45,0],[0,94],[-45,0],[0,95],[-46,0]],[[65401,32389],[-45,0]],[[65356,32389],[0,94],[-45,0],[0,95],[45,0],[0,-95],[45,0],[0,-94]],[[65356,33805],[0,-94],[0,-95],[0,-94],[-45,0],[-45,0],[-45,0],[-45,0],[0,94],[0,-94],[0,94],[0,-94],[0,94],[-46,0],[-45,0],[45,0],[0,95],[46,0],[-46,0],[46,0],[0,94],[45,0],[45,0],[0,-94],[45,0],[0,94],[45,0],[45,0],[-45,0]],[[66350,17847],[0,-189],[-45,-283],[0,-378],[135,0],[181,-94],[0,-850],[135,0],[0,-850]],[[39521,55712],[1084,0],[0,-472]],[[39521,51935],[0,850],[-2213,0],[0,2550],[90,0],[136,-95],[90,95],[316,-95],[1581,0],[0,472]],[[63143,19830],[858,0],[45,-95],[949,0]],[[64905,17941],[-136,0],[0,-283],[90,0],[-45,-94],[0,-756],[-90,0],[0,-189]],[[90017,15864],[45,0],[-45,-95],[-45,0],[45,-94],[0,-94],[-90,0]],[[89927,15675],[0,-94]],[[89927,15581],[0,-95]],[[89972,15486],[-45,0]],[[89927,15486],[0,-94],[-91,0],[0,-95],[-45,0],[0,-94]],[[89746,15203],[45,0]],[[89791,15203],[0,-95],[-45,0],[0,-94],[-90,0]],[[89656,15014],[0,94],[-45,0],[0,-94],[45,0]],[[89656,15014],[0,-94]],[[89611,14920],[45,0]],[[89656,14920],[0,-95],[45,0]],[[89701,14731],[0,94]],[[89701,14825],[90,0],[0,-94],[45,0]],[[89836,14636],[0,95]],[[89836,14731],[46,0],[0,-95],[45,0]],[[89927,14542],[0,94]],[[89927,14636],[45,0],[0,-94],[45,0],[0,-95],[45,0],[0,95],[46,0],[0,-95],[45,0],[0,-94],[90,0],[0,-283],[90,0],[0,-95],[46,0],[0,-94],[90,0],[0,-95],[45,0],[0,-188],[-45,0],[0,-284],[-45,0],[0,-189],[-45,0],[0,-94],[-46,0],[0,-283],[-45,-95],[0,-94],[-45,0],[0,-189]],[[88933,11142],[0,95],[-45,0],[-45,94],[0,95],[-136,0],[0,94],[-135,0],[0,95],[-45,0],[0,94],[-45,0],[0,189],[-46,94],[-45,0],[0,-94],[-181,0],[0,94],[-180,0],[0,95],[-90,0],[0,189],[45,0],[0,94],[45,94],[0,95],[45,0],[0,189],[45,0],[0,472],[45,0],[0,189],[45,0],[0,283],[0,0],[0,283],[46,0],[0,189],[45,0],[0,95],[45,0],[0,188],[45,95],[0,283],[45,0],[0,95],[91,0],[0,94],[90,0],[0,94],[45,0],[0,95],[45,0],[0,94],[46,0],[0,95],[45,0],[0,94],[-91,0],[0,95],[91,0],[0,188],[90,0],[0,95],[1129,0]],[[71228,32105],[-45,95],[0,1133]],[[72944,34749],[0,-2077]],[[72944,32672],[0,-1416]],[[71183,31256],[0,661],[90,0],[0,188],[-45,95]],[[71228,32200],[0,-95]],[[6233,76203],[0,-1699],[45,0],[0,-1606]],[[6278,72898],[-2213,0]],[[30352,42209],[-948,0],[0,283],[-46,0],[0,95],[-45,94],[0,95],[-45,94],[-45,0],[-45,95],[0,188],[-45,95],[0,94],[-46,0],[0,95],[-90,0],[-45,94],[-226,0],[0,95],[-271,0],[-45,94],[-136,0],[-45,94],[-90,0],[0,95],[-45,0],[0,-95],[-91,0],[0,95],[-90,0],[0,94],[-90,0],[0,95],[-45,0],[0,94],[-136,0],[0,189],[-90,0],[-45,94],[-46,0],[0,95],[46,0],[0,94],[-46,0],[0,189],[-45,95],[0,283],[-45,0],[-45,94],[45,0],[-45,189],[0,283],[-90,0],[0,95],[-91,0],[0,94],[-45,0],[45,95],[0,94],[-45,0],[0,378],[-45,94],[0,95],[45,0],[45,94],[226,0],[0,-94],[136,0],[45,94],[90,0],[0,95],[90,0],[0,94],[46,0],[0,94],[135,0],[0,95],[90,0],[0,189],[46,0],[45,94],[45,-94],[45,0],[45,94],[181,0],[0,95],[90,0],[0,94],[91,0],[45,94],[45,95],[135,0],[0,94],[136,0],[0,95],[45,0],[0,94],[45,95],[45,0],[0,94],[46,0],[0,94],[225,0],[0,95],[181,0],[0,94],[45,0],[0,95],[91,0],[45,94],[361,0],[45,-94],[226,0],[0,-3683]],[[33017,45514],[2123,0],[0,-189]],[[35140,45325],[0,-3210],[-1355,0],[0,94],[-768,0]],[[33017,45042],[0,472]],[[59168,17091],[362,0],[135,-94],[0,-94],[181,0],[226,-95],[90,0],[0,-189],[136,0],[0,-94],[271,0],[0,-95],[406,0],[0,-94]],[[60975,15864],[0,-95],[-45,-94],[0,-850],[-45,-94],[0,-472]],[[60885,14259],[-362,0],[-90,94],[-587,0],[-90,94],[-271,0]],[[49277,20585],[181,0],[406,0],[136,0],[406,0],[226,0],[45,0],[45,0],[136,0],[135,0],[0,-94],[0,-189],[0,-189],[0,-94],[0,-189],[0,-95],[0,-94],[0,-189],[0,-189],[0,-94],[0,-95],[0,-94],[0,-283],[0,-95],[0,-189],[0,-188],[0,-95],[0,-94],[0,-95],[0,-94],[-181,0],[-90,0],[-45,0],[-45,0],[-181,0],[-90,0],[-45,0],[-45,0],[-46,0],[-90,0],[-45,0],[-45,0],[-45,0],[-46,0],[-45,0],[-45,0],[-45,0],[-45,0],[-45,0],[-46,0],[-45,0],[-45,0],[-45,0],[-45,0],[-91,0],[-45,0],[-90,0],[0,94],[0,95],[0,94],[0,95],[0,94],[0,94],[0,95],[0,189],[0,94],[0,95],[0,283],[0,283],[0,95],[0,94],[0,94],[0,284],[0,189],[0,94],[0,94],[0,189]],[[62014,27856],[-181,0],[0,-378],[-90,0],[0,-472],[-90,0],[-46,95],[0,-189],[-45,-95],[0,-566],[-1626,0]],[[59936,26251],[0,944]],[[95121,14070],[0,94],[0,-94]],[[94940,13786],[0,0],[0,0],[0,0],[0,0],[0,0],[0,0],[0,0],[0,0],[0,0],[0,0]],[[93947,12842],[0,95],[0,0],[0,-95]],[[93902,12842],[0,0]],[[93902,12842],[45,0]],[[93947,12842],[0,-94]],[[93947,12748],[-45,94]],[[93902,12748],[0,94]],[[93902,12842],[-46,0],[0,189],[-45,0],[0,283],[-45,0],[0,189],[-90,0],[0,95],[-91,0],[0,188]],[[93585,13881],[0,-95]],[[93585,13786],[-45,0],[0,95],[-135,0],[0,94],[-45,0]],[[93360,13881],[0,94]],[[93360,13975],[-46,0],[0,95],[-45,0]],[[93269,13975],[0,95]],[[93269,14070],[-45,0]],[[93224,13975],[0,95]],[[93224,14070],[-45,0],[0,94],[-45,0],[0,189],[-46,0],[0,189],[-45,0],[0,94],[-45,0],[0,189],[-45,0],[0,1039]],[[92953,15864],[1536,0],[0,-95],[45,-94],[0,-94],[45,0],[45,-95],[45,-94],[45,0],[46,-95],[45,-94],[45,-283],[45,0],[0,-95],[136,-189],[0,-94],[90,-95],[0,-94],[45,0],[0,-189],[-90,0],[0,-189],[-45,0],[0,-189],[-45,0],[0,-94],[-46,0],[46,94],[-46,0],[0,-188],[91,0],[0,94],[0,0],[0,-94],[135,0],[0,-95],[45,0],[0,-94],[46,0],[0,-95],[-46,0],[0,-94],[-45,0],[0,94],[0,0],[0,0],[-45,0],[0,0],[0,0],[0,284],[-45,-95],[0,-378],[-90,0],[0,-94],[-46,0],[0,-94],[-135,0],[0,-95],[-45,0],[0,-94],[-46,0],[0,0],[46,0],[0,0],[-136,0],[0,0],[-45,0],[0,94],[0,0],[0,-94],[-90,0],[0,189],[0,0],[0,-284],[45,0],[0,95],[45,0],[0,-95],[90,0],[0,-94],[-45,0],[0,-95],[-90,0],[0,-94],[-45,0],[0,94],[-91,0],[0,95],[0,0],[0,94],[0,0],[0,189],[46,0],[0,95],[45,0],[0,94],[45,0],[0,94],[-45,0],[0,95],[0,0],[0,94],[0,0],[0,-94],[-45,0],[0,94],[45,0],[0,95],[45,0],[0,94],[-90,0],[0,-94],[0,0],[0,-95],[-46,0],[-45,-94],[45,0],[0,-283],[-135,0],[0,0],[0,0],[0,0],[45,0],[0,-189],[-45,0],[0,0],[45,0],[0,-95],[0,0],[-45,-94],[0,0],[0,-95],[45,0],[0,-94],[45,0],[0,-189],[-45,0],[0,0],[0,0],[-45,-94],[0,-189],[-45,0],[0,283],[-45,0],[0,189],[-46,0],[0,94],[0,0],[46,95],[0,94],[-46,0],[0,95],[-180,0]],[[94624,12842],[0,95],[0,-95],[0,95],[0,-95],[0,95],[0,-95]],[[94308,11615],[0,94],[0,94],[45,0],[0,-94],[-45,0],[45,0],[-45,0],[0,-94]],[[16441,68082],[0,-94],[45,0],[0,-94],[135,0],[46,-95],[135,0],[45,-94],[0,-95],[45,0],[46,-94],[45,0],[45,-95],[90,0],[0,-94],[45,0],[0,-94],[91,-95],[45,0],[45,-94],[0,-95],[45,0],[0,-94],[45,-95],[46,0],[0,-377],[-46,-95],[46,-94],[0,-95],[225,0]],[[17931,64683],[0,-94],[-45,0],[0,-95],[-45,0],[0,-189],[-45,0],[0,-94],[-45,0],[0,-95],[-46,0],[0,-94],[-90,0],[0,-94],[-135,0],[-46,-95],[-45,0],[-45,-94],[-90,0]],[[16396,63833],[0,850],[-1130,0],[0,850]],[[15266,65533],[0,755],[0,0],[0,95],[46,0],[0,94],[90,0],[45,95],[0,188],[45,0],[0,95],[45,0],[0,94],[46,0],[0,95],[45,0],[0,94],[135,0],[0,95],[91,0],[0,188],[-46,0],[0,95],[-45,0],[0,94],[91,0],[0,95],[45,0],[0,-95],[45,0],[0,95],[135,0],[0,0],[46,94],[90,0],[0,95],[135,0],[0,0],[46,0],[0,188]],[[59936,32578],[0,-661]],[[58355,29556],[0,2455],[-496,0]],[[57859,32011],[0,567],[2077,0]],[[65130,14259],[0,188],[362,0],[0,-94],[135,0],[0,472],[316,0],[45,-94],[181,0],[0,94],[45,189],[0,283],[452,0],[45,-94],[45,0]],[[66756,15203],[-45,-95],[0,-377],[136,0],[45,-95],[361,0],[0,-283],[452,0]],[[67705,14353],[0,-472],[-45,-189],[0,-189],[-497,0],[0,-283],[-45,-283],[0,-284]],[[67118,12653],[-91,0],[-45,95],[-813,0],[-45,94],[0,-94],[-45,0],[0,-189],[-407,0],[-45,94],[-45,0],[-45,-189],[-316,0],[0,95],[-181,0],[0,378],[45,94],[0,472]],[[70008,24835],[0,-284]],[[69737,22663],[-45,94],[-1897,0],[-135,95],[-46,0]],[[67434,23890],[0,945],[2574,0]],[[90243,12370],[136,0],[0,94],[90,0],[0,95],[181,0],[0,-95],[135,0],[90,-94]],[[90921,12370],[90,0],[0,94],[316,0],[0,-94],[226,0]],[[91553,12370],[0,-94]],[[91598,12276],[-45,0]],[[91553,12276],[0,-95],[90,0],[0,-94],[136,0]],[[91734,11992],[45,0],[0,95]],[[91779,12087],[45,0]],[[91824,11992],[0,95]],[[91824,12087],[90,0],[0,-95]],[[91959,11992],[-45,0]],[[91914,11992],[0,-94],[91,0],[0,-95],[-46,0],[0,-283],[91,0],[0,-94],[90,0],[0,-95],[45,0],[0,-94],[91,0],[0,-95],[45,0],[45,-94]],[[92366,11048],[-45,0],[0,-189],[-45,0],[0,-94],[-136,0],[0,-95],[-45,0],[0,-94],[-45,0],[-45,-95],[0,-188],[-46,0],[0,-95],[-180,0],[0,-94],[-45,0]],[[90921,12370],[-46,0]],[[8898,88479],[2303,0]],[[11201,88479],[0,-850],[46,0],[0,-4910],[-949,0],[-45,94],[-181,0],[-90,-94],[-136,94],[-767,0],[-91,-94]],[[8988,82719],[0,1699],[-45,0],[0,1606]],[[8943,86024],[0,1699],[-45,0],[0,756]],[[18112,72615],[0,-1605],[542,0],[0,-1417]],[[18654,69593],[-2213,0]],[[16441,71010],[0,1605],[1671,0]],[[43450,30783],[0,-2738],[-1264,0],[0,-94],[-1942,0],[0,-95],[-46,0],[0,1133],[46,0],[0,850]],[[40198,32294],[-1580,0],[0,2455],[1535,0]],[[42186,43720],[0,-189],[-45,-94],[0,-472],[45,0],[0,-850],[45,0],[0,-95]],[[40424,42115],[-90,0],[-90,-95],[-271,0]],[[63233,17941],[0,0],[0,0],[0,0],[0,0],[0,0],[0,0],[0,0]],[[67434,23890],[180,0],[0,-1038]],[[67614,22852],[0,-95],[-45,-94],[0,-1511],[-45,-283],[0,-95]],[[65040,21152],[0,661]],[[65627,23701],[1175,0],[90,95],[406,0],[136,94]],[[30352,45042],[2665,0]],[[33017,45042],[0,-2833]],[[33017,42209],[-2665,0]],[[30352,42209],[0,2833]],[[70731,33900],[45,0],[0,94],[45,0],[0,94],[46,0],[0,95],[45,0],[0,94],[45,0],[0,95],[90,0],[0,94],[45,0],[0,95],[91,0],[0,94],[45,0],[45,94],[45,0],[0,95],[91,0],[45,94],[90,0],[0,95],[90,0],[0,94],[46,0],[0,0],[180,0],[45,95],[91,0],[0,94],[90,0],[0,94],[90,0],[0,95],[136,0],[0,94],[90,0],[0,95],[136,0],[45,94],[90,0],[45,95],[136,0],[0,94],[90,0]],[[72944,35977],[0,-1228]],[[72944,34749],[-45,-94],[-406,0],[0,-661],[-904,0],[0,-378]],[[71634,33616],[-45,0]],[[71589,33616],[0,-283],[-406,0]],[[71183,33333],[-452,0],[0,567]],[[71589,33711],[0,0],[0,0],[0,0],[0,0],[0,0],[0,0],[0,0],[0,0],[0,0]],[[40424,40037],[0,0],[0,0],[0,0],[0,0],[0,0],[0,0],[0,0],[0,0],[0,0],[0,0],[0,0],[0,0],[0,0],[0,0],[0,0],[0,0],[0,0],[0,0],[0,0],[0,0],[0,0],[0,0],[0,0]],[[40424,38810],[0,3305]],[[40424,42115],[949,0],[90,-95],[768,0]],[[42231,42020],[0,-1038],[-45,0],[0,-189],[-45,0],[0,0],[-46,94],[0,-94],[0,0],[0,-472],[0,0],[0,-472],[46,0],[0,-189],[45,0],[0,-189],[45,0],[0,-189],[45,-94],[45,0],[0,-189],[45,0],[0,-95],[46,0],[0,-94]],[[42412,38810],[-1988,0]],[[65943,3399],[-45,0],[0,95],[-45,0],[-45,0],[-45,0],[0,94],[-45,0],[0,95],[0,94],[0,95],[0,94],[-46,0],[0,94],[-45,95],[-45,0],[-45,0],[0,94],[-45,0],[-45,95],[-46,94],[-45,95],[0,94],[-45,0],[0,94],[-45,0],[0,95],[-45,0],[-45,0],[0,94],[-46,0],[-45,0],[-45,0],[-90,0],[-45,0],[-46,0],[-45,0],[0,95],[-45,0],[-45,0],[45,0],[90,94],[91,95],[90,0],[45,94],[-45,94],[-45,189],[0,95],[-45,0],[45,283],[0,94],[135,0],[91,0],[45,95],[0,283],[0,95],[0,188],[135,0],[46,0],[0,95],[0,94],[0,95],[0,94],[45,95],[0,94],[0,94],[0,284],[45,0],[45,0],[45,0],[91,0],[45,0],[45,-95],[0,-94],[0,-283],[0,-189],[45,0],[45,0],[45,0],[91,0],[135,-95],[91,0],[-46,-189],[0,-94],[91,0],[0,-94],[0,-95],[0,-94],[0,-95],[0,-189],[90,0],[90,0],[91,0],[45,0],[45,0],[181,0],[-45,-94],[0,-189],[0,-94],[0,-95],[0,-94],[0,-95],[0,-188],[45,-95],[45,0],[135,0],[46,0],[45,0],[0,-94],[0,94],[0,-94],[0,-95],[0,-94],[-45,-95],[0,-94],[0,-94],[0,-95],[0,-94],[0,-95],[-46,0],[0,-94],[0,-95],[-45,-94],[0,-94],[-45,0],[0,-95],[-45,0],[-45,0],[-45,0],[-46,0],[-45,-94],[-45,0],[0,94],[-45,0],[-136,-94],[-45,0],[-45,0],[-45,-95],[-45,0],[-91,0],[-90,-94],[-90,-95],[-46,0],[-45,0]],[[64995,5571],[0,0],[0,0],[0,0],[0,0],[0,0],[0,0],[0,0]],[[64905,18225],[-46,0],[0,94],[0,-94],[46,0]],[[67389,17658],[-181,0],[-90,94],[-587,0],[0,95],[-181,0]],[[66350,17847],[-994,0],[-90,94],[-361,0]],[[64905,17941],[0,378],[45,0],[0,944],[45,95],[0,377]],[[64995,19735],[0,567]],[[64995,20302],[0,94]],[[64995,20396],[0,189],[45,0],[0,567]],[[65040,21152],[136,0],[135,-95],[858,0],[91,-94],[0,-94],[90,0],[0,-95],[1174,0]],[[67524,20774],[90,0],[0,-189],[-45,-94],[0,-378]],[[64950,18319],[0,0],[0,0],[0,0],[0,0],[0,0],[0,0],[0,0],[0,0],[0,0],[0,0],[0,0],[0,0],[0,0],[0,0]],[[34914,70160],[0,-1794],[-45,-189],[0,-1322]],[[32113,66855],[0,283],[-45,283],[45,95],[-45,0],[0,1511],[45,94],[0,1889]],[[24029,40226],[45,0],[45,0],[90,0],[46,0],[90,0],[45,0],[90,0],[136,0],[90,0],[45,0],[46,0],[90,0],[45,0],[136,0],[45,0],[90,0],[45,0],[90,0],[91,0],[90,0],[91,0],[45,0],[135,0],[45,0],[46,0],[90,0],[90,0],[91,0],[0,-94],[0,-95],[0,-94],[0,-189],[0,-94],[0,-95],[0,-189],[0,-94],[0,-94],[0,-95],[0,-94],[0,-378],[0,-94],[0,-189],[0,-95],[0,-94],[0,-95],[0,-188],[0,-189],[0,-95],[-46,0],[46,0],[-46,-94],[46,0],[-46,-95],[0,-94],[0,-283],[0,-95],[0,-189],[0,-94],[0,-283],[0,-95],[0,-94],[0,-95],[-90,0],[-45,0],[-45,0],[-91,0],[-271,0],[-90,0],[-45,0],[-45,0],[-226,0],[-45,0],[-45,0],[-46,0],[-45,0],[-45,0],[-45,0],[-45,0],[-45,0],[-46,0],[-90,0],[-45,0],[-45,0],[-407,0],[-135,0],[0,95],[0,189],[0,377],[0,189],[0,95],[0,94],[0,95],[0,188],[0,95],[-45,189],[0,94],[45,189],[-45,0],[45,189],[0,94],[0,95],[0,189],[0,94],[0,283],[0,284],[0,283],[0,566],[0,95],[0,94]],[[59936,23607],[0,-94],[362,0],[225,-95],[633,0],[135,-94],[271,0],[0,-95]],[[61427,20680],[-362,0],[-45,94],[-632,0],[-45,95],[45,94],[-407,0],[-45,94],[-587,0]],[[59349,21057],[0,378],[45,0],[0,1605]],[[59394,23040],[45,0],[0,567],[497,0]],[[68563,32766],[0,0]],[[68563,32766],[0,-1510],[407,0],[0,-661]],[[67660,28517],[-362,0],[-90,95],[-316,0],[0,1322],[-45,0],[45,94],[0,567]],[[66892,30595],[0,661],[-45,0],[0,94],[45,94],[-45,95],[0,472]],[[66847,32011],[451,0],[0,94],[91,0],[0,95],[45,0],[0,94],[45,-94],[0,94],[90,0],[0,95],[136,0],[0,94],[135,0],[0,95],[181,0],[0,94],[136,0],[45,94],[180,0],[0,0],[181,0]],[[61969,34655],[0,0],[0,0],[0,0],[0,0],[0,0],[0,0],[0,0],[0,0]],[[61969,34655],[0,0],[0,0],[0,0],[0,0],[0,0],[0,0],[0,0],[0,0],[0,0],[0,0]],[[61833,34561],[0,94],[45,0],[0,-94]],[[61924,34655],[0,0],[0,0],[0,0],[0,0],[0,0],[0,0],[0,0],[0,0],[0,0],[0,0]],[[61924,34655],[0,94],[45,0],[-45,0],[0,-94]],[[61833,34561],[-45,0],[0,94],[-45,0],[45,-94],[0,0],[0,-95],[45,0],[0,95]],[[61833,34561],[0,0]],[[61833,34561],[45,0]],[[61878,34561],[0,0]],[[61878,34561],[46,0],[0,0],[45,0],[-45,-95],[451,0],[0,189],[45,-94],[46,0],[0,-95],[45,0],[0,-94],[90,0],[0,-95],[45,95],[0,-95],[90,0],[0,-94],[46,0],[45,-95],[45,0],[0,0],[-90,0],[45,-94],[135,0],[46,-94],[90,0],[45,-95]],[[59936,31822],[0,756]],[[59936,32578],[0,2171],[723,0],[45,95],[994,0],[0,0],[45,0],[0,-95],[-45,0],[0,-94],[45,0],[0,94],[45,0],[0,95],[45,0],[0,-95],[-45,0],[0,-94],[-45,0],[45,-94],[45,0]],[[63414,34938],[45,0],[-45,0]],[[33649,13975],[0,-94],[0,-189],[0,-283],[0,-472],[0,-284],[0,-94],[0,-95],[0,-94],[0,-94],[0,-95],[0,-94],[0,-95],[0,-94],[0,-189],[0,-94],[0,-95],[0,-94],[0,-95],[0,-94],[0,-95],[0,-94],[0,-189],[0,-94],[0,-95],[0,-189],[0,-94],[0,-189],[0,-189],[0,-94],[0,-189],[0,-94],[0,-95],[0,-94],[0,-95],[0,-94],[0,-95],[0,-94],[-45,0],[-45,0],[-136,0],[-45,0],[-90,0],[-45,0],[-45,0],[-46,0],[-45,0],[-135,0],[-226,0],[-45,0],[-181,0],[-45,0],[-136,0],[-45,0],[-45,0],[-90,0],[-136,0],[-45,0],[-45,0],[-90,0],[-136,0],[-45,0],[-45,0],[0,94],[0,189],[0,95],[0,189],[0,94],[0,94],[0,189],[0,95],[0,189],[0,283],[0,94],[0,95],[0,94],[0,283],[0,95],[0,189],[0,94],[0,95],[0,94],[0,189],[0,94],[0,95],[0,283],[0,189],[0,94],[0,95],[0,283],[0,94],[0,95],[0,94],[0,189],[0,95],[0,188],[0,95],[0,94],[45,0],[45,0],[90,0],[46,0],[225,0],[45,0],[46,0],[45,0],[45,0],[45,0],[45,0],[91,0],[135,0],[45,0],[46,0],[90,0],[45,0],[45,0],[91,0],[135,0],[90,0],[46,0],[45,0],[45,0],[135,0],[91,0],[45,0],[90,0]],[[62782,15675],[-904,0],[-90,94],[-677,0],[-91,95],[-45,0]],[[60975,15864],[0,472]],[[60975,16336],[271,0],[0,94],[45,189],[45,95],[0,283],[46,0],[0,283],[45,95],[0,189],[45,188],[0,95],[45,0],[0,283],[45,95],[0,188],[45,0],[0,189],[-45,0]],[[61562,18602],[45,95],[0,755],[46,95]],[[62962,19547],[0,-567],[-226,0],[0,-94],[46,0],[0,-95]],[[62736,18791],[46,0]],[[62782,18791],[0,-283]],[[62736,18508],[46,0]],[[62782,18508],[0,-378],[45,0],[0,-94],[45,0],[0,-189],[-90,-95],[0,-755],[45,-94],[0,-189]],[[62827,18036],[0,0],[0,0],[0,0],[0,0],[0,0]],[[62782,18225],[0,0],[0,0],[0,0],[0,0],[0,0],[0,0],[0,0],[0,0],[0,0],[0,0],[0,0],[0,0],[0,0]],[[62782,18697],[0,0],[0,0],[0,0],[0,0]],[[62782,18791],[0,0]],[[72944,29178],[2168,0],[0,-2172],[-1355,0],[0,284],[-361,0],[0,-284],[-858,0]],[[32113,66855],[2756,0]],[[34869,66855],[948,0],[0,-4155]],[[30849,62794],[0,2078],[45,94],[-45,0],[0,95],[45,0],[0,94],[-45,0],[0,850],[542,0],[0,850],[722,0]],[[63821,22568],[-136,0],[-45,95],[0,-95],[-45,95],[-813,0]],[[62014,23324],[0,1699],[542,0],[0,95],[858,0]],[[63414,25118],[1084,0],[45,94]],[[32656,22663],[45,0],[45,0],[45,0],[45,0],[91,0],[45,0],[0,-95],[90,0],[90,0],[91,0],[45,95],[45,0],[90,0],[46,0],[90,0],[0,-95],[0,-94],[0,-189],[0,-94],[0,-95],[0,-94],[0,-95],[0,-94],[45,-283],[135,0],[91,0],[45,0],[136,0],[90,0],[0,-284],[0,-189],[0,-94],[0,-94],[0,-189],[0,-95],[0,-377],[0,-95],[0,-189],[0,-94],[0,-95],[0,-94],[-45,0],[0,94],[-45,95],[-46,0],[0,94],[-45,0],[0,95],[0,-95],[-45,0],[0,95],[0,-95],[0,95],[-45,0],[-45,0],[0,-95],[-46,0],[0,95],[0,-95],[0,95],[0,-95],[-45,0],[45,0],[-45,0],[0,-94],[-45,0],[-45,0],[0,94],[0,-94],[-45,0],[-45,0],[-45,0],[0,-95],[45,0],[-45,0],[-46,0],[-45,0],[-45,0],[-45,0],[-45,0],[0,-94],[-45,0],[0,94],[0,-94],[-46,0],[-45,0],[0,94],[0,-94],[-45,0],[0,94],[0,-94],[0,94],[-45,0],[-45,0],[-45,0],[-46,0],[0,95],[-45,0],[0,-95],[0,95],[-45,0],[0,-95],[45,0],[-45,0],[-45,0],[-45,95],[0,-95],[-45,0],[0,95],[-46,0],[46,0],[-46,0],[-45,0],[0,-95],[-45,0],[45,0],[-45,0],[0,95],[0,-95],[0,95],[-45,0],[0,-95],[0,95],[-45,0],[0,-95],[-45,0],[45,0],[-45,0],[0,-94],[0,94],[-46,0],[46,-94],[-46,0],[46,0],[0,-94],[-46,0],[-45,0],[0,-95],[0,95],[-45,0],[0,-95],[-45,0],[0,95],[0,-95],[-45,0],[0,95],[0,-95],[0,95],[-46,0],[0,-95],[0,95],[-45,0],[0,-95],[-45,0],[-45,0],[0,-94],[45,0],[-45,0],[-45,0],[0,-95],[-45,0],[-45,0],[45,0],[-45,0],[-46,0],[46,0],[-46,0],[-45,0],[-45,0],[0,-94],[0,-95],[-45,0],[0,95],[0,-95],[0,95],[-45,0],[-45,-95],[-46,0],[-45,0],[0,95],[0,-95],[-45,0],[0,95],[0,-95],[-45,0],[0,-94],[45,0],[-45,0],[-45,94],[0,-94],[0,94],[0,-94],[0,94],[-45,0],[0,-94],[0,94],[-46,0],[0,-94],[0,94],[-45,0],[-45,0],[-45,0],[-45,0],[0,-94],[-45,94],[-46,0],[0,95],[-45,0],[0,94],[-45,0],[45,0],[0,95],[-45,0],[0,94],[0,95],[-45,0],[45,0],[0,94],[-45,0],[-45,0],[-45,0],[45,0],[-45,0],[-46,0],[-45,0],[45,0],[0,94],[46,0],[0,95],[45,0],[45,0],[45,0],[45,0],[45,94],[46,0],[45,0],[45,0],[45,0],[45,0],[45,0],[46,0],[45,0],[0,95],[45,0],[0,94],[0,95],[0,94],[45,0],[45,0],[0,94],[45,0],[0,95],[46,94],[45,0],[45,0],[45,95],[45,0],[0,94],[45,95],[0,94],[46,0],[0,94],[45,0],[0,95],[45,0],[0,94],[45,0],[0,95],[0,94],[0,95],[45,0],[0,94],[45,0],[0,94],[0,95],[0,94],[45,95],[0,94],[46,0],[45,0],[45,0],[0,95],[45,0],[45,0],[46,0],[0,94],[45,94],[45,0],[0,95],[45,0],[45,94],[45,0],[0,95],[46,0]],[[37127,25590],[135,0],[46,0],[45,0],[45,0],[90,0],[226,94],[226,0],[45,0],[45,0],[181,0],[136,0],[135,0],[90,0],[46,0],[90,0],[0,-94],[0,-95],[0,-94],[0,-283],[0,-95],[0,-188],[0,-95],[45,-189],[0,-94],[0,-95],[90,0],[45,0],[46,0],[45,0],[45,0],[45,0],[91,0],[90,0],[0,-188],[0,-95],[0,-189],[0,-94],[0,-189],[0,-189],[0,-283],[0,-189],[0,-94],[0,-95],[0,-94],[0,-95],[0,-94],[0,-189],[0,-189],[0,-189],[0,-94],[0,-95],[0,-94],[0,-94],[0,-95],[0,-283],[-90,0],[-91,0],[-45,0],[-45,0],[-91,0],[-45,0],[-45,0],[-45,0],[-45,0],[-90,0],[-46,0],[-45,0],[-90,0],[-181,0],[-45,0],[-90,0],[-181,0],[-181,0],[-90,0],[-181,0],[-135,0],[-91,0],[-90,0],[-90,0],[-45,0],[-45,0],[-46,0],[-45,0],[-45,0],[-45,0],[-90,0],[-46,0],[-45,0],[-45,0],[-45,0],[-45,0],[-91,0],[-45,0],[-90,0],[-45,0],[-91,0],[-90,0],[-45,0],[-45,0],[-45,0],[-46,0],[-45,0],[-135,0],[-46,0],[0,94],[0,95],[0,94],[0,189],[0,94],[0,189],[0,95],[0,189],[-45,94],[0,189],[0,94],[0,95],[0,189],[0,94],[0,94],[0,378],[0,95],[0,188],[0,95],[0,189],[0,94],[91,0],[135,95],[91,0],[90,0],[90,0],[45,0],[46,0],[45,0],[0,94],[45,0],[45,0],[45,0],[0,94],[0,95],[91,0],[90,0],[45,0],[45,0],[0,94],[0,95],[-45,0],[0,94],[45,0],[45,0],[46,0],[90,0],[45,0],[45,0],[0,95],[-45,94],[0,94],[0,95],[0,94],[0,95],[0,94],[0,189],[90,0],[181,0]],[[11969,64683],[0,850],[2213,0]],[[14182,65533],[0,-2455]],[[14182,63078],[-1084,0],[0,-850],[-1129,0],[0,850]],[[69873,30595],[0,0]],[[69828,27856],[-2168,0],[0,661]],[[67660,28517],[0,756],[451,0],[0,566],[452,0],[0,661],[181,0],[45,95],[45,0],[45,-95],[91,95]],[[68970,30595],[903,0]],[[57317,24929],[0,-1511],[45,-94],[-45,0],[0,-189],[45,-95],[-45,-94],[0,-1039],[45,0],[45,-94],[45,0]],[[57452,21813],[-1671,0],[0,3588],[1536,0],[0,-472]],[[41644,45325],[0,0],[0,0],[0,0],[0,0],[0,0]],[[41057,48630],[767,0],[0,-94],[46,0],[0,-189],[-46,0],[0,-189],[-45,0],[0,-189],[45,0],[0,-94],[46,0],[0,-95],[45,0],[-45,-94],[45,0],[0,-189],[0,0],[0,-94],[-45,0],[0,-95],[-46,-94],[0,0],[0,0],[-45,0],[0,-95],[45,95],[0,-95],[0,0],[0,-94],[-45,0],[45,-94],[46,0],[0,-95],[0,0],[0,-94],[45,0],[0,-95],[90,0],[0,-189],[0,0],[0,-94],[45,0],[0,-94],[-45,0],[0,-95],[45,0],[0,-283],[-45,0],[0,-95],[45,0],[-45,-94],[45,0],[0,-189],[45,0],[0,-94],[0,0],[0,-95]],[[90198,12370],[0,-94]],[[90153,12276],[45,0]],[[90198,12276],[0,-189],[45,0],[0,-95],[45,0],[0,-94],[91,0],[0,-189],[45,0],[0,-94],[90,0],[0,-95],[45,95],[0,-95],[136,0],[0,-94],[45,0],[0,-95],[90,0],[0,-94],[45,0],[0,-95]],[[90830,11142],[45,0]],[[90875,11142],[0,-94],[46,0],[0,-94],[45,0],[0,-95]],[[91011,10859],[-45,0]],[[90966,10859],[0,-94]],[[90966,10765],[0,0]],[[90966,10765],[45,-95]],[[91011,10670],[0,0]],[[91011,10670],[90,0],[0,-94]],[[91146,10576],[-45,0]],[[91101,10576],[0,-95],[91,0],[0,-94]],[[91192,10387],[45,94],[0,-94],[-45,0]],[[91192,10387],[0,-94],[90,0],[45,94],[45,-94],[45,0],[0,-95],[45,95],[46,0]],[[91011,8782],[-45,0],[0,94],[-45,0],[-46,95],[-45,0],[0,0],[-45,0],[-45,-95],[-90,-94],[0,-95],[-46,0],[-45,-94],[-45,-95],[-45,0],[0,0],[-45,0],[0,95],[-45,0],[0,94],[-46,0],[0,95],[-361,0],[0,94],[-90,0],[0,189],[-46,0],[46,94],[0,95],[0,0],[0,94],[-91,0],[-45,95],[-45,0],[0,94],[-135,0],[0,95],[-407,0],[0,94],[-226,0],[0,94],[-45,0],[0,189],[-45,0],[0,95],[-90,0],[0,94],[-91,0],[0,95],[-45,0],[0,188],[45,0],[0,189],[45,0],[0,95],[91,0],[0,94],[45,0],[45,95],[-45,0],[90,188]],[[88933,11142],[45,0],[226,284],[45,0],[91,94],[45,95],[90,0],[45,94],[46,0],[45,94],[45,0],[45,95],[45,0],[45,94],[91,0],[0,95],[45,0],[90,94],[45,0],[46,95],[45,0]],[[90153,12276],[45,94]],[[90198,12370],[45,0]],[[98418,19074],[0,95],[-90,0],[-45,-95],[-45,95],[0,94],[-46,0],[0,95],[-45,0],[0,94],[-90,-94],[-90,0],[0,94],[-46,0],[0,189],[46,0],[0,94],[-226,0],[0,189],[45,0],[0,95],[-90,0],[0,-95],[-46,0],[0,189],[-45,0],[0,95],[-45,0],[0,188],[-45,95],[0,-95],[-45,-94],[-45,94],[0,95],[-46,0],[0,189],[-45,0]],[[97334,20680],[0,94],[-45,0],[0,-94],[45,0]],[[97334,20680],[-45,-95],[-45,0],[0,95],[-45,0]],[[97199,20680],[0,94],[-45,0]],[[97154,20774],[45,-94]],[[97199,20680],[-45,0],[0,94]],[[97154,20774],[-46,0]],[[97108,20774],[-45,0],[0,95],[-45,0],[0,-95],[-135,0]],[[96883,20774],[45,0],[0,95],[45,94],[0,94],[45,0],[0,95],[45,0],[0,94],[45,95],[46,94],[0,95],[45,0],[0,94],[45,0],[0,94],[45,95],[45,94],[45,95],[0,94],[46,0],[0,95],[90,188],[45,95],[45,94],[0,95],[45,0],[0,94],[46,-94],[45,0],[90,-189],[45,0],[226,-283],[0,-95],[90,0],[0,-94],[91,0],[0,-95],[45,0],[0,-94],[90,0],[45,-95],[46,-94],[45,-94],[45,0],[90,-95],[45,-94],[46,0],[0,-95],[90,0],[0,-94],[45,0],[45,-95],[45,0],[0,-94],[91,0],[0,-94],[90,0],[0,-95],[45,0],[0,-94],[91,0],[0,-95],[45,0],[45,-94],[45,0],[90,-95],[0,-94],[46,0],[45,-94],[45,0],[0,-95],[90,0],[0,-94],[45,0],[91,-95],[45,-94],[0,0],[0,-95],[-45,0],[0,-94],[-45,0],[-46,-94],[-45,0],[0,-95],[-45,0],[0,-94],[-45,0],[0,-95],[-45,0],[0,-94],[-45,0],[45,-95],[-45,-94],[-91,0],[-45,94],[-45,0],[-45,95],[-45,0],[0,94],[-91,0],[-45,-94],[-45,94],[-45,0],[0,95],[-91,0],[-45,-95],[0,-94],[-45,0],[0,-95],[-45,0],[0,-94],[45,-94],[45,0],[0,-95],[45,0],[0,-94],[91,0],[0,-95],[-45,0],[0,-94],[-46,0],[-90,-95],[-45,0],[0,-94],[-90,0],[0,94],[-46,0],[0,95],[-45,0],[0,94],[-45,0],[0,95],[-45,0],[-45,94],[-45,0],[0,95],[-46,94],[0,94],[-45,0]],[[97154,20774],[0,0]],[[59168,17091],[0,-94],[-180,0],[0,-189],[-45,0],[0,-1039],[-46,0],[0,-1227]],[[57723,14636],[-497,0]],[[57181,17752],[1491,0],[-46,-94],[46,0],[0,-94],[0,0],[0,-95],[45,0],[45,-94],[406,0],[0,-284]],[[64543,25212],[587,0]],[[65130,25212],[452,0],[0,-377],[-45,0],[0,-95],[0,0],[0,-189],[90,0],[0,-94],[-45,0],[0,-95],[45,-94],[0,-567]],[[65627,23701],[-90,0],[0,-283],[45,0],[0,-94],[-45,-95],[0,-1227],[-45,-95],[0,-94],[-407,0]],[[65085,21813],[-45,0]],[[65040,21813],[-406,0],[-181,94],[-226,0],[0,472],[45,0],[-90,95],[-361,0],[0,94]],[[63821,22568],[0,472],[45,95],[226,0],[0,1511],[451,0],[0,566]],[[18518,54863],[45,0],[46,0],[90,0],[45,0],[45,0],[46,0],[45,0],[45,0],[45,0],[45,0],[45,0],[46,0],[45,0],[45,0],[45,0],[45,0],[45,0],[46,0],[45,0],[45,0],[45,0],[45,0],[45,0],[46,0],[45,0],[45,0],[45,0],[45,0],[45,0],[46,0],[45,0],[45,0],[45,0],[90,0],[0,-189],[45,0],[91,0],[90,0],[45,0],[46,0],[45,0],[45,0],[45,0],[90,0],[91,0],[180,0],[46,0],[45,0],[90,0],[90,0],[0,-378],[0,-94],[0,-189],[0,-95],[0,-189],[0,-94],[0,-94],[0,-189],[0,-95],[0,-94],[0,-95],[0,-188],[0,-95],[0,-94],[0,-284],[0,-188],[0,-95],[0,-283],[0,-95],[0,-94],[0,-94],[-45,0],[-406,0],[-45,0],[-46,0],[-271,0],[-90,0],[-90,0],[-181,0],[-181,0],[-361,0],[-135,0],[-181,0],[-136,0],[-45,0],[-45,0],[-181,0],[-45,0],[-45,0],[-45,0],[-91,0],[-45,0],[0,94],[0,189],[0,94],[0,189],[0,95],[0,188],[0,95],[0,94],[0,95],[0,94],[0,95],[0,94],[0,94],[0,95],[0,94],[0,95],[0,94],[0,472],[0,284],[0,94],[0,94],[0,189],[0,284]],[[67569,20113],[181,0],[90,-94],[1446,0],[45,-95],[361,0]],[[69692,19924],[0,-1511],[-45,0],[0,-566],[181,0],[0,-850],[-45,-189],[0,-566],[-994,0],[0,94],[-723,0],[45,283],[0,189],[-451,0],[0,472],[45,95],[0,283],[-316,0]],[[67389,17658],[0,378],[135,0],[0,566],[45,95],[0,1416]],[[60930,41454],[-45,94],[0,1228],[-46,94],[0,1511],[-45,0],[0,1228],[813,0],[181,94],[1039,0],[45,94],[587,0],[0,-1699],[45,-95],[0,-1983],[46,-94],[0,-283],[-497,0],[0,0],[-45,0],[0,-95],[-1581,0]],[[60885,42776],[0,0],[0,0],[0,0],[0,0],[0,0],[0,0],[0,0],[0,0],[0,0],[0,0],[0,0],[0,0]],[[33649,71010],[0,0],[0,0],[0,0],[0,0],[0,0],[0,0],[0,0],[0,0]],[[32249,71010],[0,-95]],[[32249,70915],[-136,95]],[[32113,71010],[0,3210]],[[36585,74220],[0,-4155],[-45,95],[-1626,0]],[[34914,70160],[0,283],[-45,0],[0,567],[-91,0]],[[34778,70915],[0,95]],[[34778,71010],[-2303,0],[-226,-95]],[[64679,32483],[-45,0],[0,95],[45,0]],[[64950,33050],[0,0],[0,0],[0,0],[0,0],[0,0],[0,0],[0,0],[0,0],[0,0],[0,0],[0,0],[0,0],[0,0],[0,0],[0,0],[0,0],[0,0],[0,0],[0,0],[0,0],[0,0],[0,0],[0,0],[0,0],[0,0]],[[64679,33522],[0,0],[0,0],[0,0],[0,0],[0,0],[0,0],[0,0],[0,0],[0,0],[0,0],[0,0],[0,0],[0,0],[0,0],[0,0],[0,0],[0,0],[0,0],[0,0]],[[62014,33805],[1129,0]],[[63143,33805],[181,0],[0,0],[45,0],[0,-94],[181,0],[0,-95],[45,0],[0,-94],[45,0],[0,-95],[45,0],[0,-94],[45,0],[0,-94],[45,0],[0,-95],[91,0],[0,-94],[45,0],[45,-95],[90,0],[0,-94],[181,0],[0,-95],[45,0],[0,95],[181,0],[0,94],[45,0],[0,95],[45,0],[0,94],[0,0],[0,95],[45,0],[0,0],[-45,0],[0,94],[0,0],[0,94],[45,0],[0,95],[91,0],[0,-95],[45,0],[0,-94],[45,0],[0,-94],[45,0],[0,-95],[45,0],[0,-94]],[[64859,33050],[-45,0],[0,94],[-45,0],[0,-94],[-45,0],[0,-95],[135,0],[0,95]],[[64859,33050],[0,0]],[[64905,33050],[0,0]],[[64859,33050],[46,0]],[[64905,33050],[90,0],[45,94],[45,0],[0,-94],[136,0],[0,-189],[-45,0],[0,-189],[45,0],[0,-94],[0,0],[-45,94],[0,0],[0,94],[-46,0],[0,-188],[-45,0],[0,94],[45,0],[0,94],[-135,0],[0,-94],[-45,0],[0,94],[-136,0],[0,0],[-45,0],[0,-94],[-45,0],[0,-94],[-45,0]],[[64679,32578],[0,0]],[[64679,32483],[0,95]],[[64679,32578],[0,94],[-136,0],[0,-94],[-451,0],[0,-95],[-46,0],[0,-94],[-90,0],[0,-95],[-45,0],[-45,95],[0,-95],[-45,0],[-46,95],[0,-95],[-1400,0],[0,378],[-316,0]],[[64724,33900],[0,0],[0,0],[0,0],[0,0],[0,0],[0,0],[0,0],[0,0],[0,0],[0,0],[0,0],[0,0]],[[64543,34088],[-45,-94],[0,94],[0,-94],[0,94],[45,0]],[[64724,34183],[0,0],[0,0],[0,0],[0,0],[0,0],[0,0],[0,0],[0,0],[0,0],[0,0],[0,0],[0,0],[0,0],[0,0],[0,0],[0,0],[0,0],[0,0],[0,0],[0,0],[0,0]],[[64814,34277],[45,0],[0,-94],[-45,0],[0,-95],[-45,0],[0,95],[0,-95],[0,-94],[-45,0],[-45,0],[0,-94],[-45,0],[0,94],[0,94],[0,95],[45,0],[45,0],[-45,0],[0,-95],[45,0],[45,0],[0,95],[45,0],[0,94],[0,-94],[0,94]],[[64905,34372],[-46,0],[46,0]],[[64588,34372],[-45,0],[45,0],[46,0],[-46,0]],[[64724,34466],[-45,0],[45,0]],[[64905,34561],[-46,-95],[-45,0],[0,-94],[-45,0],[0,-95],[-45,0],[0,95],[-45,0],[45,94],[45,0],[45,0],[0,95],[0,-95],[0,95],[45,0],[46,0]],[[64724,34749],[45,0],[0,-94],[-45,0],[-45,0],[-45,0],[45,0],[45,0],[-45,0],[0,94],[45,0]],[[4426,81963],[4562,0]],[[8988,81963],[0,-1699],[0,0],[0,-95],[0,0],[0,-1888],[45,-189],[0,-1889]],[[9033,76203],[-2800,0]],[[6233,76203],[-2258,0]],[[3930,81113],[496,0],[0,850]],[[40469,58545],[-948,0]],[[39521,58545],[-1536,0]],[[38572,61850],[1536,0],[45,-94],[45,0]],[[40198,61756],[46,0],[45,94],[180,0],[0,-3305]],[[39476,58545],[0,0],[0,0],[0,0],[0,0],[0,0],[0,0]],[[32339,27667],[46,0],[45,0],[180,0],[0,95],[0,-95],[46,0],[45,0],[0,95],[45,0],[135,-95],[91,0],[45,0],[45,0],[90,0],[181,0],[45,0],[316,0],[136,0],[90,0],[45,0],[46,0],[45,0],[45,0],[45,0],[136,0],[45,0],[45,0],[45,0],[45,0],[45,0],[46,0],[45,0],[90,0],[45,0],[45,0],[0,-94],[0,-95],[-45,0],[0,-94],[45,0],[-45,0],[0,-94],[-45,-95],[0,-94],[-45,0],[0,-95],[-45,0],[0,-94],[-45,-95],[0,-94],[-46,0],[-45,-189],[0,-94],[-45,0],[0,-95],[-45,0],[0,-94],[0,-95],[-45,0],[-45,0],[0,-94],[0,-94],[0,-95],[0,-189],[0,-94],[45,-95],[0,-94],[0,-94],[0,-95],[0,-94],[-45,0],[-46,0],[-45,-95],[-45,0],[0,-94],[-45,0],[-45,-94],[-45,-95],[45,-94],[-45,-95],[0,-94],[-46,0],[-45,-95],[-90,-188],[0,-95],[45,-94],[0,-95],[-45,0],[-91,-189],[-45,95],[-45,0],[-45,0],[-45,0],[0,-95],[-45,0],[-45,0],[-46,0],[-90,0],[-45,0],[-45,0],[-45,0],[0,-94],[-46,0],[-45,0],[-45,-94],[-45,0],[-45,-95],[-45,0],[-46,0],[0,-94],[0,94],[0,95],[0,94],[0,94],[0,95],[0,189],[0,94],[0,95],[0,188],[-90,95],[-45,0],[-45,0],[-45,0],[-46,0],[-45,0],[-45,0],[-90,0],[-45,0],[-46,0],[0,94],[0,95],[0,94],[0,189],[0,94],[0,95],[0,94],[0,95],[0,94],[0,94],[0,95],[0,94],[0,95],[0,94],[0,95],[0,94],[0,189],[0,94],[0,95],[0,94],[0,189],[0,94],[0,95],[0,94],[0,95],[0,94],[0,95],[0,94],[0,94],[0,95],[0,94]],[[62827,16714],[948,0],[91,-95],[0,95],[45,0],[0,-95],[813,0]],[[64724,16619],[0,-94],[-45,0],[0,-756],[-45,-377],[0,-189],[45,0],[-45,-283],[0,-567],[316,0],[135,-94],[45,0]],[[65130,14259],[-45,-284],[0,-472]],[[65085,13503],[-632,0],[-45,95],[-497,0],[0,94],[90,0],[0,189],[-1084,0],[-90,94],[-136,0],[45,284],[0,1038],[46,95],[0,283]],[[62782,15675],[0,850],[45,94],[0,95]],[[22629,64400],[0,-1133],[45,-189],[-45,0],[0,-756],[45,-94],[0,0],[0,-472],[-45,-95],[0,-283],[-813,0],[0,94],[-91,0],[0,95],[-406,0],[0,0],[-181,0],[0,94],[-226,0],[0,0],[-135,0],[0,189],[-45,0],[0,95],[-46,0],[-45,94],[0,-94],[-45,0],[0,94],[-135,0],[0,283],[-46,0],[0,95],[-90,0],[-45,94],[-45,95],[-46,0],[0,94],[-45,0],[0,94],[-45,0],[-45,95],[-45,94],[-45,0],[-45,95],[-91,0],[0,94],[-90,0],[0,95],[-90,0],[0,94],[-46,0],[0,189],[46,0],[0,94],[45,95],[45,0],[0,283],[45,0],[0,378]],[[7091,93389],[0,-2455],[136,0],[0,-1605]],[[7227,89329],[-5872,0],[0,94],[45,0],[0,95],[-45,0],[0,-95],[-45,0],[0,95],[-45,0],[0,94],[45,0],[45,94],[-45,0],[0,95],[45,0],[0,94],[0,0],[0,95],[-45,-95],[-45,0],[0,95],[45,0],[0,94],[45,0],[0,95],[-45,0],[0,94],[0,0],[0,94],[-45,0],[0,95],[-45,0],[0,94],[0,0],[-46,95],[46,0],[0,94],[-46,0],[0,189],[-45,0],[0,189],[-45,0],[0,94],[0,0],[0,95],[-45,0],[0,94],[-45,0],[0,0],[45,0],[0,95],[-45,0],[0,188],[-45,0],[0,95],[45,0],[0,0],[-45,0],[0,94],[-46,0],[0,0],[-45,0],[0,95],[0,0],[0,0],[-45,0],[0,94],[45,0],[0,94],[-90,0],[0,95],[0,0],[0,94],[45,0],[-45,95],[-45,0],[0,94],[-45,0],[45,95],[-45,0],[0,94],[-46,0],[0,94],[-45,0],[0,95],[-45,0],[0,94],[45,0],[-45,95],[45,0],[0,94],[0,0],[0,95],[-45,94],[-45,0],[0,94],[-45,0],[0,95],[0,0],[0,94],[-45,0],[0,189],[45,0],[0,95],[-45,0],[0,94],[-46,94],[46,0],[0,95],[-46,0],[0,283],[-45,0],[0,95],[-45,0],[0,94],[-45,0],[0,189],[0,0],[0,94],[-45,0],[0,95],[-45,0],[0,94],[-46,0],[0,189],[-90,0],[0,94],[90,0],[0,95],[-45,0],[-45,94],[2936,0],[0,-1416],[90,0],[0,-1605],[587,0],[0,-850],[2304,0],[0,850],[587,0],[0,849],[181,0],[45,-94],[361,0]],[[19241,71765],[1626,0],[0,850],[1716,0],[-45,-189],[0,-472],[45,-94],[0,-189],[-45,0],[0,-284],[45,0],[0,-377],[-45,-95],[0,-3210]],[[19828,67705],[45,0],[0,94],[-45,95],[0,283],[45,0],[0,94],[-45,0],[0,189],[45,0],[0,95]],[[19873,68555],[46,0],[45,94],[45,0],[45,94],[0,95],[45,0],[0,283],[45,95],[45,0],[0,94],[46,0],[0,94],[45,0],[0,95],[45,0],[0,566],[-136,0],[0,95],[-45,0],[0,94],[-45,0],[0,95],[-45,94],[-45,95],[-45,0],[0,283]],[[20009,70821],[-45,0]],[[19964,70821],[0,94],[-91,0],[0,95],[-90,0],[0,94],[-90,0],[-45,-94],[-136,0],[-45,94],[-181,0],[0,189],[-45,0],[0,94],[45,95],[-45,94],[0,189]],[[6278,72898],[2801,0]],[[9124,69593],[-2801,0],[0,1700],[-45,0],[0,1605]],[[33017,62700],[677,0],[226,94],[813,0],[0,-94],[1084,0]],[[34101,58640],[-542,0]],[[71183,31256],[1761,0]],[[72944,31256],[0,-2078]],[[72944,29178],[0,-1322],[-406,0]],[[9033,32766],[0,-94],[-45,0],[0,-94],[45,-756],[0,-189],[-45,-94],[0,-944],[45,-95],[0,-94],[-45,0],[0,-945]],[[8988,29461],[-3252,0]],[[5556,29745],[-46,94],[0,95],[46,94],[45,94],[0,95],[-45,94],[0,189],[0,0],[-46,95],[0,188],[136,0],[0,-94],[-45,0],[0,-94],[45,-95],[0,95],[90,0],[0,94],[45,0],[0,189],[-45,0],[0,94],[-226,0],[-45,95],[-45,0],[0,94],[-45,95],[45,0],[45,94],[45,0],[0,94],[-45,95],[0,189],[45,0],[0,377],[46,0],[0,189],[-46,0],[-45,95],[-45,0],[0,-95],[-90,0],[0,95],[-181,0],[0,94],[-45,0],[0,95],[45,94],[45,0],[0,94],[3839,0]],[[57181,17752],[0,-94],[45,-472],[0,-2550]],[[57226,14636],[0,-189],[-1535,0]],[[55691,14447],[0,284],[45,189],[0,2832],[1445,0]],[[90875,6232],[0,0]],[[91508,10293],[45,0],[0,-95],[45,0],[0,-94],[136,0]],[[91734,10104],[0,-95]],[[91734,10009],[45,0],[0,-189]],[[91734,9820],[45,0]],[[91779,9820],[0,-94]],[[91734,9726],[45,0]],[[91779,9726],[0,-94],[135,0],[0,-95],[45,0],[0,-94],[46,0]],[[92005,9537],[0,-94]],[[92005,9443],[135,0],[0,-95],[45,0],[0,-189],[45,0],[0,-94],[91,0],[0,-94],[45,0],[0,-284],[45,0],[0,-94]],[[92366,8593],[45,0]],[[92411,8593],[0,-189]],[[92456,8404],[-45,0]],[[92411,8404],[0,-94],[45,0],[0,-95],[45,0],[0,-94],[-45,0],[0,-95]],[[92501,8026],[-45,0]],[[92456,8026],[0,-188],[-45,0],[0,-189],[-45,0],[0,-378],[-45,94],[0,-283]],[[92366,7082],[-45,0]],[[92321,7082],[0,-189],[45,0],[0,-189],[45,0]],[[92411,6704],[45,0]],[[92456,6704],[0,-94],[-45,0],[-45,-94],[45,0],[0,-95],[-45,0],[0,-189]],[[92411,6232],[-45,0]],[[92366,6232],[0,-94],[45,-95],[0,-94],[-45,0],[0,-94],[90,0],[-45,-95],[0,-189],[45,0],[0,-94],[45,0]],[[92501,5477],[-45,-95],[0,-188],[-45,0],[0,-189],[45,0],[0,-284],[-45,0],[0,0],[-45,0],[0,95],[-45,0],[0,-95],[0,0],[0,95],[-91,0],[0,94],[-45,0],[0,378],[-45,0],[0,189],[-90,0],[0,94],[-136,0],[-45,95],[-45,0],[-45,94],[-91,0],[0,95],[-180,0],[0,-95],[-226,0],[0,95],[-271,0],[0,-95],[-90,0],[0,-94],[-46,0],[0,-95],[-45,0],[0,-94],[-45,0],[0,94],[-45,0],[0,284],[-45,94],[0,94],[-45,95],[45,0],[0,94],[45,0],[0,-94],[45,0],[0,94],[90,0]],[[90875,6232],[0,-94]],[[90875,6138],[46,0],[0,0],[90,0],[0,94],[-136,0]],[[90875,6232],[0,95],[0,0],[0,94],[46,0],[0,0],[-46,0],[0,189],[91,0],[0,94],[-91,0],[0,284],[46,0],[0,94],[-46,0],[0,95],[46,0],[0,0],[0,0],[0,0],[45,94],[-45,0],[45,94],[45,0],[90,189],[45,0],[181,378],[45,0],[0,94],[45,0],[0,95],[-45,0],[-45,94],[-45,0],[0,95],[-90,94],[0,94],[-46,0],[-45,95],[-45,0],[0,94],[-45,95]],[[91011,8782],[45,0],[0,94],[45,95],[-45,0],[0,94],[45,0],[0,94],[45,0],[0,189],[46,0],[0,95],[45,0],[0,94],[45,0],[0,189],[90,189],[45,94],[0,95],[45,0],[-45,94],[91,0],[0,95]],[[59936,29556],[0,-2361]],[[59936,27195],[-542,0],[0,-94],[-45,-95],[-452,0],[0,-377],[-1038,0]],[[57859,26629],[0,377],[-271,0],[0,850],[271,0],[0,1700]],[[57859,29556],[496,0]],[[58355,29556],[1581,0]],[[94489,8687],[0,0],[0,0],[0,0],[0,0],[0,0],[0,0],[0,0],[0,0],[0,0],[0,0],[0,0],[0,0],[0,0],[0,0]],[[94398,8687],[0,0],[0,0],[0,0],[0,0],[0,0],[0,0],[0,0],[0,0],[0,0],[0,0],[0,0],[0,0],[0,0],[0,0],[0,0],[0,0],[0,0],[0,0],[0,0],[0,0],[0,0],[0,0],[0,0],[0,0]],[[94218,8404],[0,0],[0,0],[0,0],[0,0],[0,0],[0,0],[0,0],[0,0],[0,0],[0,0],[0,0],[0,0],[0,0],[0,0],[0,0],[0,0],[0,0],[0,0],[0,0],[0,0],[0,0],[0,0],[0,0],[0,0],[0,0],[0,0],[0,0],[0,0],[0,0],[0,0],[0,0],[0,0],[0,0],[0,0],[0,0],[0,0],[0,0],[0,0],[0,0],[0,0],[0,0],[0,0],[0,0],[0,0],[0,0],[0,0],[0,0],[0,0],[0,0],[0,0],[0,0],[0,0],[0,0],[0,0],[0,0],[0,0],[0,0],[0,0],[0,0],[0,0],[0,0],[0,0],[0,0],[0,0],[0,0],[0,0],[0,0],[0,0],[0,0],[0,0],[0,0],[0,0],[0,0],[0,0],[0,0],[0,0],[0,0],[0,0],[0,0],[0,0],[0,0],[0,0],[0,0],[0,0],[0,0],[0,0],[0,0],[0,0],[0,0]],[[94218,8404],[0,0],[0,0],[0,0],[0,0],[0,0],[0,0],[0,0],[0,0],[0,0],[0,0],[0,0],[0,0]],[[94398,8121],[0,94],[0,95],[0,-95],[46,0],[-46,-94]],[[94127,8121],[46,0],[-46,0]],[[94263,8121],[0,0],[0,0],[0,0],[0,0],[0,0],[0,0],[0,0],[0,0],[0,0],[0,0],[0,0],[0,0],[0,0],[0,0],[0,0],[0,0],[0,0],[0,0],[0,0],[0,0],[0,0]],[[94669,7932],[45,0],[0,0],[-45,0]],[[94669,7932],[0,94],[45,-94],[46,0],[0,94]],[[94760,8026],[45,0],[-45,95]],[[94760,8121],[135,0],[0,94]],[[95031,8026],[0,-94],[45,94],[0,-94],[-90,0],[0,0],[-46,0],[0,0],[-45,0],[0,94],[0,0],[0,-94],[-45,0],[0,94],[-45,0],[0,-94],[-45,0],[0,-94],[-46,0],[0,-95],[-45,0],[0,95]],[[94444,8876],[0,0]],[[94444,8876],[0,-94],[0,0],[0,94]],[[94444,8876],[45,-94],[0,0],[135,0],[0,94],[45,0],[45,95],[46,0],[0,94],[45,0],[0,-94],[0,0],[0,94],[45,0],[0,0],[-45,0],[0,94],[-45,0],[0,189],[-46,0],[0,95],[46,0],[0,0],[-46,0],[0,189],[46,0],[0,-95],[45,0],[0,-94],[90,0],[0,0],[-45,0],[0,94],[-45,0],[0,95],[45,0],[0,-95],[45,0],[0,95],[-90,0],[0,94],[45,0],[0,94],[45,0],[0,-94],[45,0],[0,94],[46,0],[0,-94],[45,94],[45,0],[0,-94],[45,0],[0,-94],[90,0],[-45,-95],[45,0],[0,95],[-45,0],[0,94],[-45,0],[0,94],[-90,0],[0,95],[0,0],[0,-95],[-136,0],[0,95],[0,0],[0,94],[136,0],[0,95],[45,0],[0,94],[45,0],[0,0],[0,0],[0,95],[90,0],[0,188],[46,0],[0,95],[90,0],[0,0],[45,0],[0,0],[90,0],[0,-95],[46,0],[0,95],[-181,0],[0,189],[-45,0],[0,94],[-45,0],[0,189],[90,0],[0,94],[45,0],[0,-94],[45,94],[0,0],[-45,0],[0,0],[45,0],[0,95],[45,94],[91,0],[0,95],[45,0],[0,-95],[45,95],[0,-95],[271,0],[0,95],[181,0],[0,94],[135,0],[0,-94],[136,0],[0,-95],[135,0],[0,95],[91,0],[45,-378],[0,-661],[-91,0],[0,-94],[-135,0],[0,-95],[-90,0],[0,-94],[-91,0],[0,-189],[-45,0],[0,-189],[-45,0],[0,-94],[-45,0],[0,-95],[-45,0],[0,-189],[-46,0],[0,-94],[-45,-95],[0,95],[-45,0],[45,-95],[-45,0],[0,-94],[-45,0],[0,-94],[-45,0],[0,-95],[-45,0],[0,-283],[-46,0],[0,-283],[-135,0],[-45,94],[-45,0],[-181,94],[-226,0],[0,0],[-90,0],[0,-188],[-45,0],[0,-95],[0,0],[0,-94],[45,0],[0,-95]],[[95031,8026],[0,0]],[[95031,8026],[-45,0],[0,95],[-46,0],[0,94],[-45,0]],[[94895,8215],[45,0],[0,95],[-45,0],[0,-95]],[[94895,8215],[-90,0],[0,95],[0,0],[0,188],[45,0],[0,95],[0,0],[0,0],[-45,0],[0,189],[0,0],[0,94],[-45,0],[0,-94],[45,0],[0,-95],[0,0],[0,-189],[0,0],[0,-94],[-45,0],[0,-283]],[[94760,8121],[0,0]],[[94760,8121],[0,-95]],[[94760,8026],[0,0]],[[94760,8026],[-91,0],[-45,-94],[45,0]],[[94669,7932],[0,-94]],[[94669,7838],[0,0]],[[94669,7838],[-45,0],[0,-189],[-45,0],[0,94],[45,0],[0,378],[90,0],[0,189],[0,0],[0,-95],[-45,0],[0,-94],[-45,0],[0,-95],[0,0],[0,189],[0,0],[0,189],[0,0],[0,94],[-45,-94],[0,189],[-45,0],[0,0],[-45,0],[0,-95],[-45,0],[0,189],[45,0],[0,-94],[45,0],[0,94],[-90,0],[0,95],[-46,0]],[[94444,8876],[-46,0],[0,-94]],[[94398,8782],[0,-95],[-45,0],[-45,95],[0,-95],[45,0],[0,-94],[-45,0],[0,0],[45,0],[0,94],[45,0],[0,-94],[0,0],[0,-95],[-45,0],[0,-94],[45,0],[0,-94],[-45,0],[0,94],[-45,0],[0,94],[-45,0],[0,0],[-45,0],[45,95],[0,0],[0,0],[-45,0],[0,-189],[-45,0],[0,-189],[45,0],[0,-94],[-45,0],[0,189],[-46,0],[0,188],[0,0],[0,95],[46,94],[0,95],[0,0],[0,94],[0,0],[0,-94],[0,0],[0,-95],[-46,0],[0,95],[-45,0],[0,0],[45,0],[0,-95],[-45,0],[0,-94],[45,0],[0,-95],[-45,0],[0,95],[-45,0],[0,94],[-45,0],[0,-94],[0,0],[0,0],[45,0],[0,-95],[90,0],[0,-94],[-45,0],[0,-189],[0,0],[0,95],[-45,0],[0,0],[-45,0],[0,94],[-45,-94],[45,0],[0,-95],[0,0],[0,-94]],[[93992,8026],[0,95]],[[93992,8121],[-45,0],[0,-95],[45,0]],[[93992,8026],[45,0],[0,-283],[-45,0],[0,95],[0,0],[0,-95],[-90,0],[0,-94],[-46,0],[0,-95],[0,0],[0,95],[0,0],[0,189],[46,0],[-46,94],[46,0],[0,94],[-46,0],[0,189],[46,0],[0,378],[45,94],[0,95],[45,0],[45,94],[0,0],[0,0],[0,95],[45,94],[0,283],[45,0],[0,95],[46,0],[0,-95],[0,0],[0,-189],[45,0],[0,-188],[0,0],[0,-95],[45,0],[0,0],[90,0],[0,0],[91,0]],[[94353,8782],[0,0],[0,0],[0,0],[0,0],[0,0],[0,0],[0,0],[0,0],[0,0],[0,0],[0,0],[0,0],[0,0],[0,0],[0,0],[0,0],[0,0],[0,0]],[[42095,45325],[46,0],[0,-94],[45,-95],[45,0],[0,-94],[45,0],[0,-94],[45,0],[0,-95],[91,0],[0,-94],[-46,0],[0,-95],[-45,0],[0,-283],[45,-94],[0,94],[-45,0],[0,-94],[0,0],[0,-284],[-45,0],[0,-94],[-45,0],[0,-189],[-45,0]],[[42186,43720],[-1717,0],[0,-567],[-542,0]],[[41011,45325],[1084,0]],[[17705,66099],[0,756],[949,0]],[[18654,66855],[181,0],[0,-2172],[-181,0],[-45,94],[-46,0],[0,95],[-45,94],[-361,0],[0,-94],[-45,0],[0,-95],[-45,0],[0,-94],[-136,0]],[[17931,64683],[-45,0],[0,189],[-45,0],[0,378],[-45,0],[0,849],[-91,0]],[[7543,63361],[0,1322],[1039,0]],[[8582,64683],[3387,0]],[[11969,64683],[0,-1605]],[[11969,63078],[-587,0],[0,-1700],[45,0],[0,-755],[-813,0],[0,94],[-45,0],[0,94],[-45,0],[0,95],[-45,0],[0,0],[-91,0],[0,94],[-45,-94],[0,94],[-45,0],[0,95],[-45,0],[0,94],[-45,0],[0,0],[-226,0],[0,95],[-136,0],[0,94],[-90,0],[0,94],[-45,0],[0,0],[-45,0],[0,-94],[-45,0],[0,94],[-46,0],[0,95],[-135,0],[0,94],[-181,0],[0,95],[0,0],[0,94],[-90,0],[0,95],[-90,0],[0,94],[-46,0],[0,94],[-180,0],[0,95],[-45,0],[0,94],[-46,0],[0,95],[-45,-95],[0,95],[-45,0],[0,94],[-45,0],[0,95],[-45,0],[0,-95],[-181,0],[-45,95],[-45,0],[0,188],[-136,0],[0,95],[-180,0],[0,94],[-91,0],[0,189],[-90,0],[0,95],[-181,0],[0,94],[-45,0],[-45,94],[0,-94]],[[9846,61472],[0,0],[0,0],[0,0],[0,0],[0,0]],[[5556,29745],[45,0],[0,-95],[180,95],[46,0],[45,-95],[45,0],[0,-94],[-181,0],[0,-95]],[[5736,29461],[0,-188],[45,-189],[0,-189],[46,-95],[0,-94],[-46,0],[0,-94],[-45,0],[0,-95],[-406,0],[-45,-94],[-46,0],[-45,94],[-135,0],[0,95],[-136,0],[0,-95],[-135,0],[0,-94],[-91,0],[0,-95],[-90,0],[0,-94],[-45,0],[0,-95],[-45,0],[-45,-94],[-91,0],[-45,-94],[-90,0],[0,-95],[-45,0],[0,95],[-46,0],[-45,94],[0,0],[-45,94],[-181,0],[0,95],[-90,0],[0,94],[-45,0],[0,189],[-45,0],[0,95],[-45,0],[0,283],[90,0],[0,94],[45,0],[0,95],[-45,0],[0,661],[1807,0]],[[5239,28517],[0,0],[0,0],[0,0],[0,0]],[[33243,52880],[45,0],[0,-189],[45,0],[-45,-95],[45,0],[45,-94],[0,94],[45,0],[0,-94],[136,0],[0,-95],[-45,-94],[0,-94],[361,0],[0,-95],[136,0],[0,95],[45,-95],[45,0],[0,-1700],[-45,-94],[-91,0],[-45,-94],[-181,0],[-45,-95],[-45,-94],[0,-95],[-45,0],[0,-94],[-45,0],[0,-95],[-45,0],[0,-94],[45,-94]],[[33559,49575],[45,-95],[-45,-94],[-45,0],[0,-95],[-45,0],[0,-94],[-91,0],[-45,-95],[-181,0],[0,-94],[-45,0],[0,-94],[-45,0],[0,-95],[-45,0],[0,-94]],[[33017,48725],[-181,0],[0,-95],[-451,0],[0,95],[-91,0],[0,-95],[-90,0],[0,-94],[-45,0],[0,-95],[-91,0],[0,-188],[-135,0],[0,94],[-226,0],[0,94],[-135,0],[-46,-94],[-90,0],[0,3683],[-542,0],[0,850],[2349,0]],[[28907,32200],[-45,0],[-46,0],[-45,0],[-45,0],[0,472],[0,94],[45,189],[0,189],[0,95],[0,94],[0,94],[0,95],[0,94],[-90,0],[-226,0],[-135,0],[-46,0],[-45,0],[0,95],[0,94],[0,95],[0,283],[0,283],[0,378],[0,94],[0,95],[0,94],[0,95],[91,0],[45,0],[45,0],[45,0],[90,0],[181,0],[45,0],[45,0],[0,-95],[46,0],[45,0],[0,-94],[0,-95],[45,0],[45,0],[45,0],[45,0],[0,-94],[0,94],[46,0],[45,0],[0,95],[0,94],[45,0],[0,-94],[0,94],[45,0],[45,0],[0,95],[0,-95],[45,0],[46,0],[45,0],[0,95],[0,-95],[45,0],[45,0],[45,0],[0,95],[45,0],[0,-95],[46,0],[45,0],[45,0],[-45,95],[45,0],[0,-95],[45,0],[0,95],[45,0],[0,94],[45,-94],[0,94],[0,-94],[46,0],[45,0],[45,0],[45,0],[45,0],[45,0],[0,-95],[46,0],[45,0],[45,0],[45,0],[0,-94],[45,0],[-45,0],[0,-95],[45,0],[-45,0],[45,0],[45,0],[0,-94],[46,0],[45,0],[0,94],[45,0],[0,-94],[45,0],[45,0],[45,0],[46,0],[0,94],[45,0],[0,-94],[45,0],[0,-95],[0,-94],[45,0],[0,-94],[0,-95],[-45,0],[-45,0],[0,-94],[-45,-95],[0,-94],[0,-95],[0,-94],[0,-94],[0,-95],[0,-94],[0,-95],[0,-94],[-46,-95],[-45,0],[-90,0],[-90,-94],[-46,0],[0,-94],[-45,0],[0,-95],[-45,0],[-45,-94],[-45,0],[0,-95],[-45,-94],[-46,0],[-90,0],[-45,0],[-45,0],[-91,0],[-45,94],[-45,0],[-45,-94],[-45,0],[-45,0],[0,-95],[-46,0],[-45,0],[0,-94],[-45,-94],[-45,0],[0,-95],[-45,0],[-45,-94],[-46,0],[-45,-95],[-45,0],[-45,0],[-45,0],[-45,-94],[-46,0],[-45,0],[-45,0],[-45,0],[-45,0]],[[29087,34938],[0,0],[0,0],[0,0],[0,0],[0,0],[0,0]],[[14724,61661],[0,0],[0,0],[0,0],[0,0],[0,0],[0,0],[0,0],[0,0],[0,0],[0,0],[0,0],[0,0]],[[14815,61945],[45,0],[0,94],[45,94],[0,0],[0,95],[45,0],[0,-95],[45,0],[46,95],[90,0],[0,0],[90,0],[0,94],[45,0]],[[15266,62322],[0,-94],[46,0]],[[15266,62322],[46,0]],[[15312,62228],[0,94]],[[15312,62322],[0,0]],[[15312,62322],[45,0],[0,95],[90,0],[0,94],[45,-94],[0,94]],[[15537,62511],[-45,0]],[[15492,62511],[0,95],[91,0],[45,94],[45,0],[0,94],[45,0],[0,95],[45,0],[0,-95],[45,0]],[[15808,62889],[0,-95]],[[15808,62794],[46,0],[0,95],[90,0],[0,94],[-45,0],[0,284],[45,0],[0,94],[45,0],[0,94],[-45,0],[0,95],[135,0],[0,94]],[[16034,63644],[45,0]],[[16079,63644],[46,0],[0,189],[271,0]],[[16396,63833],[90,0],[0,95],[45,0]],[[16531,63833],[0,95]],[[16531,63928],[45,0],[0,-95],[45,95],[46,0],[0,-95],[45,0],[45,95],[135,0],[0,-95],[136,0],[0,-94],[226,0]],[[17254,63739],[0,-661],[45,0],[0,-850],[181,0],[0,-850],[-2846,0],[0,94],[45,0],[0,-94],[45,0],[0,94],[-45,0],[0,95],[45,0],[0,94],[0,0],[0,95],[0,0],[0,94],[0,0],[0,95],[46,0],[0,94],[45,0]],[[14770,61945],[0,0],[0,0],[0,0],[0,0],[0,0],[0,0],[0,0],[0,0],[0,0],[0,0],[0,0],[0,0],[0,0],[0,0]],[[14815,62039],[0,-94]],[[62014,30311],[316,0],[0,95],[45,0],[91,-95],[587,0],[90,95],[1491,0],[0,-1133],[45,-189],[0,-1133]],[[64679,27951],[-91,0],[0,-95],[-1174,0]],[[63414,27856],[-1400,0]],[[62014,27856],[0,1700]],[[41147,55240],[1400,0],[0,-94],[-45,0],[0,-95],[45,0],[0,-566],[45,0],[0,-189],[45,0],[0,-94],[46,-95],[0,-189],[-46,0],[0,-283],[46,-94],[-46,0],[0,0],[46,0],[0,-284],[-46,0],[0,-94],[-45,0],[0,-95],[-45,-94],[0,-94],[-45,0],[0,-95],[-45,0],[0,-189],[-45,0],[0,-94],[-46,0],[0,-95],[-45,0],[0,-188],[-45,0],[0,-284],[-1129,0]],[[40605,51935],[0,3305]],[[40605,55240],[542,0]],[[13550,71010],[1762,0]],[[15312,71010],[1129,0]],[[16441,71010],[0,-1417]],[[16441,69593],[0,-1511]],[[16441,68082],[-45,0]],[[16396,68082],[-91,0],[0,95],[-45,0],[0,189],[-45,0],[0,189],[-45,0],[0,-95],[-226,0],[0,95],[-271,0],[-45,94],[0,-94],[-271,0],[0,-95],[-45,0],[0,95],[-91,0],[0,94],[-135,0],[0,94],[-45,0],[0,95],[-46,0],[0,94],[-180,0],[-45,95],[-46,0],[0,94],[-45,95],[-45,0],[0,94],[-45,0],[0,94],[-45,0],[0,-94],[-45,0],[0,94],[-46,-94],[-90,0],[0,94],[-45,0],[0,95],[-90,0],[0,-95],[-46,0],[0,95],[-90,0],[0,94],[-45,0],[0,95],[-45,0]],[[91869,1983],[0,0],[0,0],[0,0],[0,0],[0,0],[0,0],[0,0],[0,0],[0,0],[0,0],[0,0],[0,0],[0,0],[0,0],[0,0],[0,0],[0,0],[0,0],[0,0]],[[91959,1794],[0,95],[-45,0],[45,0],[0,-95],[0,95],[0,-95]],[[93405,1605],[0,0],[0,0],[0,0],[0,0],[0,0],[0,0],[0,0],[0,0],[0,0],[0,0],[0,0],[0,0],[0,0],[0,0],[0,0],[0,0],[0,0],[0,0],[0,0],[0,0],[0,0],[0,0],[0,0],[0,0],[0,0],[0,0],[0,0],[0,0],[0,0],[0,0],[0,0],[0,0],[0,0],[0,0],[0,0],[0,0],[0,0],[0,0],[0,0],[0,0],[0,0],[0,0],[0,0],[0,0],[0,0],[0,0],[0,0],[0,0],[0,0],[0,0],[0,0],[0,0],[0,0],[0,0],[0,0],[0,0],[0,0],[0,0],[0,0],[0,0],[0,0],[0,0]],[[92140,1605],[0,95],[45,0],[0,-95],[-45,0]],[[93405,567],[-45,0],[0,94],[0,94],[-46,0],[0,95],[-45,0],[0,94],[0,-94],[45,0],[46,-95],[45,0],[0,-94],[0,-94]],[[92321,2361],[45,-95],[0,95]],[[92321,2361],[0,0]],[[92321,2361],[-45,94],[0,0],[0,95],[-46,0],[46,-95],[-46,0],[0,-94],[46,0]],[[92276,2266],[0,0]],[[92276,2266],[0,-94],[0,0],[0,-189],[-46,0],[0,94],[-45,0],[0,0],[0,0],[0,0],[45,0],[0,-94],[0,0],[0,-94],[-45,0],[0,-95],[-45,0],[0,-94],[-45,0],[0,94],[-90,0],[0,95],[-46,0],[0,94]],[[91959,1983],[0,0]],[[91959,1983],[0,94],[0,0],[0,-94]],[[91959,1983],[-45,0]],[[91914,1983],[-45,0],[0,189],[45,0],[0,94],[-45,0],[0,95],[-45,0],[0,94],[0,0],[0,95],[-45,0],[0,0],[45,0],[0,94],[-45,0],[0,94],[-45,0],[0,95],[45,0],[0,94],[90,0],[0,0],[45,0],[0,95],[-135,0],[0,-95],[-45,0],[0,95],[0,0],[0,94],[-46,0],[0,95],[-90,0],[0,94],[45,0],[0,94],[45,0],[0,95],[46,0],[0,94],[45,0],[0,95],[45,0],[0,94],[45,0],[0,189],[45,0],[0,94],[45,95],[0,94],[46,0],[0,189],[316,0],[0,-94],[45,0],[0,-95],[45,0],[0,0],[45,0],[0,95],[45,-95],[-45,0],[0,-94],[91,0],[0,-95],[-46,0],[0,-94],[0,0],[0,-94],[46,0],[0,0],[45,0],[0,-95],[45,0],[0,-94],[45,0],[0,-95],[45,0],[45,-94],[46,0],[0,-95],[90,0],[0,-94],[135,0],[45,-94],[46,0],[0,-95],[45,0],[0,-94],[90,0],[0,-189],[45,0],[0,-189],[0,0],[0,0],[46,0],[0,-94],[45,0],[0,-95],[45,0],[0,-94],[135,0],[0,94],[91,0],[0,95],[90,0],[45,-95],[0,0],[0,-94],[-45,0],[0,-95],[-45,-94],[0,-189],[45,-94],[0,-189],[45,-95],[45,0],[0,-94],[46,-95],[0,-94],[45,0],[0,-94],[45,0],[0,-95],[45,0],[0,-94],[45,0],[0,-189],[-45,0],[0,-95],[-45,0],[0,95],[0,0],[0,94],[-45,-94],[0,94],[0,0],[0,95],[0,0],[0,-95],[0,0],[0,-94],[-45,0],[0,-95],[0,0],[0,-94],[45,0],[0,94],[0,0],[0,-94],[0,0],[0,-94],[0,0],[0,94],[45,0],[0,0],[45,0],[0,-472],[45,0],[0,-95],[-180,0],[0,95],[-46,94],[0,95],[-45,0],[0,94],[45,0],[0,95],[-45,0],[0,-95],[-45,0],[0,189],[0,0],[0,-94],[-45,0],[0,94],[-45,0],[-45,-94],[0,94],[-46,0],[0,189],[-45,0],[0,189],[45,0],[0,0],[0,0],[46,94],[0,0],[45,0],[0,0],[-45,95],[-46,0],[0,-95],[-45,0],[0,189],[45,0],[0,94],[0,0],[0,95],[-90,0],[0,94],[-90,0],[0,95],[-45,0],[45,-95],[45,0],[0,-94],[0,0],[0,-95],[90,0],[-45,-94],[0,0],[0,-94],[-45,0],[0,-95],[0,0],[0,-94],[-45,0],[0,94],[-45,0],[45,95],[-45,0],[0,-95],[45,0],[0,-94],[45,0],[0,-95],[0,0],[0,-94],[-45,0],[0,94],[0,0],[0,-94],[-45,94],[-91,0],[0,95],[0,0],[0,94],[0,0],[0,0],[0,0],[0,95],[-45,0],[0,-95],[-45,0],[0,95],[0,0],[0,-95],[45,0],[0,-94],[45,0],[0,-95],[-135,0],[0,95],[-46,0],[0,94],[-45,95],[0,188],[-45,0],[0,95],[0,0],[0,94],[-45,0],[0,-94],[-45,94],[-45,0],[0,95],[-181,0],[0,94],[-45,0],[0,-94],[-45,0],[0,94],[-181,0],[0,95],[45,0],[0,94],[136,0],[0,94],[45,0],[0,95],[45,0],[0,94],[0,0],[0,95],[-90,0],[0,-95],[45,0],[0,0],[0,0],[0,-94],[-90,0],[0,-95],[-91,0],[0,0],[-45,0],[0,0],[-45,0],[0,-283],[-90,0],[0,95],[45,94],[0,94],[45,0],[0,95],[-45,0],[0,189]],[[92366,2172],[0,0],[0,0],[0,0],[0,0],[0,0],[0,0],[0,0],[0,0],[0,0],[0,0],[0,0],[0,0],[0,0],[0,0],[0,0],[0,0],[0,0],[0,0],[0,0],[0,0],[0,0],[0,0],[0,0],[0,0],[0,0],[0,0],[0,0],[0,0],[0,0],[0,0],[0,0],[0,0],[0,0],[0,0],[0,0],[0,0],[0,0],[0,0],[0,0],[0,0],[0,0],[0,0],[0,0],[0,0],[0,0],[0,0],[0,0],[0,0],[0,0],[0,0],[0,0],[0,0],[0,0],[0,0],[0,0],[0,0],[0,0],[0,0],[0,0],[0,0],[0,0],[0,0],[0,0],[0,0],[0,0],[0,0],[0,0],[0,0],[0,0],[0,0],[0,0],[0,0],[0,0],[0,0],[0,0],[0,0],[0,0],[0,0],[0,0],[0,0],[0,0],[0,0],[0,0],[0,0],[0,0],[0,0],[0,0],[0,0],[0,0],[0,0],[0,0],[0,0],[0,0],[0,0],[0,0],[0,0],[0,0],[0,0],[0,0],[0,0],[0,0],[0,0],[0,0],[0,0],[0,0],[0,0]],[[92366,2361],[-45,0]],[[92276,2361],[0,-95]],[[92230,2455],[-45,0],[45,0]],[[19828,67705],[2710,0]],[[22538,67705],[0,-850],[91,0],[0,-2455]],[[22629,64400],[-2846,0]],[[19783,64400],[0,94],[45,0],[0,95],[-45,0],[0,188],[45,95],[45,189],[0,283],[-45,0],[0,94],[-45,0],[0,378],[45,95],[0,94],[-45,0],[0,94],[-90,0],[0,95],[-45,0],[0,189],[45,94],[45,0],[0,95],[45,0],[0,94],[90,0],[0,94],[46,0],[0,95],[-46,0],[0,283],[-45,0],[0,189],[45,0],[-45,94],[-45,95],[0,94],[45,0],[0,95]],[[22403,81680],[0,0],[0,0],[0,0],[0,0],[0,0],[0,0],[0,0],[0,0],[0,0],[0,0]],[[22448,81680],[0,-94],[-45,0]],[[22403,81680],[-45,0],[45,0]],[[22403,81680],[0,0],[0,0],[0,0],[0,0],[0,0],[0,0],[0,0],[0,0],[0,0]],[[22312,81774],[0,0],[0,0],[0,0],[0,0],[0,0],[0,0],[0,0],[0,0]],[[22764,82247],[0,0],[0,0],[0,0],[0,0]],[[22900,82341],[45,-94],[45,0],[0,-95],[45,-94],[45,-95],[45,-94],[0,0],[-45,94],[-45,0],[0,95],[0,0],[-45,94],[-45,0],[0,95],[-45,94]],[[22900,82341],[-46,0]],[[22854,82341],[0,94],[46,0],[0,-94]],[[22764,82435],[45,0]],[[22809,82435],[0,0]],[[22809,82435],[0,-94],[0,0],[45,-94]],[[22854,82247],[-45,0]],[[22809,82247],[-45,0],[0,94],[-90,0],[45,-94],[-45,0],[0,-95],[-45,95],[0,0],[-46,0],[0,-95],[0,0],[0,-94],[-45,94],[0,-94],[45,0],[0,-95],[-45,95],[0,-95],[-45,0],[0,95],[-45,0],[0,-95]],[[22448,81963],[-45,0]],[[22403,81963],[-45,0],[0,-94],[45,94]],[[22403,81963],[-45,-94],[-46,-95],[0,0],[46,-94],[0,0],[-46,-94],[46,0],[0,-95],[-46,0],[0,-94]],[[22312,81397],[0,0]],[[22312,81397],[46,0],[-46,-95],[-135,0],[-90,95],[-46,-95],[0,95],[-90,0]],[[21951,81491],[0,-94]],[[21951,81397],[-45,94],[0,850],[-90,94],[-181,-94],[-90,94],[0,-94],[-226,0],[-45,94],[-2801,0]],[[18473,82435],[0,3211],[-45,0],[0,1983],[45,94],[0,378],[-45,0],[0,1228],[45,189],[0,94],[0,0],[0,1794],[-90,0],[0,2455],[-45,0],[0,850],[-45,0],[0,1605],[45,0],[-45,95],[45,0],[0,3588],[90,0],[316,-94],[91,0],[135,94],[0,-189],[90,0],[91,-94],[90,-95],[45,0],[587,-377],[91,-95],[316,95],[135,-95],[0,-378],[-226,0],[-90,-94],[0,-94],[-45,-95],[0,-94],[90,-189],[497,0],[181,94],[135,0],[46,-94],[45,-95],[45,0],[0,-94],[90,-94],[0,-189],[-90,-189],[45,-189],[90,-189],[46,-94],[0,-95],[45,0],[0,-94],[45,0],[0,-95],[90,-188],[45,-95],[0,-189],[46,0],[0,-94],[45,0],[0,-95],[45,0],[0,95],[90,0],[0,94],[45,-94],[0,94],[226,0],[45,95],[0,94],[-90,0],[0,189],[-45,0],[0,94],[45,189],[-90,95],[45,0],[45,189],[136,94],[361,0],[0,94],[90,0],[45,95],[46,-95],[90,0],[135,-94],[46,0],[0,94],[90,0],[45,-94],[0,-189],[90,0],[91,-94],[45,0],[-45,-95],[0,-377],[45,-95],[45,0],[0,-94],[45,0],[0,-95],[45,95],[91,0],[0,-95],[-45,0],[0,-94],[135,0],[0,94],[181,0],[45,-94],[0,-95],[45,0],[45,-94],[226,0],[45,-94],[0,-5005],[45,-94],[0,-6799],[-45,0],[0,-95],[-90,0],[0,0],[-90,0],[0,-94],[-46,0],[0,-95],[-135,0],[0,-94],[-45,0],[-46,-94],[-45,0],[0,-95],[-90,0],[-45,-94],[-45,0],[-91,-95],[-45,-94],[-45,0],[0,-95],[-90,0],[0,-94],[-91,0],[0,-94],[-45,0],[-45,-95],[-45,0],[0,-94],[-136,0],[0,-189],[-45,0],[0,-95]],[[70008,24457],[0,378]],[[70008,24835],[0,2266]],[[71183,27856],[1355,0]],[[72538,27856],[0,-850]],[[72538,27006],[0,-1605],[-497,0],[0,-94],[-181,0],[0,-661],[-361,0]],[[71544,27856],[0,0],[0,0],[0,0],[0,0],[0,0],[0,0],[0,0],[0,0],[0,0],[0,0],[0,0],[0,0],[0,0]],[[11292,68838],[-497,0],[0,755],[-1671,0]],[[9124,69593],[0,1700],[-45,0],[0,1605]],[[9079,72898],[0,95]],[[9079,72993],[2981,0],[0,94],[813,0]],[[12873,73087],[135,0],[0,-189]],[[13053,72898],[-45,0]],[[13008,72898],[0,-94],[45,0],[0,-95],[45,0],[0,-94],[181,0],[0,-94],[-45,0],[0,-189],[45,0],[0,-95],[45,-94],[90,0],[-45,-95],[-45,0],[0,-566],[45,0],[0,-95],[45,0],[0,-94],[46,0],[0,-189],[45,0],[0,-94],[45,0]],[[13550,71010],[0,-378],[45,0],[0,-283],[45,0],[0,-95],[91,0],[0,-94],[45,0],[0,-189],[90,0],[0,-94],[45,0],[0,-95],[46,0],[45,95],[0,-189]],[[14002,69688],[-45,0],[0,-95],[-46,0],[0,-189],[-45,0],[0,-94],[0,0],[0,-94],[0,0],[0,-95],[-45,0],[0,-94],[0,0],[0,-95],[-90,0],[0,-94],[-45,0],[-46,-95],[-135,-188],[-91,0],[0,188],[-180,0],[0,-94],[-181,0],[0,-94],[0,0],[0,-189],[-542,0],[0,472],[-1174,0]],[[11337,68838],[-45,0]],[[69873,30595],[497,0]],[[70415,30595],[-45,0]],[[70370,30595],[0,94]],[[70415,30689],[-45,0]],[[70370,30689],[0,94],[-45,0],[0,95]],[[70279,30878],[46,0]],[[70325,30878],[0,94],[-46,0],[0,189],[-45,0],[0,95],[949,0]],[[71183,31256],[0,-3400]],[[71183,27856],[-136,0],[0,-755],[-1039,0]],[[70008,27101],[0,755],[-180,0]],[[69828,27856],[0,2550],[45,189]],[[3975,75353],[0,-849],[90,0],[0,-1606]],[[4065,72898],[0,-1605]],[[4065,71293],[-2665,0]],[[1400,71293],[-45,94],[-45,95],[45,0],[0,283],[45,0],[0,95],[45,0],[46,94],[45,0],[45,94],[45,0],[45,95],[91,94],[45,95],[45,0],[45,94],[90,95],[91,0],[0,94],[90,0],[45,94],[45,95],[0,94],[46,0],[0,95],[45,0],[0,189],[90,0],[0,94],[45,0],[0,94],[45,0],[0,95],[46,0],[0,189],[45,0],[0,661],[0,0],[0,94],[45,0],[0,283],[-45,0],[0,567],[0,0],[0,94],[-45,0]],[[26061,56090],[0,0],[0,0],[0,0],[0,0],[0,0]],[[25248,56562],[-45,0],[0,189],[45,0],[0,189],[45,0],[0,94],[45,0],[0,95],[46,94],[-46,0],[0,95],[-45,0],[0,189],[-45,0],[0,188],[-135,0],[0,95],[-91,0],[0,189],[46,0],[0,189]],[[25022,58168],[46,0]],[[25068,58168],[0,94],[45,0],[0,94],[135,0],[0,95],[90,0],[0,94]],[[25384,58545],[-46,0]],[[25338,58545],[0,95],[46,0],[0,3305]],[[25384,61945],[1626,0]],[[27010,61945],[0,-1228],[45,-94],[-45,-95],[45,0],[0,-378],[-45,-188],[45,-95],[-45,0],[0,-1227],[90,0],[0,-1606],[-90,0],[0,95],[-46,0],[0,-95],[-45,95],[-45,0],[0,-189],[-90,0],[0,-189],[-45,95],[-91,0],[-45,94],[-90,0],[0,-94],[-181,0],[0,-95],[-45,0],[0,-94],[-45,0],[0,-378],[45,0],[0,-94],[45,0],[0,-95],[-497,0],[0,189],[-90,0],[0,94],[-226,0],[0,95],[-271,0],[0,94]],[[70008,24457],[0,94]],[[70008,24551],[317,0],[90,95]],[[70415,24551],[0,95]],[[70415,24646],[406,0],[0,94],[46,0],[0,95],[45,0],[45,-95]],[[71002,24740],[-45,0]],[[70957,24740],[-45,-94],[587,0]],[[71499,24646],[0,-756],[271,0],[-45,-661],[0,-1699],[-45,-95],[45,-94],[-271,0],[-45,-95],[0,-755],[-136,0],[0,94],[-1129,0]],[[70144,20585],[0,1417],[-407,0],[0,661]],[[69737,22663],[181,0],[0,1227],[45,95],[0,472]],[[69963,24457],[-45,0]],[[69918,24457],[90,0]],[[62014,23324],[768,0],[0,-661]],[[62782,22663],[0,-1889],[361,0],[0,-944]],[[63143,19830],[0,-283],[-181,0]],[[62962,19547],[-1309,0]],[[61653,19547],[0,944],[45,94],[0,95],[-271,0]],[[61427,20680],[0,472],[45,94],[0,850],[45,0],[0,756],[45,94],[0,189]],[[61517,23135],[45,0]],[[61562,23135],[0,94]],[[61562,23229],[316,0],[46,95],[90,0]],[[36585,74220],[-587,0],[0,-377],[-542,0],[0,377],[-3343,0]],[[32113,74220],[0,756],[497,0],[0,3021],[91,0],[45,-94],[90,0],[407,-189],[180,0],[46,-94],[316,-95],[90,0],[45,-94],[136,0],[271,-95],[45,-94],[181,0],[90,-95],[90,0],[271,-94],[45,0],[46,-94],[406,-95],[45,0],[136,-94],[135,-95],[181,0],[45,-94],[136,0],[45,-95],[180,0],[136,-188],[135,-95],[46,0],[90,-94],[45,0],[181,-189],[45,0],[45,-95],[0,-849],[-542,0],[0,-756]],[[39927,45325],[0,-2172]],[[39927,43153],[0,-755],[46,0],[0,-378]],[[39973,42020],[-1130,0],[-316,95],[-90,-95],[-632,0],[0,3305],[1083,0]],[[57723,14636],[678,0],[0,-94],[496,0]],[[58897,14542],[46,0],[180,-95],[362,0]],[[59485,14447],[0,-661],[-46,-188],[0,-850],[-45,-189],[0,-756],[-45,-188],[0,-95]],[[59349,11426],[0,94]],[[59349,11520],[-723,0],[0,95],[-406,0]],[[58220,11615],[0,94],[-45,0],[45,94],[-407,0]],[[57813,11803],[0,850],[46,95],[0,1133],[45,94],[0,284],[-91,0],[0,-95],[-45,0],[0,283],[-45,95],[0,94]],[[23035,76675],[2258,0]],[[25293,76675],[0,-1699],[45,0],[0,-3211],[-2213,0],[0,3211],[-90,0],[0,1699]],[[39431,48630],[0,1700],[90,0],[0,1605]],[[39521,51935],[1084,0]],[[40605,51935],[542,0]],[[41147,51935],[0,-1605],[-90,0],[0,-1700]],[[40244,51935],[0,0],[0,0],[0,0],[0,0]],[[69647,11142],[45,284],[0,189],[-451,0],[0,283],[-91,0],[45,189],[-90,0],[0,1133],[45,94]],[[69150,13314],[45,0],[0,95],[46,94],[0,189],[271,0],[0,-94],[225,0],[0,472],[-45,0],[0,472],[45,0],[0,94],[768,0],[45,-94],[271,0],[0,661],[91,0],[0,-189],[180,0],[0,-94],[91,0],[0,-189],[135,0],[0,-95],[362,0],[0,189],[90,0],[0,-283],[632,0],[45,-95],[317,0],[0,-283],[-46,0],[0,-94],[-45,0],[0,-95],[-45,0],[0,-94],[-45,0],[0,-95],[-45,0],[0,-94],[-45,0],[0,-94],[-46,0],[0,-95],[-45,-94],[0,-95],[-45,0],[-45,-94],[-181,0],[0,-95],[-45,0],[0,-94],[-45,0],[0,-94],[-45,0],[0,-189],[-271,0],[0,-95],[-136,0],[0,-94],[-45,0],[0,-95],[-90,0],[0,-94],[-91,0],[0,-94],[-135,0],[-90,188],[0,189],[-46,0],[0,95],[-45,94],[-45,95],[-135,0],[-46,-95],[-45,0],[0,-94],[-45,0],[0,-95],[-45,0],[0,-94],[-90,0],[0,-95],[-91,0],[0,-94],[-90,-94],[0,-284],[-45,-189],[0,-188],[-136,0],[0,94],[-45,0],[-45,-94],[-45,0],[0,94],[-181,0],[-45,-94],[-45,0],[0,-95],[-45,0],[0,-189],[45,0],[0,-189],[-181,0]],[[60930,41454],[316,0],[181,94]],[[61427,41548],[0,-1322],[45,-94],[0,-1889],[-136,0],[0,-94],[-1987,0],[0,-95],[-542,0],[0,3305],[903,0],[91,95],[1129,0]],[[60569,41454],[0,0],[0,0],[0,0],[0,0],[0,0],[0,0],[0,0]],[[41011,45420],[0,0],[0,0],[0,0],[0,0],[0,0],[0,0],[0,0],[0,0],[0,0],[0,0],[0,0]],[[41011,47686],[0,0],[0,0],[0,0],[0,0],[0,0],[0,0]],[[39431,48630],[1626,0]],[[41057,48630],[0,-472],[-46,0],[0,-2833]],[[41011,45325],[-1084,0]],[[39927,45325],[-1039,0]],[[38888,45325],[0,3400],[497,0],[46,-95]],[[35817,62700],[2755,0],[0,-850]],[[38572,61850],[-587,0],[0,-3305]],[[37985,58545],[-677,0]],[[35817,58545],[0,4155]],[[34101,58640],[135,0],[136,-95],[1445,0]],[[35817,58545],[1491,0]],[[37308,58545],[0,-2455],[-3207,0],[0,2550]],[[3930,81113],[0,-3305],[90,0],[0,-283],[-45,-94],[0,-1228]],[[3975,76203],[0,-850]],[[3975,75353],[-1400,0]],[[2575,75353],[0,95],[45,94],[0,95],[45,0],[0,283],[45,0],[-45,94],[0,189],[-45,0],[0,95],[0,0],[0,188],[-45,0],[0,378],[-46,0],[0,189],[0,0],[0,94],[0,0],[0,95],[-45,0],[0,189],[45,0],[0,94],[0,0],[0,95],[-45,0],[0,94],[45,0],[-45,94],[0,95],[0,0],[0,378],[-45,0],[0,94],[-45,0],[0,94],[-136,0],[0,95],[0,0],[0,94],[-90,0],[0,189],[0,0],[0,95],[-45,0],[0,94],[-90,0],[0,94],[0,0],[0,95],[0,0],[0,94],[-46,0],[0,-94],[-45,0],[0,94],[0,0],[0,95],[0,0],[0,94],[0,0],[45,95],[-90,0],[0,94],[0,0],[-45,94],[45,0],[-45,95],[0,0],[0,94],[45,0],[0,0],[-45,0],[0,95],[0,0],[0,0],[-45,94],[0,0],[0,95],[45,0],[0,0],[-45,0],[0,94],[0,0],[0,189],[45,-95],[0,95],[-45,0],[0,94],[-45,-94],[0,94],[45,0],[0,95],[-45,0],[0,94],[-46,0],[0,95],[0,0],[0,94],[-45,0],[0,0],[0,0],[0,0],[-45,0],[0,94]],[[1626,81113],[2304,0]],[[40153,34749],[181,0],[0,95],[858,0],[0,-378]],[[41192,34466],[0,-472],[542,0],[0,-755],[542,0],[0,-850],[1174,0]],[[43450,32389],[0,-1606]],[[43450,30783],[-1445,0],[-45,-94],[-678,0],[0,-755],[-90,0],[-135,-95],[-813,0]],[[40244,29839],[0,283],[-46,95],[0,2077]],[[40198,32294],[0,756],[-45,94],[0,1605]],[[30849,62794],[1445,0],[45,-94],[0,94],[46,-94],[451,0],[91,94],[45,0],[45,-94]],[[33017,62700],[-45,-94],[0,-850],[45,-95],[0,-566],[497,0],[0,-1133],[45,-95],[0,-1227]],[[33559,58640],[-2710,0],[0,4154]],[[62014,33805],[0,-566],[45,-284],[0,-283]],[[62059,32672],[0,-283],[-45,0],[0,-2078]],[[62014,30311],[0,-755]],[[62014,29556],[-2078,0]],[[59936,29556],[0,2266]],[[59936,31822],[0,95]],[[59936,31917],[45,0],[0,-95],[46,0],[0,95],[45,0],[0,94],[180,0],[0,94],[46,0],[45,95],[45,0],[0,94],[135,0],[0,95],[46,94],[45,0],[0,95],[90,0],[0,377],[45,0],[45,95],[45,94],[91,0],[45,95],[90,0],[0,94],[91,0],[0,94],[45,0],[0,95],[45,0],[0,94],[45,0],[0,95],[45,94],[678,0]]]}\"}}, {\"mode\": \"vega-lite\"});\n",
       "</script>"
      ],
      "text/plain": [
       "alt.Chart(...)"
      ]
     },
     "execution_count": 28,
     "metadata": {},
     "output_type": "execute_result"
    }
   ],
   "source": [
    "topo.to_alt().properties(title='County Topology')"
   ]
  },
  {
   "cell_type": "markdown",
   "metadata": {},
   "source": [
    "***\n",
    "\n",
    "## Part 3: City Geoportals GeoJSON"
   ]
  },
  {
   "cell_type": "markdown",
   "metadata": {},
   "source": [
    "### Format city name in city geoportals spreadsheet `allCities.csv`"
   ]
  },
  {
   "cell_type": "code",
   "execution_count": 29,
   "metadata": {
    "scrolled": true
   },
   "outputs": [
    {
     "data": {
      "text/html": [
       "<div>\n",
       "<style scoped>\n",
       "    .dataframe tbody tr th:only-of-type {\n",
       "        vertical-align: middle;\n",
       "    }\n",
       "\n",
       "    .dataframe tbody tr th {\n",
       "        vertical-align: top;\n",
       "    }\n",
       "\n",
       "    .dataframe thead th {\n",
       "        text-align: right;\n",
       "    }\n",
       "</style>\n",
       "<table border=\"1\" class=\"dataframe\">\n",
       "  <thead>\n",
       "    <tr style=\"text-align: right;\">\n",
       "      <th></th>\n",
       "      <th>cityCode</th>\n",
       "      <th>City</th>\n",
       "      <th>State</th>\n",
       "      <th>Title</th>\n",
       "      <th>sourceURL</th>\n",
       "      <th>btaaURL</th>\n",
       "      <th>centerX</th>\n",
       "      <th>centerY</th>\n",
       "    </tr>\n",
       "  </thead>\n",
       "  <tbody>\n",
       "    <tr>\n",
       "      <th>0</th>\n",
       "      <td>07c-02</td>\n",
       "      <td>Ann Arbor</td>\n",
       "      <td>Michigan</td>\n",
       "      <td>Ann Arbor Data Catalog</td>\n",
       "      <td>https://www.a2gov.org/services/data/Pages/defa...</td>\n",
       "      <td>https://geo.btaa.org/?q=07c-02</td>\n",
       "      <td>-83.74</td>\n",
       "      <td>42.27</td>\n",
       "    </tr>\n",
       "    <tr>\n",
       "      <th>1</th>\n",
       "      <td>11c-01-3</td>\n",
       "      <td>Cincinnati</td>\n",
       "      <td>Ohio</td>\n",
       "      <td>ArcGIS REST Services Directory for Cincinnati,...</td>\n",
       "      <td>https://cagisonline.hamilton-co.org/arcgis/res...</td>\n",
       "      <td>https://geo.btaa.org/?q=11c-01-3</td>\n",
       "      <td>-84.54</td>\n",
       "      <td>39.17</td>\n",
       "    </tr>\n",
       "    <tr>\n",
       "      <th>2</th>\n",
       "      <td>11c-01-2</td>\n",
       "      <td>Cincinnati</td>\n",
       "      <td>Ohio</td>\n",
       "      <td>Cincinnati Area Geographic Information Systems...</td>\n",
       "      <td>http://cagis.org/Opendata/?</td>\n",
       "      <td>https://geo.btaa.org/?q=11c-01-2</td>\n",
       "      <td>-84.54</td>\n",
       "      <td>39.17</td>\n",
       "    </tr>\n",
       "    <tr>\n",
       "      <th>3</th>\n",
       "      <td>10c-02</td>\n",
       "      <td>Hudson</td>\n",
       "      <td>Wisconsin</td>\n",
       "      <td>City Maps of Hudson, WI</td>\n",
       "      <td>https://hudsonwi.gov/475/City-Maps</td>\n",
       "      <td>https://geo.btaa.org/?q=10c-02</td>\n",
       "      <td>-92.73</td>\n",
       "      <td>44.96</td>\n",
       "    </tr>\n",
       "    <tr>\n",
       "      <th>4</th>\n",
       "      <td>04c-02</td>\n",
       "      <td>Baltimore</td>\n",
       "      <td>Maryland</td>\n",
       "      <td>City of Baltimore GIS Open Data</td>\n",
       "      <td>http://gis-baltimore.opendata.arcgis.com</td>\n",
       "      <td>https://geo.btaa.org/?q=04c-02</td>\n",
       "      <td>-76.62</td>\n",
       "      <td>39.28</td>\n",
       "    </tr>\n",
       "  </tbody>\n",
       "</table>\n",
       "</div>"
      ],
      "text/plain": [
       "   cityCode        City      State  \\\n",
       "0    07c-02   Ann Arbor   Michigan   \n",
       "1  11c-01-3  Cincinnati       Ohio   \n",
       "2  11c-01-2  Cincinnati       Ohio   \n",
       "3    10c-02      Hudson  Wisconsin   \n",
       "4    04c-02   Baltimore   Maryland   \n",
       "\n",
       "                                               Title  \\\n",
       "0                             Ann Arbor Data Catalog   \n",
       "1  ArcGIS REST Services Directory for Cincinnati,...   \n",
       "2  Cincinnati Area Geographic Information Systems...   \n",
       "3                            City Maps of Hudson, WI   \n",
       "4                    City of Baltimore GIS Open Data   \n",
       "\n",
       "                                           sourceURL  \\\n",
       "0  https://www.a2gov.org/services/data/Pages/defa...   \n",
       "1  https://cagisonline.hamilton-co.org/arcgis/res...   \n",
       "2                        http://cagis.org/Opendata/?   \n",
       "3                 https://hudsonwi.gov/475/City-Maps   \n",
       "4           http://gis-baltimore.opendata.arcgis.com   \n",
       "\n",
       "                            btaaURL  centerX  centerY  \n",
       "0    https://geo.btaa.org/?q=07c-02   -83.74    42.27  \n",
       "1  https://geo.btaa.org/?q=11c-01-3   -84.54    39.17  \n",
       "2  https://geo.btaa.org/?q=11c-01-2   -84.54    39.17  \n",
       "3    https://geo.btaa.org/?q=10c-02   -92.73    44.96  \n",
       "4    https://geo.btaa.org/?q=04c-02   -76.62    39.28  "
      ]
     },
     "execution_count": 29,
     "metadata": {},
     "output_type": "execute_result"
    }
   ],
   "source": [
    "df = pd.read_csv(citygeoportals)\n",
    "## Calculate city coordinates and round to 2 decimal places \n",
    "df = pd.concat([df, df['Bounding Box'].str.split(',', expand=True).astype(float)], axis=1).rename(\n",
    "    columns={0:'minX', 1:'minY', 2:'maxX', 3:'maxY'})\n",
    "df['centerX'] = round((df['minX'] + df['maxX']) / 2, 2)\n",
    "df['centerY'] = round((df['minY'] + df['maxY']) / 2, 2)\n",
    "df_clean = df.drop(columns =['minX', 'minY', 'maxX', 'maxY', 'Bounding Box'])\n",
    "df_clean.head()"
   ]
  },
  {
   "cell_type": "markdown",
   "metadata": {},
   "source": [
    "### Etract total records number from BTAA Geoportal search page"
   ]
  },
  {
   "cell_type": "code",
   "execution_count": 30,
   "metadata": {},
   "outputs": [],
   "source": [
    "df_clean['totalRecords'] = totalRecords(df_clean)"
   ]
  },
  {
   "cell_type": "markdown",
   "metadata": {},
   "source": [
    "### Inspect the numinum number of total records\n",
    "If it equals to 0, meaning the landing page is 404 Not Found. Go back to check if the identifier is still active. "
   ]
  },
  {
   "cell_type": "code",
   "execution_count": 31,
   "metadata": {},
   "outputs": [
    {
     "name": "stdout",
     "output_type": "stream",
     "text": [
      "> State Geoportal Codes all valid!\n"
     ]
    }
   ],
   "source": [
    "check_totalRecords(df_clean)"
   ]
  },
  {
   "cell_type": "markdown",
   "metadata": {},
   "source": [
    "### Group dataframe rows into list by geoportal sites"
   ]
  },
  {
   "cell_type": "code",
   "execution_count": 32,
   "metadata": {},
   "outputs": [
    {
     "name": "stderr",
     "output_type": "stream",
     "text": [
      "/var/folders/h1/wds8r6757dz_4h_l5tz85gyw0000gq/T/ipykernel_29015/890603058.py:8: FutureWarning: Not prepending group keys to the result index of transform-like apply. In the future, the group keys will be included in the index, regardless of whether the applied function returns a like-indexed object.\n",
      "To preserve the previous behavior, use\n",
      "\n",
      "\t>>> .groupby(..., group_keys=False)\n",
      "\n",
      "To adopt the future behavior and silence this warning, use \n",
      "\n",
      "\t>>> .groupby(..., group_keys=True)\n",
      "  df_group = df_clean.groupby(['centerX']).apply(aggregate_to_array).drop_duplicates(subset=['City', 'State'])\n"
     ]
    },
    {
     "data": {
      "text/html": [
       "<div>\n",
       "<style scoped>\n",
       "    .dataframe tbody tr th:only-of-type {\n",
       "        vertical-align: middle;\n",
       "    }\n",
       "\n",
       "    .dataframe tbody tr th {\n",
       "        vertical-align: top;\n",
       "    }\n",
       "\n",
       "    .dataframe thead th {\n",
       "        text-align: right;\n",
       "    }\n",
       "</style>\n",
       "<table border=\"1\" class=\"dataframe\">\n",
       "  <thead>\n",
       "    <tr style=\"text-align: right;\">\n",
       "      <th></th>\n",
       "      <th>cityCode</th>\n",
       "      <th>City</th>\n",
       "      <th>State</th>\n",
       "      <th>Title</th>\n",
       "      <th>sourceURL</th>\n",
       "      <th>btaaURL</th>\n",
       "      <th>centerX</th>\n",
       "      <th>centerY</th>\n",
       "      <th>totalRecords</th>\n",
       "    </tr>\n",
       "  </thead>\n",
       "  <tbody>\n",
       "    <tr>\n",
       "      <th>0</th>\n",
       "      <td>07c-02</td>\n",
       "      <td>Ann Arbor</td>\n",
       "      <td>Michigan</td>\n",
       "      <td>[Ann Arbor Data Catalog]</td>\n",
       "      <td>[https://www.a2gov.org/services/data/Pages/def...</td>\n",
       "      <td>https://geo.btaa.org/?q=07c-02</td>\n",
       "      <td>-83.74</td>\n",
       "      <td>42.27</td>\n",
       "      <td>43</td>\n",
       "    </tr>\n",
       "    <tr>\n",
       "      <th>1</th>\n",
       "      <td>11c-01-3</td>\n",
       "      <td>Cincinnati</td>\n",
       "      <td>Ohio</td>\n",
       "      <td>[ArcGIS REST Services Directory for Cincinnati...</td>\n",
       "      <td>[https://cagisonline.hamilton-co.org/arcgis/re...</td>\n",
       "      <td>https://geo.btaa.org/?q=11c-01-3</td>\n",
       "      <td>-84.54</td>\n",
       "      <td>39.17</td>\n",
       "      <td>14</td>\n",
       "    </tr>\n",
       "    <tr>\n",
       "      <th>3</th>\n",
       "      <td>10c-02</td>\n",
       "      <td>Hudson</td>\n",
       "      <td>Wisconsin</td>\n",
       "      <td>[City Maps of Hudson, WI]</td>\n",
       "      <td>[https://hudsonwi.gov/475/City-Maps]</td>\n",
       "      <td>https://geo.btaa.org/?q=10c-02</td>\n",
       "      <td>-92.73</td>\n",
       "      <td>44.96</td>\n",
       "      <td>159</td>\n",
       "    </tr>\n",
       "    <tr>\n",
       "      <th>4</th>\n",
       "      <td>04c-02</td>\n",
       "      <td>Baltimore</td>\n",
       "      <td>Maryland</td>\n",
       "      <td>[City of Baltimore GIS Open Data, Open Baltimore]</td>\n",
       "      <td>[http://gis-baltimore.opendata.arcgis.com, htt...</td>\n",
       "      <td>https://geo.btaa.org/?q=04c-02</td>\n",
       "      <td>-76.62</td>\n",
       "      <td>39.28</td>\n",
       "      <td>1189</td>\n",
       "    </tr>\n",
       "    <tr>\n",
       "      <th>5</th>\n",
       "      <td>01c-01</td>\n",
       "      <td>Bloomington</td>\n",
       "      <td>Indiana</td>\n",
       "      <td>[City of Bloomington, Indiana Open Data Portal]</td>\n",
       "      <td>[https://data.bloomington.in.gov]</td>\n",
       "      <td>https://geo.btaa.org/?q=01c-01</td>\n",
       "      <td>-86.53</td>\n",
       "      <td>39.17</td>\n",
       "      <td>38</td>\n",
       "    </tr>\n",
       "  </tbody>\n",
       "</table>\n",
       "</div>"
      ],
      "text/plain": [
       "   cityCode         City      State  \\\n",
       "0    07c-02    Ann Arbor   Michigan   \n",
       "1  11c-01-3   Cincinnati       Ohio   \n",
       "3    10c-02       Hudson  Wisconsin   \n",
       "4    04c-02    Baltimore   Maryland   \n",
       "5    01c-01  Bloomington    Indiana   \n",
       "\n",
       "                                               Title  \\\n",
       "0                           [Ann Arbor Data Catalog]   \n",
       "1  [ArcGIS REST Services Directory for Cincinnati...   \n",
       "3                          [City Maps of Hudson, WI]   \n",
       "4  [City of Baltimore GIS Open Data, Open Baltimore]   \n",
       "5    [City of Bloomington, Indiana Open Data Portal]   \n",
       "\n",
       "                                           sourceURL  \\\n",
       "0  [https://www.a2gov.org/services/data/Pages/def...   \n",
       "1  [https://cagisonline.hamilton-co.org/arcgis/re...   \n",
       "3               [https://hudsonwi.gov/475/City-Maps]   \n",
       "4  [http://gis-baltimore.opendata.arcgis.com, htt...   \n",
       "5                  [https://data.bloomington.in.gov]   \n",
       "\n",
       "                            btaaURL  centerX  centerY  totalRecords  \n",
       "0    https://geo.btaa.org/?q=07c-02   -83.74    42.27            43  \n",
       "1  https://geo.btaa.org/?q=11c-01-3   -84.54    39.17            14  \n",
       "3    https://geo.btaa.org/?q=10c-02   -92.73    44.96           159  \n",
       "4    https://geo.btaa.org/?q=04c-02   -76.62    39.28          1189  \n",
       "5    https://geo.btaa.org/?q=01c-01   -86.53    39.17            38  "
      ]
     },
     "execution_count": 32,
     "metadata": {},
     "output_type": "execute_result"
    }
   ],
   "source": [
    "def aggregate_to_array(data):\n",
    "    groupItems = ['Title', 'sourceURL', 'totalRecords']\n",
    "    for i in range(len(groupItems)):\n",
    "        data[groupItems[i]] = np.tile([data[groupItems[i]].values], (data.shape[0], 1)).tolist()\n",
    "    return data\n",
    "\n",
    "## Group by ['City', 'State']\n",
    "df_group = df_clean.groupby(['centerX']).apply(aggregate_to_array).drop_duplicates(subset=['City', 'State'])\n",
    "# sum up the total records if there're multiple geoportals in one city\n",
    "df_group['totalRecords'] = df_group['totalRecords'].apply(lambda x: sum(int(item)for item in x))\n",
    "df_group.head()"
   ]
  },
  {
   "cell_type": "markdown",
   "metadata": {},
   "source": [
    "### Classify the geoportal by total number\n",
    "You may want to adjust the classification method **`Quantiles`** and class number **`k`**. \n",
    "Reference the <a href=\"https://pypi.org/project/mapclassify/\">mapclassify</a>."
   ]
  },
  {
   "cell_type": "code",
   "execution_count": 33,
   "metadata": {
    "scrolled": true
   },
   "outputs": [
    {
     "data": {
      "text/plain": [
       "Quantiles                 \n",
       "\n",
       "     Interval        Count\n",
       "--------------------------\n",
       "[   3.00,   28.67] |     8\n",
       "(  28.67,  125.00] |     7\n",
       "( 125.00, 1189.00] |     8"
      ]
     },
     "execution_count": 33,
     "metadata": {},
     "output_type": "execute_result"
    }
   ],
   "source": [
    "n3 = mapclassify.Quantiles(df_group.totalRecords, k=3)\n",
    "n3"
   ]
  },
  {
   "cell_type": "code",
   "execution_count": 34,
   "metadata": {},
   "outputs": [],
   "source": [
    "cityInterval = list(n3.bins)"
   ]
  },
  {
   "cell_type": "markdown",
   "metadata": {},
   "source": [
    "### Assign different circle radius to each geoportal based on total records class"
   ]
  },
  {
   "cell_type": "code",
   "execution_count": 35,
   "metadata": {},
   "outputs": [],
   "source": [
    "## Size of symbols on map in meters \n",
    "size = [12000, 16000, 22000]\n",
    "## Size of symbols inside legend in pixels\n",
    "legendSize = [12, 18, 28]"
   ]
  },
  {
   "cell_type": "code",
   "execution_count": 36,
   "metadata": {},
   "outputs": [
    {
     "data": {
      "text/html": [
       "<div>\n",
       "<style scoped>\n",
       "    .dataframe tbody tr th:only-of-type {\n",
       "        vertical-align: middle;\n",
       "    }\n",
       "\n",
       "    .dataframe tbody tr th {\n",
       "        vertical-align: top;\n",
       "    }\n",
       "\n",
       "    .dataframe thead th {\n",
       "        text-align: right;\n",
       "    }\n",
       "</style>\n",
       "<table border=\"1\" class=\"dataframe\">\n",
       "  <thead>\n",
       "    <tr style=\"text-align: right;\">\n",
       "      <th></th>\n",
       "      <th>cityCode</th>\n",
       "      <th>City</th>\n",
       "      <th>State</th>\n",
       "      <th>Title</th>\n",
       "      <th>sourceURL</th>\n",
       "      <th>btaaURL</th>\n",
       "      <th>centerX</th>\n",
       "      <th>centerY</th>\n",
       "      <th>totalRecords</th>\n",
       "      <th>Size</th>\n",
       "    </tr>\n",
       "  </thead>\n",
       "  <tbody>\n",
       "    <tr>\n",
       "      <th>0</th>\n",
       "      <td>07c-02</td>\n",
       "      <td>Ann Arbor</td>\n",
       "      <td>Michigan</td>\n",
       "      <td>[Ann Arbor Data Catalog]</td>\n",
       "      <td>[https://www.a2gov.org/services/data/Pages/def...</td>\n",
       "      <td>https://geo.btaa.org/?q=07c-02</td>\n",
       "      <td>-83.74</td>\n",
       "      <td>42.27</td>\n",
       "      <td>43</td>\n",
       "      <td>16000</td>\n",
       "    </tr>\n",
       "    <tr>\n",
       "      <th>1</th>\n",
       "      <td>11c-01-3</td>\n",
       "      <td>Cincinnati</td>\n",
       "      <td>Ohio</td>\n",
       "      <td>[ArcGIS REST Services Directory for Cincinnati...</td>\n",
       "      <td>[https://cagisonline.hamilton-co.org/arcgis/re...</td>\n",
       "      <td>https://geo.btaa.org/?q=11c-01-3</td>\n",
       "      <td>-84.54</td>\n",
       "      <td>39.17</td>\n",
       "      <td>14</td>\n",
       "      <td>12000</td>\n",
       "    </tr>\n",
       "    <tr>\n",
       "      <th>3</th>\n",
       "      <td>10c-02</td>\n",
       "      <td>Hudson</td>\n",
       "      <td>Wisconsin</td>\n",
       "      <td>[City Maps of Hudson, WI]</td>\n",
       "      <td>[https://hudsonwi.gov/475/City-Maps]</td>\n",
       "      <td>https://geo.btaa.org/?q=10c-02</td>\n",
       "      <td>-92.73</td>\n",
       "      <td>44.96</td>\n",
       "      <td>159</td>\n",
       "      <td>22000</td>\n",
       "    </tr>\n",
       "    <tr>\n",
       "      <th>4</th>\n",
       "      <td>04c-02</td>\n",
       "      <td>Baltimore</td>\n",
       "      <td>Maryland</td>\n",
       "      <td>[City of Baltimore GIS Open Data, Open Baltimore]</td>\n",
       "      <td>[http://gis-baltimore.opendata.arcgis.com, htt...</td>\n",
       "      <td>https://geo.btaa.org/?q=04c-02</td>\n",
       "      <td>-76.62</td>\n",
       "      <td>39.28</td>\n",
       "      <td>1189</td>\n",
       "      <td>22000</td>\n",
       "    </tr>\n",
       "    <tr>\n",
       "      <th>5</th>\n",
       "      <td>01c-01</td>\n",
       "      <td>Bloomington</td>\n",
       "      <td>Indiana</td>\n",
       "      <td>[City of Bloomington, Indiana Open Data Portal]</td>\n",
       "      <td>[https://data.bloomington.in.gov]</td>\n",
       "      <td>https://geo.btaa.org/?q=01c-01</td>\n",
       "      <td>-86.53</td>\n",
       "      <td>39.17</td>\n",
       "      <td>38</td>\n",
       "      <td>16000</td>\n",
       "    </tr>\n",
       "  </tbody>\n",
       "</table>\n",
       "</div>"
      ],
      "text/plain": [
       "   cityCode         City      State  \\\n",
       "0    07c-02    Ann Arbor   Michigan   \n",
       "1  11c-01-3   Cincinnati       Ohio   \n",
       "3    10c-02       Hudson  Wisconsin   \n",
       "4    04c-02    Baltimore   Maryland   \n",
       "5    01c-01  Bloomington    Indiana   \n",
       "\n",
       "                                               Title  \\\n",
       "0                           [Ann Arbor Data Catalog]   \n",
       "1  [ArcGIS REST Services Directory for Cincinnati...   \n",
       "3                          [City Maps of Hudson, WI]   \n",
       "4  [City of Baltimore GIS Open Data, Open Baltimore]   \n",
       "5    [City of Bloomington, Indiana Open Data Portal]   \n",
       "\n",
       "                                           sourceURL  \\\n",
       "0  [https://www.a2gov.org/services/data/Pages/def...   \n",
       "1  [https://cagisonline.hamilton-co.org/arcgis/re...   \n",
       "3               [https://hudsonwi.gov/475/City-Maps]   \n",
       "4  [http://gis-baltimore.opendata.arcgis.com, htt...   \n",
       "5                  [https://data.bloomington.in.gov]   \n",
       "\n",
       "                            btaaURL  centerX  centerY  totalRecords   Size  \n",
       "0    https://geo.btaa.org/?q=07c-02   -83.74    42.27            43  16000  \n",
       "1  https://geo.btaa.org/?q=11c-01-3   -84.54    39.17            14  12000  \n",
       "3    https://geo.btaa.org/?q=10c-02   -92.73    44.96           159  22000  \n",
       "4    https://geo.btaa.org/?q=04c-02   -76.62    39.28          1189  22000  \n",
       "5    https://geo.btaa.org/?q=01c-01   -86.53    39.17            38  16000  "
      ]
     },
     "execution_count": 36,
     "metadata": {},
     "output_type": "execute_result"
    }
   ],
   "source": [
    "def totalRecords_size(row):\n",
    "    if row['totalRecords'] <= cityInterval[0]:\n",
    "        return size[0]\n",
    "    elif row['totalRecords'] > cityInterval[0] and row['totalRecords'] <= cityInterval[1]:\n",
    "        return size[1]\n",
    "    else:\n",
    "        return size[2]\n",
    "\n",
    "## Append a new column with color generated above\n",
    "df_group['Size'] = df_group.apply(totalRecords_size, axis=1)\n",
    "df_group.head()"
   ]
  },
  {
   "cell_type": "markdown",
   "metadata": {},
   "source": [
    "### Create city GeoJSON features"
   ]
  },
  {
   "cell_type": "code",
   "execution_count": 37,
   "metadata": {},
   "outputs": [
    {
     "name": "stdout",
     "output_type": "stream",
     "text": [
      "> Creating city GeoJSON features...\n"
     ]
    }
   ],
   "source": [
    "def create_geojson_features(df):\n",
    "    print('> Creating city GeoJSON features...')\n",
    "    features = []\n",
    "    geojson = {\n",
    "        'type': 'FeatureCollection',\n",
    "        'features': features\n",
    "    }\n",
    "    for _, row in df.iterrows():\n",
    "        feature = {\n",
    "            'type': 'Feature',\n",
    "            'geometry': {\n",
    "                'type':'Point', \n",
    "                'coordinates':[row['centerX'], row['centerY']]\n",
    "            },\n",
    "            'properties': {\n",
    "                'City': row['City'],\n",
    "                'State': row['State'],\n",
    "                'Title': '|'.join([str(elem) for elem in row['Title']]),\n",
    "                'sourceURL': '|'.join([str(elem) for elem in row['sourceURL']]), \n",
    "                'btaaURL': row['btaaURL'],\n",
    "                'totalRecords': row['totalRecords'],\n",
    "                'Size' : row['Size']\n",
    "            }\n",
    "           }\n",
    "\n",
    "        features.append(feature)\n",
    "    return geojson\n",
    "\n",
    "data_geojson = create_geojson_features(df_group)"
   ]
  },
  {
   "cell_type": "markdown",
   "metadata": {},
   "source": [
    "### Write to city GeoJSON file `activecities.json`"
   ]
  },
  {
   "cell_type": "code",
   "execution_count": 38,
   "metadata": {},
   "outputs": [
    {
     "name": "stdout",
     "output_type": "stream",
     "text": [
      "> Creating city GeoJSON file...\n"
     ]
    }
   ],
   "source": [
    "with open(activecities, 'w') as txtfile:\n",
    "    json.dump(data_geojson, txtfile)\n",
    "print('> Creating city GeoJSON file...')"
   ]
  },
  {
   "cell_type": "markdown",
   "metadata": {},
   "source": [
    "### Inspect city GeoJSON"
   ]
  },
  {
   "cell_type": "code",
   "execution_count": 39,
   "metadata": {},
   "outputs": [
    {
     "name": "stdout",
     "output_type": "stream",
     "text": [
      "> Making map...\n"
     ]
    },
    {
     "data": {
      "text/html": [
       "<div style=\"width:100%;\"><div style=\"position:relative;width:100%;height:0;padding-bottom:60%;\"><span style=\"color:#565656\">Make this Notebook Trusted to load map: File -> Trust Notebook</span><iframe srcdoc=\"&lt;!DOCTYPE html&gt;\n",
       "&lt;html&gt;\n",
       "&lt;head&gt;\n",
       "    \n",
       "    &lt;meta http-equiv=&quot;content-type&quot; content=&quot;text/html; charset=UTF-8&quot; /&gt;\n",
       "    \n",
       "        &lt;script&gt;\n",
       "            L_NO_TOUCH = false;\n",
       "            L_DISABLE_3D = false;\n",
       "        &lt;/script&gt;\n",
       "    \n",
       "    &lt;style&gt;html, body {width: 100%;height: 100%;margin: 0;padding: 0;}&lt;/style&gt;\n",
       "    &lt;style&gt;#map {position:absolute;top:0;bottom:0;right:0;left:0;}&lt;/style&gt;\n",
       "    &lt;script src=&quot;https://cdn.jsdelivr.net/npm/leaflet@1.9.3/dist/leaflet.js&quot;&gt;&lt;/script&gt;\n",
       "    &lt;script src=&quot;https://code.jquery.com/jquery-1.12.4.min.js&quot;&gt;&lt;/script&gt;\n",
       "    &lt;script src=&quot;https://cdn.jsdelivr.net/npm/bootstrap@5.2.2/dist/js/bootstrap.bundle.min.js&quot;&gt;&lt;/script&gt;\n",
       "    &lt;script src=&quot;https://cdnjs.cloudflare.com/ajax/libs/Leaflet.awesome-markers/2.0.2/leaflet.awesome-markers.js&quot;&gt;&lt;/script&gt;\n",
       "    &lt;link rel=&quot;stylesheet&quot; href=&quot;https://cdn.jsdelivr.net/npm/leaflet@1.9.3/dist/leaflet.css&quot;/&gt;\n",
       "    &lt;link rel=&quot;stylesheet&quot; href=&quot;https://cdn.jsdelivr.net/npm/bootstrap@5.2.2/dist/css/bootstrap.min.css&quot;/&gt;\n",
       "    &lt;link rel=&quot;stylesheet&quot; href=&quot;https://netdna.bootstrapcdn.com/bootstrap/3.0.0/css/bootstrap.min.css&quot;/&gt;\n",
       "    &lt;link rel=&quot;stylesheet&quot; href=&quot;https://cdn.jsdelivr.net/npm/@fortawesome/fontawesome-free@6.2.0/css/all.min.css&quot;/&gt;\n",
       "    &lt;link rel=&quot;stylesheet&quot; href=&quot;https://cdnjs.cloudflare.com/ajax/libs/Leaflet.awesome-markers/2.0.2/leaflet.awesome-markers.css&quot;/&gt;\n",
       "    &lt;link rel=&quot;stylesheet&quot; href=&quot;https://cdn.jsdelivr.net/gh/python-visualization/folium/folium/templates/leaflet.awesome.rotate.min.css&quot;/&gt;\n",
       "    \n",
       "            &lt;meta name=&quot;viewport&quot; content=&quot;width=device-width,\n",
       "                initial-scale=1.0, maximum-scale=1.0, user-scalable=no&quot; /&gt;\n",
       "            &lt;style&gt;\n",
       "                #map_c22ba708822bcf8113fb2805a0524df4 {\n",
       "                    position: relative;\n",
       "                    width: 100.0%;\n",
       "                    height: 100.0%;\n",
       "                    left: 0.0%;\n",
       "                    top: 0.0%;\n",
       "                }\n",
       "                .leaflet-container { font-size: 1rem; }\n",
       "            &lt;/style&gt;\n",
       "        \n",
       "    \n",
       "                    &lt;style&gt;\n",
       "                        .foliumtooltip {\n",
       "                            \n",
       "                        }\n",
       "                       .foliumtooltip table{\n",
       "                            margin: auto;\n",
       "                        }\n",
       "                        .foliumtooltip tr{\n",
       "                            text-align: left;\n",
       "                        }\n",
       "                        .foliumtooltip th{\n",
       "                            padding: 2px; padding-right: 8px;\n",
       "                        }\n",
       "                    &lt;/style&gt;\n",
       "            \n",
       "&lt;/head&gt;\n",
       "&lt;body&gt;\n",
       "    \n",
       "    \n",
       "            &lt;div class=&quot;folium-map&quot; id=&quot;map_c22ba708822bcf8113fb2805a0524df4&quot; &gt;&lt;/div&gt;\n",
       "        \n",
       "&lt;/body&gt;\n",
       "&lt;script&gt;\n",
       "    \n",
       "    \n",
       "            var map_c22ba708822bcf8113fb2805a0524df4 = L.map(\n",
       "                &quot;map_c22ba708822bcf8113fb2805a0524df4&quot;,\n",
       "                {\n",
       "                    center: [44.0, -90.0],\n",
       "                    crs: L.CRS.EPSG3857,\n",
       "                    zoom: 6,\n",
       "                    zoomControl: true,\n",
       "                    preferCanvas: false,\n",
       "                }\n",
       "            );\n",
       "            L.control.scale().addTo(map_c22ba708822bcf8113fb2805a0524df4);\n",
       "\n",
       "            \n",
       "\n",
       "        \n",
       "    \n",
       "            var tile_layer_e08fe94d9e4e03de5a49886a1e0a1997 = L.tileLayer(\n",
       "                &quot;https://{s}.tile.openstreetmap.org/{z}/{x}/{y}.png&quot;,\n",
       "                {&quot;attribution&quot;: &quot;Data by \\u0026copy; \\u003ca target=\\&quot;_blank\\&quot; href=\\&quot;http://openstreetmap.org\\&quot;\\u003eOpenStreetMap\\u003c/a\\u003e, under \\u003ca target=\\&quot;_blank\\&quot; href=\\&quot;http://www.openstreetmap.org/copyright\\&quot;\\u003eODbL\\u003c/a\\u003e.&quot;, &quot;detectRetina&quot;: false, &quot;maxNativeZoom&quot;: 18, &quot;maxZoom&quot;: 18, &quot;minZoom&quot;: 0, &quot;noWrap&quot;: false, &quot;opacity&quot;: 1, &quot;subdomains&quot;: &quot;abc&quot;, &quot;tms&quot;: false}\n",
       "            ).addTo(map_c22ba708822bcf8113fb2805a0524df4);\n",
       "        \n",
       "    \n",
       "\n",
       "        function geo_json_b6972be5a033ad0169da1c9324de1c88_onEachFeature(feature, layer) {\n",
       "            layer.on({\n",
       "            });\n",
       "        };\n",
       "        var geo_json_b6972be5a033ad0169da1c9324de1c88 = L.geoJson(null, {\n",
       "                onEachFeature: geo_json_b6972be5a033ad0169da1c9324de1c88_onEachFeature,\n",
       "            \n",
       "        });\n",
       "\n",
       "        function geo_json_b6972be5a033ad0169da1c9324de1c88_add (data) {\n",
       "            geo_json_b6972be5a033ad0169da1c9324de1c88\n",
       "                .addData(data)\n",
       "                .addTo(map_c22ba708822bcf8113fb2805a0524df4);\n",
       "        }\n",
       "            geo_json_b6972be5a033ad0169da1c9324de1c88_add({&quot;features&quot;: [{&quot;geometry&quot;: {&quot;coordinates&quot;: [-83.74, 42.27], &quot;type&quot;: &quot;Point&quot;}, &quot;properties&quot;: {&quot;City&quot;: &quot;Ann Arbor&quot;, &quot;Size&quot;: 16000, &quot;State&quot;: &quot;Michigan&quot;, &quot;Title&quot;: &quot;Ann Arbor Data Catalog&quot;, &quot;btaaURL&quot;: &quot;https://geo.btaa.org/?q=07c-02&quot;, &quot;sourceURL&quot;: &quot;https://www.a2gov.org/services/data/Pages/default.aspx&quot;, &quot;totalRecords&quot;: 43}, &quot;type&quot;: &quot;Feature&quot;}, {&quot;geometry&quot;: {&quot;coordinates&quot;: [-84.54, 39.17], &quot;type&quot;: &quot;Point&quot;}, &quot;properties&quot;: {&quot;City&quot;: &quot;Cincinnati&quot;, &quot;Size&quot;: 12000, &quot;State&quot;: &quot;Ohio&quot;, &quot;Title&quot;: &quot;ArcGIS REST Services Directory for Cincinnati, Ohio|Cincinnati Area Geographic Information Systems (CAGIS) File Downloads|Open Data Cincinnati, Ohio&quot;, &quot;btaaURL&quot;: &quot;https://geo.btaa.org/?q=11c-01-3&quot;, &quot;sourceURL&quot;: &quot;https://cagisonline.hamilton-co.org/arcgis/rest/services|http://cagis.org/Opendata/?|http://cagis.org/Opendata/?&quot;, &quot;totalRecords&quot;: 14}, &quot;type&quot;: &quot;Feature&quot;}, {&quot;geometry&quot;: {&quot;coordinates&quot;: [-92.73, 44.96], &quot;type&quot;: &quot;Point&quot;}, &quot;properties&quot;: {&quot;City&quot;: &quot;Hudson&quot;, &quot;Size&quot;: 22000, &quot;State&quot;: &quot;Wisconsin&quot;, &quot;Title&quot;: &quot;City Maps of Hudson, WI&quot;, &quot;btaaURL&quot;: &quot;https://geo.btaa.org/?q=10c-02&quot;, &quot;sourceURL&quot;: &quot;https://hudsonwi.gov/475/City-Maps&quot;, &quot;totalRecords&quot;: 159}, &quot;type&quot;: &quot;Feature&quot;}, {&quot;geometry&quot;: {&quot;coordinates&quot;: [-76.62, 39.28], &quot;type&quot;: &quot;Point&quot;}, &quot;properties&quot;: {&quot;City&quot;: &quot;Baltimore&quot;, &quot;Size&quot;: 22000, &quot;State&quot;: &quot;Maryland&quot;, &quot;Title&quot;: &quot;City of Baltimore GIS Open Data|Open Baltimore&quot;, &quot;btaaURL&quot;: &quot;https://geo.btaa.org/?q=04c-02&quot;, &quot;sourceURL&quot;: &quot;http://gis-baltimore.opendata.arcgis.com|https://data.baltimorecity.gov&quot;, &quot;totalRecords&quot;: 1189}, &quot;type&quot;: &quot;Feature&quot;}, {&quot;geometry&quot;: {&quot;coordinates&quot;: [-86.53, 39.17], &quot;type&quot;: &quot;Point&quot;}, &quot;properties&quot;: {&quot;City&quot;: &quot;Bloomington&quot;, &quot;Size&quot;: 16000, &quot;State&quot;: &quot;Indiana&quot;, &quot;Title&quot;: &quot;City of Bloomington, Indiana Open Data Portal&quot;, &quot;btaaURL&quot;: &quot;https://geo.btaa.org/?q=01c-01&quot;, &quot;sourceURL&quot;: &quot;https://data.bloomington.in.gov&quot;, &quot;totalRecords&quot;: 38}, &quot;type&quot;: &quot;Feature&quot;}, {&quot;geometry&quot;: {&quot;coordinates&quot;: [-87.73, 41.83], &quot;type&quot;: &quot;Point&quot;}, &quot;properties&quot;: {&quot;City&quot;: &quot;Chicago&quot;, &quot;Size&quot;: 22000, &quot;State&quot;: &quot;Illinois&quot;, &quot;Title&quot;: &quot;City of Chicago Data Portal|CMAP (Chicago Metropolitan Agency for Planning) Data Hub&quot;, &quot;btaaURL&quot;: &quot;https://geo.btaa.org/?q=12c-01&quot;, &quot;sourceURL&quot;: &quot;https://data.cityofchicago.org|https://datahub.cmap.illinois.gov&quot;, &quot;totalRecords&quot;: 342}, &quot;type&quot;: &quot;Feature&quot;}, {&quot;geometry&quot;: {&quot;coordinates&quot;: [-93.6, 41.57], &quot;type&quot;: &quot;Point&quot;}, &quot;properties&quot;: {&quot;City&quot;: &quot;Des Moines&quot;, &quot;Size&quot;: 12000, &quot;State&quot;: &quot;Iowa&quot;, &quot;Title&quot;: &quot;City of Des Moines GIS Data&quot;, &quot;btaaURL&quot;: &quot;https://geo.btaa.org/?q=03c-01&quot;, &quot;sourceURL&quot;: &quot;https://www.dsm.city/city_of_des_moines_gis_data&quot;, &quot;totalRecords&quot;: 17}, &quot;type&quot;: &quot;Feature&quot;}, {&quot;geometry&quot;: {&quot;coordinates&quot;: [-77.42, 39.43], &quot;type&quot;: &quot;Point&quot;}, &quot;properties&quot;: {&quot;City&quot;: &quot;Frederick&quot;, &quot;Size&quot;: 22000, &quot;State&quot;: &quot;Maryland&quot;, &quot;Title&quot;: &quot;City of Frederick GIS&quot;, &quot;btaaURL&quot;: &quot;https://geo.btaa.org/?q=04c-04&quot;, &quot;sourceURL&quot;: &quot;https://www.cityoffrederick.com/523/SpiresGIS&quot;, &quot;totalRecords&quot;: 128}, &quot;type&quot;: &quot;Feature&quot;}, {&quot;geometry&quot;: {&quot;coordinates&quot;: [-98.36, 40.92], &quot;type&quot;: &quot;Point&quot;}, &quot;properties&quot;: {&quot;City&quot;: &quot;Grand Island&quot;, &quot;Size&quot;: 16000, &quot;State&quot;: &quot;Nebraska&quot;, &quot;Title&quot;: &quot;City of Grand Island Public GIS Data Portal&quot;, &quot;btaaURL&quot;: &quot;https://geo.btaa.org/?q=13c-02&quot;, &quot;sourceURL&quot;: &quot;https://data-cityofgi.opendata.arcgis.com/&quot;, &quot;totalRecords&quot;: 51}, &quot;type&quot;: &quot;Feature&quot;}, {&quot;geometry&quot;: {&quot;coordinates&quot;: [-89.41, 43.09], &quot;type&quot;: &quot;Point&quot;}, &quot;properties&quot;: {&quot;City&quot;: &quot;Madison&quot;, &quot;Size&quot;: 22000, &quot;State&quot;: &quot;Maryland&quot;, &quot;Title&quot;: &quot;City of Madison, WI GIS Open Data Portal&quot;, &quot;btaaURL&quot;: &quot;https://geo.btaa.org/?q=10c-03&quot;, &quot;sourceURL&quot;: &quot;https://data-cityofmadison.opendata.arcgis.com&quot;, &quot;totalRecords&quot;: 149}, &quot;type&quot;: &quot;Feature&quot;}, {&quot;geometry&quot;: {&quot;coordinates&quot;: [-92.34, 42.5], &quot;type&quot;: &quot;Point&quot;}, &quot;properties&quot;: {&quot;City&quot;: &quot;Waterloo&quot;, &quot;Size&quot;: 12000, &quot;State&quot;: &quot;Iowa&quot;, &quot;Title&quot;: &quot;City of Waterloo\\u0027s Mapping and GIS Hub&quot;, &quot;btaaURL&quot;: &quot;https://geo.btaa.org/?q=03c-04&quot;, &quot;sourceURL&quot;: &quot;https://waterlooia.maps.arcgis.com/home/index.html&quot;, &quot;totalRecords&quot;: 3}, &quot;type&quot;: &quot;Feature&quot;}, {&quot;geometry&quot;: {&quot;coordinates&quot;: [-83.1, 42.35], &quot;type&quot;: &quot;Point&quot;}, &quot;properties&quot;: {&quot;City&quot;: &quot;Detroit&quot;, &quot;Size&quot;: 22000, &quot;State&quot;: &quot;Michigan&quot;, &quot;Title&quot;: &quot;Detroit Open Data&quot;, &quot;btaaURL&quot;: &quot;https://geo.btaa.org/?q=07c-01&quot;, &quot;sourceURL&quot;: &quot;https://data.detroitmi.gov&quot;, &quot;totalRecords&quot;: 148}, &quot;type&quot;: &quot;Feature&quot;}, {&quot;geometry&quot;: {&quot;coordinates&quot;: [-85.66, 42.96], &quot;type&quot;: &quot;Point&quot;}, &quot;properties&quot;: {&quot;City&quot;: &quot;Grand Rapids&quot;, &quot;Size&quot;: 12000, &quot;State&quot;: &quot;Michigan&quot;, &quot;Title&quot;: &quot;Grand Rapids, Michigan Open Data&quot;, &quot;btaaURL&quot;: &quot;https://geo.btaa.org/?q=07c-03&quot;, &quot;sourceURL&quot;: &quot;https://grdata-grandrapids.opendata.arcgis.com&quot;, &quot;totalRecords&quot;: 18}, &quot;type&quot;: &quot;Feature&quot;}, {&quot;geometry&quot;: {&quot;coordinates&quot;: [-96.69, 40.8], &quot;type&quot;: &quot;Point&quot;}, &quot;properties&quot;: {&quot;City&quot;: &quot;Lincoln&quot;, &quot;Size&quot;: 16000, &quot;State&quot;: &quot;Nebraska&quot;, &quot;Title&quot;: &quot;Lincoln Open Data and Performance Management&quot;, &quot;btaaURL&quot;: &quot;https://geo.btaa.org/?q=13c-01&quot;, &quot;sourceURL&quot;: &quot;https://data2-lincolnne.opendata.arcgis.com/&quot;, &quot;totalRecords&quot;: 48}, &quot;type&quot;: &quot;Feature&quot;}, {&quot;geometry&quot;: {&quot;coordinates&quot;: [-83.7, 43.01], &quot;type&quot;: &quot;Point&quot;}, &quot;properties&quot;: {&quot;City&quot;: &quot;Flint&quot;, &quot;Size&quot;: 12000, &quot;State&quot;: &quot;Michigan&quot;, &quot;Title&quot;: &quot;MapFlint Data Download&quot;, &quot;btaaURL&quot;: &quot;https://geo.btaa.org/?q=07c-04&quot;, &quot;sourceURL&quot;: &quot;https://mapflint-umich.opendata.arcgis.com&quot;, &quot;totalRecords&quot;: 24}, &quot;type&quot;: &quot;Feature&quot;}, {&quot;geometry&quot;: {&quot;coordinates&quot;: [-93.26, 44.97], &quot;type&quot;: &quot;Point&quot;}, &quot;properties&quot;: {&quot;City&quot;: &quot;Minneapolis&quot;, &quot;Size&quot;: 22000, &quot;State&quot;: &quot;Minnesota&quot;, &quot;Title&quot;: &quot;Minneapolis Open Data Hub|PHLmaps&quot;, &quot;btaaURL&quot;: &quot;https://geo.btaa.org/?q=05c-01&quot;, &quot;sourceURL&quot;: &quot;https://opendata.minneapolismn.gov|http://data-phl.opendata.arcgis.com&quot;, &quot;totalRecords&quot;: 194}, &quot;type&quot;: &quot;Feature&quot;}, {&quot;geometry&quot;: {&quot;coordinates&quot;: [-84.54, 39.17], &quot;type&quot;: &quot;Point&quot;}, &quot;properties&quot;: {&quot;City&quot;: &quot;Hamilton County&quot;, &quot;Size&quot;: 12000, &quot;State&quot;: &quot;Ohio&quot;, &quot;Title&quot;: &quot;ArcGIS REST Services Directory for Cincinnati, Ohio|Cincinnati Area Geographic Information Systems (CAGIS) File Downloads|Open Data Cincinnati, Ohio&quot;, &quot;btaaURL&quot;: &quot;https://geo.btaa.org/?q=11c-01&quot;, &quot;sourceURL&quot;: &quot;https://cagisonline.hamilton-co.org/arcgis/rest/services|http://cagis.org/Opendata/?|http://cagis.org/Opendata/?&quot;, &quot;totalRecords&quot;: 14}, &quot;type&quot;: &quot;Feature&quot;}, {&quot;geometry&quot;: {&quot;coordinates&quot;: [-75.12, 40.0], &quot;type&quot;: &quot;Point&quot;}, &quot;properties&quot;: {&quot;City&quot;: &quot;Philadelphia&quot;, &quot;Size&quot;: 22000, &quot;State&quot;: &quot;Pennsylvania&quot;, &quot;Title&quot;: &quot;OpenDataPhilly&quot;, &quot;btaaURL&quot;: &quot;https://geo.btaa.org/?q=08c-01&quot;, &quot;sourceURL&quot;: &quot;https://www.opendataphilly.org&quot;, &quot;totalRecords&quot;: 261}, &quot;type&quot;: &quot;Feature&quot;}, {&quot;geometry&quot;: {&quot;coordinates&quot;: [-86.28, 41.68], &quot;type&quot;: &quot;Point&quot;}, &quot;properties&quot;: {&quot;City&quot;: &quot;South Bend&quot;, &quot;Size&quot;: 12000, &quot;State&quot;: &quot;Indiana&quot;, &quot;Title&quot;: &quot;South Bend, IN Open Data&quot;, &quot;btaaURL&quot;: &quot;https://geo.btaa.org/?q=09c-01&quot;, &quot;sourceURL&quot;: &quot;http://data-southbend.opendata.arcgis.com&quot;, &quot;totalRecords&quot;: 17}, &quot;type&quot;: &quot;Feature&quot;}, {&quot;geometry&quot;: {&quot;coordinates&quot;: [-89.81, 44.39], &quot;type&quot;: &quot;Point&quot;}, &quot;properties&quot;: {&quot;City&quot;: &quot;Wisconsin Rapids&quot;, &quot;Size&quot;: 12000, &quot;State&quot;: &quot;Maryland&quot;, &quot;Title&quot;: &quot;Wisconsin Rapids Online Map Portal&quot;, &quot;btaaURL&quot;: &quot;https://geo.btaa.org/?q=10c-04&quot;, &quot;sourceURL&quot;: &quot;https://rapidsdata-wisconsinrapids.opendata.arcgis.com&quot;, &quot;totalRecords&quot;: 23}, &quot;type&quot;: &quot;Feature&quot;}, {&quot;geometry&quot;: {&quot;coordinates&quot;: [-87.58, 38.0], &quot;type&quot;: &quot;Point&quot;}, &quot;properties&quot;: {&quot;City&quot;: &quot;Evansville&quot;, &quot;Size&quot;: 16000, &quot;State&quot;: &quot;Indiana&quot;, &quot;Title&quot;: &quot;Evansville, Vanderburgh County, Indiana Open Data Collection&quot;, &quot;btaaURL&quot;: &quot;https://geo.btaa.org/?q=01b-18163&quot;, &quot;sourceURL&quot;: &quot;https://dev-evansvilleapc.opendata.arcgis.com&quot;, &quot;totalRecords&quot;: 51}, &quot;type&quot;: &quot;Feature&quot;}, {&quot;geometry&quot;: {&quot;coordinates&quot;: [-96.17, 41.29], &quot;type&quot;: &quot;Point&quot;}, &quot;properties&quot;: {&quot;City&quot;: &quot;Omaha&quot;, &quot;Size&quot;: 16000, &quot;State&quot;: &quot;Nebraska&quot;, &quot;Title&quot;: &quot;Omaha/Douglas County GIS Open Data Portal&quot;, &quot;btaaURL&quot;: &quot;https://geo.btaa.org/?q=13b-31055&quot;, &quot;sourceURL&quot;: &quot;https://data-dogis.opendata.arcgis.com/&quot;, &quot;totalRecords&quot;: 61}, &quot;type&quot;: &quot;Feature&quot;}, {&quot;geometry&quot;: {&quot;coordinates&quot;: [-93.11, 44.94], &quot;type&quot;: &quot;Point&quot;}, &quot;properties&quot;: {&quot;City&quot;: &quot;Saint Paul&quot;, &quot;Size&quot;: 16000, &quot;State&quot;: &quot;Minnesota&quot;, &quot;Title&quot;: &quot;City of Saint Paul GIS Data&quot;, &quot;btaaURL&quot;: &quot;https://geo.btaa.org/?q=05c-02&quot;, &quot;sourceURL&quot;: &quot;https://information.stpaul.gov&quot;, &quot;totalRecords&quot;: 119}, &quot;type&quot;: &quot;Feature&quot;}], &quot;type&quot;: &quot;FeatureCollection&quot;});\n",
       "\n",
       "        \n",
       "    \n",
       "    geo_json_b6972be5a033ad0169da1c9324de1c88.bindTooltip(\n",
       "    function(layer){\n",
       "    let div = L.DomUtil.create(&#x27;div&#x27;);\n",
       "    \n",
       "    let handleObject = feature=&gt;typeof(feature)==&#x27;object&#x27; ? JSON.stringify(feature) : feature;\n",
       "    let fields = [&quot;City&quot;, &quot;sourceURL&quot;];\n",
       "    let aliases = [&quot;city&quot;, &quot;websiteUrl&quot;];\n",
       "    let table = &#x27;&lt;table&gt;&#x27; +\n",
       "        String(\n",
       "        fields.map(\n",
       "        (v,i)=&gt;\n",
       "        `&lt;tr&gt;\n",
       "            &lt;th&gt;${aliases[i]}&lt;/th&gt;\n",
       "            \n",
       "            &lt;td&gt;${handleObject(layer.feature.properties[v])}&lt;/td&gt;\n",
       "        &lt;/tr&gt;`).join(&#x27;&#x27;))\n",
       "    +&#x27;&lt;/table&gt;&#x27;;\n",
       "    div.innerHTML=table;\n",
       "    \n",
       "    return div\n",
       "    }\n",
       "    ,{&quot;className&quot;: &quot;foliumtooltip&quot;, &quot;sticky&quot;: true});\n",
       "                     \n",
       "&lt;/script&gt;\n",
       "&lt;/html&gt;\" style=\"position:absolute;width:100%;height:100%;left:0;top:0;border:none !important;\" allowfullscreen webkitallowfullscreen mozallowfullscreen></iframe></div></div>"
      ],
      "text/plain": [
       "<folium.folium.Map at 0x7fc1f83181c0>"
      ]
     },
     "execution_count": 39,
     "metadata": {},
     "output_type": "execute_result"
    }
   ],
   "source": [
    "print('> Making map...')\n",
    "m = folium.Map(location = [44, -90], control_scale = True, zoom_start = 6)\n",
    "\n",
    "lyrCity = folium.GeoJson(open(activecities, 'r').read(),\n",
    "               tooltip = folium.GeoJsonTooltip(fields=('City', 'sourceURL'),\n",
    "                                               aliases=('city','websiteUrl')),\n",
    "               show = True).add_to(m)\n",
    "m"
   ]
  },
  {
   "cell_type": "markdown",
   "metadata": {},
   "source": [
    "***\n",
    "\n",
    "## Part 4: Legend JSON"
   ]
  },
  {
   "cell_type": "markdown",
   "metadata": {},
   "source": [
    "### Create legend JSON features"
   ]
  },
  {
   "cell_type": "code",
   "execution_count": 40,
   "metadata": {},
   "outputs": [
    {
     "name": "stdout",
     "output_type": "stream",
     "text": [
      "> Creating legend JSON featuers...\n"
     ]
    }
   ],
   "source": [
    "def create_legend_json(countyinterval, palette, cityinterval, size):\n",
    "    print('> Creating legend JSON featuers...')\n",
    "    countystyle = dict(zip(countyinterval, palette))\n",
    "    citystyle = dict(zip(cityinterval, size))\n",
    "    dic = {\n",
    "            'county':countystyle,\n",
    "              'city':citystyle\n",
    "          }\n",
    "    return dic\n",
    "    \n",
    "data_json = create_legend_json(countyInterval, palette, cityInterval, legendSize)"
   ]
  },
  {
   "cell_type": "markdown",
   "metadata": {},
   "source": [
    "### Write to legend JSON file `legend.json`"
   ]
  },
  {
   "cell_type": "code",
   "execution_count": 41,
   "metadata": {},
   "outputs": [
    {
     "name": "stdout",
     "output_type": "stream",
     "text": [
      "> Creating legend JSON file...\n"
     ]
    }
   ],
   "source": [
    "with open(legendjson, 'w') as txtfile:\n",
    "    json.dump(data_json, txtfile)\n",
    "print('> Creating legend JSON file...')"
   ]
  }
 ],
 "metadata": {
  "kernelspec": {
   "display_name": "Python 3 (ipykernel)",
   "language": "python",
   "name": "python3"
  },
  "language_info": {
   "codemirror_mode": {
    "name": "ipython",
    "version": 3
   },
   "file_extension": ".py",
   "mimetype": "text/x-python",
   "name": "python",
   "nbconvert_exporter": "python",
   "pygments_lexer": "ipython3",
   "version": "3.8.16"
  }
 },
 "nbformat": 4,
 "nbformat_minor": 4
}
