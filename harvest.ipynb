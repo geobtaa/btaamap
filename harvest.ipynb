{
 "cells": [
  {
   "cell_type": "markdown",
   "metadata": {},
   "source": [
    "# Harvest BTAA Geoportals\n",
    "\n",
    "> Original created on Dec 16 2020 <br>\n",
    "Edited on Jan 28 2021 -- Converted GeoJSON into TopoJSON to reduce file size<br>\n",
    "@author: Yijing Zhou @YijingZhou33 "
   ]
  },
  {
   "cell_type": "markdown",
   "metadata": {},
   "source": [
    "## Part 0: Initialization"
   ]
  },
  {
   "cell_type": "markdown",
   "metadata": {},
   "source": [
    "### Import necessary modules"
   ]
  },
  {
   "cell_type": "code",
   "execution_count": 1,
   "metadata": {},
   "outputs": [],
   "source": [
    "import os\n",
    "import pandas as pd\n",
    "import json\n",
    "import numpy as np\n",
    "import re\n",
    "from bs4 import BeautifulSoup, SoupStrainer\n",
    "import requests\n",
    "import geopandas as gpd\n",
    "import folium"
   ]
  },
  {
   "cell_type": "markdown",
   "metadata": {},
   "source": [
    "Note that **<a href='https://pypi.org/project/mapclassify/'>mapclassify</a>**, **<a href='https://seaborn.pydata.org/'>seaborn</a>** and **<a href='https://mattijn.github.io/topojson/'>topojson</a>** aren't built-in modules in Anaconda. You may need to install in advance. "
   ]
  },
  {
   "cell_type": "code",
   "execution_count": 2,
   "metadata": {},
   "outputs": [],
   "source": [
    "# pip install mapclassify \n",
    "# pip install seaborn\n",
    "# pip install topojson\n",
    "import mapclassify \n",
    "import seaborn as sns \n",
    "import topojson as tp"
   ]
  },
  {
   "cell_type": "markdown",
   "metadata": {},
   "source": [
    "### Set file path"
   ]
  },
  {
   "cell_type": "code",
   "execution_count": 3,
   "metadata": {},
   "outputs": [],
   "source": [
    "# ********** Input Files **********\n",
    "## Raw data: CSV files\n",
    "stategeoportals = os.path.join('data', 'allStates.csv')\n",
    "countygeoportals = os.path.join('data', 'allCounties.csv')\n",
    "citygeoportals = os.path.join('data', 'allCities.csv')\n",
    "\n",
    "## Basemap GeoJSON files for states and counties \n",
    "statejson = os.path.join('data', 'states.json')\n",
    "countyjson = os.path.join('data', 'counties.json')\n",
    "\n",
    "# ********** Output Files **********\n",
    "activestates = os.path.join('json', 'activeStates.topo.json')\n",
    "activecounties = os.path.join('json', 'activeCounties.topo.json')\n",
    "activecities = os.path.join('json', 'activeCities.json')\n",
    "\n",
    "legendjson = os.path.join('json', 'legend.json')"
   ]
  },
  {
   "cell_type": "markdown",
   "metadata": {},
   "source": [
    "***\n",
    "\n",
    "## Part 1: State Geoportals TopoJSON"
   ]
  },
  {
   "cell_type": "markdown",
   "metadata": {},
   "source": [
    "### Format state name in state geoportals spreadsheet `allStates.csv`"
   ]
  },
  {
   "cell_type": "code",
   "execution_count": 4,
   "metadata": {},
   "outputs": [
    {
     "data": {
      "text/html": [
       "<div>\n",
       "<style scoped>\n",
       "    .dataframe tbody tr th:only-of-type {\n",
       "        vertical-align: middle;\n",
       "    }\n",
       "\n",
       "    .dataframe tbody tr th {\n",
       "        vertical-align: top;\n",
       "    }\n",
       "\n",
       "    .dataframe thead th {\n",
       "        text-align: right;\n",
       "    }\n",
       "</style>\n",
       "<table border=\"1\" class=\"dataframe\">\n",
       "  <thead>\n",
       "    <tr style=\"text-align: right;\">\n",
       "      <th></th>\n",
       "      <th>stateCode</th>\n",
       "      <th>State</th>\n",
       "      <th>Title</th>\n",
       "      <th>sourceURL</th>\n",
       "      <th>btaaURL</th>\n",
       "    </tr>\n",
       "  </thead>\n",
       "  <tbody>\n",
       "    <tr>\n",
       "      <th>0</th>\n",
       "      <td>8856ec9a-47ac-4c79-bfba-643e97c0b62d</td>\n",
       "      <td>Pennsylvania</td>\n",
       "      <td>Center for Rural Pennsylvania Data Downloads</td>\n",
       "      <td>https://www.rural.pa.gov/home</td>\n",
       "      <td>https://geo.btaa.org/?q=8856ec9a</td>\n",
       "    </tr>\n",
       "    <tr>\n",
       "      <th>1</th>\n",
       "      <td>03a-06</td>\n",
       "      <td>Iowa</td>\n",
       "      <td>Election Data: Iowa</td>\n",
       "      <td>https://sos.iowa.gov/elections/otherinfo.html</td>\n",
       "      <td>https://geo.btaa.org/?q=03a</td>\n",
       "    </tr>\n",
       "    <tr>\n",
       "      <th>2</th>\n",
       "      <td>11a-01</td>\n",
       "      <td>Ohio</td>\n",
       "      <td>GEOhio Spatial Data Discovery Portal</td>\n",
       "      <td>http://ogrip-geohio.opendata.arcgis.com</td>\n",
       "      <td>https://geo.btaa.org/?q=11a</td>\n",
       "    </tr>\n",
       "    <tr>\n",
       "      <th>3</th>\n",
       "      <td>01d-02</td>\n",
       "      <td>Indiana</td>\n",
       "      <td>Indiana Spatial Data Portal</td>\n",
       "      <td>http://gis.iu.edu</td>\n",
       "      <td>https://geo.btaa.org/?q=01d</td>\n",
       "    </tr>\n",
       "    <tr>\n",
       "      <th>4</th>\n",
       "      <td>09a-02</td>\n",
       "      <td>Indiana</td>\n",
       "      <td>Indiana Statewide LiDAR: 2011-2013</td>\n",
       "      <td>https://doi.org/10.5069/G9959FHZ</td>\n",
       "      <td>https://geo.btaa.org/?q=09a</td>\n",
       "    </tr>\n",
       "  </tbody>\n",
       "</table>\n",
       "</div>"
      ],
      "text/plain": [
       "                              stateCode         State  \\\n",
       "0  8856ec9a-47ac-4c79-bfba-643e97c0b62d  Pennsylvania   \n",
       "1                                03a-06          Iowa   \n",
       "2                                11a-01          Ohio   \n",
       "3                                01d-02       Indiana   \n",
       "4                                09a-02       Indiana   \n",
       "\n",
       "                                          Title  \\\n",
       "0  Center for Rural Pennsylvania Data Downloads   \n",
       "1                           Election Data: Iowa   \n",
       "2          GEOhio Spatial Data Discovery Portal   \n",
       "3                   Indiana Spatial Data Portal   \n",
       "4            Indiana Statewide LiDAR: 2011-2013   \n",
       "\n",
       "                                       sourceURL  \\\n",
       "0                  https://www.rural.pa.gov/home   \n",
       "1  https://sos.iowa.gov/elections/otherinfo.html   \n",
       "2        http://ogrip-geohio.opendata.arcgis.com   \n",
       "3                              http://gis.iu.edu   \n",
       "4               https://doi.org/10.5069/G9959FHZ   \n",
       "\n",
       "                            btaaURL  \n",
       "0  https://geo.btaa.org/?q=8856ec9a  \n",
       "1       https://geo.btaa.org/?q=03a  \n",
       "2       https://geo.btaa.org/?q=11a  \n",
       "3       https://geo.btaa.org/?q=01d  \n",
       "4       https://geo.btaa.org/?q=09a  "
      ]
     },
     "execution_count": 4,
     "metadata": {},
     "output_type": "execute_result"
    }
   ],
   "source": [
    "df_csv = pd.read_csv(stategeoportals)\n",
    "df_csv['btaaURL'] = df_csv['btaaURL'].apply(lambda x: x.split('-')[0])\n",
    "df_csv.head()"
   ]
  },
  {
   "cell_type": "markdown",
   "metadata": {},
   "source": [
    "### Extract total records number from BTAA Geoportal search page"
   ]
  },
  {
   "cell_type": "code",
   "execution_count": 5,
   "metadata": {},
   "outputs": [],
   "source": [
    "def totalRecords(df):\n",
    "    totalrecords = []\n",
    "    for _, row in df.iterrows():\n",
    "        url = row['btaaURL']        \n",
    "        ## Start session and get the search page\n",
    "        session = requests.Session()\n",
    "        response = session.get(url)\n",
    "        ## Parse only part of the page (<meta> tag) for better performance using SoupStrainer and lxml\n",
    "        strainer = SoupStrainer('meta', attrs={'name': 'totalResults'})\n",
    "        soup = BeautifulSoup(response.content, 'lxml', parse_only=strainer)\n",
    "        ## The find() method looks through <meta> tag’s descendants and retrieves one result with attribute 'name'\n",
    "        meta_tag = soup.find('meta', attrs={'name': 'totalResults'})\n",
    "        ## Grab the content inside the <meta> tag that matches the filter\n",
    "        totalrecord = meta_tag.get('content')\n",
    "        totalrecords.append(totalrecord)\n",
    "    return totalrecords"
   ]
  },
  {
   "cell_type": "code",
   "execution_count": 6,
   "metadata": {},
   "outputs": [],
   "source": [
    "df_csv['totalRecords'] = totalRecords(df_csv)"
   ]
  },
  {
   "cell_type": "markdown",
   "metadata": {},
   "source": [
    "### Inspect the numinum number of total records\n",
    "If it equals to 0, meaning the landing page is 404 Not Found. Go back to check if the identifier is still active. "
   ]
  },
  {
   "cell_type": "code",
   "execution_count": 7,
   "metadata": {},
   "outputs": [],
   "source": [
    "def check_totalRecords(df):\n",
    "    df['totalRecords'] = df['totalRecords'].astype(int)\n",
    "    if df['totalRecords'].min() == 0:\n",
    "        return df[df['totalRecords']==0]\n",
    "    else:\n",
    "        print('> State Geoportal Codes all valid!')"
   ]
  },
  {
   "cell_type": "code",
   "execution_count": 8,
   "metadata": {},
   "outputs": [
    {
     "name": "stdout",
     "output_type": "stream",
     "text": [
      "> State Geoportal Codes all valid!\n"
     ]
    }
   ],
   "source": [
    "check_totalRecords(df_csv)"
   ]
  },
  {
   "cell_type": "markdown",
   "metadata": {},
   "source": [
    "### Group dataframe rows into list by geoportal sites"
   ]
  },
  {
   "cell_type": "code",
   "execution_count": 9,
   "metadata": {},
   "outputs": [
    {
     "name": "stderr",
     "output_type": "stream",
     "text": [
      "/var/folders/h1/wds8r6757dz_4h_l5tz85gyw0000gq/T/ipykernel_16021/2430260879.py:8: FutureWarning: Not prepending group keys to the result index of transform-like apply. In the future, the group keys will be included in the index, regardless of whether the applied function returns a like-indexed object.\n",
      "To preserve the previous behavior, use\n",
      "\n",
      "\t>>> .groupby(..., group_keys=False)\n",
      "\n",
      "To adopt the future behavior and silence this warning, use \n",
      "\n",
      "\t>>> .groupby(..., group_keys=True)\n",
      "  df_group = df_csv.groupby(['State']).apply(aggregate_to_array).drop_duplicates(subset=['State'])\n"
     ]
    },
    {
     "data": {
      "text/html": [
       "<div>\n",
       "<style scoped>\n",
       "    .dataframe tbody tr th:only-of-type {\n",
       "        vertical-align: middle;\n",
       "    }\n",
       "\n",
       "    .dataframe tbody tr th {\n",
       "        vertical-align: top;\n",
       "    }\n",
       "\n",
       "    .dataframe thead th {\n",
       "        text-align: right;\n",
       "    }\n",
       "</style>\n",
       "<table border=\"1\" class=\"dataframe\">\n",
       "  <thead>\n",
       "    <tr style=\"text-align: right;\">\n",
       "      <th></th>\n",
       "      <th>stateCode</th>\n",
       "      <th>State</th>\n",
       "      <th>Title</th>\n",
       "      <th>sourceURL</th>\n",
       "      <th>btaaURL</th>\n",
       "      <th>totalRecords</th>\n",
       "    </tr>\n",
       "  </thead>\n",
       "  <tbody>\n",
       "    <tr>\n",
       "      <th>0</th>\n",
       "      <td>[8856ec9a-47ac-4c79-bfba-643e97c0b62d, 08a-01,...</td>\n",
       "      <td>Pennsylvania</td>\n",
       "      <td>[Center for Rural Pennsylvania Data Downloads,...</td>\n",
       "      <td>[https://www.rural.pa.gov/home, http://www.pas...</td>\n",
       "      <td>https://geo.btaa.org/?q=8856ec9a</td>\n",
       "      <td>1</td>\n",
       "    </tr>\n",
       "    <tr>\n",
       "      <th>1</th>\n",
       "      <td>[03a-06, 03a-01, 03a-03, 03a-02, 03a-05]</td>\n",
       "      <td>Iowa</td>\n",
       "      <td>[Election Data: Iowa, Interactive map of coal ...</td>\n",
       "      <td>[https://sos.iowa.gov/elections/otherinfo.html...</td>\n",
       "      <td>https://geo.btaa.org/?q=03a</td>\n",
       "      <td>760</td>\n",
       "    </tr>\n",
       "    <tr>\n",
       "      <th>2</th>\n",
       "      <td>[11a-01, 11a-02, 11a-03]</td>\n",
       "      <td>Ohio</td>\n",
       "      <td>[GEOhio Spatial Data Discovery Portal, Ohio Pu...</td>\n",
       "      <td>[http://ogrip-geohio.opendata.arcgis.com, http...</td>\n",
       "      <td>https://geo.btaa.org/?q=11a</td>\n",
       "      <td>482</td>\n",
       "    </tr>\n",
       "    <tr>\n",
       "      <th>3</th>\n",
       "      <td>[01d-02, 09a-02, 09a-03]</td>\n",
       "      <td>Indiana</td>\n",
       "      <td>[Indiana Spatial Data Portal, Indiana Statewid...</td>\n",
       "      <td>[http://gis.iu.edu, https://doi.org/10.5069/G9...</td>\n",
       "      <td>https://geo.btaa.org/?q=01d</td>\n",
       "      <td>4819</td>\n",
       "    </tr>\n",
       "    <tr>\n",
       "      <th>9</th>\n",
       "      <td>[04a-01]</td>\n",
       "      <td>Maryland</td>\n",
       "      <td>[Maryland iMap]</td>\n",
       "      <td>[http://data.imap.maryland.gov]</td>\n",
       "      <td>https://geo.btaa.org/?q=04a</td>\n",
       "      <td>1234</td>\n",
       "    </tr>\n",
       "  </tbody>\n",
       "</table>\n",
       "</div>"
      ],
      "text/plain": [
       "                                           stateCode         State  \\\n",
       "0  [8856ec9a-47ac-4c79-bfba-643e97c0b62d, 08a-01,...  Pennsylvania   \n",
       "1           [03a-06, 03a-01, 03a-03, 03a-02, 03a-05]          Iowa   \n",
       "2                           [11a-01, 11a-02, 11a-03]          Ohio   \n",
       "3                           [01d-02, 09a-02, 09a-03]       Indiana   \n",
       "9                                           [04a-01]      Maryland   \n",
       "\n",
       "                                               Title  \\\n",
       "0  [Center for Rural Pennsylvania Data Downloads,...   \n",
       "1  [Election Data: Iowa, Interactive map of coal ...   \n",
       "2  [GEOhio Spatial Data Discovery Portal, Ohio Pu...   \n",
       "3  [Indiana Spatial Data Portal, Indiana Statewid...   \n",
       "9                                    [Maryland iMap]   \n",
       "\n",
       "                                           sourceURL  \\\n",
       "0  [https://www.rural.pa.gov/home, http://www.pas...   \n",
       "1  [https://sos.iowa.gov/elections/otherinfo.html...   \n",
       "2  [http://ogrip-geohio.opendata.arcgis.com, http...   \n",
       "3  [http://gis.iu.edu, https://doi.org/10.5069/G9...   \n",
       "9                    [http://data.imap.maryland.gov]   \n",
       "\n",
       "                            btaaURL  totalRecords  \n",
       "0  https://geo.btaa.org/?q=8856ec9a             1  \n",
       "1       https://geo.btaa.org/?q=03a           760  \n",
       "2       https://geo.btaa.org/?q=11a           482  \n",
       "3       https://geo.btaa.org/?q=01d          4819  \n",
       "9       https://geo.btaa.org/?q=04a          1234  "
      ]
     },
     "execution_count": 9,
     "metadata": {},
     "output_type": "execute_result"
    }
   ],
   "source": [
    "def aggregate_to_array(data):\n",
    "    groupItems = ['stateCode', 'Title', 'sourceURL']\n",
    "    for i in range(len(groupItems)):\n",
    "        data[groupItems[i]] = np.tile([data[groupItems[i]].values], (data.shape[0], 1)).tolist()\n",
    "    return data\n",
    "\n",
    "## Group by ['State']\n",
    "df_group = df_csv.groupby(['State']).apply(aggregate_to_array).drop_duplicates(subset=['State'])\n",
    "df_group.head()"
   ]
  },
  {
   "cell_type": "markdown",
   "metadata": {},
   "source": [
    "### Merge state GeoJSON and geoportal GeoJSON"
   ]
  },
  {
   "cell_type": "code",
   "execution_count": 10,
   "metadata": {},
   "outputs": [
    {
     "data": {
      "text/html": [
       "<div>\n",
       "<style scoped>\n",
       "    .dataframe tbody tr th:only-of-type {\n",
       "        vertical-align: middle;\n",
       "    }\n",
       "\n",
       "    .dataframe tbody tr th {\n",
       "        vertical-align: top;\n",
       "    }\n",
       "\n",
       "    .dataframe thead th {\n",
       "        text-align: right;\n",
       "    }\n",
       "</style>\n",
       "<table border=\"1\" class=\"dataframe\">\n",
       "  <thead>\n",
       "    <tr style=\"text-align: right;\">\n",
       "      <th></th>\n",
       "      <th>State</th>\n",
       "      <th>boundingBox</th>\n",
       "    </tr>\n",
       "  </thead>\n",
       "  <tbody>\n",
       "    <tr>\n",
       "      <th>0</th>\n",
       "      <td>Michigan</td>\n",
       "      <td>[[[[-9260845.548402281, 5166279.022009533], [-...</td>\n",
       "    </tr>\n",
       "    <tr>\n",
       "      <th>1</th>\n",
       "      <td>Nebraska</td>\n",
       "      <td>[[[[-11583173.567736674, 5037528.758557861], [...</td>\n",
       "    </tr>\n",
       "    <tr>\n",
       "      <th>2</th>\n",
       "      <td>Pennsylvania</td>\n",
       "      <td>[[[[-8963433.264849892, 4998583.915664743], [-...</td>\n",
       "    </tr>\n",
       "    <tr>\n",
       "      <th>3</th>\n",
       "      <td>Illinois</td>\n",
       "      <td>[[[[-10187177.666658083, 4892288.706150776], [...</td>\n",
       "    </tr>\n",
       "    <tr>\n",
       "      <th>4</th>\n",
       "      <td>Iowa</td>\n",
       "      <td>[[[[-10757882.639692683, 5272036.6185184885], ...</td>\n",
       "    </tr>\n",
       "  </tbody>\n",
       "</table>\n",
       "</div>"
      ],
      "text/plain": [
       "          State                                        boundingBox\n",
       "0      Michigan  [[[[-9260845.548402281, 5166279.022009533], [-...\n",
       "1      Nebraska  [[[[-11583173.567736674, 5037528.758557861], [...\n",
       "2  Pennsylvania  [[[[-8963433.264849892, 4998583.915664743], [-...\n",
       "3      Illinois  [[[[-10187177.666658083, 4892288.706150776], [...\n",
       "4          Iowa  [[[[-10757882.639692683, 5272036.6185184885], ..."
      ]
     },
     "execution_count": 10,
     "metadata": {},
     "output_type": "execute_result"
    }
   ],
   "source": [
    "## Load statejson featuer properties\n",
    "state_geojson = gpd.read_file(statejson)\n",
    "state_json = json.loads(state_geojson.to_json())\n",
    "df_allState = pd.json_normalize(state_json['features'])\n",
    "\n",
    "## Change column names for further operation\n",
    "df_allState = df_allState[['properties.State', 'geometry.coordinates']].rename(\n",
    "    columns={'properties.State':'State', 'geometry.coordinates':'boundingBox'})\n",
    "\n",
    "df_allState.head()"
   ]
  },
  {
   "cell_type": "code",
   "execution_count": 11,
   "metadata": {},
   "outputs": [
    {
     "data": {
      "text/html": [
       "<div>\n",
       "<style scoped>\n",
       "    .dataframe tbody tr th:only-of-type {\n",
       "        vertical-align: middle;\n",
       "    }\n",
       "\n",
       "    .dataframe tbody tr th {\n",
       "        vertical-align: top;\n",
       "    }\n",
       "\n",
       "    .dataframe thead th {\n",
       "        text-align: right;\n",
       "    }\n",
       "</style>\n",
       "<table border=\"1\" class=\"dataframe\">\n",
       "  <thead>\n",
       "    <tr style=\"text-align: right;\">\n",
       "      <th></th>\n",
       "      <th>stateCode</th>\n",
       "      <th>State</th>\n",
       "      <th>Title</th>\n",
       "      <th>sourceURL</th>\n",
       "      <th>btaaURL</th>\n",
       "      <th>totalRecords</th>\n",
       "      <th>boundingBox</th>\n",
       "    </tr>\n",
       "  </thead>\n",
       "  <tbody>\n",
       "    <tr>\n",
       "      <th>0</th>\n",
       "      <td>[8856ec9a-47ac-4c79-bfba-643e97c0b62d, 08a-01,...</td>\n",
       "      <td>Pennsylvania</td>\n",
       "      <td>[Center for Rural Pennsylvania Data Downloads,...</td>\n",
       "      <td>[https://www.rural.pa.gov/home, http://www.pas...</td>\n",
       "      <td>https://geo.btaa.org/?q=8856ec9a</td>\n",
       "      <td>1</td>\n",
       "      <td>[[[[-8963433.264849892, 4998583.915664743], [-...</td>\n",
       "    </tr>\n",
       "    <tr>\n",
       "      <th>1</th>\n",
       "      <td>[03a-06, 03a-01, 03a-03, 03a-02, 03a-05]</td>\n",
       "      <td>Iowa</td>\n",
       "      <td>[Election Data: Iowa, Interactive map of coal ...</td>\n",
       "      <td>[https://sos.iowa.gov/elections/otherinfo.html...</td>\n",
       "      <td>https://geo.btaa.org/?q=03a</td>\n",
       "      <td>760</td>\n",
       "      <td>[[[[-10757882.639692683, 5272036.6185184885], ...</td>\n",
       "    </tr>\n",
       "    <tr>\n",
       "      <th>2</th>\n",
       "      <td>[11a-01, 11a-02, 11a-03]</td>\n",
       "      <td>Ohio</td>\n",
       "      <td>[GEOhio Spatial Data Discovery Portal, Ohio Pu...</td>\n",
       "      <td>[http://ogrip-geohio.opendata.arcgis.com, http...</td>\n",
       "      <td>https://geo.btaa.org/?q=11a</td>\n",
       "      <td>482</td>\n",
       "      <td>[[[[-9210096.77366148, 5101748.7798449965], [-...</td>\n",
       "    </tr>\n",
       "    <tr>\n",
       "      <th>3</th>\n",
       "      <td>[01d-02, 09a-02, 09a-03]</td>\n",
       "      <td>Indiana</td>\n",
       "      <td>[Indiana Spatial Data Portal, Indiana Statewid...</td>\n",
       "      <td>[http://gis.iu.edu, https://doi.org/10.5069/G9...</td>\n",
       "      <td>https://geo.btaa.org/?q=01d</td>\n",
       "      <td>4819</td>\n",
       "      <td>[[[[-9806997.783228025, 4565876.763061628], [-...</td>\n",
       "    </tr>\n",
       "    <tr>\n",
       "      <th>4</th>\n",
       "      <td>[04a-01]</td>\n",
       "      <td>Maryland</td>\n",
       "      <td>[Maryland iMap]</td>\n",
       "      <td>[http://data.imap.maryland.gov]</td>\n",
       "      <td>https://geo.btaa.org/?q=04a</td>\n",
       "      <td>1234</td>\n",
       "      <td>[[[[-8465864.306710545, 4577576.093681788], [-...</td>\n",
       "    </tr>\n",
       "  </tbody>\n",
       "</table>\n",
       "</div>"
      ],
      "text/plain": [
       "                                           stateCode         State  \\\n",
       "0  [8856ec9a-47ac-4c79-bfba-643e97c0b62d, 08a-01,...  Pennsylvania   \n",
       "1           [03a-06, 03a-01, 03a-03, 03a-02, 03a-05]          Iowa   \n",
       "2                           [11a-01, 11a-02, 11a-03]          Ohio   \n",
       "3                           [01d-02, 09a-02, 09a-03]       Indiana   \n",
       "4                                           [04a-01]      Maryland   \n",
       "\n",
       "                                               Title  \\\n",
       "0  [Center for Rural Pennsylvania Data Downloads,...   \n",
       "1  [Election Data: Iowa, Interactive map of coal ...   \n",
       "2  [GEOhio Spatial Data Discovery Portal, Ohio Pu...   \n",
       "3  [Indiana Spatial Data Portal, Indiana Statewid...   \n",
       "4                                    [Maryland iMap]   \n",
       "\n",
       "                                           sourceURL  \\\n",
       "0  [https://www.rural.pa.gov/home, http://www.pas...   \n",
       "1  [https://sos.iowa.gov/elections/otherinfo.html...   \n",
       "2  [http://ogrip-geohio.opendata.arcgis.com, http...   \n",
       "3  [http://gis.iu.edu, https://doi.org/10.5069/G9...   \n",
       "4                    [http://data.imap.maryland.gov]   \n",
       "\n",
       "                            btaaURL  totalRecords  \\\n",
       "0  https://geo.btaa.org/?q=8856ec9a             1   \n",
       "1       https://geo.btaa.org/?q=03a           760   \n",
       "2       https://geo.btaa.org/?q=11a           482   \n",
       "3       https://geo.btaa.org/?q=01d          4819   \n",
       "4       https://geo.btaa.org/?q=04a          1234   \n",
       "\n",
       "                                         boundingBox  \n",
       "0  [[[[-8963433.264849892, 4998583.915664743], [-...  \n",
       "1  [[[[-10757882.639692683, 5272036.6185184885], ...  \n",
       "2  [[[[-9210096.77366148, 5101748.7798449965], [-...  \n",
       "3  [[[[-9806997.783228025, 4565876.763061628], [-...  \n",
       "4  [[[[-8465864.306710545, 4577576.093681788], [-...  "
      ]
     },
     "execution_count": 11,
     "metadata": {},
     "output_type": "execute_result"
    }
   ],
   "source": [
    "## Join on column 'State' from left dataframe df_group\n",
    "df_merge = pd.merge(df_group, df_allState, on = 'State', how = 'left')\n",
    "df_merge.head()"
   ]
  },
  {
   "cell_type": "markdown",
   "metadata": {},
   "source": [
    "### Create state GeoJSON features"
   ]
  },
  {
   "cell_type": "code",
   "execution_count": 12,
   "metadata": {},
   "outputs": [
    {
     "name": "stdout",
     "output_type": "stream",
     "text": [
      "> Creating state GeoJSON features...\n"
     ]
    }
   ],
   "source": [
    "def create_geojson_features(df):\n",
    "    print('> Creating state GeoJSON features...')\n",
    "    features = []\n",
    "    geometry_type = ''\n",
    "    geojson = {\n",
    "        'type': 'FeatureCollection',\n",
    "        'features': features\n",
    "    }\n",
    "        \n",
    "    for _, row in df.iterrows():\n",
    "        if type(row['boundingBox'][0][0][0]) is float:\n",
    "            geometry_type = 'Polygon'\n",
    "        else:\n",
    "            geometry_type = 'MultiPolygon'\n",
    "            \n",
    "        feature = {\n",
    "            'type': 'Feature',\n",
    "            'geometry': {\n",
    "                'type': geometry_type, \n",
    "                'coordinates': row['boundingBox']\n",
    "            },\n",
    "            'properties': {\n",
    "                'State': row['State'],\n",
    "                'Title': '|'.join([str(elem) for elem in row['Title']]),\n",
    "                'sourceURL': '|'.join([str(elem) for elem in row['sourceURL']]), \n",
    "                'btaaURL': row['btaaURL'],\n",
    "                'totalRecords': row['totalRecords']\n",
    "            }\n",
    "           }\n",
    "\n",
    "        features.append(feature)\n",
    "    return geojson\n",
    "\n",
    "data_geojson = create_geojson_features(df_merge)"
   ]
  },
  {
   "cell_type": "markdown",
   "metadata": {},
   "source": [
    "### Write to state TopoJSON file `activeStates.topo.json`"
   ]
  },
  {
   "cell_type": "code",
   "execution_count": 13,
   "metadata": {},
   "outputs": [
    {
     "name": "stdout",
     "output_type": "stream",
     "text": [
      "> Creating state TopoJSON file...\n"
     ]
    }
   ],
   "source": [
    "state_geojson = gpd.GeoDataFrame.from_features(data_geojson[\"features\"])\n",
    "# TopoJSON is an extension of GeoJSON to compress geometry information\n",
    "topo = tp.Topology(state_geojson)\n",
    "topo.to_json(activestates)\n",
    "print('> Creating state TopoJSON file...')"
   ]
  },
  {
   "cell_type": "markdown",
   "metadata": {},
   "source": [
    "### Inspect state TopoJSON"
   ]
  },
  {
   "cell_type": "code",
   "execution_count": 14,
   "metadata": {},
   "outputs": [
    {
     "data": {
      "text/html": [
       "\n",
       "<div id=\"altair-viz-7301e9e53be6453aa7d9defb0ec941dd\"></div>\n",
       "<script type=\"text/javascript\">\n",
       "  (function(spec, embedOpt){\n",
       "    let outputDiv = document.currentScript.previousElementSibling;\n",
       "    if (outputDiv.id !== \"altair-viz-7301e9e53be6453aa7d9defb0ec941dd\") {\n",
       "      outputDiv = document.getElementById(\"altair-viz-7301e9e53be6453aa7d9defb0ec941dd\");\n",
       "    }\n",
       "    const paths = {\n",
       "      \"vega\": \"https://cdn.jsdelivr.net/npm//vega@5?noext\",\n",
       "      \"vega-lib\": \"https://cdn.jsdelivr.net/npm//vega-lib?noext\",\n",
       "      \"vega-lite\": \"https://cdn.jsdelivr.net/npm//vega-lite@4.8.1?noext\",\n",
       "      \"vega-embed\": \"https://cdn.jsdelivr.net/npm//vega-embed@6?noext\",\n",
       "    };\n",
       "\n",
       "    function loadScript(lib) {\n",
       "      return new Promise(function(resolve, reject) {\n",
       "        var s = document.createElement('script');\n",
       "        s.src = paths[lib];\n",
       "        s.async = true;\n",
       "        s.onload = () => resolve(paths[lib]);\n",
       "        s.onerror = () => reject(`Error loading script: ${paths[lib]}`);\n",
       "        document.getElementsByTagName(\"head\")[0].appendChild(s);\n",
       "      });\n",
       "    }\n",
       "\n",
       "    function showError(err) {\n",
       "      outputDiv.innerHTML = `<div class=\"error\" style=\"color:red;\">${err}</div>`;\n",
       "      throw err;\n",
       "    }\n",
       "\n",
       "    function displayChart(vegaEmbed) {\n",
       "      vegaEmbed(outputDiv, spec, embedOpt)\n",
       "        .catch(err => showError(`Javascript Error: ${err.message}<br>This usually means there's a typo in your chart specification. See the javascript console for the full traceback.`));\n",
       "    }\n",
       "\n",
       "    if(typeof define === \"function\" && define.amd) {\n",
       "      requirejs.config({paths});\n",
       "      require([\"vega-embed\"], displayChart, err => showError(`Error loading script: ${err.message}`));\n",
       "    } else if (typeof vegaEmbed === \"function\") {\n",
       "      displayChart(vegaEmbed);\n",
       "    } else {\n",
       "      loadScript(\"vega\")\n",
       "        .then(() => loadScript(\"vega-lite\"))\n",
       "        .then(() => loadScript(\"vega-embed\"))\n",
       "        .catch(showError)\n",
       "        .then(() => displayChart(vegaEmbed));\n",
       "    }\n",
       "  })({\"config\": {\"view\": {\"continuousWidth\": 400, \"continuousHeight\": 300}}, \"data\": {\"name\": \"data-1eab88411f0550eeff484f445d6618f6\", \"format\": {\"mesh\": \"data\", \"type\": \"topojson\"}}, \"mark\": {\"type\": \"geoshape\", \"filled\": false}, \"projection\": {\"reflectY\": true, \"type\": \"identity\"}, \"title\": \"State Topology\", \"width\": 300, \"$schema\": \"https://vega.github.io/schema/vega-lite/v4.8.1.json\", \"datasets\": {\"data-1eab88411f0550eeff484f445d6618f6\": \"{\\\"type\\\":\\\"Topology\\\",\\\"objects\\\":{\\\"data\\\":{\\\"geometries\\\":[{\\\"properties\\\":{\\\"State\\\":\\\"Pennsylvania\\\",\\\"Title\\\":\\\"Center for Rural Pennsylvania Data Downloads|PASDA: The Pennsylvania Geospatial Data Clearinghouse|Pennsylvania Department of Conservation and Natural Resources Open Data Portal\\\",\\\"sourceURL\\\":\\\"https://www.rural.pa.gov/home|http://www.pasda.psu.edu|https://newdata-dcnr.opendata.arcgis.com\\\",\\\"btaaURL\\\":\\\"https://geo.btaa.org/?q=8856ec9a\\\",\\\"totalRecords\\\":1},\\\"type\\\":\\\"MultiPolygon\\\",\\\"arcs\\\":[[[0,-168,1,-41,2,-19]]],\\\"id\\\":0},{\\\"properties\\\":{\\\"State\\\":\\\"Iowa\\\",\\\"Title\\\":\\\"Election Data: Iowa|Interactive map of coal mines in Iowa|Iowa Geodata|IowaDOT Open Data|State Data Center of Iowa\\\",\\\"sourceURL\\\":\\\"https://sos.iowa.gov/elections/otherinfo.html|https://programs.iowadnr.gov/maps/coalmines/|https://geodata.iowa.gov|https://public-iowadot.opendata.arcgis.com|https://www.iowadatacenter.org/\\\",\\\"btaaURL\\\":\\\"https://geo.btaa.org/?q=03a\\\",\\\"totalRecords\\\":760},\\\"type\\\":\\\"MultiPolygon\\\",\\\"arcs\\\":[[[-160,3,-164,4,-162,5]]],\\\"id\\\":1},{\\\"properties\\\":{\\\"State\\\":\\\"Ohio\\\",\\\"Title\\\":\\\"GEOhio Spatial Data Discovery Portal|Ohio Public Utilities Commission Maps and GIS Data Directory|Ohio Spatial Data Infrastructure Downloads\\\",\\\"sourceURL\\\":\\\"http://ogrip-geohio.opendata.arcgis.com|https://www.puco.ohio.gov/utility-maps/maps-and-gis-data-directory/?dirPath=GIS_Data%2F|https://ogrip.oit.ohio.gov/ServicesData/GEOhioSpatialInformationPortal/OhioSpatialDataInfrastructure-Downloads.aspx\\\",\\\"btaaURL\\\":\\\"https://geo.btaa.org/?q=11a\\\",\\\"totalRecords\\\":482},\\\"type\\\":\\\"MultiPolygon\\\",\\\"arcs\\\":[[[6]],[[7]],[[8]],[[9]],[[10]],[[11]],[[12]],[[13]],[[14]],[[15]],[[16]],[[-138,17,18,19,-22]]],\\\"id\\\":2},{\\\"properties\\\":{\\\"State\\\":\\\"Indiana\\\",\\\"Title\\\":\\\"Indiana Spatial Data Portal|Indiana Statewide LiDAR: 2011-2013|Indiana Statewide LiDAR: 2016-2019\\\",\\\"sourceURL\\\":\\\"http://gis.iu.edu|https://doi.org/10.5069/G9959FHZ|https://lidar.jinha.org/\\\",\\\"btaaURL\\\":\\\"https://geo.btaa.org/?q=01d\\\",\\\"totalRecords\\\":4819},\\\"type\\\":\\\"MultiPolygon\\\",\\\"arcs\\\":[[[20,-139,21,22,-166]]],\\\"id\\\":3},{\\\"properties\\\":{\\\"State\\\":\\\"Maryland\\\",\\\"Title\\\":\\\"Maryland iMap\\\",\\\"sourceURL\\\":\\\"http://data.imap.maryland.gov\\\",\\\"btaaURL\\\":\\\"https://geo.btaa.org/?q=04a\\\",\\\"totalRecords\\\":1234},\\\"type\\\":\\\"MultiPolygon\\\",\\\"arcs\\\":[[[23]],[[24]],[[25]],[[26]],[[27]],[[28]],[[29]],[[30]],[[31]],[[32]],[[33]],[[34]],[[35]],[[36]],[[37]],[[38]],[[39]],[[40,41]]],\\\"id\\\":4},{\\\"properties\\\":{\\\"State\\\":\\\"Michigan\\\",\\\"Title\\\":\\\"Michigan DNR Open Data Portal|State of Michigan Open Data Portal\\\",\\\"sourceURL\\\":\\\"https://gis-midnr.opendata.arcgis.com|http://gis-michigan.opendata.arcgis.com\\\",\\\"btaaURL\\\":\\\"https://geo.btaa.org/?q=06a\\\",\\\"totalRecords\\\":2803},\\\"type\\\":\\\"MultiPolygon\\\",\\\"arcs\\\":[[[42]],[[43]],[[44]],[[45]],[[46]],[[47]],[[48]],[[49]],[[50]],[[51]],[[52]],[[53]],[[54]],[[55]],[[56]],[[57]],[[58]],[[59]],[[60]],[[61]],[[62]],[[63]],[[64]],[[65]],[[66]],[[67]],[[68]],[[69]],[[70]],[[71]],[[72]],[[73]],[[74]],[[75]],[[76]],[[77]],[[78]],[[79]],[[80]],[[81]],[[82]],[[83]],[[84]],[[85]],[[86]],[[87]],[[88]],[[89]],[[90]],[[91]],[[92]],[[93]],[[94]],[[95]],[[96]],[[97]],[[98]],[[99]],[[100]],[[101]],[[102]],[[103]],[[104]],[[105]],[[106]],[[107]],[[108]],[[109]],[[110]],[[111]],[[112]],[[113]],[[114]],[[115]],[[116]],[[117]],[[118]],[[119]],[[120]],[[121]],[[122]],[[123]],[[124]],[[125]],[[126]],[[127]],[[128]],[[129]],[[130]],[[131]],[[132]],[[133]],[[134]],[[135]],[[136,137,138]],[[139]],[[140]],[[141]],[[142]],[[143]],[[144]],[[145]],[[146]],[[147]],[[148]],[[149]],[[150]],[[151]],[[152]],[[153]],[[154]]],\\\"id\\\":5},{\\\"properties\\\":{\\\"State\\\":\\\"Minnesota\\\",\\\"Title\\\":\\\"Minnesota Legislative Coordinating Commission - Geospatial Information (LCC-GIS)|Minnesota Geospatial Commons\\\",\\\"sourceURL\\\":\\\"https://www.gis.leg.mn/html/download.html|https://gisdata.mn.gov\\\",\\\"btaaURL\\\":\\\"https://geo.btaa.org/?q=05a\\\",\\\"totalRecords\\\":4136},\\\"type\\\":\\\"MultiPolygon\\\",\\\"arcs\\\":[[[155]],[[156]],[[157]],[[158]],[[159,160]]],\\\"id\\\":6},{\\\"properties\\\":{\\\"State\\\":\\\"Nebraska\\\",\\\"Title\\\":\\\"Natural Resources Data Bank|Nebraska Department of Transportation Map Gallery|Nebraska Game & Parks Map and Data Portal|NebraskaMap\\\",\\\"sourceURL\\\":\\\"https://dnr.nebraska.gov/data|https://dot.nebraska.gov/travel/map-library/|https://data-outdoornebraska.opendata.arcgis.com/|https://www.nebraskamap.gov\\\",\\\"btaaURL\\\":\\\"https://geo.btaa.org/?q=13a\\\",\\\"totalRecords\\\":156},\\\"type\\\":\\\"MultiPolygon\\\",\\\"arcs\\\":[[[161,162]]],\\\"id\\\":7},{\\\"properties\\\":{\\\"State\\\":\\\"Illinois\\\",\\\"Title\\\":\\\"State of Illinois Data Portal\\\",\\\"sourceURL\\\":\\\"https://data.illinois.gov\\\",\\\"btaaURL\\\":\\\"https://geo.btaa.org/?q=02a\\\",\\\"totalRecords\\\":184},\\\"type\\\":\\\"MultiPolygon\\\",\\\"arcs\\\":[[[163,164,165,166]]],\\\"id\\\":8},{\\\"properties\\\":{\\\"State\\\":\\\"New Jersey\\\",\\\"Title\\\":\\\"New Jersey Geographic Information Network (NJGIN) Open Data Portal|New Jersey Department of Environmental Protection's (NJDEP) Bureau of GIS\\\",\\\"sourceURL\\\":\\\"https://njogis-newjersey.opendata.arcgis.com|https://gisdata-njdep.opendata.arcgis.com\\\",\\\"btaaURL\\\":\\\"https://geo.btaa.org/?q=14a\\\",\\\"totalRecords\\\":529},\\\"type\\\":\\\"MultiPolygon\\\",\\\"arcs\\\":[[[167,168]]],\\\"id\\\":9}],\\\"type\\\":\\\"GeometryCollection\\\"}},\\\"bbox\\\":[-11583184.193730762,4434967.519736575,-8225840.114968851,6340332.343706039],\\\"transform\\\":{\\\"scale\\\":[33.57377652538436,19.05383877808242],\\\"translate\\\":[-11583184.193730762,4434967.519736575]},\\\"arcs\\\":[[[78031,37927],[46,36],[23,29],[6,0],[6,11],[20,5],[43,34],[3,2],[34,23],[25,17],[57,50],[10,15],[17,1],[28,17],[12,14],[34,13],[16,13],[11,4],[34,30],[10,7],[47,47],[7,-3],[24,25],[1,2],[4,4],[5,2],[6,2],[24,9],[12,5],[1,1],[12,9],[3,2],[39,28],[8,7],[32,29],[72,66],[7,6],[18,25],[62,53],[16,11],[19,25],[16,21],[32,34],[7,12],[16,33],[14,14],[10,-5],[9,4],[13,12],[6,5],[13,9],[7,4],[12,9],[23,23],[7,17],[14,12],[13,2],[28,30],[5,6],[24,30],[22,27],[27,34],[25,37],[6,14],[3,5],[3,8],[3,6],[0,3],[1,4],[24,104],[36,162],[4,10],[17,43],[2,4],[29,51],[8,14],[9,11],[21,23],[28,21],[14,4],[24,7],[6,-2],[18,-3],[26,0],[24,-6],[-5,-40],[-9,11],[-9,-11],[-1,-1],[-7,-3],[-2,-1],[-9,-4],[-4,-16],[3,-7],[23,-56],[0,-1],[1,-1],[-3,-13],[-6,-6],[0,-3],[5,-14],[-4,-6],[3,-8],[-6,-8],[4,-10],[2,-2],[5,-3],[10,-5],[11,-2],[3,-1],[8,-1],[4,-1],[37,40],[16,17],[11,12],[1,1],[29,30],[38,41],[0,1],[20,27],[10,0],[58,65],[15,16],[3,4],[11,14],[2,14],[0,3],[16,16],[10,9],[13,10],[41,49],[39,47],[29,34],[31,38],[1,0],[11,3],[13,4],[12,17],[7,9],[13,4],[16,15],[7,17],[9,0],[12,10],[16,22],[33,43],[9,11],[34,44],[10,-13],[85,41],[31,34],[12,23],[21,5],[21,10],[20,37],[19,17],[27,33],[2,2],[20,23],[15,17],[15,24],[19,11],[12,-11],[7,10],[17,16],[16,20],[0,-146],[-1,-65],[0,-95],[1,-374],[0,-260],[-1,-153],[2,-96],[0,-2],[-1,-256],[0,-529],[2,-157],[302,2],[83,-1],[47,-1],[19,-1],[0,1],[48,-1],[197,-2],[43,-1],[34,-1],[57,0],[128,-2],[203,2],[102,0],[313,2],[120,1],[51,1],[182,4],[3,0],[111,-1],[50,0],[228,-1],[64,0],[195,-2],[19,-1],[53,-1],[56,-2],[85,-3],[44,-1],[102,-3],[157,2],[156,1],[102,1],[116,4],[58,1],[263,7],[71,2],[56,0],[154,-1],[233,0],[62,-1],[193,0],[119,-1],[139,0],[4,-1],[76,-2],[43,-1],[8,0],[10,1],[196,4],[51,1],[220,6],[11,-1],[108,-2],[48,-2],[6,0],[58,-1],[79,-2],[1,-1],[111,-5],[134,0],[253,-1],[192,0],[242,2],[70,0],[309,4],[85,1],[347,5],[4,0],[92,-1],[160,0],[325,-2],[129,0],[237,-1],[64,-1],[185,0],[66,-1],[33,2],[104,4],[65,3],[36,0],[150,3],[139,3],[77,3],[68,0],[4,1],[299,0],[49,-1],[227,0],[55,-1],[8,0],[75,-1],[14,-1],[210,-4],[266,-5],[1,0],[30,-1],[45,-1],[10,0],[26,-1],[3,0],[38,-1],[127,-4],[23,0],[15,-1],[267,-3],[105,-1],[20,-1],[162,1],[64,1],[38,0],[197,1],[197,2],[72,0],[42,-1],[17,0],[152,1],[220,0],[16,1],[29,0],[72,-1],[225,-1],[66,0],[323,-6],[35,0],[68,-2],[287,6],[150,3],[9,0],[181,1],[47,0],[183,1],[2,0],[20,2],[135,-1],[15,0],[240,1],[20,-19],[23,-14],[14,-16],[4,-4],[11,-47],[0,-19],[-16,-79],[1,-11],[9,-16],[12,-4],[4,-2],[18,-15],[23,-51],[8,-6],[6,-52],[18,-32],[8,-10],[21,-6],[8,2],[1,4],[-1,26],[0,4],[4,9],[6,5],[16,0],[8,-16],[-2,-43],[3,-16],[5,-17],[34,-31],[7,-42],[0,-8],[2,-46],[0,-35],[4,-21],[18,-64],[8,-34],[-1,-40],[-17,-38],[1,-31],[4,-46],[12,-10],[16,-7],[8,-11],[10,-52],[-3,-16],[-10,-14],[-8,-20],[1,-21],[2,-15],[8,-18],[9,-13],[22,-1],[10,10],[16,28],[7,2],[8,-12],[14,-32],[10,-16],[19,-16],[7,0],[12,24],[17,54],[4,3],[13,11],[19,5],[21,-8],[11,-12],[10,-18],[4,-20],[5,-9],[6,-9],[6,-2],[4,5],[5,13],[6,27],[5,34],[8,19],[7,2],[13,-8],[4,-9],[1,-2],[4,-25],[-3,-61],[9,-42],[6,-18],[9,-14],[17,-12],[12,2],[21,18],[9,7],[12,3],[31,-55],[10,-2],[30,8],[11,-10],[3,-8],[4,-23],[0,-34],[-5,-47],[-1,-24],[1,-12],[5,-23],[44,-35],[22,-39],[13,-14],[12,0],[20,25],[6,3],[12,0],[8,-11],[1,-14],[-1,-28],[-6,-38],[-2,-11],[-8,-28],[-5,-9],[-10,-7],[-23,8],[-15,-9],[-29,-66],[-2,-11],[-5,-36],[-1,-25],[-2,-36],[1,-12],[3,-11],[8,-17],[18,-6],[9,0],[44,23],[12,2],[6,-8],[2,-6],[3,-7],[13,-12],[13,-5],[13,-16],[16,-61],[9,-34],[2,-61],[-7,-75],[3,-39],[1,-23],[13,-95],[-1,-14],[-2,-10],[-5,-5],[-30,12],[-18,-2],[-7,-19],[0,-16],[5,-21],[2,-4],[22,-41],[11,-31],[13,-58],[5,-46],[0,-20],[-5,-11],[-20,-32],[-2,-16],[3,-21],[4,-6],[11,-6],[13,-44],[4,-48],[0,-50],[-2,-64],[2,-63],[2,-14],[15,-65],[-2,-44],[-4,-14],[-6,-3],[-4,1],[-11,17],[-7,4],[-20,-9],[-5,-8],[-1,-8],[3,-13],[3,-12],[1,-11],[-10,-9],[-17,4],[-10,-4],[-3,-1],[-10,-13],[0,-17],[17,-31],[9,-18],[11,-37],[8,-22],[4,-8],[24,-24],[20,-35],[9,-64],[12,-42],[11,-21],[13,-15],[13,-4],[6,-8],[29,-92],[8,-41],[0,-18],[-5,-12],[-17,-10],[-6,-13],[0,-36],[2,-9],[3,-7],[22,-8],[5,-5],[18,-23],[19,-35],[9,-26],[1,-11],[0,-13],[-6,-24],[-3,-26],[0,-15],[1,-9],[12,-6],[19,11],[21,0],[6,-7],[5,-10],[1,-10],[5,-34],[1,-19],[-1,-16],[-9,-57],[-1,-16],[0,-10],[3,-24],[4,-14],[6,-8],[39,-19],[13,-3],[25,-5],[6,2],[28,31],[8,20],[13,2],[30,-9],[19,-31],[9,-10],[23,0],[15,-11],[1,-1],[11,-24],[3,-34],[1,-27],[4,-27],[8,-11],[31,-12],[10,-10],[5,-13],[4,-21],[1,-11],[-20,-40],[-5,-30],[2,-17],[7,-9],[17,-5],[40,16],[39,29],[21,3],[14,-9],[19,-24],[10,-20],[29,-46],[7,-7],[13,-2],[7,1],[9,8],[10,40],[11,19],[5,10],[8,7],[12,12],[15,-1],[6,-6],[15,-31],[3,-16],[1,-26],[1,-11],[14,-57],[5,-10],[12,-8],[20,6],[21,21],[16,9],[8,0],[23,-21],[17,-2],[14,14],[12,22],[23,21],[10,4],[8,-4],[5,-10],[1,-1],[4,-14],[2,-13],[0,-24],[-13,-72],[-8,-16],[-2,-27],[3,-22],[8,-31],[8,-21],[8,-11],[11,-11],[31,-7],[17,-17],[8,-21],[3,-17],[7,-43],[6,-25],[9,-14],[9,-16],[20,-26],[7,-10],[13,-24],[5,-27],[-1,-18],[-4,-10],[-15,-19],[-3,-4],[5,1]],[[94956,21110],[-28,36],[-15,20],[-20,19],[-11,11],[-42,41],[-17,17],[-16,13],[-11,10],[-1,0],[-30,21],[-10,6],[-19,13],[-39,22],[-19,10],[-1,0],[-64,23],[-1,0],[-68,14],[-3,0],[-3,1],[-34,2],[-64,3],[-29,-3],[-2,0],[-44,-8],[-2,0],[-4,-2],[-3,-1],[-71,-24],[-58,-29],[-22,-14],[-71,-54],[-14,-15],[-48,-48],[-15,-14],[-50,-65],[-15,-23],[-37,-57],[-8,-14],[-14,-24],[-5,-9],[-7,-13],[-31,-64],[-10,-21],[0,-1],[-16,-38],[-24,-63],[-5,-14],[-5,-16],[-15,-51],[-3,-10],[-1,-2],[-19,-70],[0,-2],[-26,-119],[-49,0]],[[81489,20496],[-159,-2],[-79,0],[-199,2],[-7,1],[-74,0],[-93,-1],[-193,-1],[-148,-1],[-147,-1],[-166,0],[-168,1],[-25,0],[-416,3],[-65,1],[-707,0],[-64,-1],[-544,0],[-204,1],[0,645],[1,235],[0,144],[1,266],[-1,350],[0,606],[1,439],[0,334],[-1,321],[0,1310],[1,86],[1,59],[2,137],[0,428],[1,300],[0,8],[-2,38],[-2,40],[0,28],[-1,312],[0,757],[1,0],[0,173]],[[42559,50043],[-2,-27],[1,-21],[2,-29],[7,-50],[-2,-30],[-15,-79],[-14,-46],[-16,-24],[-5,-12],[-4,-9],[-3,-18],[-1,-21],[4,-34],[12,-43],[65,-151],[6,-14],[6,-17],[8,-25],[6,-32],[3,-25],[-1,-34],[4,-44],[4,-31],[2,-31],[-5,-44],[-5,-32],[-14,-56],[-4,-32],[-4,-10],[-20,-29],[-6,-17],[1,-17],[1,-4],[26,-102],[0,-1],[9,-22],[5,-4],[2,-2],[46,-12],[23,-13],[32,-38],[1,-2],[54,-49],[58,-41],[15,-14],[12,-13],[27,-41],[11,-16],[35,-45],[71,-175],[19,-73],[21,-65],[6,-26],[1,-26],[-4,-31],[0,-18],[3,-9],[6,-6],[27,-2],[7,-7],[4,-12],[2,-18],[0,-11],[-6,-44],[-6,-30],[-3,-13],[-13,-31],[-18,-33],[-25,-55],[-1,-2],[-26,-50],[-33,-59],[-35,-63],[-5,-8],[-14,-22],[-18,-20],[-10,-25],[-6,-30],[-1,-45],[-33,-108],[-6,-8],[-9,-27],[-9,-52],[0,-4],[-6,-53],[-9,-30],[-1,-2],[-32,-73],[-1,-3],[-14,-19],[-33,-26],[-16,-21],[-6,-23],[-3,-24],[-1,-31],[2,-50],[8,-120],[-6,-188],[-1,-58],[-5,-19],[-2,-25],[5,-26],[0,-17],[5,-85],[3,-60],[1,-7],[2,-35],[1,-6],[0,-3],[6,-41],[14,-104],[1,-6],[35,-217],[2,-27],[0,-3],[1,-76],[3,-20],[16,-42],[9,-35],[3,-13],[2,-9],[4,-41],[0,-14],[-12,-79],[-3,-37],[0,-13],[15,-79],[4,-30],[1,-30],[0,-18],[-7,-45],[-1,-21],[0,-20],[2,-15],[3,-16],[5,-10],[18,-7],[25,-24],[43,-40],[6,-9],[11,-28],[27,-41],[12,-23],[7,-58],[-2,-91],[4,-36],[8,-37],[12,-32],[1,-11],[-1,-10],[-4,-41],[-7,-62],[0,-6],[3,-33],[13,-13],[25,6],[13,-18],[-2,-59],[2,-42],[2,-67],[8,-84],[1,-4],[10,-62],[4,-38],[2,-59],[2,-33],[2,-14],[20,-45],[10,-17],[1,-15],[-5,-16],[-5,-5],[-8,-2],[-1,-29],[4,-20],[15,-4],[7,-9],[5,-16],[5,-21],[0,-33],[4,-18],[8,-10],[4,-1],[12,3],[8,11],[16,-1],[13,-9],[11,-23],[3,-15],[0,-1],[1,-22],[4,-23],[9,-20],[30,-35],[2,-2],[5,-3],[2,1],[18,6],[32,-31],[15,-20],[22,-40],[28,-77],[9,-17],[12,-13],[30,-16],[35,-43],[7,-8],[11,-10],[25,-13],[15,-4],[24,6],[20,11],[9,-1],[25,-20],[44,-53],[4,-3],[7,-5],[31,-22],[21,-9],[47,-21],[48,-31],[29,-13],[37,-12],[15,-6],[75,-29],[28,-11],[29,-15],[24,-6],[6,-1],[2,-1],[30,-12],[23,-14],[8,-4],[55,-29],[42,-16],[36,-22],[36,-37],[10,-15],[12,-27],[6,-34],[3,-32],[20,-63],[10,-55],[10,-67],[0,-36],[3,-23],[5,-17],[20,-64],[8,-18],[8,-11],[6,-10],[15,-27],[22,-41],[1,-4],[7,-76],[17,-64],[25,-40],[3,-6],[6,-29],[6,-54],[5,-47],[13,-71],[-1,-44],[-20,-37]],[[41890,25512],[-9,20],[-11,12],[-38,21],[-14,8],[-24,-56],[-13,-26],[-38,1],[-4,4],[-3,16],[4,20],[-1,33],[-23,-18],[-27,-8],[-7,2],[-7,14],[-22,73],[1,14],[7,37],[2,18],[1,11],[-3,4],[-4,0],[-9,-11],[-4,-4],[-14,-4],[-24,12],[-5,7],[-2,9],[-6,9],[-16,14],[-15,1],[-13,7],[-7,9],[-6,20],[-2,26],[1,24],[17,51],[8,37],[0,11],[-3,7],[-17,-2],[-13,6],[-12,20],[-3,12],[0,19],[5,14],[20,30],[7,14],[2,13],[1,12],[0,4],[-2,26],[-1,6],[-4,11],[-3,6],[-9,3],[-19,-2],[-31,-4],[-29,5],[-27,12],[-10,5],[-13,10],[-24,25],[-4,9],[-14,33],[-4,14],[-3,14],[-3,34],[-12,62],[-13,39],[-13,21],[-25,21],[-20,18],[-15,17],[-13,19],[-9,18],[-6,23],[-3,33],[0,20],[11,71],[3,60],[-3,39],[-4,13],[-1,2],[-5,9],[-4,3],[-7,7],[-43,15],[-53,28],[-56,14],[-35,16],[-23,33],[-3,8],[-4,12],[-3,17],[0,21],[19,91],[2,17],[-4,15],[-8,19],[-25,37],[-52,53],[-15,27],[-11,23],[-30,93],[-189,-16],[-31,-3],[-16,-2],[-46,-3],[-34,-2],[-2,0],[-25,-3],[0,-1],[-3,0],[-116,-13],[-12,-1],[-129,-8],[-94,-6],[-13,-2],[-15,-3],[-3,0],[-74,-3],[-92,-5],[-103,-5],[-78,-5],[-2,0],[-34,-3],[-13,-1],[-5,1],[-43,-4],[-2,0],[-32,-1],[-12,-2],[-277,-10],[-72,-4],[-53,-1],[-16,-1],[-47,-2],[-31,-1],[-158,-6],[-17,-1],[-108,-5],[-1,0],[-64,-4],[-95,-6],[-98,-3],[-62,-3],[-86,-3],[-26,0],[-38,-1],[-29,-2],[-9,0],[-125,-8],[-5,-1],[-118,-8],[-70,-4],[-126,-7],[-65,-3],[-4,0],[-157,-8],[-11,0],[-82,-2],[-92,-3],[-20,-1],[-15,-1],[-15,0],[-234,-3],[-23,-1],[-74,0],[-14,-1],[-5,-1],[-14,0],[-40,1],[-35,-2],[-45,-1],[-127,-1],[-6,0],[-43,-2],[-4,-1],[-61,-3],[-21,-1],[-14,-1],[-328,-18],[-14,-1],[-25,-2],[-4,0],[-123,-9],[-227,-8],[-27,-2],[-160,-6],[-94,0],[-95,-1],[-34,0],[-59,-1],[-96,-1],[-223,-3],[-78,1],[-5,0],[-74,1],[-81,1],[-23,1],[-24,0],[-1,-1],[-86,0],[-10,-1],[-6,0],[-7,1],[-14,-2],[-4,0],[-103,-5],[-85,-4],[-33,-1],[-77,-3],[-10,-1],[-9,1],[-23,-1],[-1,0],[-7,-1],[-19,0],[-44,-2],[-32,-1],[-75,-1],[-19,-1],[-48,0],[-17,1],[-8,1],[-66,-1],[-14,0],[-41,-1],[-48,-1],[-47,-1],[-11,-1],[-20,-1],[-53,-1],[-43,-2],[-117,-4],[-31,0],[-3,-1],[-5,-1],[-44,-1],[-72,-3],[-2,0],[-2,1],[-5,-1],[-4,-1],[-80,-3],[-43,-1],[-35,-2],[-53,-2],[-40,-2],[-62,-2],[-126,-4],[-27,-1],[-1,0],[-29,-1],[-6,1],[-91,-2],[-5,0],[-33,-1],[-339,-5],[-36,-1],[-147,-2],[-24,-1],[-53,1],[-86,0],[0,-1],[-72,0],[-103,-1],[-134,-2],[-102,0],[-33,-1],[-2,0],[-60,-1],[-163,0],[-11,1],[-19,0],[-127,1],[-27,0],[-126,1],[-127,4],[-41,1],[-19,1],[-32,1],[-56,1],[-6,0],[-96,3],[-94,3],[-86,3],[-5,0],[-33,1],[-29,2],[-12,2],[-242,6],[-16,1],[-44,1],[-128,5],[-6,0],[-37,1],[-84,-1],[-100,4],[-3,0],[-26,1],[-30,1],[-97,3],[-36,1],[-59,1],[-42,0],[-1,1],[-6,0],[-28,1],[-81,3],[-62,2],[-1,0],[-126,4],[-31,1],[-6,0],[-14,1],[-24,0],[-19,1],[-94,2],[-254,5],[-74,2],[-53,3],[-138,4],[-52,1],[-79,2],[-48,1],[-62,1],[-37,1],[-87,2],[-4,1],[-21,1],[-41,1],[-32,1],[-63,3],[-122,4],[-1,0],[-89,5],[-13,1],[-34,0],[-117,1],[-196,4],[-63,2]],[[25226,41975],[-9,-1],[-7,4],[-20,12],[-24,-16],[-9,3],[-11,4],[-1,-9],[-3,-6],[-5,-2],[-11,3],[-5,12],[-3,26],[1,9],[3,18],[7,27],[2,16],[2,3],[-13,48],[-7,12],[-14,-6],[-21,16],[-10,39],[7,24],[11,9],[25,21],[1,0],[0,1],[3,17],[-1,1],[-2,24],[7,48],[2,86],[0,76],[-5,3],[-20,4],[-15,-1],[-9,-2],[-12,-1],[-6,4],[-4,9],[-2,22],[1,2],[36,82],[7,17],[0,11],[-3,9],[-16,7],[-13,20],[-2,11],[2,15],[3,10],[-1,13],[-6,16],[-11,7],[-3,5],[-1,8],[-1,3],[4,17],[0,11],[-14,86],[-16,62],[-13,17],[-13,3],[-8,-7],[-9,-15],[-11,-25],[-8,-3],[-6,11],[-6,38],[3,16],[8,10],[14,2],[10,4],[8,9],[7,16],[2,21],[1,11],[1,10],[-3,22],[-35,86],[-23,18],[-14,23],[-2,14],[1,7],[2,25],[-1,26],[-15,42],[-4,5],[-10,1],[-31,-28],[-11,-1],[-2,6],[0,34],[4,6],[8,2],[0,4],[-14,38],[-20,54],[-5,2],[-3,-6],[-4,-11],[-2,-19],[-5,-7],[-13,4],[-8,6],[2,6],[9,21],[4,12],[0,8],[-4,37],[-34,35],[-20,8],[-16,4],[3,21],[-3,31],[-9,17],[-5,4],[-4,-2],[-10,-19],[-4,-3],[-13,-1],[-7,9],[0,7],[1,4],[0,3],[-1,5],[-1,2],[-3,3],[-2,0],[-2,-1],[-2,0],[-14,12],[-34,40],[-3,6],[3,23],[8,9],[9,35],[-1,89],[-5,3],[-18,-7],[-23,79],[-1,6],[-2,10],[0,1],[12,31],[12,37],[6,38],[15,18],[18,7],[4,10],[-3,18],[-3,8],[-4,3],[-6,-5],[-15,-2],[-11,31],[-1,2],[-3,52],[4,21],[6,0],[12,20],[1,1],[15,45],[8,38],[13,8],[36,-15],[3,5],[4,32],[24,42],[9,65],[6,56],[0,6],[-5,8],[-11,4],[-1,36],[3,7],[13,-4],[18,21],[4,8],[3,11],[19,58],[0,8],[-15,40],[2,30],[6,5],[28,-7],[16,-45],[3,-9],[9,5],[1,42],[3,10],[4,14],[7,1],[8,-22],[7,-5],[6,0],[3,4],[1,3],[5,17],[-2,13],[-7,9],[-7,14],[-1,20],[3,11],[9,1],[18,19],[4,10],[9,51],[0,10],[-4,6],[-2,-2],[-1,-9],[-5,-9],[-4,1],[-13,47],[0,4],[2,53],[8,27],[3,6],[8,1],[20,31],[-2,61],[-6,22],[1,6],[19,8],[22,-1],[5,11],[-1,15],[-8,33],[-23,24],[-12,-8],[-5,15],[-6,15],[-1,7],[2,4],[13,-4],[7,9],[-3,25],[0,2],[-2,13],[-7,63],[-5,16],[0,16],[2,15],[51,88],[7,2],[8,-8],[2,-16],[4,-6],[3,-1],[5,5],[2,10],[0,13],[-13,22],[1,13],[17,31],[13,6],[5,6],[4,27],[11,49],[15,37],[-9,71],[-7,21],[-3,4],[-16,-1],[-17,13],[-14,38],[-2,22],[13,9],[1,1],[14,34],[0,23],[-2,21],[10,30],[9,11],[15,4],[4,2],[4,3],[8,4],[4,5],[8,24],[5,26],[4,37],[-7,27],[-3,12],[-3,9],[-12,28],[-14,5],[-26,39],[-2,9],[-4,21],[0,12],[7,16],[6,38],[0,5],[-9,21],[-7,-1],[-6,-4],[-5,7],[-4,15],[27,63],[4,0],[13,-10],[11,-1],[38,18],[5,5],[2,20],[5,12],[33,55],[12,10],[11,-12],[5,-2],[17,9],[8,8],[9,29],[9,60],[4,66],[0,7],[-1,21],[-3,10],[-24,12],[-1,15],[8,28],[29,44],[12,32],[29,76],[9,55],[-10,9],[-4,9],[-3,13],[-3,33],[-2,40],[-23,67],[-18,16],[-11,-7],[-3,2],[-17,32],[-5,22],[-3,74],[0,36],[8,144],[0,8],[-7,12],[-6,0],[-2,2],[-10,7],[-4,33],[0,72],[10,51],[0,17],[-5,18],[-9,63],[-2,30],[-4,7],[-27,17],[-1,1],[-21,-3],[-16,-1],[-15,-24],[-38,-17],[-23,-7],[-6,4],[-3,22],[-16,25],[-30,29],[-14,-16],[-16,2],[-11,8],[-22,-1],[-5,-6],[-3,-10],[-6,-6],[-4,1],[-27,59],[-2,15],[-7,44],[20,43],[20,7],[20,17],[3,31],[-1,50],[0,3],[-3,11],[-5,7],[-7,-7],[-10,1],[-14,8],[-14,19],[-28,46],[-20,-5],[-8,9],[-3,44],[9,21],[2,-3],[0,-16],[7,2],[7,22],[3,19],[-3,35],[-7,38],[4,35],[-5,14],[-10,-17],[-10,-10],[-6,15],[2,22],[9,3],[9,11],[9,1],[22,7],[6,-7],[4,-12],[5,-10],[16,-6],[30,0],[7,-15],[12,7],[28,14],[35,36],[10,55],[5,25],[1,20],[-11,33],[-14,97],[-6,63],[10,18],[16,43],[8,23],[1,2],[0,8],[-4,1],[-3,28],[-2,84],[-1,47],[3,2],[14,29],[3,21],[0,11],[-1,78],[-8,73],[-4,13],[-13,11],[-3,-1],[0,-9],[-3,-7],[-20,-4],[-53,73],[-15,21],[-17,48],[-19,36],[-17,16],[9,37],[4,30],[-2,9],[-16,25],[-23,4],[-19,-5],[-6,4],[0,1],[-11,7],[-5,8],[-20,93],[-7,32],[-1,10],[3,18],[6,32],[20,30],[20,33],[9,0],[9,17],[-7,21],[-1,12],[4,25],[-1,11],[-9,14],[1,9],[18,23],[-4,17],[-3,-2],[-10,3],[-3,11],[3,7],[-2,15],[8,9],[-2,9],[-4,10],[-13,6],[-1,19],[-4,1],[-10,-9],[-12,15],[-3,7],[1,36],[223,0],[260,-1]],[[70683,34995],[6,7],[13,16],[19,26],[4,54],[14,24],[38,0],[13,-15],[-7,-22],[6,-7],[11,-14],[17,-10],[14,3],[1,2],[16,27],[8,12],[11,19],[5,17],[10,30],[8,-7],[-16,-62],[-1,-6],[-9,-36],[9,-21],[-4,-35],[0,-33],[10,-18],[-4,-10],[-10,-10],[-17,-57],[-1,0],[-9,-11],[-9,5],[-3,-2],[-24,-10],[-11,16],[-5,27],[-3,14],[-40,21],[-25,2],[-1,0],[-1,0],[-13,20],[-20,25],[0,19]],[[70661,34161],[8,18],[3,2],[13,7],[6,21],[11,6],[9,-7],[-7,-25],[-3,-28],[-2,-15],[-11,-24],[-10,-11],[-9,-1],[-3,0],[-6,30],[1,27]],[[70509,35579],[4,4],[5,4],[4,-1],[1,-3],[0,-1],[0,-5],[-2,-4],[-3,-3],[-4,-1],[-3,4],[-2,6]],[[70382,35631],[19,24],[1,3],[4,11],[4,3],[17,16],[7,0],[21,2],[12,16],[26,12],[27,10],[13,4],[3,-15],[-13,-6],[-21,-17],[-6,-1],[-12,-3],[-15,-7],[-6,-11],[-5,-10],[1,-57],[-12,-27],[-1,-18],[0,-6],[6,-23],[-11,-10],[-17,1],[-5,24],[-4,21],[3,16],[-6,20],[-25,10],[-5,18]],[[70369,35686],[4,4],[10,9],[5,0],[7,-12],[0,-1],[-2,0],[-7,-4],[0,-2],[-4,2],[-4,-1],[-3,1],[-2,1],[-1,-3],[-1,-2],[-2,4],[0,2],[0,2]],[[70355,34899],[3,3],[3,3],[1,1],[4,1],[1,-2],[1,-2],[0,-2],[-6,-5],[-5,-3],[-2,1],[0,3],[0,2]],[[70352,35835],[9,38],[16,19],[7,37],[18,13],[23,-8],[10,-23],[-5,-26],[3,-34],[7,-36],[-16,-8],[-8,-4],[-10,3],[-16,4],[-17,16],[-9,-9],[-11,3],[-1,15]],[[70324,35332],[33,83],[28,20],[20,-6],[2,-4],[11,-22],[15,15],[4,15],[4,17],[11,21],[30,13],[11,-10],[-8,-19],[-7,-32],[-17,-33],[-10,1],[-1,0],[-13,1],[-9,-24],[0,-24],[0,-17],[-6,-12],[-19,-36],[-15,-17],[-8,-30],[-25,-34],[-25,-8],[1,12],[5,33],[8,41],[0,27],[-11,11],[-9,18]],[[70282,35610],[1,2],[5,-1],[2,-5],[5,-4],[4,-2],[3,-1],[5,-1],[4,-1],[4,-4],[2,-3],[1,-1],[2,-2],[2,-2],[0,-3],[-4,-4],[-3,-1],[-3,-3],[-1,-2],[-3,-1],[-5,3],[-3,6],[-1,6],[-3,7],[-4,4],[-3,1],[-4,1],[-3,8],[0,1],[0,2]],[[70245,35327],[7,2],[7,4],[1,0],[4,-12],[-8,-5],[-13,0],[2,11]],[[69440,36046],[1,4],[2,4],[5,12],[2,6],[2,5],[4,3],[2,5],[2,0],[4,-2],[2,-3],[1,-1],[1,0],[3,0],[1,-5],[0,-4],[-2,-7],[-1,-4],[-1,-6],[-3,-4],[-5,-6],[-2,-1],[-2,0],[0,-3],[0,-3],[-10,4],[-6,-1],[-1,2],[1,5]],[[68302,36006],[-6,-40],[0,-1],[-16,-1],[-6,-13],[0,-1],[-14,-23],[-5,-14],[-5,-17],[-3,-13],[-1,-7],[0,-1],[-4,-26],[-2,-14],[-1,-5],[-3,-18],[-2,-17],[-1,-10],[-9,-5],[-1,-2],[-4,-12],[1,-1],[5,-27],[9,-2],[16,-16],[-4,-11],[-6,-13],[6,-5],[13,-9],[7,14],[3,5],[1,3],[8,14],[1,1],[7,8],[6,6],[13,14],[5,4],[11,7],[16,32],[42,46],[8,9],[20,-52],[7,-20],[-32,-36],[-2,-1],[-13,-14],[0,-1],[-6,-20],[18,-21],[1,-2],[1,0],[23,-11],[5,3],[18,11],[12,-15],[9,15],[1,1],[25,2],[2,0],[10,-9],[1,0],[18,12],[14,-21],[25,-21],[16,1],[1,0],[26,4],[15,-5],[21,1],[15,6],[2,8],[3,8],[30,31],[13,41],[0,37],[8,20],[29,-35],[19,-30],[55,-81],[-14,-35],[5,-35],[4,-12],[7,-5],[13,-5],[8,3],[30,0],[17,-1],[1,0],[16,-27],[62,-77],[17,-21],[55,-68],[1,-1],[8,-21],[0,-5],[-4,-21],[8,-11],[13,-15],[24,-25],[23,-1],[3,0],[67,-57],[96,-61],[66,-42],[43,-17],[13,6],[3,2],[21,-14],[39,-7],[20,-4],[24,-21],[35,-32],[37,-47],[28,-42],[17,-46],[1,-23],[15,-28],[12,-21],[13,-46],[5,-15],[5,-11],[15,-34],[33,-63],[11,-23],[34,-44],[1,-1],[55,-72],[4,-5],[4,-16],[50,-58],[46,-49],[23,-15],[14,-10],[6,-4],[44,-20],[2,-1],[2,0],[8,-4],[9,-4],[9,-19],[18,3],[55,9],[10,5],[39,21],[31,25],[32,42],[8,11],[3,3],[19,34],[27,67],[0,16],[15,28],[1,19],[1,22],[1,21],[7,17],[2,4],[6,19],[-4,8],[-8,14],[-5,30],[5,10],[1,10],[0,15],[-4,7],[-2,1],[-1,-4],[-1,-1],[-10,14],[2,14],[22,54],[18,18],[45,15],[9,-24],[13,-33],[10,-31],[14,-44],[21,-34],[3,-5],[24,-43],[37,-107],[30,-45],[4,0],[33,-1],[7,0],[2,1],[12,8],[13,8],[47,29],[5,-1],[22,-8],[7,-2],[8,-8],[64,-16],[9,-29],[14,-12],[-7,-21],[5,-45],[-1,-3],[-6,-26],[-4,-9],[-3,-13],[-12,-9],[-9,-30],[3,-18],[4,-32],[20,-67],[0,-4],[-2,-14],[4,-35],[0,-4],[2,-55],[1,-2],[-6,-11],[-4,12],[1,37],[0,36],[-14,24],[-4,14],[0,3],[-1,0],[3,28],[1,19],[-4,8],[-5,5],[-11,-3],[-2,11],[0,2],[-1,6],[-7,-1],[-1,0],[-14,-1],[-2,0],[-12,-3],[-4,1],[-22,6],[-4,1],[-25,-12],[-16,-30],[-10,-19],[-12,-14],[-2,0],[-27,-2],[-2,20],[-17,10],[-19,-7],[-10,11],[-1,2],[-13,-2],[-9,-16],[-20,12],[-18,0],[-27,-28],[-12,-26],[-2,-20],[-5,-38],[-10,-10],[-8,14],[-18,30],[-1,1],[-18,30],[-23,14],[-21,-18],[-17,-10],[-1,-5],[-5,-14],[-10,-10],[-8,-10],[-5,-3],[-15,-11],[-46,-21],[-15,2],[-11,-5],[-11,8],[-8,-7],[-15,2],[-5,-7],[-15,9],[-14,-8],[-29,6],[-10,-4],[-35,-15],[-12,0],[-37,10],[-6,2],[-8,3],[-3,1],[-18,-6],[-17,-28],[-5,-24],[-6,-23],[-4,-28],[-11,-28],[-8,-12],[0,-14],[-10,-4],[-3,0],[-24,-3],[-12,-21],[-7,-24],[-6,-9],[-11,4],[-5,8],[-9,5],[-12,7],[-10,13],[-19,-7],[-4,-1],[-24,-11],[-19,15],[-5,4],[-12,4],[-19,-13],[-3,-26],[4,-13],[1,-5],[8,-29],[14,9],[37,-7],[15,-6],[14,-6],[13,-5],[1,-1],[10,-22],[1,-1],[-13,-23],[7,-6],[-2,-3],[-11,11],[-22,34],[-3,-4],[-4,-4],[-6,1],[-7,1],[-9,-4],[0,-1],[-1,-2],[0,-5],[2,-6],[11,-5],[17,-9],[4,-5],[2,-2],[5,-13],[6,-1],[2,-1],[1,-2],[-3,-8],[-2,-2],[0,-37],[4,-24],[2,-36],[8,-2],[3,3],[4,14],[5,2],[1,-2],[-2,-15],[2,-6],[6,8],[3,8],[5,13],[-8,4],[-6,12],[0,27],[3,12],[4,-3],[12,19],[11,34],[13,2],[9,6],[5,12],[-4,7],[1,19],[0,4],[32,20],[2,-4],[5,-15],[12,-18],[11,-44],[8,-28],[0,-1],[17,-41],[4,-22],[3,-12],[14,-30],[4,-11],[9,-18],[27,-24],[25,0],[38,-4],[1,8],[1,7],[20,14],[34,34],[0,8],[6,5],[4,9],[-1,3],[3,5],[0,1],[4,0],[0,3],[1,2],[12,6],[3,7],[0,3],[4,2],[10,-1],[0,4],[1,-2],[6,0],[1,4],[4,-1],[0,13],[2,8],[24,44],[39,-20],[2,-1],[34,6],[2,4],[12,18],[3,3],[7,5],[2,3],[10,17],[4,7],[1,1],[3,5],[18,7],[1,1],[1,2],[3,2],[9,12],[13,15],[9,31],[0,10],[1,3],[-1,6],[0,15],[1,15],[0,9],[-1,9],[-3,37],[-1,10],[12,5],[17,-33],[5,1],[24,3],[0,8],[2,18],[1,17],[35,-86],[57,-75],[22,-26],[30,-35],[6,-8],[39,-14],[8,17],[15,15],[5,10],[5,9],[13,5],[10,-23],[1,7],[2,12],[12,78],[9,11],[-12,-78],[6,1],[3,3],[3,-20],[8,11],[-1,20],[3,1],[16,16],[12,13],[3,2],[14,12],[17,14],[12,10],[11,9],[4,3],[13,-27],[-5,-16],[9,-15],[11,-17],[4,13],[7,-3],[4,-1],[15,-5],[-1,-11],[0,-4],[5,-1],[6,2],[2,11],[9,-2],[6,-3],[-1,-4],[10,-2],[0,3],[3,6],[3,7],[20,0],[9,-21],[-5,-30],[-12,-5],[-1,5],[-11,-8],[-8,-5],[-12,-6],[-2,-4],[-2,-11],[5,-3],[4,5],[2,4],[3,1],[7,3],[5,4],[10,-16],[3,-16],[20,-20],[-1,-14],[2,-24],[11,12],[12,6],[11,-17],[5,-3],[9,-6],[12,-13],[0,-9],[3,-7],[1,-13],[4,-14],[4,-3],[2,9],[-4,7],[-1,10],[0,7],[4,-2],[12,-5],[19,-9],[1,-3],[5,-21],[2,-8],[0,-1],[1,-4],[7,-3],[5,-2],[23,-9],[9,-4],[1,-1],[16,-13],[9,-12],[4,-3],[4,-2],[-1,27],[2,5],[2,-6],[4,-13],[10,-13],[14,-19],[2,-2],[10,-5],[12,-14],[9,-10],[33,-18],[11,-12],[23,-33],[0,-1],[15,-21],[1,-1],[3,-2],[13,-11],[5,-4],[10,5],[28,-29],[2,-3],[1,-2],[6,-6],[7,-9],[1,-1],[9,-8],[20,-17],[1,0],[0,-1],[27,-23],[12,-10],[8,-3],[39,-17],[2,-2],[24,-3],[36,2],[3,2],[20,11],[18,11],[16,9],[11,6],[10,9],[26,24],[13,11],[12,9],[36,29],[6,7],[14,16],[52,60],[38,50],[13,9],[12,8],[40,29],[20,14],[24,29],[3,12],[0,3],[2,6],[1,-1],[15,-6],[27,2],[9,7],[13,11],[14,2],[13,1],[6,1],[37,1],[26,-4],[16,-2],[44,-7],[13,-1],[5,-1],[27,6],[50,12],[10,7],[35,23],[8,9],[1,6],[-1,0],[-1,1],[-1,3],[1,5],[0,1],[1,0],[2,-4],[5,1],[4,2],[11,7],[20,20],[21,24],[4,5],[19,23],[2,2],[1,2],[1,3],[10,11],[9,12],[8,9],[4,11],[10,7],[44,49],[21,24],[1,2],[4,7],[3,7],[0,1],[4,8],[-1,18],[0,4],[3,-1],[2,-1],[5,8],[2,4],[-4,7],[0,1],[2,12],[3,-4],[3,0],[11,-4],[13,-14],[11,6],[27,14],[4,2],[0,1],[3,1],[11,7],[26,17],[4,2],[60,50],[3,1],[10,8],[40,31],[15,8],[14,7],[7,5],[5,2],[18,10],[19,11],[1,0],[38,21],[27,16],[26,15],[3,2],[9,5],[4,2],[50,32],[24,15],[35,23],[11,6],[24,12],[21,12],[50,-9],[4,0],[8,-6],[10,-9],[29,-23],[44,-34],[4,-3],[3,-5],[12,-23],[14,-21],[14,-18],[6,-8],[26,-22],[22,-8],[25,-8],[9,-3],[17,-2],[16,-2],[19,-6],[12,-4],[3,-2],[30,-10],[70,-25],[12,-2],[6,0],[38,5],[28,13],[2,0],[12,15],[35,20],[56,31],[31,12],[1,1],[12,2],[19,2],[2,0],[9,11],[12,-1],[0,-10],[12,-9],[27,7],[1,1],[13,-13],[8,-6],[24,-15],[10,3],[10,-6],[6,-10],[35,-15],[18,-8],[20,11],[-3,21],[19,16],[1,-2],[8,-7],[2,3],[1,1],[8,10],[24,32],[5,-2],[4,-4],[7,6],[-4,10],[2,2],[6,3],[7,5],[4,4],[1,4],[4,4],[-3,10],[13,19],[3,4],[26,33],[6,8],[4,-12],[4,5],[-3,7],[2,1],[6,-18],[3,8],[-3,13],[-4,6],[0,7],[2,4],[1,3],[13,27],[42,57],[16,22],[21,26],[10,-22],[-8,-9],[2,-4],[2,-2],[16,16],[2,3],[3,2],[2,-6],[3,3],[0,15],[4,2],[0,17],[18,24],[6,-15],[17,24],[4,12],[8,12],[6,-6],[5,8],[5,6],[-3,7],[-9,-4],[-3,2],[-2,1],[9,30],[2,6],[5,8],[1,0],[6,-1],[14,-31],[3,4],[54,77],[1,1],[33,47],[9,19],[13,26],[8,18],[-7,18],[4,6],[5,5],[15,27],[5,-10],[3,-7],[8,6],[20,34],[11,19],[13,29],[1,1],[6,13],[8,15],[1,1],[0,1],[12,21],[13,25],[15,28],[2,4],[23,48],[2,5],[19,32],[5,7],[3,5],[2,3],[4,8],[9,14],[30,21],[4,3],[14,5],[3,0],[1,2],[16,16],[24,26],[39,50],[6,8],[5,11],[31,58],[39,70],[11,28],[13,32],[27,65],[5,12],[8,36],[2,17],[-4,1],[-1,4],[2,5],[8,-10],[6,4],[2,1],[16,22],[31,41],[28,39],[35,54],[60,93],[6,9],[1,1],[74,101],[3,3],[22,18],[19,39],[2,2],[9,6],[16,9],[2,4],[20,31],[18,16],[17,27],[29,28],[9,9],[49,47],[36,56],[12,20],[10,25],[12,-25],[4,-6],[1,-4],[49,-7],[1,1],[50,24],[4,3],[3,3],[48,41],[2,2],[2,0],[11,2],[8,7],[17,17],[12,11],[17,23],[34,35],[29,32],[24,24],[15,8],[57,67],[1,2],[37,35],[1,2],[8,12],[7,6],[27,22],[39,45],[27,17],[21,25],[18,2],[21,21],[18,13],[2,1],[7,6],[23,12],[39,39],[15,14],[0,1],[21,7],[17,7],[18,26],[13,13],[5,6],[13,1],[29,27],[22,4],[43,31],[30,36],[8,10],[5,2],[13,7],[20,7],[1,0],[24,8],[8,2],[13,4],[12,8],[19,5],[3,1],[35,10],[16,18],[9,0],[15,-1],[30,3],[31,21],[17,6],[7,2],[10,-1],[44,19],[10,5],[29,28],[9,7],[29,23],[8,10],[29,22],[4,1],[12,4],[29,23],[16,13],[7,12],[9,15],[18,12],[11,3],[30,21],[10,-2],[24,24],[9,10],[21,30],[5,14],[13,34],[4,11],[5,8],[7,5],[8,5],[5,-4],[1,-4],[15,-1],[0,10],[5,1],[4,0],[6,1],[2,0],[6,-1],[1,-33],[8,2],[6,1],[17,3],[50,40],[16,22],[50,13],[26,3],[31,13],[27,20],[38,29],[57,36],[5,2],[47,30],[50,46],[23,13],[8,2],[32,6],[13,2],[12,8],[27,19],[21,14],[39,34],[12,15],[16,5],[34,16],[21,18],[10,8],[2,2],[17,14],[6,4],[10,26],[2,3],[4,2],[2,4],[1,7],[-1,11],[1,3],[2,2],[3,0],[5,-13],[-1,-13],[1,1],[10,11],[-1,8],[1,8],[2,4],[5,3],[3,6],[3,0],[0,-1],[2,0],[4,-10],[0,-2],[13,3],[19,12],[13,3],[48,33]],[[78031,37927],[0,-11],[1,-203],[0,-103],[-1,-63],[1,-173],[0,-1172],[-1,-41],[0,-1419],[1,-148],[0,-698],[1,-170],[0,-190],[-1,-227],[0,-284],[-1,-78],[0,-5],[1,-4],[0,-219],[1,-46],[0,-314],[1,-127],[-1,-44],[0,-433],[-1,-126],[0,-293],[1,-64],[0,-1],[-1,0],[1,-70],[-1,-83],[0,-180],[1,-55],[0,-900],[-1,-42],[0,-249],[-2,-112],[0,-52],[3,-173],[0,-212],[-1,-7],[0,-106],[1,-174],[0,-90],[-1,-69],[0,-135],[1,-317],[0,-731]],[[78033,27514],[-10,-14],[-12,-7],[-15,1],[-9,-5],[-22,-27],[-22,-18],[-17,-7],[-6,-7],[-26,-33],[-9,-18],[-14,-29],[-14,-16],[-11,-6],[-5,-3],[-10,0],[-2,2],[-11,8],[-18,34],[0,1],[-10,18],[-6,9],[-16,13],[-17,-2],[-21,-14],[-19,-12],[-37,-13],[-18,-22],[-6,-8],[-9,-20],[-8,-17],[-16,-53],[-2,-6],[-22,-45],[-8,-10],[-4,1],[-6,-10],[-18,-29],[-11,-29],[-7,-41],[0,-33],[3,-35],[14,-26],[25,-39],[9,-20],[37,-109],[11,-29],[16,-45],[9,-6],[10,-17],[5,-33],[9,-60],[3,-24],[3,-35],[2,-29],[9,-78],[30,-96],[22,-41],[9,-10],[2,-3],[4,-17],[8,-39],[2,-30],[0,-6],[-4,-55],[-1,-7],[-6,-32],[-15,-49],[-1,0],[-5,-17],[-1,-23],[-21,-69],[-1,-5],[-3,-17],[-2,-42],[2,-83],[0,-50],[-1,-26],[0,-8],[3,-26],[0,-3],[-1,-9],[-10,-22],[-43,-30],[-5,-7],[-9,-10],[-4,-25],[6,-35],[0,-3],[3,-4],[38,-24],[16,-23],[9,-17],[7,-13],[7,-41],[-4,-58],[-10,-52],[-3,-58],[0,-1],[6,-51],[11,-40],[15,-60],[8,-51],[2,-27],[-1,-14],[-5,-41],[-4,-26],[-12,-25],[-2,-8],[-12,-39],[-13,-44],[-1,-3],[-6,-48],[2,-100],[-8,-46],[-2,-8],[-11,-26],[-1,-1],[-47,-56],[0,6],[-25,-29],[-8,-17],[-17,-32],[-3,-13],[-23,-84],[-5,-19],[-9,-81],[-1,-14],[-6,-85],[-6,-50],[-15,-56],[-23,-46],[-7,-6],[-1,-1],[-5,-9],[-9,-20],[-4,-16],[-13,-43],[-28,-94],[-10,-33],[-6,-19],[-4,-25],[-2,-16],[-3,-34],[-2,-13],[-7,-38],[0,-6],[-1,-63],[0,-31],[5,-55],[1,-1],[1,-4],[1,-1],[1,-14],[2,-17],[1,-18],[-3,-42],[-5,-30],[-2,-9],[-1,-5],[-10,-21],[-13,-18],[-40,-54],[-5,-7],[-7,-17],[-8,-19],[-6,-13],[-6,-34],[1,-25],[0,-8],[4,-48],[1,-2],[9,-39],[4,-7],[2,-22],[1,-8],[3,-34],[0,-4],[1,0],[0,-24],[-2,-58],[0,-12],[-6,-32],[-10,-26],[-3,-18],[0,-35],[-2,-17],[-2,-8],[-7,-33],[0,-1],[-2,-21],[-2,-35],[-1,-17],[3,-53],[0,-14],[3,-19],[0,-1],[1,-3],[1,-19],[3,-48],[-2,-51],[0,-5],[-1,-20],[0,-4],[-2,-29],[-10,-13],[-10,-22],[-22,-27],[-7,-8],[-6,-10],[-6,-8],[-2,-8],[-14,-36],[-3,-24],[0,-28],[7,-93],[3,-41],[15,-65],[2,-14],[1,-16],[-2,-20],[-6,-27],[-3,-7],[-4,-4],[-7,0],[-19,5],[-14,13],[-34,44],[-15,7],[-28,13],[-16,-2],[-9,-5],[-9,-13],[-5,-17],[-1,-3],[-5,-32],[-1,-32],[2,-22],[9,-45],[13,-43],[21,-47],[7,-20],[9,-59],[4,-22],[-2,-37],[-8,-27],[-23,-37],[-55,-45],[-16,-23],[-10,-22],[-6,-22],[-2,-19],[2,-45],[11,-63],[1,-19],[1,-101],[-3,-31],[-4,-35],[-2,-15],[-4,-19],[-30,-60],[-39,-49],[-53,-69],[-11,-26],[-9,-41],[-3,-21],[0,-2],[8,-47],[3,-12],[4,-18],[36,-81],[6,-11],[8,-9],[14,-16],[32,-106],[6,-17],[4,-6],[6,-10],[1,-3],[5,-39],[0,-16],[-1,-6],[-6,-41],[-6,-17],[-18,-18],[-18,-12],[-24,-7],[-9,-8],[-24,-30],[-6,-14],[-3,-13],[-4,-27],[-2,-25],[-1,-36],[1,-28],[3,-91],[-2,-26],[-2,-51],[-11,-43],[-2,-24],[-1,-7],[1,-8],[-1,-13],[-1,-8],[-2,-15],[-2,-8],[-12,-68],[-15,-48],[-39,-30],[-14,0],[-32,13],[-38,2],[-8,-3],[-19,-7],[-25,-20],[-12,-16],[-23,-43],[-15,-22],[-73,-106],[-9,-17],[-16,-29],[-2,-4],[-31,-47],[-19,-46],[-11,-16],[-39,-48],[-11,-16],[-27,-40],[-12,-23],[-10,-29],[-6,-14],[-5,-11],[-29,-39],[-18,-26],[-2,-3],[-17,-33],[-7,-20],[-10,-18],[-17,-31],[-34,-52],[-2,-5],[-16,-43],[-51,-96],[-32,-74],[-45,-158],[-2,0],[-21,-64],[-11,-34],[-12,-30],[-14,-23],[-6,-9],[-12,-10],[-31,-3],[-9,-1],[-3,0],[-5,-1],[-36,-15],[-24,-15],[-31,-31],[-8,-12],[-12,-21],[-16,-54],[-18,-35],[-12,-23],[-2,-5],[-2,-4],[-14,-30],[-10,-27],[-6,-21],[-2,-6],[-2,-12],[0,-1],[2,-36],[-3,-31],[-4,-17],[-1,-1],[-13,-22],[-1,-1],[-13,-11],[-8,-1],[-51,27],[-9,5],[-24,-2],[-27,-19],[-9,-6],[-34,-6],[-2,0],[-16,-16],[-19,-34],[-7,-4],[-47,-33],[-22,-27],[-2,-2],[-49,-70],[-22,-23],[-31,-41],[-23,-36],[-17,-17],[-31,-20],[-24,-4],[-23,-4],[-16,-3],[-12,3],[-16,10],[-22,41],[-9,22],[-7,29],[-15,98],[-1,5],[-7,58],[-9,61],[-4,24],[-20,49],[-16,27],[-10,17],[-22,31],[-4,6],[-24,24],[-34,14],[-2,0],[-5,-1],[-27,-7],[-38,-42],[-1,0],[-17,-27],[-26,-63],[-6,-16],[-3,-6],[-18,-37],[-47,-82],[-34,-46],[-36,-41],[-6,-5],[-27,-21],[-11,-16],[-15,-24],[-51,-107],[-5,-44],[-2,-16],[-1,-98],[-7,-74],[-10,-107],[0,-134],[-6,-34],[-1,-7],[-10,-23],[-5,1],[-25,4],[-21,3],[-10,8],[-6,8],[-16,19],[-15,10],[-12,6],[-16,4],[-19,-5],[-24,-13],[-73,27],[-43,1],[-46,-10],[-27,-17],[-17,-20],[-1,-1],[-19,-37],[-9,-21],[-3,-9],[-11,-38],[-2,-63],[1,-19],[3,-25],[12,-51],[1,-21],[2,-24],[0,-17],[-1,0],[-3,-11],[-7,-17],[-13,-16],[-8,-9],[-36,-12],[-42,-21],[-4,-5],[-5,-6],[-9,-24],[-12,-45],[-8,-72],[-4,-19],[-6,-12],[-9,-20],[-27,-23],[-10,-14],[-3,-9],[-7,-19],[0,-3],[-2,-25],[7,-43],[32,-174],[3,-49],[-3,-23],[-1,-60],[1,-31],[8,-75],[-3,-77],[-3,-32],[-5,-32],[-6,-20],[-17,-42],[-19,-30],[-9,-13],[-13,-16],[-36,-27],[-19,-3],[-14,4],[-17,9],[-25,23],[-16,8],[-16,1],[-9,-6],[-6,-9],[-5,-21],[-1,-43],[3,-57],[2,-20],[4,-28],[9,-33],[18,-56],[10,-21],[23,-35],[23,-28],[30,-51],[15,-27],[19,-47],[10,-35],[0,-65],[-3,-31],[-7,-18],[-16,-25],[-7,-23],[-5,-27],[-4,-38],[1,-23],[3,-10],[-14,-60],[-6,-58],[0,-10],[3,-35],[3,-9],[3,-14],[17,-32],[14,-22],[8,-18],[8,-22],[7,-19],[1,-8],[5,-14],[8,-6],[5,0],[0,-5],[3,-22],[-6,-29],[-2,-13],[-5,-16],[-9,-13],[-12,-9],[-11,-2],[-15,2],[-24,14],[-14,10],[-26,31],[-10,17],[-32,72],[-27,31],[-18,6],[-4,-1],[-1,0],[-13,-2],[-7,-6],[-14,-16],[-22,-49],[-21,-63],[-5,-117],[2,-22],[0,-1],[-11,-66],[-24,-65],[-10,-19],[-21,-27],[-32,-41],[-48,-51],[-12,-3],[-18,5],[-34,29],[-5,6],[-19,38],[-37,55],[-3,14],[-1,14],[5,45],[25,54],[5,15],[14,29],[5,9],[12,13],[25,53],[3,8],[5,31],[-4,30],[-3,31],[-20,57],[-16,55],[-4,13],[-7,34],[-12,58],[-27,82],[-22,76],[-9,15],[-3,6],[-17,22],[-15,10],[-9,5],[-8,5],[-26,-6],[-5,-7],[-11,-5],[-12,-5],[-20,-4],[-1,0],[-11,2],[-6,4],[-6,9],[-3,10],[-2,33],[-1,14],[-3,26],[-1,4],[-7,31],[-3,14],[-1,4],[-13,44],[-9,22],[-3,9],[-19,31],[-5,10],[-7,5],[-9,7],[-12,2],[-23,2],[-14,-5],[-18,-8],[-29,-21],[-9,-21],[-10,-37],[-4,-32],[-2,-15],[-3,-26],[-4,-33],[-12,-48],[-8,-22],[-14,-20],[-10,-13],[-33,-39],[-35,-28],[-22,-27],[-10,-12],[-8,-16],[-6,-21],[-5,-48],[-13,-46],[-1,-1],[-5,-20],[-26,-68],[-2,-8],[-6,-39],[0,-10],[1,-28],[-4,-21],[-6,-17],[-15,-40],[-10,-29],[-26,-83],[-20,-33],[0,-2],[-28,-55],[-4,-48],[-3,-61],[2,-8],[9,-40],[3,-26],[4,-25],[3,-40],[-4,-45],[-1,-16],[-1,-5],[-2,-36],[-5,-36],[-3,-18],[-3,-28],[-8,-22],[-1,-4],[-5,-10],[-1,-1],[-9,-19],[-32,-63],[-14,-16],[-45,-38],[-25,-11],[-14,-6],[-27,-48],[-33,-45],[-17,-30],[-9,-21],[0,-2],[-11,-48],[-4,-15],[1,-56],[0,-9],[3,-36],[13,-41],[15,-15],[16,-18],[19,-26],[9,-20],[11,-40],[7,-84],[10,-50],[2,-37],[11,-53],[5,-38],[1,-12],[7,-53],[-1,-11],[0,-13],[-5,-34],[-2,-14],[-17,-88],[-3,-52],[11,-58],[4,-30],[0,-1],[1,-13],[2,-54],[4,-15],[17,-65],[8,-46],[8,-71],[6,-27],[2,-27],[0,-50],[-11,-81],[-7,-35],[-15,-33],[-23,-33],[-17,-14],[-33,-9],[-4,-1],[-46,-1],[-11,-2],[-78,53],[-22,2],[-32,-4],[-9,-7],[-22,-14],[-6,-9],[-3,-4],[-43,-83],[-14,-27],[-7,-27],[-1,-20],[2,-92],[-8,-163],[-7,-39],[-8,-29],[-9,-47],[-1,-15],[-1,-9],[-2,-17],[1,-35],[2,-64],[0,-1],[-4,-59],[-7,-42],[-14,-56],[-3,-24],[-3,-29],[-5,-60],[-8,-43],[-6,-33],[-2,-7],[-17,-57],[-21,-36],[-5,-4],[-27,-20],[-2,-2],[-14,-4],[-10,-3],[-41,-11],[-14,-5],[-25,-10],[-6,-3],[-27,-10],[-1,0],[-23,-3],[-2,0],[-8,5],[-42,32],[-18,-13],[-49,-35],[-18,-12],[-13,-9],[-6,-3],[-36,-20],[-15,-7],[-27,-11],[-7,-3],[-7,-4],[-24,-14],[-51,-28],[-2,-1],[-26,-21],[-42,-32],[-46,-26],[-26,-16],[-1,0],[-24,-8],[-11,-3],[-12,-2],[-20,-2],[-36,12],[-36,3],[-5,4],[-20,15],[-28,37],[-12,25],[-8,16],[0,27],[-11,36],[-3,18],[0,4],[-10,58],[0,9],[-3,33],[-8,124],[0,2],[-13,61],[-4,12],[-4,13],[-1,3],[-2,4],[-6,13],[-2,3],[-16,19],[-18,20],[-19,15],[-26,20],[-5,7],[-31,37],[-28,49],[-11,24],[-2,6],[-15,36],[-1,1],[-28,60],[-5,12],[-20,63],[-10,32],[-15,50],[-3,8],[-21,45],[-1,1],[-11,16],[-20,20],[-7,8],[-20,19],[-8,11],[-10,12],[-17,30],[-20,12],[-29,-2],[-19,2],[-19,3],[-42,5],[-52,-10],[-35,7],[-34,24],[-39,42],[-13,15],[-14,14],[-55,87],[-10,14],[-15,35],[-9,31],[-1,1],[-14,69],[-9,68],[-3,23],[-2,32],[-4,90],[2,78],[0,21],[-1,8],[-9,99],[-13,67],[-21,66],[-17,33],[-1,2],[-9,55],[3,54],[5,57],[14,100],[2,28],[2,43],[0,2],[-1,8],[-4,76],[-4,24],[-5,17],[-1,5],[-4,14],[-13,31],[-18,19],[-14,15],[-17,4],[-77,-38],[-21,-11],[-15,-11],[-10,-9],[-39,-30],[-16,-19],[-34,-41],[-2,-3],[-19,-27],[-14,-19],[-2,-1],[-18,-11],[-15,-9],[-22,2],[-27,17],[-10,4],[-7,2],[-41,5],[-1,1],[-3,-1],[-30,-9],[-20,-12],[-9,-11],[-1,-1],[-7,-13],[-10,-28],[-7,-26],[-1,-2],[-13,-60],[-36,-94],[-37,-51],[-51,-46],[-15,-13],[-61,-28],[-16,-16],[-16,-26],[-18,-42],[-16,-52],[-12,-104],[-9,-38],[-20,-63],[-12,-26],[-14,-24],[-39,-28],[-8,-6],[-26,-4],[-26,2],[-62,-20],[-26,-3],[-11,-2],[-28,12],[-40,42],[-31,26],[-24,7],[-20,-5],[-18,-13],[-12,-21],[-21,-5],[-10,-9],[-12,-23],[0,-1],[-3,-24],[-60,-118],[0,-1],[-7,-9],[-18,-10],[-26,12],[-11,11],[-8,9],[-12,18],[-20,44],[-1,2],[-5,21],[-3,28],[-1,50],[-6,59],[-18,52],[-41,61],[-54,62],[-34,34],[-31,21],[-1,1],[-28,13],[-1,0],[-90,25],[-27,14],[-57,6],[-10,1],[-22,6],[-32,28],[-1,1],[-9,-3],[-27,14],[-14,20],[-14,31],[-34,58],[-22,31],[-37,38],[-27,18],[-28,10],[-41,-7],[-53,-25],[-42,-25],[-23,-19],[-20,-8],[-43,-17],[-11,-5],[-2,0],[-13,-13],[-19,-24],[-11,7],[-14,1],[-17,-7],[-21,-17],[-19,-16],[-2,-2],[-24,-45],[-7,-21],[-4,-20],[-7,-65],[-1,-50],[-10,-69],[-10,-47],[-13,-32],[-10,-16],[-9,-6],[-13,-9],[-15,-5],[-14,1],[-37,15],[-20,14],[-62,58],[-4,1],[-10,0],[-13,10],[-4,3],[-12,16],[-2,10],[-1,2],[-9,11],[-58,9],[-38,12],[-1,0],[-29,14],[-13,5],[-8,6],[-14,17],[-10,22],[-3,20],[-9,45],[-4,33],[-10,103],[-12,80],[0,1],[-11,28],[-12,16],[-26,22],[-24,14],[-2,1],[-25,6],[-27,16],[-2,4],[-10,11],[-25,30],[-3,3],[-9,14],[-8,19],[-5,12],[-3,17],[-3,21],[-1,25],[-6,53],[-5,36],[-5,19],[-4,18],[-11,32],[-6,10],[-17,30],[-25,25],[-22,17],[-46,24],[-56,19],[-29,12],[-10,-1],[-5,0],[-32,14],[-5,5],[0,18],[-51,68],[-32,19],[-18,6],[-5,1],[-6,2],[-43,-2],[-12,0],[-55,-39],[-3,-1],[-32,-12],[-57,-38],[-18,-9],[-24,-11],[-29,-14],[-23,6],[-4,0],[-35,-2],[-27,-5],[-76,36],[-48,30],[-10,12],[-13,14],[-53,42],[-11,9],[-30,17],[-26,16],[-13,7],[-109,35],[-32,11],[-24,12],[-18,17],[-6,6],[-22,44],[-8,17],[-11,29],[-7,28],[-9,39],[-1,6],[-3,24],[-7,91],[-1,81],[0,6],[1,15],[1,20],[2,54],[2,43],[0,22],[-1,42],[-1,29],[-7,67],[-18,58],[-9,17],[-10,29],[-37,121],[-13,25],[-4,9],[-43,104],[-12,21],[-4,6],[-14,41],[-14,39],[-16,65],[-7,29],[0,23],[-3,81],[-1,24],[-3,33],[-1,10],[-6,37],[-11,51],[-6,28],[-30,79],[-21,38],[-22,41],[-9,12],[-19,23],[-4,5],[-1,0],[-32,31],[-47,33],[-36,12],[-52,17],[-24,0],[-8,4],[-15,5],[-5,-6],[-14,0],[-49,40],[0,1],[-6,7],[-5,4],[-3,4],[-7,14],[-3,11],[-2,9],[-1,5],[-9,70],[-2,40],[0,1],[1,37],[0,3],[-1,43],[-5,21],[0,1],[2,42],[4,13],[-9,60],[-1,4],[-15,48],[-1,4],[-1,1],[-14,35],[-2,3],[-14,22],[-18,20],[-22,10],[-4,0],[-24,-2],[-3,-2],[-16,-15],[-16,-18],[-13,-26],[-9,-20],[-20,-60],[0,-2],[-7,-12],[0,-1],[-3,-4],[-6,-10],[-12,-17],[-13,-12],[-12,-10],[-33,-12],[-17,0],[-42,40],[-13,13],[-1,0],[-6,4],[-25,-2],[0,-1],[-12,-12],[-10,-21],[-21,-57],[-4,-6],[-22,-32],[-1,-2],[-67,-30],[-31,-29],[-21,-7],[-40,2],[-11,6],[-30,18],[-11,21],[-49,92],[-22,28],[-30,19],[-37,2],[-25,17],[-16,28],[-9,25],[-15,39],[-17,47],[-33,87],[-7,16],[-15,33],[-15,23],[-10,14],[-19,19],[-41,23],[-21,-1],[-13,-5],[-14,-21],[-26,-40],[-58,-155],[-12,-20],[-20,-18],[-56,-29],[-5,-15],[-5,-5],[-22,-7]],[[54806,35815],[9,14],[21,-43],[-7,-13],[3,-11],[17,-31],[1,-11],[9,-16],[5,10],[9,-13],[-1,-11],[-1,-6],[14,-18],[6,-8],[25,-26],[7,-4],[12,-6],[4,-7],[-5,-12],[10,-14],[9,-5],[3,8],[10,-15],[1,-6],[-2,-15],[18,-18],[9,-3],[13,34],[5,10],[1,1],[42,47],[82,46],[30,-15],[16,-33],[16,-22],[-23,-59],[15,-24],[-42,-86],[-42,-30],[3,-53],[11,-23],[30,-39],[7,7],[6,-8],[17,22],[4,-9],[7,1],[9,-9],[13,-17],[23,-16],[1,-1],[85,-56],[20,-11],[16,-5],[35,-11],[65,-13],[30,-10],[-1,-18],[12,5],[14,1],[17,5],[5,-25],[18,-3],[4,32],[15,3],[9,-5],[6,-4],[0,-13],[6,-1],[30,-4],[54,3],[1,0],[32,7],[97,21],[6,2],[61,23],[49,18],[14,6],[12,4],[6,18],[-1,9],[8,1],[4,-3],[41,10],[1,75],[10,2],[34,20],[9,8],[1,-2],[4,-3],[8,-10],[36,20],[9,-24],[0,-1],[27,6],[70,37],[73,52],[32,23],[5,4],[126,100],[61,54],[50,44],[104,97],[66,55],[32,21],[3,2],[33,25],[3,16],[18,12],[10,49],[9,14],[1,5],[4,15],[61,41],[51,45],[57,60],[68,71],[1,0],[12,13],[14,15],[16,16]],[[63818,35720],[0,-169],[1,-170],[0,-311],[1,-217],[2,-339],[1,-90],[0,-328],[1,-181],[1,-153],[0,-693],[1,-129],[0,-536],[1,-143],[0,-611],[-1,-5],[1,-67],[0,-23],[-1,-164],[0,-36],[2,-112],[-1,-190],[0,-834],[2,-516],[0,-157],[1,-522],[1,-151],[0,-112],[-1,-223],[0,-48],[1,-141],[0,-1348],[-1,-148],[0,-393],[-2,-131],[-2,-149],[-1,-21],[0,-116],[-1,-237],[-1,-39],[1,-70],[0,-161],[1,-219],[0,-386],[-3,-269],[-2,-334],[0,-1],[-1,-92],[0,-21],[-1,-52],[0,-31],[-1,-41],[0,-12],[-1,-83],[0,-7],[-5,-384],[0,-16],[-2,-151],[0,-111],[-1,-53],[-2,-281],[-1,-112],[-2,-111],[-1,-111],[-1,-75],[-1,-171],[-2,-345],[0,-2],[-1,-43],[0,-149],[-1,-80],[0,-6],[-1,-136],[-1,-150],[-1,-19],[0,-183],[-1,-16],[-1,-79],[0,-667],[-1,-350],[0,-85],[1,-101],[0,-16],[-1,-112],[0,-77],[-1,-98],[0,-154],[-1,-166],[0,-46],[1,-3],[0,-19],[-1,-122],[0,-5],[-1,-197],[0,-103],[-1,-219],[0,-16],[-3,-336],[-3,-311],[0,-1],[-3,-325],[-3,-296],[0,-33],[-1,-216],[0,-161],[-1,-29],[0,-3],[1,-17],[0,-33],[-1,-102],[-1,-27],[1,-64],[0,-20],[1,-412],[0,-29],[-1,-64],[0,-279],[-1,-49]],[[63771,15841],[-16,-16],[-24,-22],[-16,-25],[-25,-39],[-3,-9],[-14,-32],[-6,-11],[-30,-52],[-31,-35],[-10,-11],[-25,-16],[-27,-27],[-13,-25],[-2,-4],[-12,-37],[0,-27],[1,-5],[11,-32],[14,-47],[11,-40],[22,-29],[4,-12],[2,-3],[18,-29],[24,-60],[46,-114],[10,-50],[26,-50],[7,-19],[2,-6],[12,-49],[10,-50],[0,-5],[2,-36],[-9,-60],[-1,-2],[-2,-9],[-5,-15],[-17,-25],[-2,-5],[-11,-22],[-17,-21],[-13,-33],[-2,-7],[-9,-16],[-27,-44],[-20,-43],[-24,-66],[-2,-18],[-3,-14],[2,-21],[6,-33],[21,-60],[2,-4],[8,-10],[23,-11],[2,0],[98,-3],[6,-2],[39,-14],[14,0],[39,-28],[2,-2],[26,-33],[20,-34],[4,-13],[2,-38],[-4,-44],[-8,-39],[-9,-28],[-9,-21],[-4,-4],[-12,-15],[-16,-34],[-46,-55],[-18,-28],[-2,-3],[-14,-33],[-8,-32],[0,-39],[9,-51],[36,-99],[16,-95],[-1,-27],[-3,-23],[-6,-12],[-23,-10],[-24,1],[-30,12],[-50,34],[-30,13],[-49,10],[-2,0],[-33,17],[-22,-8],[-8,-7],[-24,-20],[-15,-18],[-24,-27],[-37,-27],[-22,-22],[-35,-16],[-14,1],[-48,20],[-59,11],[-33,-7],[-6,-1],[-4,-4],[-23,-25],[-36,-57],[-42,-38],[-32,-28],[-26,-23],[-38,-53],[-11,-10],[-13,-11],[-13,-9],[-27,-19],[-26,-35],[-49,-58],[-11,-13],[-12,-7],[-19,-37],[1,-6],[-23,-33],[-38,-56],[-9,-18],[-14,-27],[-15,-20],[-65,-60],[-56,-31],[-11,3],[-12,-2],[-28,-4],[-12,11],[-31,15],[-10,4],[-29,28],[-26,42],[-17,36],[-29,91],[-37,102],[-1,2],[-8,8],[-33,36],[-32,18],[-34,11],[-35,6],[-22,-3],[-31,-3],[-92,-40],[-2,-1],[-9,-9],[-2,-1],[-40,-19],[-48,-12],[-6,-1],[-6,4],[-9,-3],[-8,-2],[-40,19],[-44,20],[-1,0],[-41,12],[-31,-13],[-13,-12],[-6,-7],[-36,-33],[-20,-65],[-3,-6],[-24,-53],[-2,-23],[-5,-5],[-13,-112],[-1,-8],[1,-53],[3,-23],[3,-8],[32,-81],[20,-81],[2,-28],[2,-50],[-2,-23],[-4,-75],[-1,-182],[2,-30],[9,-68],[8,-26],[18,-64],[32,-112],[10,-58],[0,-5],[1,-121],[-5,-37],[-18,-66],[-20,-43],[-16,-19],[-17,-20],[-66,-54],[-28,-29],[-1,-1],[-26,-52],[-15,-68],[-6,-46],[-5,-20],[-20,-58],[-8,-24],[-25,-49],[-35,-35],[-21,-18],[-30,-26],[-44,-18],[-13,-3],[-34,-9],[-34,-2],[-12,-4],[-29,-2],[-37,-18],[-37,-37],[-24,-32],[-17,-45],[-29,-63],[-7,-28],[-1,-2],[1,-14],[-6,-27],[-6,-34],[-20,-74],[-9,-50],[-3,-17],[-5,-33],[-6,-43],[-1,-7],[-2,-15],[-1,-24],[-1,-7],[0,-11],[-1,-79],[-6,-48],[-6,-39],[-6,-47],[0,-1],[-7,-31],[-15,-75],[-2,-7],[-9,-35],[-4,-16],[-13,-29],[-2,-4],[-23,-57],[-3,-8],[-19,-62],[-8,-12],[-3,-6],[-22,-33],[-9,-9],[-31,-34],[-13,-14],[-15,-17],[-4,-4],[-26,-28],[-6,-6],[-59,-64],[-27,-30],[-1,0],[-12,-5],[-1,0],[-22,6],[-31,30],[-1,3],[-20,37],[5,13],[-1,9],[-18,28],[-2,11],[-17,7],[-8,9],[-5,6],[-19,0],[-21,-9],[-13,-12],[-17,-7],[-5,-2],[-45,-16],[-1,-1],[-20,-15],[-3,-2],[-15,-25],[-10,-35],[-6,-23],[-7,-26],[-2,-14],[-3,-31],[0,-2],[1,-60],[0,-7],[-6,-76],[-12,-45],[-6,-20],[-3,-8],[-16,-41],[-7,-18],[-13,-18],[-32,-46],[-20,-28],[-9,-15],[-19,-32],[-44,-106],[-4,-15],[-16,-50],[-14,-46],[-13,-94],[-4,-127],[1,-79],[9,-125],[3,-43],[3,-84],[-3,-81],[-4,-19],[-5,-23],[-14,-73],[-6,-11],[-5,-50],[-3,-32],[-9,-146],[-8,-81],[-14,-63],[-18,-43],[-28,-46],[-9,-19],[-16,-16],[-25,-3],[-61,-15],[-15,6],[-71,-26],[-17,-5],[-48,-20],[-23,-15],[-13,-14],[-4,-8],[-6,-11],[-9,-42],[-1,-23],[6,-82],[-2,-37],[0,-5],[-6,-21],[-7,-16],[-14,-10],[-15,6],[-10,11],[-27,53],[-23,59],[-10,37],[-6,23],[-20,87],[1,13],[-13,25],[-23,32],[-42,41],[-17,16],[-44,21],[-36,6],[-17,-3],[-48,-8],[-15,-13],[-43,-23],[-13,1],[-24,1],[-40,39],[-8,7],[-18,17],[-32,28],[-48,43],[-9,24],[-34,50],[1,10],[-45,38],[-20,23],[-21,25],[-27,42],[-13,38],[-4,23],[-4,18],[-13,111],[-5,131],[0,5],[4,32],[8,67],[17,117],[-1,44],[-7,38],[-14,38],[-34,89],[-28,45],[-71,66],[-42,65],[-12,20],[-31,53],[-17,29],[-33,26],[-1,-1],[-31,-11],[-21,-29],[-5,-19],[-9,-37],[-2,-54],[4,-53],[19,-54],[19,-19],[28,-13],[42,-7],[56,-31],[13,-18],[9,-39],[-8,-64],[-18,-48],[-15,-20],[-23,-12],[-39,6],[-76,16],[-15,-10],[-26,-36],[-14,-54],[-14,-74],[-19,-21],[-11,11],[-40,78],[-30,50],[-11,16],[-33,16],[-34,-1],[-24,-20],[-13,-25],[-8,-14],[-9,-36],[0,-57],[7,-42],[17,-38],[29,-30],[9,-1],[44,-38],[9,-24],[4,-36],[-9,-85],[-1,-4],[-17,-46],[-46,-74],[-33,-22],[-32,-10],[-28,-4],[-35,0],[-31,1],[-38,-10],[-19,-13],[-7,-11],[-8,-21],[-9,-71],[-1,-4],[0,-3],[2,-68],[-1,-43],[-3,-42],[-1,-65],[3,-123],[-1,-101],[5,-45],[11,-57],[6,-20],[20,-36],[10,-33],[8,-44],[2,-43],[-4,-14],[-11,-20],[-27,-29],[-23,-20],[-7,-6],[-20,-12],[-21,-1],[-26,7],[-59,32],[-47,7],[-20,-6],[-7,-9],[-25,-51],[-8,-24],[-4,-31],[-1,-41],[6,-124],[0,-30],[-4,-42],[6,-24],[1,-10],[-3,-21],[-19,-59],[-2,-8],[-15,-21],[-20,-19],[-35,-42],[-26,-23],[-3,-2],[-13,-8],[-32,-10],[-15,2],[-9,6],[-10,12],[-11,41],[-3,54],[4,43],[10,49],[31,123],[14,65],[2,25],[0,31],[-5,31],[-5,16],[-10,14],[-36,18],[-38,13],[-2,1],[-26,1],[-17,-14],[-20,-34],[-38,-54],[-14,-21],[-15,-17],[-13,-15],[-8,-7],[-12,-4],[-31,13],[-11,16],[-9,22],[-17,37],[-10,22],[-18,40],[-14,45],[-4,14],[-27,86],[-2,8],[-29,100],[-3,9],[-2,9],[-2,7],[-3,10],[-9,27],[4,14],[-2,8],[-7,24],[-20,53],[-11,84],[-11,48],[-5,21],[-16,14],[-9,9],[-6,8],[-1,0],[-19,26],[-9,8],[-4,4],[-2,1],[-16,4],[-11,-3],[-39,-39],[-46,-27],[-23,-21],[-24,-35],[-19,-42],[-23,-45],[-11,-11],[-24,-46],[-12,-42],[-4,-8],[-35,-73],[-18,-23],[-7,-9],[-8,-12],[-20,-25],[-26,-15],[-25,-2],[-38,-10],[-66,-8],[-11,4],[-36,-20],[0,-1],[-81,-57],[-30,-28],[-19,-24],[-53,-68],[-9,-16],[-11,-21],[-17,-51],[-3,-21],[0,-23],[1,-6],[0,-5],[5,-25],[3,-27],[1,-32],[0,-28],[-1,-24],[-14,-73],[-13,-97],[-10,-76],[-7,-58],[-16,-67],[-8,-17],[-6,-30],[-1,-33],[-5,-20],[-2,-5],[-5,-20],[-15,-26],[-7,-10],[-4,-6],[-39,-59],[-23,-19],[-9,-5],[-1,0],[-17,-9],[-18,-6],[-4,-2],[-25,4],[-14,8],[-11,6],[-7,8],[-3,3],[-2,3],[-15,47],[1,16],[-5,20],[0,30],[-6,39],[0,1],[-14,66],[-7,21],[-15,44],[-14,41],[-4,13],[-9,26],[-20,32],[-8,9],[-19,6],[-18,-9],[-93,26],[-26,15],[-29,19],[-47,60],[-49,58],[-24,25],[-38,67],[-3,4],[-14,15],[-24,41],[-59,76],[-16,14],[-4,4],[-51,54],[-46,20],[-8,-7],[-30,28],[-26,37],[-12,27],[-4,5],[-12,3],[-8,10],[-23,45],[-9,21],[0,8],[-40,41],[-19,10],[-1,0],[-15,8],[-3,3],[-18,16],[-7,3],[-30,12],[-2,0],[-30,-3],[-4,0],[-13,5],[-32,-6],[-33,-13],[-9,-7],[-2,-3],[-48,-55],[-50,-76],[-6,-8],[-48,-83],[-28,-26],[-7,-6],[-13,-3],[-29,46],[-38,27],[-55,57],[-1,1],[-9,10],[-18,24],[-18,34],[-20,55],[-13,44],[-3,25],[-1,2],[-1,10],[-10,4],[7,37],[1,37],[-4,32],[-1,10],[-12,28],[-17,23],[-12,4],[-7,2],[-20,-5],[-15,-21],[-3,-5],[-6,-30],[0,-52],[-4,-57],[-6,-27],[-14,-30],[0,-2],[-23,-35],[-8,-14],[2,-3],[5,4],[1,-6],[-2,-17],[-8,-23],[-4,-22],[-2,-10],[-9,-13],[-4,5],[-2,15],[-4,1],[-1,-8],[2,-40],[8,-46],[10,-29],[5,-32],[30,-47],[14,-15],[19,-27],[16,-25],[33,-55],[10,-43],[1,-8],[0,-41],[-8,0],[0,-14],[-6,-12],[-4,-39],[-4,-4],[-3,-21],[4,-13],[-20,-55],[-6,-25],[-4,-8],[-6,-10],[-18,-49],[-2,-4],[-18,-32],[-8,-12],[-2,-2],[-32,-21],[-35,-15],[-2,-1],[-32,-8],[-31,1],[-37,11],[-20,12],[-10,19],[-12,34],[-5,32],[-4,43],[1,70],[20,75],[8,18],[8,25],[7,20],[10,37],[6,34],[1,19],[-5,51],[-5,16],[-15,29],[-16,17],[-15,10],[-12,2],[-2,-1],[-13,-7],[-40,-38],[-1,-1],[-33,-24],[-24,-10],[-19,-4],[-13,7],[-19,10],[-22,2],[-53,-20],[-21,-8],[-29,-34],[-6,-13],[-36,-50],[-9,-9],[-12,-5],[-3,-1],[-14,-3],[-42,-1],[-26,3],[-49,7],[-11,6],[-14,18],[-10,19],[-2,8],[0,32],[-10,32],[-3,8],[-39,55],[-5,16],[-14,67],[-8,24],[-23,44],[-16,23],[-20,16],[-17,7],[-13,6],[-7,-2],[-12,-2],[-22,-19],[-6,-13],[-50,-113],[-18,-46],[-2,-5],[-15,-27],[-15,-35],[-2,-4],[-4,-9],[-5,-24],[-3,-32],[0,-31],[3,-30],[6,-33],[7,-20],[29,-68],[41,-67],[16,-46],[8,-43],[13,-147],[-3,-39],[-7,-36],[-14,-18],[-27,-22],[-28,-17],[-16,-16],[-8,-19],[1,-25],[-4,-15],[-9,-14],[-8,-36],[-12,-57],[-6,-13],[-7,-9],[-14,-4],[-24,11],[-34,64],[-5,20],[-16,25],[-26,28],[-9,3],[-14,14],[-6,12],[-13,15],[-25,18],[-35,13],[-20,-4],[-23,-16]],[[92850,7485],[0,23],[5,10],[3,15],[0,11],[-3,15],[1,22],[0,30],[4,14],[6,21],[-4,14],[-4,13],[1,53],[8,45],[13,48],[11,3],[8,-7],[15,14],[7,16],[15,9],[9,13],[14,5],[14,4],[12,-9],[1,-1],[6,-12],[0,-31],[14,-52],[1,-4],[26,-22],[1,-1],[4,9],[4,5],[20,-14],[-8,-19],[2,-21],[10,-22],[8,-38],[8,-26],[-14,-7],[-1,-20],[-1,-21],[0,-6],[1,-5],[1,-13],[1,-1],[3,-23],[3,-25],[-4,-1],[-7,-1],[-12,16],[-6,-17],[-1,-2],[0,-1],[-6,-20],[0,-1],[4,-18],[-3,-25],[0,-5],[-1,-20],[-1,-5],[-5,-15],[-1,-3],[-6,-25],[-2,-12],[7,-9],[16,-26],[0,-24],[-9,-16],[-2,-30],[-39,1],[-40,1],[-10,1],[-3,0],[-2,0],[-24,-1],[-2,-1],[-37,3],[-1,0],[-16,-3],[0,35],[-1,33],[0,40],[-4,50],[1,16],[2,12],[-3,17],[0,1],[-5,18],[-2,22],[0,3]],[[92836,8281],[13,-10],[11,-1],[5,-13],[4,-13],[6,-1],[6,5],[1,3],[4,4],[6,2],[13,0],[0,1],[0,15],[0,2],[-3,16],[7,11],[3,12],[-2,9],[-2,9],[-5,0],[-7,1],[-3,1],[-9,1],[-7,11],[-2,3],[-6,15],[-11,16],[-1,8],[9,1],[11,1],[4,9],[0,5],[1,12],[-1,15],[-4,20],[6,4],[6,8],[8,10],[5,13],[9,-14],[11,5],[9,11],[5,14],[4,19],[-1,18],[4,-2],[4,7],[-2,14],[10,3],[2,-15],[4,-2],[6,14],[6,-17],[1,-17],[0,-17],[-3,-29],[-11,-6],[-7,-17],[-7,-9],[-1,-18],[-1,-35],[-3,-24],[5,-9],[8,-2],[11,-9],[2,-20],[8,-18],[8,-18],[2,-19],[4,-14],[0,-20],[3,-17],[-4,-13],[1,-16],[4,-18],[2,-12],[-10,-19],[-7,-15],[-4,-14],[-13,9],[4,12],[0,14],[-6,13],[-16,20],[-3,12],[-3,7],[-8,-3],[-9,7],[-2,-9],[-7,5],[-7,7],[-6,-5],[3,-16],[10,-9],[7,-20],[-10,-16],[-8,8],[-16,28],[-8,9],[-9,16],[-22,40],[-8,7],[-7,8],[6,21]],[[92799,8545],[3,2],[8,-14],[4,-10],[-2,0],[-5,-3],[-2,-3],[-3,-4],[-4,10],[1,22]],[[92722,8792],[6,12],[0,21],[0,17],[-2,5],[7,10],[7,13],[4,-9],[5,8],[0,1],[-2,17],[-6,24],[-4,15],[3,13],[-1,24],[-3,11],[-7,9],[-5,9],[3,15],[2,2],[5,-10],[2,-8],[12,-10],[8,6],[8,-2],[9,-5],[10,0],[1,1],[3,1],[3,1],[9,-5],[6,12],[1,0],[3,-1],[2,0],[7,8],[3,3],[5,9],[5,11],[1,14],[-2,11],[-7,2],[-9,8],[-6,11],[-6,4],[-9,2],[-6,2],[-1,1],[-3,10],[-1,3],[15,5],[8,11],[6,-12],[6,0],[9,-7],[7,0],[8,7],[5,0],[8,3],[8,-17],[6,-16],[7,-14],[8,-19],[6,-9],[6,-11],[-1,-5],[-4,-7],[-5,-9],[-6,-4],[-5,-5],[0,-9],[-1,-12],[4,-9],[8,3],[7,2],[8,3],[9,-6],[11,-5],[7,-10],[3,-3],[2,-17],[4,-8],[3,-9],[1,-12],[2,-16],[-3,-5],[-1,-2],[-5,-2],[-3,-11],[-6,-6],[-4,-13],[-8,-4],[-2,3],[-3,3],[-4,7],[-4,-4],[0,-8],[-1,0],[-6,-2],[-3,-2],[-2,-2],[-4,-12],[6,-4],[1,-4],[3,-9],[3,-5],[3,-21],[-1,-9],[5,-7],[4,3],[8,-16],[1,-8],[4,-5],[-2,-10],[-4,-9],[-2,-15],[-3,-10],[-8,-3],[-11,-5],[-3,9],[-4,3],[-6,-2],[-7,-1],[-5,-5],[-8,3],[-10,-5],[-7,16],[-4,6],[-3,18],[-2,32],[-2,20],[-7,30],[-3,21],[-3,15],[-2,4],[-9,12],[-5,-8],[-1,-2],[-9,-13],[-2,-8],[-2,-7],[-2,-15],[-1,-3],[-6,-12],[-1,-1],[-9,-17],[0,-2],[-5,-6],[-8,7],[-1,0],[-3,0],[-4,0],[-3,-11],[-3,-4],[-5,-4],[-1,13],[-4,16],[-5,7],[-3,12]],[[92719,8671],[4,6],[10,-6],[3,-11],[0,-11],[-3,-11],[-1,-16],[0,-12],[-4,5],[-2,8],[-3,8],[0,7],[-6,18],[2,15]],[[92717,8470],[3,19],[9,15],[7,-12],[-4,-11],[0,-16],[0,-9],[-1,-9],[-6,-4],[-7,-7],[-2,19],[1,15]],[[92711,19086],[2,0],[4,2],[0,6],[1,3],[4,0],[2,-5],[-2,-5],[-1,-3],[-2,-7],[-1,-1],[-1,-1],[-3,2],[-1,3],[-2,4],[0,2]],[[92190,14363],[5,15],[-5,18],[9,3],[11,-12],[-2,-29],[2,-12],[-9,-12],[-10,5],[-1,24]],[[92140,10123],[4,14],[12,-20],[2,0],[2,-1],[12,-3],[0,-1],[-1,-6],[-5,-2],[-8,-1],[0,-6],[0,-12],[2,-10],[1,-3],[6,-18],[7,-12],[3,-10],[2,-5],[2,-12],[-6,-11],[-3,-8],[-10,-1],[0,7],[2,20],[-2,17],[0,6],[-10,17],[-4,16],[-1,2],[-1,12],[-3,6],[-7,17],[4,8]],[[92113,17115],[8,33],[-1,25],[1,9],[11,30],[1,24],[20,14],[3,-13],[5,-22],[-7,-15],[-5,-10],[-1,-3],[-8,-2],[-7,-14],[5,-18],[-11,-19],[-6,-15],[-8,-4]],[[91936,17413],[4,-2],[5,-3],[5,-4],[0,-2],[-5,1],[-2,0],[-1,0],[-3,1],[-1,3],[-2,2],[0,4]],[[91737,16924],[16,2],[7,21],[20,9],[8,13],[1,2],[45,41],[11,1],[31,-28],[-14,-54],[-6,-10],[-72,-82],[-13,-1],[-19,14],[-11,19],[-1,6],[-7,47],[4,0]],[[91721,13293],[36,104],[15,18],[18,-29],[0,-11],[-8,-24],[4,-53],[1,-10],[22,-85],[0,-2],[4,-33],[1,-9],[-2,-13],[-47,-29],[-9,5],[-4,2],[-8,13],[-2,35],[-20,51],[-1,70]],[[91704,16805],[7,3],[14,12],[-1,-3],[-11,-27],[-8,2],[0,3],[-1,10]],[[90538,9183],[9,-20],[5,-16],[3,-13],[-2,-7],[-7,-7],[-8,37],[0,26]],[[90376,9350],[6,7],[1,1],[10,-2],[4,-4],[-6,-18],[-5,-6],[-11,10],[1,12]],[[90323,9455],[5,5],[6,-8],[0,-7],[-4,-4],[-6,7],[0,1],[-1,6]],[[81489,20496],[279,3],[190,1],[58,1],[59,0],[168,2],[135,1],[401,4],[103,1],[25,0],[11,1],[282,-1],[248,0],[106,1],[279,0],[90,1],[72,0],[47,-1],[157,-1],[84,0],[78,-1],[114,-1],[98,2],[29,-2],[147,1],[106,1],[75,-2],[329,0],[8,-1],[21,2],[205,0],[0,-1],[214,0],[5,-1],[180,0],[164,-1],[744,0],[90,-2],[191,-4],[2,0],[69,-1],[1,0],[77,-1],[6,0],[34,-1],[1,0],[17,-1],[5,0],[7,-1],[172,0],[8,-1],[316,-3],[23,0],[80,-1],[53,0],[68,-1],[1485,0],[2,1],[37,-1],[12,0],[127,-1],[20,-1],[28,0],[53,2],[56,2],[71,3],[68,-1],[61,-1],[55,0],[95,1],[143,1],[3,0],[6,-1],[20,1],[44,1],[75,0],[23,1],[139,1],[201,0],[151,1],[277,0],[30,1],[83,0],[102,-1],[141,0],[0,1],[47,-1],[30,0],[49,1],[489,0],[261,1],[63,0],[38,1],[186,1],[133,1],[49,0],[48,-2],[204,0],[205,1],[110,1],[141,0],[36,2]],[[93717,20504],[0,-18],[1,-148],[0,-39],[-1,-7],[0,-273],[1,-30],[1,-39],[0,-5],[1,-40],[1,-32],[0,-12],[1,-23],[0,-1],[1,-28],[2,-67],[3,-81],[1,-35],[2,-74],[2,-47],[3,-102],[1,-36],[6,-167],[4,-104],[0,-14],[11,-306],[4,-101],[4,-118],[5,-151],[8,-222],[11,-291],[0,-3],[3,-75],[4,-136],[13,-362],[1,-31],[1,-3],[10,-292],[3,-91],[0,-1],[11,-351],[4,-119],[2,-44],[0,-8],[2,-27],[3,-62],[6,-162],[0,-1],[5,-173],[1,-39],[0,-1],[1,-32],[4,-83],[2,-38],[3,-112],[2,-40],[1,-26],[7,-206],[1,-18],[3,-87],[19,-543],[0,-4],[6,-179],[10,-282],[7,-197],[1,-8],[3,-94],[2,-59],[0,-8],[4,-102],[1,-23],[0,-1],[2,-59],[5,-151],[0,-1],[10,-271],[15,-449],[2,-57],[16,-469],[0,-1],[3,-68],[1,-36],[1,-38],[1,-11],[6,-170],[1,-52],[7,-182],[4,-135],[5,-154],[3,-80],[4,-111],[1,-31],[9,-241],[7,0],[86,-8],[9,-1],[49,-3],[58,-4],[108,-8],[16,-3],[13,-1],[19,1],[5,0],[26,-3],[33,-2],[3,0],[11,-1],[6,0],[9,-1],[10,0],[31,-2],[7,0],[5,-1],[19,-1],[37,-2],[4,0],[61,-3],[9,-1],[70,-3],[5,0],[111,-6],[51,-2],[13,0],[46,-2],[54,-2],[79,0],[50,-1],[48,0],[33,-1],[193,-2],[43,-1],[25,0],[54,-1],[30,0],[29,-1],[45,0],[65,-1],[1,0],[143,1],[174,1],[135,0],[-15,-210],[-2,-35],[-2,-27],[-2,-19],[-2,-16],[-2,-10],[-3,-30],[-14,-114],[-15,-92],[0,-2],[-4,-43],[-1,-7],[-11,-74],[-6,-37],[-29,-144],[-14,-86],[0,-1],[-1,-2],[-5,-9],[-16,4],[-5,1],[-31,-89],[-6,-30],[-26,-133],[-29,-149],[-29,-169],[-43,-196],[-16,-77],[-36,-193],[-50,-318],[-17,-112],[-49,-225],[-42,-145],[-32,-109],[-27,-81],[-59,-176],[-36,-7],[-25,-5],[-76,-15],[-132,-26],[-172,-34],[-9,-2],[-67,-13],[-3,-1],[-99,-18],[-24,-4],[-44,-9],[-35,-6],[-87,-17],[-13,-2],[-172,-33],[-273,-52],[-5,-33],[-6,-10],[-11,-5],[-5,-8],[-5,-16],[1,-11],[16,-39],[0,-7],[-3,-7],[-4,-2],[-4,3],[-7,12],[-5,14],[-8,-1],[-12,-26],[-10,-45],[-12,-23],[-15,-6],[-7,-15],[-4,-8],[-6,-25],[0,-1],[4,-23],[5,-18],[0,-1],[-5,-3],[-9,26],[-2,7],[-10,26],[-10,8],[-1,1],[-17,31],[-7,4],[-11,6],[-8,-3],[-22,0],[-10,-5],[-4,0],[-19,26],[-20,12],[-17,19],[-20,15],[-6,12],[0,8],[6,17],[-4,10],[4,19],[1,22],[-11,4],[-2,-6],[-4,-4],[-1,-7],[-13,-9],[-6,-14],[3,-14],[5,-12],[-1,-49],[-2,-16],[-18,-30],[-8,-1],[-10,-10],[-10,-19],[-6,14],[-2,17],[-4,7],[3,21],[-4,24],[7,10],[4,7],[0,15],[-4,11],[-1,2],[-1,9],[5,9],[1,0],[-7,7],[-12,3],[-12,23],[-1,2],[-3,-5],[-2,-4],[0,-3],[3,-18],[5,-14],[2,-9],[-6,-18],[-6,-9],[-8,2],[-6,-2],[-3,-8],[4,-10],[7,-10],[3,-4],[11,-5],[3,-2],[-3,-13],[-13,-7],[-26,14],[-47,12],[-11,-3],[-27,4],[-3,-13],[-8,-12],[-1,-1],[-7,-8],[-7,-22],[-31,-47],[-4,-12],[-5,-10],[-1,0],[-9,-2],[-8,-2],[-11,19],[-4,13],[6,20],[-1,18],[-3,13],[0,1],[-5,2],[-7,3],[-2,1],[-5,0],[0,-1],[-5,-8],[0,-11],[-4,-19],[-8,-9],[-3,-28],[0,-8],[-4,-23],[11,-29],[13,-19],[1,-28],[0,-10],[-1,-3],[-7,-14],[-12,-1],[-2,-1],[-16,-1],[-1,-4],[-5,-24],[-2,-11],[-3,-19],[-8,-9],[-21,-16],[-13,-12],[-11,-9],[-1,-1],[-20,-13],[-13,-24],[-4,-8],[-15,-2],[-3,0],[-19,-3],[-19,-11],[-9,-10],[-6,-16],[-10,-7],[-12,26],[-13,12],[-2,8],[-8,39],[-2,11],[-3,13],[14,17],[-3,12],[4,17],[-3,17],[2,37],[6,37],[1,27],[3,38],[5,-3],[16,-11],[10,-1],[1,-1],[8,-10],[1,1],[7,3],[10,-6],[2,1],[7,5],[12,5],[1,1],[8,15],[7,14],[-3,8],[-6,19],[-1,2],[-3,43],[1,8],[3,17],[7,37],[-2,6],[-4,13],[-14,10],[-8,-5],[-3,-15],[0,-2],[-8,4],[-1,-1],[-9,-23],[-5,-11],[-2,-3],[-9,16],[-9,8],[-3,3],[-6,5],[-10,21],[-7,-9],[-1,-1],[-3,-9],[8,-8],[8,-22],[-4,-4],[-6,14],[-23,23],[8,23],[26,74],[1,19],[3,17],[5,25],[7,12],[7,22],[-2,9],[11,39],[17,44],[1,15],[3,9],[3,10],[1,5],[3,9],[1,8],[2,13],[6,11],[1,12],[-11,9],[-9,0],[0,1],[-4,11],[5,27],[7,22],[12,9],[19,16],[13,3],[23,-15],[8,-18],[2,-6],[6,-39],[1,0],[6,-6],[4,11],[6,12],[0,2],[11,14],[9,2],[1,1],[8,24],[6,14],[-2,12],[-1,10],[5,16],[3,5],[7,14],[12,6],[6,-8],[2,-4],[5,-7],[1,1],[5,4],[17,20],[12,23],[1,3],[8,14],[0,-4],[2,-15],[0,-2],[8,2],[3,16],[8,7],[8,1],[15,21],[6,25],[0,1],[2,8],[2,5],[14,7],[8,10],[8,8],[0,20],[4,9],[9,24],[4,8],[4,28],[-3,5],[-1,3],[-6,7],[-1,3],[-6,-8],[-3,1],[-6,4],[-1,1],[-5,23],[-6,30],[-1,1],[-9,-2],[0,-1],[-6,-17],[0,-23],[1,-11],[-2,-10],[6,-11],[1,-8],[1,-4],[-5,-17],[-1,-2],[-8,-5],[-1,-1],[-8,-5],[-1,-1],[-5,4],[-8,5],[-3,2],[-9,5],[-9,9],[-4,-7],[4,-11],[3,-8],[0,-2],[1,-11],[1,-1],[2,-9],[14,-14],[-1,-2],[-4,-24],[-17,5],[-15,-3],[-1,0],[0,-1],[-2,-10],[-1,-6],[-5,-7],[-4,21],[-2,13],[-2,5],[-14,19],[4,12],[-3,11],[-8,4],[-1,11],[-1,0],[-6,2],[-2,-14],[-3,-10],[-1,-2],[-1,-3],[-17,-4],[-5,-1],[-4,3],[-12,8],[-9,10],[-13,14],[-9,-8],[-2,-1],[-6,-22],[-6,9],[-1,-1],[-13,-3],[-2,0],[-9,-11],[-2,-7],[-2,-5],[1,-12],[3,-29],[-9,-2],[-13,-2],[-18,-3],[-5,9],[-4,2],[-1,8],[3,34],[5,15],[1,6],[0,1],[-3,17],[-3,11],[-3,8],[-5,14],[-11,0],[11,31],[6,-3],[5,9],[3,-1],[8,-2],[16,-2],[0,4],[-4,21],[-1,15],[-1,16],[-6,6],[-13,2],[-3,7],[10,6],[1,1],[10,-4],[6,-2],[2,0],[5,14],[0,1],[-3,13],[-8,8],[-1,0],[-6,7],[7,24],[0,1],[1,-2],[9,-15],[7,-1],[1,0],[5,19],[2,7],[0,3],[5,18],[2,11],[17,23],[8,3],[18,36],[1,1],[10,3],[7,2],[0,18],[-1,18],[0,29],[-1,9],[-1,18],[1,0],[13,7],[1,0],[11,23],[0,1],[4,19],[6,4],[2,-8],[10,-28],[3,-22],[8,0],[2,10],[3,5],[5,6],[0,1],[-3,21],[8,7],[8,14],[8,9],[2,1],[5,1],[4,-9],[-4,-10],[0,-10],[3,-5],[3,-14],[7,-7],[10,14],[14,25],[5,15],[10,6],[13,5],[6,3],[0,8],[2,21],[-5,33],[-6,-3],[-22,-8],[-1,-1],[-5,-13],[-1,-2],[-27,-12],[-3,-1],[-5,8],[-8,14],[-13,9],[-8,-7],[-7,-6],[-3,6],[-1,1],[8,14],[-9,16],[-1,0],[-16,4],[-8,4],[-5,10],[-5,9],[-1,1],[-2,-1],[-8,-6],[-1,-1],[-1,0],[-6,-18],[-10,-25],[-1,0],[-2,-1],[-5,0],[-20,-2],[-1,-1],[-5,-4],[-4,-3],[-4,-11],[-1,-2],[-17,-7],[-4,0],[-20,2],[-6,14],[-5,-2],[-5,-3],[0,-13],[4,-12],[8,-18],[5,-8],[1,-2],[-8,-4],[-39,19],[6,18],[1,2],[-7,30],[-1,15],[-1,17],[-13,6],[-6,8],[-4,-10],[-1,-2],[-12,-3],[-8,2],[-11,-6],[-13,-13],[-3,-10],[-8,-14],[8,-8],[7,-1],[-3,-5],[-2,-5],[-7,-10],[-10,-7],[-5,5],[1,18],[0,15],[-22,9],[-1,0],[-8,7],[-1,4],[-3,11],[-1,2],[-6,3],[-1,13],[-9,5],[-1,1],[-5,6],[-1,1],[-10,-11],[-12,-2],[0,-2],[2,-18],[0,-1],[5,-13],[0,-1],[2,-15],[11,-17],[16,-24],[2,-24],[1,-14],[0,-3],[-10,-12],[-17,-22],[-10,-2],[-6,2],[-6,-11],[-5,-9],[0,-22],[7,-8],[1,-21],[-9,-8],[-1,-19],[-14,-13],[-11,12],[-1,13],[-4,14],[-4,16],[8,12],[1,26],[0,1],[-3,15],[-4,6],[-10,-1],[-5,5],[-13,20],[-4,8],[2,8],[-9,21],[-2,11],[5,29],[6,21],[4,20],[1,25],[3,13],[-1,10],[6,37],[-2,11],[6,18],[11,49],[0,4],[1,2],[0,2],[1,9],[-13,29],[-3,12],[2,14],[30,66],[19,18],[14,2],[16,1],[3,0],[8,3],[6,4],[6,5],[26,23],[10,18],[22,14],[9,6],[15,4],[19,19],[7,8],[5,-10],[7,-20],[0,-1],[8,-3],[13,-6],[1,-1],[2,0],[21,9],[8,4],[3,1],[8,3],[4,2],[6,9],[13,17],[20,17],[18,27],[1,1],[18,15],[1,5],[4,14],[5,14],[3,10],[10,-2],[2,4],[1,0],[1,3],[8,-12],[1,-1],[3,-4],[2,-4],[1,1],[7,5],[0,14],[10,23],[6,2],[4,13],[5,17],[0,15],[-1,14],[-4,5],[-1,0],[-9,-9],[-7,-3],[-6,4],[0,1],[-15,0],[-12,8],[-9,-3],[-11,6],[-13,0],[-9,-11],[-11,-25],[-14,19],[-7,-1],[-10,3],[0,13],[-2,12],[15,25],[18,13],[7,16],[4,5],[37,49],[5,14],[3,1],[2,1],[14,3],[2,1],[9,15],[10,7],[2,-8],[5,-3],[12,6],[12,3],[6,-7],[8,-1],[5,9],[17,0],[6,7],[0,3],[2,10],[-5,10],[-9,-9],[-20,7],[-10,9],[-7,20],[-9,5],[-10,7],[-10,-7],[-6,-12],[-17,-10],[-8,-5],[-38,0],[-11,-39],[-9,-31],[-16,-4],[-24,0],[-12,-19],[-8,-9],[-10,3],[-1,12],[0,3],[3,13],[2,7],[5,9],[0,13],[-5,10],[-8,11],[-4,1],[-1,0],[-3,1],[-1,0],[-11,-17],[-1,-1],[-4,-14],[-1,-4],[2,-15],[1,-1],[-8,-25],[-17,-23],[-3,-14],[1,-22],[4,-8],[4,-27],[9,-21],[-9,3],[-8,-6],[-8,-8],[-14,8],[-13,32],[-8,25],[-7,27],[-8,14],[3,10],[-6,21],[-1,11],[2,11],[-2,13],[-2,10],[-3,29],[-6,15],[-5,16],[-3,5],[-7,10],[-5,9],[-11,8],[18,16],[24,45],[5,34],[7,27],[0,1],[5,18],[0,1],[4,17],[0,2],[-3,19],[-7,6],[-13,22],[11,19],[6,21],[0,2],[12,23],[2,10],[2,9],[18,41],[0,1],[1,6],[0,5],[1,8],[1,0],[10,40],[7,29],[15,60],[6,-3],[8,-10],[9,2],[10,10],[4,17],[-3,10],[-12,1],[10,46],[9,26],[16,19],[11,20],[18,14],[4,27],[5,32],[6,29],[9,27],[-3,11],[-10,16],[-11,28],[-21,29],[-4,12],[-2,14],[-2,11],[-2,-1],[-11,-9],[-7,-18],[1,-15],[5,-6],[1,-14],[0,-1],[2,-14],[7,-10],[7,-30],[4,-21],[-1,-19],[-1,-3],[-29,-29],[-12,-8],[-5,-4],[-14,-7],[-1,0],[-8,-8],[-18,-3],[-12,-13],[-22,-3],[-3,-12],[-7,-11],[-12,-5],[-4,-11],[-14,-8],[-3,-14],[-5,-15],[1,-11],[3,-36],[0,-44],[-11,-7],[-10,-1],[-2,-5],[-10,-22],[-13,-7],[-8,-45],[-8,-24],[-12,-6],[-4,-16],[-2,-7],[-2,-11],[5,-24],[-2,-5],[-12,-33],[0,-34],[16,-46],[-3,-13],[-6,-11],[-1,-35],[4,-27],[-1,-12],[-1,-17],[-6,-10],[-17,-15],[-6,-12],[-7,4],[-7,-6],[0,-1],[-7,-8],[-4,-14],[2,-10],[6,-27],[3,-21],[-4,-8],[-6,-4],[0,-12],[19,-31],[14,3],[13,-17],[-6,-21],[-9,-16],[-5,-15],[-9,-18],[-9,3],[-12,-8],[-48,-22],[1,10],[9,17],[10,27],[4,29],[3,26],[0,2],[3,4],[-3,16],[-9,14],[-3,5],[-2,7],[-38,52],[-16,19],[-4,10],[-1,24],[2,-1],[8,-2],[-1,13],[-2,7],[-1,5],[0,12],[4,11],[-6,14],[-1,0],[-9,-4],[-6,21],[-4,10],[-5,17],[-27,66],[-11,26],[5,19],[-9,13],[-10,9],[-3,12],[-1,15],[-30,21],[-3,14],[26,22],[2,2],[40,9],[18,4],[33,8],[18,10],[22,28],[13,17],[6,14],[3,27],[4,22],[-2,38],[0,54],[5,7],[8,14],[0,1],[2,6],[0,3],[1,1],[-6,5],[-14,5],[-11,-10],[-1,18],[0,12],[-3,12],[-4,18],[-11,51],[0,1],[-5,24],[-2,4],[-5,8],[-13,1],[-7,5],[-21,9],[-16,0],[-6,8],[-2,14],[-7,13],[-15,2],[-11,0],[-7,-2],[-5,11],[-3,7],[-2,1],[-3,1],[-5,-15],[2,-12],[5,-16],[8,-2],[5,-5],[6,-13],[-8,-18],[-9,-18],[-5,-22],[-1,-27],[-2,-8],[5,-9],[1,-1],[2,1],[5,4],[6,-4],[1,-1],[-12,-10],[-6,-13],[-2,-20],[-3,-14],[-1,-13],[2,-9],[-4,-21],[-5,-15],[-4,-46],[-13,-9],[-13,-10],[-11,-23],[-18,-31],[-9,1],[-17,-9],[-13,-29],[-2,-13],[-3,-24],[-8,-27],[-42,-31],[0,-1],[-2,-5],[4,-3],[18,-1],[20,0],[8,-16],[0,-1],[10,-5],[12,-23],[4,-19],[2,-10],[7,-15],[6,-18],[11,-8],[5,-5],[-1,-21],[4,-16],[9,-12],[-2,-10],[-8,-9],[-1,-9],[-8,-19],[-3,-28],[2,-18],[0,-2],[-6,-26],[-10,-41],[-2,-22],[-2,-13],[-1,-9],[-4,-26],[-10,-1],[-3,-13],[-5,9],[-3,11],[-11,-5],[-1,-1],[-8,8],[0,1],[-9,5],[-10,-14],[1,-1],[8,-7],[10,-10],[10,-13],[4,-10],[1,-2],[2,-3],[12,-3],[0,-15],[6,-21],[9,-29],[6,-8],[5,-12],[1,-8],[1,-4],[-3,-43],[5,-10],[7,-13],[-1,-12],[4,-26],[-4,6],[-16,19],[0,1],[-10,15],[1,21],[-13,9],[-5,7],[-7,-7],[-1,-15],[-5,2],[-8,19],[-7,-2],[-3,-1],[-6,9],[-1,2],[-2,2],[-5,17],[-10,24],[-5,4],[-8,18],[-1,7],[-3,9],[-4,0],[-1,10],[-6,19],[0,28],[-8,17],[-4,22],[0,3],[-1,7],[1,12],[-12,5],[-6,-8],[-2,-13],[-6,0],[-8,7],[-5,6],[-7,2],[-5,-15],[-14,-1],[-2,10],[-8,5],[-8,-7],[0,15],[-7,9],[-19,42],[4,-1],[9,-4],[5,-13],[7,-19],[12,-3],[0,-1],[9,12],[3,16],[-4,16],[12,-2],[10,-2],[3,0],[12,24],[4,4],[1,2],[1,0],[6,4],[4,3],[1,1],[3,13],[-6,12],[-1,1],[-20,10],[-1,0],[-10,2],[4,5],[3,7],[0,8],[1,12],[-2,18],[-12,1],[-12,-4],[-4,-1],[-1,0],[-10,13],[-2,3],[-2,13],[3,10],[5,6],[-1,5],[-1,9],[-6,16],[2,11],[0,1],[1,7],[0,1],[-12,6],[-5,-6],[-5,-18],[-11,-2],[-5,-13],[-4,-1],[0,16],[-15,18],[3,9],[12,6],[1,1],[13,10],[5,4],[1,19],[-5,9],[3,17],[-2,2],[-5,6],[-1,-3],[-3,-12],[-1,-14],[0,-2],[-9,-3],[-5,12],[-3,7],[-1,17],[2,15],[-6,2],[-5,2],[-2,-18],[-1,-21],[-7,1],[-4,-11],[-13,25],[-10,3],[-6,-10],[5,-26],[-2,-11],[0,-2],[-1,-26],[0,-3],[-5,-12],[-2,-8],[5,-19],[8,-14],[4,-11],[0,-1],[11,-17],[1,0],[-4,-10],[-11,16],[-9,3],[-8,3],[-1,0],[-13,-8],[-4,-2],[0,-1],[-3,-8],[-6,-22],[-5,-3],[0,-1],[-15,-14],[-3,-22],[-4,0],[0,2],[-2,9],[3,21],[2,20],[-4,24],[-1,19],[22,33],[1,3],[1,1],[11,23],[-1,14],[0,2],[-1,14],[1,6],[2,17],[4,-3],[5,-2],[4,7],[9,13],[-3,17],[0,1],[-2,10],[0,3],[6,13],[-5,13],[-1,2],[-12,-2],[0,4],[-3,10],[-8,6],[-2,2],[-3,9],[-6,1],[0,-10],[-3,-17],[-30,20],[-6,12],[-12,10],[-8,-5],[-8,5],[-8,14],[-2,4],[-5,13],[-13,18],[-6,17],[-13,1],[-13,-6],[-1,0],[-6,-3],[0,-2],[-1,-7],[-1,-8],[-1,-10],[-1,0],[-14,-6],[-11,-20],[-11,3],[-2,0],[4,17],[-2,20],[-2,11],[0,4],[-6,7],[10,17],[5,-4],[4,-11],[10,-5],[9,4],[4,13],[5,10],[-3,20],[-4,2],[-7,4],[-2,2],[2,9],[10,7],[7,6],[4,15],[16,-19],[8,-22],[3,-19],[3,-4],[4,-6],[1,-1],[3,-9],[4,-11],[9,-21],[11,7],[7,-18],[5,2],[1,3],[3,8],[-2,31],[1,9],[0,1],[-7,22],[-19,12],[-3,2],[-7,12],[-5,9],[-1,16],[1,11],[1,3],[4,14],[-3,9],[0,9],[-2,19],[-6,12],[-7,18],[-6,18],[-14,23],[-3,20],[1,10],[-13,9],[-10,-1],[-9,6],[-12,10],[-5,7],[1,2],[4,7],[0,12],[-11,7],[0,9],[-12,11],[-6,6],[0,1],[-6,-7],[0,-16],[-8,-12],[-5,-2],[-1,-1],[-22,-9],[-5,2],[3,13],[-3,7],[0,16],[1,16],[7,3],[5,11],[-1,11],[-1,10],[5,12],[0,21],[-3,16],[0,16],[3,11],[-6,20],[-5,5],[-12,16],[-10,17],[-1,1],[-4,2],[-8,-4],[-1,0],[-5,-4],[-5,-5],[-3,-16],[-1,-16],[3,-22],[7,-9],[7,-30],[-11,-5],[-5,-20],[-3,-20],[4,-26],[1,-25],[0,-7],[-7,-4],[-1,0],[0,-9],[2,-7],[1,-7],[6,-31],[7,-23],[-1,-19],[6,-18],[1,-2],[0,-17],[2,-2],[5,-4],[6,-16],[9,-25],[13,-16],[2,-3],[14,-13],[-1,-4],[0,-44],[4,-18],[-2,-2],[-20,-12],[-4,-2],[0,-1],[-6,-15],[-3,-6],[0,-1],[1,-15],[1,-1],[4,-12],[-1,-17],[-1,-6],[-6,-26],[1,-3],[2,-12],[3,-11],[8,-18],[25,-29],[0,-1],[1,-2],[13,-23],[16,-65],[8,-13],[9,9],[-2,11],[-1,4],[8,9],[18,3],[6,0],[9,-7],[5,-8],[10,-4],[8,4],[2,9],[5,14],[11,10],[1,1],[11,-23],[6,-9],[1,-2],[10,-1],[10,-12],[-3,0],[-16,-4],[-7,6],[-2,2],[-4,14],[-1,0],[-6,2],[-3,-9],[-6,-6],[-9,-8],[0,-13],[14,-27],[-5,-13],[-18,-8],[-5,-13],[-1,-2],[7,-25],[-1,-23],[9,-13],[10,-14],[-10,-2],[-4,5],[-1,2],[-6,-2],[3,-20],[0,-1],[2,-8],[5,-10],[1,-1],[6,-26],[0,-2],[20,-33],[14,-22],[5,-19],[0,-2],[3,-18],[35,-2],[2,0],[6,3],[13,5],[13,-12],[12,-11],[5,-2],[11,-2],[6,-9],[8,-11],[10,-3],[1,-7],[2,-22],[-14,-33],[-9,-11],[-9,-7],[-8,0],[-9,-3],[-11,13],[-8,-2],[-12,9],[0,15],[-14,25],[-1,3],[-8,20],[-6,7],[-2,9],[-11,1],[-5,-7],[-5,-11],[-5,16],[0,17],[-9,7],[-6,-3],[-12,30],[-1,19],[-10,19],[-2,14],[-11,17],[-11,21],[-6,29],[-5,34],[-5,35],[-10,33],[-4,16],[-10,18],[-6,1],[-4,8],[0,10],[-9,29],[-9,44],[-11,15],[-6,16],[-16,18],[-4,5],[-11,6],[-11,8],[-7,18],[0,10],[-4,12],[-5,5],[-2,5],[1,23],[-3,18],[0,11],[-3,9],[-8,5],[1,2],[7,30],[3,13],[-8,16],[-4,35],[3,68],[-11,13],[-1,2],[-6,6],[-1,16],[-7,16],[0,2],[-7,28],[-4,17],[-8,13],[-9,6],[-3,8],[2,5],[-1,10],[-14,13],[-10,10],[-5,11],[-7,14],[-10,15],[-8,5],[-3,2],[-11,7],[0,5],[-2,27],[-1,5],[-4,8],[-6,11],[-13,2],[-2,7],[3,13],[-2,10],[-4,6],[-7,15],[1,16],[-4,7],[7,25],[1,19],[3,38],[-2,33],[-5,26],[-5,34],[-7,9],[-4,18],[-1,3],[-5,24],[-17,19],[-10,26],[0,19],[-6,18],[-8,16],[1,12],[-8,27],[-4,13],[0,15],[-7,22],[-10,13],[-2,2],[-8,2],[0,17],[-5,19],[1,12],[-16,17],[-12,21],[-14,41],[-1,13],[-12,29],[-6,4],[-2,18],[4,15],[-2,10],[-3,7],[-4,14],[3,17],[-1,20],[11,-7],[10,5],[6,5],[-2,2],[-5,7],[1,9],[5,6],[4,3],[1,7],[1,9],[-11,13],[-3,14],[-3,9],[5,2],[10,3],[5,1],[2,-8],[7,-3],[8,2],[5,-7],[17,-3],[12,11],[0,1],[12,12],[8,9],[5,4],[19,3],[7,8],[14,6],[5,-3],[-1,-6],[-8,-8],[1,-8],[1,-12],[9,-6],[1,0],[11,-13],[4,-1],[20,-7],[3,-1],[18,17],[2,7],[7,-5],[0,1],[4,20],[4,18],[8,29],[7,25],[22,69],[15,35],[7,1],[3,0],[0,1],[40,20],[10,-4],[8,-6],[3,7],[19,41],[-4,33],[-4,5],[-1,20],[0,1],[-20,6],[-20,5],[-2,-2],[-29,-30],[-15,16],[-5,-1],[-8,9],[-8,10],[0,1],[-35,6],[-5,1],[-4,-6],[-13,-24],[0,-2],[-7,-23],[0,-2],[2,-7],[-1,-21],[-13,17],[-4,16],[1,4],[5,43],[1,5],[1,4],[0,2],[2,11],[3,17],[-2,13],[1,27],[-4,16],[-4,10],[-3,13],[-8,26],[-9,-1],[1,9],[-21,52],[-20,7],[-10,-5],[-2,19],[-6,7],[-11,-3],[6,16],[11,3],[17,36],[7,12],[2,16],[6,-8],[6,2],[-5,-41],[21,-13],[9,-7],[11,23],[2,5],[1,6],[3,13],[19,15],[11,21],[1,2],[1,13],[1,2],[-4,14],[-16,7],[0,1],[-1,8],[11,43],[3,-4],[4,-5],[4,4],[8,12],[-3,19],[0,1],[5,7],[-5,11],[0,1],[-19,-1],[-1,-1],[-4,-12],[-1,-2],[-6,2],[-2,4],[-3,7],[-2,8],[1,20],[-12,32],[-5,30],[-2,29],[-6,23],[-11,23],[5,6],[1,-1],[14,-17],[3,-10],[9,-11],[1,-17],[7,-6],[2,-2],[3,-10],[2,-7],[-8,-29],[14,-13],[8,9],[8,0],[3,29],[2,4],[9,15],[5,-21],[1,0],[7,-2],[10,7],[0,-1],[9,-11],[3,8],[1,3],[-2,20],[-1,4],[-6,11],[-6,17],[5,9],[11,9],[2,11],[10,-11],[20,14],[5,6],[11,-2],[2,-10],[0,-11],[-2,-2],[-8,-13],[3,-11],[3,-10],[-8,-21],[1,-1],[3,-11],[1,-9],[2,-10],[0,-1],[4,-4],[0,-1],[13,0],[-3,8],[0,1],[3,8],[26,-20],[9,-6],[5,-3],[12,-5],[10,-20],[20,16],[1,1],[7,9],[3,4],[1,17],[15,13],[4,11],[17,26],[6,5],[12,5],[17,25],[16,24],[21,8],[5,-6],[2,-7],[11,-38],[0,-23],[1,-29],[-3,-35],[-5,-9],[0,-23],[-4,-18],[-1,-7],[-1,-3],[5,-16],[4,-10],[7,-15],[8,-11],[0,-1],[17,2],[12,3],[1,1],[2,5],[7,12],[9,15],[2,17],[17,26],[2,-4],[5,-11],[1,-2],[0,-15],[16,-38],[3,-7],[1,-2],[11,-13],[8,-16],[0,-1],[10,-17],[12,-21],[9,-9],[7,-10],[3,-4],[1,-2],[8,6],[3,2],[31,26],[38,41],[6,-2],[0,-4],[-2,-15],[8,-32],[14,-8],[0,-1],[1,0],[6,1],[1,0],[7,2],[-1,-11],[-1,-5],[2,-22],[0,-4],[4,-7],[6,-9],[7,10],[10,-16],[-4,-13],[9,-7],[3,-2],[12,-9],[6,-10],[1,-9],[16,-14],[10,-4],[15,-24],[7,-10],[13,-6],[8,4],[1,0],[5,2],[1,1],[3,1],[8,6],[3,2],[26,19],[0,1],[-6,41],[-7,46],[-2,8],[-1,10],[-1,3],[-4,9],[-6,10],[-15,8],[-9,18],[-7,15],[-12,18],[-17,18],[2,28],[-6,13],[4,20],[-2,11],[-11,16],[-4,5],[0,1],[-19,10],[-20,23],[-11,13],[-24,13],[-11,15],[-1,9],[5,7],[1,16],[-3,19],[-7,8],[-11,10],[-13,-6],[-24,-2],[-22,-14],[-2,-5],[-8,-16],[-2,-23],[2,-21],[-5,-12],[-5,9],[-1,1],[-2,10],[-1,28],[0,17],[-5,13],[-1,2],[-8,13],[-19,29],[-4,11],[-10,36],[-11,20],[-9,5],[-3,2],[-17,-3],[-10,-7],[-6,2],[-9,-7],[-14,69],[-3,29],[-11,61],[-13,32],[-10,-2],[-7,26],[-7,16],[-6,3],[-9,12],[-4,5],[-1,3],[-1,1],[-3,8],[-4,9],[0,1],[-6,17],[-1,3],[3,17],[7,2],[5,11],[1,8],[0,5],[-4,1],[0,34],[2,7],[-13,42],[-2,1],[-23,14],[-2,-8],[-6,-3],[-9,-39],[-10,-25],[-2,-14],[-7,-6],[-4,-14],[-6,-28],[-3,-24],[-3,-4],[1,-1],[6,-11],[2,-2],[-9,-2],[-13,35],[-6,5],[-12,27],[-1,10],[-9,6],[1,16],[-5,20],[-6,4],[2,18],[5,20],[-8,14],[-12,23],[-24,6],[-6,14],[-9,25],[-2,4],[-13,39],[-8,25],[-1,4],[-2,30],[0,19],[8,34],[9,-1],[8,-1],[1,2],[6,17],[1,13],[-6,8],[-2,19],[-4,1],[-6,2],[-8,9],[-5,17],[1,11],[12,2],[9,-1],[9,16],[22,-22],[13,-41],[11,-17],[10,19],[11,16],[1,2],[11,43],[-27,27],[-17,29],[-18,31],[-2,4],[4,32],[3,15],[-7,21],[-12,8],[-17,2],[-2,3],[-7,10],[-16,-21],[-5,-6],[0,-11],[1,-32],[0,-5],[-1,-1],[-5,-25],[-1,-3],[-9,-4],[-16,6],[-10,-5],[-8,-50],[8,-22],[-1,-23],[-30,-50],[-10,-12],[-3,-16],[-7,-13],[-4,-84],[1,19],[-1,-49],[-8,16],[-11,18],[-17,19],[1,14],[-7,20],[-5,1],[-3,-7],[-2,0],[-5,-1],[0,16],[-1,1],[-11,5],[0,-1],[-5,-14],[0,-26],[-6,9],[-12,6],[9,30],[2,6],[-8,16],[-3,8],[-1,1],[3,12],[6,5],[7,9],[0,1],[1,18],[0,17],[-7,9],[0,15],[3,16],[-5,25],[2,11],[-3,10],[-1,6],[-3,13],[-15,3],[-1,0],[-32,-8],[-1,0],[-2,-12],[4,-12],[-16,-16],[-8,-5],[-1,-8],[-8,-3],[-7,-11],[4,-14],[8,-4],[11,7],[11,-8],[5,-31],[1,-8],[0,-13],[-10,-7],[-1,-1],[-11,-3],[-2,-21],[-5,-14],[-5,-16],[-5,-29],[-6,-8],[-3,-3],[-6,-15],[-1,-2],[-7,-11],[-2,-21],[5,-6],[3,-3],[0,-8],[-2,-1],[-9,0],[-1,-17],[-2,-20],[22,-69],[2,-18],[9,2],[7,-17],[0,-2],[-6,-41],[2,-31],[-3,-4],[-7,-8],[-24,5],[-16,-8],[-2,-4],[-5,-8],[0,-1],[3,-16],[2,-4],[3,-7],[-6,-12],[-15,61],[1,21],[-1,18],[-4,30],[-3,7],[2,12],[-3,11],[9,26],[3,22],[-2,23],[-5,17],[2,19],[6,58],[5,2],[1,18],[3,28],[0,2],[5,11],[-1,30],[0,5],[-1,6],[-5,20],[-1,47],[6,12],[-4,42],[-8,39],[1,14],[3,7],[5,23],[1,5],[7,16],[1,22],[6,6],[3,2],[15,13],[4,22],[-2,15],[0,3],[-11,18],[-6,13],[14,30],[3,-11],[7,-10],[10,7],[2,13],[2,11],[-1,4],[-1,3],[13,54],[3,10],[18,37],[9,26],[2,5],[4,124],[2,7],[17,49],[3,32],[4,8],[11,16],[11,-8],[7,4],[13,-3],[1,1],[8,10],[3,4],[7,10],[4,7],[13,-2],[-2,31],[-5,5],[-6,13],[5,11],[2,13],[6,15],[9,10],[19,40],[8,23],[13,22],[21,35],[5,14],[7,3],[5,-24],[0,-14],[-8,-9],[-7,4],[-7,-11],[-16,-26],[-2,-2],[-3,-2],[-1,-7],[-4,-22],[0,-1],[2,-16],[11,-10],[8,-7],[8,-26],[2,-26],[2,-13],[2,-12],[17,-20],[2,-9],[-3,-27],[2,-7],[2,-4],[11,-13],[3,-22],[9,-14],[9,20],[19,3],[1,5],[14,2],[11,-17],[3,-17],[7,-13],[2,-4],[10,-17],[10,-20],[16,-31],[-2,-14],[-12,-19],[-7,-7],[2,-25],[9,-15],[-2,-6],[-9,-30],[0,-1],[-1,0],[5,-23],[0,-1],[1,0],[11,-17],[19,-28],[5,-18],[5,-6],[2,-3],[4,-7],[12,-4],[11,-18],[-3,-28],[8,3],[22,-17],[14,-43],[-2,-12],[-1,-13],[7,-15],[11,-6],[11,-10],[16,-5],[16,37],[0,24],[10,37],[9,5],[1,0],[1,1],[9,10],[1,17],[3,8],[-16,20],[-1,0],[-16,-5],[-4,-6],[-15,-22],[-7,-2],[-2,6],[-5,18],[-13,17],[-3,9],[4,26],[-3,11],[-8,22],[-3,2],[-11,7],[-4,14],[1,13],[0,6],[-2,6],[-1,6],[-1,1],[-10,5],[-2,23],[-7,7],[-10,11],[-10,35],[7,40],[-2,14],[0,4],[-2,10],[4,18],[16,55],[1,25],[7,34],[-15,44],[-7,61],[-1,1],[-13,32],[-12,33],[-2,4],[-1,19],[3,12],[9,41],[1,17],[8,135],[2,10],[4,22],[2,43],[3,17],[-6,10],[-9,-2],[-7,-13],[-1,11],[0,23],[-5,74],[0,10],[1,40],[3,64],[1,3],[4,6],[-4,24],[-5,19],[-8,2],[-1,0],[-2,1],[-7,11],[-8,6],[-3,28],[5,13],[10,-2],[3,19],[0,20],[-5,18],[-4,-5],[0,-13],[-6,-6],[-4,12],[-9,8],[-6,6],[-6,5],[-2,2],[-11,-2],[-6,-20],[-4,-23],[-15,7],[-10,0],[0,6],[-7,38],[-1,8],[4,18],[-1,18],[-5,23],[-1,4],[-4,17],[-5,17],[-1,2],[-7,23],[-8,3],[-7,4],[-2,1],[-13,-12],[-3,-2],[4,-30],[0,-2],[1,-14],[-2,-6],[-2,-7],[-1,-7],[0,-1],[4,-15],[0,-33],[1,-20],[-1,-3],[-4,-9],[-1,-3],[4,-6],[5,-7],[0,-22],[-3,-3],[-5,-6],[-3,-3],[-6,-11],[-4,-8],[-5,-9],[-1,-2],[-6,-14],[3,-11],[3,-10],[4,-10],[6,-12],[12,-6],[5,15],[10,-34],[-6,-21],[-5,3],[-5,-2],[-4,-11],[-6,-4],[-2,-2],[-12,6],[-7,3],[-1,16],[-7,18],[-4,26],[3,17],[-12,24],[-4,35],[-7,14],[3,16],[-7,-1],[-12,-16],[-15,-25],[-11,-12],[-7,-8],[-5,-5],[-1,-3],[-1,-16],[-9,-4],[-2,-1],[-12,-9],[-1,-1],[0,-30],[-11,-28],[-1,-18],[3,-11],[15,-51],[1,-1],[-8,-15],[6,-10],[3,-9],[1,-18],[-21,-4],[0,31],[-2,22],[-6,37],[-3,55],[-7,17],[-5,1],[-8,2],[-3,-1],[-22,-11],[-1,0],[-1,-20],[-2,-20],[6,-19],[-5,-6],[-2,-23],[-20,-1],[0,18],[-2,14],[-5,10],[-4,10],[-4,1],[-4,2],[-7,-2],[-7,-1],[-8,-15],[-5,-9],[-8,-23],[1,-5],[6,-28],[12,-6],[-5,-5],[-4,-45],[3,-23],[0,-2],[-4,-19],[-2,-9],[-1,-4],[10,-48],[6,-41],[-1,-27],[9,-92],[1,-3],[-10,-31],[-13,-20],[-9,-13],[-19,5],[-5,2],[-9,5],[-20,-26],[-4,-4],[-11,-10],[-2,-3],[-6,-13],[-1,-20],[-3,-11],[-3,-12],[0,-1],[1,-17],[-4,-22],[0,-1],[-6,-19],[-15,10],[-8,15],[0,19],[-1,4],[3,19],[-1,18],[-4,6],[0,16],[5,36],[7,19],[3,10],[5,19],[3,10],[1,5],[2,23],[11,49],[1,4],[3,77],[-5,63],[0,45],[-1,68],[8,124],[2,24],[1,14],[0,2],[1,34],[0,17],[1,23],[0,2],[21,110],[5,24],[23,74],[20,56],[3,1],[13,6],[5,16],[-2,15],[0,3],[1,15],[1,3],[4,29],[1,4],[28,67],[6,29],[5,29],[-1,20],[0,3],[-7,18],[5,44],[2,26],[4,36],[22,71],[6,21],[22,27],[11,6],[2,-26],[-2,-10],[-1,-13],[2,-6],[2,-5],[-6,1],[-6,2],[-3,-17],[1,-14],[1,-11],[6,-4],[1,-1],[4,-18],[2,-5],[1,0],[11,-26],[0,-1],[1,-43],[2,-8],[5,-39],[3,-24],[4,-10],[12,-34],[0,-5],[1,-4],[0,-2],[12,-25],[5,-13],[8,-18],[1,-3],[-1,-10],[2,-6],[11,-32],[7,3],[15,4],[2,1],[34,2],[0,-13],[-1,-1],[-6,-10],[-1,-1],[0,-5],[2,-13],[1,-1],[14,-16],[2,-3],[8,2],[5,1],[5,8],[-4,23],[-1,4],[9,4],[4,0],[6,-1],[10,-1],[0,-4],[5,-26],[1,-6],[3,-6],[9,-12],[2,0],[10,2],[2,1],[11,0],[-3,39],[5,4],[3,2],[1,-2],[10,-38],[1,-1],[14,-17],[9,-12],[1,0],[35,22],[18,-3],[1,0],[3,3],[33,46],[1,2],[6,15],[17,26],[11,18],[7,19],[16,26],[7,12],[8,9],[4,5],[14,18],[2,22],[2,27],[-2,30],[-13,61],[-1,15],[-5,9],[-4,17],[-13,17],[-4,21],[-9,22],[10,57],[-1,23],[-5,14],[-9,4],[-13,11],[-2,1],[11,29],[1,4],[3,19],[0,2],[15,40],[21,30],[9,1],[24,20],[16,66],[12,38],[5,13],[7,18],[13,33],[-7,18],[-2,10],[2,9],[-10,4],[-30,11],[-25,9],[-1,0],[-11,-8],[-4,10],[0,1],[-48,0],[-11,-15],[-10,-13],[-7,-16],[-7,-2],[-29,-35],[-6,-19],[2,-46],[-3,-15],[-7,-19],[-7,-12],[-7,-9],[-1,-30],[7,-10],[2,-39],[0,-4],[-3,-23],[-7,-45],[8,-32],[-6,-6],[1,-14],[-4,-11],[5,-11],[0,-18],[5,-6],[8,-27],[-1,-2],[-4,-23],[-3,-19],[4,-17],[0,-2],[8,-23],[5,-15],[1,-1],[6,-26],[3,-18],[-12,-4],[-4,1],[-9,-24],[-3,-9],[-5,-1],[-8,6],[-1,1],[-6,3],[1,7],[-5,19],[-10,9],[-6,0],[-6,4],[-5,14],[-9,12],[-4,-7],[-8,6],[-9,23],[-2,14],[-6,10],[-12,14],[-5,12],[-3,6],[6,45],[0,36],[13,43],[11,7],[4,-9],[7,4],[-3,11],[5,3],[8,41],[-2,10],[-8,29],[-2,21],[-1,80],[-1,84],[-6,65],[-7,56],[-1,7],[-6,12],[-3,19],[-14,38],[-5,20],[-7,32],[0,1],[-3,20],[10,25],[-3,23],[-1,3],[2,4],[3,12],[-3,23],[-14,7],[-2,3],[-24,28],[-6,20],[-8,11],[-4,5],[-6,18],[-4,9],[-12,3],[-23,13],[-5,41],[10,105],[23,98],[3,15],[1,3],[35,80],[16,58],[23,117],[0,4],[9,44],[11,40],[13,35],[7,17],[8,33],[1,3],[0,2],[8,45],[1,4],[3,37],[10,60],[11,32],[0,1],[18,45],[9,13],[13,-9],[10,0],[4,10],[4,15],[-1,12],[-1,22],[8,27],[6,6],[11,-4],[5,7],[11,1],[15,31],[8,42],[5,6],[9,-2],[12,-11],[9,-14],[4,6],[8,10],[2,33],[-6,6],[-4,9],[-4,12],[-8,7],[-9,-4],[-5,11],[3,13],[5,16],[0,19],[-8,27],[-14,7],[-9,11],[-2,15],[0,8],[4,29],[9,13],[15,15],[9,4],[10,27],[2,14],[5,24],[7,5],[29,23],[11,-1],[10,-2],[7,-4],[11,-2],[8,-2],[4,-20],[3,-26],[3,-4],[2,-2],[4,2],[2,11],[2,16],[11,11],[9,1],[2,19],[0,17],[-2,21],[-12,30],[1,29],[6,21],[8,12],[37,38],[16,24],[7,26],[7,46],[6,14],[35,-3],[46,-11],[20,2],[22,6],[4,1],[10,1],[22,2],[1,0],[30,-8],[11,-2],[56,-25],[5,-5],[11,-13],[10,-14],[6,-8],[1,-1],[3,2],[35,33],[9,-6],[7,5],[14,8],[16,22],[15,12],[8,20],[15,37],[-8,15],[0,1],[-7,2],[-11,11],[-4,10],[-9,6],[-15,-4],[-9,1],[-12,6],[-13,-2],[-25,2],[-21,-4],[-14,1],[-16,5],[-8,4],[-6,11],[-5,19],[1,27],[11,40],[9,19],[7,8],[36,31],[17,9],[1,1],[22,32],[10,14],[2,3],[10,31],[3,33],[17,52],[7,8],[14,15],[13,3],[15,12],[8,28],[8,30],[3,12],[1,24],[1,2],[4,6],[2,25],[2,5],[7,31],[7,7],[1,5],[8,29],[1,4],[-4,5],[-34,52],[-1,1],[-13,-2],[-5,4],[-6,-7],[1,-16],[-2,-23],[-3,-26],[-5,-8],[-6,-12],[-23,-13],[-2,-13],[5,-10],[-21,-28],[-9,-5],[-14,-2],[-5,9],[-5,20],[3,18],[6,16],[34,63],[5,3],[10,43],[3,32],[-6,62],[2,34],[1,6],[15,22],[8,34],[6,101],[3,13],[0,2],[3,14],[10,15],[4,33],[-3,55],[2,10],[5,4],[10,2],[4,13],[2,3],[3,5],[6,-7],[6,-2],[11,5],[9,15],[4,15],[-2,16],[-6,7],[-7,-4],[-8,23],[1,16],[8,18],[-2,16],[-1,1],[1,13],[-11,57],[4,28],[4,4],[7,-5],[9,7],[5,11],[8,8],[7,20],[3,2],[1,12],[0,21],[-1,14],[10,26],[7,12],[0,1],[5,1],[4,6],[0,18],[-7,16],[5,6],[0,29],[2,6],[3,11],[-4,14],[0,1],[-3,1],[-15,3],[-9,-6],[-3,-3],[0,-1],[-6,-10],[-5,-9],[-8,-17],[-4,-8],[3,-25],[-5,-33],[-1,-4],[-8,-14],[-1,-2],[-1,-3],[-1,-4],[-13,-37],[-1,-1],[-49,-41],[-15,-14],[-17,-8],[-7,-12],[-10,-40],[0,-3],[-3,-13],[-4,-16],[-5,-4],[-2,-11],[2,-21],[9,-24],[4,-9],[-6,-15],[-8,-7],[-18,3],[-3,6],[-2,12],[-6,24],[-8,13],[-16,7],[-19,8],[-6,0],[-2,9],[-1,5],[-8,5],[-1,1],[-8,5],[-2,6],[0,2],[-26,-2],[-3,0],[0,-1],[-1,-18],[-2,-21],[-2,-7],[-10,-1],[-13,3],[-7,-5],[-22,4],[-3,0],[-41,-22],[-3,-1],[-22,-13],[-1,-2],[-2,-6],[-2,-7],[-12,-12],[-12,-2],[-12,-8],[-6,-31],[-1,-19],[0,-6],[-4,-12],[-1,-2],[-5,-14],[-6,-17],[-1,-1],[-5,-14],[-1,-1],[-2,-21],[-18,-70],[-1,-26],[-6,-31],[-14,-44],[-8,-13],[-4,-27],[-7,-15],[-5,-4],[-11,-12],[-1,-1],[7,-15],[4,-12],[8,-13],[11,-1],[1,0],[8,1],[2,12],[4,5],[-3,13],[0,12],[5,-1],[3,-2],[4,-2],[2,-6],[22,-50],[15,-14],[6,-7],[1,-6],[0,-1],[11,3],[1,0],[5,8],[32,10],[6,0],[0,-12],[6,-10],[12,-4],[9,7],[4,-3],[4,-10],[3,-14],[2,-31],[9,-40],[9,-27],[10,-50],[3,-18],[-1,-12],[-19,-12],[-16,-23],[-6,-12],[-10,-15],[-1,-2],[-10,-15],[-7,-9],[-1,2],[-6,11],[-6,22],[2,16],[-16,13],[-16,0],[-20,-15],[-6,-23],[-1,-31],[0,-3],[-8,-18],[-40,-42],[-17,-49],[-32,-46],[-16,-31],[-13,-14],[-17,-16],[-3,-13],[-13,-3],[-6,9],[-22,1],[-11,-16],[-10,-35],[-20,-52],[-1,-3],[-9,-23],[-2,-18],[-4,-35],[-14,-35],[-22,26],[-24,-69],[-4,-18],[-6,-12],[-22,-30],[-13,-10],[-15,-18],[-12,-7],[-10,-17],[-10,-5],[-8,-27],[-1,-2],[-8,-20],[-3,2],[-20,14],[-20,71],[-12,3],[-11,3],[-11,-7],[-1,20],[-4,16],[-6,5],[0,12],[2,13],[14,-9],[8,11],[1,14],[-2,5],[-6,-2],[-5,18],[-6,14],[-10,2],[2,9],[1,8],[10,0],[10,24],[1,14],[0,1],[-11,13],[0,2],[1,11],[1,15],[28,107],[-4,26],[17,23],[4,23],[9,17],[12,18],[14,43],[4,14],[0,5],[-1,9],[-1,1],[-10,18],[-1,1],[-4,0],[-13,25],[0,12],[-6,9],[-5,14],[-8,4],[6,19],[1,2],[1,10],[0,3],[2,18],[13,46],[5,36],[-6,21],[0,2],[-14,7],[-15,7],[-8,-26],[-1,-18],[4,-10],[-12,-6],[-16,-28],[-3,-24],[-4,-29],[7,-14],[7,-24],[1,-1],[5,-16],[0,-1],[1,-1],[-4,-12],[-7,-18],[2,-14],[1,-13],[0,-1],[-6,-42],[2,-18],[-1,-6],[-2,-7],[-8,-8],[-1,-32],[-1,-4],[-14,-14],[-14,-15],[-2,-3],[-17,-35],[0,-24],[6,-29],[7,-28],[-11,-9],[0,-2],[-1,-12],[0,-5],[-7,-19],[-5,-14],[-6,-7],[-5,-19],[6,-11],[6,-10],[0,-12],[-11,-13],[-8,-25],[-6,6],[-5,-2],[-5,-14],[-9,5],[-5,-14],[4,-9],[3,-12],[4,-8],[7,5],[5,2],[14,-12],[7,-23],[27,-17],[-5,-23],[2,-21],[4,-25],[12,-17],[10,-6],[-1,-43],[7,-18],[-1,-8],[-22,-27],[-9,-18],[-2,-17],[-18,-25],[-12,-26],[-6,-6],[-1,-20],[1,-29],[-2,-13],[-9,-27],[2,-32],[-3,-30],[-1,-18],[-18,1],[-17,10],[-14,7],[0,4],[15,32],[5,22],[0,16],[1,19],[2,21],[-5,7],[-4,18],[-1,6],[-1,12],[-2,16],[-8,21],[-10,11],[-1,47],[0,7],[1,29],[11,41],[2,7],[-2,26],[-4,10],[-9,6],[-7,-2],[-26,17],[-7,13],[-40,10],[10,7],[15,-3],[9,1],[13,14],[12,36],[9,47],[2,25],[0,25],[-3,23],[-2,9],[-10,30],[-5,8],[-9,15],[-13,6],[-5,-4],[-7,0],[-14,9],[-8,-7],[-12,-11],[-16,10],[-5,11],[-12,1],[-11,11],[-7,-2],[-1,4],[-4,14],[-1,0],[-4,1],[-3,1],[-1,1],[-7,-14],[-1,2],[-8,17],[-4,1],[-8,-9],[-2,-26],[0,-5],[2,-16],[-1,-17],[-6,-32],[1,-1],[9,-7],[8,0],[5,-21],[0,-1],[7,-17],[7,-1],[14,4],[0,-1],[7,-10],[9,2],[4,-8],[-4,-10],[-1,-3],[-1,-4],[-1,-18],[4,-20],[-2,-29],[-3,-9],[-2,-8],[-6,-7],[-2,-2],[-6,-8],[5,-13],[0,-4],[4,-15],[11,-28],[5,-22],[1,-4],[6,-31],[4,-19],[9,-20],[3,-12],[-11,-12],[-2,7],[-8,30],[-8,7],[-1,1],[-4,0],[-14,4],[-7,-2],[-7,-7],[0,-38],[-1,-2],[-4,-7],[0,-14],[-5,-11],[-1,-2],[3,-22],[8,-1],[13,13],[1,-1],[10,-15],[10,-1],[19,-13],[-3,-13],[1,-17],[8,-21],[8,-17],[-12,1],[0,-1],[-11,-5],[-9,-12],[0,-1],[-4,-11],[1,-18],[4,-18],[6,-10],[-5,-5],[-6,0],[-1,2],[-12,43],[-1,3],[-6,19],[-1,2],[-3,4],[0,19],[-1,1],[-2,6],[-7,-5],[-1,-4],[-2,-4],[1,-19],[-2,-10],[-7,-12],[-7,13],[2,8],[-2,20],[-13,13],[-4,16],[-6,5],[-3,4],[-6,6],[-10,1],[-9,-9],[2,-6],[6,-17],[8,-14],[5,-23],[1,-6],[-10,-30],[-12,-28],[-13,-22],[-10,-12],[-7,-8],[-11,-3],[-2,6],[-2,7],[-1,15],[3,7],[1,3],[1,1],[6,18],[-7,19],[-1,1],[-9,-1],[-4,0],[-2,-1],[-10,-1],[-2,-5],[-4,-11],[0,-14],[-4,-4],[-4,4],[0,15],[-10,24],[-9,-9],[-3,1],[0,1],[-2,0],[0,23],[-6,1],[-13,2],[-6,-20],[-1,-4],[0,-8],[1,-25],[6,-20],[2,-11],[8,0],[11,-5],[11,-18],[1,-18],[-1,-18],[0,-1],[6,-10],[4,-8],[1,-1],[1,-10],[1,-6],[6,-9],[3,0],[5,2],[13,3],[15,-4],[2,-10],[1,-7],[-1,-1],[-2,-7],[-3,-14],[2,-14],[0,-14],[-7,-13],[-4,3],[-2,1],[-2,6],[-4,5],[-1,1],[-15,-2],[-2,-10],[-1,-1],[-4,-5],[-9,-27],[-3,-13],[5,-3],[8,-5],[0,-2],[-1,-16],[-13,-40],[-9,-21],[-1,-3],[-2,-12],[-5,-7],[-1,-2],[2,-24],[10,-24],[1,-1],[-4,-6],[-8,7],[-6,-9],[0,-1],[-6,-6],[-8,14],[-11,1],[-6,-10],[-11,12],[-12,26],[-15,16],[-13,-5],[-4,-1],[-15,-5],[-7,-37],[-4,-17],[0,-4],[-1,-3],[-2,-15],[-1,-4],[14,-15],[12,-12],[11,-2],[20,-29],[5,-20],[12,-1],[4,0],[13,-3],[12,-4],[0,1],[14,11],[5,16],[10,20],[7,7],[4,-13],[-1,-3],[-7,-14],[-2,-15],[0,-1],[1,-1],[3,-12],[1,-1],[2,-13],[-35,-30],[-19,-25],[-8,-15],[-14,-69],[-11,-37],[-12,-12],[-25,-15],[-8,-22],[-4,-13],[-8,-16],[-9,4],[-8,14],[-6,29],[-1,16],[1,4],[1,2],[6,21],[6,14],[1,1],[4,8],[-3,36],[0,2],[-1,4],[-5,17],[-22,0],[-15,7],[-5,-8],[-7,-11],[-3,-6],[2,-48],[1,-41],[-2,1],[-5,13],[-55,-6],[-7,-5],[-11,-8],[-3,-2],[-8,-7],[-7,-3],[-3,-2],[-12,3],[-9,22],[-3,9],[-3,14],[-3,11],[0,37],[14,6],[-2,13],[4,18],[0,19],[-5,6],[-5,5],[1,16],[5,13],[-9,19],[-10,19],[0,1],[-12,0],[-19,-28],[-11,22],[-3,7],[-1,36],[-1,34],[-3,4],[-9,-7],[0,1],[-2,3],[-3,5],[-24,-15],[-12,-8],[-9,22],[-9,24],[-1,1],[-4,37],[-1,0],[-11,15],[-6,8],[-24,30],[-20,-2],[-3,-1],[-10,-1],[-2,0],[-9,20],[-9,-2],[-1,-1],[-8,11],[-1,12],[-1,16],[0,3],[-9,-1],[-9,0],[0,-2],[-6,-21],[-4,-1],[-8,-1],[-11,0],[5,-45],[1,-12],[14,-13],[6,-6],[0,-18],[22,-24],[3,-5],[11,-17],[7,-12],[7,-25],[4,-19],[7,1],[6,-13],[-2,-11],[-4,-8],[-8,-6],[-1,-5],[3,-16],[-9,-23],[1,0],[16,-31],[14,-26],[12,2],[5,0],[4,-27],[23,-10],[1,-1],[1,1],[24,6],[0,-2],[4,-14],[2,-8],[-2,-18],[-8,-29],[5,-7],[6,-4],[4,-10],[10,-41],[-1,-9],[-19,-9],[0,-3],[2,-18],[11,-25],[6,-20],[7,-25],[1,-24],[9,-10],[13,-15],[5,-10],[1,-1],[8,-2],[1,0],[7,-2],[0,-1],[14,-23],[15,-26],[10,-29],[0,-20],[-1,-3],[-3,-7],[-4,-5],[5,-9],[2,-6],[2,-1],[7,-2],[14,1],[12,7],[5,8],[1,1],[0,1],[3,13],[5,25],[7,14],[13,17],[6,3],[5,-5],[0,-16],[3,-23],[14,-47],[1,-2],[9,-12],[53,-72],[42,-46],[9,-12],[18,-23],[3,-5],[-5,-41],[-2,-37],[4,-16],[-3,-48],[-1,-15],[4,-31],[9,-39],[19,-111],[4,-25],[1,-13],[0,-39],[-4,-21],[-4,-23],[-1,-1],[-17,-61],[-10,-25],[-9,-23],[-11,-27],[0,-1],[11,-20],[14,-24],[5,-4],[3,-2],[16,-16],[34,-39],[29,-42],[0,-1],[2,-6],[6,-20],[16,-53],[0,-1],[5,-30],[6,-44],[-2,-8],[-17,-13],[-8,-16],[-3,-2],[-8,-6],[-12,-23],[-7,-7],[-6,-7],[-1,-2],[-1,-15],[1,-5],[2,-14],[-6,-10],[-14,-7],[-9,-1],[-2,-10],[3,-12],[2,-18],[-5,-20],[-7,0],[-7,4],[-1,19],[2,7],[3,12],[4,13],[1,2],[2,22],[-1,19],[-7,6],[-8,4],[-10,4],[-3,-15],[0,-2],[-3,-7],[-4,-12],[-6,-4],[-5,-1],[-7,2],[-21,-10],[-2,0],[-9,-9],[-1,-2],[-2,-18],[2,-12],[3,-19],[-1,-31],[-5,-39],[-13,-24],[-2,33],[0,4],[-2,10],[4,12],[0,1],[-7,11],[-6,6],[-8,-12],[-7,-15],[-20,11],[-1,0],[-17,-6],[-6,-2],[-13,-28],[0,-2],[1,-3],[4,-11],[8,-6],[7,-17],[-2,-39],[0,-2],[5,-36],[1,-8],[1,-2],[5,-34],[25,-56],[1,-2],[1,-1],[3,0],[6,-1],[8,-1],[13,-32],[12,-22],[-31,-54],[-9,-25],[0,-3],[-3,-15],[-1,-3],[0,-3],[1,-20],[5,-6],[10,-66],[-1,-6],[-4,-53],[0,-2],[-1,1],[-6,0],[-10,1],[-13,2],[-1,29],[-20,22],[-3,5],[-5,10],[1,9],[-2,10],[-8,10],[-1,2],[-8,23],[-2,2],[-6,5],[-4,8],[-8,13],[-12,-7],[-14,-7],[-10,-11],[-19,-21],[-10,-10],[1,-31],[5,-21],[4,-5],[17,-22],[4,-6],[18,6],[-3,-31],[1,-1],[6,-10],[0,-1],[-2,-30],[3,-30],[7,-8],[1,-17],[4,-37],[-3,-13],[-2,-6],[-21,-38],[-36,-61],[-10,-16],[-1,-1],[-12,-21],[-15,-26],[-1,0],[-8,-5],[-1,0],[-15,3],[-4,1],[-8,-1],[-13,0],[-13,-11],[3,-21],[0,-1],[3,-50],[-4,-24],[3,1],[18,11],[11,6],[9,4],[8,-1],[4,-7],[6,-2],[10,7],[4,5],[3,3],[18,-23],[3,-4],[4,-4],[1,-6],[2,-9],[10,-4],[3,15],[2,7],[0,1],[6,9],[0,8],[1,10],[5,5],[6,2],[7,-18],[3,-19],[1,-29],[7,-10],[4,-32],[-5,-30],[-2,-4],[-8,-14],[0,-2],[-5,-15],[0,-17],[-1,-14],[0,-2],[-2,-28],[0,-2],[-3,-11],[-4,-20],[0,-2],[3,-18],[-5,-4],[-3,-3],[-4,-17],[-9,-4],[-3,-4],[-5,-6],[3,-13],[-1,-19],[-7,0],[0,-3],[-1,-6],[-4,-18],[-1,-5],[-3,-3],[-12,-11],[-4,-5],[-27,-25],[-3,-3],[-5,-14],[-4,-10],[2,-31],[0,-5],[-1,-2],[-3,-7],[-8,-18],[-6,-16],[-10,-23],[-6,-13],[-1,-1],[-2,-4],[-4,-7],[0,-1],[-15,-2],[-19,-12],[-18,-19],[-1,-2],[-7,-8],[-8,-11],[0,-1],[-1,-35],[3,-30],[7,-14],[10,-21],[0,-9],[-1,-18],[-5,-15],[-3,-6],[-2,-22],[15,-70],[11,-29],[17,-28],[10,6],[14,-12],[6,9],[18,2],[9,-10],[3,-21],[-4,-64],[-3,-22],[-1,-14],[-7,-28],[-2,-5],[-2,-27],[-2,-24],[0,-11],[1,-51],[0,-97],[6,-61],[2,-14],[7,-67],[4,-36],[5,-53],[2,-12],[1,-5],[0,-2],[21,-85],[8,-32],[1,-42],[4,-15],[1,-3],[3,-14],[2,-22],[3,-6],[-4,-49],[-8,-84],[-4,-52],[-1,-6],[-3,-128],[4,-31],[0,-24],[3,-74],[-1,-22],[-7,-102],[0,-26],[6,-50],[8,-46],[8,-51],[16,-85],[11,-40],[11,-41],[2,-9],[20,-72],[1,-1],[5,-12],[23,-53],[22,-35],[13,-22],[1,-1],[7,-14],[0,-1],[13,-24],[38,-74],[2,-5],[3,-6],[1,-9],[-2,-13],[0,-1],[12,-31],[18,-26],[31,-41],[2,-4],[31,-63],[18,-38],[18,-35],[5,-19],[1,-8],[0,-13],[20,-48],[9,-35],[7,-16],[1,-12],[10,-15],[15,-23],[22,-12],[21,-10],[1,-9],[-15,-24],[-10,-25],[-6,-27],[2,-22],[4,-28],[6,-32],[1,-4],[0,-16],[-48,-122],[-5,-13],[-7,-16],[-17,-53],[-3,-9],[-3,-10],[-17,-45],[-7,-18],[-7,-30],[-2,4],[-16,25],[-2,1],[-18,12],[-17,6],[-28,-11],[-16,-5],[-1,-1],[-1,-11],[0,-4],[-8,-27],[-5,-7],[-21,64],[-10,5],[-7,15],[-3,9],[-13,-29],[-9,-22],[-1,-11],[-6,-26],[0,-7],[2,-20],[2,-5],[7,-16],[9,-12],[9,-25],[14,-48],[7,-16],[9,-20],[1,-1],[4,-1],[0,-1],[16,-6],[1,0],[6,-1],[2,0],[2,-1],[1,0],[3,-1],[21,-9],[14,8],[9,0],[7,5],[12,8],[9,19],[9,27],[4,31],[1,0],[44,-2],[6,8],[2,1],[12,3],[4,3],[2,15],[4,7],[2,-1],[12,-5],[45,-39],[2,-2],[22,-28],[-1,-16],[-5,-20],[-34,-67],[-24,-55],[-7,-28],[-8,-55],[1,-10],[-1,-13],[-2,-35],[9,-67],[1,-11],[10,-56],[6,-35],[21,-140],[23,-58],[19,-46],[28,-68],[7,-19],[16,-69],[12,-34],[63,-137],[5,-19],[1,-13],[14,-48],[9,-10],[19,-69],[-46,-94],[-15,-46],[-4,8],[-6,-9],[1,-2],[1,-19],[11,-42],[19,-83],[3,-36],[0,-77],[4,-89],[4,-28],[10,-63],[12,-78],[3,-45],[-2,-34],[-2,-8],[-3,26],[-12,53],[-12,19],[-24,17],[-4,1],[-9,1],[-9,-2],[-5,-1],[-23,-1],[-8,27],[-6,1],[-15,19],[-14,55],[-21,94],[1,8],[0,8],[-12,24],[-3,5],[-20,31],[-2,6],[-1,1],[-4,9],[-2,2],[-2,1],[-4,3],[-1,1],[-12,8],[2,28],[-1,17],[-7,21],[-2,2],[-41,28],[-26,0],[0,-1],[-6,-9],[-5,-8],[-15,11],[-4,27],[-11,37],[-16,35],[5,22],[-1,11],[-3,17],[-14,36],[-9,34],[-2,5],[-1,13],[5,22],[3,34],[0,9],[-4,9],[-9,9],[-6,13],[-1,1],[11,11],[11,19],[-6,19],[-4,17],[-1,2],[-2,5],[-25,-8],[-10,-3],[-2,0],[-8,-7],[-19,-16],[-1,0],[-1,-1],[-9,-10],[-18,-10],[-9,0],[3,-32],[11,-27],[2,-19],[2,-15],[2,-2],[8,-9],[1,-30],[-3,-29],[-8,-18],[-3,-11],[-14,-56],[-2,-5],[0,-2],[1,-26],[11,-31],[1,-12],[0,-8],[2,-15],[-16,-22],[-10,-5],[-7,9],[-1,13],[-7,21],[-11,52],[-2,6],[-20,46],[-34,81],[-5,15],[-2,3],[-1,4],[-3,8],[-2,6],[-1,2],[-13,8],[-9,6],[-20,4],[-12,-2],[-13,-12],[-22,-35],[-3,-4],[-7,56],[-3,37],[-8,-2],[-8,29],[-8,18],[-1,2],[-16,92],[-7,77],[-4,6],[-1,2],[0,1],[-2,3],[-3,43],[-8,30],[-22,46],[-2,5],[-5,8],[-16,25],[-6,13],[-14,25],[-27,26],[-33,53],[-12,12],[-38,20],[-46,32],[-43,21],[-38,-4],[-11,0],[-18,10],[-20,20],[-4,11],[-20,16],[-25,12],[-35,-2],[-6,-10],[-4,19],[-1,2],[-1,28],[2,13],[0,2],[-5,-1],[-30,-3],[-5,-1],[-11,-17],[-3,-15],[-5,-20],[-10,5],[-22,-13],[-6,5],[-12,-1],[2,22],[0,13],[-4,15],[-5,9],[-1,0],[-2,3],[-29,33],[-1,1],[-13,-25],[-2,-20],[-12,-36],[-3,-4],[-12,-15],[0,-36],[-15,-19],[-10,-23],[-23,15],[-16,14],[-2,0],[-4,1],[-7,2],[-16,5],[-20,10],[-3,12],[-2,7],[5,25],[6,0],[4,9],[-1,19],[-6,24],[0,12],[-6,11],[-6,7],[-7,-2],[-6,3],[-3,10],[4,5],[-1,14],[-11,13],[-1,0],[-5,1],[-1,0],[-28,-11],[-5,1],[-17,17],[2,10],[-1,65],[-3,27],[-8,22],[0,1],[16,34],[6,21],[0,32],[-9,19],[-7,16],[-19,9],[-1,1],[-1,14],[-2,20],[0,1],[-14,31],[-1,2],[-7,13],[-1,3],[-2,12],[0,1],[-11,10],[-2,13],[9,25],[-1,21],[-7,17],[-11,16],[-1,6],[-6,33],[0,4],[-1,6],[-7,49],[1,24],[0,3],[-8,27],[-10,15],[-10,5],[-1,1],[25,36],[12,2],[2,0],[3,16],[6,25],[-34,31],[-2,1],[-1,1],[-32,27],[-27,24],[-7,-5],[-3,-2],[0,-2],[-3,-22],[5,-14],[-6,-21],[-12,-44],[-9,-11],[-9,-27],[0,-40],[-2,-12],[12,-32],[13,-16],[12,-4],[5,-14],[2,-5],[4,-22],[13,-25],[-8,-12],[-2,-10],[2,-11],[3,-26],[0,-24],[13,-21],[8,-12],[3,-10],[-2,-9],[0,-45],[20,-19],[4,-34],[3,-20],[3,-36],[8,-23],[4,-6],[-7,-8],[-12,-45],[-4,-13],[9,-20],[-6,-33],[-8,-20],[-16,12],[-20,40],[-14,20],[-24,35],[0,1],[-4,3],[-2,2],[-1,0],[-42,38],[-4,4],[-28,24],[-17,23],[-36,39],[-9,12],[-35,22],[-9,1],[-7,-3],[-3,-11],[-4,7],[1,13],[-5,15],[6,32],[2,22],[0,37],[5,30],[1,5],[-2,7],[-3,20],[-5,8],[-2,2],[-13,35],[-2,15],[-18,25],[-22,24],[-2,2],[-11,15],[-21,10],[-15,17],[-13,22],[-21,23],[-17,9],[-14,-2],[-5,-2],[9,28],[1,20],[-6,38],[1,6],[1,8],[1,2],[-6,15],[-8,19],[-6,5],[-2,5],[-3,9],[-2,36],[-1,35],[1,16],[-7,55],[-2,28],[-4,20],[0,20],[2,13],[-3,15],[-3,7],[-9,22],[0,1],[-6,25],[-16,52],[-10,94],[-19,70],[-17,40],[-13,66],[-1,0],[-39,-3],[-40,-4],[-12,-12],[-21,-24],[-4,-9],[-43,-56],[-4,-14],[-13,-23],[-11,-4],[-8,-6],[-12,-22],[-14,-31],[-10,-22],[-16,-53],[-1,0],[-28,2],[-5,-6],[-17,-6],[-13,22],[-9,2],[-33,9],[-1,-2],[-5,-14],[-1,-19],[-8,-38],[-17,-32],[-13,-36],[-35,-42],[-13,-6],[-17,-17],[-16,-26],[-16,-27],[-8,-6],[-10,-4],[-13,-16],[-6,-14],[-8,-15],[-20,-19],[-4,-3],[-45,-28],[-10,-2],[-13,-13],[-31,25],[-24,40],[-33,41],[-8,1],[-35,45],[-11,19],[-9,39],[-3,41],[-6,21],[-6,8],[-1,36],[-12,46],[-8,21],[-5,17],[-1,17],[7,38],[18,52],[4,19],[-2,27],[-12,35],[-10,15],[-6,23],[10,41],[1,25],[-5,15],[-2,10],[-16,32],[-5,28],[5,18],[7,8],[4,22],[1,6],[-1,19],[-11,12],[-8,17],[-2,15],[-6,15],[2,14],[4,47],[9,19],[9,46],[-1,14],[0,7],[12,82],[6,11],[17,38],[-3,21],[8,28],[21,71],[10,33],[10,35],[17,58],[5,6],[5,5],[16,8],[12,-2],[17,8],[21,53],[15,40],[5,26],[7,18],[24,36],[26,52],[-1,6],[2,14],[11,35],[5,27],[11,29],[0,1],[45,49],[14,-2],[15,-2],[33,-5],[8,-1],[2,3],[0,1],[12,16],[11,17],[3,2],[32,23],[4,4],[13,35],[2,5],[30,28],[17,25],[11,29],[3,25],[1,1],[-1,0],[-12,-6],[-3,1],[-12,2],[-52,9],[-7,47],[1,22],[-13,42],[5,76],[6,104],[1,1],[32,84],[2,4],[53,83],[11,11],[12,2],[13,19],[11,17],[18,20],[21,22],[-2,10],[0,7],[3,6],[1,6],[5,4],[3,-2],[9,-4],[3,-10],[5,-9],[22,-4],[10,1],[30,2],[23,34],[10,33],[0,1],[2,18],[4,33],[0,30],[-1,51],[-2,8],[-4,11],[2,4],[2,12],[1,40],[2,98],[0,10],[1,56],[0,36],[3,90],[1,34],[2,9],[1,4],[5,8],[43,79],[59,105],[18,31],[0,1],[4,3],[3,6],[3,4],[18,36],[1,1],[4,8],[8,12],[5,9],[8,13],[9,14],[9,16],[23,40],[1,3],[5,9],[14,26],[4,7],[7,12],[5,9],[12,23],[15,26],[13,21],[20,36],[14,24],[12,21],[3,6],[4,7],[13,23],[19,34],[1,1],[9,17],[1,1],[2,4],[3,5],[3,4],[17,31],[2,3],[6,12],[5,8],[-4,7],[-1,2],[-7,12],[-1,3],[-22,39],[-12,21],[-13,25],[-13,22],[-1,2],[0,1],[-11,20],[-21,37],[-2,2],[-6,12],[-41,70],[-5,9],[0,1],[-4,6],[-8,15],[-7,12],[-12,20],[-4,8],[-18,32],[-3,4],[-11,20],[-2,3],[-25,44],[-6,11],[-6,10],[-8,13],[-18,32],[0,1],[-6,9],[-8,15],[-3,5],[0,1],[-17,31],[-2,3],[-1,2],[-8,15],[-9,16],[-6,11],[-6,10],[-4,8],[-1,0],[-6,10],[-20,35],[0,1],[-15,26],[-8,14],[-9,15],[0,1],[-1,1],[-14,23],[-5,-8],[-14,-23],[-17,-29],[-2,-3],[-2,-4],[-5,-8],[-27,-48],[-14,-23],[-7,-14],[-2,-3],[-7,-12],[-19,-34],[-10,-17],[-6,-10],[-2,-3],[-4,-7],[-6,-11],[-18,-32],[-1,0],[0,-1],[-8,-14],[-14,-27],[-8,-15],[0,-1],[-2,-3],[-11,-16],[-26,-47],[-1,0],[-24,-43],[-26,42],[-14,56],[-19,59],[-30,67],[-5,6],[-9,6],[-48,17],[-5,0],[-4,-5],[-12,1],[-1,0],[-25,7],[-1,0],[-10,3],[-18,-10],[-30,-5],[-17,8],[-4,7],[-19,12],[-7,-8],[-33,14],[-11,16],[-12,38],[-5,11],[-5,0],[-3,-3],[-8,-24],[-21,37],[-12,10],[-5,24],[-7,49],[-3,11],[-12,15],[-9,50],[13,68],[16,25],[7,40],[-4,36],[-8,15],[-23,24],[-10,4],[-26,10],[-28,16],[-61,93],[0,1],[-27,22],[-32,19],[-14,2],[-30,32],[-14,10],[-18,13],[-1,11],[-5,6],[-16,9],[-6,-1],[-27,-6],[-31,-1],[-24,-6],[-2,-1],[-7,1],[-18,1],[-12,8],[-5,3],[-18,-6],[-45,21],[-18,-2],[-36,15],[-17,2],[-9,1],[-47,28],[-20,6],[-26,7],[-5,1],[-14,7],[-4,3],[-8,8],[-3,2],[-3,9],[-8,26],[-14,47],[-1,3],[-10,46],[-1,3],[-14,56],[-1,3],[-2,4],[-11,33],[-15,27],[-31,29],[-15,6],[-8,6],[-44,29],[-15,18],[-4,12],[-12,40],[-7,71],[0,8],[-2,48],[0,12],[8,16],[2,12],[10,83],[16,74],[19,58],[19,26],[63,28],[25,26],[4,10],[7,34],[-3,53],[8,48],[12,26],[34,52],[3,12],[3,13],[1,22],[-2,9],[-6,17],[-37,46],[-30,51],[-2,3],[-13,34],[-7,11],[-32,26],[-39,12],[-37,34],[-5,10],[-5,4],[-40,25],[-20,20],[-9,15],[-3,20],[-5,14],[-3,5],[-15,28],[0,3],[-6,23],[-26,52],[-6,63],[3,56],[-5,15],[-9,13],[-2,3],[-12,2],[-28,-8],[-15,-12],[-17,-13],[-15,-5],[-20,4],[-17,10],[-5,3],[-1,1],[-4,-1],[-30,-6],[-52,30],[-15,8],[-11,3],[-2,0],[-10,6],[-3,1],[-5,3],[-18,10],[-50,47],[-17,35],[-15,19],[-20,-4],[-18,-28],[-19,-12],[-15,2],[-34,22],[-27,-7],[-12,5],[-25,3],[-1,0],[-2,4],[-9,16],[-1,3],[-14,17],[-52,39],[-12,10],[-4,3],[-7,13],[0,1],[-6,12],[-5,18],[0,21],[2,13],[4,8],[29,32],[15,28],[7,51],[-1,34],[0,5],[-30,100],[-2,10],[1,18],[4,10],[9,6],[29,9],[9,6],[6,12],[1,15],[-1,22],[-12,69],[-25,69],[-17,70],[-2,24],[-5,10],[-13,16],[-15,13],[-5,-1],[-34,-4],[-41,12],[-18,9],[-12,13],[-8,8],[-12,20],[-1,1],[-2,8],[1,16],[7,12],[41,15],[8,10],[2,9],[-2,14],[-23,32],[-17,34],[-4,18],[3,18],[8,8],[10,2],[32,-15],[10,-1],[4,3],[4,12],[0,7],[-2,6],[-37,32],[-20,26],[-3,9],[-5,24],[1,24],[4,13],[4,10],[23,24],[22,16],[34,16],[12,12],[3,4],[5,12],[1,9],[0,2],[-2,10],[-8,16],[-2,1],[-7,8],[-11,4],[-24,-4],[-9,-7],[-7,-11],[-11,-34],[-7,-10],[-4,-3],[-9,-6],[-20,-2],[-20,6],[-43,28],[-16,3],[-21,4],[-45,29],[-7,16],[-1,4],[-1,6],[2,10],[8,19],[54,65],[11,18],[7,55],[-1,13],[-5,25],[-6,10],[-21,16],[-12,-3],[-7,-8],[-4,-15],[-1,-62],[-4,-19],[-29,-23],[-32,-8],[-11,5],[-8,20],[-2,18],[2,36],[3,26],[3,50],[-1,13],[-3,14],[-20,45],[-50,58],[-8,30],[1,16],[2,8],[0,1],[6,9],[19,17],[7,6],[19,3],[12,-1],[11,-1],[33,8],[45,-2],[19,15],[6,18],[5,17],[3,29],[5,48],[2,26],[0,1],[1,20],[0,28],[-6,70],[-1,6],[-5,14],[-15,24],[-16,9],[-13,0],[-22,-1],[-15,6],[-16,11],[-13,9],[-7,4],[-20,24],[-34,12],[-7,-10],[1,-9],[16,-39],[3,-15],[0,-25],[-2,-22],[-4,-9],[-7,-7],[-11,-4],[-12,5],[-58,26],[-23,10],[-1,1],[-22,15],[-9,20],[0,1],[-9,47],[-14,29],[-15,11],[-15,-3],[-2,-3],[-7,-12],[2,-16],[19,-16],[10,-34],[-2,-46],[-1,-57],[-9,-56],[-10,-16],[-14,-1],[-12,17],[-7,43],[-1,34],[5,30],[1,21],[-5,18],[-19,17],[-15,1],[-13,-10],[-9,-12],[-4,-5],[-13,-31],[-9,-10],[-27,-2],[-22,5],[0,1],[-36,2],[-15,6],[-10,12],[-5,9],[-36,118],[-5,16],[-21,43],[-20,63],[-9,18],[-23,29],[-6,9],[-8,17],[-5,18],[-1,4],[-55,97],[-21,43],[-9,17],[-16,17],[-21,0],[-4,4],[-24,49],[-9,10],[-7,6],[-20,14],[-13,4],[-40,23],[-29,10],[-9,10],[-27,16],[-35,1],[-8,7],[-19,17],[-30,14],[-18,3],[-20,-6],[-12,-16],[-16,-21],[-4,-9],[-14,-53],[-15,-32],[-6,-9],[-13,-5],[-68,0],[-14,-13],[-5,-11],[0,-18],[31,-60],[0,-12],[-4,-16],[-9,-16],[-35,-36],[-28,-56],[-25,-35],[-27,-73],[-3,-31],[0,-36],[-6,-18],[-6,-3],[-14,6],[-38,6],[-2,0],[-31,27],[-52,43],[-16,10],[-63,38],[-6,4],[-60,30],[-11,1],[-10,-7],[-4,-12],[2,-19],[11,-16],[6,-21],[1,-14],[-2,-9],[-6,-11],[-8,-5],[-14,4],[-12,11],[-6,10],[-17,12],[-25,-8],[-6,-9],[-4,-24],[0,-13],[2,-8],[13,-32],[22,-44],[1,-8],[-4,-13],[-5,-7],[-11,-3],[-18,6],[-24,24],[-17,30],[-56,38],[-26,22],[-17,4],[-15,-9],[-10,-21],[-1,-18],[2,-13],[5,-15],[20,-52],[16,-34],[26,-37],[34,-36],[17,-25],[7,-22],[0,-24],[-7,-17],[-12,-13],[-23,-12],[-35,19],[-5,4],[-10,19],[-17,19],[-50,34],[-9,0],[-17,-7],[-11,-10],[-9,-12],[-3,-16],[-1,-36],[13,-47],[14,-26],[25,-30],[15,-26],[39,-33],[10,-21],[13,-32],[7,-19],[-1,-19],[-8,-13],[-13,-2],[-10,11],[-6,17],[-4,18],[-6,10],[-11,7],[-7,0],[-6,-11],[2,-18],[6,-10],[6,-33],[-1,-17],[-4,-18],[-7,-4],[-12,19],[-19,53],[-11,14],[-21,10],[-9,-2],[-5,-10],[0,-14],[5,-16],[13,-11],[19,-4],[7,-14],[-1,-16],[-6,-15],[-5,1],[-10,1],[-8,1],[-11,-7],[-7,-13],[0,-16],[6,-33],[0,-25],[-6,-39],[-19,-31],[-8,-5],[-10,1],[-22,21],[-11,4],[-6,-1],[-13,-12],[-31,8],[-14,-1],[-34,29],[-26,17],[-6,0],[-15,-1],[-62,-28],[-12,-2],[-9,5],[-14,1],[-30,-15],[-6,3],[-16,19],[-18,31],[-15,9],[-16,2],[-1,0],[-10,17],[-5,12],[7,28],[0,7],[-5,4],[-9,-3],[-11,-9],[-9,-14],[-6,-11],[-9,4],[-3,13],[-3,6],[-22,16],[-4,3],[-28,15],[-18,-3],[-1,-10],[-7,-6],[-83,-18],[-5,3],[-22,13],[-16,25],[-22,2],[-23,26],[-23,15],[-7,14],[-2,24],[-2,9],[-6,10],[-42,19],[-5,8],[-15,39],[-5,4],[-33,10],[-1,1],[-3,19],[-2,8],[-18,59],[-4,63],[-3,23],[-15,-3],[-6,-5],[-10,-37],[-10,-9],[-18,17],[-16,-8],[-12,11],[-24,40],[-3,15],[0,16],[-7,26],[-5,11],[-7,7],[-5,10],[-8,20],[0,6],[4,15],[29,35],[25,10],[30,-1],[7,-10],[1,-15],[7,-7],[16,28],[10,3],[18,32],[1,12],[-9,47],[-13,15],[-9,10],[-19,9],[-27,-25],[-22,-31],[-21,4],[-26,18],[-3,7],[0,13],[19,95],[5,11],[10,7],[9,36],[1,16],[-1,8],[-1,6],[0,4],[-8,-5],[-14,-10],[-10,-6],[-10,-35],[-10,-33],[-9,-1],[-23,12],[-12,-9],[-2,-2],[4,-17],[-9,-19],[-2,-20],[-4,-5],[-7,1],[-4,-11],[20,-100],[0,-1],[2,-26],[-2,-28],[-7,-16],[-8,3],[-5,12],[-7,2],[-17,7],[-1,0],[-9,-57],[0,-21],[-18,-24],[-2,-18],[-1,-6],[-1,-8],[-20,-1],[-4,-11],[-1,-42],[0,-45],[21,-8],[16,-37],[5,-28],[-10,-45],[-16,-9],[-16,15],[-13,21],[-28,15],[-4,-8],[-1,-1],[-6,-15],[-7,-13],[-7,3],[-4,-6],[-12,-16],[0,-44],[-3,-17],[-8,-27],[-23,-55],[-6,-1],[-12,-8],[-8,-3],[-5,-5],[-1,-22],[3,-13],[2,-18],[-18,-69],[-6,-11],[-8,0],[-23,10],[-8,16],[-7,3],[-9,-10],[-1,-13],[8,-24],[-1,-27],[-5,-19],[-8,-1],[-28,0],[-6,-8],[4,-18],[2,-34],[-16,-60],[0,-1],[-12,-11],[-5,-11],[-1,-19],[-8,-36],[-2,-1],[-3,-4],[-30,9],[-22,-6],[-17,-19],[-3,-6],[-2,-3],[-7,-12],[-1,-10],[4,-21],[8,-12],[0,-4],[1,-5],[-7,-27],[-19,-33],[-22,-19],[-15,2],[-5,-15],[3,-22],[3,-7],[11,-26],[-3,-9],[-16,-14],[0,-9],[13,-19],[2,-43],[-4,-15],[-4,-2],[-25,-11],[-7,10],[-9,26],[-9,14],[-20,27],[-37,29],[-23,18],[-23,25],[-2,2],[-18,19],[-24,45],[-11,1],[-22,-13],[-3,-2],[-7,2],[-12,18],[-6,27],[0,16],[-2,11],[-2,15],[-6,5],[-13,12],[-6,5],[-8,26],[-1,1],[-11,0],[-5,-5],[-2,-3],[-5,-16],[0,-9],[-1,-18],[-2,-26],[-2,-12],[-8,-6],[-9,7],[-12,51],[-6,11],[-1,0],[-5,-5],[0,-19],[-2,-17],[-22,-10],[-27,-13],[-27,7],[-11,18],[-19,17],[-9,-7],[-7,-14],[0,-16],[6,-16],[10,-9],[12,-4],[8,-23],[-3,-20],[-28,4],[-11,-8],[-5,-25],[2,-12],[9,3],[11,-2],[-3,-18],[1,-28],[-3,-11],[-2,-11],[-13,-19],[-20,-19],[-8,-21],[0,-18],[10,-11],[9,-30],[-5,-14],[-11,6],[-20,9],[-8,3],[-17,-28],[-1,-22],[7,-30],[-2,-27],[-2,-12],[-7,0],[-5,3],[-14,8],[-11,-7],[-9,-10],[0,-18],[4,-30],[-1,-21],[-8,-18],[-12,-4],[-7,8],[0,66],[-5,19],[-14,10],[-16,-14],[3,-26],[1,-17],[-3,-14],[-2,-6],[-13,-18],[-7,-37],[3,-28],[12,-40],[0,-27],[-11,-8],[-20,30],[-10,31],[-14,10],[-9,-15],[5,-13],[9,-29],[-13,-18],[-13,-11],[-14,9],[-1,1],[-13,16],[-12,-1],[-6,-17],[-14,-64],[-30,-53],[-4,-30],[-3,-25],[-21,-3],[-28,10],[-1,-6],[-8,7],[-2,-20],[-2,-18],[-15,-8],[-6,6],[-10,1],[-19,-16],[-5,-13],[-10,3],[-13,9],[-1,-16],[10,-30],[1,-23],[-1,-14],[-7,-13],[-5,-15],[0,-1],[2,-14],[9,-11],[0,-14],[-4,-10],[-15,-12],[-26,15],[-6,-8],[0,-34],[-5,-16],[-3,-2],[-8,-4],[-26,-36],[-7,-62],[1,-39],[-21,-46],[0,-32],[-8,-4],[-21,10],[-11,-4],[-35,31],[-7,5],[-7,-2],[-10,-18],[-6,-14],[-15,9],[-20,-8],[-19,-24],[-6,-22],[-2,-1],[-13,-2],[-4,3],[-1,1],[-2,-5],[0,-2],[-2,-5],[0,-14],[5,-6],[7,-20],[-1,-8],[-8,-12],[-16,6],[-3,-35],[-4,-13],[-2,-7],[-8,0],[-3,-10],[-2,-2],[-12,-11],[-37,-7],[-12,-6],[-9,-11],[-3,-13],[-7,-24],[-9,4],[-4,8],[-7,-7],[3,-15],[-1,-15],[-12,-18],[-6,5],[-5,-30],[-5,-11],[-7,0],[-5,-9],[3,-17],[-6,-16],[-10,-2],[-14,-30],[-5,-24],[-10,-22],[-28,-12],[0,-24],[-15,-15],[2,-42],[-4,-18],[-12,-15],[-5,5],[-6,-3],[-15,-37],[-9,-16],[-21,-8],[-14,-14],[-8,-18],[-6,-11],[-9,7],[-13,2],[-14,-15],[-12,-16],[-3,-27],[-11,-12],[-9,12],[-36,17],[3,444],[-1,1],[-4,2],[2,80],[0,17],[-3,14],[3,124],[1,164],[1,198],[6,0],[0,52],[1,238],[1,225],[1,50],[1,242],[0,21],[1,393],[0,30],[1,41],[0,47],[1,25],[0,53],[11,0],[1,186],[1,291],[2,267],[0,95],[3,5],[1,9],[0,584]],[[69171,38381],[6,5],[3,-8],[-1,-13],[-6,1],[-2,15]],[[69086,62721],[10,-2],[15,-6],[27,-56],[18,-53],[11,-19],[11,-32],[-26,5],[-26,40],[-8,27],[2,25],[-20,57],[-12,7],[-2,7]],[[69037,62669],[12,-2],[18,26],[16,-10],[7,-30],[3,-23],[-5,-18],[-35,-11],[-14,20],[-2,48]],[[69031,62737],[5,7],[10,2],[12,2],[6,-7],[-9,-9],[-9,-7],[-17,-4],[2,16]],[[68725,61368],[6,7],[4,-5],[2,-10],[-4,-2],[-5,1],[-3,9]],[[68711,61546],[8,7],[6,1],[1,-12],[-2,-7],[-7,0],[-5,8],[-1,3]],[[68691,63861],[4,17],[2,10],[-3,22],[19,0],[19,-14],[9,-16],[5,-14],[-2,-9],[4,-19],[-7,-16],[-10,-8],[-7,9],[-19,9],[-6,8],[-6,5],[-10,5],[8,11]],[[68402,62178],[3,6],[6,10],[10,18],[9,-10],[7,-6],[1,-11],[4,-15],[0,-12],[-4,-6],[-8,-2],[-4,15],[-7,4],[-5,-6],[-6,0],[-4,4],[-2,11]],[[68360,53142],[12,9],[10,-5],[1,-4],[6,-14],[14,-4],[31,-39],[-1,-60],[-13,28],[-6,18],[-19,11],[-5,3],[-9,1],[-10,35],[-13,18],[2,3]],[[68348,62580],[5,-7],[3,-6],[-3,-8],[-3,2],[-2,9],[0,10]],[[68344,54391],[24,-28],[18,-15],[3,-15],[1,-18],[-6,-6],[-8,3],[-12,-10],[-3,-31],[-4,-1],[-7,29],[-7,9],[0,13],[4,24],[-5,42],[2,4]],[[68245,54103],[9,5],[2,4],[4,0],[3,-6],[7,-7],[0,-6],[-6,1],[-8,4],[-9,-3],[-2,8]],[[68207,52130],[6,16],[12,3],[12,8],[3,-15],[4,-7],[4,4],[5,2],[4,2],[11,2],[10,-4],[-7,-13],[-6,-11],[-8,0],[-3,0],[-10,-11],[-12,-1],[-4,7],[-16,5],[-5,13]],[[68163,52236],[20,-23],[11,-14],[7,-12],[-2,-6],[-4,0],[-8,13],[-6,5],[-9,14],[-10,10],[1,13]],[[67497,71102],[2,8],[7,21],[6,0],[4,-6],[2,-13],[0,-23],[-4,-12],[-14,-5],[-2,9],[-1,21]],[[67469,71158],[3,13],[6,8],[5,6],[3,-12],[0,-21],[-2,-9],[0,-10],[-5,-8],[-4,2],[-3,9],[-3,14],[0,8]],[[67452,71052],[3,5],[10,-4],[6,0],[5,7],[4,-4],[3,-10],[-2,-10],[1,-7],[-1,-8],[-10,4],[-5,0],[-7,-4],[-3,3],[-4,14],[0,14]],[[67393,71000],[7,10],[4,14],[6,13],[8,0],[3,-17],[0,-12],[3,-6],[-1,-10],[-2,-2],[-3,-10],[-5,4],[-11,4],[-8,-6],[-3,2],[2,16]],[[67390,70952],[3,6],[4,0],[4,-7],[1,-11],[0,-15],[-7,-1],[-4,5],[-1,11],[0,12]],[[67371,70920],[3,10],[3,1],[1,-11],[-4,-9],[-4,0],[1,9]],[[67258,70067],[2,19],[4,-7],[2,-15],[-3,-17],[-5,-11],[-3,26],[3,5]],[[67249,71375],[9,5],[12,6],[10,-20],[1,-8],[-3,-22],[-13,0],[-11,19],[-5,20]],[[67240,71043],[6,25],[6,9],[4,-9],[20,79],[5,13],[5,1],[2,-8],[6,-2],[4,13],[6,2],[5,-10],[3,-7],[5,5],[2,-18],[2,-22],[10,-30],[10,-7],[23,-12],[6,-4],[2,-25],[-6,-35],[-12,-5],[-21,-46],[4,-5],[0,-30],[-6,-5],[-2,-8],[-33,15],[-9,15],[-6,46],[-2,8],[-8,23],[-5,18],[-6,9],[-6,0],[2,-20],[1,-28],[-5,-10],[-3,2],[-6,28],[-3,17],[0,18]],[[67239,71169],[4,5],[3,6],[5,11],[2,-3],[0,-12],[-2,-14],[-5,-12],[-6,1],[-1,7],[0,11]],[[67206,71294],[3,9],[2,10],[1,8],[4,4],[2,-10],[-2,-11],[-4,-15],[0,-3],[-5,-3],[-1,11]],[[67181,70681],[5,6],[1,-7],[1,-10],[-3,-4],[-4,4],[0,11]],[[67175,70914],[3,11],[3,7],[4,1],[0,-13],[-1,-13],[-2,-8],[-5,-2],[-2,5],[0,12]],[[67174,71129],[4,17],[1,1],[2,-11],[-3,-9],[-3,-4],[-1,6]],[[67158,71104],[1,14],[3,5],[3,-5],[1,-12],[-1,-12],[1,-9],[-6,-4],[-3,14],[1,9]],[[67110,71237],[5,17],[4,13],[4,-1],[-2,-14],[-3,-14],[1,-5],[-3,-6],[-6,-1],[0,11]],[[67071,70855],[7,14],[0,-13],[-3,-21],[-4,6],[-2,9],[2,5]],[[67062,71086],[2,7],[2,8],[2,-2],[-1,-11],[-1,-7],[-3,-8],[-1,13]],[[67062,71466],[5,9],[7,7],[5,11],[4,1],[5,-18],[2,-9],[7,3],[2,12],[-2,5],[0,16],[4,15],[4,8],[7,-2],[10,-16],[8,-11],[3,0],[16,11],[6,-1],[7,0],[7,4],[6,2],[6,-3],[-6,-13],[4,-30],[2,0],[4,5],[2,-11],[5,-3],[5,-11],[5,-5],[7,-8],[4,4],[8,1],[2,-9],[-1,-11],[-2,-6],[-2,-7],[6,-11],[6,-4],[2,-7],[-5,-1],[-1,-16],[-7,5],[-7,0],[-5,12],[-11,6],[-4,11],[-3,4],[-4,-1],[-14,9],[-6,-8],[1,-12],[-2,-12],[-5,-2],[-2,5],[-8,4],[-5,0],[-1,9],[0,10],[4,7],[1,20],[-1,13],[-3,9],[-8,2],[-9,-1],[-9,-1],[-5,-4],[-2,-7],[0,-12],[-2,-26],[-4,-13],[-3,8],[-5,3],[-4,-1],[-1,-10],[-1,-11],[-5,1],[-1,31],[5,14],[-3,7],[-11,1],[-13,11],[-3,6],[2,12]],[[67059,70938],[3,5],[1,-23],[-1,-12],[-3,10],[-1,7],[1,13]],[[67048,51379],[0,18],[2,13],[4,14],[4,10],[6,11],[7,6],[4,2],[5,0],[5,-2],[4,-3],[6,-8],[3,-11],[1,-1],[1,-9],[-1,-15],[-5,-28],[-2,-3],[-2,-1],[-2,1],[0,1],[-2,5],[-3,3],[-3,1],[-5,-1],[-2,-3],[-1,-2],[-3,-9],[-3,-5],[-3,-3],[-2,0],[-1,0],[-4,0],[-3,3],[-3,5],[-2,11]],[[67030,70991],[3,4],[2,-2],[1,-9],[-1,-7],[-2,-6],[-3,8],[0,12]],[[66986,71173],[2,12],[-1,11],[1,16],[4,12],[4,6],[3,-6],[3,-14],[2,-9],[4,-2],[5,0],[2,-5],[2,-14],[-1,-15],[-2,-16],[-8,-6],[-3,2],[-2,8],[-4,5],[-2,0],[-5,0],[-4,5],[0,10]],[[66967,71323],[3,6],[4,-7],[5,-15],[6,-10],[2,-13],[2,-5],[-1,-7],[-14,11],[-1,14],[-3,9],[-2,5],[-1,12]],[[66964,71096],[5,7],[11,2],[6,-18],[12,-13],[1,-11],[-4,-14],[-24,11],[-6,16],[-1,20]],[[66925,71267],[2,14],[7,10],[5,1],[8,-6],[5,-17],[7,-9],[1,-6],[9,1],[6,-1],[3,0],[2,-12],[-3,-20],[-2,-5],[-4,2],[-2,3],[-4,-8],[-2,-6],[0,-8],[-2,-5],[-4,-2],[-4,12],[-5,0],[-10,6],[-7,12],[-2,14],[-5,14],[1,16]],[[66884,71080],[3,10],[6,7],[1,-6],[2,-15],[-5,-11],[-5,7],[-2,8]],[[66879,70403],[7,16],[10,8],[-3,24],[-5,21],[2,19],[5,27],[6,20],[10,16],[17,14],[3,12],[-10,15],[-1,7],[-2,16],[5,0],[8,32],[-1,18],[4,23],[4,-1],[1,-14],[6,-2],[8,1],[14,40],[6,26],[11,20],[12,50],[8,22],[19,-19],[12,2],[10,-14],[3,-2],[5,11],[3,-20],[6,-14],[9,-31],[-7,-9],[-8,-15],[-1,-9],[-4,-10],[-4,-4],[-7,-3],[-1,-13],[3,-12],[12,-4],[6,3],[0,-15],[-3,-17],[5,-12],[6,6],[6,-8],[-3,-11],[-3,-13],[-9,1],[-4,-8],[-1,-9],[3,-9],[6,9],[5,3],[6,1],[10,16],[2,9],[11,22],[2,-3],[0,-17],[-7,-13],[-6,-18],[-4,-6],[-9,-15],[-7,-4],[5,-16],[13,0],[6,17],[7,-8],[2,-18],[3,-27],[12,6],[7,-13],[0,-11],[6,-10],[7,-5],[8,7],[9,0],[6,11],[-6,10],[5,7],[7,-6],[5,11],[4,22],[-1,15],[3,23],[16,25],[1,16],[1,10],[4,-5],[4,-21],[7,-4],[9,2],[8,11],[-2,17],[1,10],[9,10],[3,17],[4,19],[-14,13],[-7,25],[11,3],[1,-3],[1,-5],[11,-17],[2,14],[-2,20],[4,15],[2,-14],[4,0],[17,32],[-2,15],[-1,39],[1,13],[4,-11],[7,-1],[10,12],[13,14],[0,-19],[8,-11],[8,-5],[3,13],[6,-3],[-2,-17],[5,-1],[6,-2],[7,14],[3,-5],[14,2],[9,11],[4,14],[6,3],[8,31],[2,19],[5,14],[17,20],[36,25],[1,-4],[8,-13],[8,5],[5,-11],[8,-1],[17,-2],[17,-13],[13,0],[9,16],[4,26],[-10,6],[-3,24],[-12,7],[-4,10],[2,25],[4,22],[4,16],[4,-12],[9,-12],[11,8],[14,0],[13,11],[11,16],[4,28],[-4,20],[-19,23],[6,19],[2,16],[-2,28],[-6,18],[-17,0],[-7,2],[-4,12],[-46,6],[-65,50],[-7,-5],[-4,7],[1,9],[-13,15],[-10,4],[-9,17],[5,15],[6,12],[-1,12],[11,5],[8,14],[12,61],[17,6],[22,-2],[11,-2],[3,18],[12,4],[12,-3],[3,-7],[26,-2],[88,-19],[20,19],[11,-9],[9,19],[13,2],[8,-8],[26,9],[18,-4],[13,-11],[34,-53],[24,-13],[20,-17],[12,-19],[8,-7],[11,-6],[15,10],[5,12],[7,-4],[11,-9],[17,-52],[6,-29],[-4,-9],[10,-34],[0,-42],[19,-22],[5,-20],[0,-26],[14,-16],[14,4],[9,-13],[8,-31],[5,-49],[10,-13],[13,-90],[8,-134],[0,-12],[-3,-11],[3,-12],[8,-1],[10,-13],[6,-15],[2,-19],[-2,-15],[-3,-16],[9,-11],[6,9],[10,3],[15,-4],[4,15],[6,-3],[15,-46],[19,-37],[9,-31],[19,-3],[20,24],[0,16],[7,4],[14,-4],[26,-29],[22,-64],[2,-35],[-28,-105],[-12,-20],[-11,-6],[-9,-6],[-11,-39],[-11,-19],[-6,-10],[4,-32],[1,-56],[-4,-20],[-8,0],[-7,-7],[-5,-23],[3,-20],[-8,-14],[-17,-12],[-4,-11],[3,-33],[-1,-9],[9,0],[-2,-21],[-4,-18],[-6,-4],[-6,-7],[-1,-18],[-5,-1],[-13,-24],[-17,-17],[-6,-8],[-6,15],[-14,6],[-10,22],[-4,14],[2,6],[-5,24],[-6,8],[-7,-3],[-1,-21],[-4,-15],[2,-15],[11,-21],[-4,-8],[-6,7],[-7,-7],[-12,-13],[3,-9],[-5,-18],[-7,6],[-3,12],[-1,15],[-13,14],[-15,18],[-12,7],[-6,-3],[0,-17],[1,-21],[2,-23],[13,-4],[3,-19],[-11,0],[-17,11],[-4,25],[2,15],[-4,13],[-9,-3],[-6,11],[-10,-4],[-6,-6],[0,-28],[-3,-8],[-14,12],[-10,8],[-20,24],[-25,31],[-18,12],[0,28],[10,56],[4,23],[-7,16],[-9,2],[-5,-17],[-6,5],[-11,4],[0,-11],[-4,-19],[1,-25],[-4,-11],[-5,-10],[-9,-2],[-7,13],[-5,-10],[-6,-9],[-6,0],[-6,-8],[-3,10],[-1,17],[1,44],[5,17],[20,17],[10,13],[3,12],[-5,25],[-3,23],[-8,7],[-3,13],[-3,23],[-10,14],[-9,3],[-10,-3],[-8,-18],[0,-19],[6,-10],[7,-2],[5,-20],[4,-26],[-1,-16],[-5,5],[-5,-3],[-2,-14],[-5,-2],[-3,-12],[-4,-10],[-6,11],[-1,24],[-2,19],[-2,11],[-6,4],[-6,-12],[-6,-10],[-6,4],[-5,-12],[-5,-12],[-8,2],[-8,21],[-11,-9],[-5,-11],[-11,-12],[-29,-5],[-13,-22],[-31,-26],[-7,6],[-14,26],[-8,20],[-9,7],[-6,-7],[-4,-17],[-7,-20],[-4,-24],[-10,-2],[-4,13],[-8,3],[-8,-18],[-1,-21],[-2,-10],[-10,21],[-3,12],[-5,34],[1,12],[-5,20],[-6,22],[-10,18],[-7,3],[-2,-9],[1,-12],[0,-1],[-3,-25],[-5,-26],[-4,-6],[-2,16],[-3,12],[-5,3],[-1,-12],[-4,-6],[-5,-3],[-3,-11],[-4,-2],[-5,6],[-11,11],[-16,20],[-19,59],[-5,31],[3,19],[-28,1],[-4,-7],[-7,0],[-9,-33],[-8,-6],[-7,5],[-2,-11],[-2,-47],[-3,-24],[-21,-45],[-2,-13],[-3,-2],[-7,16],[-9,-7],[-6,0],[-2,9],[0,22],[-13,-3],[-13,2],[-3,-8],[-8,28],[6,12],[-2,16],[-9,5],[-7,15],[-16,25],[-10,12],[-6,35],[-7,0],[-6,0],[-5,-15],[-8,-52],[9,-9],[0,-10],[-3,-12],[-12,-11],[-6,-8],[-1,-15],[-5,-10],[-4,8],[-14,-1],[-4,4],[0,8],[7,19],[7,18],[11,0],[2,10],[1,18],[-4,15],[-20,11],[-2,9],[3,14],[-7,8],[-9,-12],[-10,2],[-7,-5],[2,25],[6,21],[-4,20],[-14,22],[-3,-18],[-7,-8],[-6,0],[-7,8],[-11,23],[-5,2],[-9,-16],[-4,-19],[-6,0],[-3,20],[-10,4],[-6,18],[-20,13],[-6,-12],[-6,-4],[1,11],[6,6],[-1,12],[-8,4],[-3,11],[6,18],[-7,9],[3,24]],[[66871,71193],[13,13],[6,13],[5,-7],[-4,-17],[4,-14],[3,-13],[1,-13],[-4,-7],[-4,-2],[-4,-5],[-12,14],[-6,17],[2,21]],[[66822,70759],[5,8],[5,-4],[0,-10],[-5,-13],[-8,6],[3,13]],[[66532,71391],[9,-5],[3,-14],[1,-16],[-8,6],[-6,16],[1,13]],[[66522,71472],[1,6],[2,0],[3,-14],[3,-14],[1,-13],[-7,10],[-5,11],[2,14]],[[66452,71380],[15,12],[5,7],[-4,18],[4,14],[5,0],[3,-19],[5,-6],[5,5],[7,-3],[9,0],[9,-24],[5,-20],[7,-1],[0,-9],[-2,-14],[7,-23],[6,3],[2,-18],[11,-23],[5,-23],[8,-14],[5,2],[2,-17],[1,-11],[-3,-26],[9,-12],[1,-19],[-8,4],[-8,14],[-10,20],[-11,13],[-8,14],[-15,10],[-14,15],[-18,26],[-11,22],[-8,20],[-10,12],[-9,15],[3,36]],[[66414,71530],[3,4],[5,0],[4,-5],[-3,-13],[-7,6],[-2,8]],[[65922,72455],[10,-2],[3,-13],[3,-8],[7,-6],[-1,-9],[-1,-2],[-9,6],[-4,6],[-2,11],[0,5],[-6,12]],[[65820,70351],[0,16],[9,-7],[6,-16],[-6,-2],[0,-9],[-2,-4],[-4,7],[-6,8],[3,7]],[[65053,69989],[1,10],[2,-3],[1,-7],[3,-6],[2,-9],[4,-12],[2,-12],[2,-5],[1,-2],[1,2],[2,-1],[1,-3],[-1,-6],[0,-4],[-1,-3],[-2,-1],[0,-3],[0,-6],[1,-4],[-2,-1],[0,-3],[-1,5],[-3,15],[-1,9],[-2,6],[0,3],[1,1],[-1,1],[-3,1],[-3,4],[-1,5],[0,3],[-4,22],[1,4]],[[65034,70577],[1,1],[2,-2],[1,-3],[2,-5],[1,-3],[-1,-2],[0,-1],[-2,2],[-2,5],[-2,3],[0,4],[0,1]],[[65021,70425],[8,-9],[7,-10],[4,-5],[2,-5],[3,-10],[-1,-5],[1,-7],[-1,-2],[-3,9],[-3,10],[-13,24],[-4,7],[-1,2],[1,1]],[[64777,74348],[1,3],[1,2],[1,1],[1,2],[1,-1],[1,-3],[1,-3],[1,-3],[0,-3],[1,-4],[-3,0],[-3,0],[-2,2],[-1,3],[0,4]],[[64559,70299],[11,38],[6,19],[8,7],[8,-16],[15,-6],[14,-14],[7,-25],[0,-37],[-2,-18],[-7,-22],[-7,-5],[-4,-10],[-18,21],[-8,3],[-17,29],[-3,10],[-3,26]],[[64534,69038],[4,30],[9,-1],[5,6],[5,16],[3,2],[10,6],[1,0],[17,-4],[24,-18],[18,-16],[36,-36],[25,-18],[16,-9],[7,2],[6,7],[5,0],[26,-7],[22,7],[11,7],[5,8],[14,4],[10,-2],[11,-5],[18,-21],[10,-17],[66,-60],[44,-23],[51,-37],[23,-28],[17,-12],[16,6],[16,23],[9,21],[1,14],[2,6],[0,17],[1,14],[-1,22],[-3,13],[0,23],[-6,14],[-8,17],[-6,16],[13,3],[10,-3],[2,-24],[5,-21],[8,-24],[12,-24],[8,-32],[4,-28],[4,-6],[3,-36],[7,-23],[16,-20],[11,0],[10,10],[5,-2],[22,-25],[39,-38],[9,-2],[34,-20],[13,-12],[2,-13],[-4,-13],[-6,-10],[-3,-13],[-10,-21],[-6,-12],[-2,-22],[-4,-13],[-8,-6],[-6,-14],[-1,-24],[4,-18],[2,-16],[-9,-29],[-4,-8],[-7,2],[-11,0],[-7,-7],[-3,-8],[4,-8],[4,-12],[-9,-1],[-6,-9],[-5,12],[-4,4],[-5,-8],[-6,-3],[-5,-5],[3,-16],[-4,-14],[-8,-3],[-5,-13],[-1,-14],[5,-15],[2,-20],[-5,-11],[-16,-12],[-19,-26],[-13,6],[-8,5],[-9,-14],[-5,3],[-4,1],[-6,-8],[-2,-11],[-28,30],[-5,19],[-13,19],[-9,5],[-6,-4],[-7,1],[-11,-7],[-5,-3],[-15,7],[-6,-13],[-33,25],[-14,15],[-15,8],[-14,3],[-10,-5],[-13,-16],[-44,35],[-21,25],[-13,45],[-8,21],[-5,33],[2,19],[-2,22],[-10,19],[-21,26],[-24,20],[2,14],[-5,22],[-14,30],[-29,68],[-1,16],[0,10],[-16,23],[-10,20],[-5,23],[-4,11],[-12,14],[-12,21],[-9,7],[-7,12],[-65,50],[-22,42],[-5,25],[-1,20]],[[64452,69237],[10,-13],[18,-4],[20,-3],[20,-30],[4,-13],[2,-10],[5,-10],[7,8],[0,-14],[-7,-17],[2,-19],[-11,1],[-14,7],[-31,25],[-9,10],[5,3],[1,11],[-7,24],[-6,22],[-6,9],[-3,13]],[[64363,70382],[8,12],[2,14],[-4,19],[7,6],[7,16],[20,-12],[13,-22],[9,-7],[19,-26],[5,-15],[10,-8],[6,-9],[7,-14],[-2,-4],[-8,1],[4,-13],[-14,-35],[-3,-4],[-12,-22],[-20,-12],[-20,-13],[-18,15],[-11,10],[0,23],[10,16],[4,19],[-4,14],[-1,15],[-6,16],[-8,20]],[[64331,69457],[3,12],[5,10],[0,16],[-1,24],[12,38],[-1,31],[-2,25],[-1,18],[2,14],[4,1],[11,1],[13,-13],[9,-6],[20,-8],[6,-16],[7,-11],[9,-13],[26,-84],[12,-35],[7,-10],[22,-84],[-3,-16],[-12,-14],[-11,1],[-8,6],[-10,4],[-6,-9],[-1,-11],[-2,-11],[-5,-5],[-14,12],[-12,19],[-9,10],[-17,7],[-14,12],[-19,30],[-7,5],[-11,25],[-2,25]],[[64224,74764],[1,1],[1,-1],[0,2],[0,1],[0,3],[2,1],[1,2],[1,1],[0,1],[1,1],[-2,3],[3,2],[1,-2],[2,-1],[2,4],[1,-1],[1,-1],[0,-2],[0,-2],[-2,1],[0,-1],[0,-3],[-1,-3],[-1,0],[-1,1],[-1,-1],[-1,-1],[-1,-1],[0,-2],[-1,-5],[0,-2],[0,-1],[-1,-1],[-2,1],[-4,4],[1,2]],[[63999,69234],[1,2],[3,0],[4,-5],[5,2],[3,2],[3,6],[-1,5],[3,2],[-1,8],[0,4],[2,-5],[1,-5],[1,-8],[1,-4],[-2,-4],[-2,1],[-2,-4],[-4,-1],[0,-5],[-2,-4],[-2,-2],[-2,2],[-2,1],[-3,-2],[-2,1],[-2,8],[0,5]],[[63940,69264],[2,1],[2,-2],[3,-2],[3,-4],[1,-1],[2,-2],[2,-1],[-2,-3],[-3,3],[-4,2],[-2,1],[-3,4],[-1,4]],[[63572,69478],[7,17],[11,-4],[3,-1],[16,-19],[3,-25],[8,-4],[9,0],[4,-7],[0,-30],[-10,-22],[-13,8],[-23,28],[-14,25],[-1,34]],[[62921,68643],[9,4],[9,0],[9,5],[12,-1],[10,5],[4,-2],[2,-12],[6,-6],[10,3],[4,10],[14,5],[0,22],[14,-18],[42,6],[8,7],[11,-7],[6,-19],[14,-5],[10,-2],[10,-7],[-1,-8],[-2,-6],[-8,-4],[-7,-11],[-4,-12],[-1,-6],[-3,-9],[-8,3],[-30,6],[-14,20],[-32,-2],[-23,3],[-6,-15],[-9,11],[-49,13],[-2,12],[-7,16],[2,1]],[[62496,70983],[10,4],[8,-5],[-7,-10],[-1,1],[-2,4],[-8,3],[0,3]],[[62175,69071],[3,10],[7,-4],[-1,-8],[1,-9],[-2,-8],[-8,8],[0,11]],[[61766,68770],[7,5],[22,-5],[23,-17],[16,-4],[26,-3],[8,5],[1,15],[9,-1],[6,2],[7,11],[7,10],[0,16],[7,10],[11,9],[6,9],[-4,14],[10,11],[2,16],[-4,14],[0,44],[-7,33],[1,14],[21,-8],[8,7],[3,18],[-4,15],[-12,10],[-8,15],[-11,8],[16,28],[20,14],[10,0],[15,-7],[10,-29],[17,-58],[0,-14],[12,-18],[-5,-15],[1,-25],[2,-19],[12,-10],[12,-6],[10,-3],[-13,-6],[-7,7],[-14,9],[-3,-5],[-7,-22],[-3,-8],[-7,7],[-7,-11],[-4,-12],[6,-24],[-4,-18],[1,-19],[10,-28],[-28,-17],[-9,-18],[-8,-18],[-6,-14],[-15,-15],[-6,2],[-10,9],[-31,22],[-18,18],[-10,14],[-6,6],[-9,-2],[-17,3],[-51,23],[-7,6]],[[61405,68933],[13,1],[16,19],[14,10],[3,13],[-8,19],[-12,20],[-3,27],[-11,25],[1,19],[6,10],[7,7],[2,12],[-8,19],[0,33],[15,6],[23,-10],[60,-45],[24,-24],[37,-50],[33,-55],[-5,-16],[-2,-16],[8,-35],[19,-12],[19,0],[17,-23],[1,-44],[-14,-2],[-16,-9],[-6,-14],[0,-21],[6,-20],[19,-19],[10,-23],[-10,-6],[-7,8],[-10,-3],[-5,-14],[-14,-4],[-19,-6],[-12,-3],[-9,5],[-5,15],[8,21],[-17,16],[-14,-5],[-2,-9],[0,-16],[-13,-24],[-12,-8],[-39,46],[-2,16],[3,8],[8,5],[-1,17],[-17,7],[-11,15],[12,-1],[12,-5],[5,14],[0,8],[3,8],[12,-5],[13,-6],[4,12],[-3,18],[-24,19],[-18,14],[-20,6],[-18,9],[-40,8],[-6,18]],[[61292,63099],[1,2],[0,4],[0,2],[-1,2],[0,3],[1,0],[1,-1],[0,-3],[1,0],[1,-2],[1,-4],[2,-5],[0,-3],[-1,-1],[-2,1],[-2,0],[-2,2],[0,3]],[[61241,61149],[7,51],[22,19],[14,5],[2,-4],[-8,-22],[0,-25],[5,-17],[-8,-12],[-24,-13],[-5,-11],[-6,10],[1,19]],[[61204,69246],[11,20],[10,6],[4,1],[3,-9],[8,-2],[-9,-26],[-2,-21],[-7,-5],[-5,3],[0,15],[-7,6],[-6,12]],[[61128,69021],[5,18],[13,11],[8,-13],[17,-7],[-15,-22],[-7,-16],[-16,19],[-5,10]],[[61092,67272],[7,14],[7,22],[5,10],[3,23],[-4,18],[4,54],[6,49],[4,14],[10,14],[4,13],[6,11],[13,11],[14,60],[-2,70],[-5,33],[-8,18],[2,16],[-3,21],[2,30],[-5,22],[11,20],[5,24],[-11,20],[14,24],[-1,34],[0,25],[13,58],[7,16],[6,-4],[9,22],[3,22],[8,21],[24,23],[38,89],[3,54],[-2,48],[-2,34],[16,8],[8,17],[5,18],[5,22],[1,42],[-3,21],[-6,21],[-14,32],[6,9],[-3,68],[5,14],[31,-6],[25,-19],[10,-18],[9,-31],[27,-8],[3,0],[30,0],[2,0],[2,2],[59,38],[16,-6],[2,0],[12,-69],[-6,-16],[-14,-13],[-17,-3],[-4,4],[5,18],[-2,29],[-8,8],[-12,0],[-11,-18],[-1,-4],[-6,-17],[-4,-38],[0,-7],[3,-18],[24,-6],[9,-18],[5,-18],[4,-13],[11,-3],[20,-34],[-7,-22],[-3,-24],[2,-26],[17,-21],[-2,-44],[7,-21],[2,-17],[0,-58],[-7,-23],[-22,-39],[-8,-40],[-3,-43],[8,-89],[11,-51],[34,-102],[0,-56],[9,-68],[-3,-61],[4,-73],[-1,-22],[-8,-29],[-5,-46],[-1,-18],[-11,-17],[-16,-7],[-22,-17],[-2,-22],[-6,-13],[-1,-16],[-22,-16],[-8,-14],[-6,1],[-23,-12],[-11,-19],[-6,-20],[-7,-27],[1,-29],[-1,-17],[-13,-10],[-10,-16],[-19,-8],[-35,-7],[-2,-9],[-9,-5],[-3,5],[-42,24],[-8,-4],[-15,24],[-12,16],[-15,3],[-7,-12],[-5,8],[-9,-1],[-5,-7],[-7,13],[-5,13],[-11,1],[-8,-8],[-1,-18],[-4,11],[-6,7],[-7,-1],[-20,19],[-6,-7],[-2,11],[-5,8],[-5,5],[2,11],[-1,15],[-10,23],[-10,47],[3,46]],[[60867,68716],[5,10],[13,0],[8,-5],[9,-22],[5,-19],[-11,1],[-19,6],[-7,14],[-3,15]],[[60851,68416],[10,2],[9,17],[5,12],[-4,16],[5,2],[8,-2],[5,10],[-4,12],[6,3],[13,-8],[10,2],[1,9],[18,-12],[24,-7],[3,-6],[14,-8],[63,-7],[-18,-9],[-11,-12],[-5,-17],[1,-23],[1,-22],[3,-15],[5,-11],[3,-18],[-2,-30],[3,-13],[-7,-21],[-6,-34],[-14,-28],[-9,-11],[-6,-24],[-12,-20],[-7,-12],[-9,-12],[-4,-19],[1,-22],[-7,-8],[-13,-2],[-5,-8],[-13,11],[-14,1],[-5,-8],[-12,-3],[-13,12],[4,29],[6,27],[-2,17],[6,24],[-3,18],[-6,6],[-1,4],[11,6],[13,8],[6,22],[1,25],[-5,24],[-10,17],[-5,8],[2,25],[-2,23],[-6,24],[-7,13],[-3,14],[-10,4],[0,5]],[[60557,66322],[23,31],[13,-12],[11,0],[9,-17],[7,-13],[5,-52],[8,-38],[-11,-110],[0,-15],[-5,-1],[-6,34],[-14,23],[-1,29],[-9,26],[-8,25],[-33,41],[11,49]],[[60374,68052],[8,33],[5,29],[-6,21],[0,12],[5,15],[1,14],[-9,14],[3,7],[11,-9],[8,1],[7,-13],[2,-41],[3,-22],[-1,-12],[-5,-16],[6,-20],[-3,-12],[-7,4],[-9,-3],[-1,-19],[-14,-8],[-4,25]],[[60242,65963],[83,-45],[25,-20],[67,-137],[18,-122],[-5,-105],[-8,-75],[-12,-39],[-16,-20],[-1,14],[2,31],[-12,71],[-77,218],[-32,68],[-32,161]],[[59646,63429],[9,52],[8,53],[16,20],[13,30],[20,10],[37,-10],[91,-22],[42,-24],[13,-14],[5,-26],[10,-34],[26,-46],[4,-39],[-4,-61],[7,-30],[-2,-10],[-5,-13],[-8,-29],[-4,-27],[0,-46],[-6,-38],[-6,-131],[4,-52],[19,-65],[45,-78],[9,-25],[-53,18],[-21,-17],[-15,-20],[-21,-7],[-11,-11],[-7,-16],[-27,25],[-8,21],[-10,34],[-12,43],[-10,22],[-20,43],[-23,36],[-15,45],[-13,31],[-12,16],[-25,25],[-21,45],[-6,32],[0,30],[4,24],[4,31],[-1,25],[-5,29],[-4,14],[0,41],[-4,45],[-7,34],[0,17]],[[59343,62393],[4,30],[24,78],[19,105],[12,23],[33,25],[34,20],[15,-22],[25,-13],[9,-10],[33,-12],[9,-1],[17,-15],[16,-36],[8,-23],[1,-14],[-5,0],[-28,11],[-19,-4],[-12,-12],[-11,-32],[-5,-29],[2,-39],[12,-39],[13,-14],[5,-13],[-5,-18],[-4,-9],[-4,-4],[-17,-6],[-12,-13],[-7,-15],[-17,-6],[-12,-20],[-12,-3],[-19,7],[-33,-21],[-64,47],[-5,18],[0,79]],[[57674,68410],[3,24],[4,16],[1,-3],[0,-21],[-1,-16],[-2,-11],[-9,-5],[4,16]],[[57669,67079],[9,22],[5,35],[5,14],[10,-17],[5,-14],[8,0],[6,4],[-1,-18],[5,-5],[4,-13],[7,-21],[14,-3],[3,-7],[-8,-22],[8,-13],[9,-1],[9,8],[9,8],[5,-5],[2,-9],[7,-35],[7,-33],[0,-35],[-9,-28],[-9,-27],[0,-28],[-5,-12],[-5,-6],[-9,-10],[-5,-11],[-21,-15],[-7,1],[-9,12],[-6,-6],[-4,4],[-4,17],[-2,11],[4,14],[-5,31],[-6,4],[-9,24],[1,14],[1,15],[-4,14],[-8,84],[-6,18],[-1,40]],[[57637,66670],[8,18],[14,3],[8,7],[3,-16],[2,-23],[-1,-48],[-7,-13],[-16,6],[-4,25],[-6,20],[-1,21]],[[57533,67305],[8,26],[0,19],[-8,46],[6,-8],[6,-17],[2,7],[6,14],[11,8],[16,-11],[10,0],[24,-17],[26,-45],[5,-19],[-6,-10],[-11,-3],[-14,-37],[-17,-7],[-5,-14],[-6,-15],[-15,0],[-8,14],[-3,10],[-19,31],[-8,7],[-2,9],[2,12]],[[57509,75218],[13,22],[6,20],[15,22],[3,16],[13,7],[3,12],[9,-3],[7,12],[12,15],[20,10],[8,-32],[13,-5],[18,1],[15,5],[20,13],[9,16],[10,-21],[10,-31],[5,-6],[2,-26],[9,-23],[14,-13],[9,-40],[10,-26],[1,-7],[9,-15],[11,-11],[-5,-29],[-5,-28],[2,-41],[-1,-18],[-1,-31],[-4,-26],[-5,-44],[-8,-37],[-11,-17],[-7,-11],[-6,-24],[0,-19],[-6,-13],[-7,-27],[-2,-30],[-2,-7],[9,-27],[16,-33],[11,-16],[11,-7],[14,0],[7,4],[0,12],[5,10],[7,22],[6,7],[-1,13],[5,19],[5,15],[6,12],[7,6],[1,8],[3,1],[2,10],[5,-2],[4,-4],[3,-7],[-1,-18],[2,-26],[3,-30],[-2,-10],[4,-27],[0,-32],[-3,-30],[-6,-30],[-12,-32],[-12,-25],[-11,-25],[-8,-9],[-1,-12],[-10,-2],[-12,-2],[-9,-11],[-10,-11],[-5,-1],[-13,9],[-5,16],[-1,12],[-6,13],[-7,14],[-4,14],[5,0],[9,5],[8,10],[6,21],[8,29],[3,10],[-2,9],[-8,0],[-7,-6],[-12,-8],[-8,-2],[-14,4],[-17,0],[-12,-7],[-3,-16],[-2,-18],[-3,-11],[-2,-16],[-4,-13],[-1,-14],[-7,-23],[-3,-14],[-7,-16],[-7,-25],[-8,7],[-9,-2],[-11,9],[-15,16],[-9,17],[-3,35],[-1,29],[5,56],[3,65],[-1,16],[1,58],[5,29],[3,29],[0,36],[-3,16],[-13,5],[-19,17],[-7,11],[-8,26],[-2,20],[-7,19],[0,42],[-5,27],[0,24],[-6,31],[1,11],[2,16],[-3,31],[-5,31],[-5,30],[-5,17],[2,29]],[[57499,67334],[3,7],[5,3],[5,10],[2,-5],[4,0],[3,-3],[-6,-7],[0,-8],[-7,-1],[-5,-4],[-6,5],[2,3]],[[57482,66433],[10,-12],[0,-5],[-7,-11],[-4,14],[1,14]],[[57464,74713],[5,-11],[7,-19],[4,-17],[3,-14],[-9,4],[-7,24],[-3,17],[0,16]],[[57466,66511],[4,8],[11,-10],[2,-7],[-8,-4],[-7,1],[-5,-5],[3,17]],[[57448,66611],[7,-7],[7,-10],[-5,1],[-6,0],[-3,7],[0,9]],[[57379,74966],[6,9],[9,-7],[6,-14],[15,-26],[2,-30],[1,-8],[-2,-14],[0,-8],[-9,7],[-10,0],[-5,4],[-7,22],[-2,16],[-4,18],[0,31]],[[57331,68938],[5,5],[11,-8],[7,-3],[3,-6],[1,-6],[3,0],[-1,-7],[-7,-1],[-5,-4],[-4,-5],[-6,9],[-7,6],[0,20]],[[57321,68477],[0,24],[9,-10],[12,-17],[0,-10],[-5,-4],[-9,-2],[-6,7],[-2,4],[1,8]],[[57262,66442],[0,33],[6,29],[4,4],[11,2],[11,6],[8,-4],[4,-11],[8,-12],[4,-5],[6,-11],[7,-3],[8,-1],[9,-12],[1,-14],[-2,-20],[2,-27],[-5,-37],[4,-55],[-3,-54],[-5,-11],[-19,9],[-8,27],[-18,35],[-5,10],[-16,12],[-10,-19],[-2,13],[4,31],[-7,57],[3,28]],[[57125,36222],[4,5],[63,77],[8,10],[80,97],[2,3],[8,11],[32,42],[46,64],[2,1],[4,9],[7,13],[18,21],[7,8],[6,8],[70,94],[5,8],[12,20],[20,39],[2,2],[30,39],[14,20],[18,25],[7,10],[17,36],[8,31],[26,55],[27,41],[14,27],[3,5],[12,19],[5,7],[16,32],[53,102],[27,51],[9,22],[7,18],[0,1],[8,20],[22,54],[33,92],[4,13],[19,69],[8,29],[21,77],[13,62],[18,85],[14,89],[20,106],[5,26],[15,84],[1,3],[11,48],[2,10],[41,142],[57,198],[6,22],[15,52],[3,11],[9,36],[6,21],[2,9],[6,21],[13,50],[11,44],[37,162],[1,5],[6,59],[1,4],[-5,11],[1,9],[5,7],[8,9],[1,2],[19,39],[29,58],[12,26],[1,2],[9,20],[69,163],[19,46],[12,28],[32,70],[6,16],[19,46],[9,22],[14,34],[17,43],[7,18],[29,75],[23,60],[8,24],[13,40],[51,152],[0,1],[24,73],[4,13],[3,12],[86,335],[1,4],[20,78],[4,18],[35,159],[11,51],[14,64],[22,101],[4,33],[2,17],[7,60],[14,84],[0,2],[15,92],[1,9],[1,19],[-3,29],[4,12],[9,28],[13,51],[5,24],[5,23],[13,61],[19,89],[9,45],[2,12],[37,271],[1,5],[0,9],[6,60],[2,16],[2,57],[3,41],[2,21],[2,41],[-1,52],[7,52],[5,98],[2,27],[3,27],[6,60],[8,111],[3,26],[9,48],[8,37],[4,35],[7,75],[0,2],[1,13],[0,10],[-1,28],[-3,57],[-1,31],[-2,35],[-1,15],[-2,106],[-1,28],[0,31],[2,18],[6,39],[10,44],[5,21],[14,51],[8,52],[2,12],[3,30],[1,43],[0,2],[5,26],[6,42],[6,52],[4,72],[2,67],[0,87],[-1,207],[0,6],[-5,59],[0,5],[1,59],[-2,20],[-1,18],[-2,19],[-2,11],[0,3],[-6,10],[0,8],[3,21],[1,28],[0,30],[1,22],[1,37],[-2,103],[-3,219],[0,12],[3,178],[1,29],[-2,48],[-10,146],[1,59],[-2,53],[-2,12],[-2,9],[0,27],[1,17],[0,16],[-2,90],[-1,20],[-6,115],[-1,19],[-3,37],[-1,29],[-3,74],[-2,10],[-3,45],[-3,55],[-2,18],[-7,100],[-2,31],[-6,66],[-15,154],[-3,22],[-17,120],[-13,91],[-5,38],[-20,62],[-1,5],[-3,16],[3,26],[0,29],[-4,49],[-2,14],[-8,68],[-7,33],[-5,28],[-10,45],[-35,174],[-29,141],[-35,145],[-8,36],[-13,60],[-1,4],[-49,184],[-12,45],[-15,58],[-1,2],[-15,60],[-23,78],[-16,30],[-17,64],[-4,34],[-1,10],[-10,45],[-31,107],[-37,146],[-4,15],[-22,76],[-28,104],[-33,118],[-7,24],[-19,88],[-11,48],[-8,43],[-5,23],[-8,38],[-20,99],[-15,71],[-17,62],[0,33],[-6,46],[-19,86],[-2,10],[-45,279],[0,5],[-11,82],[-29,217],[-3,25],[-6,56],[-6,44],[-12,59],[-10,70],[-25,118],[-12,46],[-10,34],[-23,93],[-3,9],[-17,60],[-7,26],[-26,94],[-37,133],[-31,135],[-28,181],[-2,13],[-1,19],[-7,107],[0,92],[1,15],[6,79],[1,21],[13,74],[18,80],[8,21],[29,80],[25,67],[95,214],[28,73],[39,101],[24,81],[4,15],[24,96],[3,9],[9,51],[2,26],[4,25],[2,9],[8,33],[2,11],[11,90],[8,110],[0,5],[1,28],[2,66],[-3,106],[-9,121],[-7,44],[-10,46],[-2,20],[-19,159],[-1,7],[-1,14],[0,9],[-1,24],[-1,37],[-1,63],[-4,83],[-13,110],[-1,28],[-6,41],[-20,63],[-1,4],[0,9],[-1,20],[0,5],[-2,24],[0,16],[1,29],[-6,66],[-1,15],[-3,12],[-23,87],[-2,10],[-8,31],[-10,34],[-21,71],[-4,10],[-57,158],[-4,16],[-15,55],[-5,17],[-12,67],[-7,57],[0,83],[8,40],[12,39],[27,63],[35,51],[17,25],[102,138],[24,33],[56,112],[10,27],[19,52],[25,73],[34,117],[9,33],[9,36],[15,58],[12,69],[3,15],[5,21],[8,26],[10,26],[6,15],[21,50],[9,21],[27,80],[18,75],[18,92],[2,7],[0,2],[7,47],[19,116],[2,4],[33,57],[19,49],[2,5],[14,57],[8,48],[4,16],[10,46],[22,85],[15,56],[1,3],[14,52],[16,47],[38,109],[28,69],[23,78],[2,12],[5,35],[4,47],[-1,14],[1,4],[9,45],[4,35],[8,123],[9,53],[6,29],[8,58],[13,163],[0,57],[-1,34],[0,22],[-3,60],[-9,78],[1,113],[3,38],[3,28],[3,66],[0,12],[5,5],[12,44],[5,31],[2,26],[9,45],[1,2],[6,46],[2,32],[4,43],[1,15],[3,49],[15,102],[18,101],[5,65],[1,26],[3,44],[-1,72],[-10,131],[-2,26],[-1,10],[-15,83],[-6,36],[-6,25],[-12,52],[-6,19],[-15,47],[-2,5],[-4,21],[-2,9],[-6,48],[-12,60],[-7,34],[-18,128],[4,111],[1,32],[1,26],[1,21],[5,33],[1,9],[22,59],[5,6],[15,21],[33,30],[72,47],[19,11],[64,37],[17,9],[4,4],[19,12],[25,29],[2,2],[17,31],[7,18],[3,7],[2,4],[6,3],[5,-2],[10,-6],[28,-9],[11,-7],[13,-6],[45,-4],[22,9],[27,17],[35,47],[20,43],[39,133],[10,66],[3,30],[-2,68],[-1,20],[-12,105],[0,9],[21,80],[2,5],[13,82],[4,43],[0,124],[-14,232],[-1,19],[-5,160],[5,91],[14,81],[10,20],[16,24],[50,31],[8,-5],[6,-5],[14,-18],[14,-33],[32,-38],[27,-18],[13,-9],[26,-6],[30,10],[24,24],[14,22],[3,5],[25,71],[10,77],[8,44],[19,51],[29,43],[3,8],[17,55],[9,21],[6,27],[12,85],[9,14],[14,21],[26,3],[26,-7],[61,-52],[20,-35],[16,-58],[23,-61],[12,-19],[11,-9],[10,-8],[52,-7],[60,17],[58,42],[17,14],[5,5],[15,18],[9,24],[25,66],[2,9],[27,61],[7,13],[19,59],[8,43],[-2,23],[4,35],[4,86],[-1,8],[-6,33],[-1,9],[0,11],[-4,14],[9,26],[3,7],[8,4],[15,24],[20,44],[1,3],[-1,14],[4,13],[6,3],[11,54],[4,20],[1,12],[6,35],[19,68],[3,11],[8,24],[6,12],[7,6],[52,46],[10,1],[3,10],[29,26],[30,45],[16,30],[16,40],[2,18],[2,15],[3,5],[0,1],[13,18],[22,52],[5,28],[4,38],[9,41],[-3,18],[2,44],[1,19],[7,35],[8,15],[11,24],[15,62],[4,8],[7,25],[13,83],[7,19],[17,39],[12,38],[15,42],[15,34],[12,22],[0,1],[5,16],[4,28],[19,46],[11,22],[7,23],[1,12],[3,0],[5,-10],[9,-10],[5,-30],[16,-21],[22,-4],[24,4],[23,15],[20,25],[9,18],[5,13],[12,11],[25,34],[6,25],[3,41],[8,6],[7,20],[5,19],[8,18],[8,22],[20,3],[14,-1],[9,-30],[2,-28],[0,-26],[18,-25],[18,-70],[-16,-101],[-18,-37],[-19,-8],[-32,-37],[-7,-16],[-1,-24],[-11,-2],[-7,-13],[-5,-14],[-1,-14],[8,-20],[1,-14],[5,-61],[9,-9],[3,-18],[-4,-3],[-8,14],[-7,4],[-7,-8],[5,-33],[5,-27],[2,-13],[0,-11],[-10,12],[-11,23],[-1,45],[3,9],[4,18],[-9,47],[-8,15],[-7,12],[-13,3],[-10,-3],[1,-19],[0,-10],[-8,-1],[-4,15],[-8,7],[-13,-1],[-13,-7],[-18,-15],[-13,-17],[-2,-10],[-3,-23],[1,-22],[-3,-18],[-10,-19],[-6,-21],[-11,-18],[-14,-49],[2,-37],[9,-25],[6,-54],[0,-1],[12,-45],[6,-14],[7,-9],[7,-7],[4,4],[5,-1],[5,-46],[-6,-20],[-4,-8],[0,-36],[13,-41],[7,-9],[3,-7],[0,-17],[11,-30],[5,-13],[7,-25],[5,-23],[-2,-19],[4,-13],[10,-10],[9,-2],[7,5],[2,22],[6,-6],[-1,-15],[5,-14],[6,-11],[-1,-16],[8,-12],[3,-11],[-1,-23],[1,-19],[-1,-19],[-2,-16],[4,-19],[-1,-33],[-5,-14],[-8,-5],[-13,17],[-9,31],[-7,37],[-1,16],[0,2],[-2,12],[-11,4],[-11,-2],[-8,-11],[-4,-16],[-1,-30],[0,-9],[-2,-10],[-11,-6],[-8,-11],[-2,-25],[0,-50],[-7,-33],[0,-40],[-1,-6],[0,-32],[-9,-21],[-3,-6],[-8,-18],[-12,-26],[-11,-14],[-7,-6],[-24,-51],[-6,-6],[-10,0],[-10,-11],[-4,-16],[-12,-21],[-3,-39],[-10,-27],[-7,-14],[-2,-35],[-8,-19],[0,-1],[-4,-16],[0,-1],[-8,-9],[-2,-16],[-3,-14],[-2,-6],[4,-20],[5,-10],[4,-7],[13,-12],[4,8],[3,4],[4,-7],[4,-8],[3,-5],[9,-3],[11,1],[6,5],[3,24],[5,9],[7,8],[10,14],[14,33],[18,40],[8,33],[5,33],[10,7],[9,-6],[6,-10],[2,-8],[-2,-12],[3,-16],[-3,-22],[3,-14],[-5,-27],[-7,-31],[1,-14],[-2,-38],[4,-27],[0,-20],[-5,-18],[-3,-19],[4,-22],[1,-22],[0,-14],[-2,-24],[-2,-13],[1,-29],[-1,-17],[-4,-19],[2,-12],[-1,-18],[2,-22],[1,-13],[2,-12],[7,-34],[0,-4],[-16,-2],[-4,0],[-7,-6],[-10,-1],[-14,5],[-17,-7],[-14,-17],[-1,-16],[-9,-45],[-8,-49],[4,-11],[-11,-33],[-9,-40],[1,-7],[-5,-7],[-2,-10],[2,-11],[-2,-10],[-7,-15],[-19,-55],[-2,-15],[-10,-64],[-1,-18],[5,-35],[-4,-16],[1,-22],[0,-17],[-6,-26],[1,-18],[-7,-53],[2,-12],[3,-20],[-3,-26],[3,-55],[-2,-31],[11,-55],[6,-34],[9,-35],[2,-12],[5,-36],[7,-19],[3,-20],[7,-21],[8,-16],[2,-9],[-1,-16],[-3,-20],[3,-17],[1,-13],[-4,-9],[-8,-11],[2,-16],[-2,-17],[-4,-43],[-4,-15],[-1,-4],[-3,-24],[0,-2],[6,-25],[14,-22],[22,-20],[11,-3],[4,5],[10,-4],[2,-1],[1,-5],[0,-6],[22,-5],[7,2],[18,3],[20,4],[13,9],[6,14],[-3,27],[0,23],[9,35],[5,25],[-2,11],[0,4],[7,36],[11,76],[11,34],[1,50],[8,40],[2,15],[-1,27],[14,28],[5,5],[5,6],[11,24],[5,22],[10,27],[-1,17],[7,28],[-1,9],[4,9],[10,39],[1,29],[8,30],[6,51],[8,18],[8,33],[10,7],[26,38],[17,37],[5,38],[0,30],[5,15],[1,12],[-4,22],[0,16],[1,4],[9,29],[4,6],[5,4],[0,14],[-1,3],[-10,17],[-17,18],[-17,-5],[-13,6],[-12,1],[-6,-6],[-2,-16],[0,-14],[-2,-15],[-8,-9],[-6,-24],[-4,-14],[-8,-13],[-5,2],[-3,-1],[-4,9],[0,1],[-3,12],[-4,11],[-5,17],[-1,12],[9,18],[3,13],[19,32],[14,31],[10,37],[8,17],[20,30],[4,17],[-1,16],[1,10],[11,20],[5,11],[-1,9],[-2,5],[8,19],[0,21],[6,14],[4,13],[-1,56],[-1,16],[2,21],[6,13],[10,19],[3,28],[1,16],[9,35],[-2,16],[-3,14],[-1,23],[7,60],[22,19],[5,11],[24,15],[15,13],[11,20],[4,16],[3,23],[7,14],[6,6],[37,11],[15,-2],[5,-25],[2,-11],[1,-15],[5,-24],[2,-15],[1,-39],[7,-27],[-2,-15],[4,-20],[7,-28],[2,-34],[-6,-18],[-19,4],[-7,10],[-7,4],[-11,10],[-7,0],[-8,-4],[-10,-23],[0,-17],[8,-19],[1,-10],[0,-7],[-4,-12],[2,-8],[-1,-24],[-2,-29],[-4,-25],[-6,-23],[-2,-32],[1,-9],[-6,-44],[0,-40],[4,-17],[4,-20],[0,-19],[-2,-22],[-4,-6],[-6,-24],[0,-12],[3,-18],[10,-36],[-3,-13],[0,-28],[-5,-21],[-2,-22],[-5,-8],[0,-27],[-1,-26],[-4,-22],[-4,-18],[-5,-10],[-5,-26],[-3,-21],[3,-12],[4,-13],[-1,-32],[-9,-27],[-1,-21],[4,-29],[-8,-2],[-6,-11],[-10,-16],[-3,-20],[-2,-19],[-5,-4],[-7,-2],[-9,-7],[-14,-6],[-3,-8],[0,-10],[-7,-11],[-10,-6],[-12,-4],[-13,-15],[-1,-7],[-1,-10],[-6,-10],[-8,-3],[-8,-9],[-10,-25],[-15,-36],[0,-14],[-4,-10],[-10,-12],[-14,-33],[0,-2],[-7,-33],[-2,-17],[-5,-17],[-1,-19],[7,-20],[1,-10],[-4,-20],[-4,-8],[3,-15],[-2,-26],[-1,-4],[-3,-26],[3,-20],[3,-18],[0,-13],[-8,-13],[-5,-32],[-4,-19],[-1,-1],[0,-11],[-3,-2],[-6,-6],[-9,-24],[-2,-22],[-2,-12],[-3,-25],[-6,-16],[-2,-6],[-4,-10],[-2,-12],[4,-13],[3,-9],[11,-19],[19,-23],[27,-22],[10,-9],[31,-12],[22,-4],[37,6],[3,6],[5,13],[9,29],[22,54],[15,27],[12,17],[2,4],[6,19],[1,4],[2,36],[-6,20],[-2,4],[5,21],[-1,27],[-4,17],[-9,18],[-1,11],[1,1],[2,11],[4,18],[2,17],[-2,20],[3,8],[9,16],[11,40],[3,10],[8,5],[7,8],[12,8],[6,9],[4,5],[13,17],[32,35],[11,14],[28,69],[0,1],[-1,41],[5,37],[4,9],[25,82],[5,36],[0,33],[10,15],[6,18],[12,15],[17,44],[9,25],[19,69],[5,22],[7,20],[1,2],[4,32],[1,9],[0,36],[1,19],[0,11],[2,4],[7,17],[10,10],[2,25],[11,6],[15,23],[4,12],[-1,11],[6,13],[3,8],[-1,10],[0,17],[7,23],[1,22],[5,20],[8,20],[14,57],[1,27],[2,20],[1,19],[9,35],[5,26],[3,14],[0,17],[-5,27],[2,28],[9,47],[9,25],[1,10],[5,39],[4,52],[-6,23],[2,37],[-1,18],[-4,13],[2,7],[3,10],[2,7],[6,22],[1,16],[7,19],[8,39],[-1,34],[-9,43],[-5,25],[-4,23],[0,22],[3,19],[0,19],[-2,27],[-1,15],[1,18],[5,29],[2,29],[-5,49],[0,4],[10,77],[14,38],[7,20],[8,21],[8,31],[0,21],[-1,11],[-6,8],[-6,5],[0,14],[5,33],[7,52],[0,26],[2,22],[-3,8],[0,10],[5,17],[4,48],[-1,9],[-2,9],[4,21],[2,39],[-6,32],[-5,12],[-10,38],[-9,39],[-2,17],[-1,10],[-1,4],[-6,54],[-5,46],[-3,14],[-8,8],[-2,7],[3,32],[4,18],[0,19],[-1,18],[2,15],[-1,17],[-2,10],[3,24],[-1,20],[0,28],[-3,20],[0,35],[-2,37],[-7,8],[-3,13],[-2,19],[1,12],[-1,10],[-5,9],[-4,0],[-5,17],[4,15],[2,33],[-4,13],[1,15],[1,14],[1,25],[-7,18],[0,2],[-1,21],[2,24],[2,11],[-2,14],[-5,8],[5,11],[1,29],[2,14],[-3,15],[5,16],[2,16],[-1,16],[-7,8],[0,13],[1,11],[3,12],[6,16],[7,37],[-1,13],[4,11],[6,23],[-1,14],[10,49],[11,39],[4,29],[7,53],[11,20],[7,26],[7,-1],[12,7],[13,23],[3,24],[-2,15],[-4,11],[-9,2],[-2,0],[-2,8],[7,8],[8,-4],[1,-2],[2,-9],[6,-13],[11,-2],[11,4],[17,16],[16,31],[7,25],[1,3],[1,30],[11,24],[10,17],[2,4],[13,3],[8,-3],[13,9],[16,17],[4,14],[3,11],[3,14],[7,19],[9,16],[4,29],[6,10],[4,13],[6,4],[9,-15],[6,-17],[-1,-13],[4,-11],[6,-7],[7,-1],[19,4],[8,6],[14,2],[11,-1],[1,1],[9,8],[18,18],[2,1],[2,8],[4,-2],[2,3],[10,21],[14,27],[1,1],[9,42],[6,32],[-2,20],[4,22],[21,7],[5,-11],[6,1],[8,-4],[7,4],[12,20],[1,1],[18,24],[1,2],[9,12],[13,26],[1,0],[0,1],[13,24],[0,1],[5,15],[13,20],[-1,15],[10,7],[7,9],[4,10],[23,-10],[13,-4],[34,5],[9,5],[4,3],[4,2],[8,11],[7,0],[8,14],[6,-2],[9,9],[5,15],[7,3],[11,-6],[6,-1],[8,9],[4,13],[7,-4],[9,-4],[10,5],[7,8],[1,9],[6,6],[12,11],[7,-2],[10,-6],[8,-8],[1,0],[5,1],[11,-12],[3,1],[8,-14],[11,-3],[14,-6],[7,1],[10,-9],[11,-1],[5,5],[4,-5],[29,0],[11,-2],[6,-6],[14,3],[3,-1],[37,-3],[9,0],[45,-6],[4,-1],[41,-26],[18,5],[13,16],[31,33],[22,9],[16,17],[9,-2],[3,-9],[29,5],[7,-3],[15,-16],[12,4],[10,2],[6,5],[2,1],[12,19],[11,5],[17,15],[12,12],[22,11],[7,7],[9,-6],[6,5],[11,20],[22,20],[11,19],[5,0],[14,17],[5,1],[18,0],[6,6],[12,27],[22,14],[7,4],[0,2],[4,19],[6,30],[1,30],[-1,58],[-4,30],[0,3],[-7,32],[-1,3],[-9,16],[-9,17],[-11,8],[-9,-1],[-8,3],[-27,11],[-15,1],[-24,12],[-18,13],[-30,-1],[-21,-1],[-3,0],[-10,11],[-9,2],[-11,4],[-1,-1],[-15,-7],[-14,-7],[-2,-19],[0,-1],[5,-8],[18,-29],[22,-6],[-1,-10],[-4,-1],[-18,7],[-12,13],[-11,4],[-7,9],[-5,8],[-6,7],[-12,19],[-14,-1],[-9,12],[-13,18],[-7,11],[-9,6],[-17,1],[-9,8],[-13,2],[-7,4],[-8,7],[-16,0],[-5,10],[-9,5],[-15,26],[-6,19],[-9,16],[-2,4],[-15,21],[-5,14],[-8,17],[-11,4],[-4,16],[-3,6],[-7,11],[-6,15],[-4,18],[-7,20],[-8,17],[-12,32],[-10,28],[-10,20],[-15,31],[-6,10],[-5,7],[-1,2],[-6,19],[-2,23],[-4,28],[-2,38],[-7,63],[-8,41],[-4,28],[-12,34],[-11,53],[-1,26],[-6,46],[-3,30],[-12,73],[-1,22],[1,27],[-1,19],[-2,22],[-1,5],[-3,20],[0,33],[1,39],[-8,60],[4,51],[5,37],[17,52],[1,1],[13,26],[47,92],[7,34],[0,15],[9,25],[13,23],[17,45],[12,51],[1,4],[3,47],[13,24],[2,15],[5,11],[7,4],[8,13],[3,10],[6,8],[9,2],[15,1],[12,9],[9,11],[10,13],[5,14],[4,0],[4,-3],[10,6],[17,19],[7,1],[9,9],[6,-3],[23,14],[5,6],[8,2],[28,40],[19,41],[5,31],[11,40],[5,23],[3,26],[-2,17],[5,20],[17,25],[7,-12],[10,-3],[7,1],[16,15],[16,27],[9,23],[8,41],[14,34],[9,1],[16,30],[4,25],[7,22],[14,9],[7,5],[3,10],[3,32],[3,38],[4,27],[1,30],[-6,25],[-29,71],[-7,5],[-5,10],[-7,5],[-12,24],[-7,21],[-10,5],[-10,0],[-4,-4],[-7,12],[-6,-1],[1,13],[-3,16],[-13,23],[-8,-1],[-3,-7],[-7,-28],[0,15],[-40,7],[-8,17],[-13,9],[-32,20],[-2,0],[-9,17],[-1,2],[-2,13],[4,12],[4,21],[12,-8],[10,-12],[29,-17],[10,-10],[6,0],[28,3],[7,10],[5,-7],[5,-1],[6,2],[23,-2],[15,-8],[19,5],[40,4],[17,-2],[17,9],[43,-24],[2,-1],[33,-36],[14,-21],[9,-21],[13,-8],[20,8],[18,18],[15,26],[0,11],[4,12],[6,4],[7,6],[13,-4],[39,-35],[31,-22],[21,-5],[14,-17],[20,-17],[12,3],[17,17],[13,24],[2,18],[8,7],[10,-2],[13,-15],[8,-17],[8,-6],[9,-13],[14,-4],[5,1],[19,7],[23,28],[1,0],[3,9],[8,6],[15,37],[10,36],[6,42],[-1,30],[-4,12],[-20,1],[-3,0],[2,7],[1,24],[-2,10],[-15,20],[-3,17],[5,13],[38,43],[20,15],[5,3],[10,-7],[16,-11],[8,-6],[22,-19],[14,-12],[9,3],[23,8],[7,7],[9,14],[10,14],[5,-1],[12,0],[9,-10],[2,-12],[8,-14],[3,-17],[3,-5],[7,-9],[1,-16],[0,-5],[-7,-5],[-10,0],[-3,-1],[-2,-22],[3,-14],[0,-1],[1,-15],[5,-22],[5,-11],[8,-8],[4,3],[6,0],[18,-14],[4,-2],[36,-27],[0,-3],[2,-6],[9,-9],[14,-1],[30,-22],[5,-5],[1,-16],[-5,-10],[7,-28],[14,-10],[18,-18],[11,-3],[16,-12],[24,0],[17,-10],[13,-13],[2,-10],[11,-20],[9,-10],[21,-32],[23,-16],[37,-42],[18,-15],[14,-19],[103,-94],[41,-7],[14,-5],[2,-11],[1,-16],[2,-29],[7,-31],[4,-9],[19,-22],[25,-32],[-1,-11],[8,-16],[19,-16],[6,3],[21,-14],[20,-45],[19,-29],[14,-3],[9,-15],[12,1],[9,-7],[-1,-19],[15,-26],[4,-9],[1,-12],[5,-9],[12,-5],[2,-2],[11,-7],[3,-5],[7,-14],[2,-2],[16,-3],[5,-1],[13,-15],[11,-9],[1,-3],[1,-8],[5,-7],[7,-9],[19,0],[4,2],[22,8],[5,3],[14,1],[7,-12],[3,-6],[3,-15],[0,-1],[8,-11],[18,-37],[11,3],[12,15],[12,24],[7,30],[-3,15],[-13,17],[-14,17],[1,13],[-13,13],[-18,7],[2,6],[4,6],[6,-4],[12,27],[-2,11],[6,3],[22,4],[24,-3],[45,-50],[4,-4],[18,-15],[13,-11],[9,-4],[35,-31],[8,4],[17,15],[23,-1],[28,14],[30,20],[32,20],[17,1],[86,-60],[8,-13],[21,-15],[17,-4],[10,-8],[13,-16],[15,-18],[27,-29],[23,-11],[1,0],[8,-2],[9,-9],[20,-9],[2,-1],[30,-18],[5,-8],[18,-6],[8,2],[11,-1],[47,-21],[14,-25],[21,-40],[2,-4],[3,-13],[7,-16],[17,-13],[4,-17],[10,-22],[9,-22],[6,-10],[22,-70],[9,-6],[5,-24],[16,-27],[7,-9],[-2,-10],[4,-15],[6,-13],[14,-7],[11,-14],[6,0],[-1,-19],[3,-17],[58,-97],[8,-11],[4,-17],[5,-22],[7,-6],[5,-22],[7,-17],[7,-48],[-2,-23],[-1,-38],[2,-57],[3,-37],[3,-39],[2,-19],[7,-61],[8,-45],[11,-44],[13,-40],[12,-26],[18,-33],[26,-32],[20,-24],[21,-18],[25,-15],[9,-4],[11,-6],[22,-3],[24,3],[27,19],[6,10],[12,0],[8,8],[11,10],[1,11],[-1,13],[26,-5],[7,-7],[19,-5],[14,3],[21,-8],[3,-1],[9,-12],[9,-13],[14,-7],[13,-1],[21,4],[20,13],[19,8],[10,3],[10,6],[13,0],[6,-11],[12,-5],[10,3],[17,3],[4,3],[19,-4],[4,-4],[16,-4],[7,2],[41,-25],[4,-7],[10,-9],[28,-12],[16,-8],[7,-12],[5,-16],[18,-31],[8,-20],[18,-28],[27,-28],[9,-14],[24,-56],[10,-11],[9,-30],[29,-67],[5,-12],[24,-41],[10,-16],[12,-20],[10,-19],[9,-10],[18,-8],[7,4],[2,10],[3,-8],[3,-11],[0,-1],[1,-2],[1,-14],[5,-13],[8,-16],[20,-12],[5,-2],[9,-9],[9,-16],[2,-14],[14,-12],[34,-19],[25,-9],[20,4],[13,3],[2,3],[17,6],[0,-4],[-11,-4],[-10,-7],[-16,-18],[5,-24],[1,-2],[22,-23],[16,-8],[11,3],[13,4],[7,17],[2,4],[1,10],[2,6],[7,-2],[5,-5],[3,-2],[0,-1],[10,-8],[12,-15],[7,-21],[7,-16],[12,-1],[0,1],[10,14],[-1,1],[0,6],[-1,9],[0,1],[5,28],[4,6],[19,4],[28,10],[19,13],[10,-16],[9,-16],[10,-41],[5,-28],[10,-19],[5,-15],[13,-20],[23,-20],[8,-15],[10,-11],[6,1],[7,-2],[8,-8],[5,-16],[17,-20],[7,-5],[7,0],[12,-8],[14,-17],[29,-41],[25,-42],[13,-9],[3,-2],[13,-28],[14,-17],[10,-1],[20,-10],[13,0],[7,6],[9,-3],[8,-7],[13,-18],[5,-4],[1,-10],[6,-14],[2,-22],[10,-20],[1,-1],[8,-3],[7,9],[2,5],[1,4],[5,2],[7,-13],[1,-6],[2,-7],[4,-4],[6,10],[0,14],[5,17],[6,-3],[4,-20],[6,-20],[12,-6],[6,-17],[3,-1],[10,-5],[6,3],[5,20],[5,11],[4,0],[9,-6],[13,-7],[8,-3],[10,5],[7,7],[11,15],[2,12],[-2,19],[4,17],[25,-2],[8,-7],[6,-6],[30,-43],[15,-34],[19,-7],[10,-5],[20,-19],[13,-16],[21,-17],[3,-2],[8,10],[1,13],[0,33],[1,18],[0,13],[-7,18],[-4,22],[-7,15],[-1,6],[-3,16],[3,7],[8,2],[13,-10],[6,-8],[1,-18],[2,-17],[5,-18],[9,-25],[7,-5],[14,-21],[3,-7],[-3,-9],[-1,-14],[-10,3],[-6,0],[-11,2],[-9,-13],[-4,-21],[1,-20],[10,-37],[13,-29],[4,-6],[7,-9],[8,2],[4,9],[-1,40],[3,7],[3,0],[10,-11],[6,9],[11,-7],[9,-12],[0,-13],[-4,-11],[1,-20],[3,-17],[0,-14],[7,-21],[12,-3],[13,3],[0,1],[5,4],[4,8],[2,-6],[-1,-17],[0,-15],[3,-14],[11,-17],[3,-15],[1,-21],[5,-10],[10,-7],[12,-9],[13,-6],[1,-1],[2,-6],[7,-16],[6,-14],[11,-17],[7,-1],[-1,-19],[3,-38],[13,-8],[24,-12],[9,-5],[1,0],[14,-19],[9,-15],[13,-21],[0,-1],[5,-8],[6,-15],[19,-11],[11,-22],[12,-40],[-2,-10],[-9,-33],[-5,-19],[1,-24],[-5,-28],[-2,-6],[-12,-21],[-22,11],[-16,9],[-10,0],[-18,5],[-7,1],[-7,2],[-4,-4],[-5,-10],[2,-11],[0,-1],[4,-8],[9,-4],[7,-7],[8,-11],[0,-17],[-10,-10],[0,-50],[6,-23],[7,-12],[2,-13],[1,-20],[9,-36],[8,-17],[6,-14],[10,-7],[10,-22],[-4,-6],[-5,-7],[0,-21],[14,-18],[10,-27],[0,-13],[5,-15],[8,-10],[6,-20],[9,-1],[5,3],[3,-15],[8,-26],[11,-38],[10,-43],[2,-20],[3,-16],[5,-6],[1,-6],[-6,-9],[-1,-31],[4,-49],[5,-13],[6,-7],[3,-6],[-2,-13],[3,-11],[12,-28],[10,-4],[8,4],[5,-7],[14,-6],[5,-13],[2,-13],[8,-39],[14,-26],[7,-28],[9,-32],[8,-9],[6,11],[3,21],[17,-10],[29,-24],[1,-16],[-11,-19],[-9,0],[-1,-7],[1,-10],[0,-15],[2,-9],[5,-11],[5,-21],[4,3],[4,-6],[6,-12],[2,-12],[-7,-15],[-8,-8],[-6,-17],[-2,-20],[1,-5],[9,2],[1,-7],[-4,-7],[0,-13],[7,-16],[16,-5],[4,-28],[-2,-10],[-9,-18],[-3,-22],[4,-17],[8,-9],[10,-5],[13,-23],[5,-8],[13,-40],[3,-16],[-7,-53],[24,-70],[6,-11],[7,-16],[-3,-6],[-5,-12],[-2,-47],[12,-24],[-15,2],[-19,-5],[-14,-9],[-9,-16],[-8,-32],[4,-23],[22,-13],[16,2],[18,-14],[15,-9],[10,7],[5,-3],[7,-2],[4,-8],[10,-30],[9,-14],[-1,-11],[8,-40],[11,-53],[9,-10],[8,2],[0,-9],[-7,-6],[-1,-8],[-5,-24],[-4,12],[-2,9],[-8,0],[-5,7],[-7,-4],[-16,15],[-35,12],[-29,30],[-19,8],[1,11],[-9,11],[-14,-3],[-6,0],[-8,3],[-6,8],[-9,20],[-7,8],[-12,0],[-15,1],[-22,18],[-19,10],[-15,26],[-11,26],[-3,16],[-5,4],[-18,-2],[-5,5],[-7,19],[-12,26],[0,9],[-6,6],[-8,33],[2,38],[0,20],[-13,30],[-6,19],[-15,10],[-5,-6],[-13,2],[-9,-5],[-9,-8],[-6,-1],[-1,-1],[-3,-6],[0,-10],[1,-22],[-8,-5],[-7,3],[-6,10],[-7,2],[-9,-8],[-9,-15],[-9,-10],[0,3],[2,6],[-9,17],[-3,-3],[4,-9],[0,-5],[-1,-2],[2,-4],[-1,-3],[-5,-5],[-20,-6],[-1,18],[-2,-1],[-2,-2],[-1,-11],[0,-33],[-8,-9],[-3,1],[-2,2],[-2,1],[-5,7],[-4,-5],[-1,-2],[1,-1],[4,-5],[-8,-19],[-7,-5],[-5,6],[-11,-3],[-13,-23],[-14,-31],[-12,-40],[-6,-22],[-1,-14],[-1,-21],[-8,-23],[-8,-34],[2,-19],[9,-9],[7,-14],[-4,-2],[-7,10],[-6,3],[-5,-14],[-5,-16],[3,-29],[9,-24],[6,-8],[5,0],[8,-9],[36,-39],[14,-32],[-12,-52],[-13,15],[-15,7],[-13,2],[-7,-14],[-4,-12],[-11,-20],[7,-39],[5,-34],[6,-41],[4,-14],[4,-23],[1,-61],[-1,-22],[1,-60],[6,-93],[8,-44],[8,-50],[20,-65],[1,-4],[24,-47],[17,-7],[3,-5],[17,-27],[10,-8],[22,-19],[1,-19],[9,-24],[10,-12],[10,-10],[-4,-26],[3,-21],[6,-18],[8,1],[7,-9],[13,-5],[15,-6],[6,5],[7,-3],[7,4],[-1,-11],[1,-14],[2,-12],[12,-15],[10,-19],[12,-22],[13,-3],[11,-15],[14,-15],[8,-10],[10,-5],[11,2],[8,8],[11,-12],[8,-4],[15,5],[9,-19],[12,-1],[15,-10],[9,11],[18,7],[-9,-18],[-1,-18],[-3,-19],[-6,-12],[-1,-12],[0,-19],[11,-20],[-4,-25],[-6,-20],[-5,-20],[-6,-17],[-2,-19],[2,-27],[9,-33],[9,-23],[5,-32],[9,-21],[11,-11],[-1,-12],[7,-15],[10,-10],[-1,-10],[12,-31],[2,-45],[-2,-30],[6,-29],[9,-37],[2,-7],[5,-21],[1,-19],[-4,-28],[1,-31],[4,-13],[-1,-10],[-7,-20],[1,-33],[-5,-21],[1,-26],[1,-48],[4,-25],[1,-20],[6,-2],[0,-28],[5,-16],[1,-13],[-4,-13],[-5,-23],[-7,-9],[-6,-21],[-3,-21],[2,-36],[5,-10],[-4,-10],[1,-16],[4,-9],[-1,-16],[7,-52],[12,-62],[21,-62],[36,-64],[7,-5],[0,-20],[3,-17],[-5,-2],[-8,-22],[-2,-29],[1,-14],[-4,-21],[-2,-20],[2,-28],[-3,-29],[-7,-23],[0,-25],[-9,-29],[-3,-20],[0,-16],[-1,-14],[-6,-23],[-2,-34],[-3,-20],[0,-4],[4,-18],[-7,-7],[-1,-25],[-7,-36],[-1,-3],[-4,-30],[-11,-20],[-23,-66],[-5,-14],[-16,-57],[-8,-55],[-8,-49],[-7,-69],[-3,-86],[-1,-26],[2,-33],[2,-35],[0,-48],[3,-134],[1,-39],[14,-94],[5,-25],[2,-25],[-5,-20],[-10,-65],[-22,-140],[-1,-3],[-1,-23],[-1,-26],[3,-59],[4,-63],[-3,-62],[-7,-74],[-4,-50],[-8,-83],[-4,-38],[-4,-79],[-3,-17],[-1,-124],[0,-6],[2,-26],[5,-64],[0,-11],[1,-6],[0,-3],[10,-48],[4,-18],[-1,-2],[-3,-18],[-11,-62],[-3,-14],[-5,-56],[-15,-92],[-6,-38],[-5,-118],[1,-19],[4,-58],[4,-67],[-3,-25],[-1,-6],[-12,-28],[-11,-17],[-12,-3],[-26,13],[-5,2],[-14,4],[-21,-4],[-20,-19],[-11,-20],[-2,-5],[-34,-77],[-9,-17],[-16,-28],[0,-1],[-14,-38],[-19,-46],[-41,-60],[-17,-55],[-21,-125],[-8,-18],[-6,-9],[-11,-39],[-40,-94],[-16,-21],[-30,-18],[0,24],[2,5],[3,6],[19,8],[2,14],[6,3],[10,34],[6,14],[3,18],[11,8],[0,29],[-4,20],[-14,24],[-24,24],[-26,16],[-7,4],[-28,8],[-27,3],[-11,-5],[-9,-8],[-9,0],[-3,-5],[-18,-3],[-4,-2],[-15,-6],[-2,-2],[-26,-22],[-1,-1],[-9,-18],[-6,-23],[-14,-15],[-23,-42],[-2,-6],[2,-9],[-3,-9],[-7,-11],[-12,-22],[-12,-30],[0,-1],[-3,-6],[-5,-15],[-16,-58],[-22,-112],[-2,-22],[-9,-95],[-2,-18],[0,-35],[-3,-69],[-4,-35],[-1,-31],[-4,-12],[-5,-37],[-4,-50],[-7,-31],[-12,-85],[-9,-62],[-1,-40],[-1,-52],[0,-7],[3,-16],[-2,-75],[-2,-12],[-1,-35],[4,-58],[6,-41],[1,-8],[3,-29],[1,-27],[1,-12],[-10,-2],[-6,-2],[-13,-27],[-1,-1],[-5,-25],[-8,-16],[-11,-30],[-12,-22],[-15,-34],[-9,-53],[-1,-43],[4,-35],[21,-105],[16,-51],[-2,-8],[-29,19],[-42,24],[-31,12],[-35,0],[-96,-31],[-31,-39],[-16,-22],[-4,-4],[-20,-21],[-15,-24],[-12,-20],[0,-42],[-3,-9],[-2,-5],[-4,-9],[-3,-8],[-1,-6],[-1,-37],[0,-1],[-1,-48],[-1,-34],[14,-144],[11,-24],[-3,-19],[-8,-19],[-9,1],[-9,18],[-8,-3],[-17,2],[-7,13],[-11,-2],[-6,11],[-5,-6],[-3,-3],[-5,20],[-5,23],[-8,9],[-17,-9],[-8,-17],[-8,-3],[-5,-23],[-4,-3],[-1,21],[-2,5],[-4,18],[-7,18],[-4,21],[-5,11],[-8,0],[-12,-12],[-14,-10],[-3,-23],[-6,-14],[-9,-7],[-1,-10],[0,-6],[-10,-22],[-6,-3],[-2,4],[-10,13],[-13,-4],[-1,-12],[5,-10],[-1,-1],[-2,-12],[-24,-4],[-45,0],[-6,2],[-24,6],[-15,25],[-5,0],[-3,-15],[-9,-11],[-20,-3],[-17,5],[-20,6],[-13,-4],[-6,-1],[-18,12],[-11,-2],[-6,-4],[-10,5],[-4,3],[-3,-10],[-6,-14],[-3,-23],[-12,-6],[-5,-8],[-4,-12],[-9,-4],[-9,4],[-7,-20],[3,-20],[1,-10],[-2,-2],[-3,-2],[-11,-10],[-9,-14],[2,-36],[-8,-16],[-11,-18],[0,-18],[-15,-5],[-9,21],[-1,0],[-14,-6],[-9,-13],[-2,-10],[-2,-15],[0,-3],[-5,-17],[-1,-12],[-2,-11],[-1,-7],[-4,-36],[3,-15],[-1,-2],[-10,-30],[-7,-37],[-5,-22],[0,-30],[-11,-37],[-6,-13],[-9,-12],[-6,-7],[-15,-19],[-4,9],[-9,-5],[-9,-16],[-2,-41],[0,-9],[2,-49],[-11,-136],[1,-139],[-7,-80],[-12,-25],[7,-16],[-5,-48],[-4,-32],[6,-128],[-1,-36],[-1,-81],[1,-28],[-6,-20],[-3,-11],[-6,-34],[-7,-20],[-7,-61],[-6,-79],[-8,-49],[-4,-15],[-13,-21],[-18,-10],[1,-65],[-16,-29],[-7,20],[-19,-13],[-2,-17],[1,-72],[6,-39],[16,-43],[0,-7],[2,-43],[4,-26],[1,-26],[4,-22],[11,-71],[33,-114],[0,-2],[10,-33],[7,-27],[22,-70],[17,-61],[10,-22],[7,-16],[37,-55],[3,-6],[15,-17],[15,-7],[11,-10],[3,-15],[2,-8],[56,-55],[30,-37],[8,-2],[7,-4],[5,13],[18,43],[10,7],[9,5],[7,-8],[8,-28],[32,-40],[21,-4],[5,-9],[1,-48],[33,-26],[20,5],[14,3],[42,-24],[48,-34],[43,-31],[26,-18],[35,-23],[39,-55],[40,-44],[34,-46],[6,-43],[6,-52],[0,-3],[45,-34],[3,-2],[20,35],[5,8],[32,4],[14,35],[1,1],[16,6],[4,21],[1,2],[15,23],[18,28],[24,55],[18,39],[2,5],[30,54],[27,63],[13,29],[5,13],[36,82],[16,23],[8,32],[3,9],[6,15],[18,50],[6,17],[26,58],[15,15],[5,16],[16,55],[11,31],[11,-13],[14,2],[0,40],[16,31],[-8,33],[43,82],[6,-9],[5,2],[9,18],[1,13],[25,46],[4,5],[4,2],[16,5],[5,-1],[5,-12],[2,-12],[1,-8],[0,-2],[7,-6],[15,-15],[11,8],[4,-3],[11,-8],[2,-29],[22,1],[1,37],[20,19],[18,44],[24,47],[11,17],[5,9],[1,0],[1,2],[0,30],[1,2],[0,20],[-2,2],[-15,13],[-21,22],[-3,13],[14,38],[9,-3],[4,-15],[26,-20],[2,0],[14,6],[18,57],[11,37],[8,27],[13,39],[12,85],[24,83],[0,18],[1,19],[2,14],[1,2],[1,5],[7,34],[4,21],[3,14],[2,9],[2,10],[3,18],[1,2],[10,25],[5,23],[-18,31],[-11,37],[-17,-3],[-7,2],[-26,-21],[1,-20],[-1,0],[-12,-5],[-16,1],[-14,0],[-7,-14],[-1,-1],[-7,-61],[-10,-49],[-4,-25],[-15,-26],[0,-14],[-10,3],[-9,3],[-9,13],[-9,5],[1,7],[2,8],[12,1],[0,33],[7,18],[2,4],[3,8],[15,-10],[12,20],[-6,12],[0,19],[8,14],[-2,19],[-5,16],[11,64],[-2,49],[14,2],[23,82],[11,11],[7,23],[-7,27],[2,42],[-1,20],[-8,24],[5,34],[13,17],[15,-2],[11,11],[6,-2],[8,-3],[19,-24],[-6,-23],[-1,-18],[-1,-7],[5,-8],[4,-6],[-12,-20],[-10,-24],[-4,-24],[4,-18],[5,1],[18,23],[31,-14],[-7,-29],[1,-15],[13,-9],[11,-10],[15,9],[5,32],[3,17],[18,28],[8,-26],[3,-49],[3,-14],[6,5],[1,24],[0,11],[-1,30],[4,31],[-1,23],[21,20],[4,13],[1,5],[2,5],[17,-5],[11,7],[0,5],[-2,19],[13,9],[5,-12],[-1,-21],[27,27],[12,21],[7,11],[2,4],[4,6],[5,9],[1,1],[5,9],[0,1],[11,17],[8,14],[2,3],[11,19],[19,63],[13,34],[3,52],[0,1],[1,23],[0,3],[-12,26],[-1,1],[-9,23],[-2,5],[-1,4],[-4,19],[-1,9],[-3,0],[-72,18],[-47,24],[-4,-8],[-7,1],[-4,9],[-17,-8],[-13,-1],[-21,-15],[-12,17],[-6,13],[-6,16],[-2,20],[10,14],[11,1],[21,-15],[18,-9],[23,-7],[45,0],[74,9],[21,2],[37,7],[28,18],[26,17],[17,22],[44,75],[0,1],[2,-1],[5,9],[-1,2],[0,2],[6,9],[-1,6],[2,-2],[4,10],[1,6],[5,5],[3,7],[0,5],[2,6],[3,10],[1,3],[0,1],[1,9],[6,23],[1,6],[27,55],[2,4],[9,22],[6,26],[10,46],[7,33],[1,36],[-2,9],[-1,6],[29,1],[20,3],[1,1],[12,5],[3,1],[12,12],[33,18],[11,2],[17,0],[17,5],[15,4],[18,7],[1,0],[24,8],[25,-14],[19,-2],[15,4],[16,8],[10,11],[6,14],[2,7],[19,-7],[18,6],[26,7],[19,14],[35,30],[29,38],[18,25],[6,14],[22,16],[15,-11],[39,-12],[55,-6],[1,0],[24,7],[20,12],[19,19],[5,4],[40,77],[9,26],[10,46],[0,2],[3,13],[1,5],[4,14],[-5,17],[6,5],[4,4],[4,10],[9,21],[4,18],[6,26],[0,7],[-1,3],[5,16],[4,15],[4,-2],[6,-7],[18,3],[7,4],[8,-3],[15,6],[27,6],[9,-5],[8,8],[4,3],[16,8],[1,1],[20,37],[3,6],[8,15],[2,2],[14,27],[4,14],[14,30],[2,4],[1,3],[8,10],[1,1],[11,8],[15,2],[2,-19],[0,-3],[7,-20],[4,-3],[9,-5],[18,-1],[10,9],[5,10],[36,30],[0,1],[10,8],[9,-2],[5,-2],[11,-3],[2,-1],[6,-10],[7,-14],[8,-11],[9,-11],[8,1],[28,-19],[10,-22],[10,-2],[2,-6],[3,-8],[-2,-13],[14,-27],[46,-48],[18,-2],[17,-9],[19,5],[5,-16],[1,0],[10,-5],[9,-5],[1,0],[1,1],[2,1],[9,-13],[26,-12],[6,2],[17,-12],[1,-1],[6,7],[3,-16],[1,-2],[10,-15],[24,-6],[1,0],[9,2],[10,-7],[0,-10],[1,-8],[2,-3],[5,-11],[14,-10],[6,1],[1,0],[16,-14],[23,-19],[1,-2],[8,-26],[7,-49],[10,-16],[7,-20],[1,0],[22,-7],[2,0],[21,5],[4,-2],[5,-1],[6,-15],[13,-24],[11,0],[2,-10],[3,-13],[14,-17],[0,-1],[8,-26],[1,-1],[3,-7],[9,-24],[1,-2],[11,-1],[1,-1],[8,-13],[1,-1],[10,-28],[0,-1],[5,-13],[4,-12],[15,-54],[4,-14],[2,-6],[0,-7],[2,-31],[8,-27],[5,-18],[1,-4],[9,-51],[2,-10],[3,-9],[2,-8],[4,-12],[2,-5],[11,-14],[8,-11],[0,-4],[6,-24],[1,-5],[1,-7],[8,-33],[8,-12],[5,-24],[1,-8],[4,-18],[-1,-16],[0,-21],[9,-21],[10,-9],[2,-27],[0,-8],[18,-35],[12,-31],[6,-22],[1,-15],[-7,-14],[0,-5],[-1,-21],[0,-6],[3,-39],[11,-31],[6,-63],[0,-4],[4,-8],[19,-31],[1,-1],[12,-20],[5,-9],[3,-4],[22,-29],[9,-12],[0,-1],[3,-3],[0,-1],[9,-30],[4,-23],[4,-26],[3,-19],[8,-2],[5,-16],[7,-18],[0,-50],[-15,-15],[-1,-15],[3,-8],[9,-33],[4,-6],[7,-11],[11,0],[4,-11],[9,-24],[0,-3],[3,-38],[-3,-19],[0,-6],[7,-19],[2,-16],[-1,-13],[6,-20],[5,-53],[11,-32],[-2,-15],[12,-41],[-1,-13],[-5,-12],[0,-23],[-3,-27],[14,-31],[7,-21],[11,-16],[1,-21],[0,-8],[3,-16],[1,-17],[-4,-7],[-9,-5],[-3,-15],[3,-68],[-3,-14],[-4,-19],[5,-33],[2,-42],[16,-34],[2,-11],[-2,-12],[5,-24],[1,-14],[-4,-19],[5,-21],[-5,-13],[-2,-24],[6,-49],[5,-35],[3,-11],[8,-30],[0,-7],[-7,-10],[-1,-14],[1,-2],[4,-10],[-4,-10],[-7,-5],[2,-25],[-3,-12],[12,-63],[2,-11],[-4,-18],[2,-29],[6,-36],[0,-4],[2,-43],[-5,-26],[0,-16],[-2,-20],[1,-28],[6,-33],[-2,-23],[1,-25],[1,-22],[5,-24],[3,-23],[-4,-22],[2,-13],[0,-15],[-2,-23],[5,-33],[6,-15],[5,-36],[-1,-18],[4,-31],[2,-22],[-10,-14],[-3,-12],[1,-16],[-1,-21],[0,-35],[4,-15],[0,-26],[4,-20],[-2,-14],[3,-29],[12,-39],[1,-30],[6,-25],[0,-15],[6,-70],[4,-47],[0,-6],[9,-24],[2,-19],[4,-20],[-4,-13],[1,-12],[-1,-51],[18,-76],[14,-48],[-1,-27],[16,-71],[2,-17],[-3,-19],[1,-12],[6,-28],[13,-33],[-1,-17],[1,-19],[1,-11],[-1,-34],[3,-18],[10,-26],[2,-11],[3,-19],[7,-15],[12,-19],[-3,-35],[0,-11],[-1,-15],[3,-14],[0,-20],[5,-29],[12,-29],[1,-9],[10,-18],[-4,-29],[-1,-28],[3,-21],[3,-9],[12,-32],[8,-31],[2,-8],[2,-17],[6,-19],[-1,-2],[-4,-9],[5,-12],[-3,-6],[-1,-3],[-3,-22],[-3,-15],[1,-16],[4,-22],[0,-12],[-2,-18],[1,-10],[2,-13],[-1,-19],[6,-23],[-7,-19],[-1,-29],[0,-5],[1,-29],[5,-23],[3,-30],[3,-11],[2,-24],[7,-25],[-3,-27],[-1,-10],[-1,-22],[2,-29],[-6,-37],[-1,-62],[-1,-13],[-4,-44],[0,-1],[2,-37],[7,-38],[3,-14],[10,-32],[2,-34],[3,-141],[-2,-27],[-5,-13],[-3,-45],[4,-19],[2,-26],[2,-19],[1,-17],[5,-50],[-1,-29],[1,-34],[0,-3],[1,-28],[0,-7],[1,-17],[6,-28],[9,-13],[1,-2],[0,-15],[-1,0],[-2,-1],[-7,-1],[-3,-21],[-3,-39],[5,-35],[1,-9],[5,-22],[-4,-14],[7,-71],[0,-96],[1,-29],[9,-51],[3,-35],[1,-15],[4,-14],[7,-23],[15,-49],[8,-42],[3,-34],[-3,-14],[18,-175],[1,-7],[6,-27],[-1,-24],[25,-144],[0,-12],[3,-55],[7,-116],[1,-21],[1,-1],[3,-19],[7,-24],[2,-32],[3,-50],[12,-33],[19,-53],[18,-33],[7,-34],[6,-33],[3,-19],[4,-21],[7,-39],[1,-6],[18,-58],[22,-81],[23,-89],[1,-1],[9,-35],[1,-3],[25,-76],[2,-8],[6,-26],[13,-34],[4,-18],[3,-16],[3,-25],[2,-15],[2,-1],[21,-18],[0,-1],[-6,-11],[-16,-32],[-2,-9],[-4,-15],[-2,-29],[6,-37],[8,-28],[1,-6],[8,-19],[13,-29],[2,-13],[-5,-42],[-5,-33],[-1,-7],[-20,-61],[-4,-3],[-15,-53],[-28,-52],[-20,-37],[-13,-24],[-2,-6],[-26,-81],[-28,-203],[-13,-72],[-7,-40],[0,-48],[1,-31],[5,-147],[-3,-54],[-9,-90],[-3,-33],[-18,-83],[-2,-10],[-4,-46],[-1,-18],[-5,-32],[-3,-36],[2,-14],[1,-17],[4,-19],[28,-130],[6,-25],[0,-18],[11,-94],[-2,-55],[-12,-52],[-41,-173],[-1,-40],[0,-84],[-33,-128],[-2,-8],[-9,-43],[-46,-242],[2,-93],[1,-127],[-5,-34],[-14,-86],[-10,-66],[-15,-51],[-7,-14],[-75,-110],[-6,-12],[-15,-50],[-5,-13],[-46,-70],[-9,-18],[-16,-34],[-6,-13],[-16,-90],[-19,-27],[-50,-16],[-3,-4],[-12,7],[-6,11],[-19,33],[-27,21],[-28,-1],[-25,-17],[-6,-5],[-20,-31],[-43,-67],[-16,-54],[-41,-102],[-6,7],[-3,57],[7,41],[28,20],[22,65],[44,56],[8,23],[3,25],[-16,43],[-14,23],[-15,8],[-18,-16],[-30,-41],[-16,-28],[-9,-19],[-5,0],[2,19],[-5,17],[-23,-17],[-4,5],[15,10],[6,50],[10,20],[12,13],[0,35],[20,36],[14,-18],[11,14],[-1,19],[20,3],[5,25],[7,49],[6,13],[-15,27],[-29,-21],[-9,23],[-16,10],[-34,-64],[-46,-27],[-33,39],[-6,56],[40,70],[46,-2],[12,24],[13,22],[10,6],[1,25],[-10,9],[-8,11],[-7,35],[-21,15],[1,17],[48,-3],[24,-12],[9,-8],[4,42],[-2,21],[-14,40],[3,16],[5,6],[16,-35],[5,21],[4,17],[11,56],[9,25],[15,-12],[20,-38],[11,-34],[13,0],[14,17],[15,42],[11,68],[-2,72],[0,3],[-24,63],[-14,18],[-21,-4],[-10,6],[-11,-5],[-8,-8],[-10,-16],[-21,51],[-22,30],[-8,11],[-1,2],[-18,24],[-17,13],[-20,11],[-10,0],[-25,2],[-16,-6],[-14,-21],[-1,-2],[-4,-11],[-8,-13],[-34,1],[-19,-6],[-4,-2],[-4,-4],[-13,-16],[-4,-11],[-7,-15],[1,-3],[4,-9],[-4,-10],[-7,-11],[-4,0],[-11,-1],[-4,5],[-16,-4],[-21,-25],[-11,-19],[-4,-7],[-7,-20],[1,-29],[-2,-29],[-7,0],[-3,-6],[-7,-1],[-2,0],[-26,-12],[-23,-16],[-14,9],[-23,14],[-1,0],[-17,-8],[-27,-42],[-6,-22],[-2,-5],[-4,-8],[-12,-25],[-2,-3],[-15,-78],[0,-1],[-2,-9],[-5,-27],[3,-79],[1,-1],[2,-7],[7,-18],[14,-18],[24,-18],[53,-37],[-11,-7],[-3,-16],[10,-39],[8,-4],[20,4],[16,1],[1,0],[7,-11],[3,-3],[2,-3],[7,-4],[3,-2],[-15,-10],[-12,8],[-18,-1],[-12,-6],[-1,-31],[-4,-18],[1,-26],[7,-17],[3,-24],[4,-31],[8,-16],[-6,-31],[3,-23],[-7,-10],[-15,38],[-26,21],[-44,2],[-2,-2],[-6,-7],[-2,-2],[-10,-2],[-4,2],[-1,1],[-4,2],[-7,3],[-44,-22],[-5,-9],[-6,-8],[-6,-9],[-11,-17],[1,-8],[2,-11],[-6,-3],[-5,-3],[-7,-3],[-7,-26],[2,-26],[-4,-21],[-31,-62],[-3,-9],[-26,-70],[-9,-25],[0,-23],[-3,-5],[-1,-3],[-8,-11],[-2,-15],[-2,-8],[-11,-79],[0,-1],[-4,-23],[-7,-52],[0,-6],[-1,-6],[0,-23],[-1,-33],[6,-2],[9,-5],[-3,-47],[-3,-52],[-11,0],[-1,-10],[0,-10],[8,-8],[0,-10],[4,-5],[10,-13],[9,-39],[9,-38],[3,-12],[-1,-5],[-2,-16],[1,0],[9,-14],[0,-4],[-1,-5],[1,-2],[3,-10],[-8,-20],[0,-1],[-1,-1],[-12,-93],[0,-19],[12,-8],[3,-3],[-4,-18],[-2,2],[-14,12],[-9,-50],[-16,-104],[-8,-57],[13,-13],[0,-3],[-1,-5],[-2,-6],[-13,4],[-2,-20],[7,2],[2,-1],[2,-3],[-1,-4],[-1,-6],[-10,5],[-1,-5],[-3,-24],[-2,-18],[-16,-52],[-15,-31],[-5,-8],[-13,-19],[-6,-6],[-20,-16],[-11,-9],[-13,-29],[2,-12],[-5,-7],[-12,-36],[-1,-10],[-2,-31],[-13,-21],[-2,-2],[2,-7],[11,-39],[3,-12],[1,0],[-72,-38],[-8,-10],[-39,-47],[-96,-60],[-64,-7],[-18,-2],[-19,-6],[-16,-9],[-8,-4],[-47,-38],[-1,-1],[-31,-23],[-45,-34],[-27,-39],[-5,-7],[-9,-11],[-7,-8],[-7,-14],[-56,-132],[-8,-23],[-1,-4],[-28,-132],[-12,-74],[-8,-28],[-40,-147],[-1,-29],[-13,-187],[0,-18],[-2,-47],[-10,-222],[5,-39],[8,-61],[8,-90],[9,-102],[13,-52],[7,-45],[-7,-62],[-12,-70],[-8,-28],[-20,-132],[-80,-21],[-27,-69],[-10,-25],[-6,-5],[-48,-46],[-20,-20],[5,-37],[3,-30],[8,-33],[-2,-58],[-4,-12],[-9,-16],[-15,-8],[-9,-16],[-7,-9],[-10,-13],[7,-23],[25,-44],[27,2],[16,1],[32,-41],[0,-28],[-9,-29],[-38,-79],[-19,-34],[-11,-19],[-16,-19],[-23,-27],[-22,-24],[-14,-2],[-1,0],[-21,5],[-17,-15],[-24,-34],[-24,-45],[-9,-9],[-3,-5],[-13,-21],[-7,-21],[1,-13],[-16,-69],[-1,-70],[11,-14],[1,-14],[1,-18],[-10,-18],[-12,-9],[-8,-14],[-7,-38],[3,-24],[-3,-7],[-4,4],[-1,23],[-6,16],[-1,12],[-7,11],[-20,17],[-24,22],[-22,5],[-7,0],[-12,-1],[-23,-13],[-2,-2],[-21,-24],[-20,-31],[-14,-26],[-20,-59],[-3,-19],[0,-2],[5,-14],[-6,-34],[-14,-17],[-7,-53],[0,-6],[-6,-114],[-1,-18],[-6,-6],[-3,-17],[-14,-58],[-6,-3],[-7,-16],[-5,-3],[-9,-5],[-4,0],[-5,1],[-9,-16],[-10,4],[-19,5],[-8,13],[-12,0],[-12,-18],[-6,-6],[1,-9],[3,-34],[-5,-4],[-6,32],[-11,-8],[-29,-92],[-1,-2],[-11,-29],[-6,-17],[-3,-5],[-3,-6],[-39,-167],[-1,-20],[-10,-17],[-7,-5],[-6,-18],[-9,-11],[-11,-5],[-17,-1],[-20,-15],[-18,-43],[0,-3],[-1,-17],[-6,-15],[-1,-44],[0,-13],[-2,-48],[-3,-48],[4,-43],[1,-18],[15,-91],[29,-148],[2,-45],[-1,-30],[-6,5],[-2,23],[-9,9],[-11,-11],[-53,-31],[-4,-26],[5,-12],[-2,-8],[-2,-16]],[[68302,36006],[-34,-2],[-11,0],[-49,-2],[-23,-1],[-11,-1],[-18,-1],[-6,-1],[-13,-1],[-3,0],[-57,-4],[-23,-1],[-20,-1],[-43,-3],[-64,-4],[-61,-4],[-1,0],[-28,-2],[-4,0],[-34,-2],[-22,-2],[-9,0],[-32,-3],[-23,-2],[-17,-1],[-10,-1],[-2,0],[-19,-1],[-12,-1],[-55,-4],[-64,-4],[-12,-1],[-42,-6],[-24,-3],[-1,0],[-38,-3],[-79,-5],[-8,-1],[-54,-3],[-61,-4],[-81,-5],[-17,0],[-138,-8],[-22,-1],[-70,-10],[-64,-1],[-192,-14],[-136,-10],[-68,-1],[-60,-5],[-130,-10],[-127,-10],[-17,-1],[-48,-4],[-225,-14],[-28,-2],[-1,0],[-34,-3],[-31,-2],[-63,-4],[-352,-23],[-15,-1],[-1,0],[-119,-5],[-10,-1],[-128,-7],[-62,-4],[-32,-1],[-31,-2],[-321,-16],[-25,-1],[-298,-15],[-64,-3],[-64,-4],[-129,-6],[-8,-1],[-186,-16]],[[63818,35720],[0,368],[1,133],[0,1],[-43,-2],[-21,0],[-116,-1],[-191,-1],[-49,0],[-33,-1],[-60,-1],[-37,0],[-4,-1],[-56,1],[-99,1],[-48,1],[-13,0],[-5,2],[-32,0],[-31,-1],[-84,0],[-111,-1],[-19,0],[-163,-1],[-9,0],[-72,1],[-120,1],[-130,1],[-3,-1],[-2,-1],[-61,2],[-21,0],[-33,1],[-33,-1],[-41,0],[-65,-1],[-96,0],[-98,-1],[-63,0],[-16,-1],[-179,-1],[-98,-1],[-7,1],[-25,0],[-271,-3],[-3,1],[-46,-1],[-1,-1],[-8,1],[-498,0],[-54,-1],[-92,1],[-95,1],[-80,1],[-56,0],[-28,1],[-96,1],[-53,0],[-108,2],[-1,0],[-54,1],[-14,0],[-27,1],[-124,3],[-280,0],[-7,1],[-98,-2],[-48,-1],[-23,0],[-129,-2],[-28,0],[-50,1],[-17,0],[-64,1],[-23,-1],[-134,0],[-35,-1],[-91,0],[-33,-1],[-26,0],[-152,-1],[-39,0],[-96,-1],[-154,-1],[-234,0],[-36,1],[-193,0],[-91,1],[-102,1],[-75,0],[-80,1],[-16,0],[-96,1],[-68,1],[-80,0]],[[56876,74731],[2,5],[13,5],[6,-5],[4,-15],[6,-4],[-5,-22],[5,-11],[-2,-24],[-7,7],[-5,16],[-15,16],[0,9],[-3,9],[1,14]],[[55205,75630],[2,4],[0,2],[0,6],[2,4],[2,1],[4,-1],[3,-2],[1,-3],[1,-2],[-2,-5],[-3,-1],[-4,-5],[-3,-1],[-2,1],[-1,2]],[[55151,75709],[5,6],[4,5],[2,6],[2,2],[2,-4],[3,-1],[1,3],[3,3],[2,-2],[-1,-6],[1,-3],[2,-3],[2,-3],[1,0],[2,2],[2,-4],[0,-4],[-1,-5],[-1,-3],[-2,0],[-1,0],[-1,-1],[-2,-2],[1,-6],[0,-4],[-2,-5],[-3,-4],[-2,-1],[-2,-3],[0,-3],[-2,-3],[-2,-3],[-1,-1],[-4,2],[-4,8],[-3,12],[0,4],[1,5],[-1,5],[-2,6],[1,5]],[[55014,75997],[2,9],[-1,5],[2,5],[2,4],[2,4],[3,-2],[2,-3],[1,-5],[2,-4],[-1,-3],[-2,-1],[-2,1],[-2,-1],[-2,-4],[-1,-3],[-3,-4],[-2,-3],[0,5]],[[54745,76570],[0,3],[1,1],[2,1],[2,1],[2,2],[1,0],[2,-2],[1,0],[0,-1],[0,-2],[-1,-2],[-2,-1],[-2,-2],[-1,-1],[-1,-1],[-2,-1],[-1,0],[-1,2],[0,3]],[[54386,82688],[15,0],[22,6],[6,19],[11,9],[6,0],[10,8],[12,16],[1,14],[7,4],[9,-19],[13,-9],[23,4],[26,-7],[16,-8],[8,-26],[27,9],[2,-13],[-30,-16],[-17,-49],[0,-27],[-20,2],[-13,-3],[-24,1],[-7,6],[-11,25],[-11,24],[-12,11],[-9,4],[-23,-5],[-12,10],[-13,-3],[-17,2],[5,11]],[[53363,78669],[1,3],[3,1],[1,4],[0,3],[3,2],[1,1],[2,-6],[1,-2],[0,-5],[1,-3],[0,-4],[0,-4],[-2,1],[-2,-1],[-3,3],[-2,3],[-3,3],[-1,1]],[[53296,78701],[3,1],[0,5],[2,6],[3,-2],[4,0],[3,0],[3,0],[3,-4],[4,1],[3,-5],[7,0],[4,-5],[5,-10],[7,-6],[4,-6],[2,-4],[0,-3],[-3,-1],[-3,1],[-4,4],[-4,2],[-4,1],[-3,-1],[-5,-3],[-2,-2],[-2,2],[-4,3],[-2,7],[-4,8],[-4,7],[-4,3],[-4,-3],[-2,-1],[-3,1],[0,4]],[[53210,78805],[2,4],[3,1],[2,-2],[3,-8],[5,-10],[4,-2],[2,3],[3,-4],[3,-8],[2,-8],[0,-9],[-2,-12],[-3,-8],[0,-4],[3,-7],[1,-1],[0,-3],[-3,0],[-3,2],[-2,1],[-2,-1],[-5,0],[-1,4],[1,2],[7,9],[0,4],[0,8],[0,9],[-3,5],[-14,27],[-3,3],[0,5]],[[52301,79697],[7,13],[4,10],[4,14],[2,7],[3,2],[4,0],[5,8],[2,3],[4,-1],[2,-7],[1,-8],[2,-9],[0,-13],[-2,-8],[-2,-15],[-1,-2],[-3,1],[-7,10],[-6,7],[-3,0],[-4,-3],[-8,-7],[-2,-1],[-2,-1]],[[52014,89725],[17,42],[11,17],[17,22],[20,13],[19,16],[8,-3],[7,-11],[-13,-14],[-15,-19],[-17,-17],[-12,-16],[-14,-15],[-11,-18],[-13,-18],[-9,-8],[5,29]],[[50799,88631],[12,10],[16,15],[3,0],[6,5],[6,6],[5,7],[22,26],[8,7],[9,10],[3,0],[-3,-6],[-4,-6],[-8,-10],[-26,-28],[-6,-6],[-5,-7],[-4,-2],[-4,-4],[-5,-4],[-3,-4],[-5,-3],[-5,-4],[-9,-5],[-8,-3],[5,6]],[[50515,87118],[6,7],[12,16],[21,16],[1,1],[8,10],[16,16],[10,9],[12,11],[22,17],[8,8],[3,-1],[-4,-6],[-13,-13],[-9,-9],[-13,-11],[-11,-11],[-7,-6],[-11,-10],[-9,-8],[-2,-2],[-6,-5],[-13,-12],[-9,-8],[-7,-6],[-3,-4],[-2,1]],[[50404,86986],[3,5],[1,3],[3,3],[2,1],[2,2],[1,1],[4,2],[2,0],[2,2],[2,1],[-3,-19],[-4,-4],[-3,-1],[-3,-3],[-5,-4],[-2,-2],[-2,13]],[[49041,86611],[5,14],[10,15],[10,25],[11,8],[21,9],[19,-1],[15,-2],[5,10],[24,7],[8,5],[8,17],[8,15],[-12,8],[1,10],[25,21],[-6,33],[-9,2],[-16,6],[-8,-15],[-6,-18],[-14,-11],[-19,-12],[-6,-8],[-8,-4],[-11,14],[-3,14],[14,17],[30,24],[6,14],[10,8],[9,-3],[12,44],[1,47],[4,19],[2,26],[20,25],[38,34],[7,19],[-5,9],[3,14],[32,47],[12,6],[30,56],[279,286],[168,147],[30,25],[25,22],[32,21],[34,37],[21,8],[25,40],[33,29],[51,33],[36,32],[15,2],[9,9],[3,21],[17,2],[11,19],[38,26],[7,-12],[13,1],[37,28],[11,1],[14,11],[33,32],[-4,24],[9,26],[192,195],[-28,-68],[-4,-10],[-14,-21],[2,-14],[26,20],[19,5],[18,14],[13,11],[9,5],[4,13],[-6,5],[-3,6],[5,12],[24,21],[3,11],[10,0],[-7,-15],[2,-10],[8,3],[3,-4],[13,18],[4,7],[16,6],[25,28],[18,9],[32,43],[-3,15],[16,33],[6,48],[26,55],[66,66],[58,52],[63,57],[42,47],[36,46],[29,40],[5,59],[25,74],[32,32],[80,82],[62,54],[78,50],[40,16],[104,110],[74,-84],[79,25],[30,64],[33,39],[74,34],[41,-8],[29,30],[53,41],[14,-93],[-5,-84],[-25,-35],[-62,-101],[-45,-62],[-28,-40],[-55,-67],[-90,-125],[-183,-245],[-32,-76],[0,-17],[-6,-44],[9,-25],[7,-3],[1,-15],[-4,-12],[2,-25],[0,-35],[-2,-17],[-17,-37],[-20,-38],[-56,-77],[-61,-81],[-26,-28],[-27,-31],[-9,-26],[-101,-132],[-79,-75],[-81,-67],[-31,-18],[-40,-20],[-44,-34],[2,-20],[-15,-11],[-15,3],[-14,7],[-10,-13],[-12,-20],[-21,-8],[-44,-7],[-47,-51],[-10,-11],[-34,-26],[-8,-10],[-33,-25],[-8,-6],[-62,10],[-44,-31],[-15,-16],[-6,-15],[-20,-15],[-11,-11],[2,-15],[-11,-10],[-17,-5],[-7,18],[-11,3],[-13,-8],[-63,-67],[-22,-21],[4,-46],[-3,-11],[-26,-24],[-23,-16],[-25,-15],[-4,-10],[-26,-26],[-5,-10],[-18,-14],[-9,-18],[-24,-18],[-21,-19],[-23,-20],[-6,-10],[-33,-29],[-18,-16],[-3,-13],[1,-27],[3,-15],[4,-9],[10,1],[4,-6],[-4,-6],[-6,-4],[-15,-8],[0,-19],[4,-33],[9,-18],[21,9],[27,13],[30,19],[20,-2],[9,-16],[18,0],[19,11],[0,-12],[6,-16],[8,-7],[10,1],[33,25],[135,78],[2,-15],[-17,-17],[-2,-9],[-10,-9],[1,-12],[-14,-34],[-60,-46],[-22,-2],[-5,-6],[4,-9],[-23,-14],[-25,-29],[-22,-9],[-8,-10],[-19,-8],[-35,-22],[-17,-20],[-31,-24],[-20,-18],[-18,-8],[-9,-9],[-15,-9],[-7,-1],[-8,-6],[-10,-21],[-18,-15],[-12,-4],[-31,-18],[-13,2],[-16,-4],[-40,-28],[-13,-11],[-3,-13],[-4,-5],[-11,-4],[-22,-11],[-16,-14],[-10,-5],[-15,-13],[-6,-14],[-71,-57],[-28,-30],[-8,-21],[-1,-18],[-16,8],[-25,-4],[-19,-7],[-6,-3],[-11,7],[-13,-3],[-12,-12],[-19,-10],[-7,-9],[-14,-3],[-13,8],[-12,3],[-17,35],[-17,18],[-15,3],[-19,3],[-8,15],[1,67],[-12,39],[-8,23],[-12,18],[-22,11],[-24,-6],[-62,8],[-4,17],[4,14],[19,26],[11,28],[6,25],[7,14],[-4,20],[7,15],[22,36],[16,20],[16,29],[8,18],[6,13],[-3,14],[-9,12],[-10,-1],[-12,-4],[-16,-28],[-15,-24],[-19,-25],[-8,-7],[-16,-6],[-6,-11],[-13,-10],[-28,-17],[-14,-6],[-9,-5],[-9,-12],[-6,2],[-7,-1],[-5,3],[-3,9]],[[45210,75395],[12,8],[54,76],[2,3],[39,56],[28,34],[97,117],[35,57],[16,12],[8,0],[9,-9],[18,-14],[39,-26],[5,-2],[8,0],[94,92],[43,42],[92,51],[58,42],[31,30],[155,107],[27,10],[13,-1],[45,22],[33,14],[15,1],[19,11],[58,24],[80,49],[25,19],[78,44],[57,52],[107,161],[24,60],[5,13],[5,12],[18,34],[13,16],[9,10],[7,9],[18,12],[30,36],[19,30],[45,69],[4,9],[1,2],[13,30],[8,11],[17,12],[21,36],[27,60],[14,21],[1,1],[3,6],[44,95],[2,2],[14,30],[127,258],[55,71],[13,11],[124,112],[8,3],[4,2],[95,42],[4,2],[18,11],[104,42],[14,3],[30,4],[27,-9],[20,2],[20,3],[24,17],[21,4],[42,-19],[3,-2],[26,-21],[32,-26],[10,-11],[5,-13],[3,-20],[6,-5],[17,-9],[35,3],[20,6],[41,29],[10,16],[9,13],[20,8],[19,17],[6,3],[32,16],[5,2],[2,1],[45,24],[16,18],[6,0],[2,-5],[15,-10],[29,7],[30,22],[21,7],[21,22],[23,-4],[5,-9],[10,-2],[7,13],[5,1],[11,-6],[7,-15],[8,-7],[21,-3],[13,7],[5,-5],[7,-5],[19,-3],[105,17],[9,1],[39,17],[34,22],[72,57],[15,17],[56,40],[34,24],[31,24],[29,34],[28,42],[8,13],[9,19],[4,9],[10,-4],[18,8],[28,18],[22,25],[25,37],[10,12],[8,5],[15,9],[14,3],[35,41],[54,63],[6,-1],[2,1],[17,11],[69,80],[2,2],[16,29],[14,19],[57,108],[6,16],[8,19],[45,122],[6,17],[16,70],[7,23],[6,13],[17,14],[35,32],[29,63],[0,15],[2,11],[19,45],[13,15],[14,19],[19,32],[13,5],[21,9],[8,-20],[9,-22],[23,-25],[19,-9],[22,-2],[24,1],[21,3],[7,1],[2,1],[48,23],[7,10],[4,5],[28,36],[23,17],[17,25],[35,15],[9,-34],[10,-18],[22,-9],[30,3],[30,8],[37,17],[29,25],[19,16],[41,51],[3,4],[29,48],[22,52],[15,39],[20,52],[1,3],[29,95],[3,14],[28,121],[3,11],[8,50],[2,40],[-5,7],[0,7],[3,21],[5,2],[6,2],[10,29],[10,44],[-4,15],[0,14],[8,26],[11,14],[19,44],[2,15],[8,25],[33,39],[23,23],[15,5],[20,18],[21,32],[9,3],[6,-5],[9,9],[8,-3],[16,25],[18,36],[6,16],[0,11],[4,7],[6,8],[15,48],[14,42],[23,36],[11,8],[13,8],[9,1],[7,16],[7,13],[36,36],[21,-2],[6,2],[7,0],[5,-4],[10,-1],[21,23],[5,6],[20,26],[24,50],[12,48],[69,152],[58,95],[33,55],[8,13],[91,123],[18,19],[7,0],[28,37],[9,5],[15,6],[8,-7],[21,6],[38,33],[12,11],[6,4],[15,9],[15,39],[9,9],[6,-1],[53,17],[30,13],[24,16],[12,15],[36,63],[24,49],[12,25],[1,2],[14,22],[116,185],[40,64],[6,15],[39,86],[27,61],[4,9],[22,112],[2,11],[37,105],[14,24],[21,38],[11,17],[30,64],[19,55],[2,7],[8,25],[6,15],[19,29],[5,-5],[15,6],[43,57],[22,33],[17,19],[7,1],[20,16],[13,20],[6,15],[9,14],[20,12],[7,-5],[17,2],[15,6],[18,15],[18,10],[11,12],[18,15],[38,32],[45,50],[22,24],[1,1],[14,24],[1,2],[12,19],[15,22],[19,21],[17,10],[12,5],[25,4],[19,4],[33,14],[25,12],[21,17],[1,0],[3,4],[35,40],[5,10],[25,46],[5,34],[0,22],[-2,5],[-2,1],[-3,-2],[-1,4],[4,4],[3,2],[5,4],[7,-2],[3,1],[41,18],[2,-2],[-1,-5],[2,-1],[3,0],[5,3],[4,7],[1,9],[-2,3],[0,3],[2,1],[5,1],[5,6],[35,23],[12,2],[7,-7],[30,13],[22,13],[4,0],[3,-11],[-7,-5],[-1,-8],[2,-12],[3,-7],[5,1],[12,4],[6,2],[2,-6],[3,0],[7,9],[7,3],[8,2],[1,2],[1,3],[3,1],[3,-1],[3,3],[0,7],[-1,7],[-2,3],[-3,1],[-1,2],[-3,1],[-3,-1],[-3,2],[-6,-3],[-3,-7],[-3,-5],[-3,6],[-1,7],[9,10],[12,5],[6,-2],[3,5],[6,4],[9,3],[5,-3],[10,7],[6,2],[7,2],[4,-4],[5,0],[3,5],[26,7],[8,-1],[17,4],[13,10],[3,1],[14,4],[17,3],[2,1],[13,7],[3,2],[12,7],[4,7],[4,1],[2,1],[9,1],[5,-21],[9,-2],[19,9],[11,-2],[5,-5],[55,16],[3,1],[1,43],[26,9],[101,15],[91,13],[11,2],[10,6],[34,-6],[4,0],[35,-2],[6,0],[1,0],[25,5],[20,0],[30,-9],[30,-5],[59,-10],[3,-4],[11,-14],[5,-1],[27,-2],[18,9],[15,-2],[-1,-8],[-9,0],[-7,-2],[-7,-6],[-12,1],[-25,2],[-12,-6],[-6,-9],[14,-3],[19,-6],[44,-28],[12,-2],[8,2],[7,2],[3,9],[8,2],[7,-3],[-1,-5],[1,-4],[5,-2],[7,5],[4,4],[17,-1],[9,-5],[3,0],[11,11],[4,0],[0,7],[-2,12],[-6,11],[-6,6],[-10,0],[-5,-9],[-9,4],[-6,11],[7,11],[8,6],[18,-5],[12,-15],[34,-6],[66,-10],[24,5],[2,11],[26,-5],[1,-15],[21,-1],[126,-93],[86,-100],[38,-53],[11,-27],[10,-116],[-9,1],[-4,-41],[5,-29],[0,-32],[12,-28],[4,-46],[-6,-41],[-30,-3],[-36,13],[-34,28],[-16,-15],[-14,9],[-25,-18],[-20,-38],[1,-22],[-9,-18],[-19,-15],[-19,0],[-34,13],[-37,-14],[-50,-63],[-39,11],[-5,9],[2,9],[-8,15],[-7,-1],[-7,6],[-1,-7],[-11,3],[-12,14],[-4,15],[-17,12],[-28,5],[-17,-5],[-15,-8],[-12,7],[-19,0],[-21,8],[-16,-7],[-3,-6],[-29,-21],[-25,13],[-20,-2],[-104,-25],[-51,-24],[-17,-55],[-10,-56],[-2,-50],[10,-52],[26,-50],[25,-11],[1,-21],[12,-16],[15,-38],[2,-39],[-17,-55],[-10,-14],[-40,1],[-34,-16],[-20,-27],[-19,-32],[-16,-21],[-13,-5],[-49,-77],[-18,-22],[-24,-42],[-35,-22],[-23,-16],[-9,-14],[-12,-3],[-13,3],[-35,-18],[-17,-21],[-38,-77],[-14,-43],[-23,-57],[-11,-23],[-10,-18],[-10,-36],[-16,-42],[-16,-17],[-4,2],[-8,-6],[-7,2],[-5,0],[-28,-35],[-17,-36],[-16,-51],[-11,-26],[-4,-21],[-3,-16],[-14,-23],[-13,-13],[-11,-14],[-16,-16],[-15,-22],[-12,-13],[-30,-90],[-19,-22],[-8,-9],[-10,1],[-8,8],[-48,-32],[-14,-2],[-3,7],[-18,2],[-14,-1],[-11,-4],[-13,-22],[-12,-37],[-13,-10],[-11,-13],[-6,-7],[-26,-85],[-7,-26],[-10,-98],[-1,-31],[-1,-110],[4,-30],[6,-32],[9,-16],[11,4],[6,-1],[-2,-32],[-25,-56],[-26,-29],[-6,2],[-1,19],[-3,15],[-5,13],[-10,16],[-8,10],[-18,4],[-16,-4],[-14,-11],[-18,-22],[-14,-23],[-14,-33],[-10,-40],[-2,-27],[6,-10],[2,-43],[-4,-50],[-31,-138],[-18,-25],[-13,-15],[-22,-17],[-13,-19],[-14,-24],[-8,0],[-31,-29],[-5,-1],[-8,-16],[-8,-9],[-7,-6],[-15,-3],[-11,-26],[-6,-28],[-5,-35],[-3,-55],[1,-39],[0,-28],[-1,-9],[-4,-15],[-4,-27],[-8,-78],[-1,-2],[-22,-89],[-4,-17],[-2,-68],[-14,-31],[-7,-29],[-38,-66],[-36,-96],[-2,-7],[-12,-40],[-13,-38],[-3,-6],[-3,-6],[-13,-27],[-2,-6],[-1,-1],[-15,-6],[-7,-3],[-5,6],[-10,-5],[-16,0],[-18,-20],[-6,-3],[-32,-18],[-3,-12],[-1,-8],[-4,-57],[-7,-142],[-8,-66],[-4,-42],[-5,-18],[1,-16],[-6,-50],[-1,-8],[-9,-59],[-26,-116],[-12,-69],[-1,-4],[-20,-71],[0,-34],[0,-3],[5,-43],[-5,-64],[-7,-33],[2,-22],[-5,-9],[1,-35],[3,-14],[0,-33],[-1,-13],[-11,-59],[0,-33],[-3,-43],[-1,-4],[-6,-15],[6,-54],[11,-50],[18,-54],[2,-11],[0,-30],[-1,-13],[3,-29],[21,-77],[13,-48],[0,-13],[0,-12],[-7,-17],[-7,-15],[-2,-3],[-2,-6],[-2,-5],[-2,-4],[-3,-4],[0,-1],[-5,4],[-4,4],[-10,9],[0,5],[-1,6],[0,2],[-5,3],[-8,-5],[-5,-6],[-2,-2],[-13,-39],[-1,-3],[-1,-3],[-13,-47],[-5,-20],[-14,-31],[0,-8],[-8,-22],[-3,-22],[0,-6],[0,-2],[7,-32],[8,1],[14,-14],[33,-31],[7,-3],[8,-1],[12,11],[8,5],[9,5],[7,13],[1,2],[18,34],[3,5],[2,4],[1,2],[9,3],[5,11],[10,22],[-1,12],[-2,14],[8,38],[0,1],[22,68],[1,4],[8,23],[4,41],[6,21],[10,37],[13,33],[20,48],[12,29],[10,21],[5,20],[1,4],[78,158],[21,36],[13,35],[3,24],[-5,35],[-10,27],[-16,26],[-25,-15],[-18,-23],[-4,5],[1,31],[0,2],[14,50],[33,82],[32,42],[24,2],[2,-3],[-10,-59],[-2,-13],[0,-14],[0,-1],[7,-13],[16,-24],[27,-10],[19,-1],[10,8],[1,1],[26,61],[5,12],[27,45],[4,8],[36,73],[25,35],[14,45],[39,58],[58,86],[29,34],[36,42],[21,53],[7,14],[29,54],[4,4],[34,33],[2,3],[31,24],[20,22],[22,15],[25,10],[13,11],[18,51],[12,21],[38,21],[36,34],[1,1],[39,53],[16,-10],[8,13],[11,14],[6,-1],[7,-21],[14,-16],[9,-5],[15,9],[1,-3],[-2,-7],[-11,-13],[-14,-11],[-11,-5],[-14,-20],[-8,-19],[0,-30],[1,-27],[-3,-8],[-8,-23],[-21,-39],[-13,-23],[-21,-33],[-69,-116],[-43,-38],[-3,-9],[-6,-4],[-13,-42],[-6,-3],[-10,11],[-20,-30],[-53,-93],[-28,-82],[-29,-119],[5,-47],[-16,3],[-10,-70],[-9,-41],[-3,-12],[-12,-40],[-14,-52],[-4,-12],[-4,-13],[-37,-49],[-1,-2],[0,-1],[2,-17],[-1,-2],[-1,-4],[-4,-24],[0,-1],[1,-11],[0,-5],[1,-12],[11,-2],[24,13],[27,46],[9,58],[18,24],[7,0],[10,37],[4,38],[19,79],[9,24],[-2,11],[34,97],[20,34],[29,36],[21,27],[-1,30],[-13,32],[44,51],[19,9],[26,28],[6,18],[6,8],[32,0],[44,3],[23,16],[28,4],[22,14],[43,8],[14,10],[1,1],[30,14],[40,38],[12,5],[46,19],[7,3],[5,-1],[33,-6],[17,-9],[5,-4],[63,-48],[1,0],[38,-29],[2,-2],[28,1],[23,13],[16,-4],[16,-11],[10,-15],[18,-14],[30,-4],[12,9],[35,10],[57,15],[8,2],[6,-1],[59,-5],[49,1],[17,10],[50,1],[12,-7],[76,-137],[1,-3],[4,-3],[41,-40],[2,-1],[41,-27],[6,-3],[5,1],[12,3],[14,23],[15,11],[17,11],[35,13],[8,-20],[3,-7],[0,-16],[15,-23],[17,-18],[16,-7],[13,8],[6,-6],[26,-5],[9,-3],[8,-8],[11,-19],[2,-35],[-7,-15],[-1,-3],[6,-31],[11,-21],[6,-10],[19,-16],[1,0],[19,-5],[13,-3],[1,0],[19,33],[1,2],[10,8],[12,4],[7,-6],[13,-100],[0,-14],[7,-15],[-5,-8],[-1,-17],[1,-9],[7,-78],[9,-50],[4,-8],[10,-22],[5,-3],[1,0],[18,-11],[21,-4],[32,0],[32,14],[17,18],[12,27],[0,1],[0,1],[-7,55],[0,2],[2,21],[10,7],[12,-1],[13,-21],[7,-26],[-2,-20],[7,-60],[-3,-21],[-1,-10],[8,-31],[13,-28],[19,-16],[16,-16],[16,-7],[4,-1],[8,-2],[11,12],[13,1],[17,-5],[11,-9],[10,-21],[4,-19],[3,-19],[26,-47],[3,-19],[7,-10],[31,-67],[12,-19],[3,-2],[8,-5],[19,-20],[16,-4],[0,-1],[-7,-11],[-2,-15],[3,-16],[-7,-5],[-4,-22],[9,-57],[7,-125],[4,-27],[7,-13],[4,-14],[-4,-16],[6,-33],[9,-26],[0,-7],[-6,-6],[7,-49],[14,-48],[16,-40],[18,-29],[10,-12],[5,0],[1,9],[6,2],[-1,-7],[-1,-8],[2,-4],[3,-8],[3,-6],[-2,-3],[4,-6],[3,2],[3,-9],[-1,-6],[3,-8],[8,-14],[5,-1],[2,-3],[1,-6],[10,-14],[14,-14],[3,0],[0,-27],[10,-27],[14,-15],[6,5],[17,-15],[3,-5],[11,-24],[15,4],[3,-8],[-10,-15],[-6,-14],[8,-48],[-2,-18],[-1,-4],[-4,-7],[-2,-11],[11,-37],[15,-31],[7,-27],[12,-27],[7,-30],[0,-14],[9,-34],[11,-43],[1,-3],[5,-6],[27,-33],[2,-3],[1,-1],[78,-55],[1,-1],[2,-2],[18,1],[-6,-20],[-7,-15],[-3,-46],[4,-39],[12,-34],[-6,-11],[1,-13],[10,-22],[15,-25],[8,4],[6,-5],[3,-27],[29,-27],[5,-14],[0,-13],[-7,-6],[6,-14],[6,-21],[6,6],[11,-5],[2,-14],[-2,-13],[11,-11],[27,3],[35,8],[5,6],[-3,10],[10,4],[4,-14],[-4,-19],[-1,-3],[4,-17],[10,-5],[9,-5],[12,-15],[11,-4],[15,3],[15,6],[1,14],[-1,34],[8,16],[13,4],[10,-27],[-3,-28],[-5,-12],[0,-19],[-1,-15],[-7,-13],[-8,9],[-6,10],[-12,-16],[-10,-27],[-1,-40],[0,-14],[13,-62],[5,-19],[10,-28],[5,-9],[6,-12],[-3,-16],[3,-30],[4,-8],[8,-13],[9,-9],[-5,-4],[-10,-14],[-13,-6],[-3,-7],[-20,-4],[-1,-3],[-4,-26],[-4,-11],[-1,-6],[-3,-33],[2,-6],[0,-3],[9,5],[0,-19],[-2,-19],[7,-32],[13,-34],[13,-27],[49,-85],[2,-3],[6,-8],[16,-22],[23,-19],[5,-4],[47,-32],[10,-6],[13,-6],[55,-26],[8,-4],[19,-4],[64,-16],[1,-1],[89,-11],[6,0],[90,5],[5,0],[86,17],[9,5],[66,35],[15,17],[6,12],[0,16],[7,27],[10,13],[7,5],[12,-7],[2,-13],[7,-23],[-2,-10],[7,-11],[9,-4],[12,-12],[31,-16],[27,-8],[20,1],[3,0],[36,7],[29,14],[11,12],[7,37],[7,8],[5,3],[17,23],[5,6],[4,19],[11,5],[9,10],[4,31],[5,17],[6,12],[11,-23],[7,15],[7,-11],[22,6],[13,3],[9,10],[45,16],[7,5],[4,21],[8,8],[4,15],[4,6],[8,-9],[7,-2],[5,5],[7,1],[15,2],[18,17],[-2,23],[-3,13],[-1,16],[6,11],[8,-15],[7,0],[22,-8],[11,10],[12,-7],[0,-7],[-2,-11],[9,-20],[18,-14],[16,1],[12,8],[11,3],[18,-15],[6,-21],[9,-14],[6,-23],[20,-28],[6,-58],[13,-45],[12,-24],[5,-30],[-2,-17],[6,-14],[19,-83],[9,-13],[3,-13],[-3,-13],[-7,-8],[-10,-6],[-1,-17],[8,-36],[15,-24],[20,-10],[12,-9],[5,-14],[12,-7],[32,0],[7,7],[23,10],[18,-3],[11,-23],[9,-9],[28,-30],[0,-34],[17,-33],[1,-25],[-7,-11],[-1,-21],[8,-23],[13,-22],[16,-14],[29,-10],[54,-17],[41,1],[1,0],[51,16],[20,15],[7,42],[8,29],[2,29],[-5,26],[9,15],[3,52],[5,5],[6,7],[4,29],[2,10],[45,82],[2,11],[1,7],[3,-1],[1,-5],[12,2],[8,-4],[13,3],[6,3],[25,7],[6,3],[2,-10],[25,9],[14,3],[14,-4],[17,-17],[11,-13],[9,-5],[6,7],[4,-5],[16,-30],[1,-31],[-5,-11],[0,-10],[7,-17],[9,-21],[10,-9],[10,-11],[11,-27],[13,-47],[4,-9],[8,-34],[6,-10],[7,-7],[6,-12],[6,-18],[15,-6],[2,-1],[29,6],[7,-7],[13,6],[47,54],[12,-3],[3,-1],[16,-6],[15,-16],[5,-35],[1,-31],[1,-14],[1,-13],[-4,-19],[-16,-32],[-12,-30],[1,-28],[12,-26],[24,-29],[22,-12],[22,8],[10,19],[1,14],[6,8],[3,10],[6,20],[3,34],[13,19],[31,75],[28,69],[3,21],[-3,35],[-3,23],[11,13],[2,-1],[14,-11],[15,1],[16,37],[16,52],[12,39],[15,25],[32,54],[12,37],[18,41],[8,29],[13,31],[5,8],[0,9],[11,-3],[17,14],[29,21],[8,7],[2,20],[5,4],[16,21],[2,6],[0,13],[4,13],[6,2],[4,21],[5,4],[4,22],[3,12],[8,-2],[16,13],[12,10],[15,29],[20,22],[4,19],[7,16],[7,33],[19,26],[4,24],[2,33],[16,27],[14,12],[7,4],[7,21],[-2,11],[6,8],[20,9],[5,-13],[10,-3],[6,-9],[7,13],[10,-16],[19,-17],[2,-7],[22,14],[18,18],[45,34],[37,37],[20,13],[35,19],[84,78],[50,48],[100,114],[437,532],[50,79],[37,53],[22,11],[21,1],[15,12],[20,5],[23,-50],[16,-15],[4,-8],[4,-22],[13,-26],[1,-13],[26,-18],[21,-6],[19,2],[40,6],[45,21],[54,31],[70,53],[36,10],[103,41],[43,29],[34,25],[1,-27],[-8,-1],[-3,-12],[-14,2],[-15,-17],[5,-20],[10,-7],[9,5],[12,-3],[10,15],[22,11],[46,19],[55,45],[35,24],[43,25],[103,34],[45,-6],[77,-11],[84,-37],[64,-27],[5,-3],[8,-1],[137,-30],[2,0],[40,-1],[80,-1],[45,8],[107,20],[71,-7],[75,-7],[24,-6],[100,-30],[7,0],[87,-2],[37,0],[17,-1],[110,13],[38,10],[53,30],[44,43],[34,25],[40,22],[34,37],[32,26],[60,36],[66,53],[14,10],[45,37],[21,30],[4,-12],[63,64],[52,52],[58,63],[69,56],[31,22],[76,55],[3,2],[3,1],[59,19],[1,0],[32,6],[37,3],[87,39],[67,24],[43,9],[42,-9],[67,-19],[41,-12],[54,-14],[47,-7],[61,-1],[91,22],[37,21],[54,44],[38,27],[26,10],[33,1],[24,6],[25,-4],[28,-8],[16,-20],[4,-13],[-10,-1],[-17,-20],[-20,-29],[-1,-6],[-1,-4],[-4,-8],[-71,-124],[-34,-72],[-32,-74],[-42,-135],[-24,-128],[-9,-108],[6,-82],[-7,-122],[-7,-136],[-10,-169],[-2,-112],[-3,-92],[1,-15],[3,-99],[1,-51],[11,-84],[3,-26],[8,-46],[2,-30],[-4,-45],[7,-6],[7,-62],[-6,-29],[-27,-20],[-20,-7],[-14,-18],[-24,-41],[-11,-54],[4,-100],[17,-92],[8,-20],[9,-7],[9,-20],[27,-91],[27,-39],[35,-28],[32,-9],[28,-3],[26,-1],[10,0],[50,-9],[10,-5],[12,2],[10,11],[20,18],[18,41],[-4,7],[13,13],[6,-12],[7,-7],[11,1],[7,8],[0,7],[3,19],[5,-2],[3,-14],[-5,-12],[7,-17],[-5,-9],[4,-22],[18,-28],[23,-60],[19,-18],[3,-3],[30,-11],[42,-7],[61,12],[20,18],[26,9],[24,-45],[6,-18],[10,-31],[10,-39],[2,-31],[6,-17],[15,-20],[33,-15],[40,-1],[57,16],[103,62],[151,125],[51,53],[28,33],[15,24],[18,22],[5,5],[5,-2],[5,-3],[22,32],[13,-1],[18,-12],[10,-10],[9,-11],[32,-12],[40,17],[36,5],[18,-33],[4,-16],[9,-7],[17,-54],[11,-52],[17,-76],[1,-1],[28,-41],[17,-36],[2,-5],[5,-14],[26,-50],[13,-21],[8,-27],[14,-50],[-4,-2],[-10,30],[-7,15],[-8,-6],[-2,-6],[-12,-2],[-1,31],[-2,22],[-10,15],[-5,19],[-10,9],[-12,-9],[-2,-11],[-11,-20],[-6,-31],[0,-14],[0,-7],[6,-8],[-2,-43],[7,-11],[5,-20],[-4,-10],[5,-23],[10,-26],[15,-10],[28,-4],[29,12],[18,2],[32,12],[26,17],[1,0],[29,27],[39,51],[20,34],[5,15],[5,-4],[13,14],[5,-2],[2,-11],[10,3],[6,-3],[14,26],[10,25],[2,12],[-6,10],[-2,7],[5,24],[12,11],[11,1],[3,-16],[9,-39],[2,-9],[9,0],[2,-7],[10,-21],[12,-20],[11,-9],[14,5],[11,9],[31,57],[13,52],[10,58],[1,75],[-1,2],[-25,38],[60,183],[82,102],[63,-12],[22,-4],[21,27],[44,53],[4,4],[101,-12],[7,0],[12,-18],[27,-31],[14,-16],[61,-35],[46,-26],[57,0],[35,13],[4,6],[32,49],[94,281],[106,53],[55,-113],[38,-6],[43,18],[22,24],[24,9],[34,-17],[19,-79],[18,-28],[22,-114],[-46,-288],[-70,-438],[24,-392],[66,-298],[43,-128],[-44,-57],[-1,-2],[14,-395],[59,-99],[-35,-129],[-12,-11],[-15,-7],[-9,-45],[-6,-16],[-4,-28],[-10,-8],[-6,-19],[-9,10],[6,21],[-9,18],[-14,8],[-2,-16],[-6,-17],[-4,2],[-7,14],[-12,0],[-8,-13],[8,-20],[-6,-10],[3,-39],[-3,-28],[-9,-16],[-20,7],[-6,14],[-10,5],[7,10],[7,-5],[8,20],[3,31],[-1,11],[-1,14],[-8,15],[-8,-6],[-7,36],[-14,35],[-10,13],[-7,-4],[-27,-24],[-13,-12],[-21,-19],[-6,25],[3,21],[0,4],[-2,19],[-2,15],[-10,5],[-1,0],[-7,2],[-4,14],[-16,7],[-6,2],[-18,5],[-9,-4],[-1,-4],[-4,-10],[4,-30],[0,-48],[-7,-25],[-21,3],[-14,-3],[-9,-31],[-22,-33],[-12,-32],[-10,3],[-8,23],[-23,-19],[-29,-25],[-19,-32],[1,-33],[-7,-14],[-14,-5],[5,-15],[0,-14],[-16,-28],[35,-95],[32,-27],[25,47],[6,-9],[-2,-58],[-2,-35],[-10,-5],[-13,-34],[44,-47],[10,-10],[17,-3],[30,-48],[81,26],[18,44],[-4,28],[12,36],[10,-41],[14,-2],[10,16],[-3,16],[-8,18],[8,20],[1,30],[17,-15],[8,-19],[6,0],[4,-20],[1,-35],[10,-14],[17,14],[16,14],[6,29],[5,14],[12,-8],[9,-15],[5,-25],[4,-30],[18,-24],[16,-5],[8,7],[-4,19],[-6,24],[0,15],[9,-4],[9,-11],[11,20],[6,11],[26,-40],[5,-44],[-5,-22],[2,-24],[8,-17],[13,1],[-3,-28],[13,-7],[15,-18],[1,-38],[14,-25],[22,-11],[27,26],[8,-6],[5,-21],[13,-11],[6,-9],[16,4],[9,14],[12,0],[24,-21],[52,-54],[26,-23],[10,-24],[-4,-20],[-9,-9],[1,-27],[-3,-15],[-15,4],[-11,16],[-13,-15],[-30,-34],[-2,-41],[-4,-11],[-14,5],[0,-14],[3,-10],[-2,-8],[-6,11],[-9,-3],[-23,-62],[-6,-62],[-3,-35],[3,4],[17,-40],[9,-22],[23,-24],[14,-30],[20,-38],[10,-28],[16,-46],[19,1],[-2,-44],[8,-11],[12,-34],[0,-17],[14,-30],[9,-16],[17,-3],[5,-11],[3,-15],[9,-7],[12,8],[7,8],[8,-7],[3,-10],[1,-15],[2,-7],[9,-9],[12,-16],[7,-16],[6,-19],[2,-16],[13,-14],[11,4],[1,-5],[-9,-9],[-3,-11],[6,-5],[6,1],[1,-13],[-3,-11],[4,-18],[10,-25],[11,-9],[12,0],[14,7],[2,14],[4,7],[6,6],[2,12],[-6,8],[1,27],[16,16],[14,0],[11,-6],[10,-4],[9,14],[6,10],[6,6],[3,-16],[6,-3],[8,2],[3,-9],[0,-25],[-3,-16],[5,-32],[14,-21],[7,-5],[6,14],[3,-3],[3,-2],[3,-20],[14,-3],[39,-35],[27,-106],[13,-81],[3,-24],[-5,-1],[-11,-17],[1,-14],[-13,-23],[-8,2],[-4,-13],[5,-9],[3,-17],[0,-14],[-16,-4],[-4,-19],[5,-13],[8,-2],[6,-18],[-6,-7],[-8,12],[-5,-7],[2,-9],[3,-17],[-3,-25],[3,-10],[-2,-13],[-11,-20],[-8,-3],[-17,23],[7,18],[19,4],[1,22],[2,15],[-4,11],[-11,-15],[-6,8],[-12,15],[-10,-2],[-4,-4],[-9,-7],[-6,21],[-7,4],[-13,-8],[-8,1],[-6,10],[-10,-1],[0,-14],[3,-15],[0,-13],[-5,-9],[-8,23],[-5,0],[-2,-9],[-9,7],[-1,19],[-8,10],[-8,7],[-6,-1],[-3,-20],[-6,-8],[-11,1],[-14,-9],[-14,10],[-10,11],[-6,7],[-9,-5],[-2,-16],[-2,-5],[-9,13],[-18,-17],[-20,-31],[-7,-28],[1,-11],[-2,-21],[-3,-7],[-2,-16],[4,-22],[7,-4],[6,-22],[-20,25],[-5,-6],[-6,10],[-2,15],[-7,20],[-13,10],[-7,18],[-8,5],[-5,14],[-24,11],[-9,10],[-24,0],[-31,16],[-14,15],[-16,10],[-24,9],[-13,0],[-13,-7],[-4,-10],[-4,5],[-4,11],[-10,-6],[-4,13],[-15,14],[-7,-2],[-14,-4],[-7,7],[-5,-10],[0,-13],[-4,-3],[-9,8],[2,16],[1,16],[-5,14],[-11,7],[-11,-1],[-5,-12],[0,-15],[8,-27],[-12,15],[-6,20],[2,10],[4,19],[-4,12],[-6,4],[-5,0],[-9,12],[-1,10],[-7,14],[-1,1],[-9,15],[-18,-2],[-8,-10],[-3,-15],[-10,12],[-12,-5],[-4,-14],[5,-28],[-18,18],[-16,15],[-8,-3],[-7,-11],[5,-29],[-14,-11],[-17,4],[-23,2],[-21,25],[-8,10],[-3,-10],[-5,-3],[-13,25],[-9,6],[-4,-10],[-3,-10],[10,-14],[4,-13],[11,-16],[16,-52],[-4,-10],[-5,2],[-21,28],[-3,32],[-3,14],[-5,14],[-9,2],[-3,-13],[-3,-12],[-2,12],[-6,11],[-8,1],[-11,3],[-6,-11],[5,-15],[3,-12],[-3,-5],[-11,7],[-12,21],[-13,16],[-22,36],[-7,21],[-5,11],[-2,4],[-12,5],[-7,-7],[0,-2],[-2,-19],[-2,-16],[7,-21],[3,-15],[-2,-16],[8,-14],[13,-15],[2,-19],[-8,11],[-12,15],[-8,9],[-2,15],[2,18],[-5,9],[-13,10],[-10,9],[-5,0],[-2,-11],[0,-19],[-9,5],[-15,7],[-15,13],[-7,21],[-6,1],[-16,-3],[-16,6],[-12,17],[-3,22],[-8,17],[-7,12],[-7,-7],[0,-12],[-6,8],[-8,-11],[1,-16],[10,-30],[24,-99],[14,-32],[-4,-12],[0,-52],[11,-16],[5,-13],[-11,10],[-11,-10],[-6,-6],[-7,0],[-18,25],[-13,5],[-6,4],[-10,-5],[-7,-12],[1,-11],[-4,-7],[-38,-12],[-11,11],[-9,20],[-5,15],[-16,22],[-8,11],[-6,0],[0,-14],[0,-12],[-12,6],[-7,0],[-4,-3],[-1,-15],[-5,-20],[-10,-5],[-7,5],[-8,7],[-4,14],[-7,-1],[1,-12],[1,-8],[-5,-7],[-6,-3],[-11,13],[-7,7],[-5,-2],[0,-11],[-11,-3],[-7,2],[-14,19],[-11,6],[-9,-2],[-2,-10],[19,-38],[2,-12],[10,-17],[4,-12],[2,-22],[-7,-14],[-6,-8],[-9,-5],[-5,-4],[-6,-16],[-7,1],[-9,6],[-6,-3],[-6,1],[-9,0],[-6,-1],[-16,9],[-6,4],[-8,-5],[-10,21],[-12,14],[-13,16],[-11,5],[-4,-13],[7,-30],[46,-90],[-8,3],[-26,34],[-48,58],[-38,58],[-15,30],[-17,14],[-7,11],[-15,13],[-11,2],[-10,21],[-3,17],[7,1],[11,-18],[21,-23],[11,11],[8,34],[6,23],[-3,24],[-12,24],[-34,41],[-28,47],[3,0],[26,-26],[27,-37],[16,-3],[9,22],[7,17],[-11,22],[-1,11],[-17,32],[-26,41],[-1,12],[21,-9],[22,-25],[18,-30],[9,-26],[19,-3],[11,7],[12,14],[12,-1],[0,9],[-8,9],[-17,35],[-13,-1],[-13,7],[-6,19],[-42,68],[-11,2],[-16,18],[-12,0],[-12,20],[-10,3],[-12,-2],[-8,-12],[0,-20],[-3,-8],[-18,12],[-14,16],[-10,4],[-14,-4],[-10,-25],[-3,-16],[0,-18],[7,-21],[6,-10],[11,-9],[-2,-6],[-10,0],[-1,-12],[3,-15],[4,-9],[10,-6],[1,-4],[-6,-1],[-7,0],[-3,-9],[5,-11],[14,-27],[-7,-8],[-5,-20],[-5,-16],[5,-22],[-3,-14],[8,-23],[-6,-6],[-17,13],[-4,9],[-8,0],[-6,24],[-8,11],[-2,7],[-10,3],[-6,6],[4,10],[-2,11],[-5,11],[-2,7],[2,27],[-5,24],[3,12],[1,22],[-5,12],[-6,5],[-8,8],[-7,-3],[-7,8],[-7,0],[-2,-10],[-21,25],[-7,0],[-6,3],[-3,-11],[-7,-2],[-1,-17],[6,-18],[0,-10],[-11,3],[-10,10],[-7,-4],[-2,-13],[6,-14],[1,-15],[2,-24],[6,-3],[7,-11],[-4,-9],[-8,-4],[-4,-23],[-7,-11],[1,-10],[9,-15],[0,-10],[-2,-14],[-7,-10],[-12,-3],[-10,-11],[-7,1],[-7,-2],[-17,10],[-1,17],[-6,10],[-2,52],[4,21],[6,14],[5,41],[0,29],[-4,14],[-6,4],[-1,8],[2,8],[3,15],[-4,72],[-6,26],[-11,15],[-11,6],[8,26],[-5,43],[-11,28],[-32,30],[-5,16],[-17,21],[-8,10],[-3,4],[-19,-1],[-15,-7],[-3,-18],[-6,4],[-8,11],[-8,-6],[-1,-17],[1,-29],[-1,-25],[-9,10],[-6,28],[-6,5],[-18,1],[-18,7],[-8,-1],[-3,11],[-7,2],[-5,-5],[-2,-14],[-8,-7],[-9,6],[-4,15],[0,4],[-7,22],[1,13],[-3,18],[-19,22],[-15,-2],[-22,15],[-49,83],[-30,25],[-34,-19],[-30,-37],[-38,-94],[-11,-58],[2,-30],[-8,-63],[7,-10],[-2,-13],[8,-36],[9,-21],[6,-17],[-5,-19],[3,-30],[-7,-16],[-3,-18],[3,-17],[-1,-9],[-11,-27],[-9,-4],[-3,-27],[10,-34],[15,-20],[7,-14],[-3,-34],[-8,-18],[-28,-2],[-25,13],[-14,5],[-14,-14],[0,-18],[6,-19],[-16,3],[-6,-9],[-10,8],[-11,-1],[-12,-18],[-11,-33],[-29,-129],[-2,-34],[13,-26],[4,-16],[3,-23],[13,-15],[15,-28],[8,2],[12,-14],[12,-33],[6,-27],[1,-36],[-2,-1],[-6,7],[-15,1],[-11,11],[-9,-1],[-5,-7],[-8,-5],[-6,-9],[-9,-27],[-4,-22],[7,-10],[-1,-13],[2,-28],[-2,-32],[2,-23],[4,-5],[9,-11],[13,-27],[3,-37],[1,-2],[12,-98],[1,-9],[-7,-6],[-1,0],[-12,-1],[-2,0],[-2,-2],[-5,-4],[-2,-15],[6,-14],[1,-1],[15,-6],[13,-11],[0,-1],[13,-12],[-3,-13],[-3,-2],[2,-4],[9,-16],[18,-11],[8,-12],[16,-49],[-2,-13],[-2,-9],[-10,-12],[-3,-4],[-13,2],[-3,0],[-15,-5],[-4,0],[-13,-1],[-7,-13],[-2,0],[-13,0],[-10,-1],[-21,5],[-11,-8],[-10,-17],[-8,-20],[-10,-16],[-12,-2],[-20,6],[0,9],[-1,7],[-34,38],[-21,22],[-5,13],[-20,25],[-1,1],[-33,40],[-13,25],[-4,18],[-2,22],[-5,15],[-11,18],[-18,2],[-8,-15],[-12,0],[-5,-6],[-16,0],[-34,33],[-9,26],[-14,51],[0,2],[3,63],[-5,30],[-7,7],[1,13],[9,7],[-4,15],[-10,5],[-10,2],[-18,10],[-7,4],[-19,18],[-10,17],[-1,15],[-9,11],[-13,0],[-7,5],[-2,7],[-4,6],[-4,-2],[-4,-1],[-2,4],[5,8],[0,11],[-1,7],[-5,2],[-8,5],[-5,19],[-2,21],[-11,29],[-15,23],[-12,7],[-12,-1],[-12,-19],[-13,6],[-9,-7],[-9,2],[-10,14],[-7,9],[-13,41],[-15,57],[-30,97],[-20,58],[-18,45],[-103,209],[-63,106],[-37,62],[-22,25],[-12,14],[-25,19],[-13,1],[-17,14],[-14,5],[-27,25],[-1,2],[-11,15],[-28,20],[-10,2],[-24,11],[-19,0],[-14,5],[-22,19],[-23,10],[-18,-10],[-8,13],[-6,3],[-9,-11],[-5,-1],[1,1],[1,4],[1,9],[-6,26],[-4,9],[-7,8],[-12,15],[-9,7],[-5,3],[-16,22],[-36,51],[-35,30],[-37,9],[-14,-12],[-9,1],[-11,-14],[-12,0],[-6,15],[-2,22],[-9,13],[-6,29],[-14,24],[-19,5],[-17,-20],[-9,-21],[11,-16],[-11,-52],[-23,-23],[0,11],[10,24],[-3,15],[-10,-4],[-20,21],[-6,7],[-10,-11],[-5,6],[5,14],[-7,9],[-12,0],[-10,11],[-13,9],[-12,11],[-2,1],[-9,4],[-9,-17],[-11,-1],[-7,15],[-8,8],[-16,4],[-7,11],[-15,16],[-9,0],[-16,-13],[-7,-5],[-6,19],[-17,11],[-9,13],[-21,18],[-20,7],[2,9],[-1,6],[-5,5],[-5,-1],[-4,-7],[-2,-4],[-5,-16],[-8,1],[-7,5],[12,7],[1,10],[-2,10],[-6,-3],[-7,0],[-7,5],[-9,6],[9,10],[-1,19],[-16,19],[-11,5],[-5,-2],[-11,6],[-2,14],[-6,15],[-16,18],[-30,31],[-35,20],[-21,5],[-9,2],[-36,-11],[-1,0],[-20,-17],[-14,-28],[3,-28],[1,-6],[-1,0],[-8,2],[-6,-8],[-2,-19],[-8,5],[-10,-16],[-7,-30],[-8,8],[-1,16],[2,17],[-4,19],[-6,16],[-15,14],[-8,13],[0,2],[-2,28],[-1,2],[0,22],[-10,16],[-17,18],[-14,10],[-11,-1],[-4,-7],[-5,8],[0,12],[-9,10],[-22,7],[-27,-2],[-16,-17],[-3,-9],[2,-10],[-8,-1],[-9,1],[-16,-16],[-1,-16],[7,-11],[1,-9],[-2,-4],[-7,1],[-12,-4],[-4,-9],[0,-8],[4,-9],[7,-7],[-4,-6],[0,-5],[-6,-3],[-5,0],[-15,13],[-2,13],[-6,1],[-6,13],[-2,5],[-12,8],[-14,5],[-5,-3],[-1,-7],[-4,5],[-1,11],[-38,31],[-65,5],[-1,-1],[-19,-4],[-22,-14],[-29,-29],[-64,-99],[-26,-51],[-6,-21],[-12,-19],[-4,-13],[-23,-35],[-10,-20],[-12,-41],[-16,-70],[-2,-5],[-10,-17],[-12,-11],[-21,-19],[-17,-29],[-17,-40],[-16,-46],[-10,-27],[-7,-16],[-14,-48],[-4,-21],[-12,-55],[-4,-19],[-6,-5],[-5,-5],[-9,-17],[-10,-18],[-4,-16],[-3,-15],[-3,-26],[-8,-7],[-6,-12],[-3,-15],[-12,-5],[-11,-11],[-20,-28],[-2,-4],[-1,-3],[-2,-27],[-13,-46],[3,-51],[-7,-21],[-15,-8],[-15,15],[-1,1],[-17,-4],[-15,4],[-7,-10],[-7,3],[-17,0],[-12,-16],[-5,-25],[-1,-3],[-7,-10],[-3,-17],[-6,9],[-9,1],[-5,7],[-5,11],[-16,1],[-24,20],[-14,3],[-16,-7],[-1,10],[-13,10],[-23,1],[-4,-4],[-7,-7],[-3,-15],[-12,-2],[-6,-1],[-1,7],[-2,12],[-6,7],[-55,31],[-19,0],[-17,21],[-12,1],[-2,13],[-50,37],[-1,1],[-66,21],[-24,-5],[-27,-27],[-5,-17],[0,-14],[-8,-10],[-5,-5],[-2,-10],[-3,-16],[-20,-13],[-5,-20],[-5,3],[-2,9],[-20,14],[-42,11],[-14,0],[-3,0],[-9,-5],[-10,2],[-4,-7],[-9,5],[-8,7],[-14,2],[-35,-12],[-7,-11],[-14,-28],[-32,-30],[-6,-31],[-8,-1],[-15,-19],[-16,-39],[2,-31],[-2,-9],[-4,-4],[-8,-42],[2,-13],[-1,-37],[7,-16],[14,-10],[8,-5],[4,-11],[2,-25],[3,-12],[7,-2],[4,3],[2,-3],[2,-5],[-3,-13],[-10,-8],[-9,11],[-14,0],[-9,15],[-12,19],[-8,10],[-2,2],[-14,16],[-1,0],[-9,2],[-22,10],[-22,37],[-11,23],[-10,12],[-115,90],[-24,18],[-5,4],[-56,34],[-111,57],[-38,17],[-32,9],[-44,7],[-22,-10],[-10,15],[-9,-3],[-31,-5],[-13,-8],[-19,0],[-23,-1],[-13,-11],[-10,-8],[-9,-2],[-4,-12],[-7,-4],[2,-24],[-6,-7],[-18,1],[-9,5],[-4,-14],[-8,-6],[-4,-10],[-5,0],[-4,5],[-20,-5],[-12,2],[-12,21],[-9,3],[-18,10],[-15,-8],[-9,8],[-7,15],[-22,4],[-5,12],[-14,11],[0,1],[-24,2],[-15,-4],[-21,-13],[-20,-21],[-1,-11],[-1,-8],[-1,-7],[-11,-17],[0,-10],[-4,-14],[-8,-16],[-2,-4],[-4,-10],[-11,-13],[-10,-2],[-9,14],[-3,7],[-10,0],[-9,3],[-2,1],[-7,6],[-9,-6],[-3,8],[-31,-14],[-12,-16],[-12,-3],[-9,-7],[-14,-10],[-7,-13],[-5,-8],[-8,-21],[1,-16],[9,-15],[4,-13],[-17,-41],[-10,-20],[-11,-11],[-3,10],[-8,1],[-18,-11],[-28,-27],[-32,-53],[-28,-77],[-2,-25],[-1,-8],[6,-12],[3,-29],[-1,-2],[-12,-36],[-3,-40],[7,-8],[-8,-35],[-2,-23],[-7,-15],[-7,-32],[-8,-44],[-1,-25],[2,-21],[8,-24],[10,-8],[4,-15],[3,-26],[-5,-8],[-6,-7],[-7,-12],[-10,-16],[-9,-8],[-7,-17],[3,-12],[-3,-15],[0,-12],[-7,-24],[-8,-10],[-10,-19],[-4,-15],[-1,-16],[2,-10],[3,-26],[5,-18],[-1,-23],[3,-15],[-6,-16],[-11,-22],[-6,-23],[-1,-11],[-1,-17],[-6,-45],[6,-25],[7,-5],[7,-16],[9,-7],[-1,-5],[-1,-9],[-7,4],[-8,4],[-6,-10],[-7,-19],[-2,-18],[4,-10],[-4,-1],[-15,10],[-6,-14],[-4,-13],[-9,19],[-8,-7],[-4,-13],[-2,-10],[-5,-4],[-4,24],[-5,8],[-5,3],[-6,-9],[-32,37],[-9,7],[-7,-6],[-4,-15],[4,-15],[-3,-17],[-8,1],[-7,12],[-6,31],[-6,5],[-24,-2],[-24,-12],[-24,-27],[-5,-6],[-4,-19],[-8,-16],[3,-17],[-3,2],[-2,-11],[5,-18],[1,-11],[7,-10],[2,-15],[-5,-6],[-9,-4],[-3,-20],[-5,-14],[-3,-26],[5,-12],[-8,6],[-4,-3],[-2,-13],[-4,-19],[-2,-9],[-10,-9],[-8,15],[-10,4],[-11,0],[-6,-15],[-11,-39],[-6,-8],[-8,8],[-7,7],[-21,20],[-15,19],[-9,20],[-11,-1],[-11,-23],[-2,-16],[5,-18],[-1,-34],[-10,1],[-5,-7],[0,-22],[-7,-15],[0,-14],[-15,3],[-15,10],[-4,9],[-20,29],[-19,4],[-19,-11],[-4,-21],[-4,-14],[-7,0],[-8,6],[-9,-5],[-9,-8],[-12,7],[-9,-9],[-6,-17],[-3,-22],[6,-20],[11,-9],[10,-9],[9,1],[4,-8],[5,-6],[-1,-21],[-4,-17],[-8,-8],[-16,-7],[-9,-2],[-2,-16],[-3,-15],[5,-24],[10,-7],[16,-9],[1,-11],[-10,-10],[-9,-3],[-7,-2],[-8,-19],[8,-19],[-2,-19],[-13,-21],[-14,-2],[-12,13],[1,13],[-10,15],[-9,-2],[-9,-6],[-16,4],[-18,12],[-13,8],[-11,12],[-10,-5],[-15,-16],[-9,-16],[-3,-21],[-3,-12],[-4,-14],[-3,-12],[2,-26],[-4,-32],[8,-33],[-2,-31],[4,-41],[-3,-18],[-4,-10],[-14,-14],[-8,-7],[3,-25],[3,-21],[-6,-19],[0,-19],[7,-9],[5,-16],[-14,-9],[-6,2],[-15,9],[-30,13],[-6,13],[-7,-1],[-14,-16],[-17,-6],[-15,-27],[-8,-33],[8,-67],[1,-46],[1,-30],[6,-37],[0,-27],[8,-33],[4,-27],[0,-32],[6,-13],[2,-12],[-3,-20],[2,-16],[13,-10],[5,-13],[2,-25],[5,-15],[12,-6],[2,-7],[-8,-18],[4,-14],[-17,-28],[-2,4],[-7,-8],[-5,18],[-4,38],[-6,11],[-6,0],[-7,18],[-3,15],[-15,28],[-17,24],[-13,0],[-12,-11],[-26,-8],[-5,1],[-7,17],[-21,10],[-25,20],[-35,52],[-3,-3],[-8,14],[-1,7],[-23,35],[-5,10],[1,9],[-1,28],[-21,58],[-3,25],[4,12],[-2,21],[-8,15],[-15,3],[-11,-9],[-5,-17],[2,-20],[-5,-20],[-16,78],[0,14],[-15,53],[-3,24],[-1,51],[1,24],[2,25],[6,31],[9,21],[10,21],[16,16],[12,2],[16,-11],[6,-9],[6,-6],[14,-1],[19,11],[23,22],[35,87],[3,30],[-2,27],[-13,15],[0,36],[-2,16],[-7,12],[2,20],[3,4],[5,-5],[6,12],[2,24],[13,33],[13,7],[10,-10],[14,-5],[8,11],[7,3],[2,11],[-3,13],[5,36],[7,12],[0,14],[15,22],[13,18],[7,24],[0,9],[-4,6],[-6,-5],[5,19],[1,23],[8,16],[4,5],[13,-14],[-1,-18],[5,-16],[7,3],[4,57],[3,11],[4,11],[-1,15],[-7,14],[-15,-6],[-12,-3],[-14,5],[-7,11],[3,11],[5,13],[5,30],[6,6],[11,-12],[10,3],[5,12],[-4,14],[-10,13],[-7,12],[-5,23],[1,21],[6,6],[21,7],[19,-2],[7,-8],[2,-11],[-3,-13],[4,-11],[7,8],[7,-1],[9,-10],[5,-26],[0,-14],[5,-12],[12,-2],[7,11],[3,21],[5,14],[32,15],[5,-2],[5,-3],[12,-11],[19,-35],[24,-21],[8,1],[7,1],[9,15],[0,22],[-8,17],[-8,17],[-11,26],[-7,29],[-13,7],[-10,18],[-10,12],[-4,16],[-2,25],[8,1],[0,17],[4,4],[0,25],[9,24],[14,18],[25,-8],[10,24],[11,7],[5,45],[-3,24],[-11,30],[2,23],[2,27],[4,20],[8,28],[13,31],[7,9],[11,0],[16,7],[6,12],[1,11],[-1,24],[-5,25],[3,5],[10,-3],[8,11],[10,17],[6,17],[5,15],[-5,24],[4,7],[-4,18],[0,17],[0,26],[1,47],[-1,43],[-9,40],[-3,25],[-7,26],[-21,37],[-40,53],[-20,23],[-27,10],[-32,-22],[-16,-14],[-5,-9],[-12,-22],[-9,-50],[-12,-22],[-8,-38],[-9,-23],[-11,-8],[-4,8],[-34,-5],[-13,-22],[-1,-18],[-2,-7],[-6,-3],[-6,2],[-8,-4],[-4,-13],[-11,-31],[-5,-21],[-9,-17],[1,-64],[4,-27],[0,-12],[-3,-12],[0,-25],[-4,-8],[-6,8],[-18,2],[-11,-5],[-5,-14],[-2,-26],[1,-21],[4,-9],[-3,-6],[-6,-3],[-4,11],[-6,14],[-12,10],[-9,1],[-10,-5],[-1,-10],[1,-8],[-6,-8],[-13,6],[-4,12],[-20,17],[-24,9],[-19,7],[-24,15],[-19,11],[-27,4],[-7,-9],[-11,-4],[-15,-2],[-3,-8],[2,-9],[-6,-5],[-3,18],[0,19],[-4,13],[-9,13],[-15,15],[-6,-3],[-5,2],[1,19],[1,17],[-8,4],[3,14],[-14,21],[1,13],[-12,11],[-3,13],[2,9],[-6,14],[-24,26],[-29,-4],[-38,-26],[-18,-12],[-23,-22],[-6,-33],[3,-24],[7,-38],[-6,-22],[-2,-24],[3,-19],[-12,-19],[-7,-27],[7,-26],[13,-22],[16,-23],[4,-20],[5,-26],[4,-51],[1,-35],[-8,-37],[-9,-37],[-2,-28],[10,-9],[12,-3],[9,-3],[-6,-8],[-15,-1],[-12,-6],[-15,-9],[-6,-1],[-30,-6],[-7,-4],[-7,9],[-12,-7],[-9,-19],[-3,-29],[8,-34],[6,-15],[2,-16],[8,-15],[-1,-14],[6,-14],[10,-1],[7,2],[10,-27],[-10,1],[-11,6],[-8,1],[-6,15],[-9,13],[-5,5],[-10,-3],[-10,-10],[-14,-10],[-12,-12],[-11,-18],[-6,-24],[-2,-17],[8,-24],[7,-16],[-4,-23],[-1,-16],[-4,-7],[-12,-10],[-5,-6],[-7,-4],[-9,-14],[-3,-19],[-3,-16],[-8,-18],[-8,-25],[-6,4],[-6,-6],[-4,-22],[-6,-18],[3,-17],[1,-4],[0,-9],[7,-11],[4,-16],[-2,-19],[0,-22],[6,-8],[2,-15],[-8,-11],[-5,-11],[-19,-14],[-9,-2],[-14,-15],[-6,3],[-14,-10],[-4,-21],[-12,-20],[-14,-5],[-10,3],[-9,11],[-20,0],[-11,-3],[-7,2],[-25,-2],[-27,-16],[-12,-24],[-1,-14],[-7,-22],[-7,-15],[-7,-9],[-3,-9],[-7,-12],[-5,-3],[-5,4],[-4,10],[-5,8],[-2,20],[-8,12],[-13,8],[-14,2],[-14,-5],[-12,-9],[-6,-16],[-3,-37],[-4,-15],[-7,-9],[-7,-10],[-3,-31],[-5,-27],[-5,1],[-12,-10],[-5,-22],[-5,-16],[-14,-54],[0,-12],[1,-18],[-13,-7],[-3,16],[3,17],[4,23],[-5,26],[0,20],[3,37],[-8,58],[-12,17],[-19,15],[-6,-5],[-1,12],[-11,78],[7,117],[3,39],[8,1],[5,35],[1,29],[-1,23],[5,102],[3,14],[0,36],[-2,22],[-10,28],[-7,10],[-1,49],[-5,10],[-3,17],[3,18],[1,25],[-5,23],[8,50],[2,20],[-1,22],[-2,20],[1,13],[-4,16],[-14,25],[-4,43],[3,15],[-1,27],[-3,28],[-8,26],[-14,17],[-18,17],[1,18],[1,13],[-10,18],[-1,5],[0,1],[-8,38],[2,19],[0,5],[13,4],[11,9],[34,28],[5,18],[1,25],[5,23],[2,25],[9,15],[5,1],[11,12],[17,33],[3,13],[8,31],[6,18],[2,17],[28,46],[13,15],[15,45],[1,57],[1,8],[1,17],[-3,26],[0,65],[-1,2],[-4,11],[-17,10],[-9,14],[-22,23],[-17,9],[-28,0],[-3,-12],[-10,-9],[-8,-15],[-5,-23],[-1,-8],[-1,-7],[8,0],[14,-15],[1,-3],[1,-5],[-13,-18],[-14,-6],[-12,-8],[-9,-18],[-3,-24],[-3,-14],[-8,-9],[0,-16],[-12,-23],[5,-7],[-9,-31],[-10,-24],[-5,-11],[-6,-9],[-16,-9],[-12,-23],[-7,-19],[-8,-16],[-3,-23],[7,7],[13,-23],[17,-27],[30,-16],[3,-13],[9,-8],[-20,-27],[-18,-19],[-16,-6],[-5,-5],[0,-10],[-7,-8],[-14,-4],[-27,-9],[-21,-19],[-7,-7],[-11,-26],[-2,-11],[-2,-10],[-5,-13],[-21,-40],[-5,-14],[-13,-68],[0,-8],[0,-6],[-1,-14],[-3,-64],[0,-62],[6,-17],[5,-5],[1,-6],[2,-16],[-3,-2],[-4,-1],[-9,-6],[2,-8],[-6,-24],[3,-33],[11,-35],[0,-2],[-2,-6],[-5,-16],[-14,-3],[-4,-51],[-1,-64],[6,-47],[23,-15],[1,-22],[7,-7],[21,-9],[1,-9],[21,-10],[9,-9],[-3,-17],[-22,-18],[-11,-14],[-1,0],[-30,-8],[-14,-33],[3,-23],[-6,-28],[-9,-10],[-17,-57],[19,-37],[12,-24],[5,-11],[0,-14],[-39,-22],[-27,-14],[-46,-23],[-7,-3],[-13,-20],[-3,-9],[2,-20],[0,-11],[2,-22],[-3,-29],[-4,-13],[-7,-5],[-10,-1],[-17,3],[-27,-14],[-32,-21],[-2,-2],[-13,-21],[-8,-9],[-3,-4],[-4,-13],[-2,-5],[-12,-15],[-14,0],[-10,-15],[-4,-6],[-5,-11],[-18,-13],[-28,-26],[-19,-26],[-8,-20],[-6,-47],[-1,-32],[6,-9],[8,-12],[10,-19],[4,-19],[0,-11],[-4,14],[-5,12],[-11,14],[-9,8],[-10,7],[-11,-3],[-7,-7],[-2,-11],[-2,-13],[-10,-14],[-11,-10],[-10,-14],[-4,-11],[1,-17],[-1,-21],[-9,-38],[-3,-16],[-6,-13],[-9,-14],[-6,-19],[0,-11],[-7,-24],[-8,-13],[-5,-18],[-8,-28],[-7,-32],[-13,-25],[-7,-36],[-13,-42],[-23,-46],[-3,-29],[-7,-26],[0,-21],[-6,-30],[-7,-20],[-6,-10],[-16,-21],[-13,-19],[-6,-25],[-5,-18],[-5,-6],[-12,-41],[-1,-14],[-9,-27],[-1,-13],[-5,-49],[-1,-37],[-8,-22],[-15,-40],[-10,-44],[-2,-27],[-2,-15],[-7,-29],[-8,-16],[-11,-36],[-6,-29],[-5,-51],[-1,-18],[-6,-9],[-7,-11],[-3,-16],[-5,-19],[-9,-26],[-5,-21],[-15,-38],[-5,-10],[-5,-27],[1,-35],[-3,-18],[-10,-26],[-8,-11],[-12,-12],[-12,-21],[-6,-19],[-2,-24],[-5,-26],[-5,-29],[-11,-4],[-16,-46],[-3,-40],[3,-46],[11,-35],[13,-22],[-6,-39],[-9,-28],[-11,-20],[-8,-35],[-14,-18],[-8,-5],[-23,-35],[-4,-5],[-4,-1],[-14,-13],[-8,-15],[-2,-37],[-6,-46],[-3,-20],[-7,-28],[-9,-4],[-7,-7],[-5,-19],[-5,-26],[-6,-18],[-10,-8],[-11,-16],[-5,-9],[6,-12],[-2,-6],[-18,-5],[-13,-19],[-7,-10],[-6,-18],[-3,-23],[2,-15],[2,-40],[1,-21],[-2,-17],[-6,-31],[-6,-9],[-3,6],[-5,1],[-11,-8],[-7,-10],[-10,-24],[-5,-16],[-1,-21],[1,-22],[3,-19],[0,-1],[3,-16],[-4,-13],[-6,-7],[-7,0],[-5,-3],[-18,-28],[-6,-7],[-6,-15],[-9,-28],[-4,1],[-14,-37],[-2,-28],[-16,-62],[-1,-24],[2,-25],[2,-29],[-1,-17],[-7,-6],[-13,-18],[-45,-90],[-15,-24],[-15,-34],[-8,-21],[0,-13],[-3,-28],[-5,-7],[-9,-31],[-6,-2],[-3,-5],[-7,-16],[-18,-38],[-27,-71],[-5,-13],[-10,-25],[-12,-20],[-20,-56],[-23,-62],[2,-16],[-2,-20],[-6,2],[-10,-14],[-12,-35],[-12,-17],[-28,-48],[-10,-28],[-1,-19],[-5,-30],[-7,-24],[-5,1],[-11,-8],[-14,-15],[-13,-17],[-6,-11],[-9,-6],[-20,-28],[-2,-12],[-12,-22],[-4,-26],[-6,-16],[-10,-26],[-10,-3],[-6,-2],[-24,-39],[-8,-26],[-1,-18],[3,-7],[5,-14],[-15,-24],[-6,-3],[-10,-23],[-7,-2],[-4,-8],[-4,-7],[-3,-30],[5,-32],[2,-16],[6,-5],[3,-11],[-6,-8],[-1,-17],[-4,-3],[-7,9],[-3,5],[-9,-3],[-7,-13],[-3,-16],[-4,-11],[-2,-12],[3,-28],[3,-11],[-5,-4],[-5,-5],[-3,-14],[3,-28],[0,-3],[1,-21],[0,-2],[0,-3],[2,-17],[0,-2],[17,-48],[16,-44],[8,-14],[18,-30],[7,-11],[-6,-18],[-6,8],[-62,35],[-8,5],[-14,13],[-8,7],[-17,6],[-3,1],[-4,6],[-3,11],[-6,7],[-11,-4],[-3,2],[-9,5],[-24,-4],[-8,2],[-11,19],[-10,-2],[-9,-7],[-9,0],[-5,6],[0,7],[0,29],[-2,6],[-8,19],[-5,11],[-4,10],[-13,16],[-5,10],[-5,21],[-2,23],[-2,8],[-10,21],[-1,9],[8,24],[1,8],[-5,14],[-10,24],[-3,14],[-9,23],[-15,27],[-13,18],[-9,8],[-18,6],[-10,8],[-13,20],[-2,11],[0,14],[-7,11],[-4,0],[-22,18],[-17,33],[-5,19],[-10,18],[-11,11],[-14,5],[-3,6],[-1,10],[4,35],[-4,31],[-4,20],[1,19],[-7,36],[1,16],[-1,11],[-6,12],[-2,16],[0,9],[4,14],[4,19],[10,21],[6,8],[22,19],[6,12],[0,27],[-4,29],[1,23],[15,36],[4,30],[-2,13],[-10,13],[-1,13],[4,14],[14,21],[5,21],[4,3],[12,-1],[4,4],[3,8],[0,43],[4,21],[0,6],[1,5],[-4,17],[0,15],[6,14],[1,21],[4,10],[-7,1],[-2,7],[5,9],[11,30],[-1,16],[4,5],[6,4],[14,20],[1,22],[-2,24],[-1,14],[6,15],[-3,13],[1,12],[5,19],[6,9],[4,24],[7,8],[4,13],[0,3],[9,47],[0,15],[12,26],[12,13],[2,17],[2,8],[13,18],[5,-3],[6,5],[-3,17],[5,13],[6,14],[7,24],[7,6],[5,10],[7,26],[-1,39],[0,3],[1,9],[6,13],[13,14],[7,19],[7,28],[9,14],[3,10],[1,24],[-2,9],[3,16],[0,10],[-2,12],[1,23],[-2,13],[-8,13],[-9,3],[-10,37],[2,34],[-3,16],[1,22],[-3,12],[-4,8],[-49,61],[-3,9],[-1,30],[-1,6],[-5,7],[-21,14],[-11,31],[-14,10],[-12,0],[-16,-13],[-4,-3],[-15,-21],[-8,-13],[-5,-22],[-17,-18],[-18,-13],[-48,-109],[-15,-39],[-1,-12],[-1,-9],[-4,-6],[-17,1],[-20,-13],[-2,-7],[0,-20],[-9,-19],[-26,-9],[-24,23],[-7,1],[-8,0],[-26,-13],[-5,0],[-16,24],[-8,7],[-33,1],[-32,-19],[-14,4],[-29,7],[-2,-8],[-4,-8],[-7,-1],[-9,12],[-10,2],[-9,-10],[-5,-38],[-4,-11],[-34,-37],[-6,-2],[-4,8],[0,8],[5,19],[-2,24],[-8,16],[-19,8],[-8,6],[-8,16],[-5,14],[-3,13],[0,16],[2,24],[-3,17],[-7,18],[-7,9],[-9,1],[-7,-5],[-2,-5],[0,-9],[15,-35],[4,-9],[1,-12],[-2,-10],[-4,-5],[-13,-9],[-7,-15],[-7,-11],[-5,-2],[-13,4],[-6,11],[-4,14],[1,28],[3,13],[7,26],[6,10],[13,14],[4,11],[3,13],[6,10],[13,14],[-1,17],[-10,17],[-4,12],[1,20],[6,16],[9,15],[21,17],[11,14],[6,11],[9,41],[-9,27],[-1,8],[2,14],[11,11],[16,13],[6,17],[-1,47],[-3,18],[-5,11],[-2,5],[-12,20],[-4,15],[1,19],[-3,8],[-3,2],[-5,18],[1,51],[-6,29],[1,11],[5,9],[5,8],[5,12],[2,17],[4,12],[26,23],[9,35],[29,21],[4,9],[6,13],[2,12],[-1,8],[5,10],[7,7],[5,1],[7,-1],[2,10],[12,6],[4,6],[-1,5],[0,9],[16,4],[8,11],[0,3],[0,14],[5,15],[19,43],[0,11],[-5,22],[1,17],[27,50],[2,12],[1,41],[-1,15],[1,6],[5,6],[6,23],[4,8],[2,13],[-1,42],[-19,11],[-11,56],[0,10],[-1,36],[-6,51],[-1,55],[0,26],[4,22],[0,10],[0,1],[-10,28],[-2,15],[-15,24],[-7,19],[-11,7],[-6,22],[-28,29],[-17,26],[-2,6],[-2,26],[3,7],[3,23],[0,16],[8,6],[12,-10],[20,-4],[20,-16],[6,3],[5,-2],[7,-14],[7,-7],[28,-6],[10,2],[8,6],[5,9],[6,15],[2,17],[0,14],[3,44],[0,38],[0,16],[2,12],[4,9],[14,15],[5,12],[9,11],[-1,45],[2,14],[2,19],[1,18],[4,17],[-3,7],[-6,10],[-3,31],[2,7],[0,5],[-5,14],[-5,31],[-7,6],[-30,12],[-7,7],[-6,11],[-1,27],[-3,13],[-8,18],[-17,26],[-19,82],[-23,43],[-15,14],[-8,13],[-2,51],[7,24],[1,16],[-4,15],[4,8],[-1,5],[-4,5],[2,7],[11,2],[11,7],[8,11],[25,4],[11,7],[2,3],[5,7],[8,20],[12,10],[24,7],[21,10],[2,5],[1,13],[0,41],[-5,22],[-8,19],[-10,16],[-47,56],[-10,16],[-4,14],[-10,19],[0,5],[13,27],[0,12],[-2,15],[-14,29],[-8,9],[-16,7],[-17,4],[-6,0],[-6,13],[-6,4],[-12,2],[-20,17],[-19,27],[-11,20],[-13,23],[-10,5],[-7,9],[-29,85],[3,37],[-2,9],[3,4],[4,2],[0,8],[-1,6],[-6,6],[-7,7],[-7,24],[-4,2],[-13,6],[-4,10],[-4,19],[-6,5],[-7,3],[-8,0],[-12,-7],[-20,1],[-14,-15],[-8,2],[-5,8],[-5,25],[-4,12],[-7,10],[-4,2],[-6,-1],[-4,-8],[-3,-13],[-5,-2],[-7,7],[-6,16],[-7,2],[-4,-3],[-5,-15],[-6,-3],[-16,22],[-8,6],[-18,-19],[-13,1],[-12,-4],[-7,-2],[-4,-6],[-3,0],[-7,9],[-20,5],[-16,-9],[-14,7],[-4,11],[2,11],[-9,27],[-19,19],[0,1],[-14,5],[-32,22],[-11,20],[0,3],[0,5],[13,15],[1,1],[7,-2],[2,1],[4,3],[3,16],[-6,50],[-18,84],[-2,5],[-4,10],[-6,5],[-6,2],[-8,-2],[-19,-11],[-14,-13],[-4,-3],[-35,2],[-6,-5],[-14,-15],[-12,-7],[-13,0],[-8,5],[-21,-1],[-1,-4],[0,-11],[-2,-12],[1,-12],[-4,-11],[-10,0],[-2,-6],[-3,-5],[-8,1],[-7,-13],[-25,-2],[-15,-1],[-26,-6],[-5,3],[-14,11],[-7,22],[-4,6],[-9,3],[-1,0],[-15,-4],[-5,-1],[-18,8],[-18,38],[-7,3],[-5,7],[-2,10],[0,12],[-6,20],[-3,10],[3,11],[1,10],[-7,22],[-3,6],[-4,1],[-22,5],[-9,9],[-6,9],[-12,9],[-17,16],[-8,17],[-4,22],[-8,28],[-2,15],[3,22],[4,9],[1,3],[19,34],[3,5],[10,19],[7,15],[4,10],[24,40],[6,12],[8,7],[9,9],[27,76],[32,48],[4,13],[8,42],[8,21],[3,1],[14,-10],[9,9],[2,9],[-1,1],[-5,18],[2,14],[4,6],[2,10],[5,2],[7,5],[0,9],[-4,7],[-9,8],[-8,4],[-6,11],[-5,14],[-7,10],[-10,4],[-24,-7],[-15,0],[-6,4],[-6,7],[-5,20],[-3,73],[-3,25],[-7,12],[-1,4],[-4,22],[2,21],[3,18],[0,7],[3,14],[9,31],[9,15],[12,8],[2,11],[0,10],[-5,12],[-21,39],[-6,2],[-12,2],[-23,-1],[-5,-5],[-6,-4],[-11,-4],[-5,6],[-10,1],[-4,7],[1,7],[4,8],[-1,12],[-5,9],[-11,7],[-9,10],[-23,16],[-6,13],[-11,13],[-1,4],[2,17],[-2,5],[-6,7],[-4,-1],[-8,-5],[-5,-1],[-9,6],[-9,14],[-8,12],[-4,1],[-3,-6],[0,-8],[-3,-6],[-20,10],[-8,13],[-10,32],[-8,19],[-12,12],[-12,4],[-3,2],[-4,11],[-8,14],[-7,4],[-2,-2],[-12,5],[-5,0],[-5,-8],[-2,-9],[-8,-10],[1,-12],[-7,-4],[-18,-2],[-32,-2],[-11,9],[-5,1],[-14,-8],[-7,-4],[-10,1],[-22,17],[-9,8],[-6,15],[-5,17],[-2,21],[2,17],[0,34],[-2,6],[-9,2],[-3,-1],[-16,0],[-5,-7],[-10,-27],[-8,-1],[-22,-16],[-2,-9],[-15,2],[-32,-13],[-6,2],[-4,-5],[-2,-8],[-18,-22],[-10,1],[-6,24],[-13,17],[-16,12],[-12,15],[-11,0],[-14,13],[-5,9],[-1,11],[-3,3],[-4,-3],[0,-16],[1,-12],[-6,-10],[-4,-12],[-6,-8],[-2,-9],[-3,-2],[-11,13],[8,19],[-2,43],[-6,16],[-7,6],[-8,17],[-13,8],[-4,-5],[-5,-3],[-4,10],[1,16],[-10,19],[-7,4],[-5,8],[-2,7],[-5,8],[-7,4],[-3,8],[-2,4],[-7,2],[-6,10],[-2,8],[-22,23],[-7,8],[-11,1],[-3,5],[-4,12],[-1,10],[-5,6],[-4,2],[-12,18],[-4,0],[-3,-7],[-10,-5],[3,-17],[-5,-11],[-7,-31],[-25,-23],[-12,-1],[-13,7],[-23,-12],[-4,-5],[-12,-31],[-7,-1],[-12,12],[-9,15],[3,14],[-4,15],[-9,18],[-6,-1],[-8,4],[-6,7],[-5,2],[-1,5],[1,7],[-3,11],[-4,-1],[-10,5],[-1,10],[-2,4],[-3,4],[-8,-2],[-19,-8],[-5,4],[-13,27],[1,23],[1,7],[-2,5],[-15,15],[-9,2],[-3,-2],[-5,8],[-5,3],[-18,3],[-13,-19],[-1,-18],[3,-10],[1,-8],[-2,-7],[-5,-7],[-10,-9],[-5,-1],[-4,4],[-7,3],[-10,-13],[-19,11],[0,3],[-1,5],[-1,5],[-2,4],[-5,1],[-7,7],[-2,10],[4,16],[0,6],[-3,6],[-4,6],[-4,0],[-2,12],[-6,31],[-2,14],[-5,19],[-6,14],[2,19],[-1,32],[-4,9],[-7,8],[-17,6],[-8,1],[-20,-4],[-12,11],[-12,-3],[-7,6],[-6,-3],[2,-8],[3,-8],[-1,-7],[-6,0],[-5,-4],[-9,-24],[-7,-9],[-13,-3],[-7,4],[-5,-6],[-7,-2],[-14,17],[-6,-1],[-6,-5],[-4,0],[-3,1],[-5,5],[-11,7],[-20,-16],[-5,-17],[-10,-17],[-8,0],[-7,-24],[-28,-16],[-2,5],[-3,18],[-1,11],[-7,21],[-1,24],[-2,6],[-6,5],[-8,16],[-11,0],[-8,-12],[-6,-26],[-6,-18],[2,-21],[-4,-11],[-7,-12],[-4,-1],[-4,-10],[3,-7],[-1,-21],[1,-20],[-7,-12],[-3,-13],[0,-8],[-3,-5],[-1,-8],[6,-7],[3,-15],[-3,-16],[-8,-9],[-14,6],[-11,2],[-6,-9],[-2,0],[-5,7],[-20,-3],[-3,-4],[0,-16],[-2,-5],[-7,-1],[-24,17],[-5,1],[-2,11],[-3,2],[-6,-3],[-6,-6],[-3,1],[-3,1],[-6,6],[-9,6],[-12,-7],[-3,-6],[-3,0],[0,6],[-1,6],[-3,-1],[-4,-4],[-5,-4],[-12,4],[1,11],[20,13],[3,9],[-1,7],[-3,3],[-6,-1],[-2,4],[-1,9],[2,8],[-1,10],[-3,3],[-5,2],[-6,10],[2,8],[2,6],[-2,8],[-5,9],[4,17],[-3,12],[-7,6],[0,6],[-6,8],[1,12],[3,5],[-3,10],[-5,0],[-2,7],[-5,8],[-13,5],[-1,0],[-5,0],[-6,8],[-7,-8],[-3,0],[-6,11],[-11,8],[-6,0],[-1,8],[-6,5],[-19,2],[-6,-5],[-3,-10],[-1,-8],[-4,-1],[-4,1],[-1,8],[-3,2],[-3,-3],[-3,-30],[-18,5],[-1,7],[3,8],[-1,5],[-6,4],[-7,10],[2,11],[1,29],[-9,7],[-3,14],[-20,17],[-5,1],[-4,-10],[-4,1],[-9,7],[-2,6],[-6,1],[-5,-3],[-2,-6],[-15,-3],[-4,-11],[-4,-3],[-11,-5],[-6,-10],[-8,-19],[-7,-5],[-5,2],[-12,18],[-4,6],[-4,17],[-6,7],[-7,2],[-4,-6],[4,-13],[4,-13],[0,-11],[-3,-14],[-10,-7],[-11,-19],[-8,-5],[-6,1],[-6,10],[-6,37],[0,17],[1,11],[16,38],[0,21],[-2,5],[-17,7],[-6,-15],[-4,-18],[-3,-2],[-4,3],[-2,12],[-5,14],[-15,14],[-15,-31],[15,-27],[2,-16],[-3,-11],[-9,2],[-8,-1],[-7,-7],[-7,-11],[-13,4],[-7,-4],[-5,-8],[-9,0],[0,9],[2,5],[0,6],[-3,8],[-7,5],[-2,15],[-5,-1],[-12,3],[-9,13],[-15,13],[-12,6],[-6,1],[-5,-3],[-7,12],[-3,7],[-8,6],[0,11],[0,3],[-11,13],[-1,7],[-3,14],[-6,12],[-274,282],[-34,35],[-18,20],[-140,144],[-119,123],[-215,224],[-111,51],[-122,61],[-17,9],[-43,20],[-48,23],[-23,12],[-7,5],[-7,3],[0,1],[-42,21],[-6,3],[-187,91],[-2,0],[-318,158],[-11,5],[-32,15],[-347,170],[-17,8],[-126,66],[-70,34],[-277,133],[-97,50],[-223,108],[-19,9],[-79,38],[-135,67],[-342,169],[-6,3],[-29,11],[-34,17],[-4,2],[-200,99],[-431,213],[-2,3],[-1,8],[1,4],[8,5],[1,15],[2,3],[-3,8],[-3,16],[-2,8],[-5,-5],[-6,11],[0,6],[6,2],[0,9],[5,15],[6,-2],[3,1],[3,10],[1,25],[-2,13],[-6,35],[-3,4],[-4,0],[1,7],[-6,0],[-1,17],[-1,9],[-12,27],[-15,20],[4,8],[-4,7],[-9,7],[-3,27],[4,24],[2,4],[-4,7],[6,18],[-5,7],[-5,1],[-7,17],[-6,7],[-5,16],[-2,5],[2,8],[-4,7],[-6,4],[-2,4],[-1,12],[1,5],[-3,18],[-7,11],[0,7],[2,6],[0,17],[-5,1],[-6,4],[-9,13],[-4,15],[2,9],[-3,10],[1,11],[-6,6],[-7,17],[-3,33],[0,5],[0,8],[4,8],[-4,23],[2,17],[-1,19],[-7,3],[3,19],[-2,11],[0,1],[-7,7],[0,24],[-3,13],[0,22],[0,1],[-9,24],[-2,6],[-1,15],[-2,19],[-3,-9],[-2,-10],[-4,-4],[-5,3],[-9,-1],[-5,2],[-6,3],[-1,31],[5,32],[-1,8],[-5,11],[-1,3],[-1,17],[0,7],[0,1],[3,22],[0,14],[-7,11],[-4,-3],[5,-9],[-1,-5],[-8,5],[-17,7],[-1,1],[-4,4],[-5,12],[-8,25],[4,20],[0,1],[9,12],[2,9],[-1,8],[-5,-3],[-7,-1],[1,15],[-3,18],[-9,8],[-6,8],[-13,15],[0,1],[-8,17],[-5,21],[0,32],[-4,13],[-6,5],[-3,8],[-7,24],[-2,10],[4,13],[-4,6],[-9,37],[0,15],[-5,16],[-13,14],[-6,0],[-22,-16],[-5,2],[-2,13],[0,11],[5,29],[-3,14],[-4,1],[-16,-23],[-23,-16],[-9,-3],[-7,4],[-13,-5],[-17,0],[-5,-11],[-6,-5],[-8,-1],[-8,9],[1,11],[2,13],[-7,11],[-6,-6],[-8,-2],[-3,-19],[-4,3],[-1,18],[2,16],[5,9],[2,5],[0,8],[-10,17],[-4,15],[-7,-8],[-3,4],[4,15],[5,14],[6,2],[5,5],[-1,5],[-2,11],[-15,29],[-4,-6],[-2,-13],[-11,-6],[2,-8],[-6,-15],[-8,0],[-23,18],[-7,6],[-1,-5],[3,-10],[0,-9],[-5,-3],[-3,5],[-5,-11],[-18,-3],[-10,9],[-3,-1],[-3,-4],[0,-9],[-10,-3],[-4,5],[-4,-8],[-10,10],[-1,23],[-2,14],[11,18],[9,41],[-4,15],[4,10],[4,8],[-2,14],[3,23],[0,2],[-2,19],[-10,5],[-8,8],[-2,14],[6,16],[-7,6],[-4,-7],[-6,11],[-1,6],[0,3],[-8,0],[-6,-9],[-6,5],[-5,16],[2,19],[0,7],[-1,5],[-5,-10],[-5,11],[-6,0],[3,8],[-1,4],[-10,1],[-6,6],[-6,-8],[-13,-4],[-6,-5],[1,-8],[3,-5],[5,-2],[6,-2],[1,-7],[-4,-10],[-2,-1],[-3,-1],[-4,2],[-7,12],[-4,-1],[-3,-13],[1,-6],[7,-7],[-2,-10],[-5,-5],[-2,-6],[-1,-17],[-2,-6],[-5,-5],[-17,-10],[-6,-3],[-4,2],[-4,1],[-1,13],[-2,4],[-6,-1],[-5,-11],[-3,-3],[-4,1],[-1,8],[-2,4],[-10,-5],[-9,-10],[-5,-3],[-7,-7],[-2,-17],[-6,-5],[-5,9],[-10,-9],[-4,-8],[-5,-7],[-4,-1],[-8,-4],[-6,1],[-2,-6],[-4,0],[-7,11],[2,5],[6,-1],[3,4],[0,4],[-1,7],[-9,-3],[-2,4],[-10,55],[-5,14],[-1,0],[-2,-4],[-3,4],[-3,10],[-9,17],[-7,40],[0,19],[-3,4],[-7,1],[-12,19],[-1,0],[-3,49],[-4,16],[-5,9]],[[47949,87455],[2,4],[11,24],[5,13],[1,1],[9,8],[4,20],[5,14],[2,12],[-5,6],[-2,5],[7,2],[3,4],[1,1],[14,8],[8,-1],[-2,-14],[11,-3],[1,0],[1,0],[6,0],[16,4],[2,1],[9,1],[1,-3],[18,-49],[-2,-10],[-12,-13],[-9,-7],[-1,-1],[-5,-4],[-15,-18],[-1,-1],[-4,-10],[-2,-9],[-7,-9],[-11,-2],[-5,-9],[-15,-12],[-13,-15],[-7,-7],[-1,8],[0,2],[-2,6],[-15,51],[-1,2]],[[47709,87339],[1,2],[3,4],[5,5],[1,2],[4,-2],[8,-3],[4,-4],[6,-7],[0,-4],[-1,-3],[-3,-2],[-2,-1],[-2,-7],[-3,-1],[0,-4],[-7,1],[-1,8],[-5,3],[-7,3],[-1,3],[0,7]],[[41445,79866],[2,5],[1,5],[2,0],[2,-2],[0,-2],[-2,-4],[-1,-6],[2,-5],[0,-1],[2,-2],[0,-3],[0,-2],[-1,-3],[-5,3],[-1,9],[-1,8]],[[40713,78635],[3,6],[4,3],[1,-1],[1,-1],[1,-4],[-2,-4],[-2,-1],[-1,0],[-3,-2],[-2,4]],[[42559,50043],[-96,-1],[-50,4],[-100,0],[-256,-1],[-8,1],[-1,0],[-17,-4],[-67,3],[-24,0],[-124,-3],[-13,1],[-65,0],[-85,1],[-100,-1],[-42,0],[-24,-1],[-33,1],[-213,0],[-5,1],[-29,0],[-29,-2],[-4,0],[-14,1],[-17,0],[-22,-1],[-23,1],[-41,-1],[-99,1],[-98,1],[-4,0],[-6,-1],[-93,0],[-54,1],[-6,1],[-37,-1],[-200,0],[-67,-1],[-235,0],[-26,-1],[-69,0],[-129,1],[-233,1],[-329,0],[-63,-1],[-3,0],[-33,-1],[-654,0],[-9,1],[-89,-1],[-44,0],[-52,-1],[-294,0],[-52,-1],[-199,-1],[-408,0],[-127,-4],[-1454,0],[-107,-1],[-35,-1],[-90,0],[-182,1],[-381,0],[-14,-1],[-19,1],[-325,0],[-93,1],[-629,0],[-5,-1],[-187,1],[-393,0],[-124,2],[-199,3],[-33,0],[-35,1],[-957,0],[-44,1],[-14,0],[-141,1],[-32,0],[-78,-2],[-321,0],[-155,2],[-863,0],[-43,-1],[-289,0],[-66,1],[-66,2],[-65,0],[-65,-1],[-3,1],[-131,-1],[-95,0],[-95,-2],[-12,0],[-41,3],[-158,0],[-99,3],[-20,-6],[-61,0],[-184,-1],[-168,0],[-41,-1],[-23,0],[-131,1],[-1,0],[-66,2],[-1,1],[0,-1],[-68,-2],[-38,0],[-1,-1],[-43,-1],[-17,-1],[-32,-1],[-752,0],[-108,1],[-289,0],[-240,1],[-148,0],[-248,1],[-143,0],[-193,1],[-198,0],[-128,1],[-263,0],[-63,-1],[-339,0]],[[25200,50041],[0,864],[-1,20],[0,585],[1,58],[0,2248],[-1,88],[1,18],[0,217],[1,15],[-1,45],[0,76],[-1,14],[1,89],[0,16],[1,592],[0,474],[1,223],[0,471],[1,6],[0,136],[-1,85],[0,27],[1,93],[0,356],[1,13],[-1,25],[0,121],[1,95],[0,571],[1,142],[0,12],[-2,86],[1,18],[0,359],[-1,82],[1,136],[0,4],[1,711],[0,297],[1,298],[1,123],[0,3],[-1,346],[0,11],[-1,118],[0,118],[-1,15],[1,44],[0,58],[1,6],[0,1],[-1,355],[-1,341],[0,21],[1,116],[-1,33],[-1,430],[1,122],[0,16],[-1,520],[1,65],[-1,11],[0,350],[1,10],[-1,228],[0,463],[1,204],[0,14],[-1,35],[-1,257],[-1,240],[0,242],[-4,29],[-1,1],[-8,16],[-3,33],[-14,52],[-15,28],[-5,12],[-2,16],[-2,36],[-2,8],[-2,6],[-29,108],[-11,55],[-22,90],[-11,19],[-32,51],[-20,20],[-45,65],[-31,23],[-29,16],[-20,6],[-32,24],[-22,18],[-31,31],[-11,9],[-14,11],[-19,29],[-55,62],[-50,37],[-4,4],[-45,9],[-31,0],[-24,8],[-48,-10],[-27,13],[-17,-3],[-9,2],[-7,1],[-11,8],[-8,14],[-21,35],[-32,74],[-5,16],[-24,73],[-45,121],[-23,46],[-5,14],[-13,67],[-6,56],[-13,44],[-3,16],[-1,31],[-6,36],[-20,92],[-4,20],[-26,106],[-11,37],[-5,18],[-52,121],[-13,44],[-29,79],[-18,29],[-9,10],[-111,257],[-19,44],[-10,21],[-1,3],[-8,19],[-9,20],[-14,28],[-11,24],[-2,6],[3,26],[15,48],[2,39],[0,1],[11,72],[14,95],[11,48],[17,36],[10,17],[17,12],[3,5],[2,4],[86,119],[34,42],[96,118],[12,29],[23,65],[17,23],[113,134],[40,36],[39,34],[48,54],[3,3],[31,50],[34,68],[34,107],[0,2],[8,47],[2,30],[1,10],[7,29],[20,63],[4,25],[5,17],[8,14],[24,27],[19,28],[16,39],[19,61],[17,45],[12,18],[20,21],[10,22],[3,8],[12,49],[7,61],[0,40],[3,17],[7,27],[1,29],[4,126],[-5,29],[-1,15],[10,42],[-3,39],[4,85],[9,12],[2,26],[-3,34],[3,29],[-1,36],[4,20],[2,7],[1,4],[0,17],[6,6],[-3,13],[-4,4],[-4,6],[-5,-6],[-3,5],[1,11],[1,3],[3,29],[7,-2],[4,17],[5,5],[-1,13],[-1,44],[3,75],[4,16],[4,72],[-3,17],[-9,22],[-2,27],[0,32],[-9,11],[-7,41],[-7,140],[0,79],[-4,107],[-2,18],[-6,30],[6,72],[-8,44],[-2,15],[-2,28],[14,92],[24,114],[18,34],[5,24],[5,30],[-2,11],[5,14],[1,34],[-5,19],[0,8],[6,25],[-2,10],[-1,12],[4,13],[1,4],[4,36],[-6,25],[-3,22],[3,17],[-1,48],[-7,30],[3,14],[-4,22],[-14,25],[1,5],[0,12],[-9,16],[-4,24],[14,12],[8,3],[-9,25],[-9,-1],[-5,3],[-4,30],[-5,3],[-7,7],[2,10],[6,4],[2,35],[-7,9],[8,8],[-2,11],[-7,9],[1,18],[-12,53],[-9,15],[-6,23],[-4,30],[4,10],[3,7],[1,30],[6,24],[-6,9],[-6,5],[7,13],[0,30],[-9,6],[6,9],[-7,13],[-8,1],[-1,11],[11,5],[1,15],[-6,4],[-5,2],[12,18],[-1,7],[-15,0],[-5,-3],[-1,-11],[-6,8],[-10,-16],[-5,5],[2,15],[1,12],[10,8],[-1,19],[5,-3],[4,4],[-3,9],[-8,8],[-7,8],[14,10],[-7,8],[3,7],[4,6],[-4,12],[-6,4],[9,14],[0,15],[9,7],[-9,7],[-12,3],[2,2],[4,8],[15,3],[3,7],[2,25],[-13,6],[10,21],[-2,2],[-8,-2],[-5,5],[5,19],[5,1],[6,2],[1,8],[-10,13],[-14,-11],[8,37],[-14,8],[4,36],[-13,14],[3,28],[-10,39],[3,36],[-1,2],[-5,24],[-1,7],[3,20],[-1,10],[-1,18],[2,13],[9,8],[3,10],[6,2],[4,-2],[3,-1],[12,12],[5,7],[1,2],[4,21],[-5,2],[-1,1],[-10,-8],[-8,1],[-5,9],[-6,13],[-3,14],[5,9],[3,7],[-1,15],[-1,3],[-3,12],[-13,15],[-7,6],[2,2],[2,14],[1,0],[0,3],[7,32],[-3,18],[1,2],[5,11],[-5,10],[7,6],[1,14],[-2,13],[-3,8],[-7,17],[-6,10],[3,15],[1,4],[12,17],[2,10],[-1,1],[-4,2],[-17,-5],[0,11],[18,13],[0,14],[-3,11],[-16,6],[-12,6],[1,12],[25,20],[1,13],[-10,16],[-7,7],[-3,14],[7,10],[4,17],[0,24],[6,31],[0,16],[4,12],[0,14],[-11,10],[-2,7],[4,48],[-3,15],[-16,-9],[-1,3],[-1,5],[4,6],[17,14],[0,10],[-4,6],[-14,-1],[-9,13],[-3,21],[-7,15],[-12,5],[-6,17],[-12,6],[-1,10],[7,25],[7,14],[-3,14],[-13,0],[-25,17],[-3,8],[1,18],[-1,13],[-7,-4],[-6,-8],[-7,0],[-16,-10],[-8,-13],[-9,7],[-10,51],[2,18],[14,14],[-1,14],[-9,1],[-14,10],[-15,20],[-4,29],[-1,1],[-4,8],[-8,11],[9,16],[-1,7],[-27,0],[-4,17],[2,30],[-10,39],[5,21],[-4,11],[-5,12],[6,1],[5,9],[-8,3],[-12,-7],[-5,11],[7,14],[2,17],[-13,38],[-7,41],[-7,21],[-5,4],[-9,-11],[-10,-8],[-7,33],[6,13],[10,10],[0,15],[-6,5],[-20,-6],[-15,-10],[-11,15],[-3,13],[6,10],[10,-2],[11,-12],[5,9],[-3,21],[1,19],[-3,7],[-11,-18],[-9,-6],[-12,-15],[-5,6],[0,10],[8,28],[1,20],[0,1],[11,10],[-8,8],[-2,11],[3,11],[-5,3],[-11,-12],[-6,6],[1,20],[9,16],[4,23],[-4,14],[-15,-24],[-9,7],[-4,14],[-9,-4],[-6,11],[-4,12],[-11,1],[13,16],[19,-4],[-14,26],[9,9],[0,8],[-5,1],[-5,-3],[-2,-2],[-8,4],[0,1],[-6,13],[1,6],[1,4],[23,1],[4,8],[-3,16],[-11,6],[-2,11],[4,13],[7,-8],[7,3],[0,25],[2,14],[-9,9],[-9,2],[-5,7],[4,11],[13,15],[2,10],[-12,2],[-7,10],[-9,-21],[-6,26],[9,16],[21,7],[-4,13],[-7,2],[-9,3],[-9,-17],[-14,8],[1,17],[0,20],[-8,4],[-4,14],[-7,-2],[-10,-5],[-8,1],[-3,14],[9,16],[11,10],[-2,12],[-7,8],[-8,3],[-6,13],[4,11],[15,4],[-9,30],[12,6],[-6,23],[4,14],[-7,5],[-9,3],[1,5],[5,20],[-6,2],[-10,-17],[-3,7],[22,41],[8,-9],[-5,29],[-8,7],[-8,17],[1,12],[16,-3],[-5,19],[-6,19],[2,17],[-8,19],[-13,-5],[-3,11],[24,11],[2,19],[-6,14],[-13,-9],[-10,4],[6,9],[5,23],[-2,27],[-2,13],[-9,8],[3,7],[11,-1],[13,-7],[-1,12],[-3,6],[-3,3],[-6,7],[0,8],[-2,6],[-2,7],[3,4],[4,0],[0,15],[-2,6],[-4,3],[-9,-5],[-16,8],[1,9],[7,6],[6,16],[5,6],[5,-11],[4,-14],[4,6],[-1,12],[-13,26],[-5,0],[-7,-10],[-2,3],[8,38],[3,15],[-5,3],[-16,-6],[-7,9],[2,10],[7,4],[11,1],[5,6],[-3,7],[-11,10],[-5,10],[6,4],[13,-2],[2,19],[2,3],[1,1],[9,-15],[2,6],[-4,10],[-1,1],[-2,14],[-6,0],[-6,5],[6,11],[2,14],[-7,7],[-12,-5],[-6,2],[-1,7],[2,8],[6,6],[12,-1],[3,8],[-3,11],[-7,4],[-11,1],[-6,-5],[-5,-12],[-3,6],[1,13],[-4,12],[6,0],[6,3],[4,9],[2,13],[3,11],[0,7],[-5,-2],[-7,3],[4,9],[7,4],[-1,16],[0,9],[-4,7],[-13,-13],[-9,6],[-10,16],[0,19],[9,1],[8,-3],[6,11],[1,17],[-7,6],[-14,-12],[-7,5],[-5,26],[-7,10],[-6,-8],[-4,-21],[-4,12],[-2,27],[0,9],[7,10],[-7,12],[13,14],[-1,11],[-11,-3],[-15,-7],[-7,10],[1,10],[10,5],[10,9],[-7,14],[1,18],[2,8],[8,1],[0,12],[-6,6],[-8,-11],[-6,-10],[-10,5],[-4,19],[7,5],[10,-4],[5,10],[-3,27],[-7,-8],[-11,-5],[-6,4],[-7,-9],[-7,1],[0,17],[13,19],[15,8],[1,22],[-18,-6],[-13,-20],[-9,4],[-2,9],[5,11],[13,6],[3,17],[-2,14],[-13,-16],[-17,16],[-5,3],[1,-17],[-3,-7],[-5,4],[0,10],[6,25],[11,9],[6,35],[5,6],[12,10],[-2,7],[-10,5],[-4,7],[-2,18],[-9,17],[11,10],[0,11],[-20,36],[-7,7],[0,33],[6,10],[-9,12],[1,1],[6,11],[-2,18],[7,13],[-17,11],[0,13],[11,2],[7,-9],[5,3],[1,10],[-2,19],[8,3],[1,15],[-7,3],[-9,-5],[-7,9],[-1,33],[8,6],[1,0],[7,5],[3,-17],[4,-8],[14,1],[2,9],[-3,8],[-17,20],[-4,12],[1,9],[10,-4],[11,-10],[1,23],[11,4],[1,15],[-3,7],[-10,2],[-6,5],[-2,16],[9,7],[5,3],[-2,11],[0,7],[6,7],[-8,41],[-1,14],[11,0],[-1,9],[-13,2],[-8,7],[-1,6],[6,8],[9,7],[10,4],[-1,3],[-3,8],[-14,13],[0,10],[10,4],[9,9],[-1,5],[-8,7],[-4,10],[10,16],[6,4],[1,1],[1,0],[-3,9],[-13,4],[-8,-4],[-6,2],[3,16],[18,7],[16,24],[-6,12],[7,11],[1,12],[-1,22],[-5,-4],[-5,-5],[-5,10],[-1,25],[12,7],[-8,22],[7,9],[-1,11],[-4,17],[5,1],[0,10],[-4,5],[-10,0],[-3,13],[4,4],[10,-2],[0,13],[-12,8],[-3,13],[6,2],[3,9],[-1,9],[-7,4],[-3,9],[8,8],[0,7],[1,8],[-9,1],[-7,8],[-1,13],[6,3],[10,-13],[6,3],[-2,20],[-8,9],[0,10],[5,3],[7,-6],[11,-6],[4,11],[-5,12],[-15,2],[-13,8],[-6,16],[6,4],[31,-16],[9,12],[-2,15],[-29,9],[-11,13],[-6,35],[4,5],[10,-9],[5,3],[4,16],[-2,18],[-7,2],[-10,-8],[-8,-12],[-12,-2],[-6,13],[20,43],[11,18],[0,4],[-1,9],[-8,10],[3,16],[-17,-6],[-6,12],[-3,14],[1,11],[8,15],[-2,10],[-5,7],[-10,-3],[-8,6],[2,11],[11,7],[7,11],[-1,25],[0,1],[-5,10],[-14,-3],[-4,8],[3,6],[18,6],[3,11],[-2,7],[-17,15],[-3,9],[2,9],[5,8],[3,17],[-1,24],[-1,12],[6,19],[1,4],[18,8],[-1,21],[4,18],[7,-4],[19,-9],[8,-14],[4,9],[-9,20],[-13,19],[-24,23],[3,12],[20,-15],[6,3],[7,29],[1,6],[-13,14],[-3,10],[2,10],[17,-1],[11,-15],[11,-3],[1,13],[-6,15],[-8,13],[-8,17],[1,14],[8,12],[17,11],[1,15],[-4,5],[-7,1],[-15,-11],[-9,7],[-5,25],[6,7],[19,-15],[7,4],[-4,24],[-7,12],[-3,4],[-13,22],[1,13],[3,12],[7,22],[1,13],[-1,6],[-4,12],[9,16],[10,10],[-1,10],[-9,8],[-3,9],[-1,0],[-3,20],[3,7],[16,-9],[11,17],[3,-12],[-2,-12],[3,-7],[5,1],[4,17],[3,35],[-2,8],[0,1],[-5,0],[-7,-6],[-6,6],[-4,35],[4,6],[0,1],[13,20],[-2,14],[-15,4],[-6,13],[5,33],[15,7],[-1,12],[-9,16],[10,27],[10,-13],[6,-1],[4,20],[3,17],[-1,26],[8,16],[-5,22],[2,10],[22,-37],[8,8],[-20,30],[-8,16],[-5,28],[6,9],[15,-13],[11,2],[1,12],[-34,16],[-6,10],[1,13],[10,2],[10,-13],[7,6],[-2,20],[-12,12],[-2,21],[-5,3],[-7,-10],[-32,-26],[0,-21],[-5,-17],[-1,0],[-4,-3],[-2,17],[-5,2],[-12,-31],[-7,3],[3,36],[-3,8],[-6,0],[-5,-18],[-4,-6],[-4,10],[0,49],[5,30],[-7,24],[1,7],[1,27],[-3,19],[-9,2],[-9,-20],[-3,2],[-13,13],[-6,9],[5,8],[1,2],[8,0],[4,6],[2,17],[0,6],[-1,9],[-2,11],[-12,18],[-1,17],[12,7],[6,26],[10,27],[-19,25],[-5,-7],[3,-13],[-2,-16],[-7,13],[-3,14],[-5,3],[-3,-26],[-8,-6],[-9,8],[-3,11],[-7,7],[-10,1],[-4,4],[-7,16],[-5,13],[6,14],[5,36],[0,5],[-9,74],[-11,13],[0,11],[8,5],[4,7],[0,9],[-7,18],[0,24],[4,16],[9,-7],[4,5],[-5,10],[-8,9],[1,12],[6,12],[-1,7],[-6,1],[-10,-16],[-5,0],[-1,21],[-6,9],[-6,-8],[-5,0],[-3,19],[-4,5],[-9,-10],[-5,6],[6,18],[14,11],[-1,23],[5,20],[-2,8],[-6,8],[3,8],[10,7],[3,15],[1,9],[11,14],[22,11],[9,-6],[6,1],[1,12],[-9,16],[-5,19],[-7,11],[-16,-5],[-4,10],[2,15],[9,6],[17,-5],[8,6],[12,38],[-3,13],[-7,0],[-5,-9],[-4,-17],[-10,-8],[-5,16],[7,32],[11,38],[-3,15],[-7,0],[-19,-20],[-4,3],[2,11],[20,16],[11,25],[-4,12],[-20,19],[-1,10],[11,14],[-1,13],[-8,1],[-6,-5],[-8,3],[-6,12],[7,9],[13,-5],[12,-4],[3,13],[-2,6],[-3,8],[-1,3],[-6,13],[-2,41],[4,12],[6,9],[1,9],[-3,5],[-5,-2],[-5,-4],[-5,-11],[-4,-1],[-4,7],[-2,10],[11,16],[22,14],[9,3],[3,12],[-10,12],[-5,15],[2,14],[9,13],[5,13],[-2,7],[-15,11],[-14,-14],[-5,4],[0,9],[3,5],[21,8],[6,8],[-1,26],[1,25],[-13,16],[6,21],[11,15],[0,18],[-3,25],[-10,-12],[-5,6],[-4,10],[2,18],[5,17],[-2,18],[-7,15],[-11,9],[-8,20],[-8,-4],[-10,2],[-10,11],[2,11],[6,5],[17,-8],[11,0],[4,4],[2,14],[1,19],[13,10],[2,22],[-10,4],[-12,-16],[-9,-7],[-5,9],[2,16],[11,15],[2,14],[-4,14],[-6,37],[-7,7],[-9,7],[-1,13],[5,7],[13,5],[1,8],[-7,18],[-4,10],[-4,1],[-8,-10],[-5,1],[-9,15],[0,2],[-4,6],[1,10],[10,2],[5,7],[-1,14],[0,11],[6,-1],[5,-8],[10,-6],[18,1],[7,12],[1,5],[-1,7],[-8,8],[-18,-3],[-5,11],[6,11],[20,3],[8,5],[6,11],[3,16],[-5,9],[-6,0],[-7,5],[-3,14],[3,15],[7,24],[-3,11],[-10,2],[-7,-2],[-8,3],[-8,17],[3,12],[10,-4],[9,1],[6,6],[0,18],[-9,14],[4,6],[11,-1],[5,17],[-5,12],[-11,-5],[-18,-14],[-10,3],[-4,11],[4,13],[7,9],[14,5],[7,7],[1,15],[-8,17],[-23,20],[-10,11],[-4,-2],[-3,-7],[2,-18],[0,-18],[-7,-3],[-9,18],[2,18],[18,35],[10,24],[6,8],[7,-6],[6,-15],[7,-2],[2,13],[-8,20],[-9,12],[-11,8],[-5,10],[3,9],[12,2],[6,6],[1,15],[-8,16],[-9,13],[-5,14],[2,9],[10,14],[1,17],[-5,14],[-6,4],[-8,-2],[-4,-9],[-1,-25],[-6,-9],[-9,8],[-2,21],[10,17],[13,11],[22,14],[2,13],[-9,14],[-11,1],[-12,2],[-6,16],[6,18],[12,14],[10,-10],[9,-22],[6,1],[3,6],[0,18],[-6,20],[-5,9],[-3,5],[-6,11],[-5,26],[-6,-2],[-4,-8],[-2,-13],[-6,-9],[-6,9],[3,20],[10,16],[9,6],[13,10],[3,18],[-10,22],[-4,15],[-6,0],[-5,-15],[-8,-9],[-6,8],[-1,12],[10,18],[7,8],[2,11],[-3,4],[-5,3],[-9,3],[-5,5],[2,9],[9,3],[11,1],[7,8],[4,7],[-4,16],[-13,-1],[-8,-4],[-3,-7],[-9,-5],[-3,16],[8,22],[10,0],[11,-7],[10,6],[4,15],[-8,18],[-10,-3],[-13,-1],[-10,10],[-2,17],[5,11],[16,9],[2,12],[1,13],[-4,61],[-9,51],[1,26],[36,99],[7,8],[-2,14],[-9,20],[-5,13],[-5,5],[-5,-2],[-5,-18],[-9,-3],[-3,16],[5,20],[-4,12],[-8,3],[-4,10],[4,10],[13,12],[11,1],[10,4],[3,11],[-4,18],[-3,18],[-1,1],[7,10],[12,0],[3,3],[5,7],[1,11],[-4,12],[-8,9],[-9,3],[-4,-4],[-6,-19],[-8,-13],[-8,-1],[-7,5],[-3,10],[-1,13],[6,13],[8,7],[18,-2],[6,4],[9,30],[5,24],[-5,12],[-10,8],[-10,-4],[-8,3],[-9,36],[-11,17],[-3,20],[7,7],[8,6],[-5,14],[-1,13],[3,5],[18,-10],[4,12],[-3,10],[-25,4],[-14,4],[-8,13],[0,13],[4,9],[10,16],[-2,17],[-5,12],[-8,1],[-14,-1],[-5,12],[3,11],[17,8],[24,-15],[8,4],[16,20],[4,10],[-6,13],[-10,-4],[-14,-22],[-11,1],[-10,11],[-7,6],[-2,11],[7,10],[13,-1],[8,-1],[8,7],[1,16],[-11,15],[-7,6],[-4,14],[6,11],[9,-6],[11,-12],[8,2],[6,11],[-2,15],[-10,15],[0,12],[11,9],[3,10],[-7,28],[-5,7],[-2,-7],[-6,-3],[-9,3],[-9,9],[1,12],[9,11],[9,4],[11,14],[2,11],[-10,10],[-9,20],[-19,15],[-7,10],[3,10],[16,9],[12,13],[5,10],[-1,8],[0,1],[-8,1],[-20,-15],[-16,-5],[-8,6],[-1,3],[-12,32],[-1,7],[4,16],[-1,7],[-7,2],[-9,8],[-9,-6],[-7,-1],[-2,10],[4,7],[20,7],[5,11],[11,9],[12,6],[5,12],[-3,11],[-7,5],[-8,-1],[-9,-6],[-5,5],[-2,9],[3,9],[10,10],[7,3],[5,5],[12,3],[2,7],[-5,9],[-15,6],[-5,4],[-7,10],[0,14],[8,5],[11,4],[3,13],[-5,15],[-7,35],[1,12],[3,7],[4,10],[-7,22],[3,8],[9,2],[4,6],[0,9],[-6,9],[-10,-1],[-12,3],[-2,14],[4,8],[11,0],[14,11],[3,7],[-1,12],[-11,20],[-7,24],[-5,50],[3,10],[9,0],[15,26],[3,17],[-2,11],[-14,11],[-12,-5],[-13,-31],[-8,-4],[-6,7],[0,13],[7,10],[10,31],[9,4],[15,-9],[8,4],[5,19],[-3,13],[-34,21],[-4,6],[-2,10],[5,9],[8,-5],[13,11],[4,9],[3,6],[10,12],[11,12],[0,1],[-1,9],[0,2],[-5,6],[-7,8],[-1,26],[0,26],[5,9],[10,-13],[16,9],[5,10],[-3,12],[-8,4],[-14,-7],[-9,3],[-3,12],[1,11],[6,8],[7,-2],[11,-9],[9,5],[4,21],[-4,11],[-9,4],[-8,-6],[-19,-17],[-15,5],[-9,8],[-6,12],[-1,26],[-9,23],[-1,17],[-4,8],[-9,6],[-2,12],[5,8],[23,2],[7,4],[10,33],[12,23],[1,12],[-6,8],[-12,-10],[-8,2],[-6,12],[0,16],[9,10],[16,3],[9,-11],[5,-15],[3,-10],[6,-7],[8,6],[3,15],[-6,19],[-10,12],[-29,17],[-5,12],[13,14],[6,6],[16,32],[-2,13],[-9,7],[-14,4],[-12,25],[-2,12],[1,6],[4,4],[12,-6],[9,4],[13,24],[8,15],[0,11],[-6,4],[-12,-10],[-15,-10],[-17,-16],[-10,6],[-9,22],[-1,21],[7,10],[6,1],[20,-20],[14,2],[9,10],[0,15],[-8,15],[-6,6],[-13,12],[2,12],[10,13],[10,22],[4,47],[1,9],[2,23],[4,20],[-4,12],[-7,5],[-19,19],[2,9],[12,-1],[8,4],[4,13],[-4,16],[-11,9],[-4,13],[7,34],[-2,13],[-1,8],[-5,18],[-11,12],[-15,1],[-6,6],[-8,16],[-10,-12],[-5,2],[-1,9],[10,18],[1,7],[-1,4],[-18,10],[-10,-2],[0,14],[12,17],[-2,13],[-10,5],[-4,8],[5,10],[12,-2],[4,12],[-4,7],[-13,0],[-7,12],[-3,30],[-20,43],[1,11],[12,9],[6,8],[1,63],[-2,10],[-13,25],[-2,51],[6,23],[1,16],[-6,26],[-8,19],[0,18],[9,12],[3,3],[3,12],[-6,4],[-17,-9],[-11,3],[-4,11],[2,30],[-10,63],[-1,34],[-3,12],[-5,7],[-4,0],[-8,-21],[-6,-6],[-6,2],[-3,7],[-1,15],[10,23],[-2,10],[-7,19],[-6,28],[-4,11],[-5,-2],[-12,-20],[-8,4],[-1,15],[9,16],[9,2],[8,11],[3,17],[-3,14],[-12,3],[-12,15],[0,8],[-1,9],[4,18],[-2,22],[-8,8],[-6,-5],[-7,-20],[-8,-7],[-8,10],[1,19],[8,10],[16,15],[13,18],[3,12],[-2,7],[-16,13],[-4,35],[-18,36],[-7,24],[-2,14],[1,11],[12,26],[3,16],[0,28],[-2,20],[-7,12],[-11,11],[-13,8],[-4,12],[5,9],[12,-8],[8,-6],[8,1],[3,8],[-5,8],[-17,14],[-5,11],[-3,5],[0,5],[-1,3],[-1,12],[5,18],[7,17],[-1,9],[-13,8],[-21,34],[-4,24],[-10,1],[-10,-6],[-10,2],[-3,12],[11,20],[2,12],[-13,0],[-7,5],[-3,12],[7,21],[-3,13],[-12,-21],[-8,-2],[-3,4],[0,13],[6,20],[7,12],[14,13],[0,7],[-2,9],[-19,23],[-8,23],[-4,22],[-15,-14],[-8,-5],[-8,3],[-2,13],[3,18],[11,2],[3,7],[-7,9],[-17,3],[-14,12],[-9,14],[-16,6],[0,15],[10,5],[21,-8],[9,8],[3,15],[-8,35],[-1,41],[2,17],[5,2],[10,-4],[5,7],[-3,14],[-6,7],[-16,4],[-9,-5],[-9,3],[1,9],[14,16],[3,17],[-10,23],[-7,40],[-8,4],[-13,-2],[-4,9],[6,28],[-2,6],[-10,-9],[-7,0],[1,12],[5,11],[8,14],[-8,18],[-1,1],[-3,15],[3,39],[-2,19],[-3,20],[-4,11],[-3,7],[-5,3],[-12,23],[-1,12],[8,5],[6,13],[-3,11],[-10,13],[-15,5],[-17,5],[-7,3],[-13,8],[-7,12],[0,9],[14,17],[4,14],[-5,15],[-13,16],[-7,19],[1,23],[20,25],[0,11],[-20,34],[4,27],[12,21],[0,15],[-13,27],[-3,25],[5,3],[11,-18],[10,-6],[0,1],[7,12],[-1,27],[-6,24],[-14,15],[-8,10],[19,19],[1,15],[-10,17],[-3,5],[-10,17],[-12,22],[-4,7],[-20,22],[-6,27],[6,29],[-1,24],[-11,10],[-1,0],[-18,5],[-20,20],[-12,26],[-3,24],[1,8],[0,7],[9,35],[0,21],[-5,22],[-17,20],[-8,13],[0,1],[-1,7],[1,13],[12,27],[3,13],[-8,30],[1,13],[9,45],[10,64],[1,20],[-1,10],[0,2],[-5,12],[-24,26],[-7,22],[-8,97],[4,15],[8,17],[-1,15],[-5,6],[-15,5],[-4,6],[-5,19],[0,14],[1,6],[9,43],[1,12],[-5,123],[-6,55],[-6,28],[-6,13],[-24,27],[-4,6],[-9,15],[-27,75],[-9,37],[-18,6],[-4,6],[-1,6],[2,13],[11,25],[4,41],[-1,33],[-8,28],[-8,9],[-11,4],[-6,7],[3,13],[16,8],[6,10],[0,15],[-6,11],[-14,17],[-4,43],[-6,10],[-6,3],[-22,-8],[-11,12],[-2,9],[0,2],[2,13],[7,25],[1,9],[0,15],[-3,16],[-18,65],[-4,25],[-4,52],[-9,24],[-4,11],[3,5],[16,-13],[9,0],[6,7],[3,14],[-5,15],[-10,11],[-17,7],[-20,8],[-9,-9],[-10,-11],[-8,6],[-2,14],[2,16],[19,51],[55,54],[9,18],[-1,17],[-8,13],[-12,2],[-15,-11],[-9,-11],[-11,-6],[-14,5],[-7,20],[-3,37],[-4,17],[-4,33],[4,7],[4,8],[20,5],[9,12],[1,25],[-3,20],[-9,13],[-11,0],[-13,-5],[-5,3],[-5,9],[1,17],[6,20],[16,29],[2,6],[3,8],[1,9],[3,10],[12,13],[3,8],[-1,10],[-2,11],[-2,3],[-12,25],[0,16],[10,14],[21,8],[6,8],[2,14],[-5,12],[-16,5],[-13,25],[1,24],[12,7],[14,-6],[11,-25],[6,-38],[5,-18],[6,-5],[10,1],[6,20],[-5,33],[-18,34],[-34,28],[-18,13],[-14,-12],[-8,-17],[-8,-6],[-7,7],[0,19],[7,18],[10,10],[11,9],[20,14],[13,0],[26,-31],[13,2],[3,20],[-13,22],[-19,11],[-30,5],[-11,8],[-6,18],[1,16],[10,13],[18,4],[4,7],[3,12],[-7,16],[-16,5],[-13,-3],[-8,8],[1,21],[7,15],[15,10],[14,19],[8,3],[20,-3],[7,4],[3,17],[-2,11],[-8,20],[-10,19],[-1,12],[5,8],[14,2],[6,14],[-4,16],[-14,12],[-8,4],[-14,4],[-18,-4],[-11,4],[-4,17],[2,18],[14,12],[14,-1],[21,-11],[14,6],[5,7],[0,14],[-3,15],[-2,14],[5,8],[11,-3],[10,12],[4,14],[-1,9],[0,5],[-1,8],[-2,11],[-15,58],[-11,16],[-6,0],[-10,-15],[-9,-20],[-8,-7],[-7,5],[-3,9],[1,19],[9,18],[6,9],[10,29],[8,14],[9,0],[4,-4],[12,-30],[5,-6],[13,-3],[8,8],[2,14],[-3,12],[-16,23],[-14,9],[-9,9],[-4,11],[-2,8],[3,16],[9,14],[3,16],[-5,9],[-11,9],[-11,-10],[-11,-16],[-10,1],[-4,9],[0,17],[10,34],[4,21],[8,11],[13,-1],[6,1],[19,11],[11,12],[3,16],[-7,17],[-15,13],[-23,7],[-15,-3],[-6,-5],[-9,-15],[0,-2],[-5,-2],[-7,5],[-2,12],[3,14],[8,15],[14,9],[12,5],[5,6],[5,12],[8,38],[0,20],[-6,18],[-15,11],[-17,0],[-8,3],[-4,12],[1,13],[14,26],[0,21],[-12,9],[-13,9],[-5,30],[-1,1],[-9,24],[-23,27],[-3,21],[3,23],[2,10],[8,9],[8,1],[20,-7],[12,1],[3,0],[7,12],[-1,16],[-13,43],[4,11],[19,9],[4,11],[-4,11],[-6,6],[-14,-6],[-12,-14],[-9,-2],[-12,9],[-22,29],[-2,14],[4,29],[-4,5],[-10,1],[-8,6],[4,24],[9,12],[19,8],[18,-2],[8,6],[7,13],[10,26],[16,20],[14,22],[0,25],[-11,22],[-8,15],[-4,8],[-3,30],[-6,6],[-8,-6],[-14,-42],[-9,-4],[-9,2],[-6,11],[1,28],[13,18],[14,10],[21,8],[12,0],[10,-5],[12,-17],[13,-26],[8,5],[4,14],[-1,18],[0,3],[-13,24],[-26,24],[-10,3],[-5,0],[-12,11],[-10,23],[2,20],[13,11],[9,-2],[23,-21],[8,-1],[8,7],[7,15],[4,30],[-2,26],[-9,28],[-16,8],[-10,-6],[-22,-42],[-17,-4],[-12,9],[-2,18],[8,25],[18,17],[24,26],[13,24],[7,21],[1,21],[0,2],[2,33],[-4,23],[-12,8],[-16,-8],[-13,3],[-11,23],[-9,43],[7,29],[13,5],[14,-8],[13,-18],[15,-2],[4,19],[-2,19],[-12,13],[-27,2],[-29,-18],[-19,-5],[-12,2],[-8,6],[-5,18],[3,18],[14,15],[39,12],[18,16],[3,14],[-1,15],[-12,29],[1,9],[5,2],[8,-12],[6,-21],[7,-11],[10,7],[3,17],[-3,18],[-15,26],[-26,20],[-11,17],[-6,22],[0,57],[-1,31],[7,3],[19,-7],[10,1],[14,14],[22,39],[4,19],[-2,13],[-11,12],[-19,-5],[-20,-23],[-16,-6],[-10,6],[-12,22],[-2,20],[4,47],[12,15],[25,8],[5,18],[-5,21],[-23,22],[-34,20],[-6,10],[-6,12],[0,1],[-9,46],[1,36],[10,8],[12,-14],[11,-12],[7,0],[15,3],[27,-2],[8,9],[0,18],[-8,17],[-17,9],[-40,-1],[-25,0],[-22,17],[-8,12],[-2,17],[6,17],[9,7],[44,11],[19,11],[9,21],[3,18],[1,23],[-6,20],[-10,9],[-15,1],[-10,9],[-1,17],[7,12],[13,3],[20,-15],[12,4],[4,8],[2,12],[5,63],[-3,16],[-9,13],[-25,-2],[-4,11],[4,11],[2,10],[3,5],[15,-3],[9,6],[11,31],[8,20],[11,19],[1,13],[-10,9],[-20,-7],[-15,3],[-9,18],[3,20],[16,17],[23,1],[17,-12],[9,0],[5,12],[-3,21],[-9,18],[-7,10],[-2,17],[8,6],[9,-3],[14,-27],[7,-12],[11,-1],[3,12],[1,3],[-3,18],[-25,43],[-11,23],[0,26],[3,3],[7,11],[15,1],[21,-26],[12,-4],[5,3],[2,2],[7,14],[1,17],[-2,39],[-11,23],[-6,10],[-4,16],[6,10],[10,4],[11,15],[3,37],[4,18],[9,19],[7,15],[5,11],[2,20],[-6,12],[-12,1],[-8,-3],[-8,7],[-1,8],[5,10],[6,3],[12,11],[6,14],[2,26],[-5,65],[-1,22],[4,17],[10,1],[12,-11],[9,6],[3,16],[-8,16],[-46,33],[-11,15],[-34,86],[-1,21],[11,11],[16,4],[6,6],[1,14],[-11,17],[-18,15],[-8,20],[-6,30],[-1,2],[-3,17],[-7,17],[-15,19],[-20,25],[-2,13],[6,11],[17,6],[8,24],[-7,18],[-14,2],[-11,-2],[-11,10],[-3,19],[7,13],[10,27],[2,43],[-6,30],[-17,6],[-19,-5],[-13,22],[-6,41],[11,24],[14,14],[5,15],[-1,19],[-10,21],[-12,41],[-12,4],[-7,7],[-2,17],[5,11],[12,7],[18,13],[4,17],[-3,5],[-2,2],[-4,6],[-14,-2],[-11,3],[-6,10],[-1,16],[6,18],[2,21],[-3,10],[-10,5],[-11,-7],[-23,9],[-7,12],[-2,17],[9,12],[15,-3],[11,0],[6,12],[-3,22],[-9,11],[-15,-1],[-11,-12],[-9,-20],[-9,-5],[-9,8],[-1,14],[8,14],[18,12],[14,14],[12,11],[12,1],[12,10],[4,20],[-4,19],[-18,10],[-17,-6],[-16,7],[-15,21],[-12,7],[-11,-4],[-7,-5],[-6,1],[-3,12],[6,11],[18,10],[12,18],[6,42],[-9,24],[-12,24],[-1,28],[6,12],[14,2],[8,10],[5,10],[2,9],[-2,39],[-9,26],[-13,3],[-6,9],[3,9],[19,4],[10,17],[-3,25],[-8,14],[-9,23],[1,33],[-2,18],[-11,8],[-13,-7],[-11,3],[-1,16],[6,18],[11,17],[17,30],[8,24],[-6,15],[-9,2],[-13,-7],[-11,1],[-14,12],[-16,21],[-4,10],[-1,11],[4,20],[5,16],[-3,17],[-8,15],[-1,3],[0,1],[-3,9],[6,7],[9,-4],[11,-7],[10,8],[4,20],[-4,19],[-11,19],[-24,20],[-21,15],[-9,15],[-7,34],[0,15],[6,36],[-1,24],[-6,13],[-17,15],[-6,20],[2,25],[6,25],[9,18],[1,17],[-5,10],[-14,-3],[-8,3],[-9,16],[0,4],[-5,30],[0,46],[1,19],[-3,8],[-5,2],[-11,-4],[-6,12],[1,17],[2,11],[5,46],[3,20],[4,13],[5,14],[0,15],[-5,10],[-13,5],[-13,6],[-3,5],[-2,6],[-1,12],[0,7],[4,35],[0,43],[-1,46],[3,28],[11,29],[8,12],[16,23],[1,8],[-6,8],[-13,2],[-6,12],[2,17],[16,21],[1,1],[338,-2],[648,0],[0,-4],[3168,0],[326,-2],[367,-2],[935,-5],[34,0],[350,-2],[162,0],[551,1],[1,1599],[0,1847],[10,-13],[2,-21],[10,-3],[5,-18],[11,1],[7,-19],[13,-12],[31,-49],[35,-26],[21,-2],[21,-11],[2,-14],[33,-17],[10,-5],[102,-69],[2,-2],[30,-1],[116,30],[84,112],[49,-10],[55,22],[18,-14],[142,-166],[8,-15],[94,-137],[81,-81],[57,-1],[69,-27],[-27,-109],[-4,-130],[94,-717],[-3,-147],[79,-651],[3,-38],[76,-191],[104,-885],[115,-1032],[0,-103],[-27,-31],[7,-46],[0,-3],[-9,-89],[25,-118],[-16,-16],[-22,-23],[-16,-35],[-8,-66],[31,-134],[-3,-70],[-1,-14],[1,-4],[3,-58],[2,-30],[0,-64],[11,-36],[13,-27],[47,-51],[19,-28],[24,-52],[26,-39],[14,-41],[8,-19],[0,-44],[14,-25],[37,-18],[37,-17],[28,-48],[30,-32],[18,-36],[13,-45],[8,-11],[71,-21],[41,6],[18,-11],[5,-3],[11,-22],[23,-84],[18,-13],[29,3],[24,-8],[28,-2],[20,-16],[11,-6],[44,-1],[44,-9],[28,-11],[26,-21],[14,-7],[19,4],[27,18],[27,54],[21,39],[9,30],[8,12],[9,7],[33,-3],[58,12],[15,-1],[20,-14],[32,-34],[52,-20],[34,-7],[47,10],[66,51],[59,-22],[30,-22],[24,-48],[33,-8],[13,-23],[8,-40],[18,-49],[5,-25],[2,-46],[-13,-127],[0,-22],[15,-45],[11,-19],[8,-7],[36,-9],[30,-25],[33,-2],[50,15],[36,-10],[69,-16],[34,-20],[62,-1],[41,-11],[54,-2],[34,14],[29,-19],[48,5],[18,15],[18,1],[5,-21],[13,-5],[26,8],[31,-5],[25,-21],[20,-2],[75,21],[21,-4],[2,-8],[33,-19],[45,-19],[44,-4],[9,-5],[20,-25],[34,-13],[57,-9],[34,8],[4,5],[4,14],[9,3],[82,-34],[30,3],[87,-9],[25,-6],[11,-8],[11,-13],[10,-18],[22,-106],[12,-20],[5,-15],[9,-47],[5,-74],[21,-92],[14,-41],[4,-24],[5,-64],[-1,-17],[-4,-59],[-8,-51],[-10,-47],[0,-13],[3,-32],[0,-28],[-3,-16],[-18,-42],[-3,-12],[-1,-15],[2,-24],[10,-31],[10,-15],[35,-37],[14,-20],[10,-20],[32,-5],[43,3],[28,3],[23,-7],[11,-2],[37,19],[32,6],[28,-6],[19,3],[29,3],[20,-7],[28,-21],[13,-2],[54,15],[60,-5],[37,14],[8,9],[5,8],[11,29],[9,46],[10,21],[12,10],[8,-2],[13,-40],[14,-22],[18,-19],[7,-2],[16,8],[7,7],[18,34],[13,14],[19,1],[2,0],[24,-19],[8,-2],[54,21],[49,-2],[23,11],[28,23],[44,13],[11,7],[50,57],[58,16],[4,1],[47,22],[7,9],[15,34],[8,42],[6,58],[-2,47],[-15,61],[-10,85],[-4,32],[2,29],[3,10],[6,1],[34,6],[46,8],[14,15],[10,21],[10,20],[9,13],[36,36],[2,3],[18,24],[11,9],[4,0],[1,-11],[0,-5],[2,-4],[14,-29],[13,-5],[37,16],[42,0],[12,17],[2,11],[16,49],[19,-18],[3,-2],[5,7],[3,9],[0,21],[13,81],[3,13],[2,2],[308,143],[157,-3],[77,-124],[14,-31],[6,-14],[119,14],[179,24],[343,-34],[99,68],[16,-9],[1,-196],[67,-12],[65,-94],[51,-12],[552,-491],[233,62],[76,-30],[24,-183],[7,-35],[0,-6],[-3,-28],[1,-6],[4,-6],[-5,-7],[-5,-12],[-2,-4],[-7,-11],[-2,-21],[7,-13],[7,-17],[-12,-21],[-20,-14],[-34,5],[-23,15],[-25,-45],[-77,9],[-47,-24],[-8,-90],[-26,-102],[2,-24],[-13,-65],[81,-168],[82,-33],[24,-30],[267,36],[127,61],[74,5],[25,-4],[51,-125],[9,-29],[17,-7],[7,-8],[4,-18],[-1,-11],[19,-58],[63,-40],[0,-115],[-67,-259],[22,-175],[38,-139],[16,-57],[41,-123],[12,-50],[19,-42],[10,6],[10,-11],[17,-49],[15,-30],[32,-142],[30,-121],[13,-44],[3,-14],[-2,-13],[14,-36],[-11,-7],[4,-17],[15,9],[6,-16],[-6,-16],[-4,-11],[3,-19],[2,-3],[9,4],[-2,-16],[0,-19],[4,-20],[6,-11],[8,-12],[2,-21],[0,-23],[1,-10],[17,-52],[12,-30],[7,7],[-1,25],[18,-9],[29,65],[14,9],[26,10],[6,18],[9,7],[4,-1],[6,-12],[5,0],[23,28],[12,2],[23,28],[113,33],[36,35],[-13,75],[-55,77],[-14,53],[5,42],[-7,2],[-2,13],[-19,92],[23,157],[-39,88],[6,57],[30,9],[21,167],[89,105],[131,-50],[10,-10],[9,-26],[34,4],[-1,11],[-2,9],[13,37],[29,-15],[3,-14],[2,-1],[50,28],[-2,30],[5,17],[51,54],[57,20],[4,-83],[171,-14],[29,-6],[18,38],[39,12],[36,-3],[22,-91],[10,-9],[2,-18],[-9,-18],[4,-79],[29,-14],[23,-65],[102,-39],[-43,-210],[3,-89],[16,-61],[3,-131],[56,-46],[29,-109],[11,-6],[0,-7],[-1,-5],[3,-10],[4,0],[15,27],[3,15],[-8,9],[3,23],[5,5],[36,0],[17,-17],[0,-4],[2,-16],[17,-31],[-3,-12],[-29,-6],[1,-38],[-4,-28],[4,-29],[15,0],[7,-3],[20,-19],[11,1],[4,13],[11,19],[28,14],[27,8],[17,19],[27,-6],[2,-4],[3,-5],[8,-1],[34,6],[29,-91],[56,-73],[11,-105],[62,14],[21,9],[17,1],[8,-4],[53,21],[5,-27],[18,-23],[35,-28],[1,0],[21,-3],[9,-52],[10,-1],[16,35],[55,1],[4,8],[8,29],[15,9],[8,-40],[16,-21],[14,-3],[10,5],[-1,47],[11,-2],[80,-45],[14,-45],[-3,-42],[-3,-14],[-30,-64],[-4,-17],[-6,-67],[4,-12],[19,22],[27,8],[14,-17],[0,-97],[-7,-53],[-4,-8],[16,-64],[7,-6],[7,0],[3,-8],[1,-19],[-6,-86],[-14,-61],[-13,-16],[-13,-54],[-1,-10],[1,-9],[28,-10],[36,25],[4,11],[-3,15],[32,24],[-3,-38],[-13,-53],[22,-32],[14,-7],[18,10],[13,0],[8,-12],[7,16],[1,23],[31,23],[4,-4],[2,-8],[-7,-28],[18,-35],[5,-23],[22,-52],[82,43],[87,2],[44,38],[55,16],[21,-46],[-56,-85],[-19,-236],[8,-79],[-9,-74],[28,-45],[82,84],[179,129],[77,-11],[50,18],[12,-13],[-1,-37],[30,-96],[-3,-19],[4,-6],[27,-6],[8,12],[11,4],[33,27],[75,31],[39,72],[28,36],[19,-21],[49,41],[34,13],[12,-20],[0,-11],[13,-3],[9,4],[4,7],[3,7],[10,11],[34,7],[9,-4],[31,1],[41,8],[47,39],[32,2],[54,47],[50,104],[29,33],[39,28],[80,192],[24,-23],[23,31],[67,129],[60,76],[-1,24],[-7,-3],[-9,23],[15,14],[61,40],[7,15],[10,35],[20,21],[37,23],[18,17],[12,38],[20,29],[5,-3],[3,-10],[15,0],[34,17],[9,35],[12,1],[7,18],[45,16],[25,2],[1,1],[3,-5],[10,-4],[25,14],[5,21],[34,49],[30,19],[-3,21],[91,148],[171,91],[34,6],[27,59],[26,28],[45,47],[13,-47],[21,-24],[27,4],[65,55],[13,-8],[14,-35],[5,-43],[-7,-56],[1,-5],[6,-10],[1,-8],[9,-206],[2,-118],[-7,-103],[12,-28],[22,30],[8,8],[-6,28],[-1,20],[15,10],[6,-18],[6,-27],[23,1],[21,-16],[12,-128],[14,-34],[9,16],[10,-9],[16,7],[8,26],[7,7],[11,-8],[6,-17],[-4,-45],[-6,-46],[4,-24],[-9,-25],[-17,-3],[-36,-53],[-4,-23],[9,-12],[5,1],[11,2],[8,1],[20,-5],[-5,-21],[-14,-1],[-7,-26],[9,-19],[10,3],[5,-16],[19,-19],[2,-14],[1,-2],[6,-29],[0,-3],[4,-9],[13,-8],[6,-19],[-1,-36],[20,-89],[-1,-17],[34,-64],[33,32],[126,12],[56,40],[149,26],[49,73],[22,0],[14,6],[32,30],[50,14],[3,19],[27,36],[8,1],[9,-23],[4,-4],[18,6],[15,9],[22,-8],[12,-40],[-46,-89],[7,-50],[11,-21],[24,-25],[132,30],[21,-17],[9,16],[9,3],[31,-7],[1,6],[1,3],[6,13],[13,-20],[9,0],[12,12],[10,15],[9,29],[22,6],[11,24],[7,-2],[8,-11],[4,-8],[33,-13],[15,-14],[13,-25],[17,-16],[93,56],[24,0],[32,-41],[11,-3],[13,-16],[2,-21],[4,-11],[7,-12],[26,-20],[5,3],[-2,18],[20,11],[46,4],[23,-8],[8,3],[3,5],[2,5],[15,5],[4,31],[23,23],[43,13],[16,13],[22,-2],[9,-16],[16,-7],[16,-29],[13,-1],[49,37],[32,0],[37,-9],[67,42],[30,10],[27,-15],[17,-2],[54,19],[21,-4],[40,39],[41,-24],[45,5],[18,12],[5,9],[25,-4],[12,-4],[13,-29],[12,-6],[4,-5],[4,-14],[21,-11],[82,3],[59,-31],[54,-41],[28,-41],[12,-3],[12,-19],[9,6],[32,-20],[20,-25],[15,-111],[13,-43],[14,7],[3,8],[5,-4],[35,-95],[13,-74],[-7,-65],[-2,-54],[6,-41],[6,-20],[12,-2],[2,-22],[5,-2],[7,6],[3,-1],[23,-22],[10,-6],[3,-22],[17,-51],[16,1],[29,-27],[9,-7],[7,23],[-2,22],[7,0],[15,-13],[9,-2],[2,13],[20,0],[5,-22],[1,-24],[6,-19],[18,-13],[-2,-24],[-5,-19],[20,-17],[-3,-26],[14,3],[7,-5],[2,-15],[14,-14],[21,-9],[5,-5],[11,-26],[9,-10],[8,-2],[14,2],[14,-11],[19,1],[25,-9],[7,5],[10,34],[68,22],[5,3],[11,41],[1,34],[-6,5],[-2,11],[9,-3],[2,1],[10,-6],[15,-24],[7,-1],[5,8],[5,35],[12,23],[9,33],[7,34],[2,4],[41,19],[5,-28],[4,-2],[23,6],[5,3],[4,20],[3,5],[8,4],[30,-3],[11,5],[12,35],[5,-3],[2,-17],[20,22],[12,3],[32,2],[4,-8],[13,9],[17,-10],[4,-19],[1,-1],[12,4],[7,9],[10,4],[9,-18],[0,-8],[24,1],[1,2],[-1,9],[3,2],[3,-2],[8,-18],[-3,-9],[-8,4],[-4,-10],[1,-24],[9,6],[7,17],[7,7],[3,-6],[-1,-54],[2,-9],[9,7],[16,1],[4,-5],[3,-14],[12,-14],[4,-1],[41,40],[8,-2],[2,-7],[3,0],[17,4],[10,9],[10,2],[7,-5],[1,-7],[7,-16],[7,-8],[8,4],[5,24],[21,-6],[4,-21],[9,-25],[7,-9],[6,2],[4,11],[8,10],[14,-3],[5,-17],[6,-2],[2,3],[1,8],[-2,15],[-4,13],[6,10],[40,19],[15,-7],[9,2],[6,12],[6,28],[8,18],[5,2],[3,-10],[3,-37],[-4,-27],[6,-24],[21,-16],[22,-4],[9,-20],[11,-2],[10,-5],[-1,-12],[1,-1],[12,-30],[4,-3],[34,18],[6,12],[8,-2],[6,-1],[16,4],[22,1],[2,2],[7,8],[18,3],[20,-2],[40,-5],[10,10],[2,1],[14,-3],[15,7],[9,8],[-2,20],[4,0],[3,1],[7,1],[11,1],[28,5],[16,-8],[-12,-25],[-23,-12],[-29,-1],[-3,0],[-2,-1],[-11,-8],[-37,-26],[-15,-11],[-27,-8],[-20,-12],[-2,0],[-17,9],[-18,-9],[-16,-28],[-1,-1],[-3,-4],[-24,-31],[0,-1],[-11,-9],[-22,-19],[-12,-10],[-1,-1],[-17,-7],[-2,0],[-18,-1],[-10,-1],[-13,-6],[-1,1],[-18,1],[-5,1],[-3,8],[-16,34],[-1,1],[21,24],[10,10],[-3,23],[-16,28],[-17,16],[-13,-9],[-10,-7],[0,-13],[-6,-14],[-12,-11],[-13,-13],[-17,-13],[-11,-21],[-1,-6],[-14,-27],[-7,-6],[-4,-10],[6,-41],[-1,-20],[10,-36],[6,-25],[11,-48],[0,-1],[4,-39],[1,-9],[-4,-6],[-28,45],[-11,10],[-4,18],[0,6],[-3,20],[-10,14],[-4,5],[-24,-3],[-37,-12],[-2,-1],[-18,-20],[-18,-39],[-4,-23],[-3,-21],[4,-10],[7,-5],[2,-1],[6,-2],[3,-2],[5,-11],[1,-18],[2,-27],[-7,-4],[-23,-13],[-6,-4],[-19,-11],[-23,-24],[-8,-15],[-19,-19],[-2,-25],[-10,-13],[-19,-9],[-10,-13],[-17,-20],[-2,-17],[-9,-17],[-8,-32],[-2,-2],[-20,-29],[-10,-13],[-33,-34],[-4,-5],[-2,-33],[-31,-16],[-23,-3],[-8,-19],[-16,-20],[-10,-9],[-17,-24],[-17,-22],[-20,-7],[-5,-4],[-13,-12],[-12,-12],[-11,-10],[-9,-11],[-4,-5],[-22,-7],[-4,-8],[-14,-24],[-4,4],[-11,12],[-4,4],[-15,-13],[2,-24],[0,-3],[-4,-10],[-3,7],[-5,8],[-6,11],[-5,-10],[-6,3],[-5,-17],[-9,-11],[-11,-12],[-12,6],[-21,-8],[-13,2],[-12,1],[-25,-28],[-14,-29],[-4,-4],[-14,-17],[-6,-8],[-19,32],[-11,-6],[-9,-19],[-29,-5],[-3,-20],[-13,-6],[-10,13],[-16,-8],[-24,-38],[4,-16],[5,-17],[2,-27],[-10,-7],[-8,-4],[-9,-11],[3,-6],[3,-8],[-13,-14],[-28,-28],[-20,-13],[-11,-2],[-10,5],[-12,0],[-6,-5],[-3,-13],[-11,-41],[-4,-9],[-16,-21],[-18,-11],[-8,0],[-23,-14],[-24,-8],[-24,-15],[-13,-12],[-21,-20],[-25,-10],[-1,-13],[-9,-7],[-31,-5],[-7,-4],[-15,4],[-6,2],[-26,-18],[-6,-14],[-22,-15],[-12,3],[-33,-12],[-16,-34],[-12,-20],[1,-21],[-27,5],[-17,-8],[-13,-16],[-13,-8],[-4,-8],[-25,-11],[-24,-22],[-15,10],[-34,-1],[-56,-10],[-39,-15],[-25,-23],[-35,-33],[-16,-29],[-13,-43],[-1,-11],[-13,-3],[-32,-12],[-41,17],[-51,-7],[-65,-30],[-24,-15],[-17,-21],[-9,-10],[-5,-3],[-101,-70],[-29,-25],[-6,3],[-25,1],[-21,-24],[-1,-1],[-10,0],[-22,-25],[-6,-15],[-2,-25],[11,-10],[-25,-1],[-16,-1],[-2,-1],[-23,6],[-7,-5],[-13,-7],[-5,-2],[-38,-9],[-60,-15],[-15,-1],[-5,-9],[-5,-15],[-13,-8],[-78,-19],[-9,-13],[-46,-18],[-10,-21],[-3,-24],[5,-9],[-3,-5],[-22,-18],[-10,-4],[-8,1],[-17,-9],[-21,-7],[-20,-8],[-22,-14],[-21,-14],[-11,-9],[-37,-29],[-63,-38],[-17,-10],[-5,-3],[-10,3],[-34,-30],[-16,-29],[-31,-82],[-25,-18],[-77,-57],[-10,-8],[-42,-48],[-107,-97],[-26,-36],[-7,-7],[-1,0],[-25,-25],[-32,-31],[-4,-12],[-2,-4],[-14,-16],[-21,-13],[-5,-8],[-30,-20],[-20,-5],[-58,-59],[-12,-6],[-26,-36],[-2,-1],[-16,-14],[-26,-20],[-24,-31],[-37,-48],[-16,-16],[-5,-13],[-31,-41],[-12,-9],[-15,-11],[-20,-19],[-8,-17],[-15,-21],[-10,-21],[-8,-24],[-25,-37],[-4,-5],[-25,-32],[0,-1],[-1,0],[-59,-76],[-14,-19],[-10,-13],[-14,-18],[-22,-40],[-20,-28],[-17,-12],[-13,-14],[-19,-20],[-19,-29],[1,-12],[-8,-13],[-9,-3],[-1,0],[-3,-11],[-7,-13],[-16,-14],[-17,-28],[-11,-11],[-5,-13],[-54,-90],[-9,-23],[-13,-20],[-26,-39],[-5,-17],[-15,-21],[-7,-13],[-30,-26],[-14,-21],[-7,-19],[-3,-6],[-16,-10],[-52,-81],[-1,-12],[-8,-17],[-10,-6],[-20,-36],[-12,-15],[1,-21],[-11,-6],[-21,-21],[-13,-21],[-17,-25],[-3,-11],[-14,-20],[-11,-13],[-4,-16],[-6,-12],[-11,-6],[-26,-33],[-7,-14],[-25,-44],[-2,-2],[-17,-12],[-14,0],[-9,-1],[-9,-21],[-1,-19],[-4,-7],[-7,-7],[-17,-38],[-9,-20],[-15,-4],[-2,-21],[-5,-16],[-15,-45],[-23,-42],[-25,-41],[-8,-14],[-11,-29],[-15,-38],[-6,-6],[-8,3],[-6,-12],[-5,-6],[-10,-3],[-21,-30],[-5,-13],[-8,-11],[-10,-9],[-29,-42],[0,-20],[-10,-33],[-2,-1],[-12,-13],[-3,-3],[-7,-22],[-11,-9],[-3,-23],[-14,-33],[-13,-18],[-1,1],[-12,7],[-6,-13],[-6,-15],[-1,-22],[-12,-27],[-6,-13],[-1,-1],[-10,-23],[-9,-7],[-2,-29],[-10,-13],[-1,-11],[-6,-10],[2,-18],[-8,-26],[-3,-22],[-7,-14],[0,-19],[-9,1],[-6,-8],[-2,-1],[6,-25],[-2,-32],[0,-5],[-8,1],[-6,5],[-13,-21],[-9,2],[-5,-10],[-1,-14],[-11,-16],[-19,-35],[-2,-26],[-2,-15],[-2,-9],[-7,-28],[-13,-24],[-11,0],[-7,6],[-7,-12],[-8,-39],[-8,2],[-7,-3],[-4,-21],[2,-21],[-7,-9],[-5,2],[-19,-12],[-4,-22],[-2,-9],[-8,-25],[-13,-35],[0,-15],[-1,-3],[2,-16],[0,-2],[-4,-22],[-5,-30],[-13,-21],[-2,-2],[-7,-5],[-3,-2],[-12,-12],[-9,-3],[-10,5],[-15,-20],[-10,-29],[-4,-13],[-4,-14],[4,-15],[-5,-12],[-6,-7],[-2,-2],[-9,6],[-9,2],[-14,-13],[-7,-18],[-3,-10],[-5,-12],[1,-16],[5,-3],[2,-1],[3,-6],[-5,-6],[-4,-6],[-10,4],[-3,-10],[-12,-8],[-8,-3],[-14,-24],[-1,-3],[-10,-25],[-16,-25],[-14,-22],[-2,-14],[-10,-18],[-12,-6],[1,-24],[-7,-10],[0,-15],[-4,-8],[-8,-11],[-7,-17],[-10,-2],[-3,-15],[-2,-6],[-14,-16],[-6,-10],[-1,-16],[-10,-5],[-3,-11],[-9,-19],[-5,-5],[-4,-36],[3,-19],[-9,-5],[1,-15],[-5,-20],[-4,6],[-21,-8],[-2,-13],[2,-25],[-6,-10],[-12,-2],[-15,-17],[0,-1],[-8,-18],[-1,-1],[-7,-9],[-5,-24],[-8,-29],[-6,-10],[-7,2],[-17,0],[-12,-9],[-9,-20],[-8,-25],[-12,4],[-12,0],[-5,-26],[0,-8],[-1,-15],[-8,-5],[-9,-14],[-13,-13],[-8,-48],[-6,-14],[-8,5],[-6,-9],[-20,-41],[0,-1],[-10,-22],[-1,-1],[-13,-27],[-1,-1],[-7,-23],[-10,-20],[-16,-23],[-2,-3],[-11,-13],[2,-31],[0,-2],[-8,-12],[-8,-13],[-7,-24],[-8,-6],[-5,-16],[-4,-6],[-10,-2],[-8,-13],[-12,-22],[-4,-7],[-3,-4],[-12,-12],[-16,6],[-16,-14],[-24,-6],[-9,-14],[-7,-16],[-14,-6],[-2,-13],[-11,-11],[-26,-65],[2,-10],[-5,-11],[-4,-11],[-11,-8],[-8,4],[-10,-13],[-18,2],[-14,-7],[-6,-27],[-13,6],[-12,-28],[-4,-19],[0,-3],[-10,-2],[-16,10],[-12,-3],[-17,-15],[-9,-1],[-15,-20],[-12,-44],[-1,-3],[-8,-23],[-8,-13],[-6,-13],[-1,-43],[-9,-17],[-8,-7],[-6,-19],[-5,-19],[-5,-9],[-2,-26],[-10,-1],[-9,10],[-8,3],[-6,-4],[-27,-35],[-9,-21],[-6,-5],[-6,-22],[-8,-21],[-16,-11],[-11,-21],[-10,-28],[-10,-30],[-13,-5],[-7,-13],[-2,-25],[6,-12],[12,-6],[0,-1],[-4,-11],[8,-8],[0,-16],[-2,-17],[-5,-6],[-12,-7],[-9,5],[-6,-6],[-3,11],[-1,7],[-9,13],[-2,2],[0,-1],[-18,-9],[-10,-15],[-1,-1],[1,-25],[-2,-36],[0,-11],[-4,-10],[2,-15],[-10,-20],[-8,12],[-7,18],[-2,1],[-13,6],[-11,0],[-7,-20],[-2,-16],[-2,-18],[-18,-39],[-9,-4],[-10,2],[-23,10],[-10,-2],[-14,-16],[-13,-29],[-11,-19],[-26,-47],[-30,-47],[-28,-50],[-10,-25],[-6,-21],[-9,-9],[-13,-24],[-26,-49],[-7,-20],[-2,-16],[-10,-15],[-6,-11],[-10,-26],[-10,-14],[-12,-21],[-13,-8],[-3,-20],[2,-12],[-8,-15],[-1,-10],[2,-22],[-14,-12],[-15,-9],[-15,-3],[-2,-5],[-9,-17],[-9,-1],[-25,-35],[-8,-17],[-9,-10],[-5,-25],[-6,-13],[-8,-20],[-15,13],[-13,16],[-12,4],[-17,-5],[-22,-16],[-15,-19],[-16,-27],[-6,-23],[-9,-26],[-10,-14],[-11,-18],[-15,-14],[-17,-3],[-15,-5],[-22,-24],[-18,-26],[-26,-39],[-3,-10],[-27,-43],[-24,-57],[-7,-9],[-12,-16],[-8,-8],[-1,0],[-1,-1],[-25,-24],[-24,-30],[-55,-61],[-23,-44],[-21,-32],[-22,-20],[-6,-3],[-37,-50],[-31,-66],[-10,-15],[-4,-10],[-11,-13],[-13,-11],[-7,-6],[-11,-3],[-10,-11],[-10,-5],[-7,-14],[-7,-5],[-14,-21],[-7,-21],[-3,-12],[-17,-23],[-15,-13],[-9,-2],[-3,-3],[-12,-10],[-7,-16],[-9,-21],[0,-1],[-8,-5],[-6,-18],[-14,-14],[-10,-50],[-16,-17],[-9,0],[-6,-13],[-9,-5],[-8,-12],[-7,-11],[-8,-1],[-5,-12],[-10,0],[-1,-4],[-4,-7],[-20,-47],[-4,-10],[10,-60],[0,-23],[10,-38],[38,-125],[41,-115],[46,-115],[82,-180],[21,-3],[7,-29],[7,-5],[-17,-21],[-15,13],[-30,29],[-30,54],[-72,136],[-22,41],[-60,112],[-60,-1],[-2,0],[-28,-4],[-29,-32],[-42,-46],[-18,-41],[0,-56],[7,-24],[-12,-56],[-5,-24],[-8,-7],[-21,7],[-40,34],[-23,-23],[-16,-4],[-34,7],[-7,-11],[-6,-43],[-14,-30],[-14,-15],[-10,-16],[-4,-13],[2,-36],[22,-18],[51,-8],[18,-29],[4,-14],[2,-33],[-5,-25],[-13,-27],[-21,-11],[-16,-19],[-23,-55],[-15,-28],[-5,-19],[11,-49],[0,-3],[2,-16],[0,-1],[-2,-13],[-16,-27],[-18,-17],[-13,-1],[-24,24],[-9,2],[-7,1],[-24,-25],[-23,-7],[-46,81],[-11,-13],[-20,-52],[-16,-3],[-7,18],[-5,39],[-14,10],[-17,2],[-8,13],[-3,21],[-1,38],[-13,7],[-3,-18],[0,-93],[1,-179],[1,-77],[-1,-173],[0,-611],[-1,-244],[-1,-72],[0,-142],[-1,-397],[-1,-94],[0,-838],[1,-22],[0,-40],[-1,-7],[0,-158],[-1,-62],[-1,-369],[0,-165],[-1,-376],[0,-112],[1,-79],[0,-367],[-2,-299],[1,-34],[-16,-11],[-27,-5],[-20,-13],[-12,-8],[-9,-5],[-29,-27],[-6,-8],[-10,-21],[-8,-27],[-10,-62],[-1,-17],[-9,-39],[-7,-21],[-1,-17],[4,-54],[-4,-51],[-2,-9],[-7,-17],[-10,-15],[-2,-14],[-1,-25],[1,-17],[-3,-6],[-3,-5],[-20,-19],[-14,-2],[-4,1],[-6,1],[-25,7],[-30,24],[-37,21],[-2,2],[-49,58],[-8,5],[-33,-4],[-3,-3],[-23,-19],[-24,-25],[-22,-42],[-7,-37],[0,-22],[-17,-59],[-7,-15],[-4,-22],[-3,-14],[1,-27],[-10,-23],[-20,-20],[-7,-23],[1,-12],[0,-10],[3,-8],[7,-11],[0,-7],[-11,-26],[-16,-21],[-11,-7],[-22,9],[-17,16],[-22,-3],[-38,37],[-48,28],[-8,5],[-8,3],[-14,-7],[-3,-1],[-12,-12],[-23,-34],[-27,-65],[-9,-9],[-5,-9],[-2,-60],[2,-32],[-4,-40],[-3,-5],[-1,0],[-29,-5],[-29,-24],[-17,-1],[-19,-15],[-31,-38],[-41,-8],[-20,-23],[-8,-12],[-11,-18],[-28,6],[-17,-21],[-5,-3],[-23,19],[-9,-4],[-2,-3],[-1,-2],[-1,-9],[5,-55],[-2,-12],[-56,-1],[-11,-12],[-4,-7],[-32,-49],[-19,-35],[-3,-10],[4,-29],[-3,-9],[-24,-21],[-8,-9],[-42,-54],[-14,-2],[-15,-11],[-16,-26],[-29,-67],[-42,-131],[-8,-40],[1,-36],[-2,-15],[-9,-82],[-2,-11],[-19,-40],[-12,-6],[-34,-45],[-7,-13],[-12,-31],[-1,-24],[2,-20],[1,-5],[9,-53],[4,-11],[2,-10],[7,-36],[1,-38],[-4,-22],[-10,-23],[-21,-27],[-12,-24],[-15,-43],[-3,-19],[-8,-44],[-5,-77],[0,-2],[-11,-75],[-4,-6],[-43,-82],[-13,-15],[-4,-17],[-5,-19],[-15,-28],[-10,-12],[-12,-6],[-31,-45],[-10,-25],[-6,-5],[-17,-2],[-17,-24],[-7,-7],[-19,-3],[-5,-10],[-1,-27],[-1,-4],[-8,-6],[-31,-8],[-10,-13],[-12,-26],[-1,-20],[3,-27],[-10,-102],[6,-21],[-1,-4],[-17,-65],[-5,-115],[-7,-80],[-12,-52],[-5,-38],[-1,-19],[-4,-55],[-5,-16],[0,-1],[-1,-17],[-2,-25],[4,-18],[0,-29],[-4,-42],[0,-28],[5,-44],[12,-50],[1,-29],[-8,-44],[-3,-38],[-2,-15],[0,-31],[11,-43],[-6,-91],[4,-28],[9,-18],[33,-48],[82,-9],[9,-3],[32,-26],[36,-18],[22,1],[15,1],[35,14],[38,34],[14,8],[33,5],[8,-2],[11,-11],[18,-28],[26,-50],[10,-11],[27,-27],[19,-28],[46,-71],[4,-21],[1,-16],[-10,-77],[-1,-15],[0,-57],[4,-36],[8,-19],[28,-46],[13,-29],[32,-85],[23,-85],[12,-55],[16,-33],[10,-30],[1,-2],[11,-34],[10,-12],[53,-39],[25,-24],[3,-7],[17,-86],[3,-20],[1,-1],[-1,-31],[-8,-69],[-1,-26],[-2,-42],[-1,-19],[3,-23],[8,-18],[1,-9],[-5,-48],[-8,-34],[1,-12],[0,-28],[-6,-4],[-21,-16],[-18,-23],[-18,-35],[-4,-12],[-13,-40],[-1,0],[-7,-23],[-6,-33],[2,-21],[-4,-8],[-57,-76],[-21,-42],[-3,-18],[-1,-22],[15,-94],[2,-24],[0,-26],[-3,-22],[-16,-60],[-5,-10],[-12,-33],[-1,0],[-58,-100],[-17,-42],[-1,-3],[-14,-28],[-28,-39],[-17,-23],[-26,-17],[-8,-16],[-3,-17],[0,-17],[5,-51],[8,-33],[18,-44],[1,-14],[2,-16],[0,-35],[-12,-41],[-12,-28],[-4,-31],[9,-94],[0,-65],[6,-38],[6,-25],[5,-15],[2,-20],[-2,-15],[-6,-34],[-13,-27],[-13,-19],[-6,-20],[-10,-80],[-2,-41],[2,-39],[6,-22],[25,-45],[17,-29],[-1,-18],[-10,-39],[-4,-16],[-3,-38],[0,-42],[3,-30],[25,-114],[12,-124],[9,-26],[8,-13],[3,-16],[0,-7],[-3,-18],[-15,-43],[-6,-10],[-25,-32],[-37,-62],[-28,-54],[-35,-48],[-23,-31],[-2,-4],[0,-2],[-1,-1],[-28,-77],[-4,-16],[-3,-18],[0,-36],[3,-30],[1,-3],[16,-53],[12,-28],[18,-31],[5,-6],[5,-5],[20,-23],[28,-46],[19,-40],[0,-2],[9,-36],[0,-16],[-2,-15],[-5,-25],[-6,-33],[-5,-26],[-2,-11],[-7,-39],[-4,-25],[2,-60],[1,-14],[5,-35],[-5,-40],[0,-36],[2,-39],[1,-17],[3,-19],[5,-15],[21,-26],[5,-17],[15,-57],[0,-2],[5,-40],[2,-18],[6,-59],[1,-35],[-6,-53],[-11,-101],[-6,-61],[-4,-19],[-3,-9],[-6,-8],[-11,-13],[-10,-12],[-18,-20],[-3,-11],[-2,-17],[-1,-43],[3,-23],[15,-58],[18,-58],[2,-15],[-1,-17],[-11,-44],[-7,-38],[0,-1],[1,-31],[1,-32],[11,-110],[0,-32],[-3,-18],[-11,-26],[-1,-4],[-8,-27],[-1,-14],[2,-27],[-2,-13],[-26,-73],[-4,-26],[-5,-93],[-7,-48],[-12,-37],[-24,-48],[-14,-38],[-17,-74],[-2,-31],[-4,-47],[-3,-61],[3,-9],[9,-14],[2,-2],[1,-5],[2,-8],[1,-9],[1,-5],[48,-64],[38,-33],[34,-31],[31,-48],[9,-8],[13,-6],[43,-40],[17,-29],[63,-104],[40,-60],[6,-13],[9,-22],[5,-9],[28,-52],[49,-103],[24,-50],[12,-21],[17,-23],[79,-74],[34,-83],[6,-39],[0,-41],[-9,-47],[-2,-23],[0,-20],[6,-27],[11,-17],[12,-9],[24,5],[19,-3],[37,-50],[5,-35],[9,-13],[5,-2],[10,8],[9,26],[1,0],[5,9],[14,-4],[11,-9],[4,-8],[4,-6],[21,-56],[37,-114],[1,-28],[-1,-14],[-5,-20],[0,-1],[-1,-15],[5,-21],[6,-10],[5,-2],[8,-5],[12,3],[22,25],[22,26],[21,14],[9,0],[19,-28],[13,-12],[38,-27],[11,-8],[7,1],[4,0],[19,15],[13,2],[23,-17],[12,-10],[50,-25],[48,7],[25,22],[7,3],[18,-10],[17,-21],[18,-14],[13,-4],[40,-13],[34,-5],[44,8],[24,4],[23,-2],[46,-14],[38,-26],[1,-1],[23,-24],[30,-49],[7,-18],[1,-2],[4,-13],[7,-24],[1,-10],[10,-66],[9,-35],[15,-38],[2,-10],[2,-17],[-2,-106],[2,-27],[17,-62],[21,-60],[28,-63],[19,-33],[47,-70],[45,-46],[13,-22],[10,-21],[8,-22],[8,-18],[16,-32],[37,-42],[15,-11],[5,-4],[66,-39],[20,-10],[63,-32],[22,-10],[4,-1],[76,-21],[5,-2],[45,-19],[11,-13],[19,-37],[14,-17],[45,-20],[34,-22],[12,-13],[17,-19],[21,-7],[35,1],[17,-12],[10,-11],[24,-57],[1,-2],[26,-44],[1,-1],[53,-52],[8,-9],[36,-13],[8,-6],[11,-14],[9,-18],[20,-26],[23,-21],[1,-1],[10,-5],[17,-1],[13,-7],[15,-13],[12,-16],[10,-15],[14,-22],[22,-52],[11,-34],[27,-64],[17,-18],[26,-27],[9,-16],[23,-89],[8,-37],[9,-55],[0,-8],[-3,-18],[-22,-58],[-10,-33],[-3,-18],[1,-25],[8,-32],[7,-11],[48,-40],[10,-15],[13,-21],[8,-21],[2,-13],[-3,-62],[2,-21],[23,-56],[4,-15],[3,-20],[-2,-31],[-1,-12],[-15,-83],[-2,-9],[1,-33],[10,-39],[31,-80],[10,-29],[3,-28],[1,-14],[0,-41],[3,-18],[10,-11],[26,-22],[20,-29],[45,-66],[20,-18],[19,-17],[2,-2],[11,-16],[39,-115],[31,-40],[38,-41],[73,-55],[20,-33],[19,-26],[20,-28],[17,-17],[61,-13],[9,-2],[30,-21],[8,-12],[28,-68],[4,-24],[4,-54],[0,-47],[2,-9],[0,-1],[41,-44],[13,-5],[18,4],[14,-8],[24,-43],[9,-15],[16,-27],[5,-16],[6,-33],[13,-55],[9,-22],[6,-10],[9,-13],[15,-37],[10,-11],[5,0],[9,8],[8,-3],[4,-5],[12,-19],[18,-37],[14,-14],[10,-7],[18,-13],[16,-19],[10,-16],[13,-30],[13,-47],[7,-24],[18,-29],[31,-32],[5,-2],[4,-2],[22,0],[43,-12],[5,-1],[19,-13],[20,-12],[44,-7],[32,0],[57,-20],[16,-17],[24,-35],[47,-36],[2,0],[6,-1],[33,12],[16,-3],[21,-23],[21,-14],[11,-8],[23,-17],[11,-12],[7,-11],[9,-15],[9,-23],[10,-44],[4,-28],[1,-6],[4,-14],[38,-75],[7,-20],[10,-47],[5,-10],[36,-36],[25,-34],[6,-8],[35,-81],[28,-55],[7,-21],[1,-12],[4,-56],[19,-74],[0,-2],[2,-5],[17,-16],[13,-21],[5,-16],[9,-42],[4,-17],[14,-41],[33,-34],[25,-41],[18,-54],[7,-49],[7,-68],[32,-63],[5,-14],[3,-10],[7,-12],[19,-19],[23,-46],[7,-35],[14,-41],[5,-67],[2,-37],[9,-51],[3,-39],[15,-78],[10,-30],[2,-18],[5,-49],[9,-21],[21,-50],[31,-70],[0,-14],[-38,-227],[2,-92],[-2,-17],[-1,-13],[-7,-34],[-3,-18],[-8,-32],[-18,-44],[-3,-20],[-3,-14],[1,-67],[1,-47],[-2,-23],[-14,-131],[-2,-81],[5,-94],[3,-15],[19,-32],[4,-12],[3,-23],[0,-8],[2,-17],[-2,-28],[-18,-88],[-1,-97],[12,-43],[12,-31],[11,-21],[17,-26],[31,-57],[15,-28],[16,-34],[6,-16],[2,-14],[1,-44],[1,-6],[-2,-24],[-3,-63],[-5,-25],[-21,-55],[-8,-34],[-2,-13],[-1,-28],[3,-43],[21,-59],[13,-73],[9,-19],[19,-22],[6,-8],[14,-27],[3,-16],[-1,-35],[0,-61]],[[25226,41975],[17,-3],[39,-7],[15,-3],[8,-1],[27,-7],[2,0],[11,-3],[44,-27],[34,-76],[2,-12],[13,-90],[4,-80],[0,-1],[-1,-36],[0,-1],[-1,-3],[-11,-72],[-11,-38],[-38,-79],[-43,-92],[-6,-24],[-6,-59],[0,-1],[2,-54],[11,-57],[1,-2],[7,-36],[1,-19],[2,-23],[-19,-81],[-3,-12],[-7,-23],[-3,-22],[-1,-32],[2,-25],[7,-37],[5,-27],[7,-16],[13,-31],[17,-26],[22,-26],[40,-39],[29,-60],[12,-33],[6,-26],[3,-20],[1,-28],[1,-9],[0,-93],[9,-47],[16,-48],[15,-26],[50,-59],[18,-34],[15,-42],[8,-37],[4,-38],[-4,-64],[-3,-13],[11,-26],[12,-26],[0,-17],[-3,-12],[-27,-66],[-14,-21],[-4,-2],[-6,-4],[-19,-5],[-39,-18],[0,-1],[-5,-8],[-5,-28],[2,-21],[25,-58],[8,-26],[4,-19],[1,-27],[1,-37],[-10,-73],[2,-42],[7,-42],[12,-35],[6,-14],[14,-26],[28,-32],[12,-13],[21,-39],[9,-27],[10,-54],[13,-30],[14,-21],[15,-13],[1,-1],[7,-3],[44,-16],[21,-17],[14,-21],[9,-19],[11,-38],[5,-26],[3,-50],[0,-5],[-4,-56],[-13,-57],[0,-2],[-8,-22],[-1,-5],[-8,-30],[-8,-59],[0,-29],[3,-78],[2,-18],[7,-48],[9,-37],[5,-18],[9,-21],[16,-19],[5,-5],[4,-2],[17,-7],[5,10],[25,17],[28,-4],[21,-15],[22,-31],[6,-15],[6,-29],[1,-27],[-7,-28],[-14,-31],[-31,-43],[-5,-7],[-10,-42],[-2,-32],[1,-16],[5,-12],[14,-23],[18,-13],[4,-3],[14,3],[5,5],[7,16],[14,51],[8,22],[30,20],[39,-5],[21,-18],[12,-29],[3,-21],[-1,-17],[-3,-19],[-16,-48],[-8,-38],[2,-19],[3,-10],[12,-22],[2,-4],[7,-6],[23,-3],[10,4],[21,17],[24,9],[14,0],[51,-16],[28,-27],[10,-23],[2,-16],[-1,-36],[-13,-74],[-7,-27],[-6,-12],[-18,-38],[-3,-11],[-4,-23],[4,-33],[23,-80],[1,-29],[-2,-21],[-9,-31],[-1,-1],[-8,-11],[-40,-23],[-16,-18],[-5,-16],[-4,-20],[0,-29],[8,-23],[4,-14],[20,-39],[11,-32],[5,-26],[2,-57],[2,-20],[6,-24],[8,-24],[10,-20],[12,-25],[16,-18],[24,-17],[23,-29],[8,-14],[12,-34],[8,-35],[0,-31],[-4,-34],[-6,-41],[0,-21],[5,-35],[6,-24],[13,-27],[18,-23],[15,-11],[42,-21],[18,-18],[20,-34],[8,-23],[8,-34],[1,-26],[-6,-32],[-23,-46],[-14,-40],[-5,-51],[2,-74],[0,-3],[-5,-29],[-16,-35],[-23,-23],[-19,-10],[-1,-1],[-17,-21],[-6,-17],[-6,-49],[0,-26],[3,-23],[10,-29],[31,-29],[18,-16],[27,-33],[15,-37],[5,-20],[3,-15],[1,-15],[-2,-15],[-10,-26],[-12,-15],[-10,-12],[-27,-6],[-48,20],[-22,-17],[-20,-28],[-8,-24],[-2,-12],[-2,-9],[-1,-43],[0,-2],[3,-38],[9,-27],[11,-25],[11,-21],[39,-59],[6,-18],[8,-46],[1,-20],[1,-22],[-9,-61],[-10,-32],[-45,-90],[-7,-19],[-5,-33],[-1,-30],[2,-28],[6,-33],[4,-16],[2,-11],[14,-40],[1,-2],[6,-11],[10,-18],[10,-12],[43,-32],[9,-14],[8,-19],[5,-21],[0,-2],[3,-24],[0,-24],[-4,-23],[-8,-27],[-12,-27],[-12,-26],[-6,-22],[-2,-21],[-5,-36],[-2,-43],[15,-90],[7,-17],[24,-45],[9,0],[19,-16],[16,-33],[2,-4],[17,-23],[19,-37],[14,-20],[18,-13],[25,-1],[8,7],[5,8],[6,21],[4,42],[-2,31],[9,9],[8,45],[8,90],[0,7],[11,24],[14,13],[18,1],[29,-16],[17,-29],[20,-126],[4,-47],[0,-42],[-4,-17],[-8,-22],[-5,-17],[-32,-56],[-28,-39],[-11,-26],[-2,-10],[1,-11],[10,-36],[0,-3],[16,-42],[9,-17],[14,-13],[46,-15],[26,-5],[32,-19],[26,-30],[11,-5],[17,0],[35,26],[15,1],[17,-9],[13,-11],[24,-34],[11,-28],[7,-33],[1,-28],[-2,-29],[-4,-17],[-7,-18],[-22,-46],[-5,-15],[-4,-20],[3,-56],[4,-25],[4,-30],[1,-30],[-4,-40],[-20,-76],[-2,-26],[2,-16],[6,-51],[19,-74],[2,-38],[-7,-41],[0,-1],[-15,-32],[-19,-24],[-37,-31],[-9,-13],[-6,-20],[0,-29],[12,-44],[21,-45],[12,-19],[13,-21],[41,-48],[4,-4],[12,-9],[28,-7],[3,1],[45,7],[35,-17],[18,-18],[17,-33],[11,-42],[11,-88],[-4,-44],[-1,-5],[-13,-34],[-18,-29],[-29,-26],[-38,-36],[-4,7],[-29,41],[10,41],[0,1],[17,66],[0,48],[-5,10],[-48,1],[-7,-6],[-17,-15],[-7,-47],[0,-56],[3,-29],[35,-55],[12,-20],[2,-2],[-16,-14],[-5,-10],[-5,-29],[1,-37],[0,-1],[1,-10],[14,-67],[2,-12],[8,-39],[9,-41],[1,-31],[0,-17],[-5,-37],[-9,-32],[-31,-89],[-1,-2],[0,-2],[-9,-68],[5,-51],[9,-36],[8,-16],[9,-17],[12,-13],[16,-5],[120,24],[29,6],[27,-9],[22,-18],[20,-33],[7,-33],[1,-4],[1,-6],[0,-1],[-2,-30],[-14,-34],[-22,-10],[-41,19],[-7,7],[-8,1],[-8,-6],[-14,-23],[-15,-38],[-2,-2],[-7,-39],[0,-31],[5,-54],[9,-41],[1,-5],[13,-39],[17,-52],[4,-13],[9,-52],[0,-4],[2,-117],[0,-8],[7,-58],[0,-1],[2,-41],[-4,-38],[-5,-24],[-17,-40],[-10,-16],[-15,-28],[-11,-34],[-3,-37],[2,-25],[7,-30],[32,-63],[27,-44],[4,-12],[3,-17],[2,-32],[-3,-48],[-20,-62],[-8,-36],[-3,-26],[0,-27],[7,-33],[1,-5],[3,-7],[8,-21],[12,-17],[25,-27],[27,-17],[14,-18],[4,-5],[18,-30],[10,-33],[5,-21],[2,-26],[-5,-65],[-10,-40],[-17,-63],[-5,-51],[-3,-31],[2,-56],[4,-41],[3,-21],[4,-24],[11,-34],[8,-17],[40,-64],[14,-30],[3,-9],[9,-29],[4,-19],[0,-33],[-4,-35],[-4,-19],[-13,-34],[-12,-19],[-18,-18],[-46,-22],[-5,-7],[-7,-8],[-5,-8],[-10,-27],[-3,-11],[-2,-25],[0,-19],[2,-10],[3,-24],[19,-67],[14,-79],[-1,-32],[-4,-39],[-18,-65],[-3,-19],[0,-5],[-1,-25],[1,-17],[4,-41],[26,-102],[4,-22],[1,-31],[1,-6],[-4,-30],[-5,-20],[-7,-15],[-13,-27],[-13,-19],[-20,-23],[-30,-21],[-27,-25],[-11,-16],[-19,-35],[-15,-40],[-11,-44],[-6,-45],[-1,-34],[12,-83],[7,-27],[21,-26],[5,-1],[16,-13],[24,-22],[13,-12],[21,-41],[1,-3],[10,-32],[2,-10],[4,-21],[6,-89],[3,-16],[1,-3],[0,-2],[7,-18],[17,-23],[1,-2],[6,-8],[11,-16],[5,-4],[26,-26],[29,-13],[33,-5],[29,-20],[20,-23],[9,-16],[16,-31],[19,-45],[7,-23],[4,-15],[5,-24],[3,-31],[0,-30],[1,-54],[4,-24],[7,-19],[8,-13],[21,-26],[17,-27],[5,-9],[6,-17],[3,-27],[-1,-26],[-3,-23],[-11,-32],[-19,-30],[-22,-29]],[[27480,27101],[-10,-14],[-16,-40],[-4,-35],[9,-57],[23,-71],[4,-24],[1,-23],[0,-20],[-4,-19],[-12,-42],[-3,-28],[2,-20],[6,-19],[13,-25],[19,-18],[28,-13],[38,-3],[20,12],[20,18],[9,2],[27,-7],[14,-26],[5,-17],[38,53],[7,36],[-8,29],[3,63],[5,43],[3,48],[23,29],[28,14],[23,1],[21,-46],[11,-52],[21,-26],[8,-36],[4,-29],[-9,-83],[-3,-29],[-19,-48],[-21,-18],[-80,-52],[-12,-13],[-14,-9],[13,-48],[4,-42],[-2,-54],[-3,-34],[-2,-25],[2,-23],[5,-34],[5,-16],[20,-32],[9,-14],[24,-25],[18,-26],[21,-43],[24,-71],[1,-9],[1,-2],[7,-44],[-3,-46],[-6,-32],[-8,-44],[-3,-22],[8,-56],[24,-73],[8,-23],[18,-71],[6,-66],[-1,-25],[0,-40],[5,-26],[7,-20],[6,-19],[19,-31],[13,-32],[1,-3],[8,-26],[0,-1],[3,-20],[4,-44],[-2,-19],[-7,-31],[-15,-26],[-13,-13],[-47,-28],[-19,-23],[-10,-24],[-3,-28],[-1,-24],[2,-14],[10,-23],[9,-9],[21,-8],[10,3],[20,13],[43,36],[18,10],[14,4],[10,-2],[18,-11],[21,-21],[3,-5],[14,-25],[12,-21],[9,-12],[18,-15],[46,-4],[20,-13],[11,-13],[18,-35],[5,-19],[3,-21],[-2,-37],[-16,-79],[0,-23],[5,-25],[1,-8],[7,-12],[29,-9],[30,-29],[34,-44],[11,-8],[16,-7],[29,-3],[24,6],[22,0],[11,-5],[14,-9],[11,-12],[17,-27],[17,-51],[7,-40],[2,-22],[-1,-49],[-5,-32],[-6,-30],[-15,-37],[-15,-61],[-1,-25],[1,-39],[3,-19],[2,-9],[6,-22],[9,-28],[18,-39],[5,-10],[29,-49],[19,-20],[40,-26],[7,-7],[15,-27],[5,-21],[3,-24],[2,-52],[4,-39],[3,-20],[8,-21],[13,-22],[19,-16],[32,-4],[17,-8],[19,-20],[11,-28],[6,-27],[1,-12],[1,-14],[0,-9],[-1,-15],[0,-12],[-4,-22],[-9,-23],[-10,-15],[-25,-40],[-10,-50],[5,-56],[2,-38],[-5,-37],[0,-2],[-16,-32],[-12,-26],[-7,-30],[-4,-27],[5,-50],[3,-31],[8,-39],[11,-37],[21,-41],[15,-19],[23,-19],[14,-8],[15,-2],[14,3],[63,33],[23,0],[27,-17],[7,-8],[35,-69],[25,-27],[35,-18],[9,-9],[10,-21],[4,-12],[9,-42],[0,-17],[-487,0],[-26,1],[-339,0],[-310,1],[-47,0],[-370,1],[-388,0],[-187,1],[-50,0],[-125,1],[-136,0],[-98,-1],[-28,0],[-113,-1],[-101,0],[0,1],[-61,0],[-157,1],[-447,0],[-360,2],[-1,0],[-12,1],[-8,-1],[-105,0],[-62,1],[-23,0],[-9,-1],[-30,-1],[-50,1],[-13,0],[-20,1],[-43,0],[-13,-1],[-112,0],[-26,2],[-243,0],[-356,1],[-9,0],[-225,1],[-462,0],[-55,-1],[-67,0],[-292,4],[-13,-3],[-8,0],[-125,1],[-61,0],[-7,-1],[-142,0],[-35,1],[-2,0],[-311,3],[-2,0],[-61,1],[0,-1],[-372,0],[-50,-1],[-62,0],[-260,1],[-588,0],[-21,1],[-139,-1],[-45,0],[-19,-1],[-6,0],[-57,2],[-62,0],[-184,-1],[-1,0],[-133,1],[-126,0],[-14,1],[-94,0],[-16,-1],[-1,1],[-8,0],[-61,1],[-25,-1],[-78,0],[-140,1],[-101,0],[-23,1],[-47,1],[-65,-1],[-123,-2],[-60,2],[-19,0],[-391,-1],[-435,0],[-67,-1],[-57,0],[-49,2],[-60,0],[-68,-1],[-8,0],[-81,1],[-39,-2],[-4,0],[-53,1],[-10,0],[-58,1],[-4,0],[-6,-1],[-57,-2],[-53,1],[-10,0],[-151,1],[-8,0],[-143,-1],[-46,1],[-27,0],[-123,-1],[-373,0],[-88,1],[-6,-1],[-151,-1],[-65,0],[-93,1],[-31,-1],[-155,-2],[-31,1],[-236,0],[-12,1],[-96,-2],[-13,1],[-391,0],[-26,-1],[-5,0],[-32,3],[-189,-2],[-42,0],[-14,-1],[-5,1],[-62,0],[-209,-1],[-550,0],[-34,-4],[-24,2],[-26,2],[-12,-2],[-125,-2],[-63,1],[-325,0],[-47,1],[-12,2],[-32,-1],[-96,-1],[-14,-1],[-172,0],[-126,1],[-374,0],[-11,-1],[-61,1],[-47,1],[-7,-1],[-194,1],[-56,0],[-275,1],[-41,0],[-59,-1],[-222,0],[-79,1],[-187,0],[-91,1],[-15,-1],[-155,0],[-47,2],[-16,0],[-61,1],[-27,0],[-37,-1],[-90,0],[-11,1],[-19,0],[-35,-1],[-9,0],[-22,1],[-372,0],[-220,-1],[-82,0],[-75,1],[-251,0],[-125,1],[-109,0],[-125,1],[-415,0],[-100,1],[-5,0],[-57,-1],[-105,0],[-118,-1],[-24,0],[-378,2],[-720,0],[-116,1],[-98,0],[-64,1],[-29,-1],[-69,1],[-141,2],[-41,0],[-448,-1],[0,469],[-1,641],[1,109],[0,789],[2,556],[-2,166],[1,253],[-1,26],[0,1],[1,333],[0,616],[-1,136],[1,835],[0,394],[1,401],[0,163],[-1,1460],[0,331],[-63,0],[-181,-1],[-219,0],[-59,1],[-11,0],[-65,-1],[-28,0],[-65,1],[-27,0],[-13,-1],[-64,-1],[-4,0],[0,1],[-1,-1],[-236,0],[-52,1],[-2,0],[-295,1],[-62,0],[-99,-1],[-129,-1],[-62,0],[-1,1],[-10,0],[-140,2],[-108,-2],[-286,0],[-49,1],[-40,-1],[-23,1],[-64,-1],[-114,-1],[-10,1],[-63,0],[-55,-2],[-7,1],[-122,0],[-6,1],[-58,-1],[-5,1],[-58,-2],[-6,2],[-49,-2],[-10,0],[-3,1],[-64,0],[-57,2],[-7,0],[-121,-1],[-16,0],[-48,1],[-5,0],[-57,-1],[-4,0],[-757,-3],[-196,0],[-57,3],[-48,2],[-83,-5],[0,1],[-215,-1],[-35,-2],[-124,0],[-129,1],[-63,0],[-523,2],[-43,0],[-315,-3],[-65,0],[-60,1],[-34,-3],[-28,0],[-128,2],[-60,-1],[-4,1],[-151,0],[-17,2],[-53,-3],[-46,-1],[0,684],[1,5],[-1,114],[0,73],[-1,332],[0,103],[1,195],[0,33],[2,585],[0,22],[1,1],[-1,296],[0,37],[1,1],[-1,74],[1,487],[0,192],[-1,764],[0,378],[-1,219],[1,167],[-1,73],[0,2287],[1,456],[-1,23],[0,150],[1,29],[0,138],[-1,43],[0,585],[1,228],[0,69],[-1,27],[1,233],[-1,28],[-1,628],[1,0],[0,87],[-1,1890],[1,879],[0,8],[1,152],[0,152],[-1,794],[0,1998],[205,9],[82,0],[137,-6],[215,2],[148,1],[5,1],[328,-3],[206,3],[115,-6],[137,1],[572,0],[191,1],[74,0],[635,-1],[4,0],[435,-3],[691,-3],[110,-1],[153,0],[62,-1],[392,-1],[76,0],[218,-1],[155,1],[15,0],[101,-1],[169,0],[902,-1],[771,-1],[451,-21],[1,0],[293,-3],[368,6],[46,1],[16,0],[230,1],[650,5],[620,0],[142,-3],[120,3],[19,-1],[171,1],[63,0],[68,3],[66,0],[132,-1],[452,0],[132,-1],[20,4],[240,1],[30,1],[32,2],[205,2],[197,-2],[192,-2],[237,0],[20,-1],[263,-1],[237,1],[26,0],[281,-2],[98,0],[139,-1],[42,0],[75,-1],[31,-1],[161,0],[32,-1],[31,2],[3,0],[93,-1],[41,1],[20,-1],[10,-1],[40,1],[58,1],[8,0],[84,-2],[79,0],[59,1],[7,-1],[156,0],[275,1],[117,0],[132,1],[11,0],[54,-1],[11,-1],[251,2],[71,-1],[10,0],[9,1],[267,0],[84,1],[27,-1],[1,0],[65,1],[130,-1],[1,0],[112,2],[9,0],[25,-1],[40,2],[10,-2],[179,0],[6,1],[65,-1],[127,0],[1,1],[13,0],[59,-1],[322,0],[11,-1],[130,0],[121,1],[271,0],[123,1],[131,1],[5,-1],[62,0],[254,1],[13,-1],[66,0],[154,1],[10,-84],[17,-80],[39,-115],[38,-128],[1,-1],[18,-24],[10,-8],[21,-40],[13,-16],[4,-10],[4,-36],[6,-11],[14,-9],[9,2],[9,7],[12,18],[13,4],[2,1],[18,-2],[43,-49],[29,-26],[42,-33],[37,-42],[8,-6],[49,-39],[32,-30],[7,-8],[13,-15],[15,-24],[7,-17],[8,-33],[3,-8],[9,-17],[13,-15],[21,-16],[32,-16],[41,-20],[58,-40],[39,-7],[33,2],[22,-12],[6,-8],[10,-27],[49,-58],[5,-8],[13,-19],[8,-18],[15,-19],[50,-50],[49,-42],[10,-5],[14,-9],[38,-22],[12,-1],[14,1],[34,16],[17,7],[3,-1],[30,-57],[26,-82],[4,-9],[5,-9],[65,-76],[10,-17],[34,-73],[22,-28],[17,-11],[51,-77],[15,-29],[5,-25],[5,-41],[11,-16],[16,-16],[14,-4],[9,-2],[9,-6],[16,-12],[7,-12],[59,-15],[14,-1],[24,15],[11,-7],[7,0],[26,15],[50,38],[51,-9],[29,2],[11,5],[44,49],[13,19],[31,67],[7,14],[18,12],[23,40],[13,32],[6,15],[30,87],[13,27],[6,17],[12,72],[17,73],[3,65],[10,33],[1,20],[-4,19],[-1,14],[6,34],[10,11],[22,22],[25,18],[42,21],[37,9],[19,0],[9,-10],[29,-46],[41,-24],[11,-6],[43,-37],[30,-19],[16,-10],[33,-5],[36,-1],[11,4],[99,-16],[0,-1],[65,-29],[48,-10],[60,4],[35,13],[37,24],[37,30],[50,41],[29,15],[26,-1],[3,-2],[12,-14],[25,-20],[57,-33],[42,-17],[48,4],[52,17],[17,9],[35,20],[37,37],[15,-10],[4,-16],[10,-15],[15,-13],[22,-10],[9,0],[39,1],[29,-11],[10,-6],[8,-12],[14,-7],[33,2],[10,7],[24,35],[21,41],[2,12],[6,24],[20,38],[12,11],[17,8],[13,-5],[17,-23],[18,-5],[57,8],[5,-18],[22,-36],[5,-6],[18,-20],[7,-3],[61,9],[17,7],[17,13],[7,8],[1,1],[7,14],[6,6],[22,9],[23,21],[7,12],[7,2],[16,-15],[4,-9],[36,-72],[8,-3],[15,-5],[14,-4],[36,-12],[4,2],[29,8],[4,1],[16,12],[11,0],[35,-18],[20,-14],[44,-44],[4,-19],[-2,-98],[-1,-13],[1,-6],[1,-8],[9,-38],[4,-23],[3,-57],[4,-18],[5,-11],[18,-23],[15,-8],[42,-5],[30,-13],[22,-2],[16,-7],[11,-6],[11,-13],[32,-33],[21,-43],[10,-27],[11,-26],[4,-20],[0,-16],[8,-33],[0,-2],[11,-21],[65,-20],[34,2],[1,0],[16,-2],[36,5],[20,11],[25,7],[21,-1],[44,-16],[63,-34],[10,-17],[18,-10],[30,-7],[42,-10],[34,-7],[35,9],[10,-4],[13,-14],[21,-32],[26,-109],[1,-12],[-1,-14],[-1,-6],[-3,-15],[-12,-61],[1,-20],[3,-16],[4,-15],[7,-6],[18,-6],[24,3],[25,16],[15,15],[21,24],[21,31],[12,9],[45,19],[7,-7],[17,-18],[4,-3],[38,-40],[47,-9],[41,-27],[35,-45],[21,-24],[46,-29],[13,-2],[21,-3],[21,-11],[23,-18],[15,-43],[4,-50],[1,-64],[-7,-97],[4,-19],[7,-12],[19,-18],[40,-20],[10,-4],[46,-8],[43,19],[6,11],[8,4],[16,3],[22,4],[25,-2],[101,-62],[21,-23],[12,-25],[2,-8],[0,-21],[-3,-27],[-4,-15],[-12,-17],[-14,-35],[-34,-97],[-8,-27],[-6,-36],[0,-21],[1,-53],[6,-35],[10,-34],[30,-71],[38,-99],[15,-28],[18,-23],[57,-41],[28,-35],[7,-9],[15,-26],[18,-44],[9,-35],[7,-58],[0,-66],[1,-24],[5,-37],[7,-39],[4,-19],[7,-27],[45,-55],[3,-4],[9,-7],[18,-6],[14,1],[11,0],[16,6],[22,20],[40,62],[15,17],[33,20],[30,1],[25,-13],[11,-6],[21,-23],[10,-15],[12,-24],[14,-44],[7,-31],[4,-31],[5,-21],[24,-60],[7,-11],[2,-3],[1,-1],[15,-16],[39,-21],[28,-3],[7,-1],[11,3],[33,25],[20,23],[47,36]],[[41890,25512],[13,24],[9,7],[53,6],[16,8],[7,3],[5,3],[22,21],[11,15],[6,11],[3,6],[10,56],[1,16],[0,78],[-4,50],[-13,65],[0,2],[-6,37],[-5,30],[-1,21],[-2,34],[1,27],[5,46],[6,33],[14,59],[1,3],[19,78],[1,13],[9,61],[4,45],[0,32],[-1,45],[-9,59],[-4,21],[-2,8],[-2,7],[-28,81],[-14,40],[-9,21],[-12,16],[-21,12],[-21,17],[-11,18],[-7,27],[-2,38],[2,33],[3,21],[13,37],[44,71],[20,32],[8,13],[18,62],[16,48],[16,51],[16,49],[17,31],[2,6],[18,24],[25,24],[5,5],[110,98],[31,14],[69,32],[38,13],[22,21],[7,4],[10,6],[17,4],[98,0],[68,-18],[36,9],[5,6],[87,101],[17,19],[53,56],[47,63],[5,12],[6,16],[3,24],[14,123],[10,34],[2,6],[3,48],[0,39],[-9,87],[-2,8],[-3,10],[-2,25],[5,44],[13,113],[7,42],[9,22],[10,25],[15,48],[6,30],[9,55],[6,42],[0,4],[2,50],[-4,48],[-8,38],[-8,35],[-2,24],[2,26],[1,21],[1,4],[10,59],[2,10],[5,13],[4,15],[39,63],[3,4],[34,67],[28,33],[8,16],[21,78],[9,48],[9,28],[18,40],[8,12],[30,30],[1,2],[14,27],[6,10],[25,90],[2,8],[5,12],[7,18],[20,35],[17,23],[43,32],[21,26],[34,28],[12,19],[8,26],[8,88],[22,111],[5,26],[1,32],[-2,30],[-8,60],[-10,52],[0,25],[9,49],[1,5],[18,65],[12,88],[3,42],[-1,57],[5,55],[2,24],[4,40],[-1,29],[-4,79],[-3,28],[-3,73],[-12,66],[0,3],[-1,16],[4,91],[0,6],[6,74],[-1,15],[-14,46],[-21,66],[-12,28],[-17,38],[-16,81],[-35,98],[-11,40],[-17,61],[-9,21],[-8,17],[-10,15],[-32,28],[-7,-1],[-10,-1],[-6,-2],[-42,-17],[-9,1],[-39,20],[-44,152],[-10,28],[-8,23],[-18,56],[-24,59],[-28,57],[-38,64],[-26,61],[-29,47],[-3,6],[-6,13],[-5,18],[-1,34],[0,33],[12,48],[20,46],[11,40],[30,153],[17,58],[31,58],[9,29],[5,61],[5,155],[0,2],[1,47],[17,200],[4,30],[5,12],[39,109],[1,5],[2,17],[1,45],[1,53],[4,37],[5,47],[6,25],[3,6],[3,8],[14,20],[9,12],[8,7],[23,21],[22,5],[30,6],[8,4],[13,5],[69,60],[17,4],[15,-3],[29,-31],[44,-38],[12,-8],[65,-21],[19,11],[17,22],[62,43],[3,3],[27,28],[3,3],[36,43],[28,38],[13,18],[32,35],[14,9],[23,10],[30,4],[42,-9],[58,0],[70,-13],[15,-7],[14,-5],[19,-4],[72,-9],[41,4],[47,16],[74,20],[34,15],[31,21],[17,11],[25,-1],[9,0],[34,11],[19,23],[33,65],[25,42],[7,6],[40,43],[33,56],[9,16],[0,2],[5,20],[7,70],[23,39],[3,2],[11,12],[30,18],[1,0],[4,1],[31,8],[13,9],[3,5],[33,48],[5,1],[31,9],[15,5],[12,-5],[14,-5],[66,-42],[32,-9],[10,-3],[2,0],[33,2],[2,0],[4,1],[46,11],[43,29],[54,99],[5,15],[17,47],[15,34],[4,8],[18,16],[7,9],[2,2],[8,10],[8,25],[13,43],[9,18],[1,1],[24,25],[25,28],[55,35],[9,3],[47,19],[1,1],[27,25],[14,13],[29,26],[5,22],[2,14],[4,37],[1,12],[-4,99],[-1,23],[-8,208],[0,47],[11,68],[1,7],[10,63],[0,1],[3,45],[5,71],[6,21],[8,14],[34,45],[9,15],[8,25],[5,25],[0,12],[2,22],[-1,40],[-1,16],[-14,69],[0,34],[4,48],[4,42],[15,63],[26,61],[74,126],[6,10],[51,37],[15,25],[30,32],[3,3],[21,25],[67,79],[18,18],[24,15],[4,3],[68,43],[19,31],[4,18],[1,20],[-4,83],[-7,83],[0,24],[2,13],[5,42],[0,3],[1,8],[4,12],[4,14],[13,45],[7,29],[1,57],[0,12],[1,9],[0,2],[3,22],[0,4],[5,44],[4,15],[8,27],[4,15],[27,112],[10,60],[2,8],[0,70],[5,105],[1,16],[-3,16],[-8,22],[-6,18],[-13,21],[-10,32],[-4,31],[0,5],[3,53],[6,40],[25,92],[3,9],[17,32],[6,19],[2,5],[1,54],[18,62],[1,57],[0,3],[-3,41],[-9,47],[-14,41],[-2,10],[-2,11],[-2,30],[-4,23],[-2,9],[-9,19],[-15,37],[-15,21],[-4,13],[-2,70],[-1,30],[0,62],[-1,12],[-8,91],[0,1],[16,92],[6,89],[1,59],[-1,26],[-1,32],[-3,24],[-13,38],[-3,7],[-11,21],[-55,2],[-10,3],[-14,12],[-9,7],[-13,22],[-13,64],[-3,50],[-4,29],[-7,28],[-22,32],[-27,26],[-35,42],[-51,48],[-17,3],[-45,21],[-44,34],[-46,59],[-8,10],[-28,21],[-36,28],[0,1],[-35,56],[-32,18],[-63,17],[-11,17],[-16,23],[-33,34],[-53,84],[-12,28],[0,4],[-4,28],[-16,49],[-32,67],[-16,25],[-4,6],[-8,18],[-2,4],[-9,43],[-1,5],[-5,46],[-6,22],[-17,71],[1,48],[0,1],[12,50],[9,21],[1,9],[12,86],[0,50],[-2,35],[3,12],[10,18],[3,11],[1,11],[-2,19],[-6,20],[-3,6],[-7,16],[-14,17],[-12,25],[-5,9],[-44,145],[-8,14],[-21,18],[-33,63],[-7,17],[-10,37],[-8,34],[-13,26],[-11,17],[-9,6],[-15,-1],[-8,5],[-11,16],[-18,42],[-14,25],[-22,25],[-1,0],[-35,34],[-33,25],[-68,55],[-23,24],[-9,24],[-2,14],[-2,59],[-5,35],[-16,46],[-9,13],[-10,11],[-37,21],[-11,10],[-17,15],[-53,31],[-59,59],[-55,76],[-7,10],[-13,17],[-24,52],[-7,41],[-1,44],[2,20],[24,51],[19,82]],[[44465,42117],[13,-1],[14,0],[17,-1],[16,0],[24,-1],[10,-1],[18,0],[64,-1],[15,-1],[66,-1],[32,-1],[15,2],[23,0],[40,-1],[134,0],[20,-1],[21,-1],[15,1],[125,-3],[36,0],[68,-2],[14,0],[66,1],[37,1],[9,0],[17,-1],[178,3],[17,1],[103,0],[12,2],[7,-1],[47,-2],[8,1],[91,2],[67,0],[33,1],[38,2],[57,1],[71,-1],[129,-2],[30,0],[6,2],[25,1],[40,0],[182,-8],[5,-1],[59,-2],[7,-1],[38,-2],[2,0],[15,-1],[48,-3],[35,-3],[1,0],[29,1],[132,0],[229,-1],[119,-1],[26,0],[45,-1],[153,0],[49,-1],[86,-1],[11,1],[75,-2],[57,-3],[20,-1],[1,0],[102,-4],[32,-3],[7,0],[5,1],[17,-2],[44,-3],[9,0],[16,-1],[32,-3],[2,0],[137,-5],[97,-3],[2,0],[28,-1],[2,0],[95,-3],[36,-1],[63,-2],[4,1],[4,-1],[6,-1],[36,0],[28,-1],[118,-1],[1,0],[14,-2],[234,-9],[94,-5],[39,-2],[9,1],[4,0],[62,-1],[6,-1],[94,-2],[104,-3],[6,1],[25,-1],[91,-2],[16,-1],[15,1],[1,0],[11,-1],[59,-3],[65,-2],[142,0],[34,-1],[49,0],[34,-1],[34,0],[18,-1],[24,-1],[2,0],[86,-4],[29,-1],[9,-1],[152,-7],[248,-12],[110,-5],[34,0],[36,1],[94,6],[2,0],[30,2],[18,1],[49,3],[121,6],[41,2],[66,3],[261,0],[32,-1],[143,0],[121,-2],[190,0],[193,1],[257,0],[10,1],[11,0],[19,2],[12,1],[39,4],[40,1],[79,0],[9,1],[115,0],[88,1],[88,0],[18,1],[10,0],[12,-1],[10,0],[21,-1],[4,0],[23,-1],[54,-1],[30,-1],[22,-1],[41,-1],[155,-3],[42,-1],[62,-1],[44,0],[24,-1],[112,-4],[57,-2],[7,0],[37,-1],[13,-1],[31,-1],[10,0],[27,-1],[32,-1],[17,0],[4,-1],[6,0],[65,-2],[11,0],[17,-1],[43,-1],[5,0],[9,-68],[-3,-46],[8,-51],[0,-2],[-3,-58],[-4,-88],[-1,-27],[-2,-37],[-3,-23],[-3,-18],[-1,-9],[-2,-26],[-3,-33],[3,-85],[0,-53],[1,-120],[0,-65],[-7,-46],[-1,-7],[-5,-9],[-9,-41],[-7,-25],[-10,-39],[-2,-20],[-1,-20],[-2,-21],[-13,-1],[-4,9],[0,14],[-1,1],[-3,0],[-2,-3],[-1,-18],[0,-39],[-6,-11],[-2,-65],[-1,-29],[-1,-19],[-1,-30],[-12,-48],[-4,-24],[0,-11],[1,-24],[3,-52],[1,-40],[-4,-17],[-3,-9],[-1,-1],[0,-14],[-2,-18],[-4,-26],[1,-7],[3,-45],[3,-29],[14,-168],[2,-10],[4,-19],[13,-63],[10,-51],[15,-96],[10,-62],[1,-10],[1,-15],[0,-2],[11,-33],[3,-10],[0,-3],[8,-38],[7,-37],[3,-19],[0,-1],[17,-53],[0,-1],[3,-18],[13,-44],[15,-47],[11,-34],[18,-57],[6,-18],[27,-70],[0,-3],[2,-5],[0,-2],[22,-83],[7,-24],[15,-47],[15,-51],[2,-6],[27,-85],[0,-1],[1,-6],[17,-52],[14,-29],[4,-20],[20,-54],[0,-1],[25,-53],[0,-1],[16,-34],[4,-9],[1,0],[14,-23],[13,-20],[1,-3],[3,-4],[6,-9],[17,-27],[30,-32],[13,-15],[-3,-21],[9,-32],[21,-80],[6,-25],[4,-42],[-2,-5],[0,-3],[-2,-9],[-5,-22],[3,-21],[4,-20],[0,-1],[1,-13],[3,-57],[3,-37],[9,-49],[1,-2],[5,-26],[3,-17],[4,-16],[3,-18],[1,-4],[9,-34],[2,-8],[3,-22],[0,-3],[2,-14],[1,-14],[1,-16],[1,-14],[1,-18],[1,-6],[0,-8],[1,-10],[1,-7],[0,-10],[2,-7],[5,-30],[0,-2],[5,-34],[1,-1],[1,-8],[3,-11],[11,-44],[2,-4],[4,-7],[15,-30],[23,-8],[3,-14],[-15,-16],[-6,7],[-12,-5],[2,-53],[0,-8],[11,-41],[1,-2],[11,-41],[2,-7],[5,-42],[0,-1],[3,-29],[0,-1],[5,-51],[6,-61],[0,-1],[1,-12],[19,-27],[3,-4],[-11,-15],[-2,-1],[0,-1],[-3,-4],[0,-8],[2,-18],[1,-3],[0,-7],[1,-10],[1,-3],[0,-4],[2,-6],[1,-6],[0,-2],[1,0],[10,-4],[3,-10],[3,-11],[5,-16],[7,-24],[7,0],[6,19],[1,2],[26,0],[0,-24],[-25,-1],[1,-28],[-6,-1],[-1,9],[-5,0],[-2,-1],[0,-20],[3,-1],[-1,-27],[0,-6],[-11,-10],[0,-82],[1,-23],[3,-2],[4,-2],[27,-13],[-2,-107],[-13,-10],[1,-16],[2,-36],[1,-6],[10,-47],[11,-56],[1,-6],[7,-29],[3,-11],[23,-67],[16,-45],[3,-8],[11,-31],[4,-14],[1,-4],[2,-11],[2,-14],[0,-1],[2,-14],[11,-15],[4,-5],[-2,-9],[0,-1],[-11,-12],[6,-30],[2,-11],[3,-16],[0,-1],[7,-27],[6,-12],[0,-5],[-2,-9],[21,-41],[2,-4],[9,-19],[10,-21],[0,-16],[-1,-7],[1,0],[3,-6],[5,-9],[1,-3],[5,-8],[0,-1],[3,-5],[3,-7],[14,-9],[8,-7],[12,12],[11,-22],[-13,-19],[1,-1],[4,-21],[40,-31],[6,-119],[15,-73],[-2,-46],[-12,-17],[8,-25],[-6,-11],[14,-20]],[[54806,35815],[-1,-44],[0,-28],[-1,-57],[0,-171],[-1,-74],[0,-385],[-1,-14],[0,-484],[-1,-149],[0,-582],[-1,-62],[0,-153],[-1,-161],[0,-157],[-1,-268],[0,-20],[-1,-390],[0,-119],[1,-573],[0,-375],[-1,-90],[1,-216],[0,-752],[1,-109],[0,-82],[1,-424],[0,-57],[-1,-198],[0,-1],[1,-41],[0,-94],[-2,-1],[2,-226],[0,-993],[-1,-356],[0,-1530],[-1,-110],[-2,-250],[-1,-90],[-2,-335],[0,-114],[-3,-334],[-1,-207],[-1,-75],[0,-55],[-1,-109],[0,-156],[-1,-122],[-1,-163],[0,-23],[-1,-94],[0,-69],[-1,-101],[0,-55],[-1,-166],[0,-42],[-1,-132],[0,-60],[-1,-109],[0,-111],[-1,-230],[0,-512],[-1,-43],[0,-228],[-1,-56],[0,-276],[-1,-16],[0,-987],[1,-380],[0,-275],[1,-223],[0,-2],[1,-218],[0,-327],[1,-111],[0,-440],[1,-256],[0,-71],[1,-292],[0,-480],[-1,-30],[0,-174],[-3,-1],[-16,32],[-10,6],[-12,0],[-6,-6],[-12,-33],[-1,-9],[-2,-24],[-13,-22],[-21,-12],[-45,19],[-35,-31],[-10,-17],[-4,-9],[-4,-14],[-22,-75],[-13,-27],[-17,-56],[-22,-19],[-27,-11],[-2,-22],[8,-19],[13,-6],[32,17],[23,-23],[3,-24],[-8,-25],[-30,-52],[-3,-40],[1,-22],[7,-17],[18,-8],[1,-22],[-13,-75],[2,-16],[23,-46],[15,-50],[8,-2],[13,18],[7,26],[15,16],[23,-5],[7,-24],[-5,-35],[-17,-14],[-4,-10],[6,-33],[10,-157],[-8,-54],[-27,-44],[-5,-43],[-25,-35],[-20,-12],[-10,-16],[-7,-41],[-19,-13],[-25,17],[-6,-9],[0,-1],[-4,-47],[2,-30],[5,-21],[-4,-13],[-15,-8],[-38,-3],[-13,-16],[-5,-32],[2,-16],[13,-10],[24,-5],[3,-7],[5,-9],[-3,-18],[-9,-7],[-10,4],[-10,25],[-15,2],[-10,-21],[-22,-28],[-5,-21],[0,-28],[-17,-42],[-1,-19],[11,-28],[13,-11],[17,-7],[10,-10],[4,-26],[0,-14],[4,-3],[9,5],[10,-9],[0,-16],[-3,-14],[-19,-28],[-31,14],[-10,-23],[-3,-18],[1,-3],[6,-28],[12,-15],[15,-3],[20,11],[20,-8],[47,-4],[12,-13],[3,-23],[-5,-28],[-16,-32],[-2,-26],[9,-23],[7,-19],[18,-10],[32,1],[18,-18],[14,-44],[26,-39],[16,-47],[20,-33],[0,-55],[-25,-61],[0,-19],[17,-40],[17,-82],[1,-28],[-14,-81],[-17,-47],[1,-22],[11,-22],[28,-22],[13,6],[9,-15],[-6,-22],[-10,-5],[-27,20],[-12,-2],[-5,-11],[6,-23],[54,-40],[41,-22],[18,-21],[43,-28],[8,-23],[7,-38],[15,-30],[10,-12],[14,-17],[4,-12],[-3,-32],[-11,-34],[-11,-18],[-1,-2],[-5,-8],[-1,-13],[14,-39],[3,-14],[-5,-26],[-2,-13],[0,-35],[-6,-12],[-18,-2],[-6,-22],[6,-36],[-7,-33],[2,-15],[10,-15],[22,3],[3,-11],[-4,-11],[-15,-2],[-29,-5],[-8,-6],[-9,-40],[0,-8],[7,-17],[0,-14],[-3,-19],[-1,-5],[-2,1],[-5,16],[0,11],[-2,12],[-1,22],[-2,5],[-8,2],[-8,-10],[-3,-12],[-1,-15],[3,-19],[20,-24],[9,-32],[2,-20],[-6,-11],[-28,-5],[-7,-8],[-1,-23],[17,-45],[-2,-18],[-9,-9],[-21,11],[-4,-15],[4,-16],[49,-50],[30,-15],[8,-21],[-3,-77],[9,-43],[6,-18],[2,-29],[-7,-32],[-9,-13],[-3,-19],[19,-38],[45,-129],[17,-22],[24,-56],[2,-25],[-8,-34],[-22,-27],[-25,-3],[-9,-13],[0,-19],[8,-13],[13,-1],[19,14],[14,-7],[1,-6],[3,-16],[-2,-21],[-5,-36],[-16,-60],[2,-20],[24,-37],[-1,-8],[-1,-13],[-29,-33],[-1,-10],[-9,-59],[-27,-70],[-10,-44],[2,-82],[-7,-32],[-3,-14],[-22,-51],[-9,-19],[-13,-17],[-16,-20],[-18,-11],[-63,-21],[-49,-18],[-28,-18],[-31,-35],[-10,-21],[-9,-46],[0,-38],[-10,-36],[-7,-11],[-12,-8],[-19,-13],[-9,-20],[-3,-25],[7,-36],[10,-31],[-1,-30],[-19,-27],[-3,-19],[8,-32],[-1,-5],[-20,-28],[-2,-22],[0,-1],[10,-62],[16,-16],[20,1],[7,-10],[1,-17],[-3,-16],[-9,-13],[-28,-10],[-17,14],[-22,35],[-9,-1],[-1,-1],[-8,-20],[1,-35],[1,-23],[5,-31],[-5,-28],[-11,-14],[-14,-6],[-10,-10],[-4,-15],[-4,-27],[8,-45],[-2,-17],[-22,-22],[-27,-25],[-10,-16],[-5,-19],[3,-26],[27,-72],[5,-40],[14,-44],[17,-25],[13,-18],[3,-37],[-16,-41],[-22,-22],[-23,9],[-20,32],[-9,2],[-19,-67],[-25,-50],[-94,-89],[-68,2],[-1,-1],[-32,-20],[-31,-86],[-5,-14],[-4,-27],[2,-33],[17,-12],[34,3],[29,-29],[5,-22],[-1,-37],[-30,-36],[-10,-80],[-2,-75],[-1,-21],[0,-10],[-5,-31],[-15,-39],[-10,-25],[-13,-35],[-9,-22],[-11,-28],[-23,-62],[-45,-88],[-23,-16],[-53,-26],[-2,-6],[-7,-20],[-16,-44],[-32,-58],[-15,-89],[-14,-53],[-4,-77],[8,-82],[0,-46],[-10,-65],[-17,-62],[-15,-31],[-25,-23],[-29,12],[-11,26],[-10,73],[4,40],[15,58],[-2,35],[-11,21],[-21,11],[-17,-17],[-14,-34],[-12,-75],[-14,-74],[-15,-20],[-18,-23],[-30,-74],[-14,-12],[-22,16],[-6,33],[8,41],[30,91],[-5,28],[-23,25],[-21,-2],[-36,-24],[-13,-29],[-5,-68],[-11,-26],[-26,-19],[-6,-28],[5,-47],[13,-30],[15,-18],[-3,-19],[-10,-18],[-26,-17],[-12,-22],[-5,-26],[3,-48],[-7,-23],[-13,-6],[-16,8],[-6,25],[3,20],[-8,27],[-32,70],[-9,11],[-10,-4],[0,-3],[-1,-11],[15,-40],[3,-10],[10,-61],[-3,-38],[-11,-38],[-4,-13],[-2,-79],[1,-18],[4,-48],[27,-84],[20,-45],[36,-57],[61,-68],[14,-26],[9,-53],[-5,-41],[3,-17],[10,-1],[16,19],[6,23],[-4,33],[2,29],[8,22],[7,3],[5,2],[12,-5],[10,-19],[6,-31],[-2,-36],[-13,-29],[-5,-7],[-23,-28],[-7,-2],[-8,-15],[5,-12],[4,-22],[-4,-28],[-9,-13],[-19,-10],[-11,-28],[-6,-14],[-17,-53],[-7,5],[-10,22],[-18,20],[-15,-6],[-17,4],[-13,-14],[-5,-21],[-11,-44],[2,-56],[-5,-33],[-26,-21],[-50,10],[-49,-37],[-12,-47],[7,-51],[10,-42],[23,-6],[121,92],[19,28],[6,-7],[2,-17],[8,-58],[0,-1],[3,-20],[-5,-17],[-30,-125],[-38,-54],[-75,-61],[-64,2],[-40,-1],[-17,-11],[-15,-29],[0,-54],[2,-7],[5,-18],[20,-27],[21,-2],[34,22],[18,-6],[11,-15],[4,-20],[-3,-12],[-28,-26],[-13,-37],[-5,-14],[-9,-45],[-1,-4],[-2,-25],[10,-68],[34,-155],[-1,-78],[-11,-37],[-15,-17],[-37,-5],[-16,-14],[2,-104],[19,-93],[-16,-34],[-20,-9],[-24,18],[-14,27],[-6,23],[-17,2],[-26,-27],[-7,-24],[5,-31],[17,-34],[37,-17],[51,-7],[16,-8],[30,7],[9,-14],[0,-23],[7,-52],[15,-58],[-4,-19],[-2,-11],[-17,-21],[-15,6],[-14,28],[-23,1],[-30,-11],[-34,0],[-10,11],[-44,23],[-49,73],[-27,2],[-11,-15],[0,-18],[9,-58],[11,-22],[24,-38],[20,-48],[33,-156],[11,-36],[19,-33],[37,-29],[50,-21],[17,-25],[7,-43],[-9,-42],[-14,-20],[-36,-21],[-47,7],[-27,18],[-34,39],[-15,5],[-16,-11],[-15,-28],[-5,-26],[6,-39],[42,-85],[3,-5],[29,-30],[26,5],[46,51],[27,13],[16,-9],[10,-16],[5,-21],[1,-33]],[[53135,6095],[-14,-21],[-12,-33],[-9,-56],[-5,-62],[-2,-29],[-6,-36],[-3,-11],[-21,-86],[-32,-84],[-14,-30],[-29,-39],[-32,-22],[-13,-13],[-32,-40],[-21,-38],[-17,-16],[-35,-24],[-16,-22],[-8,-19],[-17,-51],[-8,-22],[-2,-13],[-4,-29],[-11,-19],[-26,-47],[-21,-55],[-21,-78],[-4,-20],[-3,-31],[0,-24],[5,-39],[1,-67],[5,-53],[14,-74],[35,-140],[4,-34],[2,-29],[-2,-32],[3,-33],[13,-45],[9,-45],[6,-9],[33,-36],[24,-44],[28,-42],[1,-2],[15,-36],[27,-86],[16,-33],[6,-7],[27,-16],[20,-24],[10,-26],[19,-70],[3,-16],[-1,-40],[5,-21],[-4,-69],[-5,-29],[-4,-19],[-4,-12],[-5,-14],[-5,-5],[-7,6],[-6,-5],[0,-13],[-4,-17],[-7,-10],[-17,-51],[-11,-10],[-13,0],[-3,3],[-9,12],[-24,0],[-32,-9],[-61,-14],[-16,8],[-8,0],[-57,-27],[-16,-7],[-9,-2],[-39,-8],[-12,-14],[-44,-13],[-61,-13],[-48,-17],[-12,-4],[-42,-4],[-58,0],[-88,-31],[-53,-42],[-49,-46],[-7,-13],[-10,-20],[-3,-3],[-9,-8],[-31,-39],[-9,-16],[-5,-13],[-24,-58],[-21,-50],[-33,-43],[-1,0],[-7,-10],[-3,-4],[-13,-10],[-19,8],[-7,12],[-14,40],[-33,49],[-30,35],[-2,3],[-23,19],[-15,8],[-15,-6],[-5,-6],[-13,-12],[-24,-19],[-24,-9],[-21,-13],[-35,-35],[-20,-23],[-33,-59],[-14,-31],[-21,-69],[-7,-87],[-5,-33],[-3,-20],[-3,-24],[-1,-26],[-1,-45],[0,-3],[-1,-8],[-5,-58],[-8,-44],[-12,-33],[-12,-54],[-22,-73],[-15,-73],[-11,-33],[-10,-36],[-10,-55],[-5,-51],[21,-78],[9,-50],[-8,-33],[5,-14],[24,-49],[28,-37],[16,-32],[8,-25],[17,-82],[6,-17],[21,-52],[16,-23],[27,-25],[27,-48],[9,-26],[20,-106],[8,-54],[6,-12],[14,-104],[-1,-13],[7,-28],[6,-12],[6,-6],[12,-40],[-1,-10],[0,-8],[-33,-172],[-4,-10],[-26,-116],[0,-5],[3,-5],[-6,-68],[-32,-122],[-16,-60],[-57,-40],[-22,-9],[-24,6],[-47,-19],[-33,0],[-24,2],[-33,12],[-36,20],[-59,45],[-16,9],[-4,-15],[-24,35],[-7,59],[-4,12],[-15,27],[-12,20],[-14,26],[-16,15],[-22,36],[-2,3],[-15,18],[-19,24],[-33,34],[-15,15],[-5,3],[-11,8],[-24,2],[-23,12],[-104,88],[-30,26],[-8,7],[-21,13],[-28,11],[-37,-9],[-22,-6],[-1,0],[-10,4],[-11,8],[-17,12],[-19,19],[-1,0],[-7,10],[-8,11],[-9,13],[-26,26],[-41,58],[-35,45],[-11,28],[-14,25],[-11,19],[-9,12],[-26,34],[-27,28],[-51,26],[-2,2],[-29,19],[-16,10],[-16,15],[-33,28],[-65,54],[-110,71],[-47,36],[-13,4],[-36,21],[-4,-18],[-2,0],[-56,-2],[-56,15],[-17,10],[-8,10],[-28,-7],[-30,-16],[-29,-16],[-25,-28],[9,5],[-27,-38],[-53,-36],[-25,-53],[-12,-8],[-9,-15],[-47,-88],[-16,-26],[-44,-74],[-30,-61],[-4,-9],[-3,-7],[-19,-60],[-9,-44],[-3,-31],[-2,-11],[-6,-28],[-40,-160],[-15,-24],[-16,-17],[-2,-6],[-3,-10],[-10,-18],[-33,-41],[-3,-8],[-8,-38],[-10,-23],[-18,-23],[-10,-6],[-5,5],[-10,-11],[-1,-1],[-41,-99],[-4,-9],[-12,-44],[-13,-45],[-12,-66],[-7,-49],[-4,-66],[6,-76],[0,-5],[5,-29],[1,-10],[18,-69],[8,-25],[2,-4],[8,-17],[6,-13],[19,-24],[41,-62],[32,-48],[20,-21],[-27,-20],[-11,-2],[-20,-11],[-39,-36],[-27,-18],[-24,4],[-28,20],[-21,47],[-10,71],[0,76],[-5,36],[-7,49],[-7,32],[-14,29],[-39,46],[-29,35],[-29,45],[-14,41],[-24,109],[-31,104],[-1,-4],[-15,-54],[-15,6],[-53,3],[-10,4],[-1,7],[-34,4],[-46,17],[-2,-9],[-8,-77],[5,-30],[6,-25],[9,-21],[11,-19],[34,-33],[45,-31],[38,-55],[20,-39],[8,-57],[-19,-113],[-9,-28],[-11,-21],[-16,-21],[-14,-14],[-45,26],[-68,123],[-15,28],[-19,24],[-28,28],[-49,41],[-54,34],[-53,69],[-11,25],[-8,25],[-2,13],[-3,51],[1,19],[1,2],[20,91],[8,53],[3,20],[0,40],[-10,64],[-18,63],[-13,31],[-8,11],[-10,16],[-47,60],[-14,23],[-9,19],[-2,6],[-35,90],[-32,102],[-10,67],[0,1],[-52,174],[-1,3],[-3,10],[-3,9],[-4,20],[-15,64],[-3,28],[-16,109],[0,27],[5,22],[3,12],[23,101],[1,12],[0,5],[-1,33],[-1,9],[-1,2],[-6,14],[-7,7],[-26,14],[-28,-2],[-32,-12],[-4,-1],[-21,52],[-20,39],[-15,35],[-23,64],[-11,34],[-4,27],[0,28],[1,14],[1,6],[6,24],[2,12],[2,17],[2,33],[6,45],[1,7],[5,15],[2,10],[6,10],[30,43],[13,24],[13,49],[6,12],[1,1],[0,1],[10,11],[6,6],[32,19],[66,8],[24,9],[38,29],[10,19],[11,36],[1,6],[4,25],[20,179],[3,52],[-1,33],[-3,37],[-7,47],[-5,29],[-27,143],[-19,76],[-12,36],[-7,17],[-18,42],[-12,21],[-55,99],[-14,36],[-22,67],[-33,100],[-19,81],[-8,58],[-9,37],[-15,47],[-16,41],[-14,42],[-2,13],[-13,121],[-3,52],[1,40],[0,44],[1,50],[2,16],[3,12],[11,13],[8,2],[15,-5],[51,-30],[27,6],[16,15],[12,22],[5,32],[0,20],[-2,19],[-6,25],[-24,61],[-54,102],[-1,4],[-14,26],[-13,49],[-17,35],[-7,35],[2,19],[4,13],[0,39],[-3,39],[2,87],[7,64],[7,33],[0,33],[-8,32],[-8,21],[-17,28],[-13,14],[-19,14],[-24,6],[-93,45],[-22,14],[-33,31],[-2,6],[-11,25],[-13,45],[-18,69],[-14,20],[-5,6],[-21,24],[-12,3],[-3,3],[-8,14],[-2,14],[1,29],[-1,7],[-3,4],[-23,-4],[-13,-8],[-18,-17],[-40,2],[-13,-4],[-30,16],[-16,18],[-7,15],[-2,11],[-6,43],[5,35],[7,32],[7,39],[3,14],[3,40],[0,38],[-3,15],[-9,19],[-19,67],[-16,23],[-10,15],[-18,20],[-12,13],[-33,36],[-21,18],[-2,3],[-46,63],[-40,69],[-11,26],[-12,36],[-12,26],[-33,0],[-14,-4],[-11,9],[-15,22],[-11,9],[-30,2],[-18,13],[-8,9],[-14,-25],[-24,40],[-8,18],[-14,67],[1,21],[8,21],[-2,40],[-4,14],[-15,11],[-32,35],[-75,104],[-3,4],[-18,21],[-4,2],[-4,1],[-20,-12],[-40,-52],[-13,-25],[-18,-43],[-14,-33],[-16,-27],[-53,-60],[-15,-13],[-38,-1],[-33,8],[-47,29],[-2,3],[-4,5],[-37,43],[-7,12],[-3,14],[-36,133],[-24,91],[-7,17],[-2,12],[-2,56],[22,35],[20,21],[9,43],[40,1],[32,44],[18,9],[23,50],[2,12],[-1,30],[0,1],[-29,-6],[-7,3],[-3,11],[-3,29],[-14,36],[0,2],[-43,-26],[-79,-28],[-19,-4],[-6,-1],[-36,8],[-10,10],[-27,42],[-29,68],[-51,117],[-29,23],[-15,13],[-11,12],[-7,14],[-6,17],[-2,19],[-6,26],[-6,18],[-6,8],[-1,1],[-19,10],[-24,1],[-29,-12],[-24,3],[-18,15],[-2,3],[-54,61],[-11,20],[-12,19],[-29,66],[-1,25],[2,49],[-1,32],[-6,35],[-9,20],[-46,50],[-46,42],[-10,1],[-6,-4],[-29,-35],[-109,129],[-7,9],[-38,46],[-81,136],[-24,92],[-7,18],[-1,2],[-10,31],[-64,190],[-27,51],[-25,45],[-33,35],[-33,25],[-21,7],[-18,16],[-31,44],[-9,18],[-65,177],[-5,19],[-1,4],[-1,5],[-11,52],[-15,88],[-9,89],[-1,13],[-3,42],[-1,15],[-4,28],[-5,44],[-3,48],[-5,38],[-1,12],[-1,9],[0,94],[7,74],[-2,139],[0,2],[5,76],[9,50],[39,150],[5,27],[17,101],[6,17],[6,15],[9,24],[1,3],[8,15],[35,70],[6,10],[20,26],[0,1],[32,65],[52,108],[6,13],[21,87],[4,13],[8,24],[4,57],[5,48],[6,66],[5,46],[5,24],[6,29],[3,50],[1,3],[11,70],[5,40],[3,35],[17,105],[0,3],[12,58],[8,27],[25,81],[4,15],[29,79],[7,20],[45,122],[1,5],[4,5],[3,5],[18,18],[22,38],[15,22],[3,4],[7,10],[3,5],[19,38],[14,34],[17,66],[5,21],[2,7],[7,48],[12,83],[3,35],[0,53],[1,13],[0,1],[-3,25],[-9,99],[0,8],[-5,36],[0,1],[-9,53],[-3,18],[-2,4],[-27,91],[-1,1],[-2,4],[-6,11],[-15,28],[0,1],[-23,69],[-9,67],[0,47],[2,25],[1,6],[4,30],[15,45],[46,81],[26,29],[1,0],[23,57],[3,34],[1,10],[1,4],[12,43],[15,44],[1,2],[65,78],[79,112],[18,58],[9,69],[16,139],[3,29],[-1,46],[-13,43],[-25,27],[-36,38],[-29,31],[-6,6],[-31,32],[-49,69],[-68,66],[-11,9],[-16,3],[-8,7],[-39,70],[-14,26],[-32,52],[-24,26],[-38,30],[-28,34],[-13,9],[-9,2],[-20,-3],[-23,16],[-20,7],[-5,2],[-21,2],[-37,-3],[-13,-2],[-24,1],[-11,5],[-27,28],[-20,13],[-2,2],[-31,27],[-43,55],[-50,46],[-11,10],[-61,54],[-8,7],[-34,28],[-35,19],[-22,5],[-38,4],[-30,13],[-21,14],[-36,3],[-38,-26],[-18,-19],[-15,-22],[-34,-108],[-3,-18],[0,-13],[2,-43],[-14,-65],[-43,-117],[-25,-57],[-31,-30],[-47,-88],[-43,-90],[-6,-8],[-33,-24],[-29,-12],[-7,-3],[-33,-4],[-23,5],[-9,11],[-30,35],[-99,102],[-11,22],[-25,92],[-13,33],[-27,29],[-17,30],[-13,31],[-14,35],[-7,23],[-7,46],[0,1],[-12,105],[-9,31],[-8,42],[-5,32],[-2,27],[0,138],[-6,58],[-13,52],[-5,9],[-4,13],[-9,27],[-4,15],[-4,32],[0,5],[-8,33],[-27,94],[-24,99],[-13,34],[-6,54],[0,12],[3,11],[35,64],[3,33],[0,4],[2,10],[59,125],[3,13],[3,79],[-12,98],[-2,14],[-3,17],[-5,16],[-24,74],[-19,43],[-8,25],[-7,33],[-9,58],[-5,32],[-2,135],[-2,26],[-13,67],[-5,46],[-5,45],[0,41],[3,29],[0,28],[-2,27],[-4,18],[-12,59],[3,45],[-2,20],[-6,48],[-12,91],[-10,35],[-13,24],[-17,22],[-32,16],[-9,10],[-53,110],[-21,80],[-6,17],[-27,33],[-23,43],[-3,31],[-1,1],[-5,18],[-20,27],[-58,56],[-14,24],[-63,127],[-24,36],[-39,46],[-31,32],[-74,79],[-10,10],[-21,38],[-8,22],[-1,17],[-6,14],[-11,11],[-16,6],[-6,2],[-13,8],[-8,5],[-12,11],[-14,19],[-17,34],[-6,40],[-3,16],[-2,10],[-6,14],[-5,10],[-25,26],[-5,2],[-26,10],[-33,22],[-17,17],[-17,31],[-18,16],[-35,19],[-33,35],[-28,39],[-38,45],[-3,4],[-10,16],[-8,12],[-19,28],[-9,14],[-30,64],[-10,21],[-9,19],[-21,51],[-10,39],[-2,55],[-4,101],[-37,62],[-10,26],[-4,11],[-22,71],[-22,92],[-17,51],[-7,20],[-47,19],[-5,1],[-36,7],[-72,27],[-3,3],[-14,16],[-17,36],[-16,42],[-16,48],[-5,35],[-6,94],[-9,76],[-1,10],[-11,37],[-13,34],[-13,19],[-102,76],[-22,18],[-20,25],[-40,70],[-7,23],[-8,32],[-10,27],[-25,41],[-14,21],[-20,60],[-31,67],[-24,33],[-35,35],[-29,37],[-9,33],[-5,7],[-37,59],[-42,55],[-3,4],[-46,68],[-12,22],[-12,23],[-5,9],[-45,95],[0,1],[-8,26],[0,95],[9,67],[4,16],[3,21],[-2,47],[0,59],[3,51],[6,26],[5,17],[0,19],[-6,40],[-15,58],[-3,9],[-21,55],[-9,18],[-26,33],[-40,42],[-28,41],[-27,27],[-50,59],[-11,21],[-11,38],[-2,15],[-2,7],[0,2],[-10,56],[-20,109],[-5,58],[3,38],[12,81],[48,108],[27,54],[3,13],[3,42],[-1,43],[-3,11],[-6,29],[-7,21],[-6,15],[-10,23],[-22,35],[-5,8],[-15,37],[-19,63],[-8,44],[-16,46],[-14,59],[-3,6],[-13,15],[-6,17],[-4,25],[-2,25],[-7,36],[-26,104],[-23,79],[-11,30],[-2,9],[0,1],[-17,68],[-6,23],[18,160],[-5,26],[-14,77],[-7,47],[-1,9],[-10,97],[-9,61],[-9,70],[-4,40],[-4,41],[-2,24],[-4,42],[0,5],[-3,100],[-2,46],[1,16],[11,54],[0,11],[-12,97],[-4,62],[0,20],[7,59],[5,19],[13,33],[3,20],[-1,13],[-6,37],[-2,35],[1,47],[9,67],[0,57],[-6,20],[-1,15],[2,20],[9,35],[7,17],[10,13],[2,10],[4,14],[19,69],[2,21],[-2,19],[-8,39],[-1,41],[1,23],[5,26],[2,14],[3,20],[5,24],[7,32],[48,184],[7,39],[9,83],[1,9],[15,61],[18,48],[15,38],[14,42],[5,21],[5,10],[18,26],[21,18],[12,11],[10,13],[15,30],[8,18]],[[94956,21110],[37,43],[17,23],[1,0],[26,36],[2,4],[60,90],[58,93],[29,33],[13,14],[1,1],[36,22],[24,6],[16,1],[6,0],[23,1],[54,-10],[70,2],[14,6],[37,17],[45,19],[28,15],[17,13],[12,10],[16,15],[32,42],[25,31],[14,15],[0,1],[16,31],[0,2],[19,24],[2,1],[19,9],[28,3],[85,10],[11,6],[6,3],[8,15],[6,10],[8,13],[6,23],[6,25],[9,30],[6,56],[4,33],[-8,39],[-7,36],[0,1],[-9,42],[-1,15],[-2,24],[-1,11],[2,101],[5,43],[0,1],[1,10],[12,33],[0,1],[11,18],[5,7],[5,6],[16,20],[0,1],[21,19],[18,17],[17,16],[28,16],[26,5],[34,22],[23,32],[0,2],[3,5],[8,15],[4,7],[14,43],[1,4],[5,40],[15,51],[1,4],[21,40],[0,1],[13,14],[0,1],[1,1],[28,24],[13,6],[31,16],[5,2],[19,14],[5,4],[12,24],[62,96],[4,6],[7,13],[13,22],[18,30],[12,18],[23,35],[15,16],[50,55],[48,52],[15,10],[10,7],[14,3],[25,-8],[14,-1],[20,13],[13,9],[4,2],[32,21],[27,21],[18,13],[17,7],[10,3],[15,10],[3,5],[4,7],[1,1],[5,30],[3,9],[3,10],[6,15],[11,14],[11,9],[13,11],[2,2],[18,22],[10,23],[3,30],[3,31],[9,39],[6,25],[0,2],[8,27],[12,21],[10,6],[11,1],[2,-1],[9,-5],[8,-7],[17,-13],[16,-12],[30,-14],[9,-4],[12,-1],[10,4],[1,1],[20,31],[21,32],[22,26],[13,11],[19,8],[29,-5],[10,6],[3,2],[29,49],[25,35],[7,27],[0,3],[2,26],[0,35],[-2,17],[-39,106],[-11,24],[-23,26],[-25,18],[-1,1],[-8,13],[-4,12],[-4,20],[-9,58],[-5,17],[-22,66],[-3,18],[-10,39],[-22,34],[-10,14],[-2,3],[-5,7],[-40,50],[-78,69],[-2,1],[-14,23],[-1,0],[-7,7],[-33,29],[-20,33],[-1,1],[-14,62],[0,2],[-21,82],[-11,59],[-1,2],[-13,53],[-14,46],[-11,35],[-41,80],[-20,32],[-2,4],[-15,20],[-16,17],[-16,2],[-7,1],[-16,10],[-30,43],[-32,53],[0,1],[-4,6],[-16,22],[-22,37],[-9,22],[-2,6],[-3,7],[-4,37],[-1,18],[-2,43],[0,4],[-9,68],[0,1],[-14,67],[-3,18],[-2,5],[-32,143],[-9,20],[-5,10],[-28,21],[-9,8],[-11,11],[-8,11],[-1,1],[-11,22],[-25,13],[-8,-3],[-17,-19],[-10,0],[-59,-32],[-12,3],[-20,17],[-4,11],[-19,23],[-6,8],[-4,8],[-6,11],[-32,18],[-10,13],[-6,25],[-3,12],[-5,81],[-12,106],[-13,61],[0,25],[6,28],[6,25],[-2,21],[-1,43],[12,24],[4,37],[1,61],[-2,75],[-5,32],[-1,55],[-2,49],[-1,19],[3,51],[-4,80],[-3,23],[-5,21],[-32,46],[-18,39],[-11,24],[-29,61],[-15,26],[-12,8],[-23,14],[-21,20],[-65,19],[-17,-3],[-18,-16],[-10,-18],[-27,-43],[-14,-9],[-19,0],[-22,7],[-26,18],[-12,16],[-19,37],[-6,15],[-3,27],[1,17],[10,29],[3,9],[2,27],[0,10],[-7,85],[-12,31],[-3,14],[-5,23],[-10,24],[-1,19],[3,9],[10,8],[14,3],[10,2],[4,11],[3,25],[-1,11],[-5,61],[-1,14],[-12,32],[-4,24],[-7,11],[-10,18],[0,18],[13,45],[19,53],[10,14],[17,17],[1,2],[14,41],[2,8],[3,24],[-3,16],[-10,12],[-13,5],[-17,-4],[-2,0],[-1,-1],[-21,15],[-13,32],[-4,19],[-3,12],[-3,15],[0,1],[3,23],[2,7],[12,76],[2,10],[12,57],[5,13],[1,1],[21,34],[2,36],[0,11],[11,28],[1,12],[-2,17],[-10,27],[-32,64],[-3,13],[-2,22],[1,12],[3,7],[13,26],[4,4],[25,23],[5,7],[8,12],[5,18],[2,35],[5,32],[2,7],[2,8],[3,10],[3,6],[3,7],[7,5],[19,0],[48,-28],[26,-7],[8,-2],[15,1],[3,2],[1,1],[6,14],[5,16],[13,46],[10,21],[20,20],[3,1],[16,3],[9,10],[26,67],[1,10],[1,15],[-2,19],[1,16],[7,21],[7,15],[19,28],[17,47],[4,19],[1,0],[0,26],[-6,18],[-9,16],[-22,38],[-7,17],[-2,13],[0,16],[1,12],[5,19],[16,16],[48,5],[10,-7],[9,-12],[16,2],[8,14],[1,13],[-3,21],[1,12],[17,39],[19,25],[5,3],[0,1],[2,11],[0,19],[-2,17],[-7,26],[-17,31],[-11,35],[0,1],[-11,26],[-28,50],[-1,4],[-4,12],[-2,11],[3,35],[-3,53],[-3,22],[-8,31],[-27,39],[-14,21],[-13,19],[-7,20],[-5,14],[-5,13],[-16,47],[-2,26],[-19,66],[-20,38],[-3,26],[-1,19],[-5,28],[0,12],[3,17],[0,1],[-2,18],[-8,11],[-21,-9],[-8,2],[-8,14],[-6,22],[0,23],[9,26],[3,18],[2,18],[-1,31],[1,3],[3,14],[11,22],[13,17],[42,47],[5,15],[28,20],[27,25],[24,39],[4,8],[10,7],[20,2],[75,78],[35,35],[19,35],[19,19],[11,6],[3,19],[-4,20],[3,15],[31,80],[2,21],[11,54],[8,9],[15,-1],[22,50],[16,20],[18,14],[23,7],[38,47],[9,19],[5,44],[-1,7],[-1,8],[-7,6],[-8,-4],[-11,-12],[-20,-33],[-12,-10],[-11,-2],[-9,2],[-3,5],[0,24],[32,124],[8,17],[23,22],[12,4],[10,-1],[6,4],[55,73],[1,4],[0,2],[-1,15],[9,21],[46,34],[27,37],[59,136],[11,44],[2,19],[5,18],[34,58],[24,55],[1,1],[12,52],[0,23],[14,63],[9,30],[14,49],[23,67],[2,13],[1,8],[0,3],[-5,14],[-20,35],[-2,8],[4,33],[14,43],[1,31],[15,57],[4,9],[5,3],[19,5],[6,17],[4,13],[3,24],[-5,27],[0,12],[18,61],[8,43],[1,6],[14,30],[13,47],[27,52],[21,18],[12,16],[17,38],[48,59],[1,7],[-1,19],[-10,33],[-1,2],[2,15],[10,16],[10,6],[25,7],[22,1],[11,6],[3,5],[13,22],[11,23],[10,69],[15,36],[9,9],[58,3],[18,-4],[31,11],[41,41],[14,10],[13,4],[18,23]],[[97343,33077],[4,-4],[28,-31],[38,-40],[81,-88],[26,-28],[114,-118],[111,-122],[15,-16],[27,-30],[15,-17],[1,-1],[64,-70],[1,-1],[37,-41],[86,-94],[75,-80],[29,-30],[10,-12],[25,-27],[59,-68],[40,-47],[10,-11],[138,-162],[14,-16],[39,-42],[5,-5],[56,-60],[23,-26],[29,-31],[10,-10],[28,-30],[2,-3],[63,-76],[71,-72],[2,-3],[114,-117],[8,-9],[29,-29],[0,-1],[77,-73],[16,-15],[37,-36],[43,-41],[65,-67],[15,-15],[27,-29],[1,0],[10,-11],[14,-15],[43,-44],[29,-29],[0,-1],[56,-57],[23,-25],[1,0],[14,-14],[0,-1],[4,-4],[31,-32],[1,0],[32,-34],[13,-14],[36,-37],[21,-21],[32,-34],[13,-13],[26,-27],[12,-13],[4,-4],[37,-39],[2,-2],[63,-66],[54,-57],[34,-35],[2,-2],[26,-27],[19,-20],[4,-4],[22,-23],[20,-21],[58,-60],[5,-6],[28,-29],[16,-22],[6,-6],[8,-3],[29,0],[-8,-120],[-8,-53],[-20,-130],[-8,-51],[-10,-77],[-7,-47],[-11,-82],[-7,-42],[0,-14],[-2,-1],[-3,-20],[-1,-11],[-24,-140],[-7,-45],[-15,-58],[-15,-57],[0,-1],[-26,-93],[-8,-32],[-13,-53],[0,-1],[-6,-26],[-5,-28],[-7,-37],[-3,-17],[-5,-23],[-5,-27],[-3,-16],[-2,-15],[-2,-5],[-5,-14],[-2,-6],[-1,-2],[-6,-20],[-1,-1],[-10,-34],[-13,-41],[-7,-22],[-5,-18],[-6,-19],[-6,-20],[-7,-20],[-1,-4],[-5,-16],[-12,-40],[-4,-14],[-2,-4],[-4,-14],[-6,-19],[-3,-10],[-5,-17],[-2,-4],[-8,-28],[-4,-13],[-10,-32],[-13,-42],[-3,-9],[-2,-8],[-13,-46],[-6,-57],[-5,-40],[-3,-26],[-3,-34],[-3,-27],[-2,-19],[-1,-10],[-1,-11],[-1,-2],[-1,-15],[0,-2],[-1,-12],[-2,-25],[-3,-35],[-2,-21],[-2,-28],[-30,6],[-1,-32],[-22,-4],[-35,-75],[-8,-35],[-35,-173],[-5,-15],[-5,-13],[-10,-34],[-4,-3],[-53,-51],[-20,-37],[-55,-7],[-36,-18],[-16,-9],[-7,-3],[-1,0],[-12,-1],[-14,-2],[-19,-1],[-11,-1],[-45,9],[-7,6],[-4,3],[-64,11],[-16,-9],[-7,-11],[-4,-7],[-37,-85],[-6,-13],[-8,-83],[-4,-110],[16,-32],[-2,-34],[-10,-24],[-2,-3],[-6,-8],[-7,-55],[-8,-59],[-10,-100],[-19,-47],[-14,12],[-24,14],[-10,-14],[-13,-21],[-35,-26],[-10,-12],[-8,-32],[3,-25],[3,-24],[0,-51],[12,-95],[-3,-19],[-13,-21],[-6,-17],[-11,-36],[-4,-21],[-6,-37],[0,-1],[-15,-35],[-8,-31],[-12,-50],[6,-15],[2,-8],[9,-38],[2,-10],[5,-50],[1,-6],[11,-55],[13,-8],[4,-3],[22,-14],[11,-16],[6,-10],[4,0],[23,-2],[1,0],[21,-40],[17,4],[1,1],[8,-8],[11,-9],[31,-28],[2,-12],[8,-39],[3,-11],[2,0],[9,1],[21,9],[8,3],[8,15],[12,34],[0,1],[4,22],[3,20],[16,38],[10,1],[3,-6],[6,-10],[1,-3],[13,-27],[19,-27],[6,2],[23,-11],[4,11],[11,-6],[2,4],[9,11],[14,18],[13,27],[8,9],[14,-2],[10,-12],[14,-21],[15,-21],[44,-44],[1,-2],[17,-10],[1,0],[36,-22],[7,-5],[6,-4],[19,-17],[4,-3],[17,-16],[26,-38],[3,-6],[2,-2],[15,-22],[6,-9],[5,-7],[36,-29],[1,0],[37,-17],[100,-43],[17,3],[2,0],[17,61],[13,180],[-19,41],[-8,-4],[-13,6],[5,24],[-9,38],[-4,61],[-18,34],[-26,17],[-4,31],[8,21],[11,2],[13,-1],[6,8],[2,3],[12,27],[10,-49],[3,-6],[10,-22],[4,-5],[14,-21],[20,-109],[2,-8],[10,-45],[6,-42],[0,-150],[6,-47],[12,-88],[3,-49],[11,-214],[0,-134],[-3,-64],[-5,-107],[-3,-74],[-4,-66],[-2,-48],[-2,-41],[-1,-20],[-3,-39],[0,-1],[-6,-62],[-5,-51],[-3,-25],[-15,-123],[-20,-171],[-1,-3],[-4,-34],[-3,-20],[-6,-45],[-4,-26],[-3,-22],[-1,-10],[-9,-63],[-1,-5],[-10,-75],[-3,-21],[-8,-60],[-6,-43],[-3,-24],[-5,-35],[-7,-51],[-16,-116],[-15,-109],[-16,-118],[-4,-42],[-9,-108],[9,-9],[-1,-8],[-1,-3],[-7,-7],[-7,-51],[0,-1],[-8,-56],[-4,-30],[-5,-44],[-14,-137],[-15,-145],[-4,-39],[-5,-53],[-12,-109],[-5,-49],[-3,-36],[-7,-59],[0,-8],[-3,-30],[-7,-64],[-1,-9],[-4,-73],[-3,-77],[0,-1],[-2,-31],[0,-1],[-2,-52],[-2,-39],[-1,-2],[0,-6],[-2,-18],[-3,-21],[-3,-27],[-10,-91],[0,-2],[-7,-64],[0,-2],[-1,-12],[-3,-48],[-47,-795],[-11,-152],[-7,-91],[0,-1],[8,-76],[-5,-8],[-4,-6],[-8,-13],[-2,-7],[-9,-31],[-21,-41],[-15,-33],[-2,-8],[-46,-187],[-6,-22],[-35,-143],[-5,-21],[-12,-34],[-29,-87],[-4,-14],[-6,-17],[-45,-134],[-10,-29],[-24,-71],[-9,-28],[0,-1],[-3,-10],[-2,-4],[-20,-60],[-49,-159],[-24,-77],[-9,-29],[-1,-5],[-1,-3],[-45,-146],[-31,-101],[-4,-12],[-10,-19],[-18,-33],[-3,-7],[-97,-231],[-29,-63],[-11,-23],[-13,-26],[-25,-12],[-9,32],[-4,7],[-15,22],[-3,0],[-39,-4],[0,-10],[1,-50],[16,-49],[21,-74],[1,-28],[-4,-47],[-13,-46],[-7,-23],[-29,-77],[6,-34],[3,-12],[-5,-41],[-1,-8],[-5,-16],[0,-1],[-22,-50],[-6,-14],[-6,-12],[-8,-17],[-7,-16],[-6,-16],[-8,-20],[-22,-48],[-27,-58],[-15,-33],[-1,-1],[-20,-34],[-30,-50],[-17,-27],[-4,-7],[-21,-38],[-27,-50],[-8,-14],[-3,-17],[-2,-13],[-4,-28],[-15,-32],[-4,-5],[-32,-36],[-28,-12],[-23,-9],[-5,-5],[-23,-19],[-18,-15],[-1,0],[-12,-10],[-8,-7],[-17,-17],[-14,-16],[-4,-4],[-18,-20],[-6,-6],[-17,-18],[-28,-30],[-5,-6],[-32,-42],[0,-1],[-18,-24],[-1,0],[-8,-11],[-9,-12],[-8,-12],[-1,-1],[-19,-26],[-18,-29],[-28,-46],[-3,6],[-10,0],[-8,-5],[-11,-6],[-14,-8],[-13,-7],[5,-50],[0,-3],[-4,-50],[-12,-28],[-15,-37],[-7,-6],[-1,-1],[-24,-20],[-1,-1],[-22,-18],[-9,-8],[-1,-1],[-19,-30],[-4,-7],[-14,-21],[-11,-18],[-9,-15],[-22,-42],[-4,-9],[-28,-53],[-14,-37],[-42,-104],[0,-1],[-18,-44],[-11,-28],[-21,-49],[-6,-13],[0,-1],[-1,-6],[-12,-65],[-30,-46],[-31,-82],[-6,-14],[-39,-120],[-22,-69],[-16,-51],[-31,-119],[-14,-50],[-4,-15],[-16,-28],[-2,-12],[-1,-9],[4,-17],[21,-34],[9,-15],[2,-2],[-5,-38],[-26,-53],[-1,-1],[-29,-58],[-48,-98],[-41,-123],[-7,-22],[-90,-245],[-31,-42],[-13,-38],[18,-34],[4,-28],[-2,-24],[-1,-7],[-1,-4],[-11,-33],[-9,-24],[-3,-4],[-10,-15],[-12,-17],[-1,-1],[-23,-34],[-18,-21],[0,-1],[-26,-31],[-6,-8],[-12,-18],[-68,-110],[-13,-22],[-22,-51],[-21,-47],[-3,-8],[-2,8],[-11,10],[-7,6],[-2,-1],[-16,-3],[-26,-5],[-22,-22],[-55,-56],[-11,-5],[-33,-16],[-18,-2],[-26,-3],[-4,7],[-6,9],[-2,5],[-5,0],[-28,5],[-33,-10],[-9,2],[-4,0],[-8,2],[-13,17],[-15,52],[0,2],[5,27],[24,135],[-2,35],[-1,11],[0,5],[12,99],[1,10],[2,18],[9,78],[5,38],[19,108],[12,48],[16,62],[9,34],[0,3],[3,9],[4,14],[2,6],[1,4],[24,83],[5,17],[25,83],[51,177],[20,85],[17,109],[3,93],[1,12],[7,5],[-1,94],[12,25],[-2,48],[-2,66],[-18,42],[-5,12],[-19,56],[-15,17],[-35,15],[-10,-7],[-30,39],[-73,42],[-17,21],[-30,14],[-44,1],[-31,-3],[-41,-4],[-2,-1],[-16,-2],[-12,12],[-63,9],[-9,7],[4,37],[14,23],[0,17],[-2,24],[-8,39],[17,42],[-7,26],[-21,25],[-3,-17],[-4,-21],[-19,9],[-19,-5],[-17,-44],[-13,0],[-37,-2],[-33,-6],[-30,-13],[-38,-2],[-14,12],[-6,12],[0,13],[-9,9],[-15,1],[-3,-8],[-9,-22],[-26,-17],[-6,-27],[-9,-31],[-6,-22],[-7,-7],[-8,-1],[-3,-16],[7,-20],[2,-40],[-20,-21],[-10,-41],[-3,19],[-4,16],[-12,-1],[-10,7],[-19,18],[-12,31],[-6,26],[-13,7],[-9,15],[-13,22],[1,34],[10,26],[3,23],[-12,34],[-4,30],[-8,89],[-25,60],[-17,27],[-15,0],[-14,-4],[-14,48],[-7,14],[-3,21],[-23,45],[-22,1],[-96,86],[-8,27],[3,22],[10,13],[7,13],[-1,3],[-4,7],[-13,4],[-16,53],[-15,26],[3,30],[-54,22],[-13,6],[-1,0],[-12,-10],[-5,4],[3,13],[-10,4],[-12,-1],[-9,-11],[-2,-25],[8,-16],[-4,-48],[-10,-4],[-30,39],[-24,45],[-35,59],[-5,21],[-9,40],[-22,105],[-3,53],[-2,2],[-15,18],[-2,2],[-4,22],[-27,25],[-27,9],[-22,-16],[0,-2],[-2,-22],[0,-4],[-1,-18],[-9,-14],[-13,13],[-13,70],[-27,27],[-21,1],[-24,28],[-9,26],[-6,16],[-2,57],[-5,19],[-9,43],[-10,13],[-7,-2],[-9,1],[-6,0],[-3,-6],[-3,0],[-6,5],[-1,17],[0,14],[-3,7],[-8,12],[-2,-2],[-3,-2],[-9,0],[-6,-4],[-19,9],[-13,29],[-35,81],[-29,106],[-19,48],[-28,123],[-25,-14],[-11,8],[-25,20],[-15,20],[-1,34],[-17,12],[-17,-5],[-23,31],[-9,47],[-93,11],[-21,75],[-5,69],[5,128],[50,12],[-1,17],[-7,34],[1,45],[11,48],[0,72],[-1,36],[-3,29],[-13,12],[-8,30],[6,19],[21,40],[23,52],[14,55],[12,41],[-1,69],[-13,27],[-14,19],[-7,-1],[-15,17],[-18,27],[-8,16],[-10,14],[-8,10],[-1,1],[-14,13],[-5,6],[-26,39],[-8,29],[-3,7],[-3,19],[2,22],[-5,39],[-4,53],[2,36],[-1,6],[10,39],[19,23],[5,8],[6,11],[10,24],[8,18],[9,1],[13,8],[21,44],[7,16],[0,5],[6,15],[9,23],[13,24],[12,36],[10,43],[8,83],[-1,6],[2,64],[6,19],[11,10],[2,2],[23,22],[17,73],[9,28],[11,8],[7,-2],[5,-8],[9,-5],[4,9],[3,25],[-2,15],[0,33],[6,31],[1,18],[2,16],[2,17],[7,27],[9,35],[10,54],[0,1],[4,21],[5,26],[-1,28],[14,39],[24,24],[10,41],[-5,5],[42,71],[108,91],[1,0],[-32,42]]]}\"}}, {\"mode\": \"vega-lite\"});\n",
       "</script>"
      ],
      "text/plain": [
       "alt.Chart(...)"
      ]
     },
     "execution_count": 14,
     "metadata": {},
     "output_type": "execute_result"
    }
   ],
   "source": [
    "topo.to_alt().properties(title='State Topology')"
   ]
  },
  {
   "cell_type": "markdown",
   "metadata": {},
   "source": [
    "***\n",
    "\n",
    "## Part 2: County Geoportals TopoJSON"
   ]
  },
  {
   "cell_type": "markdown",
   "metadata": {},
   "source": [
    "### Format county name in county geoportals spreadsheet `allCounties.csv`"
   ]
  },
  {
   "cell_type": "code",
   "execution_count": 15,
   "metadata": {},
   "outputs": [
    {
     "data": {
      "text/html": [
       "<div>\n",
       "<style scoped>\n",
       "    .dataframe tbody tr th:only-of-type {\n",
       "        vertical-align: middle;\n",
       "    }\n",
       "\n",
       "    .dataframe tbody tr th {\n",
       "        vertical-align: top;\n",
       "    }\n",
       "\n",
       "    .dataframe thead th {\n",
       "        text-align: right;\n",
       "    }\n",
       "</style>\n",
       "<table border=\"1\" class=\"dataframe\">\n",
       "  <thead>\n",
       "    <tr style=\"text-align: right;\">\n",
       "      <th></th>\n",
       "      <th>countyCode</th>\n",
       "      <th>County</th>\n",
       "      <th>State</th>\n",
       "      <th>Title</th>\n",
       "      <th>sourceURL</th>\n",
       "      <th>btaaURL</th>\n",
       "    </tr>\n",
       "  </thead>\n",
       "  <tbody>\n",
       "    <tr>\n",
       "      <th>0</th>\n",
       "      <td>02b-17001</td>\n",
       "      <td>Adams County</td>\n",
       "      <td>Illinois</td>\n",
       "      <td>Adams County, Illinois GIS</td>\n",
       "      <td>https://www.adamscountygis.com</td>\n",
       "      <td>https://geo.btaa.org/?q=02b-17001</td>\n",
       "    </tr>\n",
       "    <tr>\n",
       "      <th>1</th>\n",
       "      <td>06b-26005</td>\n",
       "      <td>Allegan County</td>\n",
       "      <td>Michigan</td>\n",
       "      <td>Allegan County GIS Data Library</td>\n",
       "      <td>https://www.allegancounty.org/online-services/...</td>\n",
       "      <td>https://geo.btaa.org/?q=06b-26005</td>\n",
       "    </tr>\n",
       "    <tr>\n",
       "      <th>2</th>\n",
       "      <td>08b-42003</td>\n",
       "      <td>Allegheny County</td>\n",
       "      <td>Pennsylvania</td>\n",
       "      <td>Allegheny County GIS Open Data</td>\n",
       "      <td>https://openac-alcogis.opendata.arcgis.com</td>\n",
       "      <td>https://geo.btaa.org/?q=08b-42003</td>\n",
       "    </tr>\n",
       "    <tr>\n",
       "      <th>3</th>\n",
       "      <td>11b-39003</td>\n",
       "      <td>Allen County</td>\n",
       "      <td>Ohio</td>\n",
       "      <td>Allen County GIS Data Download Page</td>\n",
       "      <td>http://gis.allencountyohio.com/GIS/downloads.html</td>\n",
       "      <td>https://geo.btaa.org/?q=11b-39003</td>\n",
       "    </tr>\n",
       "    <tr>\n",
       "      <th>4</th>\n",
       "      <td>04b-24003</td>\n",
       "      <td>Anne Arundel County</td>\n",
       "      <td>Maryland</td>\n",
       "      <td>Anne Arundel County GIS Data</td>\n",
       "      <td>https://maps.aacounty.org/</td>\n",
       "      <td>https://geo.btaa.org/?q=04b-24003</td>\n",
       "    </tr>\n",
       "  </tbody>\n",
       "</table>\n",
       "</div>"
      ],
      "text/plain": [
       "  countyCode               County         State  \\\n",
       "0  02b-17001         Adams County      Illinois   \n",
       "1  06b-26005       Allegan County      Michigan   \n",
       "2  08b-42003     Allegheny County  Pennsylvania   \n",
       "3  11b-39003         Allen County          Ohio   \n",
       "4  04b-24003  Anne Arundel County      Maryland   \n",
       "\n",
       "                                 Title  \\\n",
       "0           Adams County, Illinois GIS   \n",
       "1      Allegan County GIS Data Library   \n",
       "2       Allegheny County GIS Open Data   \n",
       "3  Allen County GIS Data Download Page   \n",
       "4         Anne Arundel County GIS Data   \n",
       "\n",
       "                                           sourceURL  \\\n",
       "0                     https://www.adamscountygis.com   \n",
       "1  https://www.allegancounty.org/online-services/...   \n",
       "2         https://openac-alcogis.opendata.arcgis.com   \n",
       "3  http://gis.allencountyohio.com/GIS/downloads.html   \n",
       "4                         https://maps.aacounty.org/   \n",
       "\n",
       "                             btaaURL  \n",
       "0  https://geo.btaa.org/?q=02b-17001  \n",
       "1  https://geo.btaa.org/?q=06b-26005  \n",
       "2  https://geo.btaa.org/?q=08b-42003  \n",
       "3  https://geo.btaa.org/?q=11b-39003  \n",
       "4  https://geo.btaa.org/?q=04b-24003  "
      ]
     },
     "execution_count": 15,
     "metadata": {},
     "output_type": "execute_result"
    }
   ],
   "source": [
    "df_csv = pd.read_csv(countygeoportals)\n",
    "\n",
    "## Replace 'Saint' and 'St' with 'St.'\n",
    "#commenting out jan-2023 as the lambda is not working\n",
    "# df_csv['County'] = df_csv['County'].apply(lambda x: re.sub(r'(Saint\\s|^St\\s|^St\\.\\s)', 'St. ', x))\n",
    "\n",
    "df_csv.head()"
   ]
  },
  {
   "cell_type": "markdown",
   "metadata": {},
   "source": [
    "### Extract total records number from BTAA Geoportal search page"
   ]
  },
  {
   "cell_type": "code",
   "execution_count": 16,
   "metadata": {},
   "outputs": [],
   "source": [
    "df_csv['totalRecords'] = totalRecords(df_csv)"
   ]
  },
  {
   "cell_type": "markdown",
   "metadata": {},
   "source": [
    "### Inspect the numinum number of total records\n",
    "If it equals to 0, meaning the landing page is 404 Not Found. Go back to check if the identifier is still active. "
   ]
  },
  {
   "cell_type": "code",
   "execution_count": 17,
   "metadata": {},
   "outputs": [
    {
     "data": {
      "text/html": [
       "<div>\n",
       "<style scoped>\n",
       "    .dataframe tbody tr th:only-of-type {\n",
       "        vertical-align: middle;\n",
       "    }\n",
       "\n",
       "    .dataframe tbody tr th {\n",
       "        vertical-align: top;\n",
       "    }\n",
       "\n",
       "    .dataframe thead th {\n",
       "        text-align: right;\n",
       "    }\n",
       "</style>\n",
       "<table border=\"1\" class=\"dataframe\">\n",
       "  <thead>\n",
       "    <tr style=\"text-align: right;\">\n",
       "      <th></th>\n",
       "      <th>countyCode</th>\n",
       "      <th>County</th>\n",
       "      <th>State</th>\n",
       "      <th>Title</th>\n",
       "      <th>sourceURL</th>\n",
       "      <th>btaaURL</th>\n",
       "      <th>totalRecords</th>\n",
       "    </tr>\n",
       "  </thead>\n",
       "  <tbody>\n",
       "    <tr>\n",
       "      <th>16</th>\n",
       "      <td>04b-24005</td>\n",
       "      <td>Baltimore County</td>\n",
       "      <td>Maryland</td>\n",
       "      <td>Baltimore County Open Data Portal</td>\n",
       "      <td>https://data-bc-gis.opendata.arcgis.com</td>\n",
       "      <td>https://geo.btaa.org/?q=04b-24005</td>\n",
       "      <td>0</td>\n",
       "    </tr>\n",
       "    <tr>\n",
       "      <th>98</th>\n",
       "      <td>04b-24025</td>\n",
       "      <td>Harford County</td>\n",
       "      <td>Maryland</td>\n",
       "      <td>Harford County Planning and Zoning Open GIS</td>\n",
       "      <td>https://planning-harfordgis.opendata.arcgis.com</td>\n",
       "      <td>https://geo.btaa.org/?q=04b-24025</td>\n",
       "      <td>0</td>\n",
       "    </tr>\n",
       "    <tr>\n",
       "      <th>121</th>\n",
       "      <td>04b-24031</td>\n",
       "      <td>Montgomery County</td>\n",
       "      <td>Maryland</td>\n",
       "      <td>Montgomery County GIS Open Data</td>\n",
       "      <td>https://data2018-mcgov-gis.opendata.arcgis.com</td>\n",
       "      <td>https://geo.btaa.org/?q=04b-24031</td>\n",
       "      <td>0</td>\n",
       "    </tr>\n",
       "    <tr>\n",
       "      <th>142</th>\n",
       "      <td>05b-27127</td>\n",
       "      <td>Renville County</td>\n",
       "      <td>Minnesota</td>\n",
       "      <td>Renville County Open GIS Data</td>\n",
       "      <td>https://hub-renvilleco.hub.arcgis.com/</td>\n",
       "      <td>https://geo.btaa.org/?q=05b-27127</td>\n",
       "      <td>0</td>\n",
       "    </tr>\n",
       "  </tbody>\n",
       "</table>\n",
       "</div>"
      ],
      "text/plain": [
       "    countyCode             County      State  \\\n",
       "16   04b-24005   Baltimore County   Maryland   \n",
       "98   04b-24025     Harford County   Maryland   \n",
       "121  04b-24031  Montgomery County   Maryland   \n",
       "142  05b-27127    Renville County  Minnesota   \n",
       "\n",
       "                                           Title  \\\n",
       "16             Baltimore County Open Data Portal   \n",
       "98   Harford County Planning and Zoning Open GIS   \n",
       "121              Montgomery County GIS Open Data   \n",
       "142                Renville County Open GIS Data   \n",
       "\n",
       "                                           sourceURL  \\\n",
       "16           https://data-bc-gis.opendata.arcgis.com   \n",
       "98   https://planning-harfordgis.opendata.arcgis.com   \n",
       "121   https://data2018-mcgov-gis.opendata.arcgis.com   \n",
       "142           https://hub-renvilleco.hub.arcgis.com/   \n",
       "\n",
       "                               btaaURL  totalRecords  \n",
       "16   https://geo.btaa.org/?q=04b-24005             0  \n",
       "98   https://geo.btaa.org/?q=04b-24025             0  \n",
       "121  https://geo.btaa.org/?q=04b-24031             0  \n",
       "142  https://geo.btaa.org/?q=05b-27127             0  "
      ]
     },
     "execution_count": 17,
     "metadata": {},
     "output_type": "execute_result"
    }
   ],
   "source": [
    "check_totalRecords(df_csv)"
   ]
  },
  {
   "cell_type": "markdown",
   "metadata": {},
   "source": [
    "### Group dataframe rows into list by geoportal sites"
   ]
  },
  {
   "cell_type": "code",
   "execution_count": 18,
   "metadata": {},
   "outputs": [
    {
     "name": "stderr",
     "output_type": "stream",
     "text": [
      "/var/folders/h1/wds8r6757dz_4h_l5tz85gyw0000gq/T/ipykernel_16021/1245351213.py:8: FutureWarning: Not prepending group keys to the result index of transform-like apply. In the future, the group keys will be included in the index, regardless of whether the applied function returns a like-indexed object.\n",
      "To preserve the previous behavior, use\n",
      "\n",
      "\t>>> .groupby(..., group_keys=False)\n",
      "\n",
      "To adopt the future behavior and silence this warning, use \n",
      "\n",
      "\t>>> .groupby(..., group_keys=True)\n",
      "  df_group = df_csv.groupby(['County', 'State']).apply(aggregate_to_array).drop_duplicates(subset=['County', 'State'])\n"
     ]
    },
    {
     "data": {
      "text/html": [
       "<div>\n",
       "<style scoped>\n",
       "    .dataframe tbody tr th:only-of-type {\n",
       "        vertical-align: middle;\n",
       "    }\n",
       "\n",
       "    .dataframe tbody tr th {\n",
       "        vertical-align: top;\n",
       "    }\n",
       "\n",
       "    .dataframe thead th {\n",
       "        text-align: right;\n",
       "    }\n",
       "</style>\n",
       "<table border=\"1\" class=\"dataframe\">\n",
       "  <thead>\n",
       "    <tr style=\"text-align: right;\">\n",
       "      <th></th>\n",
       "      <th>countyCode</th>\n",
       "      <th>County</th>\n",
       "      <th>State</th>\n",
       "      <th>Title</th>\n",
       "      <th>sourceURL</th>\n",
       "      <th>btaaURL</th>\n",
       "      <th>totalRecords</th>\n",
       "    </tr>\n",
       "  </thead>\n",
       "  <tbody>\n",
       "    <tr>\n",
       "      <th>0</th>\n",
       "      <td>02b-17001</td>\n",
       "      <td>Adams County</td>\n",
       "      <td>Illinois</td>\n",
       "      <td>[Adams County, Illinois GIS]</td>\n",
       "      <td>[https://www.adamscountygis.com]</td>\n",
       "      <td>https://geo.btaa.org/?q=02b-17001</td>\n",
       "      <td>1</td>\n",
       "    </tr>\n",
       "    <tr>\n",
       "      <th>1</th>\n",
       "      <td>06b-26005</td>\n",
       "      <td>Allegan County</td>\n",
       "      <td>Michigan</td>\n",
       "      <td>[Allegan County GIS Data Library]</td>\n",
       "      <td>[https://www.allegancounty.org/online-services...</td>\n",
       "      <td>https://geo.btaa.org/?q=06b-26005</td>\n",
       "      <td>12</td>\n",
       "    </tr>\n",
       "    <tr>\n",
       "      <th>2</th>\n",
       "      <td>08b-42003</td>\n",
       "      <td>Allegheny County</td>\n",
       "      <td>Pennsylvania</td>\n",
       "      <td>[Allegheny County GIS Open Data]</td>\n",
       "      <td>[https://openac-alcogis.opendata.arcgis.com]</td>\n",
       "      <td>https://geo.btaa.org/?q=08b-42003</td>\n",
       "      <td>51</td>\n",
       "    </tr>\n",
       "    <tr>\n",
       "      <th>3</th>\n",
       "      <td>11b-39003</td>\n",
       "      <td>Allen County</td>\n",
       "      <td>Ohio</td>\n",
       "      <td>[Allen County GIS Data Download Page]</td>\n",
       "      <td>[http://gis.allencountyohio.com/GIS/downloads....</td>\n",
       "      <td>https://geo.btaa.org/?q=11b-39003</td>\n",
       "      <td>12</td>\n",
       "    </tr>\n",
       "    <tr>\n",
       "      <th>4</th>\n",
       "      <td>04b-24003</td>\n",
       "      <td>Anne Arundel County</td>\n",
       "      <td>Maryland</td>\n",
       "      <td>[Anne Arundel County GIS Data]</td>\n",
       "      <td>[https://maps.aacounty.org/]</td>\n",
       "      <td>https://geo.btaa.org/?q=04b-24003</td>\n",
       "      <td>71</td>\n",
       "    </tr>\n",
       "  </tbody>\n",
       "</table>\n",
       "</div>"
      ],
      "text/plain": [
       "  countyCode               County         State  \\\n",
       "0  02b-17001         Adams County      Illinois   \n",
       "1  06b-26005       Allegan County      Michigan   \n",
       "2  08b-42003     Allegheny County  Pennsylvania   \n",
       "3  11b-39003         Allen County          Ohio   \n",
       "4  04b-24003  Anne Arundel County      Maryland   \n",
       "\n",
       "                                   Title  \\\n",
       "0           [Adams County, Illinois GIS]   \n",
       "1      [Allegan County GIS Data Library]   \n",
       "2       [Allegheny County GIS Open Data]   \n",
       "3  [Allen County GIS Data Download Page]   \n",
       "4         [Anne Arundel County GIS Data]   \n",
       "\n",
       "                                           sourceURL  \\\n",
       "0                   [https://www.adamscountygis.com]   \n",
       "1  [https://www.allegancounty.org/online-services...   \n",
       "2       [https://openac-alcogis.opendata.arcgis.com]   \n",
       "3  [http://gis.allencountyohio.com/GIS/downloads....   \n",
       "4                       [https://maps.aacounty.org/]   \n",
       "\n",
       "                             btaaURL  totalRecords  \n",
       "0  https://geo.btaa.org/?q=02b-17001             1  \n",
       "1  https://geo.btaa.org/?q=06b-26005            12  \n",
       "2  https://geo.btaa.org/?q=08b-42003            51  \n",
       "3  https://geo.btaa.org/?q=11b-39003            12  \n",
       "4  https://geo.btaa.org/?q=04b-24003            71  "
      ]
     },
     "execution_count": 18,
     "metadata": {},
     "output_type": "execute_result"
    }
   ],
   "source": [
    "def aggregate_to_array(data):\n",
    "    groupItems = ['Title', 'sourceURL', 'totalRecords']\n",
    "    for i in range(len(groupItems)):\n",
    "        data[groupItems[i]] = np.tile([data[groupItems[i]].values], (data.shape[0], 1)).tolist()\n",
    "    return data\n",
    "\n",
    "## Group by ['County', 'State']\n",
    "df_group = df_csv.groupby(['County', 'State']).apply(aggregate_to_array).drop_duplicates(subset=['County', 'State'])\n",
    "## Sum up the total records if there're multiple geoportals in one county\n",
    "df_group['totalRecords'] = df_group['totalRecords'].apply(lambda x: sum(int(item)for item in x))\n",
    "df_group.head()"
   ]
  },
  {
   "cell_type": "markdown",
   "metadata": {},
   "source": [
    "### Classify the geoportal by total number\n",
    "You may want to adjust the classification method **`NaturalBreaks`** and class number **`k`**. \n",
    "Reference the <a href=\"https://pypi.org/project/mapclassify/\">mapclassify</a>. Note that we're going to exclude the outler `totaLRecords == 1` first. "
   ]
  },
  {
   "cell_type": "code",
   "execution_count": 19,
   "metadata": {},
   "outputs": [
    {
     "data": {
      "text/plain": [
       "NaturalBreaks             \n",
       "\n",
       "     Interval        Count\n",
       "--------------------------\n",
       "[   0.00,   81.00] |    67\n",
       "(  81.00,  303.00] |    12\n",
       "( 303.00,  520.00] |     2\n",
       "( 520.00, 1802.00] |     1"
      ]
     },
     "execution_count": 19,
     "metadata": {},
     "output_type": "execute_result"
    }
   ],
   "source": [
    "df_excludeOne = df_group[df_group['totalRecords'] != 1]\n",
    "n4 = mapclassify.NaturalBreaks(df_excludeOne.totalRecords, k=4)\n",
    "n4"
   ]
  },
  {
   "cell_type": "code",
   "execution_count": 20,
   "metadata": {},
   "outputs": [],
   "source": [
    "countyInterval = [1.0] + [i for i in list(n4.bins)]"
   ]
  },
  {
   "cell_type": "markdown",
   "metadata": {},
   "source": [
    "### Assign different color to each geoportal based on total records class"
   ]
  },
  {
   "cell_type": "code",
   "execution_count": 21,
   "metadata": {},
   "outputs": [
    {
     "data": {
      "image/png": "[encoded data removed]",
      "text/plain": [
       "<Figure size 500x100 with 1 Axes>"
      ]
     },
     "metadata": {},
     "output_type": "display_data"
    }
   ],
   "source": [
    "## Select the gradient color palette\n",
    "palette = ['#b3cde0','#6497b1','#005b96','#03396c ','#011f4b']\n",
    "colorScale = np.array(['#b3cde0','#6497b1','#005b96','#03396c','#011f4b'])\n",
    "sns.palplot(sns.color_palette(colorScale))"
   ]
  },
  {
   "cell_type": "code",
   "execution_count": 22,
   "metadata": {
    "scrolled": true
   },
   "outputs": [
    {
     "data": {
      "text/html": [
       "<div>\n",
       "<style scoped>\n",
       "    .dataframe tbody tr th:only-of-type {\n",
       "        vertical-align: middle;\n",
       "    }\n",
       "\n",
       "    .dataframe tbody tr th {\n",
       "        vertical-align: top;\n",
       "    }\n",
       "\n",
       "    .dataframe thead th {\n",
       "        text-align: right;\n",
       "    }\n",
       "</style>\n",
       "<table border=\"1\" class=\"dataframe\">\n",
       "  <thead>\n",
       "    <tr style=\"text-align: right;\">\n",
       "      <th></th>\n",
       "      <th>countyCode</th>\n",
       "      <th>County</th>\n",
       "      <th>State</th>\n",
       "      <th>Title</th>\n",
       "      <th>sourceURL</th>\n",
       "      <th>btaaURL</th>\n",
       "      <th>totalRecords</th>\n",
       "      <th>Color</th>\n",
       "    </tr>\n",
       "  </thead>\n",
       "  <tbody>\n",
       "    <tr>\n",
       "      <th>0</th>\n",
       "      <td>02b-17001</td>\n",
       "      <td>Adams County</td>\n",
       "      <td>Illinois</td>\n",
       "      <td>[Adams County, Illinois GIS]</td>\n",
       "      <td>[https://www.adamscountygis.com]</td>\n",
       "      <td>https://geo.btaa.org/?q=02b-17001</td>\n",
       "      <td>1</td>\n",
       "      <td>#b3cde0</td>\n",
       "    </tr>\n",
       "    <tr>\n",
       "      <th>1</th>\n",
       "      <td>06b-26005</td>\n",
       "      <td>Allegan County</td>\n",
       "      <td>Michigan</td>\n",
       "      <td>[Allegan County GIS Data Library]</td>\n",
       "      <td>[https://www.allegancounty.org/online-services...</td>\n",
       "      <td>https://geo.btaa.org/?q=06b-26005</td>\n",
       "      <td>12</td>\n",
       "      <td>#6497b1</td>\n",
       "    </tr>\n",
       "    <tr>\n",
       "      <th>2</th>\n",
       "      <td>08b-42003</td>\n",
       "      <td>Allegheny County</td>\n",
       "      <td>Pennsylvania</td>\n",
       "      <td>[Allegheny County GIS Open Data]</td>\n",
       "      <td>[https://openac-alcogis.opendata.arcgis.com]</td>\n",
       "      <td>https://geo.btaa.org/?q=08b-42003</td>\n",
       "      <td>51</td>\n",
       "      <td>#6497b1</td>\n",
       "    </tr>\n",
       "    <tr>\n",
       "      <th>3</th>\n",
       "      <td>11b-39003</td>\n",
       "      <td>Allen County</td>\n",
       "      <td>Ohio</td>\n",
       "      <td>[Allen County GIS Data Download Page]</td>\n",
       "      <td>[http://gis.allencountyohio.com/GIS/downloads....</td>\n",
       "      <td>https://geo.btaa.org/?q=11b-39003</td>\n",
       "      <td>12</td>\n",
       "      <td>#6497b1</td>\n",
       "    </tr>\n",
       "    <tr>\n",
       "      <th>4</th>\n",
       "      <td>04b-24003</td>\n",
       "      <td>Anne Arundel County</td>\n",
       "      <td>Maryland</td>\n",
       "      <td>[Anne Arundel County GIS Data]</td>\n",
       "      <td>[https://maps.aacounty.org/]</td>\n",
       "      <td>https://geo.btaa.org/?q=04b-24003</td>\n",
       "      <td>71</td>\n",
       "      <td>#6497b1</td>\n",
       "    </tr>\n",
       "  </tbody>\n",
       "</table>\n",
       "</div>"
      ],
      "text/plain": [
       "  countyCode               County         State  \\\n",
       "0  02b-17001         Adams County      Illinois   \n",
       "1  06b-26005       Allegan County      Michigan   \n",
       "2  08b-42003     Allegheny County  Pennsylvania   \n",
       "3  11b-39003         Allen County          Ohio   \n",
       "4  04b-24003  Anne Arundel County      Maryland   \n",
       "\n",
       "                                   Title  \\\n",
       "0           [Adams County, Illinois GIS]   \n",
       "1      [Allegan County GIS Data Library]   \n",
       "2       [Allegheny County GIS Open Data]   \n",
       "3  [Allen County GIS Data Download Page]   \n",
       "4         [Anne Arundel County GIS Data]   \n",
       "\n",
       "                                           sourceURL  \\\n",
       "0                   [https://www.adamscountygis.com]   \n",
       "1  [https://www.allegancounty.org/online-services...   \n",
       "2       [https://openac-alcogis.opendata.arcgis.com]   \n",
       "3  [http://gis.allencountyohio.com/GIS/downloads....   \n",
       "4                       [https://maps.aacounty.org/]   \n",
       "\n",
       "                             btaaURL  totalRecords    Color  \n",
       "0  https://geo.btaa.org/?q=02b-17001             1  #b3cde0  \n",
       "1  https://geo.btaa.org/?q=06b-26005            12  #6497b1  \n",
       "2  https://geo.btaa.org/?q=08b-42003            51  #6497b1  \n",
       "3  https://geo.btaa.org/?q=11b-39003            12  #6497b1  \n",
       "4  https://geo.btaa.org/?q=04b-24003            71  #6497b1  "
      ]
     },
     "execution_count": 22,
     "metadata": {},
     "output_type": "execute_result"
    }
   ],
   "source": [
    "def totalRecords_color(row):\n",
    "    if row['totalRecords'] <= countyInterval[0]:\n",
    "        return palette[0]\n",
    "    elif row['totalRecords'] > countyInterval[0] and row['totalRecords'] <= countyInterval[1]:\n",
    "        return palette[1]\n",
    "    elif row['totalRecords'] > countyInterval[1] and row['totalRecords'] <= countyInterval[2]:\n",
    "        return palette[2]\n",
    "    elif row['totalRecords'] > countyInterval[2] and row['totalRecords'] <= countyInterval[3]:\n",
    "        return palette[3]\n",
    "    else:\n",
    "        return palette[4]\n",
    "\n",
    "## Append a new column with color generated above\n",
    "df_group['Color'] = df_group.apply(totalRecords_color, axis=1)\n",
    "df_group.head()"
   ]
  },
  {
   "cell_type": "markdown",
   "metadata": {},
   "source": [
    "### Merge county GeoJSON and geoportal GeoJSON"
   ]
  },
  {
   "cell_type": "code",
   "execution_count": 23,
   "metadata": {},
   "outputs": [
    {
     "data": {
      "text/html": [
       "<div>\n",
       "<style scoped>\n",
       "    .dataframe tbody tr th:only-of-type {\n",
       "        vertical-align: middle;\n",
       "    }\n",
       "\n",
       "    .dataframe tbody tr th {\n",
       "        vertical-align: top;\n",
       "    }\n",
       "\n",
       "    .dataframe thead th {\n",
       "        text-align: right;\n",
       "    }\n",
       "</style>\n",
       "<table border=\"1\" class=\"dataframe\">\n",
       "  <thead>\n",
       "    <tr style=\"text-align: right;\">\n",
       "      <th></th>\n",
       "      <th>County</th>\n",
       "      <th>State</th>\n",
       "      <th>boundingBox</th>\n",
       "    </tr>\n",
       "  </thead>\n",
       "  <tbody>\n",
       "    <tr>\n",
       "      <th>0</th>\n",
       "      <td>Worcester County</td>\n",
       "      <td>Maryland</td>\n",
       "      <td>[[[[-75.661827, 38.041853], [-75.54087, 38.089...</td>\n",
       "    </tr>\n",
       "    <tr>\n",
       "      <th>1</th>\n",
       "      <td>Caroline County</td>\n",
       "      <td>Maryland</td>\n",
       "      <td>[[[[-76.014427, 38.726463], [-75.896774, 38.81...</td>\n",
       "    </tr>\n",
       "    <tr>\n",
       "      <th>2</th>\n",
       "      <td>Cecil County</td>\n",
       "      <td>Maryland</td>\n",
       "      <td>[[[[-76.23327934711659, 39.7216462556279], [-7...</td>\n",
       "    </tr>\n",
       "    <tr>\n",
       "      <th>3</th>\n",
       "      <td>Harford County</td>\n",
       "      <td>Maryland</td>\n",
       "      <td>[[[[-76.5694491257313, 39.721458570752695], [-...</td>\n",
       "    </tr>\n",
       "    <tr>\n",
       "      <th>4</th>\n",
       "      <td>Queen Anne's County</td>\n",
       "      <td>Maryland</td>\n",
       "      <td>[[[[-76.361727, 38.939175], [-76.322296, 39.00...</td>\n",
       "    </tr>\n",
       "  </tbody>\n",
       "</table>\n",
       "</div>"
      ],
      "text/plain": [
       "                County     State  \\\n",
       "0     Worcester County  Maryland   \n",
       "1      Caroline County  Maryland   \n",
       "2         Cecil County  Maryland   \n",
       "3       Harford County  Maryland   \n",
       "4  Queen Anne's County  Maryland   \n",
       "\n",
       "                                         boundingBox  \n",
       "0  [[[[-75.661827, 38.041853], [-75.54087, 38.089...  \n",
       "1  [[[[-76.014427, 38.726463], [-75.896774, 38.81...  \n",
       "2  [[[[-76.23327934711659, 39.7216462556279], [-7...  \n",
       "3  [[[[-76.5694491257313, 39.721458570752695], [-...  \n",
       "4  [[[[-76.361727, 38.939175], [-76.322296, 39.00...  "
      ]
     },
     "execution_count": 23,
     "metadata": {},
     "output_type": "execute_result"
    }
   ],
   "source": [
    "## Load countyjson featuer properties\n",
    "county_geojson = gpd.read_file(countyjson)\n",
    "county_json = json.loads(county_geojson.to_json())\n",
    "df_allCounty = pd.json_normalize(county_json['features'])\n",
    "\n",
    "## Change column names for further operation\n",
    "df_allCounty = df_allCounty[['properties.County', 'properties.State', 'geometry.coordinates']].rename(\n",
    "    columns={'properties.County':'County', 'properties.State':'State', 'geometry.coordinates':'boundingBox'})\n",
    "\n",
    "df_allCounty.head()"
   ]
  },
  {
   "cell_type": "code",
   "execution_count": 24,
   "metadata": {},
   "outputs": [
    {
     "data": {
      "text/html": [
       "<div>\n",
       "<style scoped>\n",
       "    .dataframe tbody tr th:only-of-type {\n",
       "        vertical-align: middle;\n",
       "    }\n",
       "\n",
       "    .dataframe tbody tr th {\n",
       "        vertical-align: top;\n",
       "    }\n",
       "\n",
       "    .dataframe thead th {\n",
       "        text-align: right;\n",
       "    }\n",
       "</style>\n",
       "<table border=\"1\" class=\"dataframe\">\n",
       "  <thead>\n",
       "    <tr style=\"text-align: right;\">\n",
       "      <th></th>\n",
       "      <th>countyCode</th>\n",
       "      <th>County</th>\n",
       "      <th>State</th>\n",
       "      <th>Title</th>\n",
       "      <th>sourceURL</th>\n",
       "      <th>btaaURL</th>\n",
       "      <th>totalRecords</th>\n",
       "      <th>Color</th>\n",
       "      <th>boundingBox</th>\n",
       "    </tr>\n",
       "  </thead>\n",
       "  <tbody>\n",
       "    <tr>\n",
       "      <th>0</th>\n",
       "      <td>02b-17001</td>\n",
       "      <td>Adams County</td>\n",
       "      <td>Illinois</td>\n",
       "      <td>[Adams County, Illinois GIS]</td>\n",
       "      <td>[https://www.adamscountygis.com]</td>\n",
       "      <td>https://geo.btaa.org/?q=02b-17001</td>\n",
       "      <td>1</td>\n",
       "      <td>#b3cde0</td>\n",
       "      <td>[[[[-91.5062615151283, 40.20015506997169], [-9...</td>\n",
       "    </tr>\n",
       "    <tr>\n",
       "      <th>1</th>\n",
       "      <td>06b-26005</td>\n",
       "      <td>Allegan County</td>\n",
       "      <td>Michigan</td>\n",
       "      <td>[Allegan County GIS Data Library]</td>\n",
       "      <td>[https://www.allegancounty.org/online-services...</td>\n",
       "      <td>https://geo.btaa.org/?q=06b-26005</td>\n",
       "      <td>12</td>\n",
       "      <td>#6497b1</td>\n",
       "      <td>[[[[-86.240642, 42.54], [-86.22869480100229, 4...</td>\n",
       "    </tr>\n",
       "    <tr>\n",
       "      <th>2</th>\n",
       "      <td>08b-42003</td>\n",
       "      <td>Allegheny County</td>\n",
       "      <td>Pennsylvania</td>\n",
       "      <td>[Allegheny County GIS Open Data]</td>\n",
       "      <td>[https://openac-alcogis.opendata.arcgis.com]</td>\n",
       "      <td>https://geo.btaa.org/?q=08b-42003</td>\n",
       "      <td>51</td>\n",
       "      <td>#6497b1</td>\n",
       "      <td>[[[[-80.360873, 40.477539], [-80.180026, 40.60...</td>\n",
       "    </tr>\n",
       "    <tr>\n",
       "      <th>3</th>\n",
       "      <td>11b-39003</td>\n",
       "      <td>Allen County</td>\n",
       "      <td>Ohio</td>\n",
       "      <td>[Allen County GIS Data Download Page]</td>\n",
       "      <td>[http://gis.allencountyohio.com/GIS/downloads....</td>\n",
       "      <td>https://geo.btaa.org/?q=11b-39003</td>\n",
       "      <td>12</td>\n",
       "      <td>#6497b1</td>\n",
       "      <td>[[[[-84.397374, 40.815941], [-84.340531, 40.85...</td>\n",
       "    </tr>\n",
       "    <tr>\n",
       "      <th>4</th>\n",
       "      <td>04b-24003</td>\n",
       "      <td>Anne Arundel County</td>\n",
       "      <td>Maryland</td>\n",
       "      <td>[Anne Arundel County GIS Data]</td>\n",
       "      <td>[https://maps.aacounty.org/]</td>\n",
       "      <td>https://geo.btaa.org/?q=04b-24003</td>\n",
       "      <td>71</td>\n",
       "      <td>#6497b1</td>\n",
       "      <td>[[[[-76.840362, 39.103142], [-76.826665, 39.10...</td>\n",
       "    </tr>\n",
       "  </tbody>\n",
       "</table>\n",
       "</div>"
      ],
      "text/plain": [
       "  countyCode               County         State  \\\n",
       "0  02b-17001         Adams County      Illinois   \n",
       "1  06b-26005       Allegan County      Michigan   \n",
       "2  08b-42003     Allegheny County  Pennsylvania   \n",
       "3  11b-39003         Allen County          Ohio   \n",
       "4  04b-24003  Anne Arundel County      Maryland   \n",
       "\n",
       "                                   Title  \\\n",
       "0           [Adams County, Illinois GIS]   \n",
       "1      [Allegan County GIS Data Library]   \n",
       "2       [Allegheny County GIS Open Data]   \n",
       "3  [Allen County GIS Data Download Page]   \n",
       "4         [Anne Arundel County GIS Data]   \n",
       "\n",
       "                                           sourceURL  \\\n",
       "0                   [https://www.adamscountygis.com]   \n",
       "1  [https://www.allegancounty.org/online-services...   \n",
       "2       [https://openac-alcogis.opendata.arcgis.com]   \n",
       "3  [http://gis.allencountyohio.com/GIS/downloads....   \n",
       "4                       [https://maps.aacounty.org/]   \n",
       "\n",
       "                             btaaURL  totalRecords    Color  \\\n",
       "0  https://geo.btaa.org/?q=02b-17001             1  #b3cde0   \n",
       "1  https://geo.btaa.org/?q=06b-26005            12  #6497b1   \n",
       "2  https://geo.btaa.org/?q=08b-42003            51  #6497b1   \n",
       "3  https://geo.btaa.org/?q=11b-39003            12  #6497b1   \n",
       "4  https://geo.btaa.org/?q=04b-24003            71  #6497b1   \n",
       "\n",
       "                                         boundingBox  \n",
       "0  [[[[-91.5062615151283, 40.20015506997169], [-9...  \n",
       "1  [[[[-86.240642, 42.54], [-86.22869480100229, 4...  \n",
       "2  [[[[-80.360873, 40.477539], [-80.180026, 40.60...  \n",
       "3  [[[[-84.397374, 40.815941], [-84.340531, 40.85...  \n",
       "4  [[[[-76.840362, 39.103142], [-76.826665, 39.10...  "
      ]
     },
     "execution_count": 24,
     "metadata": {},
     "output_type": "execute_result"
    }
   ],
   "source": [
    "## Join on column 'County' and 'State' from left dataframe df_group\n",
    "df_merge = pd.merge(df_group, df_allCounty, on = ['County','State'], how = 'left')\n",
    "df_merge.head()"
   ]
  },
  {
   "cell_type": "markdown",
   "metadata": {},
   "source": [
    "### Return rows with Nan value\n",
    "Check if there exists any records doesn't include any coordinates information in the boundingBox column. <br>\n",
    "If so, go back to `allCounties.csv` and manually change the **county** name to the one in `county.json`, then go to `Kernel` > `Restart & Run All`"
   ]
  },
  {
   "cell_type": "code",
   "execution_count": 25,
   "metadata": {},
   "outputs": [
    {
     "name": "stdout",
     "output_type": "stream",
     "text": [
      "> No NULL rows\n"
     ]
    }
   ],
   "source": [
    "def check_nanrows(df):\n",
    "    if df.isnull().values.any():\n",
    "        return df[df['boundingBox'].isnull()]\n",
    "    else:\n",
    "        print('> No NULL rows')        \n",
    "check_nanrows(df_merge)"
   ]
  },
  {
   "cell_type": "markdown",
   "metadata": {},
   "source": [
    "### Create county GeoJSON features"
   ]
  },
  {
   "cell_type": "code",
   "execution_count": 26,
   "metadata": {},
   "outputs": [
    {
     "name": "stdout",
     "output_type": "stream",
     "text": [
      "> Creating county GeoJSON features...\n"
     ]
    }
   ],
   "source": [
    "def create_geojson_features(df):\n",
    "    print('> Creating county GeoJSON features...')\n",
    "    features = []\n",
    "    geometry_type = ''\n",
    "    geojson = {\n",
    "        'type': 'FeatureCollection',\n",
    "        'features': features\n",
    "    }\n",
    "        \n",
    "    for _, row in df.iterrows():\n",
    "        if type(row['boundingBox'][0][0][0]) is float:\n",
    "            geometry_type = 'Polygon'\n",
    "        else:\n",
    "            geometry_type = 'MultiPolygon'\n",
    "            \n",
    "        feature = {\n",
    "            'type': 'Feature',\n",
    "            'geometry': {\n",
    "                'type': geometry_type, \n",
    "                'coordinates': row['boundingBox']\n",
    "            },\n",
    "            'properties': {\n",
    "                'County': row['County'],\n",
    "                'State': row['State'],\n",
    "                'countyCode': row['countyCode'],\n",
    "                'Title': '|'.join([str(elem) for elem in row['Title']]),\n",
    "                'sourceURL': '|'.join([str(elem) for elem in row['sourceURL']]), \n",
    "                'btaaURL': row['btaaURL'],\n",
    "                'totalRecords': row['totalRecords'],\n",
    "                'Color' : row['Color']\n",
    "            }\n",
    "           }\n",
    "\n",
    "        features.append(feature)\n",
    "    return geojson\n",
    "\n",
    "data_geojson = create_geojson_features(df_merge)"
   ]
  },
  {
   "cell_type": "markdown",
   "metadata": {},
   "source": [
    "### Write to county TopoJSON file `activeCounties.topo.json`"
   ]
  },
  {
   "cell_type": "code",
   "execution_count": 27,
   "metadata": {
    "scrolled": true
   },
   "outputs": [
    {
     "name": "stdout",
     "output_type": "stream",
     "text": [
      "> Creating county TopoJSON file...\n"
     ]
    }
   ],
   "source": [
    "county_geojson = gpd.GeoDataFrame.from_features(data_geojson[\"features\"])\n",
    "# TopoJSON is an extension of GeoJSON to compress geometry information\n",
    "topo = tp.Topology(county_geojson)\n",
    "topo.to_json(activecounties)\n",
    "print('> Creating county TopoJSON file...')"
   ]
  },
  {
   "cell_type": "markdown",
   "metadata": {},
   "source": [
    "### Inspect county TopoJSON"
   ]
  },
  {
   "cell_type": "code",
   "execution_count": 28,
   "metadata": {},
   "outputs": [
    {
     "data": {
      "text/html": [
       "\n",
       "<div id=\"altair-viz-a87931f34ece4641a025d91a14f433fd\"></div>\n",
       "<script type=\"text/javascript\">\n",
       "  (function(spec, embedOpt){\n",
       "    let outputDiv = document.currentScript.previousElementSibling;\n",
       "    if (outputDiv.id !== \"altair-viz-a87931f34ece4641a025d91a14f433fd\") {\n",
       "      outputDiv = document.getElementById(\"altair-viz-a87931f34ece4641a025d91a14f433fd\");\n",
       "    }\n",
       "    const paths = {\n",
       "      \"vega\": \"https://cdn.jsdelivr.net/npm//vega@5?noext\",\n",
       "      \"vega-lib\": \"https://cdn.jsdelivr.net/npm//vega-lib?noext\",\n",
       "      \"vega-lite\": \"https://cdn.jsdelivr.net/npm//vega-lite@4.8.1?noext\",\n",
       "      \"vega-embed\": \"https://cdn.jsdelivr.net/npm//vega-embed@6?noext\",\n",
       "    };\n",
       "\n",
       "    function loadScript(lib) {\n",
       "      return new Promise(function(resolve, reject) {\n",
       "        var s = document.createElement('script');\n",
       "        s.src = paths[lib];\n",
       "        s.async = true;\n",
       "        s.onload = () => resolve(paths[lib]);\n",
       "        s.onerror = () => reject(`Error loading script: ${paths[lib]}`);\n",
       "        document.getElementsByTagName(\"head\")[0].appendChild(s);\n",
       "      });\n",
       "    }\n",
       "\n",
       "    function showError(err) {\n",
       "      outputDiv.innerHTML = `<div class=\"error\" style=\"color:red;\">${err}</div>`;\n",
       "      throw err;\n",
       "    }\n",
       "\n",
       "    function displayChart(vegaEmbed) {\n",
       "      vegaEmbed(outputDiv, spec, embedOpt)\n",
       "        .catch(err => showError(`Javascript Error: ${err.message}<br>This usually means there's a typo in your chart specification. See the javascript console for the full traceback.`));\n",
       "    }\n",
       "\n",
       "    if(typeof define === \"function\" && define.amd) {\n",
       "      requirejs.config({paths});\n",
       "      require([\"vega-embed\"], displayChart, err => showError(`Error loading script: ${err.message}`));\n",
       "    } else if (typeof vegaEmbed === \"function\") {\n",
       "      displayChart(vegaEmbed);\n",
       "    } else {\n",
       "      loadScript(\"vega\")\n",
       "        .then(() => loadScript(\"vega-lite\"))\n",
       "        .then(() => loadScript(\"vega-embed\"))\n",
       "        .catch(showError)\n",
       "        .then(() => displayChart(vegaEmbed));\n",
       "    }\n",
       "  })({\"config\": {\"view\": {\"continuousWidth\": 400, \"continuousHeight\": 300}}, \"data\": {\"name\": \"data-be71f698f06deb80e976ffb73cc4c839\", \"format\": {\"mesh\": \"data\", \"type\": \"topojson\"}}, \"mark\": {\"type\": \"geoshape\", \"filled\": false}, \"projection\": {\"reflectY\": true, \"type\": \"identity\"}, \"title\": \"County Topology\", \"width\": 300, \"$schema\": \"https://vega.github.io/schema/vega-lite/v4.8.1.json\", \"datasets\": {\"data-be71f698f06deb80e976ffb73cc4c839\": \"{\\\"type\\\":\\\"Topology\\\",\\\"objects\\\":{\\\"data\\\":{\\\"geometries\\\":[{\\\"properties\\\":{\\\"County\\\":\\\"Adams County\\\",\\\"State\\\":\\\"Illinois\\\",\\\"countyCode\\\":\\\"02b-17001\\\",\\\"Title\\\":\\\"Adams County, Illinois GIS\\\",\\\"sourceURL\\\":\\\"https://www.adamscountygis.com\\\",\\\"btaaURL\\\":\\\"https://geo.btaa.org/?q=02b-17001\\\",\\\"totalRecords\\\":1,\\\"Color\\\":\\\"#b3cde0\\\"},\\\"type\\\":\\\"MultiPolygon\\\",\\\"arcs\\\":[[[0]]],\\\"id\\\":0},{\\\"properties\\\":{\\\"County\\\":\\\"Allegan County\\\",\\\"State\\\":\\\"Michigan\\\",\\\"countyCode\\\":\\\"06b-26005\\\",\\\"Title\\\":\\\"Allegan County GIS Data Library\\\",\\\"sourceURL\\\":\\\"https://www.allegancounty.org/online-services/gis-data-library/county\\\",\\\"btaaURL\\\":\\\"https://geo.btaa.org/?q=06b-26005\\\",\\\"totalRecords\\\":12,\\\"Color\\\":\\\"#6497b1\\\"},\\\"type\\\":\\\"MultiPolygon\\\",\\\"arcs\\\":[[[1]]],\\\"id\\\":1},{\\\"properties\\\":{\\\"County\\\":\\\"Allegheny County\\\",\\\"State\\\":\\\"Pennsylvania\\\",\\\"countyCode\\\":\\\"08b-42003\\\",\\\"Title\\\":\\\"Allegheny County GIS Open Data\\\",\\\"sourceURL\\\":\\\"https://openac-alcogis.opendata.arcgis.com\\\",\\\"btaaURL\\\":\\\"https://geo.btaa.org/?q=08b-42003\\\",\\\"totalRecords\\\":51,\\\"Color\\\":\\\"#6497b1\\\"},\\\"type\\\":\\\"MultiPolygon\\\",\\\"arcs\\\":[[[2]]],\\\"id\\\":2},{\\\"properties\\\":{\\\"County\\\":\\\"Allen County\\\",\\\"State\\\":\\\"Ohio\\\",\\\"countyCode\\\":\\\"11b-39003\\\",\\\"Title\\\":\\\"Allen County GIS Data Download Page\\\",\\\"sourceURL\\\":\\\"http://gis.allencountyohio.com/GIS/downloads.html\\\",\\\"btaaURL\\\":\\\"https://geo.btaa.org/?q=11b-39003\\\",\\\"totalRecords\\\":12,\\\"Color\\\":\\\"#6497b1\\\"},\\\"type\\\":\\\"MultiPolygon\\\",\\\"arcs\\\":[[[-193,-155,3,-24,4]]],\\\"id\\\":3},{\\\"properties\\\":{\\\"County\\\":\\\"Anne Arundel County\\\",\\\"State\\\":\\\"Maryland\\\",\\\"countyCode\\\":\\\"04b-24003\\\",\\\"Title\\\":\\\"Anne Arundel County GIS Data\\\",\\\"sourceURL\\\":\\\"https://maps.aacounty.org/\\\",\\\"btaaURL\\\":\\\"https://geo.btaa.org/?q=04b-24003\\\",\\\"totalRecords\\\":71,\\\"Color\\\":\\\"#6497b1\\\"},\\\"type\\\":\\\"MultiPolygon\\\",\\\"arcs\\\":[[[-218,-31,-32,-30,5,-47,-287]]],\\\"id\\\":4},{\\\"properties\\\":{\\\"County\\\":\\\"Anoka County\\\",\\\"State\\\":\\\"Minnesota\\\",\\\"countyCode\\\":\\\"05b-27003\\\",\\\"Title\\\":\\\"Anoka County GIS Data Downloads\\\",\\\"sourceURL\\\":\\\"https://www.anokacounty.us/1990/Data-Downloads\\\",\\\"btaaURL\\\":\\\"https://geo.btaa.org/?q=05b-27003\\\",\\\"totalRecords\\\":29,\\\"Color\\\":\\\"#6497b1\\\"},\\\"type\\\":\\\"MultiPolygon\\\",\\\"arcs\\\":[[[-225,-61,6,-297,-208,-323]]],\\\"id\\\":5},{\\\"properties\\\":{\\\"County\\\":\\\"Ashtabula County\\\",\\\"State\\\":\\\"Ohio\\\",\\\"countyCode\\\":\\\"11b-39007\\\",\\\"Title\\\":\\\"ArcGIS REST Services Directory for Ashtabula County, Ohio\\\",\\\"sourceURL\\\":\\\"https://parcelmap.ashtabulacounty.us/arcgis/rest/services\\\",\\\"btaaURL\\\":\\\"https://geo.btaa.org/?q=11b-39007\\\",\\\"totalRecords\\\":1,\\\"Color\\\":\\\"#b3cde0\\\"},\\\"type\\\":\\\"MultiPolygon\\\",\\\"arcs\\\":[[[-138,7,-73,8,-150]]],\\\"id\\\":6},{\\\"properties\\\":{\\\"County\\\":\\\"Butler County\\\",\\\"State\\\":\\\"Ohio\\\",\\\"countyCode\\\":\\\"11b-39017\\\",\\\"Title\\\":\\\"ArcGIS REST Services Directory for Butler County Auditor, Ohio\\\",\\\"sourceURL\\\":\\\"https://maps.butlercountyauditor.org/arcgis/rest/services\\\",\\\"btaaURL\\\":\\\"https://geo.btaa.org/?q=11b-39017\\\",\\\"totalRecords\\\":1,\\\"Color\\\":\\\"#b3cde0\\\"},\\\"type\\\":\\\"MultiPolygon\\\",\\\"arcs\\\":[[[-171,-133,-178,-403,9]]],\\\"id\\\":7},{\\\"properties\\\":{\\\"County\\\":\\\"Henry County\\\",\\\"State\\\":\\\"Ohio\\\",\\\"countyCode\\\":\\\"11b-39069\\\",\\\"Title\\\":\\\"ArcGIS REST Services Directory for Henry County, Ohio\\\",\\\"sourceURL\\\":\\\"https://services.arcgis.com/osmyvTbXDC07yFxn/ArcGIS/rest/services\\\",\\\"btaaURL\\\":\\\"https://geo.btaa.org/?q=11b-39069\\\",\\\"totalRecords\\\":1,\\\"Color\\\":\\\"#b3cde0\\\"},\\\"type\\\":\\\"MultiPolygon\\\",\\\"arcs\\\":[[[-13,-17,-191,-89,10]]],\\\"id\\\":8},{\\\"properties\\\":{\\\"County\\\":\\\"Lucas County\\\",\\\"State\\\":\\\"Ohio\\\",\\\"countyCode\\\":\\\"11b-39095\\\",\\\"Title\\\":\\\"ArcGIS REST Services Directory for Lucas County, Ohio\\\",\\\"sourceURL\\\":\\\"https://lcapps.co.lucas.oh.us/arcgis/rest/services\\\",\\\"btaaURL\\\":\\\"https://geo.btaa.org/?q=11b-39095\\\",\\\"totalRecords\\\":1,\\\"Color\\\":\\\"#b3cde0\\\"},\\\"type\\\":\\\"MultiPolygon\\\",\\\"arcs\\\":[[[11,-80,-15,12]]],\\\"id\\\":9},{\\\"properties\\\":{\\\"County\\\":\\\"Marion County\\\",\\\"State\\\":\\\"Ohio\\\",\\\"countyCode\\\":\\\"11b-39101\\\",\\\"Title\\\":\\\"ArcGIS REST Services Directory for Marion County, Ohio\\\",\\\"sourceURL\\\":\\\"http://mcoiis.co.marion.oh.us/arcgis/rest/services\\\",\\\"btaaURL\\\":\\\"https://geo.btaa.org/?q=11b-39101\\\",\\\"totalRecords\\\":1,\\\"Color\\\":\\\"#b3cde0\\\"},\\\"type\\\":\\\"MultiPolygon\\\",\\\"arcs\\\":[[[-110,-123,-91,-360,13]]],\\\"id\\\":10},{\\\"properties\\\":{\\\"County\\\":\\\"Wood County\\\",\\\"State\\\":\\\"Ohio\\\",\\\"countyCode\\\":\\\"11b-39173\\\",\\\"Title\\\":\\\"ArcGIS REST Services Directory for Wood County, Ohio\\\",\\\"sourceURL\\\":\\\"http://engineer.co.wood.oh.us/arcgis/rest/services\\\",\\\"btaaURL\\\":\\\"https://geo.btaa.org/?q=11b-39173\\\",\\\"totalRecords\\\":1,\\\"Color\\\":\\\"#b3cde0\\\"},\\\"type\\\":\\\"MultiPolygon\\\",\\\"arcs\\\":[[[14,-83,15,-312,-153,16]]],\\\"id\\\":11},{\\\"properties\\\":{\\\"County\\\":\\\"Ashland County\\\",\\\"State\\\":\\\"Wisconsin\\\",\\\"countyCode\\\":\\\"10b-55003\\\",\\\"Title\\\":\\\"Ashland County, WI GIS Open Data Portal|GIS - Ashland County, WI\\\",\\\"sourceURL\\\":\\\"https://data-ashlandcountywi.opendata.arcgis.com|https://co.ashland.wi.us/gis\\\",\\\"btaaURL\\\":\\\"https://geo.btaa.org/?q=10b-55003\\\",\\\"totalRecords\\\":22,\\\"Color\\\":\\\"#6497b1\\\"},\\\"type\\\":\\\"MultiPolygon\\\",\\\"arcs\\\":[[[17]],[[18,-35]]],\\\"id\\\":12},{\\\"properties\\\":{\\\"County\\\":\\\"Athens County\\\",\\\"State\\\":\\\"Ohio\\\",\\\"countyCode\\\":\\\"11b-39009\\\",\\\"Title\\\":\\\"Athens County GIS Data\\\",\\\"sourceURL\\\":\\\"https://data-athgis.opendata.arcgis.com\\\",\\\"btaaURL\\\":\\\"https://geo.btaa.org/?q=11b-39009\\\",\\\"totalRecords\\\":17,\\\"Color\\\":\\\"#6497b1\\\"},\\\"type\\\":\\\"MultiPolygon\\\",\\\"arcs\\\":[[[19,-180,20,-107]]],\\\"id\\\":13},{\\\"properties\\\":{\\\"County\\\":\\\"Mercer County\\\",\\\"State\\\":\\\"Ohio\\\",\\\"countyCode\\\":\\\"11b-39107\\\",\\\"Title\\\":\\\"Auditor's Office Downloads for Mercer County, Ohio\\\",\\\"sourceURL\\\":\\\"https://www.mercercountyohio.org/elected-officials/auditor/downloads\\\",\\\"btaaURL\\\":\\\"https://geo.btaa.org/?q=11b-39107\\\",\\\"totalRecords\\\":1,\\\"Color\\\":\\\"#b3cde0\\\"},\\\"type\\\":\\\"MultiPolygon\\\",\\\"arcs\\\":[[[-27,21]]],\\\"id\\\":14},{\\\"properties\\\":{\\\"County\\\":\\\"Auglaize County\\\",\\\"State\\\":\\\"Ohio\\\",\\\"countyCode\\\":\\\"11b-39011\\\",\\\"Title\\\":\\\"Auglaize County, Ohio GIS Open Data Downloads\\\",\\\"sourceURL\\\":\\\"http://augcogis.maps.arcgis.com/apps/PublicGallery/index.html?appid=8c6858fbb82042a6b72aa3b059433cdb\\\",\\\"btaaURL\\\":\\\"https://geo.btaa.org/?q=11b-39011\\\",\\\"totalRecords\\\":1,\\\"Color\\\":\\\"#b3cde0\\\"},\\\"type\\\":\\\"MultiPolygon\\\",\\\"arcs\\\":[[[22,23,24,-116,25,26]]],\\\"id\\\":15},{\\\"properties\\\":{\\\"County\\\":\\\"Baltimore County\\\",\\\"State\\\":\\\"Maryland\\\",\\\"countyCode\\\":\\\"04b-24005\\\",\\\"Title\\\":\\\"Baltimore County Open Data Portal\\\",\\\"sourceURL\\\":\\\"https://data-bc-gis.opendata.arcgis.com\\\",\\\"btaaURL\\\":\\\"https://geo.btaa.org/?q=04b-24005\\\",\\\"totalRecords\\\":0,\\\"Color\\\":\\\"#b3cde0\\\"},\\\"type\\\":\\\"MultiPolygon\\\",\\\"arcs\\\":[[[27,-206,28,29,-33,30,-217,-52]]],\\\"id\\\":16},{\\\"properties\\\":{\\\"County\\\":\\\"Baltimore County\\\",\\\"State\\\":\\\"Maryland\\\",\\\"countyCode\\\":\\\"04b-24005\\\",\\\"Title\\\":\\\"Baltimore County Open Data Portal\\\",\\\"sourceURL\\\":\\\"https://data-bc-gis.opendata.arcgis.com\\\",\\\"btaaURL\\\":\\\"https://geo.btaa.org/?q=04b-24005\\\",\\\"totalRecords\\\":0,\\\"Color\\\":\\\"#b3cde0\\\"},\\\"type\\\":\\\"MultiPolygon\\\",\\\"arcs\\\":[[[31,32]]],\\\"id\\\":17},{\\\"properties\\\":{\\\"County\\\":\\\"Bayfield County\\\",\\\"State\\\":\\\"Wisconsin\\\",\\\"countyCode\\\":\\\"10b-55007\\\",\\\"Title\\\":\\\"Bayfield County GIS Download\\\",\\\"sourceURL\\\":\\\"https://www.bayfieldcounty.wi.gov/892/GIS-Data-Download\\\",\\\"btaaURL\\\":\\\"https://geo.btaa.org/?q=10b-55007\\\",\\\"totalRecords\\\":1,\\\"Color\\\":\\\"#b3cde0\\\"},\\\"type\\\":\\\"MultiPolygon\\\",\\\"arcs\\\":[[[33,34,35,-98]]],\\\"id\\\":18},{\\\"properties\\\":{\\\"County\\\":\\\"Becker County\\\",\\\"State\\\":\\\"Minnesota\\\",\\\"countyCode\\\":\\\"05b-27005\\\",\\\"Title\\\":\\\"Becker County GIS Data Downloads\\\",\\\"sourceURL\\\":\\\"https://www.co.becker.mn.us/online_services/GIS_data.aspx\\\",\\\"btaaURL\\\":\\\"https://geo.btaa.org/?q=05b-27005\\\",\\\"totalRecords\\\":24,\\\"Color\\\":\\\"#6497b1\\\"},\\\"type\\\":\\\"MultiPolygon\\\",\\\"arcs\\\":[[[36,-65,-222,37,-266,-62]]],\\\"id\\\":19},{\\\"properties\\\":{\\\"County\\\":\\\"Beltrami County\\\",\\\"State\\\":\\\"Minnesota\\\",\\\"countyCode\\\":\\\"05b-27007\\\",\\\"Title\\\":\\\"Beltrami County Open GIS Data\\\",\\\"sourceURL\\\":\\\"https://bemidji-beltramicounty.opendata.arcgis.com/\\\",\\\"btaaURL\\\":\\\"https://geo.btaa.org/?q=05b-27007\\\",\\\"totalRecords\\\":1,\\\"Color\\\":\\\"#b3cde0\\\"},\\\"type\\\":\\\"MultiPolygon\\\",\\\"arcs\\\":[[[-220,-64,38]]],\\\"id\\\":20},{\\\"properties\\\":{\\\"County\\\":\\\"Benton County\\\",\\\"State\\\":\\\"Minnesota\\\",\\\"countyCode\\\":\\\"05b-27009\\\",\\\"Title\\\":\\\"Benton County GIS Data Downloads\\\",\\\"sourceURL\\\":\\\"https://www.co.benton.mn.us/274/GIS-Mapping\\\",\\\"btaaURL\\\":\\\"https://geo.btaa.org/?q=05b-27009\\\",\\\"totalRecords\\\":6,\\\"Color\\\":\\\"#6497b1\\\"},\\\"type\\\":\\\"MultiPolygon\\\",\\\"arcs\\\":[[[-320,-342,39]]],\\\"id\\\":21},{\\\"properties\\\":{\\\"County\\\":\\\"Big Stone County\\\",\\\"State\\\":\\\"Minnesota\\\",\\\"countyCode\\\":\\\"05b-27011\\\",\\\"Title\\\":\\\"Big Stone County Open Data\\\",\\\"sourceURL\\\":\\\"https://data-bigstonecounty.opendata.arcgis.com\\\",\\\"btaaURL\\\":\\\"https://geo.btaa.org/?q=05b-27011\\\",\\\"totalRecords\\\":13,\\\"Color\\\":\\\"#6497b1\\\"},\\\"type\\\":\\\"MultiPolygon\\\",\\\"arcs\\\":[[[-354,40]]],\\\"id\\\":22},{\\\"properties\\\":{\\\"County\\\":\\\"Brown County\\\",\\\"State\\\":\\\"Wisconsin\\\",\\\"countyCode\\\":\\\"10b-55009\\\",\\\"Title\\\":\\\"Brown County GIS Download\\\",\\\"sourceURL\\\":\\\"https://www.co.brown.wi.us/departments/?department=85713eda4cdc\\\",\\\"btaaURL\\\":\\\"https://geo.btaa.org/?q=10b-55009\\\",\\\"totalRecords\\\":1,\\\"Color\\\":\\\"#b3cde0\\\"},\\\"type\\\":\\\"MultiPolygon\\\",\\\"arcs\\\":[[[-44,-196,41]]],\\\"id\\\":23},{\\\"properties\\\":{\\\"County\\\":\\\"Buffalo County\\\",\\\"State\\\":\\\"Wisconsin\\\",\\\"countyCode\\\":\\\"10b-55011\\\",\\\"Title\\\":\\\"Buffalo County GIS Download\\\",\\\"sourceURL\\\":\\\"https://www.buffalocounty.com/377/Geospatial-Data-Access\\\",\\\"btaaURL\\\":\\\"https://geo.btaa.org/?q=10b-55011\\\",\\\"totalRecords\\\":1,\\\"Color\\\":\\\"#b3cde0\\\"},\\\"type\\\":\\\"MultiPolygon\\\",\\\"arcs\\\":[[[-114,-358,42]]],\\\"id\\\":24},{\\\"properties\\\":{\\\"County\\\":\\\"Calumet County\\\",\\\"State\\\":\\\"Wisconsin\\\",\\\"countyCode\\\":\\\"10b-55015\\\",\\\"Title\\\":\\\"Calumet County GIS Download\\\",\\\"sourceURL\\\":\\\"https://www.calumetmaps.com/data.html\\\",\\\"btaaURL\\\":\\\"https://geo.btaa.org/?q=10b-55015\\\",\\\"totalRecords\\\":1,\\\"Color\\\":\\\"#b3cde0\\\"},\\\"type\\\":\\\"MultiPolygon\\\",\\\"arcs\\\":[[[-197,43,44,-317,-124,45]]],\\\"id\\\":25},{\\\"properties\\\":{\\\"County\\\":\\\"Calvert County\\\",\\\"State\\\":\\\"Maryland\\\",\\\"countyCode\\\":\\\"04b-24009-2\\\",\\\"Title\\\":\\\"Calvert County GIS, Historic Maps, Topos|Calvert County Open GIS Data Portal\\\",\\\"sourceURL\\\":\\\"http://www.co.cal.md.us/index.aspx?NID=1534|https://calvert-county-open-data-calvertgis.hub.arcgis.com\\\",\\\"btaaURL\\\":\\\"https://geo.btaa.org/?q=04b-24009-2\\\",\\\"totalRecords\\\":20,\\\"Color\\\":\\\"#6497b1\\\"},\\\"type\\\":\\\"MultiPolygon\\\",\\\"arcs\\\":[[[46,47,-333,48,-288]]],\\\"id\\\":26},{\\\"properties\\\":{\\\"County\\\":\\\"Carlton County\\\",\\\"State\\\":\\\"Minnesota\\\",\\\"countyCode\\\":\\\"05b-27017\\\",\\\"Title\\\":\\\"Carlton County Open Data\\\",\\\"sourceURL\\\":\\\"https://data-carltoncounty.opendata.arcgis.com\\\",\\\"btaaURL\\\":\\\"https://geo.btaa.org/?q=05b-27017\\\",\\\"totalRecords\\\":1,\\\"Color\\\":\\\"#b3cde0\\\"},\\\"type\\\":\\\"MultiPolygon\\\",\\\"arcs\\\":[[[-303,-96,49]]],\\\"id\\\":27},{\\\"properties\\\":{\\\"County\\\":\\\"Carroll County\\\",\\\"State\\\":\\\"Maryland\\\",\\\"countyCode\\\":\\\"04b-24013\\\",\\\"Title\\\":\\\"Carroll County GIS Open Data\\\",\\\"sourceURL\\\":\\\"https://data-carrollco-md.opendata.arcgis.com\\\",\\\"btaaURL\\\":\\\"https://geo.btaa.org/?q=04b-24013\\\",\\\"totalRecords\\\":29,\\\"Color\\\":\\\"#6497b1\\\"},\\\"type\\\":\\\"MultiPolygon\\\",\\\"arcs\\\":[[[50,51,-216,-127]]],\\\"id\\\":28},{\\\"properties\\\":{\\\"County\\\":\\\"Carver County\\\",\\\"State\\\":\\\"Minnesota\\\",\\\"countyCode\\\":\\\"05b-27019\\\",\\\"Title\\\":\\\"Carver County GIS Data\\\",\\\"sourceURL\\\":\\\"http://data-carver.opendata.arcgis.com\\\",\\\"btaaURL\\\":\\\"https://geo.btaa.org/?q=05b-27019\\\",\\\"totalRecords\\\":39,\\\"Color\\\":\\\"#6497b1\\\"},\\\"type\\\":\\\"MultiPolygon\\\",\\\"arcs\\\":[[[52,-210,-309,53,-253]]],\\\"id\\\":29},{\\\"properties\\\":{\\\"County\\\":\\\"Cass County\\\",\\\"State\\\":\\\"Iowa\\\",\\\"countyCode\\\":\\\"03b-19029\\\",\\\"Title\\\":\\\"Cass County GIS Downloadable Files\\\",\\\"sourceURL\\\":\\\"https://www.casscountyia.gov/county-departments/gis-coordinator/\\\",\\\"btaaURL\\\":\\\"https://geo.btaa.org/?q=03b-19029\\\",\\\"totalRecords\\\":11,\\\"Color\\\":\\\"#6497b1\\\"},\\\"type\\\":\\\"MultiPolygon\\\",\\\"arcs\\\":[[[54,-281]]],\\\"id\\\":30},{\\\"properties\\\":{\\\"County\\\":\\\"Centre County\\\",\\\"State\\\":\\\"Pennsylvania\\\",\\\"countyCode\\\":\\\"08b-42027\\\",\\\"Title\\\":\\\"Centre County Open Data\\\",\\\"sourceURL\\\":\\\"http://gisdata-centrecountygov.opendata.arcgis.com\\\",\\\"btaaURL\\\":\\\"https://geo.btaa.org/?q=08b-42027\\\",\\\"totalRecords\\\":81,\\\"Color\\\":\\\"#6497b1\\\"},\\\"type\\\":\\\"MultiPolygon\\\",\\\"arcs\\\":[[[55]]],\\\"id\\\":31},{\\\"properties\\\":{\\\"County\\\":\\\"Chester County\\\",\\\"State\\\":\\\"Pennsylvania\\\",\\\"countyCode\\\":\\\"08b-42029\\\",\\\"Title\\\":\\\"Chester County GIS Data\\\",\\\"sourceURL\\\":\\\"https://data1-chesco.opendata.arcgis.com\\\",\\\"btaaURL\\\":\\\"https://geo.btaa.org/?q=08b-42029\\\",\\\"totalRecords\\\":36,\\\"Color\\\":\\\"#6497b1\\\"},\\\"type\\\":\\\"MultiPolygon\\\",\\\"arcs\\\":[[[-257,56]]],\\\"id\\\":32},{\\\"properties\\\":{\\\"County\\\":\\\"Chippewa County\\\",\\\"State\\\":\\\"Minnesota\\\",\\\"countyCode\\\":\\\"05b-27023\\\",\\\"Title\\\":\\\"Chippewa County Open GIS Data\\\",\\\"sourceURL\\\":\\\"https://data-chippewa.opendata.arcgis.com/\\\",\\\"btaaURL\\\":\\\"https://geo.btaa.org/?q=05b-27023\\\",\\\"totalRecords\\\":7,\\\"Color\\\":\\\"#6497b1\\\"},\\\"type\\\":\\\"MultiPolygon\\\",\\\"arcs\\\":[[[-301,57]]],\\\"id\\\":33},{\\\"properties\\\":{\\\"County\\\":\\\"Chisago County\\\",\\\"State\\\":\\\"Minnesota\\\",\\\"countyCode\\\":\\\"05b-27025\\\",\\\"Title\\\":\\\"Chisago County GIS Data Downloads\\\",\\\"sourceURL\\\":\\\"https://chisagocounty.us/427/Geographic-Information-Systems-GIS\\\",\\\"btaaURL\\\":\\\"https://geo.btaa.org/?q=05b-27025\\\",\\\"totalRecords\\\":15,\\\"Color\\\":\\\"#6497b1\\\"},\\\"type\\\":\\\"MultiPolygon\\\",\\\"arcs\\\":[[[58,-274,59,60,-224]]],\\\"id\\\":34},{\\\"properties\\\":{\\\"County\\\":\\\"Clay County\\\",\\\"State\\\":\\\"Minnesota\\\",\\\"countyCode\\\":\\\"05b-27027\\\",\\\"Title\\\":\\\"Clay County Open Data\\\",\\\"sourceURL\\\":\\\"https://data-claycountymn.opendata.arcgis.com\\\",\\\"btaaURL\\\":\\\"https://geo.btaa.org/?q=05b-27027\\\",\\\"totalRecords\\\":15,\\\"Color\\\":\\\"#6497b1\\\"},\\\"type\\\":\\\"MultiPolygon\\\",\\\"arcs\\\":[[[61,-265,-389,62]]],\\\"id\\\":35},{\\\"properties\\\":{\\\"County\\\":\\\"Clearwater County\\\",\\\"State\\\":\\\"Minnesota\\\",\\\"countyCode\\\":\\\"05b-27029\\\",\\\"Title\\\":\\\"Clearwater County GIS Data Downloads\\\",\\\"sourceURL\\\":\\\"https://www.co.clearwater.mn.us/index.asp?Type=B_LIST&SEC=%7BC3EA334C-2D16-4252-B563-7908C6E147D2%7D\\\",\\\"btaaURL\\\":\\\"https://geo.btaa.org/?q=05b-27029\\\",\\\"totalRecords\\\":3,\\\"Color\\\":\\\"#6497b1\\\"},\\\"type\\\":\\\"MultiPolygon\\\",\\\"arcs\\\":[[[63,-223,64,65,-275,66]]],\\\"id\\\":36},{\\\"properties\\\":{\\\"County\\\":\\\"Clinton County\\\",\\\"State\\\":\\\"Ohio\\\",\\\"countyCode\\\":\\\"11b-39027\\\",\\\"Title\\\":\\\"Clinton County, Ohio, Geographic Information Systems\\\",\\\"sourceURL\\\":\\\"http://www.clintoncountyohgis.org/index.htm\\\",\\\"btaaURL\\\":\\\"https://geo.btaa.org/?q=11b-39027\\\",\\\"totalRecords\\\":1,\\\"Color\\\":\\\"#b3cde0\\\"},\\\"type\\\":\\\"MultiPolygon\\\",\\\"arcs\\\":[[[-176,-86,67,-327,-101]]],\\\"id\\\":37},{\\\"properties\\\":{\\\"County\\\":\\\"Cook County\\\",\\\"State\\\":\\\"Illinois\\\",\\\"countyCode\\\":\\\"12b-17031\\\",\\\"Title\\\":\\\"Cook Central|Cook County Open Data\\\",\\\"sourceURL\\\":\\\"https://hub-cookcountyil.opendata.arcgis.com|https://datacatalog.cookcountyil.gov\\\",\\\"btaaURL\\\":\\\"https://geo.btaa.org/?q=12b-17031\\\",\\\"totalRecords\\\":504,\\\"Color\\\":\\\"#03396c \\\"},\\\"type\\\":\\\"MultiPolygon\\\",\\\"arcs\\\":[[[-232,68,-395,-112,69]]],\\\"id\\\":38},{\\\"properties\\\":{\\\"County\\\":\\\"Cook County\\\",\\\"State\\\":\\\"Minnesota\\\",\\\"countyCode\\\":\\\"05b-27031\\\",\\\"Title\\\":\\\"Cook County Open GIS Data\\\",\\\"sourceURL\\\":\\\"https://open-data-portal-cookcountymn.hub.arcgis.com/\\\",\\\"btaaURL\\\":\\\"https://geo.btaa.org/?q=05b-27031\\\",\\\"totalRecords\\\":1,\\\"Color\\\":\\\"#b3cde0\\\"},\\\"type\\\":\\\"MultiPolygon\\\",\\\"arcs\\\":[[[70]]],\\\"id\\\":39},{\\\"properties\\\":{\\\"County\\\":\\\"Crawford County\\\",\\\"State\\\":\\\"Pennsylvania\\\",\\\"countyCode\\\":\\\"08b-42039\\\",\\\"Title\\\":\\\"Crawford County Open Data\\\",\\\"sourceURL\\\":\\\"https://share-open-data-crawfordcountypa.opendata.arcgis.com\\\",\\\"btaaURL\\\":\\\"https://geo.btaa.org/?q=08b-42039\\\",\\\"totalRecords\\\":122,\\\"Color\\\":\\\"#005b96\\\"},\\\"type\\\":\\\"MultiPolygon\\\",\\\"arcs\\\":[[[71,72]]],\\\"id\\\":40},{\\\"properties\\\":{\\\"County\\\":\\\"Crow Wing County\\\",\\\"State\\\":\\\"Minnesota\\\",\\\"countyCode\\\":\\\"05b-27035\\\",\\\"Title\\\":\\\"Crow Wing County Open GIS Data\\\",\\\"sourceURL\\\":\\\"https://www.crowwing.us/85/Interactive-Maps\\\",\\\"btaaURL\\\":\\\"https://geo.btaa.org/?q=05b-27035\\\",\\\"totalRecords\\\":1,\\\"Color\\\":\\\"#b3cde0\\\"},\\\"type\\\":\\\"MultiPolygon\\\",\\\"arcs\\\":[[[73]]],\\\"id\\\":41},{\\\"properties\\\":{\\\"County\\\":\\\"Cuyahoga County\\\",\\\"State\\\":\\\"Ohio\\\",\\\"countyCode\\\":\\\"11b-39035\\\",\\\"Title\\\":\\\"Cuyahoga County Open Data\\\",\\\"sourceURL\\\":\\\"https://data-cuyahoga.opendata.arcgis.com\\\",\\\"btaaURL\\\":\\\"https://geo.btaa.org/?q=11b-39035\\\",\\\"totalRecords\\\":1,\\\"Color\\\":\\\"#b3cde0\\\"},\\\"type\\\":\\\"MultiPolygon\\\",\\\"arcs\\\":[[[74,-139,-152,-347,-163,-243]]],\\\"id\\\":42},{\\\"properties\\\":{\\\"County\\\":\\\"Dallas County\\\",\\\"State\\\":\\\"Iowa\\\",\\\"countyCode\\\":\\\"03b-19049\\\",\\\"Title\\\":\\\"Dallas County Data Download\\\",\\\"sourceURL\\\":\\\"https://www.dallascountyiowa.gov/government/business-and-planning/gis/data-download\\\",\\\"btaaURL\\\":\\\"https://geo.btaa.org/?q=03b-19049\\\",\\\"totalRecords\\\":1,\\\"Color\\\":\\\"#b3cde0\\\"},\\\"type\\\":\\\"MultiPolygon\\\",\\\"arcs\\\":[[[75]]],\\\"id\\\":43},{\\\"properties\\\":{\\\"County\\\":\\\"Montgomery County\\\",\\\"State\\\":\\\"Maryland\\\",\\\"countyCode\\\":\\\"04f-02\\\",\\\"Title\\\":\\\"Data Downloads - Montgomery Planning|Montgomery County GIS Open Data\\\",\\\"sourceURL\\\":\\\"https://montgomeryplanning.org/tools/gis-and-mapping/data-downloads/|https://data2018-mcgov-gis.opendata.arcgis.com\\\",\\\"btaaURL\\\":\\\"https://geo.btaa.org/?q=04f-02\\\",\\\"totalRecords\\\":303,\\\"Color\\\":\\\"#005b96\\\"},\\\"type\\\":\\\"MultiPolygon\\\",\\\"arcs\\\":[[[-128,-219,-285,76]]],\\\"id\\\":44},{\\\"properties\\\":{\\\"County\\\":\\\"Coshocton County\\\",\\\"State\\\":\\\"Ohio\\\",\\\"countyCode\\\":\\\"11b-39031\\\",\\\"Title\\\":\\\"Data Downloads for Coshocton County, Ohio\\\",\\\"sourceURL\\\":\\\"http://www.coshoctoncounty.net/taxmap/gis-downloads\\\",\\\"btaaURL\\\":\\\"https://geo.btaa.org/?q=11b-39031\\\",\\\"totalRecords\\\":1,\\\"Color\\\":\\\"#b3cde0\\\"},\\\"type\\\":\\\"MultiPolygon\\\",\\\"arcs\\\":[[[-212,-182,77,-166,-185,-104]]],\\\"id\\\":45},{\\\"properties\\\":{\\\"County\\\":\\\"Ottawa County\\\",\\\"State\\\":\\\"Ohio\\\",\\\"countyCode\\\":\\\"11b-39123\\\",\\\"Title\\\":\\\"Data Downloads for Ottawa County, Ohio\\\",\\\"sourceURL\\\":\\\"https://drive.google.com/drive/folders/0B4hTJB05icP8cjNJZnFIVEVJbmM\\\",\\\"btaaURL\\\":\\\"https://geo.btaa.org/?q=11b-39123\\\",\\\"totalRecords\\\":1,\\\"Color\\\":\\\"#b3cde0\\\"},\\\"type\\\":\\\"MultiPolygon\\\",\\\"arcs\\\":[[[78]],[[79,80,-142,81,82]]],\\\"id\\\":46},{\\\"properties\\\":{\\\"County\\\":\\\"Greene County\\\",\\\"State\\\":\\\"Ohio\\\",\\\"countyCode\\\":\\\"11b-39057\\\",\\\"Title\\\":\\\"Data for Greene County, Ohio\\\",\\\"sourceURL\\\":\\\"https://www.greenecountyohio.gov/DocumentCenter\\\",\\\"btaaURL\\\":\\\"https://geo.btaa.org/?q=11b-39057\\\",\\\"totalRecords\\\":1,\\\"Color\\\":\\\"#b3cde0\\\"},\\\"type\\\":\\\"MultiPolygon\\\",\\\"arcs\\\":[[[83,-162,84,85,-175,-132]]],\\\"id\\\":47},{\\\"properties\\\":{\\\"County\\\":\\\"Belmont County\\\",\\\"State\\\":\\\"Ohio\\\",\\\"countyCode\\\":\\\"11b-39013\\\",\\\"Title\\\":\\\"Data/Downloads for Belmont County, Ohio\\\",\\\"sourceURL\\\":\\\"http://www.belcogis.com/DataDownloads.htm\\\",\\\"btaaURL\\\":\\\"https://geo.btaa.org/?q=11b-39013\\\",\\\"totalRecords\\\":1,\\\"Color\\\":\\\"#b3cde0\\\"},\\\"type\\\":\\\"MultiPolygon\\\",\\\"arcs\\\":[[[86]]],\\\"id\\\":48},{\\\"properties\\\":{\\\"County\\\":\\\"Dauphin County\\\",\\\"State\\\":\\\"Pennsylvania\\\",\\\"countyCode\\\":\\\"08b-42043\\\",\\\"Title\\\":\\\"Dauphin County GIS Data Portal\\\",\\\"sourceURL\\\":\\\"https://data-dauphinco.opendata.arcgis.com\\\",\\\"btaaURL\\\":\\\"https://geo.btaa.org/?q=08b-42043\\\",\\\"totalRecords\\\":19,\\\"Color\\\":\\\"#6497b1\\\"},\\\"type\\\":\\\"MultiPolygon\\\",\\\"arcs\\\":[[[87]]],\\\"id\\\":49},{\\\"properties\\\":{\\\"County\\\":\\\"Defiance County\\\",\\\"State\\\":\\\"Ohio\\\",\\\"countyCode\\\":\\\"11b-39039\\\",\\\"Title\\\":\\\"Defiance County GIS\\\",\\\"sourceURL\\\":\\\"https://www.defiance-county.com/engineer/GIS.htm\\\",\\\"btaaURL\\\":\\\"https://geo.btaa.org/?q=11b-39039\\\",\\\"totalRecords\\\":1,\\\"Color\\\":\\\"#b3cde0\\\"},\\\"type\\\":\\\"MultiPolygon\\\",\\\"arcs\\\":[[[88,-190,89]]],\\\"id\\\":50},{\\\"properties\\\":{\\\"County\\\":\\\"Delaware County\\\",\\\"State\\\":\\\"Ohio\\\",\\\"countyCode\\\":\\\"11b-39041\\\",\\\"Title\\\":\\\"Delaware County GIS\\\",\\\"sourceURL\\\":\\\"https://gisdata-delco.hub.arcgis.com/\\\",\\\"btaaURL\\\":\\\"https://geo.btaa.org/?q=11b-39041\\\",\\\"totalRecords\\\":28,\\\"Color\\\":\\\"#6497b1\\\"},\\\"type\\\":\\\"MultiPolygon\\\",\\\"arcs\\\":[[[90,-122,-105,-183,-126,-361]]],\\\"id\\\":51},{\\\"properties\\\":{\\\"County\\\":\\\"Kenosha County\\\",\\\"State\\\":\\\"Wisconsin\\\",\\\"countyCode\\\":\\\"10b-55059\\\",\\\"Title\\\":\\\"Digital Mapping Data of Kenosha County, WI|Kenosha County, WI GIS Open Data Portal\\\",\\\"sourceURL\\\":\\\"https://www.kenoshacounty.org/1035/Digital-Mapping-Data|https://dataportal.kenoshacounty.org\\\",\\\"btaaURL\\\":\\\"https://geo.btaa.org/?q=10b-55059\\\",\\\"totalRecords\\\":64,\\\"Color\\\":\\\"#6497b1\\\"},\\\"type\\\":\\\"MultiPolygon\\\",\\\"arcs\\\":[[[-294,91,-230,92,-367]]],\\\"id\\\":52},{\\\"properties\\\":{\\\"County\\\":\\\"Dane County\\\",\\\"State\\\":\\\"Wisconsin\\\",\\\"countyCode\\\":\\\"10b-55025\\\",\\\"Title\\\":\\\"Discover Dane County, WI|The Capital Area Regional Planning Commission\\\",\\\"sourceURL\\\":\\\"https://gis-countyofdane.opendata.arcgis.com|https://data-carpc.opendata.arcgis.com\\\",\\\"btaaURL\\\":\\\"https://geo.btaa.org/?q=10b-55025\\\",\\\"totalRecords\\\":14,\\\"Color\\\":\\\"#6497b1\\\"},\\\"type\\\":\\\"MultiPolygon\\\",\\\"arcs\\\":[[[-237,-234,93,-202,94]]],\\\"id\\\":53},{\\\"properties\\\":{\\\"County\\\":\\\"Douglas County\\\",\\\"State\\\":\\\"Wisconsin\\\",\\\"countyCode\\\":\\\"10b-55031\\\",\\\"Title\\\":\\\"Douglas County GIS Download\\\",\\\"sourceURL\\\":\\\"https://www.ci.superior.wi.us/474/Geospatial-Data-GIS\\\",\\\"btaaURL\\\":\\\"https://geo.btaa.org/?q=10b-55031\\\",\\\"totalRecords\\\":1,\\\"Color\\\":\\\"#b3cde0\\\"},\\\"type\\\":\\\"MultiPolygon\\\",\\\"arcs\\\":[[[95,-302,96,97,-369,98]]],\\\"id\\\":54},{\\\"properties\\\":{\\\"County\\\":\\\"Douglas County\\\",\\\"State\\\":\\\"Minnesota\\\",\\\"countyCode\\\":\\\"05b-27041\\\",\\\"Title\\\":\\\"Douglas County Public Works Open Data\\\",\\\"sourceURL\\\":\\\"https://data-dcpw.opendata.arcgis.com/datasets/parcels\\\",\\\"btaaURL\\\":\\\"https://geo.btaa.org/?q=05b-27041\\\",\\\"totalRecords\\\":1,\\\"Color\\\":\\\"#b3cde0\\\"},\\\"type\\\":\\\"MultiPolygon\\\",\\\"arcs\\\":[[[-268,99,-346,-277,-199]]],\\\"id\\\":55},{\\\"properties\\\":{\\\"County\\\":\\\"Clermont County\\\",\\\"State\\\":\\\"Ohio\\\",\\\"countyCode\\\":\\\"11b-39025\\\",\\\"Title\\\":\\\"Download GIS Data for Clermont County, Ohio\\\",\\\"sourceURL\\\":\\\"http://gis.clermontcountyohio.gov/download-gis-data\\\",\\\"btaaURL\\\":\\\"https://geo.btaa.org/?q=11b-39025\\\",\\\"totalRecords\\\":1,\\\"Color\\\":\\\"#b3cde0\\\"},\\\"type\\\":\\\"MultiPolygon\\\",\\\"arcs\\\":[[[-177,100,-326,101,-405]]],\\\"id\\\":56},{\\\"properties\\\":{\\\"County\\\":\\\"Knox County\\\",\\\"State\\\":\\\"Ohio\\\",\\\"countyCode\\\":\\\"11b-39083\\\",\\\"Title\\\":\\\"Downloadable Files from Knox County, Ohio\\\",\\\"sourceURL\\\":\\\"https://co.knox.oh.us/tax-map-and-gis/archive-and-downloads/\\\",\\\"btaaURL\\\":\\\"https://geo.btaa.org/?q=11b-39083\\\",\\\"totalRecords\\\":1,\\\"Color\\\":\\\"#b3cde0\\\"},\\\"type\\\":\\\"MultiPolygon\\\",\\\"arcs\\\":[[[-121,102,-213,103,-184,104]]],\\\"id\\\":57},{\\\"properties\\\":{\\\"County\\\":\\\"Hocking County\\\",\\\"State\\\":\\\"Ohio\\\",\\\"countyCode\\\":\\\"11b-39073\\\",\\\"Title\\\":\\\"Downloadable Maps and Data for Hocking County, Ohio\\\",\\\"sourceURL\\\":\\\"https://hocking.oh.gov/publicmaps/index.php\\\",\\\"btaaURL\\\":\\\"https://geo.btaa.org/?q=11b-39073\\\",\\\"totalRecords\\\":1,\\\"Color\\\":\\\"#b3cde0\\\"},\\\"type\\\":\\\"MultiPolygon\\\",\\\"arcs\\\":[[[-135,-147,105,106,107]]],\\\"id\\\":58},{\\\"properties\\\":{\\\"County\\\":\\\"Crawford County\\\",\\\"State\\\":\\\"Ohio\\\",\\\"countyCode\\\":\\\"11b-39033\\\",\\\"Title\\\":\\\"Downloads for Crawford County, Ohio\\\",\\\"sourceURL\\\":\\\"https://beacon.schneidercorp.com/Application.aspx?AppID=853&LayerID=16691&PageTypeID=16&PageID=7411&Q=291215914\\\",\\\"btaaURL\\\":\\\"https://geo.btaa.org/?q=11b-39033\\\",\\\"totalRecords\\\":27,\\\"Color\\\":\\\"#6497b1\\\"},\\\"type\\\":\\\"MultiPolygon\\\",\\\"arcs\\\":[[[-314,108,-119,109,110]]],\\\"id\\\":59},{\\\"properties\\\":{\\\"County\\\":\\\"DuPage County\\\",\\\"State\\\":\\\"Illinois\\\",\\\"countyCode\\\":\\\"12b-17043\\\",\\\"Title\\\":\\\"DuPage County GIS\\\",\\\"sourceURL\\\":\\\"https://gisdata-dupage.opendata.arcgis.com\\\",\\\"btaaURL\\\":\\\"https://geo.btaa.org/?q=12b-17043\\\",\\\"totalRecords\\\":53,\\\"Color\\\":\\\"#6497b1\\\"},\\\"type\\\":\\\"MultiPolygon\\\",\\\"arcs\\\":[[[111,-394,-228,112]]],\\\"id\\\":60},{\\\"properties\\\":{\\\"County\\\":\\\"Eau Claire County\\\",\\\"State\\\":\\\"Wisconsin\\\",\\\"countyCode\\\":\\\"10b-55035\\\",\\\"Title\\\":\\\"Eau Claire County Geospatial Hub|GIS Divison of Eau Claire County, WI\\\",\\\"sourceURL\\\":\\\"https://hub-eccounty.hub.arcgis.com|https://www.co.eau-claire.wi.us/our-government/departments-and-facilities/department-directory/planning-and-development/gis-division\\\",\\\"btaaURL\\\":\\\"https://geo.btaa.org/?q=10b-55035\\\",\\\"totalRecords\\\":62,\\\"Color\\\":\\\"#6497b1\\\"},\\\"type\\\":\\\"MultiPolygon\\\",\\\"arcs\\\":[[[-356,113,114]]],\\\"id\\\":61},{\\\"properties\\\":{\\\"County\\\":\\\"Logan County\\\",\\\"State\\\":\\\"Ohio\\\",\\\"countyCode\\\":\\\"11b-39091\\\",\\\"Title\\\":\\\"Engineer's Office Maproom FTP for Logan County, Ohio\\\",\\\"sourceURL\\\":\\\"https://www.lceo.us/LOCO_ENG_FTP\\\",\\\"btaaURL\\\":\\\"https://geo.btaa.org/?q=11b-39091\\\",\\\"totalRecords\\\":1,\\\"Color\\\":\\\"#b3cde0\\\"},\\\"type\\\":\\\"MultiPolygon\\\",\\\"arcs\\\":[[[115,116,-365,-140,117]]],\\\"id\\\":62},{\\\"properties\\\":{\\\"County\\\":\\\"Morrow County\\\",\\\"State\\\":\\\"Ohio\\\",\\\"countyCode\\\":\\\"11b-39117\\\",\\\"Title\\\":\\\"Enterprise GIS Data Download Page for Morrow County, Ohio\\\",\\\"sourceURL\\\":\\\"https://www.morrowgis.info/gis-data.html\\\",\\\"btaaURL\\\":\\\"https://geo.btaa.org/?q=11b-39117\\\",\\\"totalRecords\\\":1,\\\"Color\\\":\\\"#b3cde0\\\"},\\\"type\\\":\\\"MultiPolygon\\\",\\\"arcs\\\":[[[118,119,120,121,122]]],\\\"id\\\":63},{\\\"properties\\\":{\\\"County\\\":\\\"Fond du Lac County\\\",\\\"State\\\":\\\"Wisconsin\\\",\\\"countyCode\\\":\\\"10b-55039\\\",\\\"Title\\\":\\\"Fond du Lac County GIS Download\\\",\\\"sourceURL\\\":\\\"https://www.fdlco.wi.gov/departments/departments-f-m/land-information/data-download\\\",\\\"btaaURL\\\":\\\"https://geo.btaa.org/?q=10b-55039\\\",\\\"totalRecords\\\":1,\\\"Color\\\":\\\"#b3cde0\\\"},\\\"type\\\":\\\"MultiPolygon\\\",\\\"arcs\\\":[[[123,-319,-371,124]]],\\\"id\\\":64},{\\\"properties\\\":{\\\"County\\\":\\\"Franklin County\\\",\\\"State\\\":\\\"Ohio\\\",\\\"countyCode\\\":\\\"11b-39049\\\",\\\"Title\\\":\\\"Franklin County Auditor, Ohio Open Data|GIS Shapefiles for Franklin County Auditor, Ohio\\\",\\\"sourceURL\\\":\\\"https://auditor-fca.opendata.arcgis.com|ftp://apps.franklincountyauditor.com\\\",\\\"btaaURL\\\":\\\"https://geo.btaa.org/?q=11b-39049\\\",\\\"totalRecords\\\":65,\\\"Color\\\":\\\"#6497b1\\\"},\\\"type\\\":\\\"MultiPolygon\\\",\\\"arcs\\\":[[[-362,125,-189,-145,-134,-159]]],\\\"id\\\":65},{\\\"properties\\\":{\\\"County\\\":\\\"Frederick County\\\",\\\"State\\\":\\\"Maryland\\\",\\\"countyCode\\\":\\\"04b-24021\\\",\\\"Title\\\":\\\"Frederick County Open Data\\\",\\\"sourceURL\\\":\\\"https://gis-fcgmd.opendata.arcgis.com\\\",\\\"btaaURL\\\":\\\"https://geo.btaa.org/?q=04b-24021\\\",\\\"totalRecords\\\":105,\\\"Color\\\":\\\"#005b96\\\"},\\\"type\\\":\\\"MultiPolygon\\\",\\\"arcs\\\":[[[126,-215,127,128]]],\\\"id\\\":66},{\\\"properties\\\":{\\\"County\\\":\\\"Vilas County\\\",\\\"State\\\":\\\"Wisconsin\\\",\\\"countyCode\\\":\\\"10b-55125\\\",\\\"Title\\\":\\\"Geodata Hub of Vilas County, WI|Vilas County GIS Download\\\",\\\"sourceURL\\\":\\\"https://data-vilas.opendata.arcgis.com|https://data-vilas.opendata.arcgis.com/\\\",\\\"btaaURL\\\":\\\"https://geo.btaa.org/?q=10b-55125\\\",\\\"totalRecords\\\":54,\\\"Color\\\":\\\"#6497b1\\\"},\\\"type\\\":\\\"MultiPolygon\\\",\\\"arcs\\\":[[[-261,129]]],\\\"id\\\":67},{\\\"properties\\\":{\\\"County\\\":\\\"Montgomery County\\\",\\\"State\\\":\\\"Ohio\\\",\\\"countyCode\\\":\\\"11b-39113\\\",\\\"Title\\\":\\\"GeoDataBase Files Downloads for Montgomery County, Ohio\\\",\\\"sourceURL\\\":\\\"http://www.mcauditor.org/downloads/gis_download_geodb.cfm\\\",\\\"btaaURL\\\":\\\"https://geo.btaa.org/?q=11b-39113\\\",\\\"totalRecords\\\":1,\\\"Color\\\":\\\"#b3cde0\\\"},\\\"type\\\":\\\"MultiPolygon\\\",\\\"arcs\\\":[[[130,131,-174,132,-170]]],\\\"id\\\":68},{\\\"properties\\\":{\\\"County\\\":\\\"Pickaway County\\\",\\\"State\\\":\\\"Ohio\\\",\\\"countyCode\\\":\\\"11b-39129\\\",\\\"Title\\\":\\\"GIS and Map Data Downloads for Pickaway County, Ohio\\\",\\\"sourceURL\\\":\\\"https://www.pickaway.org/GIS_files/GIS.htm\\\",\\\"btaaURL\\\":\\\"https://geo.btaa.org/?q=11b-39129\\\",\\\"totalRecords\\\":1,\\\"Color\\\":\\\"#b3cde0\\\"},\\\"type\\\":\\\"MultiPolygon\\\",\\\"arcs\\\":[[[-160,133,-148,134,135]]],\\\"id\\\":69},{\\\"properties\\\":{\\\"County\\\":\\\"Lake County\\\",\\\"State\\\":\\\"Ohio\\\",\\\"countyCode\\\":\\\"11b-39085\\\",\\\"Title\\\":\\\"GIS Data Download for Lake County, Ohio\\\",\\\"sourceURL\\\":\\\"https://www.lakegis.org/GIS-Home/GIS-Data-Download\\\",\\\"btaaURL\\\":\\\"https://geo.btaa.org/?q=11b-39085\\\",\\\"totalRecords\\\":1,\\\"Color\\\":\\\"#b3cde0\\\"},\\\"type\\\":\\\"MultiPolygon\\\",\\\"arcs\\\":[[[136,137,-149,138]]],\\\"id\\\":70},{\\\"properties\\\":{\\\"County\\\":\\\"Champaign County\\\",\\\"State\\\":\\\"Ohio\\\",\\\"countyCode\\\":\\\"11b-39021\\\",\\\"Title\\\":\\\"GIS Data Downloads for Champaign County, Ohio\\\",\\\"sourceURL\\\":\\\"https://downloads.ddti.net/champaignoh\\\",\\\"btaaURL\\\":\\\"https://geo.btaa.org/?q=11b-39021\\\",\\\"totalRecords\\\":17,\\\"Color\\\":\\\"#6497b1\\\"},\\\"type\\\":\\\"MultiPolygon\\\",\\\"arcs\\\":[[[139,-364,-158,140]]],\\\"id\\\":71},{\\\"properties\\\":{\\\"County\\\":\\\"Erie County\\\",\\\"State\\\":\\\"Ohio\\\",\\\"countyCode\\\":\\\"11b-39043\\\",\\\"Title\\\":\\\"GIS Data Downloads for Erie County, Ohio\\\",\\\"sourceURL\\\":\\\"https://downloads.ddti.net/erieoh\\\",\\\"btaaURL\\\":\\\"https://geo.btaa.org/?q=11b-39043\\\",\\\"totalRecords\\\":57,\\\"Color\\\":\\\"#6497b1\\\"},\\\"type\\\":\\\"MultiPolygon\\\",\\\"arcs\\\":[[[141,142,-246,143]]],\\\"id\\\":72},{\\\"properties\\\":{\\\"County\\\":\\\"Fairfield County\\\",\\\"State\\\":\\\"Ohio\\\",\\\"countyCode\\\":\\\"11b-39045\\\",\\\"Title\\\":\\\"GIS Data Downloads for Fairfield County Auditor's Office, Ohio\\\",\\\"sourceURL\\\":\\\"https://www.co.fairfield.oh.us/gis\\\",\\\"btaaURL\\\":\\\"https://geo.btaa.org/?q=11b-39045\\\",\\\"totalRecords\\\":36,\\\"Color\\\":\\\"#6497b1\\\"},\\\"type\\\":\\\"MultiPolygon\\\",\\\"arcs\\\":[[[144,-188,145,146,147]]],\\\"id\\\":73},{\\\"properties\\\":{\\\"County\\\":\\\"Geauga County\\\",\\\"State\\\":\\\"Ohio\\\",\\\"countyCode\\\":\\\"11b-39055\\\",\\\"Title\\\":\\\"GIS Data Downloads for Geauga County Auditor, Ohio\\\",\\\"sourceURL\\\":\\\"http://www.auditor.co.geauga.oh.us/GIS/Downloads\\\",\\\"btaaURL\\\":\\\"https://geo.btaa.org/?q=11b-39055\\\",\\\"totalRecords\\\":51,\\\"Color\\\":\\\"#6497b1\\\"},\\\"type\\\":\\\"MultiPolygon\\\",\\\"arcs\\\":[[[148,149,150,-168,151]]],\\\"id\\\":74},{\\\"properties\\\":{\\\"County\\\":\\\"Hancock County\\\",\\\"State\\\":\\\"Ohio\\\",\\\"countyCode\\\":\\\"11b-39063\\\",\\\"Title\\\":\\\"GIS Data Downloads for Hancock County, Ohio\\\",\\\"sourceURL\\\":\\\"https://downloads.ddti.net/hancockoh\\\",\\\"btaaURL\\\":\\\"https://geo.btaa.org/?q=11b-39063\\\",\\\"totalRecords\\\":1,\\\"Color\\\":\\\"#b3cde0\\\"},\\\"type\\\":\\\"MultiPolygon\\\",\\\"arcs\\\":[[[152,-316,153,154,-192]]],\\\"id\\\":75},{\\\"properties\\\":{\\\"County\\\":\\\"Lawrence County\\\",\\\"State\\\":\\\"Ohio\\\",\\\"countyCode\\\":\\\"11b-39087\\\",\\\"Title\\\":\\\"GIS Data Downloads for Lawrence County, Ohio\\\",\\\"sourceURL\\\":\\\"https://downloads.ddti.net/lawrenceoh\\\",\\\"btaaURL\\\":\\\"https://geo.btaa.org/?q=11b-39087\\\",\\\"totalRecords\\\":1,\\\"Color\\\":\\\"#b3cde0\\\"},\\\"type\\\":\\\"MultiPolygon\\\",\\\"arcs\\\":[[[155]]],\\\"id\\\":76},{\\\"properties\\\":{\\\"County\\\":\\\"Madison County\\\",\\\"State\\\":\\\"Ohio\\\",\\\"countyCode\\\":\\\"11b-39097\\\",\\\"Title\\\":\\\"GIS Data Downloads for Madison County, Ohio\\\",\\\"sourceURL\\\":\\\"https://downloads.ddti.net/madisonoh\\\",\\\"btaaURL\\\":\\\"https://geo.btaa.org/?q=11b-39097\\\",\\\"totalRecords\\\":1,\\\"Color\\\":\\\"#b3cde0\\\"},\\\"type\\\":\\\"MultiPolygon\\\",\\\"arcs\\\":[[[156,157,-363,158,159,160,161]]],\\\"id\\\":77},{\\\"properties\\\":{\\\"County\\\":\\\"Medina County\\\",\\\"State\\\":\\\"Ohio\\\",\\\"countyCode\\\":\\\"11b-39103\\\",\\\"Title\\\":\\\"GIS Data Downloads for Medina County, Ohio\\\",\\\"sourceURL\\\":\\\"http://www.gisdata.co.medina.oh.us\\\",\\\"btaaURL\\\":\\\"https://geo.btaa.org/?q=11b-39103\\\",\\\"totalRecords\\\":1,\\\"Color\\\":\\\"#b3cde0\\\"},\\\"type\\\":\\\"MultiPolygon\\\",\\\"arcs\\\":[[[-244,162,-351,163]]],\\\"id\\\":78},{\\\"properties\\\":{\\\"County\\\":\\\"Milwaukee County\\\",\\\"State\\\":\\\"Wisconsin\\\",\\\"countyCode\\\":\\\"10b-55079\\\",\\\"Title\\\":\\\"GIS Data Downloads for Milwaukee County, WI|Milwaukee County GIS Download\\\",\\\"sourceURL\\\":\\\"https://county.milwaukee.gov/EN/Administrative-Services/Land-Information-Office/GIS-Data-Downloads|https://gis-mclio.opendata.arcgis.com/\\\",\\\"btaaURL\\\":\\\"https://geo.btaa.org/?q=10b-55079\\\",\\\"totalRecords\\\":120,\\\"Color\\\":\\\"#005b96\\\"},\\\"type\\\":\\\"MultiPolygon\\\",\\\"arcs\\\":[[[164,-292,-378]]],\\\"id\\\":79},{\\\"properties\\\":{\\\"County\\\":\\\"Muskingum County\\\",\\\"State\\\":\\\"Ohio\\\",\\\"countyCode\\\":\\\"11b-39119\\\",\\\"Title\\\":\\\"GIS Data Downloads for Muskingum County, Ohio\\\",\\\"sourceURL\\\":\\\"https://downloads.ddti.net/muskingumoh\\\",\\\"btaaURL\\\":\\\"https://geo.btaa.org/?q=11b-39119\\\",\\\"totalRecords\\\":1,\\\"Color\\\":\\\"#b3cde0\\\"},\\\"type\\\":\\\"MultiPolygon\\\",\\\"arcs\\\":[[[165,166,-186]]],\\\"id\\\":80},{\\\"properties\\\":{\\\"County\\\":\\\"Portage County\\\",\\\"State\\\":\\\"Ohio\\\",\\\"countyCode\\\":\\\"11b-39133\\\",\\\"Title\\\":\\\"GIS Data Downloads for Portage County, Ohio\\\",\\\"sourceURL\\\":\\\"https://www.co.portage.oh.us/geographic-information-systems/pages/data-downloads\\\",\\\"btaaURL\\\":\\\"https://geo.btaa.org/?q=11b-39133\\\",\\\"totalRecords\\\":1,\\\"Color\\\":\\\"#b3cde0\\\"},\\\"type\\\":\\\"MultiPolygon\\\",\\\"arcs\\\":[[[167,168,-290,-336,-348]]],\\\"id\\\":81},{\\\"properties\\\":{\\\"County\\\":\\\"Preble County\\\",\\\"State\\\":\\\"Ohio\\\",\\\"countyCode\\\":\\\"11b-39135\\\",\\\"Title\\\":\\\"GIS Data Downloads for Preble County, Ohio\\\",\\\"sourceURL\\\":\\\"https://downloads.ddti.net/prebleoh\\\",\\\"btaaURL\\\":\\\"https://geo.btaa.org/?q=11b-39135\\\",\\\"totalRecords\\\":1,\\\"Color\\\":\\\"#b3cde0\\\"},\\\"type\\\":\\\"MultiPolygon\\\",\\\"arcs\\\":[[[169,170,171]]],\\\"id\\\":82},{\\\"properties\\\":{\\\"County\\\":\\\"Queen Anne's County\\\",\\\"State\\\":\\\"Maryland\\\",\\\"countyCode\\\":\\\"04b-24035\\\",\\\"Title\\\":\\\"GIS Data Downloads for Queen Anne's County, Maryland\\\",\\\"sourceURL\\\":\\\"http://www.qac.org/912/GIS-Data-Download\\\",\\\"btaaURL\\\":\\\"https://geo.btaa.org/?q=04b-24035\\\",\\\"totalRecords\\\":58,\\\"Color\\\":\\\"#6497b1\\\"},\\\"type\\\":\\\"MultiPolygon\\\",\\\"arcs\\\":[[[172]]],\\\"id\\\":83},{\\\"properties\\\":{\\\"County\\\":\\\"Warren County\\\",\\\"State\\\":\\\"Ohio\\\",\\\"countyCode\\\":\\\"11b-39165\\\",\\\"Title\\\":\\\"GIS Data Downloads for Warren County, Ohio\\\",\\\"sourceURL\\\":\\\"https://www.co.warren.oh.us/warrengis/\\\",\\\"btaaURL\\\":\\\"https://geo.btaa.org/?q=11b-39165\\\",\\\"totalRecords\\\":1,\\\"Color\\\":\\\"#b3cde0\\\"},\\\"type\\\":\\\"MultiPolygon\\\",\\\"arcs\\\":[[[173,174,175,176,-404,177]]],\\\"id\\\":84},{\\\"properties\\\":{\\\"County\\\":\\\"Washington County\\\",\\\"State\\\":\\\"Ohio\\\",\\\"countyCode\\\":\\\"11b-39167\\\",\\\"Title\\\":\\\"GIS Data Downloads for Washington County, Ohio\\\",\\\"sourceURL\\\":\\\"https://downloads.ddti.net/washingtonoh\\\",\\\"btaaURL\\\":\\\"https://geo.btaa.org/?q=11b-39167\\\",\\\"totalRecords\\\":1,\\\"Color\\\":\\\"#b3cde0\\\"},\\\"type\\\":\\\"MultiPolygon\\\",\\\"arcs\\\":[[[178,179]]],\\\"id\\\":85},{\\\"properties\\\":{\\\"County\\\":\\\"Tuscarawas County\\\",\\\"State\\\":\\\"Ohio\\\",\\\"countyCode\\\":\\\"11b-39157\\\",\\\"Title\\\":\\\"GIS Data Store for Tuscarawas County, Ohio\\\",\\\"sourceURL\\\":\\\"https://www.co.tuscarawas.oh.us/GIS\\\",\\\"btaaURL\\\":\\\"https://geo.btaa.org/?q=11b-39157\\\",\\\"totalRecords\\\":1,\\\"Color\\\":\\\"#b3cde0\\\"},\\\"type\\\":\\\"MultiPolygon\\\",\\\"arcs\\\":[[[-211,-339,180,181]]],\\\"id\\\":86},{\\\"properties\\\":{\\\"County\\\":\\\"Licking County\\\",\\\"State\\\":\\\"Ohio\\\",\\\"countyCode\\\":\\\"11b-39089\\\",\\\"Title\\\":\\\"GIS Downloads for Licking County, Ohio\\\",\\\"sourceURL\\\":\\\"https://www.lcounty.com/gis_downloads/default.htm\\\",\\\"btaaURL\\\":\\\"https://geo.btaa.org/?q=11b-39089\\\",\\\"totalRecords\\\":6,\\\"Color\\\":\\\"#6497b1\\\"},\\\"type\\\":\\\"MultiPolygon\\\",\\\"arcs\\\":[[[182,183,184,185,186,187,188]]],\\\"id\\\":87},{\\\"properties\\\":{\\\"County\\\":\\\"Putnam County\\\",\\\"State\\\":\\\"Ohio\\\",\\\"countyCode\\\":\\\"11b-39137\\\",\\\"Title\\\":\\\"GIS Downloads for Putnam County, Ohio\\\",\\\"sourceURL\\\":\\\"http://www.putnamcountygis.com/Downloads/\\\",\\\"btaaURL\\\":\\\"https://geo.btaa.org/?q=11b-39137\\\",\\\"totalRecords\\\":1,\\\"Color\\\":\\\"#b3cde0\\\"},\\\"type\\\":\\\"MultiPolygon\\\",\\\"arcs\\\":[[[189,190,191,192,193]]],\\\"id\\\":88},{\\\"properties\\\":{\\\"County\\\":\\\"Outagamie County\\\",\\\"State\\\":\\\"Wisconsin\\\",\\\"countyCode\\\":\\\"10b-55087\\\",\\\"Title\\\":\\\"GIS Maps and Property Information for Outagamie County, WI|Outagamie County GIS Download\\\",\\\"sourceURL\\\":\\\"https://www.outagamie.org/government/departments-a-e/development-and-land-services/gis-land-information|https://data-ocgis.opendata.arcgis.com/\\\",\\\"btaaURL\\\":\\\"https://geo.btaa.org/?q=10b-55087\\\",\\\"totalRecords\\\":52,\\\"Color\\\":\\\"#6497b1\\\"},\\\"type\\\":\\\"MultiPolygon\\\",\\\"arcs\\\":[[[194,195,196,197,-383]]],\\\"id\\\":89},{\\\"properties\\\":{\\\"County\\\":\\\"Grant County\\\",\\\"State\\\":\\\"Minnesota\\\",\\\"countyCode\\\":\\\"05b-27051\\\",\\\"Title\\\":\\\"Grant County Open GIS Data\\\",\\\"sourceURL\\\":\\\"https://share-co-grant-mn-us.opendata.arcgis.com/\\\",\\\"btaaURL\\\":\\\"https://geo.btaa.org/?q=05b-27051\\\",\\\"totalRecords\\\":32,\\\"Color\\\":\\\"#6497b1\\\"},\\\"type\\\":\\\"MultiPolygon\\\",\\\"arcs\\\":[[[-269,198,199,-352,-391]]],\\\"id\\\":90},{\\\"properties\\\":{\\\"County\\\":\\\"Grant County\\\",\\\"State\\\":\\\"Wisconsin\\\",\\\"countyCode\\\":\\\"10b-55043\\\",\\\"Title\\\":\\\"Grant County Web Portal\\\",\\\"sourceURL\\\":\\\"http://www.grantcountylandrecords.com/GCSWebPortal/Search.aspx\\\",\\\"btaaURL\\\":\\\"https://geo.btaa.org/?q=10b-55043\\\",\\\"totalRecords\\\":1,\\\"Color\\\":\\\"#b3cde0\\\"},\\\"type\\\":\\\"MultiPolygon\\\",\\\"arcs\\\":[[[200]]],\\\"id\\\":91},{\\\"properties\\\":{\\\"County\\\":\\\"Green County\\\",\\\"State\\\":\\\"Wisconsin\\\",\\\"countyCode\\\":\\\"10b-55045\\\",\\\"Title\\\":\\\"Green County GIS Download\\\",\\\"sourceURL\\\":\\\"https://wi-greencounty.civicplus.com/179/Downloadable-GIS-Data-Forms\\\",\\\"btaaURL\\\":\\\"https://geo.btaa.org/?q=10b-55045\\\",\\\"totalRecords\\\":1,\\\"Color\\\":\\\"#b3cde0\\\"},\\\"type\\\":\\\"MultiPolygon\\\",\\\"arcs\\\":[[[201,202]]],\\\"id\\\":92},{\\\"properties\\\":{\\\"County\\\":\\\"Hamilton County\\\",\\\"State\\\":\\\"Indiana\\\",\\\"countyCode\\\":\\\"01b-18057\\\",\\\"Title\\\":\\\"Hamilton County GIS Portal\\\",\\\"sourceURL\\\":\\\"https://gis1.hamiltoncounty.in.gov/portal/home\\\",\\\"btaaURL\\\":\\\"https://geo.btaa.org/?q=01b-18057\\\",\\\"totalRecords\\\":11,\\\"Color\\\":\\\"#6497b1\\\"},\\\"type\\\":\\\"MultiPolygon\\\",\\\"arcs\\\":[[[203]]],\\\"id\\\":93},{\\\"properties\\\":{\\\"County\\\":\\\"Harford County\\\",\\\"State\\\":\\\"Maryland\\\",\\\"countyCode\\\":\\\"04b-24025\\\",\\\"Title\\\":\\\"Harford County Planning and Zoning Open GIS\\\",\\\"sourceURL\\\":\\\"https://planning-harfordgis.opendata.arcgis.com\\\",\\\"btaaURL\\\":\\\"https://geo.btaa.org/?q=04b-24025\\\",\\\"totalRecords\\\":0,\\\"Color\\\":\\\"#b3cde0\\\"},\\\"type\\\":\\\"MultiPolygon\\\",\\\"arcs\\\":[[[204,205]]],\\\"id\\\":94},{\\\"properties\\\":{\\\"County\\\":\\\"Hennepin County\\\",\\\"State\\\":\\\"Minnesota\\\",\\\"countyCode\\\":\\\"05b-27053\\\",\\\"Title\\\":\\\"Hennepin County GIS Data\\\",\\\"sourceURL\\\":\\\"https://gis-hennepin.hub.arcgis.com/pages/open-data\\\",\\\"btaaURL\\\":\\\"https://geo.btaa.org/?q=05b-27053\\\",\\\"totalRecords\\\":29,\\\"Color\\\":\\\"#6497b1\\\"},\\\"type\\\":\\\"MultiPolygon\\\",\\\"arcs\\\":[[[206,-324,207,-296,208,-310,209]]],\\\"id\\\":95},{\\\"properties\\\":{\\\"County\\\":\\\"Holmes County\\\",\\\"State\\\":\\\"Ohio\\\",\\\"countyCode\\\":\\\"11b-39075\\\",\\\"Title\\\":\\\"Holmes County Public GIS Downloads\\\",\\\"sourceURL\\\":\\\"https://www.co.holmes.oh.us/gis-overview\\\",\\\"btaaURL\\\":\\\"https://geo.btaa.org/?q=11b-39075\\\",\\\"totalRecords\\\":1,\\\"Color\\\":\\\"#b3cde0\\\"},\\\"type\\\":\\\"MultiPolygon\\\",\\\"arcs\\\":[[[-340,210,211,212,213]]],\\\"id\\\":96},{\\\"properties\\\":{\\\"County\\\":\\\"Howard County\\\",\\\"State\\\":\\\"Maryland\\\",\\\"countyCode\\\":\\\"04b-24027\\\",\\\"Title\\\":\\\"Howard County Open Data\\\",\\\"sourceURL\\\":\\\"https://data.howardcountymd.gov\\\",\\\"btaaURL\\\":\\\"https://geo.btaa.org/?q=04b-24027\\\",\\\"totalRecords\\\":200,\\\"Color\\\":\\\"#005b96\\\"},\\\"type\\\":\\\"MultiPolygon\\\",\\\"arcs\\\":[[[214,215,216,217,-286,218]]],\\\"id\\\":97},{\\\"properties\\\":{\\\"County\\\":\\\"Hubbard County\\\",\\\"State\\\":\\\"Minnesota\\\",\\\"countyCode\\\":\\\"05b-27057\\\",\\\"Title\\\":\\\"Hubbard County Open Geospatial Data\\\",\\\"sourceURL\\\":\\\"https://getdata-hubbardcounty.opendata.arcgis.com\\\",\\\"btaaURL\\\":\\\"https://geo.btaa.org/?q=05b-27057\\\",\\\"totalRecords\\\":1,\\\"Color\\\":\\\"#b3cde0\\\"},\\\"type\\\":\\\"MultiPolygon\\\",\\\"arcs\\\":[[[219,220,221,222]]],\\\"id\\\":98},{\\\"properties\\\":{\\\"County\\\":\\\"Isanti County\\\",\\\"State\\\":\\\"Minnesota\\\",\\\"countyCode\\\":\\\"05b-27059\\\",\\\"Title\\\":\\\"Isanti County GIS Data\\\",\\\"sourceURL\\\":\\\"https://www.co.isanti.mn.us/175/Geographic-Information-Systems-GIS\\\",\\\"btaaURL\\\":\\\"https://geo.btaa.org/?q=05b-27059\\\",\\\"totalRecords\\\":1,\\\"Color\\\":\\\"#b3cde0\\\"},\\\"type\\\":\\\"MultiPolygon\\\",\\\"arcs\\\":[[[223,224,-322,225]]],\\\"id\\\":99},{\\\"properties\\\":{\\\"County\\\":\\\"Kankakee County\\\",\\\"State\\\":\\\"Illinois\\\",\\\"countyCode\\\":\\\"02b-17091\\\",\\\"Title\\\":\\\"Kankakee County GIS\\\",\\\"sourceURL\\\":\\\"http://www.k3gis.com\\\",\\\"btaaURL\\\":\\\"https://geo.btaa.org/?q=02b-17091\\\",\\\"totalRecords\\\":1,\\\"Color\\\":\\\"#b3cde0\\\"},\\\"type\\\":\\\"MultiPolygon\\\",\\\"arcs\\\":[[[-397,226]]],\\\"id\\\":100},{\\\"properties\\\":{\\\"County\\\":\\\"Kendall County\\\",\\\"State\\\":\\\"Illinois\\\",\\\"countyCode\\\":\\\"02b-17093\\\",\\\"Title\\\":\\\"Kendall County GIS\\\",\\\"sourceURL\\\":\\\"https://www.kendallcountyil.gov/departments/geographic-information-systems\\\",\\\"btaaURL\\\":\\\"https://geo.btaa.org/?q=02b-17093\\\",\\\"totalRecords\\\":1,\\\"Color\\\":\\\"#b3cde0\\\"},\\\"type\\\":\\\"MultiPolygon\\\",\\\"arcs\\\":[[[227,-399,228]]],\\\"id\\\":101},{\\\"properties\\\":{\\\"County\\\":\\\"Lake County\\\",\\\"State\\\":\\\"Illinois\\\",\\\"countyCode\\\":\\\"12b-17097\\\",\\\"Title\\\":\\\"Lake County Illinois Open Data Portal\\\",\\\"sourceURL\\\":\\\"https://data-lakecountyil.opendata.arcgis.com\\\",\\\"btaaURL\\\":\\\"https://geo.btaa.org/?q=12b-17097\\\",\\\"totalRecords\\\":161,\\\"Color\\\":\\\"#005b96\\\"},\\\"type\\\":\\\"MultiPolygon\\\",\\\"arcs\\\":[[[229,230,231,232]]],\\\"id\\\":102},{\\\"properties\\\":{\\\"County\\\":\\\"Columbia County\\\",\\\"State\\\":\\\"Wisconsin\\\",\\\"countyCode\\\":\\\"10b-55021\\\",\\\"Title\\\":\\\"Land Information Department of Columbia County, WI|Land Records Data Portal of Columbia County, WI\\\",\\\"sourceURL\\\":\\\"https://www.co.columbia.wi.us/columbiacounty/landinformation/LandInformation/tabid/757/Default.aspx|https://opendata-cclid.opendata.arcgis.com\\\",\\\"btaaURL\\\":\\\"https://geo.btaa.org/?q=10b-55021\\\",\\\"totalRecords\\\":120,\\\"Color\\\":\\\"#005b96\\\"},\\\"type\\\":\\\"MultiPolygon\\\",\\\"arcs\\\":[[[233,-236,234]]],\\\"id\\\":103},{\\\"properties\\\":{\\\"County\\\":\\\"Sauk County\\\",\\\"State\\\":\\\"Wisconsin\\\",\\\"countyCode\\\":\\\"10b-55111\\\",\\\"Title\\\":\\\"Land Information of Sauk County, WI|Sauk County GIS Download\\\",\\\"sourceURL\\\":\\\"https://www.co.sauk.wi.us/landinformation|https://data.saukgis.opendata.arcgis.com/\\\",\\\"btaaURL\\\":\\\"https://geo.btaa.org/?q=10b-55111\\\",\\\"totalRecords\\\":114,\\\"Color\\\":\\\"#005b96\\\"},\\\"type\\\":\\\"MultiPolygon\\\",\\\"arcs\\\":[[[235,236,237]]],\\\"id\\\":104},{\\\"properties\\\":{\\\"County\\\":\\\"Lincoln County\\\",\\\"State\\\":\\\"Wisconsin\\\",\\\"countyCode\\\":\\\"10b-55069\\\",\\\"Title\\\":\\\"Lincoln County GIS Download\\\",\\\"sourceURL\\\":\\\"https://maps.co.lincoln.wi.us/webapps/gisportal/data.html\\\",\\\"btaaURL\\\":\\\"https://geo.btaa.org/?q=10b-55069\\\",\\\"totalRecords\\\":1,\\\"Color\\\":\\\"#b3cde0\\\"},\\\"type\\\":\\\"MultiPolygon\\\",\\\"arcs\\\":[[[-263,238,-248,239]]],\\\"id\\\":105},{\\\"properties\\\":{\\\"County\\\":\\\"Linn County\\\",\\\"State\\\":\\\"Iowa\\\",\\\"countyCode\\\":\\\"03b-19113\\\",\\\"Title\\\":\\\"Linn County, Iowa Open Data Portal\\\",\\\"sourceURL\\\":\\\"http://opendata-linncounty-gis.opendata.arcgis.com\\\",\\\"btaaURL\\\":\\\"https://geo.btaa.org/?q=03b-19113\\\",\\\"totalRecords\\\":70,\\\"Color\\\":\\\"#6497b1\\\"},\\\"type\\\":\\\"MultiPolygon\\\",\\\"arcs\\\":[[[240]]],\\\"id\\\":106},{\\\"properties\\\":{\\\"County\\\":\\\"Lorain County\\\",\\\"State\\\":\\\"Ohio\\\",\\\"countyCode\\\":\\\"11b-39093\\\",\\\"Title\\\":\\\"Lorain County GIS Data\\\",\\\"sourceURL\\\":\\\"https://data-loraingis.opendata.arcgis.com\\\",\\\"btaaURL\\\":\\\"https://geo.btaa.org/?q=11b-39093\\\",\\\"totalRecords\\\":96,\\\"Color\\\":\\\"#005b96\\\"},\\\"type\\\":\\\"MultiPolygon\\\",\\\"arcs\\\":[[[241,242,243,244,245]]],\\\"id\\\":107},{\\\"properties\\\":{\\\"County\\\":\\\"Macoupin County\\\",\\\"State\\\":\\\"Illinois\\\",\\\"countyCode\\\":\\\"02b-17117\\\",\\\"Title\\\":\\\"Macoupin Data\\\",\\\"sourceURL\\\":\\\"https://data.macoupincountyil.gov/\\\",\\\"btaaURL\\\":\\\"https://geo.btaa.org/?q=02b-17117\\\",\\\"totalRecords\\\":18,\\\"Color\\\":\\\"#6497b1\\\"},\\\"type\\\":\\\"MultiPolygon\\\",\\\"arcs\\\":[[[246]]],\\\"id\\\":108},{\\\"properties\\\":{\\\"County\\\":\\\"Marathon County\\\",\\\"State\\\":\\\"Wisconsin\\\",\\\"countyCode\\\":\\\"10b-55073\\\",\\\"Title\\\":\\\"Marathon County GIS Download\\\",\\\"sourceURL\\\":\\\"https://www.co.marathon.wi.us/Departments/ConservationPlanningZoning/GEOServices/GeographicInformationSystem%28GIS%29/GISData.aspx\\\",\\\"btaaURL\\\":\\\"https://geo.btaa.org/?q=10b-55073\\\",\\\"totalRecords\\\":1,\\\"Color\\\":\\\"#b3cde0\\\"},\\\"type\\\":\\\"MultiPolygon\\\",\\\"arcs\\\":[[[247,248,-279,-400,249]]],\\\"id\\\":109},{\\\"properties\\\":{\\\"County\\\":\\\"Mason County\\\",\\\"State\\\":\\\"Illinois\\\",\\\"countyCode\\\":\\\"02b-17125\\\",\\\"Title\\\":\\\"Mason County, Department of Assessment\\\",\\\"sourceURL\\\":\\\"https://www.masoncountyil.org/assessment.htm\\\",\\\"btaaURL\\\":\\\"https://geo.btaa.org/?q=02b-17125\\\",\\\"totalRecords\\\":1,\\\"Color\\\":\\\"#b3cde0\\\"},\\\"type\\\":\\\"MultiPolygon\\\",\\\"arcs\\\":[[[250]]],\\\"id\\\":110},{\\\"properties\\\":{\\\"County\\\":\\\"McLean County\\\",\\\"State\\\":\\\"Illinois\\\",\\\"countyCode\\\":\\\"12b-17113-2\\\",\\\"Title\\\":\\\"McLean County GIS|McLean County GIS Consortium Open Data\\\",\\\"sourceURL\\\":\\\"http://mcggis.maps.arcgis.com/home/index.html|http://www.mcgis.org/\\\",\\\"btaaURL\\\":\\\"https://geo.btaa.org/?q=12b-17113-2\\\",\\\"totalRecords\\\":24,\\\"Color\\\":\\\"#6497b1\\\"},\\\"type\\\":\\\"MultiPolygon\\\",\\\"arcs\\\":[[[251]]],\\\"id\\\":111},{\\\"properties\\\":{\\\"County\\\":\\\"McLeod County\\\",\\\"State\\\":\\\"Minnesota\\\",\\\"countyCode\\\":\\\"05b-27085\\\",\\\"Title\\\":\\\"McLeod County GIS Data Downloads\\\",\\\"sourceURL\\\":\\\"https://www.mcleodcountymn.gov/departments/public_works/gis_(mapping___surveying)/index.php\\\",\\\"btaaURL\\\":\\\"https://geo.btaa.org/?q=05b-27085\\\",\\\"totalRecords\\\":9,\\\"Color\\\":\\\"#6497b1\\\"},\\\"type\\\":\\\"MultiPolygon\\\",\\\"arcs\\\":[[[252,253,-299,254]]],\\\"id\\\":112},{\\\"properties\\\":{\\\"County\\\":\\\"Montgomery County\\\",\\\"State\\\":\\\"Pennsylvania\\\",\\\"countyCode\\\":\\\"08b-42091\\\",\\\"Title\\\":\\\"Montgomery County Open Data\\\",\\\"sourceURL\\\":\\\"https://data-montcopa.opendata.arcgis.com\\\",\\\"btaaURL\\\":\\\"https://geo.btaa.org/?q=08b-42091\\\",\\\"totalRecords\\\":1802,\\\"Color\\\":\\\"#011f4b\\\"},\\\"type\\\":\\\"MultiPolygon\\\",\\\"arcs\\\":[[[255,256]]],\\\"id\\\":113},{\\\"properties\\\":{\\\"County\\\":\\\"Mower County\\\",\\\"State\\\":\\\"Minnesota\\\",\\\"countyCode\\\":\\\"05b-27099\\\",\\\"Title\\\":\\\"Mower County Open GIS Data\\\",\\\"sourceURL\\\":\\\"https://geospatial-hub-mowercountymn.hub.arcgis.com/pages/open-data\\\",\\\"btaaURL\\\":\\\"https://geo.btaa.org/?q=05b-27099\\\",\\\"totalRecords\\\":1,\\\"Color\\\":\\\"#b3cde0\\\"},\\\"type\\\":\\\"MultiPolygon\\\",\\\"arcs\\\":[[[257]]],\\\"id\\\":114},{\\\"properties\\\":{\\\"County\\\":\\\"Oakland County\\\",\\\"State\\\":\\\"Michigan\\\",\\\"countyCode\\\":\\\"06b-26125\\\",\\\"Title\\\":\\\"Oakland County, MI Open data\\\",\\\"sourceURL\\\":\\\"http://accessoakland.oakgov.com\\\",\\\"btaaURL\\\":\\\"https://geo.btaa.org/?q=06b-26125\\\",\\\"totalRecords\\\":247,\\\"Color\\\":\\\"#005b96\\\"},\\\"type\\\":\\\"MultiPolygon\\\",\\\"arcs\\\":[[[-375,258]]],\\\"id\\\":115},{\\\"properties\\\":{\\\"County\\\":\\\"Douglas County\\\",\\\"State\\\":\\\"Nebraska\\\",\\\"countyCode\\\":\\\"13b-31055\\\",\\\"Title\\\":\\\"Omaha/Douglas County GIS Open Data Portal\\\",\\\"sourceURL\\\":\\\"https://data-dogis.opendata.arcgis.com/\\\",\\\"btaaURL\\\":\\\"https://geo.btaa.org/?q=13b-31055\\\",\\\"totalRecords\\\":20,\\\"Color\\\":\\\"#6497b1\\\"},\\\"type\\\":\\\"MultiPolygon\\\",\\\"arcs\\\":[[[-283,-305,259]]],\\\"id\\\":116},{\\\"properties\\\":{\\\"County\\\":\\\"Oneida County\\\",\\\"State\\\":\\\"Wisconsin\\\",\\\"countyCode\\\":\\\"10b-55085\\\",\\\"Title\\\":\\\"Oneida County GIS Download\\\",\\\"sourceURL\\\":\\\"https://oneida.ncwrpc.info/\\\",\\\"btaaURL\\\":\\\"https://geo.btaa.org/?q=10b-55085\\\",\\\"totalRecords\\\":1,\\\"Color\\\":\\\"#b3cde0\\\"},\\\"type\\\":\\\"MultiPolygon\\\",\\\"arcs\\\":[[[260,261,262,263]]],\\\"id\\\":117},{\\\"properties\\\":{\\\"County\\\":\\\"Otter Tail County\\\",\\\"State\\\":\\\"Minnesota\\\",\\\"countyCode\\\":\\\"05b-27111\\\",\\\"Title\\\":\\\"Otter Tail County GIS Data Downloads\\\",\\\"sourceURL\\\":\\\"https://ottertailcountymn.us/content-page/gis-shapefile-downloads\\\",\\\"btaaURL\\\":\\\"https://geo.btaa.org/?q=05b-27111\\\",\\\"totalRecords\\\":11,\\\"Color\\\":\\\"#6497b1\\\"},\\\"type\\\":\\\"MultiPolygon\\\",\\\"arcs\\\":[[[264,265,266,267,268,-390]]],\\\"id\\\":118},{\\\"properties\\\":{\\\"County\\\":\\\"Peoria County\\\",\\\"State\\\":\\\"Illinois\\\",\\\"countyCode\\\":\\\"12b-17143\\\",\\\"Title\\\":\\\"Peoria County GIS Open Data Portal\\\",\\\"sourceURL\\\":\\\"https://data-peoriacountygis.opendata.arcgis.com\\\",\\\"btaaURL\\\":\\\"https://geo.btaa.org/?q=12b-17143\\\",\\\"totalRecords\\\":81,\\\"Color\\\":\\\"#6497b1\\\"},\\\"type\\\":\\\"MultiPolygon\\\",\\\"arcs\\\":[[[269]]],\\\"id\\\":119},{\\\"properties\\\":{\\\"County\\\":\\\"Pierce County\\\",\\\"State\\\":\\\"Wisconsin\\\",\\\"countyCode\\\":\\\"10b-55093\\\",\\\"Title\\\":\\\"Pierce County GIS Open Data Portal\\\",\\\"sourceURL\\\":\\\"https://data-piercecounty-wi.hub.arcgis.com\\\",\\\"btaaURL\\\":\\\"https://geo.btaa.org/?q=10b-55093\\\",\\\"totalRecords\\\":5,\\\"Color\\\":\\\"#6497b1\\\"},\\\"type\\\":\\\"MultiPolygon\\\",\\\"arcs\\\":[[[-331,270]]],\\\"id\\\":120},{\\\"properties\\\":{\\\"County\\\":\\\"Polk County\\\",\\\"State\\\":\\\"Wisconsin\\\",\\\"countyCode\\\":\\\"10b-55095\\\",\\\"Title\\\":\\\"Polk County GIS Download\\\",\\\"sourceURL\\\":\\\"https://www.co.polk.wi.us/index.asp?SEC=A94D4B49-F047-496F-A7B9-A259974E7E6F&Type=B_BASIC\\\",\\\"btaaURL\\\":\\\"https://geo.btaa.org/?q=10b-55095\\\",\\\"totalRecords\\\":1,\\\"Color\\\":\\\"#b3cde0\\\"},\\\"type\\\":\\\"MultiPolygon\\\",\\\"arcs\\\":[[[271,-329,272,273]]],\\\"id\\\":121},{\\\"properties\\\":{\\\"County\\\":\\\"Polk County\\\",\\\"State\\\":\\\"Minnesota\\\",\\\"countyCode\\\":\\\"05b-27119\\\",\\\"Title\\\":\\\"Polk County GIS Open Data\\\",\\\"sourceURL\\\":\\\"https://polkdata-pcg.opendata.arcgis.com\\\",\\\"btaaURL\\\":\\\"https://geo.btaa.org/?q=05b-27119\\\",\\\"totalRecords\\\":66,\\\"Color\\\":\\\"#6497b1\\\"},\\\"type\\\":\\\"MultiPolygon\\\",\\\"arcs\\\":[[[274,275]]],\\\"id\\\":122},{\\\"properties\\\":{\\\"County\\\":\\\"Pope County\\\",\\\"State\\\":\\\"Minnesota\\\",\\\"countyCode\\\":\\\"05b-27121\\\",\\\"Title\\\":\\\"Pope County Open Data\\\",\\\"sourceURL\\\":\\\"https://data-popecounty.opendata.arcgis.com\\\",\\\"btaaURL\\\":\\\"https://geo.btaa.org/?q=05b-27121\\\",\\\"totalRecords\\\":40,\\\"Color\\\":\\\"#6497b1\\\"},\\\"type\\\":\\\"MultiPolygon\\\",\\\"arcs\\\":[[[276,-345,277]]],\\\"id\\\":123},{\\\"properties\\\":{\\\"County\\\":\\\"Portage County\\\",\\\"State\\\":\\\"Wisconsin\\\",\\\"countyCode\\\":\\\"10b-55097\\\",\\\"Title\\\":\\\"Portage County GIS Download\\\",\\\"sourceURL\\\":\\\"https://www.co.portage.wi.us/department/planning-zoning/land-information-gis/maps-and-gis-data\\\",\\\"btaaURL\\\":\\\"https://geo.btaa.org/?q=10b-55097\\\",\\\"totalRecords\\\":1,\\\"Color\\\":\\\"#b3cde0\\\"},\\\"type\\\":\\\"MultiPolygon\\\",\\\"arcs\\\":[[[278,-385,-386,279,-401]]],\\\"id\\\":124},{\\\"properties\\\":{\\\"County\\\":\\\"Pottawattamie County\\\",\\\"State\\\":\\\"Iowa\\\",\\\"countyCode\\\":\\\"03b-19155\\\",\\\"Title\\\":\\\"Pottawattamie County GIS Hub\\\",\\\"sourceURL\\\":\\\"https://gis.pottcounty-ia.gov/portal/apps/sites/#/hub\\\",\\\"btaaURL\\\":\\\"https://geo.btaa.org/?q=03b-19155\\\",\\\"totalRecords\\\":1,\\\"Color\\\":\\\"#b3cde0\\\"},\\\"type\\\":\\\"MultiPolygon\\\",\\\"arcs\\\":[[[280,281,-306,282,283]]],\\\"id\\\":125},{\\\"properties\\\":{\\\"County\\\":\\\"Prince George's County\\\",\\\"State\\\":\\\"Maryland\\\",\\\"countyCode\\\":\\\"04f-03\\\",\\\"Title\\\":\\\"Prince George's County GIS Open Data|Prince George's County Open Data Portal\\\",\\\"sourceURL\\\":\\\"http://gisdata.pgplanning.org/opendata|https://data.princegeorgescountymd.gov\\\",\\\"btaaURL\\\":\\\"https://geo.btaa.org/?q=04f-03\\\",\\\"totalRecords\\\":520,\\\"Color\\\":\\\"#03396c \\\"},\\\"type\\\":\\\"MultiPolygon\\\",\\\"arcs\\\":[[[284,285,286,287,288]]],\\\"id\\\":126},{\\\"properties\\\":{\\\"County\\\":\\\"Mahoning County\\\",\\\"State\\\":\\\"Ohio\\\",\\\"countyCode\\\":\\\"11b-39099\\\",\\\"Title\\\":\\\"Public FTP for Mahoning County, Ohio\\\",\\\"sourceURL\\\":\\\"https://gisapp.mahoningcountyoh.gov/Public_FTP_Folder\\\",\\\"btaaURL\\\":\\\"https://geo.btaa.org/?q=11b-39099\\\",\\\"totalRecords\\\":1,\\\"Color\\\":\\\"#b3cde0\\\"},\\\"type\\\":\\\"MultiPolygon\\\",\\\"arcs\\\":[[[289,290,-337]]],\\\"id\\\":127},{\\\"properties\\\":{\\\"County\\\":\\\"Racine County\\\",\\\"State\\\":\\\"Wisconsin\\\",\\\"countyCode\\\":\\\"10b-55101\\\",\\\"Title\\\":\\\"Racine County GIS Download|Racine County Land Information\\\",\\\"sourceURL\\\":\\\"https://data.racinecounty.opendata.arcgis.com/|https://www.arcgis.com/apps/PublicGallery/index.html?appid=b2972f78af4f43779929e08093e1a778\\\",\\\"btaaURL\\\":\\\"https://geo.btaa.org/?q=10b-55101\\\",\\\"totalRecords\\\":184,\\\"Color\\\":\\\"#005b96\\\"},\\\"type\\\":\\\"MultiPolygon\\\",\\\"arcs\\\":[[[-379,291,292,293,-366]]],\\\"id\\\":128},{\\\"properties\\\":{\\\"County\\\":\\\"Ramsey County\\\",\\\"State\\\":\\\"Minnesota\\\",\\\"countyCode\\\":\\\"05b-27123\\\",\\\"Title\\\":\\\"Ramsey County Open Data\\\",\\\"sourceURL\\\":\\\"https://data-ramseygis.opendata.arcgis.com\\\",\\\"btaaURL\\\":\\\"https://geo.btaa.org/?q=05b-27123\\\",\\\"totalRecords\\\":37,\\\"Color\\\":\\\"#6497b1\\\"},\\\"type\\\":\\\"MultiPolygon\\\",\\\"arcs\\\":[[[294,295,296]]],\\\"id\\\":129},{\\\"properties\\\":{\\\"County\\\":\\\"Renville County\\\",\\\"State\\\":\\\"Minnesota\\\",\\\"countyCode\\\":\\\"05b-27127\\\",\\\"Title\\\":\\\"Renville County Open GIS Data\\\",\\\"sourceURL\\\":\\\"https://hub-renvilleco.hub.arcgis.com/\\\",\\\"btaaURL\\\":\\\"https://geo.btaa.org/?q=05b-27127\\\",\\\"totalRecords\\\":0,\\\"Color\\\":\\\"#b3cde0\\\"},\\\"type\\\":\\\"MultiPolygon\\\",\\\"arcs\\\":[[[297,298,299,300]]],\\\"id\\\":130},{\\\"properties\\\":{\\\"County\\\":\\\"St. Louis County\\\",\\\"State\\\":\\\"Minnesota\\\",\\\"countyCode\\\":\\\"05b-27137\\\",\\\"Title\\\":\\\"Saint Louis County GIS & Mapping\\\",\\\"sourceURL\\\":\\\"https://stlouiscountymndata-slcgis.opendata.arcgis.com\\\",\\\"btaaURL\\\":\\\"https://geo.btaa.org/?q=05b-27137\\\",\\\"totalRecords\\\":9,\\\"Color\\\":\\\"#6497b1\\\"},\\\"type\\\":\\\"MultiPolygon\\\",\\\"arcs\\\":[[[301,302,303]]],\\\"id\\\":131},{\\\"properties\\\":{\\\"County\\\":\\\"Sarpy County\\\",\\\"State\\\":\\\"Nebraska\\\",\\\"countyCode\\\":\\\"13b-31153\\\",\\\"Title\\\":\\\"Sarpy County GIS Portal\\\",\\\"sourceURL\\\":\\\"https://gis.sarpy.com/\\\",\\\"btaaURL\\\":\\\"https://geo.btaa.org/?q=13b-31153\\\",\\\"totalRecords\\\":119,\\\"Color\\\":\\\"#005b96\\\"},\\\"type\\\":\\\"MultiPolygon\\\",\\\"arcs\\\":[[[304,305,306]]],\\\"id\\\":132},{\\\"properties\\\":{\\\"County\\\":\\\"Scott County\\\",\\\"State\\\":\\\"Iowa\\\",\\\"countyCode\\\":\\\"03b-19163\\\",\\\"Title\\\":\\\"Scott County GIS Data\\\",\\\"sourceURL\\\":\\\"https://www.scottcountyiowa.com/it/data\\\",\\\"btaaURL\\\":\\\"https://geo.btaa.org/?q=03b-19163\\\",\\\"totalRecords\\\":1,\\\"Color\\\":\\\"#b3cde0\\\"},\\\"type\\\":\\\"MultiPolygon\\\",\\\"arcs\\\":[[[307]]],\\\"id\\\":133},{\\\"properties\\\":{\\\"County\\\":\\\"Scott County\\\",\\\"State\\\":\\\"Minnesota\\\",\\\"countyCode\\\":\\\"05b-27139\\\",\\\"Title\\\":\\\"Scott County Open Data\\\",\\\"sourceURL\\\":\\\"https://opendata.gis.co.scott.mn.us\\\",\\\"btaaURL\\\":\\\"https://geo.btaa.org/?q=05b-27139\\\",\\\"totalRecords\\\":1,\\\"Color\\\":\\\"#b3cde0\\\"},\\\"type\\\":\\\"MultiPolygon\\\",\\\"arcs\\\":[[[308,309,310]]],\\\"id\\\":134},{\\\"properties\\\":{\\\"County\\\":\\\"Seneca County\\\",\\\"State\\\":\\\"Ohio\\\",\\\"countyCode\\\":\\\"11b-39047\\\",\\\"Title\\\":\\\"Seneca County GIS Data|Seneca County GIS Data Downloads\\\",\\\"sourceURL\\\":\\\"http://downloads.ddti.net/SenecaOH|https://downloads.ddti.net/SenecaOH\\\",\\\"btaaURL\\\":\\\"https://geo.btaa.org/?q=11b-39047\\\",\\\"totalRecords\\\":2,\\\"Color\\\":\\\"#6497b1\\\"},\\\"type\\\":\\\"MultiPolygon\\\",\\\"arcs\\\":[[[311,312,313,314,315]]],\\\"id\\\":135},{\\\"properties\\\":{\\\"County\\\":\\\"Sheboygan County\\\",\\\"State\\\":\\\"Wisconsin\\\",\\\"countyCode\\\":\\\"10b-55117\\\",\\\"Title\\\":\\\"Sheboygan County GIS Download\\\",\\\"sourceURL\\\":\\\"https://data-shebco.opendata.arcgis.com/\\\",\\\"btaaURL\\\":\\\"https://geo.btaa.org/?q=10b-55117\\\",\\\"totalRecords\\\":1,\\\"Color\\\":\\\"#b3cde0\\\"},\\\"type\\\":\\\"MultiPolygon\\\",\\\"arcs\\\":[[[316,317,-372,318]]],\\\"id\\\":136},{\\\"properties\\\":{\\\"County\\\":\\\"Sherburne County\\\",\\\"State\\\":\\\"Minnesota\\\",\\\"countyCode\\\":\\\"05b-27141\\\",\\\"Title\\\":\\\"Sherburne County Open Data\\\",\\\"sourceURL\\\":\\\"https://data-sherburnegis.opendata.arcgis.com\\\",\\\"btaaURL\\\":\\\"https://geo.btaa.org/?q=05b-27141\\\",\\\"totalRecords\\\":1,\\\"Color\\\":\\\"#b3cde0\\\"},\\\"type\\\":\\\"MultiPolygon\\\",\\\"arcs\\\":[[[319,320,321,322,323,324,-343]]],\\\"id\\\":137},{\\\"properties\\\":{\\\"County\\\":\\\"Brown County\\\",\\\"State\\\":\\\"Ohio\\\",\\\"countyCode\\\":\\\"11b-39015\\\",\\\"Title\\\":\\\"Spatial Data for Brown County, Ohio\\\",\\\"sourceURL\\\":\\\"http://gis.browncountyengineer.org/gisweb/pages/downloads/BROWN-CO-DOWNLOADS.ASP\\\",\\\"btaaURL\\\":\\\"https://geo.btaa.org/?q=11b-39015\\\",\\\"totalRecords\\\":12,\\\"Color\\\":\\\"#6497b1\\\"},\\\"type\\\":\\\"MultiPolygon\\\",\\\"arcs\\\":[[[325,326,327]]],\\\"id\\\":138},{\\\"properties\\\":{\\\"County\\\":\\\"St. Croix County\\\",\\\"State\\\":\\\"Wisconsin\\\",\\\"countyCode\\\":\\\"10b-55109\\\",\\\"Title\\\":\\\"St. Croix County GIS Download\\\",\\\"sourceURL\\\":\\\"https://gis-scccdd.opendata.arcgis.com/\\\",\\\"btaaURL\\\":\\\"https://geo.btaa.org/?q=10b-55109\\\",\\\"totalRecords\\\":2,\\\"Color\\\":\\\"#6497b1\\\"},\\\"type\\\":\\\"MultiPolygon\\\",\\\"arcs\\\":[[[328,329,330,331]]],\\\"id\\\":139},{\\\"properties\\\":{\\\"County\\\":\\\"St. Mary's County\\\",\\\"State\\\":\\\"Maryland\\\",\\\"countyCode\\\":\\\"04b-24037\\\",\\\"Title\\\":\\\"St Mary's County GIS Downloadable Layers\\\",\\\"sourceURL\\\":\\\"https://www.stmarysmd.com/it/gis/\\\",\\\"btaaURL\\\":\\\"https://geo.btaa.org/?q=04b-24037\\\",\\\"totalRecords\\\":26,\\\"Color\\\":\\\"#6497b1\\\"},\\\"type\\\":\\\"MultiPolygon\\\",\\\"arcs\\\":[[[332,333]]],\\\"id\\\":140},{\\\"properties\\\":{\\\"County\\\":\\\"Stark County\\\",\\\"State\\\":\\\"Ohio\\\",\\\"countyCode\\\":\\\"11b-39151\\\",\\\"Title\\\":\\\"Stark County GIS Data\\\",\\\"sourceURL\\\":\\\"http://opendata.starkcountyohio.gov\\\",\\\"btaaURL\\\":\\\"https://geo.btaa.org/?q=11b-39151\\\",\\\"totalRecords\\\":5,\\\"Color\\\":\\\"#6497b1\\\"},\\\"type\\\":\\\"MultiPolygon\\\",\\\"arcs\\\":[[[334,-349,335,336,337,338,339]]],\\\"id\\\":141},{\\\"properties\\\":{\\\"County\\\":\\\"Stearns County\\\",\\\"State\\\":\\\"Minnesota\\\",\\\"countyCode\\\":\\\"05b-27145\\\",\\\"Title\\\":\\\"Stearns County GIS Data for Download\\\",\\\"sourceURL\\\":\\\"https://stearns-county-gis-stearns.hub.arcgis.com\\\",\\\"btaaURL\\\":\\\"https://geo.btaa.org/?q=05b-27145\\\",\\\"totalRecords\\\":1,\\\"Color\\\":\\\"#b3cde0\\\"},\\\"type\\\":\\\"MultiPolygon\\\",\\\"arcs\\\":[[[340,341,342,343,344,345]]],\\\"id\\\":142},{\\\"properties\\\":{\\\"County\\\":\\\"Summit County\\\",\\\"State\\\":\\\"Ohio\\\",\\\"countyCode\\\":\\\"11b-39153\\\",\\\"Title\\\":\\\"Summit County GIS Data\\\",\\\"sourceURL\\\":\\\"https://data-summitgis.opendata.arcgis.com\\\",\\\"btaaURL\\\":\\\"https://geo.btaa.org/?q=11b-39153\\\",\\\"totalRecords\\\":2,\\\"Color\\\":\\\"#6497b1\\\"},\\\"type\\\":\\\"MultiPolygon\\\",\\\"arcs\\\":[[[346,347,348,349,350]]],\\\"id\\\":143},{\\\"properties\\\":{\\\"County\\\":\\\"Traverse County\\\",\\\"State\\\":\\\"Minnesota\\\",\\\"countyCode\\\":\\\"05b-27155\\\",\\\"Title\\\":\\\"Traverse County Open GIS Data\\\",\\\"sourceURL\\\":\\\"https://data-traversecountymn.opendata.arcgis.com/\\\",\\\"btaaURL\\\":\\\"https://geo.btaa.org/?q=05b-27155\\\",\\\"totalRecords\\\":1,\\\"Color\\\":\\\"#b3cde0\\\"},\\\"type\\\":\\\"MultiPolygon\\\",\\\"arcs\\\":[[[-392,351,352,353,354]]],\\\"id\\\":144},{\\\"properties\\\":{\\\"County\\\":\\\"Trempealeau County\\\",\\\"State\\\":\\\"Wisconsin\\\",\\\"countyCode\\\":\\\"10b-55121\\\",\\\"Title\\\":\\\"Trempealeau County GIS Download\\\",\\\"sourceURL\\\":\\\"https://www.tremplocounty.com/tchome/landrecords/data.aspx\\\",\\\"btaaURL\\\":\\\"https://geo.btaa.org/?q=10b-55121\\\",\\\"totalRecords\\\":1,\\\"Color\\\":\\\"#b3cde0\\\"},\\\"type\\\":\\\"MultiPolygon\\\",\\\"arcs\\\":[[[355,356,357]]],\\\"id\\\":145},{\\\"properties\\\":{\\\"County\\\":\\\"Union County\\\",\\\"State\\\":\\\"Ohio\\\",\\\"countyCode\\\":\\\"11b-39159\\\",\\\"Title\\\":\\\"Union County GIS Data\\\",\\\"sourceURL\\\":\\\"https://www7.co.union.oh.us/unionoh/\\\",\\\"btaaURL\\\":\\\"https://geo.btaa.org/?q=11b-39159\\\",\\\"totalRecords\\\":1,\\\"Color\\\":\\\"#b3cde0\\\"},\\\"type\\\":\\\"MultiPolygon\\\",\\\"arcs\\\":[[[358,359,360,361,362,363,364]]],\\\"id\\\":146},{\\\"properties\\\":{\\\"County\\\":\\\"Walworth County\\\",\\\"State\\\":\\\"Wisconsin\\\",\\\"countyCode\\\":\\\"10b-55127\\\",\\\"Title\\\":\\\"Walworth County GIS Download\\\",\\\"sourceURL\\\":\\\"https://open-walco.opendata.arcgis.com/\\\",\\\"btaaURL\\\":\\\"https://geo.btaa.org/?q=10b-55127\\\",\\\"totalRecords\\\":1,\\\"Color\\\":\\\"#b3cde0\\\"},\\\"type\\\":\\\"MultiPolygon\\\",\\\"arcs\\\":[[[-380,365,366,367]]],\\\"id\\\":147},{\\\"properties\\\":{\\\"County\\\":\\\"Washburn County\\\",\\\"State\\\":\\\"Wisconsin\\\",\\\"countyCode\\\":\\\"10b-55129\\\",\\\"Title\\\":\\\"Washburn County GIS Download\\\",\\\"sourceURL\\\":\\\"https://www.co.washburn.wi.us/departments/land-info-surveyor-mapping/gis-data\\\",\\\"btaaURL\\\":\\\"https://geo.btaa.org/?q=10b-55129\\\",\\\"totalRecords\\\":1,\\\"Color\\\":\\\"#b3cde0\\\"},\\\"type\\\":\\\"MultiPolygon\\\",\\\"arcs\\\":[[[368,369]]],\\\"id\\\":148},{\\\"properties\\\":{\\\"County\\\":\\\"Washington County\\\",\\\"State\\\":\\\"Wisconsin\\\",\\\"countyCode\\\":\\\"10b-55131\\\",\\\"Title\\\":\\\"Washington County GIS Download\\\",\\\"sourceURL\\\":\\\"https://washingtoncowi.maps.arcgis.com/apps/MapSeries/index.html?appid=0db0dd8e8e9f4f51931a58ec26a5037a\\\",\\\"btaaURL\\\":\\\"https://geo.btaa.org/?q=10b-55131\\\",\\\"totalRecords\\\":1,\\\"Color\\\":\\\"#b3cde0\\\"},\\\"type\\\":\\\"MultiPolygon\\\",\\\"arcs\\\":[[[370,371,372,-377,373]]],\\\"id\\\":149},{\\\"properties\\\":{\\\"County\\\":\\\"Washtenaw County\\\",\\\"State\\\":\\\"Michigan\\\",\\\"countyCode\\\":\\\"07b-26161\\\",\\\"Title\\\":\\\"Washtenaw County, Michigan Open Data\\\",\\\"sourceURL\\\":\\\"https://data-washtenaw.opendata.arcgis.com\\\",\\\"btaaURL\\\":\\\"https://geo.btaa.org/?q=07b-26161\\\",\\\"totalRecords\\\":2,\\\"Color\\\":\\\"#6497b1\\\"},\\\"type\\\":\\\"MultiPolygon\\\",\\\"arcs\\\":[[[374,375]]],\\\"id\\\":150},{\\\"properties\\\":{\\\"County\\\":\\\"Waukesha County\\\",\\\"State\\\":\\\"Wisconsin\\\",\\\"countyCode\\\":\\\"10b-55133\\\",\\\"Title\\\":\\\"Waukesha County GIS Download\\\",\\\"sourceURL\\\":\\\"https://data-waukeshacounty.opendata.arcgis.com/\\\",\\\"btaaURL\\\":\\\"https://geo.btaa.org/?q=10b-55133\\\",\\\"totalRecords\\\":72,\\\"Color\\\":\\\"#6497b1\\\"},\\\"type\\\":\\\"MultiPolygon\\\",\\\"arcs\\\":[[[376,377,378,379,380]]],\\\"id\\\":151},{\\\"properties\\\":{\\\"County\\\":\\\"Waupaca County\\\",\\\"State\\\":\\\"Wisconsin\\\",\\\"countyCode\\\":\\\"10b-55135\\\",\\\"Title\\\":\\\"Waupaca County GIS Download\\\",\\\"sourceURL\\\":\\\"https://data2017-04-05t135915451z-waupacacounty.opendata.arcgis.com/\\\",\\\"btaaURL\\\":\\\"https://geo.btaa.org/?q=10b-55135\\\",\\\"totalRecords\\\":39,\\\"Color\\\":\\\"#6497b1\\\"},\\\"type\\\":\\\"MultiPolygon\\\",\\\"arcs\\\":[[[381,382,383,-387,384]]],\\\"id\\\":152},{\\\"properties\\\":{\\\"County\\\":\\\"Waushara County\\\",\\\"State\\\":\\\"Wisconsin\\\",\\\"countyCode\\\":\\\"10b-55137\\\",\\\"Title\\\":\\\"Waushara County GIS Download\\\",\\\"sourceURL\\\":\\\"https://data-waushara.opendata.arcgis.com/\\\",\\\"btaaURL\\\":\\\"https://geo.btaa.org/?q=10b-55137\\\",\\\"totalRecords\\\":11,\\\"Color\\\":\\\"#6497b1\\\"},\\\"type\\\":\\\"MultiPolygon\\\",\\\"arcs\\\":[[[385,386,387]]],\\\"id\\\":153},{\\\"properties\\\":{\\\"County\\\":\\\"Wilkin County\\\",\\\"State\\\":\\\"Minnesota\\\",\\\"countyCode\\\":\\\"05b-27167\\\",\\\"Title\\\":\\\"Wilkin County, Minnesota Open Data\\\",\\\"sourceURL\\\":\\\"https://share-wilkinco.opendata.arcgis.com\\\",\\\"btaaURL\\\":\\\"https://geo.btaa.org/?q=05b-27167\\\",\\\"totalRecords\\\":14,\\\"Color\\\":\\\"#6497b1\\\"},\\\"type\\\":\\\"MultiPolygon\\\",\\\"arcs\\\":[[[388,389,390,391,392]]],\\\"id\\\":154},{\\\"properties\\\":{\\\"County\\\":\\\"Will County\\\",\\\"State\\\":\\\"Illinois\\\",\\\"countyCode\\\":\\\"02b-17197\\\",\\\"Title\\\":\\\"Will County Data\\\",\\\"sourceURL\\\":\\\"https://www.willcountyillinois.com/County-Offices/Administration/GIS-Division/Data\\\",\\\"btaaURL\\\":\\\"https://geo.btaa.org/?q=02b-17197\\\",\\\"totalRecords\\\":1,\\\"Color\\\":\\\"#b3cde0\\\"},\\\"type\\\":\\\"MultiPolygon\\\",\\\"arcs\\\":[[[393,394,395,396,397,398]]],\\\"id\\\":155},{\\\"properties\\\":{\\\"County\\\":\\\"Wood County\\\",\\\"State\\\":\\\"Wisconsin\\\",\\\"countyCode\\\":\\\"10b-55141\\\",\\\"Title\\\":\\\"Wood County Open Data Portal\\\",\\\"sourceURL\\\":\\\"https://opendata.woodcogis.com/\\\",\\\"btaaURL\\\":\\\"https://geo.btaa.org/?q=10b-55141\\\",\\\"totalRecords\\\":14,\\\"Color\\\":\\\"#6497b1\\\"},\\\"type\\\":\\\"MultiPolygon\\\",\\\"arcs\\\":[[[399,400,401]]],\\\"id\\\":156},{\\\"properties\\\":{\\\"County\\\":\\\"Hamilton County\\\",\\\"State\\\":\\\"Ohio\\\",\\\"countyCode\\\":\\\"11c-01\\\",\\\"Title\\\":\\\"Open Data Cincinnati, Ohio\\\",\\\"sourceURL\\\":\\\"http://www.cagis.org/Opendata/\\\",\\\"btaaURL\\\":\\\"https://geo.btaa.org/?q=11c-01\\\",\\\"totalRecords\\\":9,\\\"Color\\\":\\\"#6497b1\\\"},\\\"type\\\":\\\"MultiPolygon\\\",\\\"arcs\\\":[[[402,403,404,405]]],\\\"id\\\":157}],\\\"type\\\":\\\"GeometryCollection\\\"}},\\\"bbox\\\":[-97.146745,38.036503,-75.015066,48.631493],\\\"transform\\\":{\\\"scale\\\":[0.0002213190031900318,0.00010595095950959506],\\\"translate\\\":[-97.146745,38.036503]},\\\"arcs\\\":[[[25486,20421],[2685,-66],[-7,-837],[-15,-2448],[3,-830],[-2026,15],[14,272],[-164,317],[-173,230],[32,587],[-36,354],[-1,11],[-212,689],[-61,556],[-65,870],[26,280]],[[49278,42505],[54,845],[9,146],[83,1112],[-1,45],[323,8],[47,0],[1555,-2],[1070,0],[11,-3273],[-1001,-6],[-2314,-14],[164,1139]],[[75845,23039],[817,1245],[156,38],[-14,574],[362,-1],[1084,-29],[191,4],[422,-17],[1,0],[-365,-839],[36,-292],[288,-231],[-14,-927],[-259,-325],[-197,-1436],[-293,-408],[-386,153],[189,367],[-1211,753],[-807,1371]],[[59944,26271],[-1,-1654]],[[57609,24997],[-3,1236],[257,408]],[[93271,10975],[-98,-202],[439,-436],[31,-475],[6,-371],[119,-290],[-248,-269],[-101,-249],[95,-145],[-86,-316],[-21,-47],[-75,-168],[-119,-318],[122,-117],[-167,-488],[-144,-290],[145,-301],[-2,-110]],[[18649,68526],[-5,-1633]],[[72947,35985],[460,187],[450,384],[989,453],[282,188],[0,-1208]],[[75129,32689],[-2186,17]],[[55702,11974],[6,817],[6,1229],[2,432]],[[57858,32006],[-1,547],[2074,19]],[[59931,32572],[11,2196],[530,32],[802,49],[596,36],[200,-390],[373,97],[430,-541],[307,-190]],[[59929,31883],[2,689]],[[62030,23301],[11,195],[-18,1519],[494,2],[26,141],[874,8]],[[59929,31883],[131,-1],[484,489],[303,761],[416,510],[101,157],[677,15]],[[62047,32692],[-24,-2324]],[[59939,29554],[-10,2329]],[[28781,84830],[166,111],[406,176],[404,-167],[73,-186],[150,-528],[-56,-243],[-113,-190],[-398,-83],[-191,465],[-148,276],[-252,161],[-41,208]],[[28111,80707],[122,-42],[313,312],[155,84],[178,201],[81,434],[335,-443],[441,-570],[77,12],[-17,-3260],[571,-3],[-1,-816],[556,8],[5,-1638],[-1694,2],[-1122,-5],[3,1638]],[[67719,14347],[505,-54],[-38,-857],[953,-93]],[[69697,11085],[-141,-248],[2,-35],[-943,73],[-1390,142],[38,841],[-133,862]],[[57439,21878],[-1,-2],[-1670,-14],[6,1063],[2,343],[0,665],[2,1472],[1563,1],[0,-410]],[[57341,24996],[268,1]],[[57609,24997],[786,9],[520,-404],[1028,15]],[[59943,24617],[1,-1000]],[[59391,23092],[-1522,-19],[3,-962],[-433,-233]],[[57439,21878],[-95,89],[2,825],[-3,1100],[-2,1104]],[[91992,15899],[323,4],[661,0]],[[94078,11670],[-111,-228],[-205,-161],[-135,-246],[-172,2],[-158,-10],[-26,-52]],[[93271,10975],[-115,180]],[[92638,11443],[-239,-329]],[[93156,11155],[-229,-111],[-289,399]],[[92638,11443],[-71,62],[-112,104],[-119,108],[-1,722],[0,79],[85,87],[735,0],[1,-707],[0,-743]],[[25282,82311],[182,0],[449,304],[230,80],[208,271],[262,95],[204,282],[199,-208],[168,239],[195,89],[238,222],[226,213],[-22,535],[295,185],[322,-371],[211,-225],[275,-420],[-242,-671],[-281,-543],[-89,-242],[127,-381],[-282,-389],[-79,-388],[-104,-234],[137,-47]],[[28111,80707],[3,-4086]],[[28114,76621],[-2832,23]],[[4302,86027],[576,6],[2331,-3]],[[8963,82757],[-3,-822]],[[7066,94233],[-42,158],[-7,1280],[-39,3454],[1174,12],[590,-2],[5,-1642],[3534,13],[50,-4099],[-4,-823],[10,-3785],[0,-312],[-1147,-15]],[[12990,73040],[-367,442],[2662,1],[20,-2477]],[[4038,71250],[53,-1631],[562,-7],[-5,-1625],[65,-596],[-939,707],[-660,164],[-1,365],[-56,181],[-56,184],[-177,277],[-183,99],[-251,207],[-261,21],[-159,252],[-144,394],[-174,540],[-245,474]],[[40220,61804],[-31,781],[43,115],[81,-69],[1026,50],[-20,-128],[15,-517],[-192,-346],[161,-315],[279,-90],[203,419],[145,324],[414,291],[63,136],[-21,-3081],[-549,3],[-3,-822],[-701,5]],[[25246,56514],[-63,25],[-337,352],[-322,611],[-444,334],[-168,311],[-172,320],[-106,821],[-215,415],[-546,401],[279,1755],[1683,58]],[[40458,58569],[675,-9]],[[41133,58560],[6,-3297]],[[39502,55702],[1,2887]],[[92447,6720],[198,196],[121,-457],[401,-76]],[[93167,6383],[-8,-462],[80,-454],[-29,-723],[113,-531],[188,-382],[260,-500],[29,-266],[-60,-390]],[[92503,4371],[-6,342]],[[21932,79100],[-3443,19],[-31,3278]],[[90050,15891],[983,-1],[38,0],[921,9]],[[91992,15899],[-77,-426],[-402,-2062],[27,-160],[62,-786],[-40,-66]],[[14163,65523],[1106,-7]],[[15266,62329],[0,313],[-546,-1],[1,412],[-550,4]],[[9001,32739],[515,-5],[1536,-5],[1,-3266],[-1026,4],[-1031,6]],[[84811,25653],[398,899],[177,54],[366,995],[409,-19],[97,428],[-253,1038],[334,372],[633,936],[25,-703],[425,35],[256,-702],[543,-155],[486,-1148],[32,-60],[755,226],[885,540],[-610,-1271],[-384,-592],[-1303,-963],[-130,-143],[-647,131],[-541,-492],[-637,372],[-142,77],[-168,29],[-931,-90],[-75,206]],[[98436,19151],[-196,-360],[-873,-1447],[15,-373],[-310,-124],[-245,-275],[-163,-324],[-93,-338],[-67,0],[-1568,-4],[153,24],[497,1363],[-13,790],[265,803],[-32,677],[315,263],[798,989]],[[7518,63388],[-69,349],[-1078,1383],[-305,124],[-92,356],[-958,1560],[3570,2],[-9,-2464]],[[18096,72620],[1360,-12],[-131,-134],[-77,-671]],[[19874,68518],[-1225,8]],[[18649,68526],[-1,1084]],[[4302,86027],[93,-1640],[-2,-2450]],[[1631,81104],[-18,58],[-3,11],[16,528],[-9,800],[113,1274],[-315,921],[66,670],[-34,655],[2855,6]],[[7066,94233],[1598,-6],[-220,-893],[381,-498],[47,-4340]],[[8935,86040],[-1726,-10]],[[7209,86030],[-1,3123],[-13,166]],[[7069,93416],[-3,817]],[[60892,14287],[383,-48],[33,-199],[-58,-1372],[-876,-1093],[-131,-376],[-234,229]],[[42416,38847],[79,-228],[1,0],[1,-3],[235,-435],[32,-57],[60,-440],[156,-908],[43,-247],[4,-24],[53,-103],[-6,-84],[-12,-127],[31,-243],[95,-323],[6,-20],[25,-83],[94,-321],[136,-168],[29,-229],[1,-148],[-4,-1686],[-2,-561]],[[40141,37280],[-2,275],[-2,485],[115,240],[-1,585],[176,0]],[[27626,95838],[568,441],[286,59],[178,-621],[128,-525],[326,-247],[622,251],[429,-156],[695,-22],[818,79],[482,-232],[254,-634],[475,-288],[537,316],[562,-112],[613,29],[-297,-375],[-477,-223],[-348,-311],[-253,-254],[-587,-276],[-229,-298],[-442,-183],[-522,-311],[-614,-230],[-442,-176],[-523,-303],[-501,-442],[-398,-301],[-598,-636],[-699,-868],[11,3993],[-54,2856]],[[75128,35989],[4100,5],[-4,-2135],[-976,-17],[-772,-1246],[-567,-91],[-1780,81],[0,103]],[[75129,32689],[0,1603],[-1,1697]],[[12461,77410],[213,373],[49,3336],[-54,1646],[2561,-25],[-8,-2012],[-147,-3197],[64,-74],[-66,-84],[2,-733],[-2549,5],[-65,765]],[[68618,32695],[101,-86],[522,36],[53,4],[190,-40],[135,-27],[475,489],[655,888]],[[12951,36116],[526,2],[1574,2],[6,-2482],[107,-836],[-480,-83],[-1557,5],[1,919],[-175,3],[-2,2470]],[[91019,8768],[-174,284],[-356,-578],[-121,282],[-253,35],[-213,170],[6,387],[-282,237],[-87,37],[-134,57],[-465,134],[-84,278],[-175,144],[-6,379],[160,232],[117,312],[0,1]],[[70143,20621],[-217,-664],[-206,11]],[[64538,34518],[170,275],[194,-272],[-28,-481],[-240,-139],[-96,617]],[[62041,33814],[1055,38],[84,9]],[[63180,33861],[439,-272],[174,-374],[424,-390],[338,585],[115,106],[525,-431],[123,-426]],[[64136,32295],[-521,-10],[-1223,4],[-345,403]],[[62047,32692],[-6,1122]],[[59159,17121],[516,-63],[498,-435],[823,-233]],[[60968,15860],[-76,-1573]],[[60892,14287],[-1386,179]],[[71899,18072],[37,2065],[136,20],[480,-49],[934,-71],[527,-41],[288,19],[-16,-52],[-139,-675],[-6,-439],[-9,-593],[-110,-193],[-176,-298],[-90,-648],[-1870,168],[14,787]],[[91259,22959],[-195,930],[195,572],[136,-232],[984,514],[751,-971],[-645,-759],[505,-2625],[-505,-452],[-89,72],[-108,-343],[-140,526],[-217,230],[-109,21],[-66,182],[-89,44],[-294,593],[42,371],[-479,357],[323,970]],[[57858,32006],[512,2],[1,-2472]],[[57858,29533],[0,410],[-521,4],[-1,416],[-1565,-9],[-1,177],[-2,1293],[0,168],[2090,14]],[[62797,22723],[1029,-97]],[[42223,43717],[-57,-230],[6,-611],[58,-824]],[[40427,42088],[-79,1],[-396,-2]],[[36769,49535],[1,-822],[-21,-3304],[-1607,-24]],[[33023,45501],[0,3291]],[[21932,79100],[2,740],[1,1582]],[[23186,81830],[241,-226],[339,73],[302,-1],[789,421],[321,215],[104,-1]],[[25282,82311],[-3,-88],[3,-5579]],[[23031,76650],[-1104,-3],[1,818],[4,1635]],[[9041,76170],[27,-3146]],[[59371,11501],[62,-8]],[[59164,6938],[-373,169],[-351,153],[-60,227],[-32,122],[4,302],[1,55],[-253,711],[-41,320],[-109,291]],[[65621,23722],[1124,9],[171,39],[528,125]],[[67604,22839],[-51,-2050]],[[65046,21147],[27,685]],[[66746,15276],[-24,-550],[533,-58],[-7,-269],[471,-52]],[[67719,14347],[-37,-852],[-510,62],[-42,-837]],[[67130,12720],[-1016,109],[-14,-248],[-1044,-12],[36,945]],[[64690,27939],[474,-10],[-11,-2684]],[[64560,25186],[-1143,-20]],[[63417,25166],[-6,2743]],[[40141,37280],[401,13],[1062,55],[85,-490],[-1,-328],[14,-1043],[1,-49],[3,-186],[9,-484],[-122,-160],[-4,-41],[-22,-32],[-37,-22],[-51,-61],[-62,5],[-8,-11],[-103,-4],[-109,-4]],[[40145,34810],[-4,825],[0,2],[1,665],[1,156],[-2,822]],[[25383,61913],[-548,4]],[[24835,61917],[0,821],[-1,1626],[3291,13],[-1,-2464],[-549,4],[-550,3]],[[59391,23092],[39,492],[514,33]],[[59944,23617],[94,-76],[1532,-251]],[[59335,21113],[50,373],[6,1606]],[[64560,25186],[88,72],[505,-13]],[[65153,25245],[172,-2],[280,-15],[-81,-406],[97,-1100]],[[65621,23722],[-104,-1933],[-444,43]],[[65073,21832],[-835,80],[22,537],[-434,177]],[[63826,22626],[282,537],[3,1369],[443,101],[6,553]],[[39502,55702],[1096,-5],[-3,-436]],[[39519,51977],[-3,825],[-2191,25],[1,2469],[2181,-21],[-5,427]],[[63152,19883],[745,-64],[153,-13],[946,-86]],[[90050,15891],[-409,-954],[495,-412],[412,-789],[-277,-1301]],[[90268,12430],[-424,-408],[-105,-103],[-787,-760]],[[88952,11159],[-166,304],[-255,267],[-159,214],[-351,142],[-53,9],[97,476],[389,2375],[457,946],[1035,0],[104,-1]],[[32098,74192],[-5,800],[520,0],[-1,3001],[1313,-530],[2471,-994],[454,-396],[264,-230],[-2,-848],[-518,0],[1,-821]],[[57209,17763],[268,10],[1212,32],[2,-349],[480,-58],[-12,-277]],[[59159,17121],[-177,-115],[-96,-2457]],[[57752,14658],[-515,14]],[[62819,16762],[1895,-165]],[[65133,14327],[-41,-813]],[[65092,13514],[-1164,111],[62,252],[-1275,89],[65,1692]],[[70749,33959],[102,138],[350,548],[459,501],[464,249],[598,499],[225,91]],[[72947,35985],[-7,-1265]],[[71190,33348],[-437,3],[-4,608]],[[59335,21113],[1042,-126],[1052,-290]],[[61588,18628],[-2349,283],[59,1357],[37,845]],[[64136,32295],[1002,200],[180,164]],[[65318,32659],[12,-42],[321,-603],[378,-352],[328,-45],[447,380],[62,6]],[[66892,30647],[-2256,61],[-14,683],[-14,643],[-472,261]],[[64714,16597],[99,264],[14,347],[-52,769],[128,-14]],[[66347,17875],[-43,-879],[343,-40],[99,-1680]],[[66746,15276],[-523,63],[-26,-555],[-549,54],[-11,-421],[-504,-90]],[[65133,14327],[-503,66],[84,2204]],[[71190,33348],[430,2],[5,669],[874,6],[-4,687],[445,8]],[[72940,34720],[3,-2014]],[[72943,32706],[-1,-1452]],[[71187,31258],[-1,642],[2,273],[2,1175]],[[59939,29554],[2079,-9]],[[62021,27894],[-170,-2],[-257,-817],[-5,-821],[-1645,17]],[[59944,26271],[-2,948]],[[64772,5058],[321,234],[-106,781],[258,-23],[198,665],[58,954],[337,-43],[-32,-617],[448,-65],[50,-849],[533,-59],[-33,-857],[360,-51],[-51,-184],[-49,-604],[-89,-444],[-261,-137],[-296,-74],[-279,-116],[-234,-97],[-149,165],[-112,521],[-206,289],[-53,74],[-222,397],[-340,53],[-51,87]],[[60996,16390],[267,-40],[325,2278]],[[61588,18628],[56,956]],[[62988,19549],[-19,-401],[-201,-157],[51,-2229]],[[62819,16762],[-39,-1104]],[[62780,15658],[-1812,202]],[[60968,15860],[28,530]],[[68990,30566],[175,5],[606,16],[91,-1]],[[69846,27863],[-1305,13],[-687,17],[-199,2],[9,675]],[[41042,48660],[470,3],[157,-2],[127,0],[-18,-626],[137,-580],[-116,-459],[240,-676],[35,-825],[34,-74],[28,-63]],[[67593,20107],[2127,-139]],[[69720,19968],[-55,-2080],[169,-9],[-14,-832],[-14,-822],[-1714,145],[17,428],[-439,42],[35,837],[-324,36]],[[71187,31258],[1755,-4]],[[72942,31254],[2,-718],[3,-1299]],[[57209,17763],[28,-3091]],[[57237,14672],[1,-210],[-1522,-10]],[[55716,14452],[7,1499],[0,1],[13,1796],[1473,15]],[[93914,8520],[178,634],[93,314],[166,-105],[244,-339],[245,966],[493,639],[169,725],[651,202],[496,-134],[38,-977],[-393,-328],[-478,-1247],[-38,-547],[-667,245],[-30,-585],[-422,-251],[-37,349],[7,337],[-214,-1],[-303,-160],[-73,-482],[-190,-93],[65,838]],[[57752,14658],[1134,-109]],[[58886,14549],[620,-83]],[[59506,14466],[-135,-2965]],[[59371,11501],[-1141,149]],[[57806,11853],[95,2421],[-149,384]],[[69139,13343],[99,414],[518,-125],[-19,984],[562,18],[519,-35],[1,592],[353,-420],[506,41],[1113,-318],[-3,-322],[-174,-268],[-205,-490],[-33,-79],[-259,-176],[-286,-384],[-445,-418],[-103,28],[-105,28],[-86,405],[-196,139],[-213,-340],[-255,-401],[-25,-516],[-220,-7],[-291,-15],[-151,-515],[-44,-78]],[[69697,11085],[-2,553],[-436,29],[-159,430],[39,1246]],[[71521,24682],[-17,-802],[257,-15],[-17,-833],[-7,-408],[-24,-1228],[-268,8],[-16,-850],[-1286,67]],[[70143,20621],[30,1386],[-434,25],[14,698]],[[64996,19720],[50,1427]],[[65046,21147],[1236,-295],[1271,-63]],[[67553,20789],[56,-118],[-16,-564]],[[67593,20107],[-35,-1380],[-18,-665],[-159,-349]],[[67381,17713],[-834,87],[-200,75]],[[66347,17875],[-115,-43],[-1329,131]],[[64903,17963],[39,344],[29,707],[25,706]],[[57858,29533],[513,3]],[[58371,29536],[1568,18]],[[59939,29554],[3,-2335]],[[59942,27219],[-1035,-148],[0,-413],[-1044,-17]],[[57863,26641],[-261,416],[-5,822],[260,4],[1,1650]],[[38590,61859],[1630,-55]],[[40220,61804],[248,20],[-10,-3255]],[[40458,58569],[-955,20]],[[39503,58589],[-546,0],[-971,-7]],[[6222,76176],[51,-3280]],[[6273,72896],[-2239,-1]],[[27054,46729],[438,48],[552,654],[426,149],[809,888],[548,375],[522,-99],[14,-3663],[2,-2885],[-48,-1],[-930,13],[-135,643],[-127,470],[-194,181],[-491,182],[-201,89],[-202,90],[-342,337],[-241,528],[-127,839],[-177,372],[-79,679],[-17,111]],[[33023,45501],[2078,-9],[41,-107]],[[35142,45385],[15,-3257],[-161,4],[-415,10],[-1556,32],[-3,2916],[1,411]],[[49268,20569],[1721,30],[-3,-2599],[-339,-156],[-1365,-10],[-12,2404],[-2,331]],[[92976,15903],[680,1],[810,1],[29,0],[93,-333],[534,-1119],[237,-695],[20,-392],[-106,-4],[-386,-443],[-351,-496],[-327,-487],[-131,-266]],[[94078,11670],[85,351],[-302,1050],[-60,362],[-154,176],[-503,619],[-156,1120],[-12,555]],[[15269,65516],[25,975],[387,658],[41,32],[25,-11],[63,51],[11,28],[30,38],[0,81],[-91,188],[619,495]],[[16422,68043],[388,-291],[240,-347],[279,-324],[70,-208],[69,-472],[-12,-343],[255,2]],[[17930,64670],[-88,-249],[-244,-477],[-351,-192]],[[16385,63876],[-1,824],[-1113,-6],[-2,822]],[[70024,24526],[-93,-1805],[-178,9]],[[69753,22730],[-2149,109]],[[67604,22839],[25,1102],[-185,-46]],[[67444,23895],[-3,938],[427,6],[2152,-1]],[[90268,12430],[3,5]],[[90271,12435],[300,144],[991,-180]],[[91562,12399],[401,-345],[-1,-451],[346,-381],[91,-108]],[[92399,11114],[-68,-114],[-5,-78],[-42,-102],[-108,-31],[-84,-139],[-74,-183],[-25,-158],[-47,-58],[-72,-1],[-51,-50],[-9,-68],[-62,-65]],[[91534,10330],[-316,29],[-69,266],[-435,867],[-291,215],[-237,589],[82,134]],[[8872,88496],[1732,-27],[586,3]],[[11190,88472],[46,-5724],[-574,2],[-1699,7]],[[8963,82757],[-28,3283]],[[8935,86040],[-2,1632],[-61,824]],[[18096,72620],[-1,-1629],[541,-9],[12,-1372]],[[18648,69610],[-2216,29]],[[16429,70998],[-14,1657],[1681,-35]],[[43467,30784],[0,-1246],[1,-1333],[0,-137],[-2736,-119],[-521,-30],[-19,1129],[46,140],[-13,685]],[[40145,34810],[3,0]],[[40189,32341],[-1553,-57],[-29,1646],[2,832],[892,25],[131,4],[513,19]],[[40427,42088],[1362,-27],[441,-9]],[[42230,42052],[-13,-673],[-79,-557],[-63,-567],[6,-36],[148,-832],[3,-15],[184,-525]],[[42416,38847],[-844,7],[-264,5],[-87,1],[-794,5]],[[40427,38865],[4,824],[2,0],[-2,824],[0,818],[-4,757]],[[36769,49535],[-1600,-33],[-1614,111]],[[33259,52898],[4,0],[299,19],[539,-4],[1600,4],[534,-107],[544,12],[3,-1645],[-13,-1642]],[[33259,52898],[242,-654],[601,-130],[-6,-1674],[-348,-184],[-193,-643]],[[33555,49613],[-51,-386],[-481,-435]],[[33023,48792],[-732,-108],[-264,-466],[-611,181],[8,2035],[0,1651],[-538,-9],[-6,821],[2379,1]],[[34890,70133],[-5,-3285]],[[32094,66858],[7,2470],[-6,1635]],[[24018,40231],[1058,-25],[1056,1],[-12,-3295],[-1,-824],[-2102,17],[1,4126]],[[66866,32003],[359,34],[393,385],[499,238],[346,166],[118,-100],[37,-31]],[[68618,32695],[-50,-1409],[426,-6],[-4,-714]],[[68990,30566],[-427,-2],[-7,-707],[-445,0],[-8,-599],[-432,6],[-7,-694]],[[67664,28570],[-746,21],[-34,1287],[0,86],[8,683]],[[66892,30647],[-13,660],[0,37],[-13,659]],[[31597,14005],[1029,17],[1014,12],[14,-4950],[-2022,10],[-9,2472],[-26,2439]],[[32094,66858],[2791,-10]],[[34885,66848],[912,-5],[2,-843],[0,-3284]],[[30863,62752],[5,3291],[531,-2],[-1,821],[696,-4]],[[30690,19705],[670,298],[30,265],[364,485],[366,1319],[512,574],[938,-2],[10,-1099],[505,9],[7,-1866],[-166,306],[-501,-265],[-998,146],[-113,-315],[-902,-520],[-409,15],[-313,650]],[[35593,24142],[613,22],[403,290],[270,354],[-10,825],[260,9],[1559,41],[45,-1332],[519,8],[-2,-2062],[-2,-1104],[-517,-4],[-1558,13],[-1035,-8],[0,5],[-515,-15],[-5,419],[-25,2539]],[[14163,65523],[8,-2466]],[[14171,63057],[-1101,4],[-3,-826],[-1098,-4],[-1,823]],[[11948,64707],[2,825],[1111,-2],[1102,-7]],[[96919,20815],[619,1584],[136,352],[206,-269],[654,-819],[847,-1060],[618,-768],[-369,-652],[-57,-216],[0,-1],[-136,164],[-380,279],[-185,-366],[263,-398],[2,-3],[-1,-3],[-5,-7],[-6,-7],[-10,-11],[-178,-175],[-119,-124],[-158,404],[-172,312],[-52,120]],[[98436,19151],[-745,784],[-159,577],[-613,303]],[[18513,54855],[16,0],[1611,1],[48,-140],[1038,4],[0,-3150],[-470,-1],[-1,0],[-1432,-7],[-697,0],[-112,0],[-1,3293]],[[60916,41478],[-81,2496],[-17,827],[-13,831],[1067,87],[1583,77],[52,-2496],[7,-294],[14,-550],[15,-827],[-310,-11],[-233,-12],[-511,-25],[-529,-29],[-534,-36]],[[3702,29764],[-425,1644],[-222,274],[640,-1],[1690,0],[125,-30]],[[32098,74192],[3354,40],[566,-424],[-12,404],[589,-38]],[[36595,74174],[5,-4067],[-1435,52],[-275,-26]],[[34890,70133],[-15,832],[-2780,-2]],[[32095,70963],[3,3229]],[[3912,81115],[491,0],[-10,822]],[[4393,81937],[4186,-15],[381,13]],[[8960,81935],[37,-827],[0,-2464],[44,-817],[0,-1657]],[[9041,76170],[-2819,6]],[[6222,76176],[-2240,11]],[[32355,25256],[2,2474],[1567,-8],[863,-4],[-111,-491],[-407,-1204],[33,-434],[8,-389],[-176,-202],[-376,-1238],[-429,-7],[-461,-378],[-5,1051],[-522,13],[14,817]],[[22639,64382],[5,-1637],[0,-1367],[-821,-3],[-202,186],[-170,-6],[-678,183],[-311,332],[-354,723],[-159,240],[-274,416],[-59,88],[166,812],[7,68],[0,4]],[[19248,71803],[1616,-19],[4,817],[1689,-29],[-2,-810],[-7,-4060]],[[19793,67706],[19,707],[62,105]],[[19874,68518],[223,381],[183,563],[53,395],[-181,324],[-187,504],[-130,301],[-202,50],[-359,100],[-31,619],[5,48]],[[7069,93416],[15,-2457],[115,-1],[-4,-1639]],[[7195,89319],[-2319,-8],[-3562,1],[8,687],[-127,727],[-51,218],[-158,687],[-307,939],[-185,839],[-143,878],[-165,614],[-186,729],[4,44],[2914,8],[0,-1439],[83,-548],[2,-1096],[585,-1],[4,-822],[2325,6],[2,824],[577,4],[-3,823],[576,-17]],[[6273,72896],[2796,-10]],[[9105,69616],[-558,1],[-2224,-2],[-50,3281]],[[32992,62750],[2807,-34]],[[34108,58605],[-573,18]],[[9001,32739],[-5,-3266]],[[8996,29473],[-1033,8],[-2158,2]],[[5588,29776],[-6,441],[96,380],[-161,414],[-14,453],[7,187]],[[5510,31651],[21,621],[-273,132],[-50,351],[2242,-8],[1551,-8]],[[91019,8768],[126,465],[304,974],[85,123]],[[91534,10330],[218,-263]],[[91752,10067],[40,-322],[184,-220],[178,-104],[367,-1206],[-183,-861],[109,-634]],[[92447,6720],[-70,-355],[120,-1652]],[[92497,4713],[-295,220],[-30,543],[-522,396],[-669,-63],[-166,-337],[-172,840],[28,40],[119,4],[55,264],[2,83],[6,365],[1,59],[269,436],[317,520],[-421,685]],[[72567,27857],[382,-2],[-3,702],[1,680]],[[72947,29237],[2182,-8],[0,-78],[-2,-1300],[-1,-762],[0,-59],[-1364,5],[-334,277],[-1,-276],[-862,6]],[[41012,45368],[1124,-10]],[[42136,45358],[247,-541],[-84,-794],[-76,-306]],[[42223,43717],[-1746,13],[1,-550],[-532,-6]],[[18644,66893],[162,-2],[2,-2198],[-162,0],[-343,307],[-373,-330]],[[17930,64670],[-99,194],[-35,1197],[-85,-1]],[[17711,66060],[0,135],[-3,704],[936,-6]],[[8577,64698],[2215,7],[1156,2]],[[11948,64707],[20,-186],[0,-1467]],[[11968,63054],[-594,-4],[24,-2460],[-707,5],[-155,263],[-230,130],[-66,175],[-1140,752],[-504,666],[-524,297],[-251,340],[-303,170]],[[7518,63388],[0,1304],[1059,6]],[[23186,81830],[-161,38],[-223,226],[-195,-27],[-179,-343],[-102,-288],[-391,-14]],[[21935,81422],[-43,952],[-3434,23]],[[18458,82397],[26,2453],[-62,3468],[38,3080],[-90,1620],[-69,1661],[36,5276],[603,44],[272,-345],[753,-525],[421,34],[17,-327],[-117,-390],[368,-247],[274,71],[265,-322],[-62,-588],[243,-533],[213,-709],[246,191],[86,355],[1,432],[150,293],[452,79],[483,-39],[249,-357],[88,-694],[394,-96],[435,-301],[-8,-4470],[50,-1750],[-27,-5701],[-58,-85],[-451,-401],[-483,-543],[-220,-280],[212,-921]],[[3702,29764],[1438,6],[448,6]],[[5588,29776],[1,-65],[239,25],[-23,-253]],[[5805,29483],[-30,-336],[22,-388],[-5,-290],[-515,5],[-119,69],[-231,44],[-735,-670],[-453,478],[-93,354],[56,1015]],[[28232,35251],[1004,-98],[924,119],[723,-425],[-13,-319],[-100,-285],[-13,-622],[-111,-180],[-233,-157],[-206,-372],[-234,-38],[-262,-30],[-214,-296],[-373,-286],[-385,-17],[11,1356],[-524,5],[6,1645]],[[15266,62329],[678,630],[108,653],[70,171],[263,93]],[[16385,63876],[372,83],[490,-207]],[[17247,63752],[52,-694],[-3,-821],[184,2],[-16,-820],[-344,1],[-753,-4],[-1744,-4],[36,420],[607,497]],[[62018,29545],[5,823]],[[62023,30368],[2620,12],[7,-361],[40,-2080]],[[64690,27939],[-106,-28],[-1173,-2]],[[63411,27909],[-1390,-15]],[[62021,27894],[-3,1651]],[[40595,55261],[544,2]],[[41139,55263],[1416,5],[-34,-174],[44,-598],[118,-406],[-36,-420],[9,-409],[-379,-1100],[-4,-189],[-1128,-6]],[[40601,51972],[-6,3289]],[[13543,71000],[1762,6]],[[15305,71006],[1124,-8]],[[16429,70998],[3,-1359]],[[16432,69639],[-10,-1596]],[[16422,68043],[-43,8]],[[16379,68051],[-191,516],[-870,-62],[-1314,1210]],[[59164,6938],[269,4555]],[[59433,11493],[576,-65]],[[60009,11428],[-30,-2133],[900,-8],[-148,-3610],[-300,190],[-52,354],[-227,192],[-82,335],[-236,149],[-109,69],[-227,118],[-330,-148],[-4,2]],[[19793,67706],[2755,-4]],[[22548,67702],[92,-833],[-1,-2487]],[[22639,64382],[-2850,39]],[[19789,64421],[73,751],[-50,764],[-185,405],[282,453],[-15,97],[-104,674],[3,141]],[[92503,4371],[297,-709],[483,-491],[217,-636],[240,140]],[[93740,2675],[-12,-80],[129,-142],[-83,-536],[177,-580],[151,-376],[-48,-368],[39,-593],[-224,406],[-265,376],[-229,-33],[-268,350],[-227,578],[-374,191],[-301,8],[-298,161],[-95,56],[-201,1243],[466,1161],[426,-126]],[[70020,24838],[9,1488],[1,833]],[[71180,27862],[161,2],[732,-5],[54,0],[440,-2]],[[72567,27857],[-2,-815]],[[72565,27042],[0,-26],[-3,-1615],[-502,13],[-175,-53],[-18,-689],[-346,10]],[[71521,24682],[-638,145],[-859,-301]],[[70024,24526],[-4,312]],[[9068,73024],[2240,5],[591,4],[1091,7]],[[12990,73040],[403,-902],[-95,-567],[245,-571]],[[13543,71000],[34,-621],[427,-664]],[[14004,69715],[-205,-759],[-759,-552],[-554,-11],[-2,415],[-1158,-11],[-556,5],[1,818],[-1666,-4]],[[9105,69616],[-36,3270]],[[9069,72886],[-1,138]],[[69862,30586],[65,1],[362,3],[114,2],[-148,693],[363,-10],[304,-9],[265,-8]],[[71187,31258],[-1,-676],[-1,-1331],[-2,-333],[-3,-707],[0,-349]],[[71180,27862],[-123,-774],[-1027,71]],[[70030,27159],[0,704],[-184,0]],[[69846,27863],[7,1391],[9,1332]],[[3979,75366],[56,-821],[-1,-1650]],[[4034,72895],[4,-1645]],[[4038,71250],[-2631,6]],[[1407,71256],[-39,74],[-35,240],[116,328],[366,447],[327,291],[191,461],[196,333],[68,523],[38,598],[-48,767],[7,51]],[[25383,61913],[1642,7]],[[27025,61920],[0,-3299],[62,-1584],[-703,-139],[-66,-759],[-459,-2],[-76,163],[-537,214]],[[25246,56514],[113,678],[-355,718],[376,705],[3,3298]],[[61570,23290],[460,11]],[[62030,23301],[680,15],[88,-55],[-1,-538]],[[62797,22723],[1,-1884],[344,-1],[10,-955]],[[63152,19883],[-164,-334]],[[62988,19549],[-1344,35]],[[61644,19584],[42,1076],[-257,37]],[[61429,20697],[141,2593]],[[39944,45357],[2,-2183]],[[39946,43174],[6,-1087]],[[39952,42087],[-914,-7],[-906,-13],[-312,6],[-3,3212],[0,77],[357,0],[707,3]],[[23031,76650],[2251,-6]],[[25282,76644],[50,-4902],[-2219,22],[-9,3246],[-73,1640]],[[39519,51977],[1082,-5]],[[40601,51972],[544,-6]],[[41145,51966],[3,-1647],[-102,-5],[-4,-1654]],[[39440,48685],[-2,1656],[81,1636]],[[60916,41478],[510,38]],[[61426,41516],[20,-811],[17,-819],[8,-832],[12,-837],[-1060,-30],[-1617,-103],[3,3332],[2107,62]],[[39440,48685],[1602,-25]],[[41042,48660],[-10,-629],[0,-45],[-2,-155],[-15,-1369],[0,-64],[-3,-1030]],[[41012,45368],[-1068,-11]],[[39944,45357],[-1063,8]],[[38881,45365],[0,1665],[26,1667],[533,-12]],[[35799,62716],[2795,-28],[-4,-829]],[[38590,61859],[-591,1],[-13,-3278]],[[37986,58582],[-120,0],[-544,-7]],[[35794,58583],[5,4133]],[[34108,58605],[1686,-22]],[[35794,58583],[1528,-8]],[[37322,58575],[2,-2448],[-1276,-4],[-1940,-7],[0,2489]],[[1631,81104],[2281,11]],[[3912,81115],[4,-3289],[66,-1639]],[[3982,76187],[-3,-821]],[[3979,75366],[-1385,3]],[[2594,75369],[82,586],[-186,1282],[-24,941],[-209,368],[-280,725],[-159,1233],[-187,600]],[[40148,34810],[511,14],[532,26],[6,-412]],[[41197,34438],[2,-145],[527,-245],[12,-822],[439,14],[98,-286],[14,-549],[1184,4]],[[43473,32409],[-6,-1624],[0,-1]],[[43467,30784],[-2202,-53],[10,-821],[-1050,-37]],[[40225,29873],[-36,2465],[0,3]],[[40189,32341],[-10,544],[-13,687],[-16,966],[-2,272]],[[30863,62752],[1591,-3],[538,1]],[[32992,62750],[2,-1637],[532,-3],[9,-2487]],[[33535,58623],[-804,17],[-805,-4],[-1047,-3],[-23,163],[8,1496],[-1,2460]],[[55702,11974],[853,65],[1251,-186]],[[57806,11853],[410,-38],[14,-165]],[[58230,11650],[-274,-447],[143,-349],[-50,-114],[-99,-1452]],[[57950,9288],[-24,65],[-336,178],[-144,355],[-56,288],[-76,69],[-85,-47],[-58,-135],[-25,-3],[-33,-4],[-200,-22],[-258,-247],[-64,48],[-249,188],[-167,325],[-165,139],[-314,-396],[0,1149],[6,736]]]}\"}}, {\"mode\": \"vega-lite\"});\n",
       "</script>"
      ],
      "text/plain": [
       "alt.Chart(...)"
      ]
     },
     "execution_count": 28,
     "metadata": {},
     "output_type": "execute_result"
    }
   ],
   "source": [
    "topo.to_alt().properties(title='County Topology')"
   ]
  },
  {
   "cell_type": "markdown",
   "metadata": {},
   "source": [
    "***\n",
    "\n",
    "## Part 3: City Geoportals GeoJSON"
   ]
  },
  {
   "cell_type": "markdown",
   "metadata": {},
   "source": [
    "### Format city name in city geoportals spreadsheet `allCities.csv`"
   ]
  },
  {
   "cell_type": "code",
   "execution_count": 29,
   "metadata": {
    "scrolled": true
   },
   "outputs": [
    {
     "data": {
      "text/html": [
       "<div>\n",
       "<style scoped>\n",
       "    .dataframe tbody tr th:only-of-type {\n",
       "        vertical-align: middle;\n",
       "    }\n",
       "\n",
       "    .dataframe tbody tr th {\n",
       "        vertical-align: top;\n",
       "    }\n",
       "\n",
       "    .dataframe thead th {\n",
       "        text-align: right;\n",
       "    }\n",
       "</style>\n",
       "<table border=\"1\" class=\"dataframe\">\n",
       "  <thead>\n",
       "    <tr style=\"text-align: right;\">\n",
       "      <th></th>\n",
       "      <th>cityCode</th>\n",
       "      <th>City</th>\n",
       "      <th>State</th>\n",
       "      <th>Title</th>\n",
       "      <th>sourceURL</th>\n",
       "      <th>btaaURL</th>\n",
       "      <th>centerX</th>\n",
       "      <th>centerY</th>\n",
       "    </tr>\n",
       "  </thead>\n",
       "  <tbody>\n",
       "    <tr>\n",
       "      <th>0</th>\n",
       "      <td>07c-02</td>\n",
       "      <td>Ann Arbor</td>\n",
       "      <td>Michigan</td>\n",
       "      <td>Ann Arbor Data Catalog</td>\n",
       "      <td>https://www.a2gov.org/services/data/Pages/defa...</td>\n",
       "      <td>https://geo.btaa.org/?q=07c-02</td>\n",
       "      <td>-83.74</td>\n",
       "      <td>42.27</td>\n",
       "    </tr>\n",
       "    <tr>\n",
       "      <th>1</th>\n",
       "      <td>11c-01-3</td>\n",
       "      <td>Cincinnati</td>\n",
       "      <td>Ohio</td>\n",
       "      <td>ArcGIS REST Services Directory for Cincinnati,...</td>\n",
       "      <td>https://cagisonline.hamilton-co.org/arcgis/res...</td>\n",
       "      <td>https://geo.btaa.org/?q=11c-01-3</td>\n",
       "      <td>-84.54</td>\n",
       "      <td>39.17</td>\n",
       "    </tr>\n",
       "    <tr>\n",
       "      <th>2</th>\n",
       "      <td>11c-01-2</td>\n",
       "      <td>Cincinnati</td>\n",
       "      <td>Ohio</td>\n",
       "      <td>Cincinnati Area Geographic Information Systems...</td>\n",
       "      <td>http://cagis.org/Opendata/?</td>\n",
       "      <td>https://geo.btaa.org/?q=11c-01-2</td>\n",
       "      <td>-84.54</td>\n",
       "      <td>39.17</td>\n",
       "    </tr>\n",
       "    <tr>\n",
       "      <th>3</th>\n",
       "      <td>10c-02</td>\n",
       "      <td>Hudson</td>\n",
       "      <td>Wisconsin</td>\n",
       "      <td>City Maps of Hudson, WI</td>\n",
       "      <td>https://hudsonwi.gov/475/City-Maps</td>\n",
       "      <td>https://geo.btaa.org/?q=10c-02</td>\n",
       "      <td>-92.73</td>\n",
       "      <td>44.96</td>\n",
       "    </tr>\n",
       "    <tr>\n",
       "      <th>4</th>\n",
       "      <td>04c-02</td>\n",
       "      <td>Baltimore</td>\n",
       "      <td>Maryland</td>\n",
       "      <td>City of Baltimore GIS Open Data</td>\n",
       "      <td>http://gis-baltimore.opendata.arcgis.com</td>\n",
       "      <td>https://geo.btaa.org/?q=04c-02</td>\n",
       "      <td>-76.62</td>\n",
       "      <td>39.28</td>\n",
       "    </tr>\n",
       "  </tbody>\n",
       "</table>\n",
       "</div>"
      ],
      "text/plain": [
       "   cityCode        City      State  \\\n",
       "0    07c-02   Ann Arbor   Michigan   \n",
       "1  11c-01-3  Cincinnati       Ohio   \n",
       "2  11c-01-2  Cincinnati       Ohio   \n",
       "3    10c-02      Hudson  Wisconsin   \n",
       "4    04c-02   Baltimore   Maryland   \n",
       "\n",
       "                                               Title  \\\n",
       "0                             Ann Arbor Data Catalog   \n",
       "1  ArcGIS REST Services Directory for Cincinnati,...   \n",
       "2  Cincinnati Area Geographic Information Systems...   \n",
       "3                            City Maps of Hudson, WI   \n",
       "4                    City of Baltimore GIS Open Data   \n",
       "\n",
       "                                           sourceURL  \\\n",
       "0  https://www.a2gov.org/services/data/Pages/defa...   \n",
       "1  https://cagisonline.hamilton-co.org/arcgis/res...   \n",
       "2                        http://cagis.org/Opendata/?   \n",
       "3                 https://hudsonwi.gov/475/City-Maps   \n",
       "4           http://gis-baltimore.opendata.arcgis.com   \n",
       "\n",
       "                            btaaURL  centerX  centerY  \n",
       "0    https://geo.btaa.org/?q=07c-02   -83.74    42.27  \n",
       "1  https://geo.btaa.org/?q=11c-01-3   -84.54    39.17  \n",
       "2  https://geo.btaa.org/?q=11c-01-2   -84.54    39.17  \n",
       "3    https://geo.btaa.org/?q=10c-02   -92.73    44.96  \n",
       "4    https://geo.btaa.org/?q=04c-02   -76.62    39.28  "
      ]
     },
     "execution_count": 29,
     "metadata": {},
     "output_type": "execute_result"
    }
   ],
   "source": [
    "df = pd.read_csv(citygeoportals)\n",
    "## Calculate city coordinates and round to 2 decimal places \n",
    "df = pd.concat([df, df['Bounding Box'].str.split(',', expand=True).astype(float)], axis=1).rename(\n",
    "    columns={0:'minX', 1:'minY', 2:'maxX', 3:'maxY'})\n",
    "df['centerX'] = round((df['minX'] + df['maxX']) / 2, 2)\n",
    "df['centerY'] = round((df['minY'] + df['maxY']) / 2, 2)\n",
    "df_clean = df.drop(columns =['minX', 'minY', 'maxX', 'maxY', 'Bounding Box'])\n",
    "df_clean.head()"
   ]
  },
  {
   "cell_type": "markdown",
   "metadata": {},
   "source": [
    "### Etract total records number from BTAA Geoportal search page"
   ]
  },
  {
   "cell_type": "code",
   "execution_count": 30,
   "metadata": {},
   "outputs": [],
   "source": [
    "df_clean['totalRecords'] = totalRecords(df_clean)"
   ]
  },
  {
   "cell_type": "markdown",
   "metadata": {},
   "source": [
    "### Inspect the numinum number of total records\n",
    "If it equals to 0, meaning the landing page is 404 Not Found. Go back to check if the identifier is still active. "
   ]
  },
  {
   "cell_type": "code",
   "execution_count": 31,
   "metadata": {},
   "outputs": [
    {
     "name": "stdout",
     "output_type": "stream",
     "text": [
      "> State Geoportal Codes all valid!\n"
     ]
    }
   ],
   "source": [
    "check_totalRecords(df_clean)"
   ]
  },
  {
   "cell_type": "markdown",
   "metadata": {},
   "source": [
    "### Group dataframe rows into list by geoportal sites"
   ]
  },
  {
   "cell_type": "code",
   "execution_count": 32,
   "metadata": {},
   "outputs": [
    {
     "name": "stderr",
     "output_type": "stream",
     "text": [
      "/var/folders/h1/wds8r6757dz_4h_l5tz85gyw0000gq/T/ipykernel_16021/890603058.py:8: FutureWarning: Not prepending group keys to the result index of transform-like apply. In the future, the group keys will be included in the index, regardless of whether the applied function returns a like-indexed object.\n",
      "To preserve the previous behavior, use\n",
      "\n",
      "\t>>> .groupby(..., group_keys=False)\n",
      "\n",
      "To adopt the future behavior and silence this warning, use \n",
      "\n",
      "\t>>> .groupby(..., group_keys=True)\n",
      "  df_group = df_clean.groupby(['centerX']).apply(aggregate_to_array).drop_duplicates(subset=['City', 'State'])\n"
     ]
    },
    {
     "data": {
      "text/html": [
       "<div>\n",
       "<style scoped>\n",
       "    .dataframe tbody tr th:only-of-type {\n",
       "        vertical-align: middle;\n",
       "    }\n",
       "\n",
       "    .dataframe tbody tr th {\n",
       "        vertical-align: top;\n",
       "    }\n",
       "\n",
       "    .dataframe thead th {\n",
       "        text-align: right;\n",
       "    }\n",
       "</style>\n",
       "<table border=\"1\" class=\"dataframe\">\n",
       "  <thead>\n",
       "    <tr style=\"text-align: right;\">\n",
       "      <th></th>\n",
       "      <th>cityCode</th>\n",
       "      <th>City</th>\n",
       "      <th>State</th>\n",
       "      <th>Title</th>\n",
       "      <th>sourceURL</th>\n",
       "      <th>btaaURL</th>\n",
       "      <th>centerX</th>\n",
       "      <th>centerY</th>\n",
       "      <th>totalRecords</th>\n",
       "    </tr>\n",
       "  </thead>\n",
       "  <tbody>\n",
       "    <tr>\n",
       "      <th>0</th>\n",
       "      <td>07c-02</td>\n",
       "      <td>Ann Arbor</td>\n",
       "      <td>Michigan</td>\n",
       "      <td>[Ann Arbor Data Catalog]</td>\n",
       "      <td>[https://www.a2gov.org/services/data/Pages/def...</td>\n",
       "      <td>https://geo.btaa.org/?q=07c-02</td>\n",
       "      <td>-83.74</td>\n",
       "      <td>42.27</td>\n",
       "      <td>157</td>\n",
       "    </tr>\n",
       "    <tr>\n",
       "      <th>1</th>\n",
       "      <td>11c-01-3</td>\n",
       "      <td>Cincinnati</td>\n",
       "      <td>Ohio</td>\n",
       "      <td>[ArcGIS REST Services Directory for Cincinnati...</td>\n",
       "      <td>[https://cagisonline.hamilton-co.org/arcgis/re...</td>\n",
       "      <td>https://geo.btaa.org/?q=11c-01-3</td>\n",
       "      <td>-84.54</td>\n",
       "      <td>39.17</td>\n",
       "      <td>5</td>\n",
       "    </tr>\n",
       "    <tr>\n",
       "      <th>3</th>\n",
       "      <td>10c-02</td>\n",
       "      <td>Hudson</td>\n",
       "      <td>Wisconsin</td>\n",
       "      <td>[City Maps of Hudson, WI]</td>\n",
       "      <td>[https://hudsonwi.gov/475/City-Maps]</td>\n",
       "      <td>https://geo.btaa.org/?q=10c-02</td>\n",
       "      <td>-92.73</td>\n",
       "      <td>44.96</td>\n",
       "      <td>174</td>\n",
       "    </tr>\n",
       "    <tr>\n",
       "      <th>4</th>\n",
       "      <td>04c-02</td>\n",
       "      <td>Baltimore</td>\n",
       "      <td>Maryland</td>\n",
       "      <td>[City of Baltimore GIS Open Data, Open Baltimore]</td>\n",
       "      <td>[http://gis-baltimore.opendata.arcgis.com, htt...</td>\n",
       "      <td>https://geo.btaa.org/?q=04c-02</td>\n",
       "      <td>-76.62</td>\n",
       "      <td>39.28</td>\n",
       "      <td>1928</td>\n",
       "    </tr>\n",
       "    <tr>\n",
       "      <th>5</th>\n",
       "      <td>01c-01</td>\n",
       "      <td>Bloomington</td>\n",
       "      <td>Indiana</td>\n",
       "      <td>[City of Bloomington, Indiana Open Data Portal]</td>\n",
       "      <td>[https://data.bloomington.in.gov]</td>\n",
       "      <td>https://geo.btaa.org/?q=01c-01</td>\n",
       "      <td>-86.53</td>\n",
       "      <td>39.17</td>\n",
       "      <td>36</td>\n",
       "    </tr>\n",
       "  </tbody>\n",
       "</table>\n",
       "</div>"
      ],
      "text/plain": [
       "   cityCode         City      State  \\\n",
       "0    07c-02    Ann Arbor   Michigan   \n",
       "1  11c-01-3   Cincinnati       Ohio   \n",
       "3    10c-02       Hudson  Wisconsin   \n",
       "4    04c-02    Baltimore   Maryland   \n",
       "5    01c-01  Bloomington    Indiana   \n",
       "\n",
       "                                               Title  \\\n",
       "0                           [Ann Arbor Data Catalog]   \n",
       "1  [ArcGIS REST Services Directory for Cincinnati...   \n",
       "3                          [City Maps of Hudson, WI]   \n",
       "4  [City of Baltimore GIS Open Data, Open Baltimore]   \n",
       "5    [City of Bloomington, Indiana Open Data Portal]   \n",
       "\n",
       "                                           sourceURL  \\\n",
       "0  [https://www.a2gov.org/services/data/Pages/def...   \n",
       "1  [https://cagisonline.hamilton-co.org/arcgis/re...   \n",
       "3               [https://hudsonwi.gov/475/City-Maps]   \n",
       "4  [http://gis-baltimore.opendata.arcgis.com, htt...   \n",
       "5                  [https://data.bloomington.in.gov]   \n",
       "\n",
       "                            btaaURL  centerX  centerY  totalRecords  \n",
       "0    https://geo.btaa.org/?q=07c-02   -83.74    42.27           157  \n",
       "1  https://geo.btaa.org/?q=11c-01-3   -84.54    39.17             5  \n",
       "3    https://geo.btaa.org/?q=10c-02   -92.73    44.96           174  \n",
       "4    https://geo.btaa.org/?q=04c-02   -76.62    39.28          1928  \n",
       "5    https://geo.btaa.org/?q=01c-01   -86.53    39.17            36  "
      ]
     },
     "execution_count": 32,
     "metadata": {},
     "output_type": "execute_result"
    }
   ],
   "source": [
    "def aggregate_to_array(data):\n",
    "    groupItems = ['Title', 'sourceURL', 'totalRecords']\n",
    "    for i in range(len(groupItems)):\n",
    "        data[groupItems[i]] = np.tile([data[groupItems[i]].values], (data.shape[0], 1)).tolist()\n",
    "    return data\n",
    "\n",
    "## Group by ['City', 'State']\n",
    "df_group = df_clean.groupby(['centerX']).apply(aggregate_to_array).drop_duplicates(subset=['City', 'State'])\n",
    "# sum up the total records if there're multiple geoportals in one city\n",
    "df_group['totalRecords'] = df_group['totalRecords'].apply(lambda x: sum(int(item)for item in x))\n",
    "df_group.head()"
   ]
  },
  {
   "cell_type": "markdown",
   "metadata": {},
   "source": [
    "### Classify the geoportal by total number\n",
    "You may want to adjust the classification method **`Quantiles`** and class number **`k`**. \n",
    "Reference the <a href=\"https://pypi.org/project/mapclassify/\">mapclassify</a>."
   ]
  },
  {
   "cell_type": "code",
   "execution_count": 33,
   "metadata": {
    "scrolled": true
   },
   "outputs": [
    {
     "data": {
      "text/plain": [
       "Quantiles                 \n",
       "\n",
       "     Interval        Count\n",
       "--------------------------\n",
       "[   2.00,   51.67] |     8\n",
       "(  51.67,  168.33] |     7\n",
       "( 168.33, 1928.00] |     8"
      ]
     },
     "execution_count": 33,
     "metadata": {},
     "output_type": "execute_result"
    }
   ],
   "source": [
    "n3 = mapclassify.Quantiles(df_group.totalRecords, k=3)\n",
    "n3"
   ]
  },
  {
   "cell_type": "code",
   "execution_count": 34,
   "metadata": {},
   "outputs": [],
   "source": [
    "cityInterval = list(n3.bins)"
   ]
  },
  {
   "cell_type": "markdown",
   "metadata": {},
   "source": [
    "### Assign different circle radius to each geoportal based on total records class"
   ]
  },
  {
   "cell_type": "code",
   "execution_count": 35,
   "metadata": {},
   "outputs": [],
   "source": [
    "## Size of symbols on map in meters \n",
    "size = [12000, 16000, 22000]\n",
    "## Size of symbols inside legend in pixels\n",
    "legendSize = [12, 18, 28]"
   ]
  },
  {
   "cell_type": "code",
   "execution_count": 36,
   "metadata": {},
   "outputs": [
    {
     "data": {
      "text/html": [
       "<div>\n",
       "<style scoped>\n",
       "    .dataframe tbody tr th:only-of-type {\n",
       "        vertical-align: middle;\n",
       "    }\n",
       "\n",
       "    .dataframe tbody tr th {\n",
       "        vertical-align: top;\n",
       "    }\n",
       "\n",
       "    .dataframe thead th {\n",
       "        text-align: right;\n",
       "    }\n",
       "</style>\n",
       "<table border=\"1\" class=\"dataframe\">\n",
       "  <thead>\n",
       "    <tr style=\"text-align: right;\">\n",
       "      <th></th>\n",
       "      <th>cityCode</th>\n",
       "      <th>City</th>\n",
       "      <th>State</th>\n",
       "      <th>Title</th>\n",
       "      <th>sourceURL</th>\n",
       "      <th>btaaURL</th>\n",
       "      <th>centerX</th>\n",
       "      <th>centerY</th>\n",
       "      <th>totalRecords</th>\n",
       "      <th>Size</th>\n",
       "    </tr>\n",
       "  </thead>\n",
       "  <tbody>\n",
       "    <tr>\n",
       "      <th>0</th>\n",
       "      <td>07c-02</td>\n",
       "      <td>Ann Arbor</td>\n",
       "      <td>Michigan</td>\n",
       "      <td>[Ann Arbor Data Catalog]</td>\n",
       "      <td>[https://www.a2gov.org/services/data/Pages/def...</td>\n",
       "      <td>https://geo.btaa.org/?q=07c-02</td>\n",
       "      <td>-83.74</td>\n",
       "      <td>42.27</td>\n",
       "      <td>157</td>\n",
       "      <td>16000</td>\n",
       "    </tr>\n",
       "    <tr>\n",
       "      <th>1</th>\n",
       "      <td>11c-01-3</td>\n",
       "      <td>Cincinnati</td>\n",
       "      <td>Ohio</td>\n",
       "      <td>[ArcGIS REST Services Directory for Cincinnati...</td>\n",
       "      <td>[https://cagisonline.hamilton-co.org/arcgis/re...</td>\n",
       "      <td>https://geo.btaa.org/?q=11c-01-3</td>\n",
       "      <td>-84.54</td>\n",
       "      <td>39.17</td>\n",
       "      <td>5</td>\n",
       "      <td>12000</td>\n",
       "    </tr>\n",
       "    <tr>\n",
       "      <th>3</th>\n",
       "      <td>10c-02</td>\n",
       "      <td>Hudson</td>\n",
       "      <td>Wisconsin</td>\n",
       "      <td>[City Maps of Hudson, WI]</td>\n",
       "      <td>[https://hudsonwi.gov/475/City-Maps]</td>\n",
       "      <td>https://geo.btaa.org/?q=10c-02</td>\n",
       "      <td>-92.73</td>\n",
       "      <td>44.96</td>\n",
       "      <td>174</td>\n",
       "      <td>22000</td>\n",
       "    </tr>\n",
       "    <tr>\n",
       "      <th>4</th>\n",
       "      <td>04c-02</td>\n",
       "      <td>Baltimore</td>\n",
       "      <td>Maryland</td>\n",
       "      <td>[City of Baltimore GIS Open Data, Open Baltimore]</td>\n",
       "      <td>[http://gis-baltimore.opendata.arcgis.com, htt...</td>\n",
       "      <td>https://geo.btaa.org/?q=04c-02</td>\n",
       "      <td>-76.62</td>\n",
       "      <td>39.28</td>\n",
       "      <td>1928</td>\n",
       "      <td>22000</td>\n",
       "    </tr>\n",
       "    <tr>\n",
       "      <th>5</th>\n",
       "      <td>01c-01</td>\n",
       "      <td>Bloomington</td>\n",
       "      <td>Indiana</td>\n",
       "      <td>[City of Bloomington, Indiana Open Data Portal]</td>\n",
       "      <td>[https://data.bloomington.in.gov]</td>\n",
       "      <td>https://geo.btaa.org/?q=01c-01</td>\n",
       "      <td>-86.53</td>\n",
       "      <td>39.17</td>\n",
       "      <td>36</td>\n",
       "      <td>12000</td>\n",
       "    </tr>\n",
       "  </tbody>\n",
       "</table>\n",
       "</div>"
      ],
      "text/plain": [
       "   cityCode         City      State  \\\n",
       "0    07c-02    Ann Arbor   Michigan   \n",
       "1  11c-01-3   Cincinnati       Ohio   \n",
       "3    10c-02       Hudson  Wisconsin   \n",
       "4    04c-02    Baltimore   Maryland   \n",
       "5    01c-01  Bloomington    Indiana   \n",
       "\n",
       "                                               Title  \\\n",
       "0                           [Ann Arbor Data Catalog]   \n",
       "1  [ArcGIS REST Services Directory for Cincinnati...   \n",
       "3                          [City Maps of Hudson, WI]   \n",
       "4  [City of Baltimore GIS Open Data, Open Baltimore]   \n",
       "5    [City of Bloomington, Indiana Open Data Portal]   \n",
       "\n",
       "                                           sourceURL  \\\n",
       "0  [https://www.a2gov.org/services/data/Pages/def...   \n",
       "1  [https://cagisonline.hamilton-co.org/arcgis/re...   \n",
       "3               [https://hudsonwi.gov/475/City-Maps]   \n",
       "4  [http://gis-baltimore.opendata.arcgis.com, htt...   \n",
       "5                  [https://data.bloomington.in.gov]   \n",
       "\n",
       "                            btaaURL  centerX  centerY  totalRecords   Size  \n",
       "0    https://geo.btaa.org/?q=07c-02   -83.74    42.27           157  16000  \n",
       "1  https://geo.btaa.org/?q=11c-01-3   -84.54    39.17             5  12000  \n",
       "3    https://geo.btaa.org/?q=10c-02   -92.73    44.96           174  22000  \n",
       "4    https://geo.btaa.org/?q=04c-02   -76.62    39.28          1928  22000  \n",
       "5    https://geo.btaa.org/?q=01c-01   -86.53    39.17            36  12000  "
      ]
     },
     "execution_count": 36,
     "metadata": {},
     "output_type": "execute_result"
    }
   ],
   "source": [
    "def totalRecords_size(row):\n",
    "    if row['totalRecords'] <= cityInterval[0]:\n",
    "        return size[0]\n",
    "    elif row['totalRecords'] > cityInterval[0] and row['totalRecords'] <= cityInterval[1]:\n",
    "        return size[1]\n",
    "    else:\n",
    "        return size[2]\n",
    "\n",
    "## Append a new column with color generated above\n",
    "df_group['Size'] = df_group.apply(totalRecords_size, axis=1)\n",
    "df_group.head()"
   ]
  },
  {
   "cell_type": "markdown",
   "metadata": {},
   "source": [
    "### Create city GeoJSON features"
   ]
  },
  {
   "cell_type": "code",
   "execution_count": 37,
   "metadata": {},
   "outputs": [
    {
     "name": "stdout",
     "output_type": "stream",
     "text": [
      "> Creating city GeoJSON features...\n"
     ]
    }
   ],
   "source": [
    "def create_geojson_features(df):\n",
    "    print('> Creating city GeoJSON features...')\n",
    "    features = []\n",
    "    geojson = {\n",
    "        'type': 'FeatureCollection',\n",
    "        'features': features\n",
    "    }\n",
    "    for _, row in df.iterrows():\n",
    "        feature = {\n",
    "            'type': 'Feature',\n",
    "            'geometry': {\n",
    "                'type':'Point', \n",
    "                'coordinates':[row['centerX'], row['centerY']]\n",
    "            },\n",
    "            'properties': {\n",
    "                'City': row['City'],\n",
    "                'State': row['State'],\n",
    "                'Title': '|'.join([str(elem) for elem in row['Title']]),\n",
    "                'sourceURL': '|'.join([str(elem) for elem in row['sourceURL']]), \n",
    "                'btaaURL': row['btaaURL'],\n",
    "                'totalRecords': row['totalRecords'],\n",
    "                'Size' : row['Size']\n",
    "            }\n",
    "           }\n",
    "\n",
    "        features.append(feature)\n",
    "    return geojson\n",
    "\n",
    "data_geojson = create_geojson_features(df_group)"
   ]
  },
  {
   "cell_type": "markdown",
   "metadata": {},
   "source": [
    "### Write to city GeoJSON file `activecities.json`"
   ]
  },
  {
   "cell_type": "code",
   "execution_count": 38,
   "metadata": {},
   "outputs": [
    {
     "name": "stdout",
     "output_type": "stream",
     "text": [
      "> Creating city GeoJSON file...\n"
     ]
    }
   ],
   "source": [
    "with open(activecities, 'w') as txtfile:\n",
    "    json.dump(data_geojson, txtfile)\n",
    "print('> Creating city GeoJSON file...')"
   ]
  },
  {
   "cell_type": "markdown",
   "metadata": {},
   "source": [
    "### Inspect city GeoJSON"
   ]
  },
  {
   "cell_type": "code",
   "execution_count": 39,
   "metadata": {},
   "outputs": [
    {
     "name": "stdout",
     "output_type": "stream",
     "text": [
      "> Making map...\n"
     ]
    },
    {
     "data": {
      "text/html": [
       "<div style=\"width:100%;\"><div style=\"position:relative;width:100%;height:0;padding-bottom:60%;\"><span style=\"color:#565656\">Make this Notebook Trusted to load map: File -> Trust Notebook</span><iframe srcdoc=\"&lt;!DOCTYPE html&gt;\n",
       "&lt;html&gt;\n",
       "&lt;head&gt;\n",
       "    \n",
       "    &lt;meta http-equiv=&quot;content-type&quot; content=&quot;text/html; charset=UTF-8&quot; /&gt;\n",
       "    \n",
       "        &lt;script&gt;\n",
       "            L_NO_TOUCH = false;\n",
       "            L_DISABLE_3D = false;\n",
       "        &lt;/script&gt;\n",
       "    \n",
       "    &lt;style&gt;html, body {width: 100%;height: 100%;margin: 0;padding: 0;}&lt;/style&gt;\n",
       "    &lt;style&gt;#map {position:absolute;top:0;bottom:0;right:0;left:0;}&lt;/style&gt;\n",
       "    &lt;script src=&quot;https://cdn.jsdelivr.net/npm/leaflet@1.9.3/dist/leaflet.js&quot;&gt;&lt;/script&gt;\n",
       "    &lt;script src=&quot;https://code.jquery.com/jquery-1.12.4.min.js&quot;&gt;&lt;/script&gt;\n",
       "    &lt;script src=&quot;https://cdn.jsdelivr.net/npm/bootstrap@5.2.2/dist/js/bootstrap.bundle.min.js&quot;&gt;&lt;/script&gt;\n",
       "    &lt;script src=&quot;https://cdnjs.cloudflare.com/ajax/libs/Leaflet.awesome-markers/2.0.2/leaflet.awesome-markers.js&quot;&gt;&lt;/script&gt;\n",
       "    &lt;link rel=&quot;stylesheet&quot; href=&quot;https://cdn.jsdelivr.net/npm/leaflet@1.9.3/dist/leaflet.css&quot;/&gt;\n",
       "    &lt;link rel=&quot;stylesheet&quot; href=&quot;https://cdn.jsdelivr.net/npm/bootstrap@5.2.2/dist/css/bootstrap.min.css&quot;/&gt;\n",
       "    &lt;link rel=&quot;stylesheet&quot; href=&quot;https://netdna.bootstrapcdn.com/bootstrap/3.0.0/css/bootstrap.min.css&quot;/&gt;\n",
       "    &lt;link rel=&quot;stylesheet&quot; href=&quot;https://cdn.jsdelivr.net/npm/@fortawesome/fontawesome-free@6.2.0/css/all.min.css&quot;/&gt;\n",
       "    &lt;link rel=&quot;stylesheet&quot; href=&quot;https://cdnjs.cloudflare.com/ajax/libs/Leaflet.awesome-markers/2.0.2/leaflet.awesome-markers.css&quot;/&gt;\n",
       "    &lt;link rel=&quot;stylesheet&quot; href=&quot;https://cdn.jsdelivr.net/gh/python-visualization/folium/folium/templates/leaflet.awesome.rotate.min.css&quot;/&gt;\n",
       "    \n",
       "            &lt;meta name=&quot;viewport&quot; content=&quot;width=device-width,\n",
       "                initial-scale=1.0, maximum-scale=1.0, user-scalable=no&quot; /&gt;\n",
       "            &lt;style&gt;\n",
       "                #map_b3de0f4911de38d3d4281b9b35d844b1 {\n",
       "                    position: relative;\n",
       "                    width: 100.0%;\n",
       "                    height: 100.0%;\n",
       "                    left: 0.0%;\n",
       "                    top: 0.0%;\n",
       "                }\n",
       "                .leaflet-container { font-size: 1rem; }\n",
       "            &lt;/style&gt;\n",
       "        \n",
       "    \n",
       "                    &lt;style&gt;\n",
       "                        .foliumtooltip {\n",
       "                            \n",
       "                        }\n",
       "                       .foliumtooltip table{\n",
       "                            margin: auto;\n",
       "                        }\n",
       "                        .foliumtooltip tr{\n",
       "                            text-align: left;\n",
       "                        }\n",
       "                        .foliumtooltip th{\n",
       "                            padding: 2px; padding-right: 8px;\n",
       "                        }\n",
       "                    &lt;/style&gt;\n",
       "            \n",
       "&lt;/head&gt;\n",
       "&lt;body&gt;\n",
       "    \n",
       "    \n",
       "            &lt;div class=&quot;folium-map&quot; id=&quot;map_b3de0f4911de38d3d4281b9b35d844b1&quot; &gt;&lt;/div&gt;\n",
       "        \n",
       "&lt;/body&gt;\n",
       "&lt;script&gt;\n",
       "    \n",
       "    \n",
       "            var map_b3de0f4911de38d3d4281b9b35d844b1 = L.map(\n",
       "                &quot;map_b3de0f4911de38d3d4281b9b35d844b1&quot;,\n",
       "                {\n",
       "                    center: [44.0, -90.0],\n",
       "                    crs: L.CRS.EPSG3857,\n",
       "                    zoom: 6,\n",
       "                    zoomControl: true,\n",
       "                    preferCanvas: false,\n",
       "                }\n",
       "            );\n",
       "            L.control.scale().addTo(map_b3de0f4911de38d3d4281b9b35d844b1);\n",
       "\n",
       "            \n",
       "\n",
       "        \n",
       "    \n",
       "            var tile_layer_58171e4d872b59638a00f8f6f87065bd = L.tileLayer(\n",
       "                &quot;https://{s}.tile.openstreetmap.org/{z}/{x}/{y}.png&quot;,\n",
       "                {&quot;attribution&quot;: &quot;Data by \\u0026copy; \\u003ca target=\\&quot;_blank\\&quot; href=\\&quot;http://openstreetmap.org\\&quot;\\u003eOpenStreetMap\\u003c/a\\u003e, under \\u003ca target=\\&quot;_blank\\&quot; href=\\&quot;http://www.openstreetmap.org/copyright\\&quot;\\u003eODbL\\u003c/a\\u003e.&quot;, &quot;detectRetina&quot;: false, &quot;maxNativeZoom&quot;: 18, &quot;maxZoom&quot;: 18, &quot;minZoom&quot;: 0, &quot;noWrap&quot;: false, &quot;opacity&quot;: 1, &quot;subdomains&quot;: &quot;abc&quot;, &quot;tms&quot;: false}\n",
       "            ).addTo(map_b3de0f4911de38d3d4281b9b35d844b1);\n",
       "        \n",
       "    \n",
       "\n",
       "        function geo_json_85a3b9f782a1ef964db5d982d2d6d549_onEachFeature(feature, layer) {\n",
       "            layer.on({\n",
       "            });\n",
       "        };\n",
       "        var geo_json_85a3b9f782a1ef964db5d982d2d6d549 = L.geoJson(null, {\n",
       "                onEachFeature: geo_json_85a3b9f782a1ef964db5d982d2d6d549_onEachFeature,\n",
       "            \n",
       "        });\n",
       "\n",
       "        function geo_json_85a3b9f782a1ef964db5d982d2d6d549_add (data) {\n",
       "            geo_json_85a3b9f782a1ef964db5d982d2d6d549\n",
       "                .addData(data)\n",
       "                .addTo(map_b3de0f4911de38d3d4281b9b35d844b1);\n",
       "        }\n",
       "            geo_json_85a3b9f782a1ef964db5d982d2d6d549_add({&quot;features&quot;: [{&quot;geometry&quot;: {&quot;coordinates&quot;: [-83.74, 42.27], &quot;type&quot;: &quot;Point&quot;}, &quot;properties&quot;: {&quot;City&quot;: &quot;Ann Arbor&quot;, &quot;Size&quot;: 16000, &quot;State&quot;: &quot;Michigan&quot;, &quot;Title&quot;: &quot;Ann Arbor Data Catalog&quot;, &quot;btaaURL&quot;: &quot;https://geo.btaa.org/?q=07c-02&quot;, &quot;sourceURL&quot;: &quot;https://www.a2gov.org/services/data/Pages/default.aspx&quot;, &quot;totalRecords&quot;: 157}, &quot;type&quot;: &quot;Feature&quot;}, {&quot;geometry&quot;: {&quot;coordinates&quot;: [-84.54, 39.17], &quot;type&quot;: &quot;Point&quot;}, &quot;properties&quot;: {&quot;City&quot;: &quot;Cincinnati&quot;, &quot;Size&quot;: 12000, &quot;State&quot;: &quot;Ohio&quot;, &quot;Title&quot;: &quot;ArcGIS REST Services Directory for Cincinnati, Ohio|Cincinnati Area Geographic Information Systems (CAGIS) File Downloads&quot;, &quot;btaaURL&quot;: &quot;https://geo.btaa.org/?q=11c-01-3&quot;, &quot;sourceURL&quot;: &quot;https://cagisonline.hamilton-co.org/arcgis/rest/services|http://cagis.org/Opendata/?&quot;, &quot;totalRecords&quot;: 5}, &quot;type&quot;: &quot;Feature&quot;}, {&quot;geometry&quot;: {&quot;coordinates&quot;: [-92.73, 44.96], &quot;type&quot;: &quot;Point&quot;}, &quot;properties&quot;: {&quot;City&quot;: &quot;Hudson&quot;, &quot;Size&quot;: 22000, &quot;State&quot;: &quot;Wisconsin&quot;, &quot;Title&quot;: &quot;City Maps of Hudson, WI&quot;, &quot;btaaURL&quot;: &quot;https://geo.btaa.org/?q=10c-02&quot;, &quot;sourceURL&quot;: &quot;https://hudsonwi.gov/475/City-Maps&quot;, &quot;totalRecords&quot;: 174}, &quot;type&quot;: &quot;Feature&quot;}, {&quot;geometry&quot;: {&quot;coordinates&quot;: [-76.62, 39.28], &quot;type&quot;: &quot;Point&quot;}, &quot;properties&quot;: {&quot;City&quot;: &quot;Baltimore&quot;, &quot;Size&quot;: 22000, &quot;State&quot;: &quot;Maryland&quot;, &quot;Title&quot;: &quot;City of Baltimore GIS Open Data|Open Baltimore&quot;, &quot;btaaURL&quot;: &quot;https://geo.btaa.org/?q=04c-02&quot;, &quot;sourceURL&quot;: &quot;http://gis-baltimore.opendata.arcgis.com|https://data.baltimorecity.gov&quot;, &quot;totalRecords&quot;: 1928}, &quot;type&quot;: &quot;Feature&quot;}, {&quot;geometry&quot;: {&quot;coordinates&quot;: [-86.53, 39.17], &quot;type&quot;: &quot;Point&quot;}, &quot;properties&quot;: {&quot;City&quot;: &quot;Bloomington&quot;, &quot;Size&quot;: 12000, &quot;State&quot;: &quot;Indiana&quot;, &quot;Title&quot;: &quot;City of Bloomington, Indiana Open Data Portal&quot;, &quot;btaaURL&quot;: &quot;https://geo.btaa.org/?q=01c-01&quot;, &quot;sourceURL&quot;: &quot;https://data.bloomington.in.gov&quot;, &quot;totalRecords&quot;: 36}, &quot;type&quot;: &quot;Feature&quot;}, {&quot;geometry&quot;: {&quot;coordinates&quot;: [-87.73, 41.83], &quot;type&quot;: &quot;Point&quot;}, &quot;properties&quot;: {&quot;City&quot;: &quot;Chicago&quot;, &quot;Size&quot;: 22000, &quot;State&quot;: &quot;Illinois&quot;, &quot;Title&quot;: &quot;City of Chicago Data Portal|CMAP (Chicago Metropolitan Agency for Planning) Data Hub&quot;, &quot;btaaURL&quot;: &quot;https://geo.btaa.org/?q=12c-01&quot;, &quot;sourceURL&quot;: &quot;https://data.cityofchicago.org|https://datahub.cmap.illinois.gov&quot;, &quot;totalRecords&quot;: 342}, &quot;type&quot;: &quot;Feature&quot;}, {&quot;geometry&quot;: {&quot;coordinates&quot;: [-93.6, 41.57], &quot;type&quot;: &quot;Point&quot;}, &quot;properties&quot;: {&quot;City&quot;: &quot;Des Moines&quot;, &quot;Size&quot;: 12000, &quot;State&quot;: &quot;Iowa&quot;, &quot;Title&quot;: &quot;City of Des Moines GIS Data&quot;, &quot;btaaURL&quot;: &quot;https://geo.btaa.org/?q=03c-01&quot;, &quot;sourceURL&quot;: &quot;https://www.dsm.city/city_of_des_moines_gis_data&quot;, &quot;totalRecords&quot;: 13}, &quot;type&quot;: &quot;Feature&quot;}, {&quot;geometry&quot;: {&quot;coordinates&quot;: [-77.42, 39.43], &quot;type&quot;: &quot;Point&quot;}, &quot;properties&quot;: {&quot;City&quot;: &quot;Frederick&quot;, &quot;Size&quot;: 16000, &quot;State&quot;: &quot;Maryland&quot;, &quot;Title&quot;: &quot;City of Frederick GIS&quot;, &quot;btaaURL&quot;: &quot;https://geo.btaa.org/?q=04c-04&quot;, &quot;sourceURL&quot;: &quot;https://www.cityoffrederick.com/523/SpiresGIS&quot;, &quot;totalRecords&quot;: 116}, &quot;type&quot;: &quot;Feature&quot;}, {&quot;geometry&quot;: {&quot;coordinates&quot;: [-98.36, 40.92], &quot;type&quot;: &quot;Point&quot;}, &quot;properties&quot;: {&quot;City&quot;: &quot;Grand Island&quot;, &quot;Size&quot;: 16000, &quot;State&quot;: &quot;Nebraska&quot;, &quot;Title&quot;: &quot;City of Grand Island Public GIS Data Portal&quot;, &quot;btaaURL&quot;: &quot;https://geo.btaa.org/?q=13c-02&quot;, &quot;sourceURL&quot;: &quot;https://data-cityofgi.opendata.arcgis.com/&quot;, &quot;totalRecords&quot;: 84}, &quot;type&quot;: &quot;Feature&quot;}, {&quot;geometry&quot;: {&quot;coordinates&quot;: [-89.41, 43.09], &quot;type&quot;: &quot;Point&quot;}, &quot;properties&quot;: {&quot;City&quot;: &quot;Madison&quot;, &quot;Size&quot;: 16000, &quot;State&quot;: &quot;Wisconsin&quot;, &quot;Title&quot;: &quot;City of Madison, WI GIS Open Data Portal&quot;, &quot;btaaURL&quot;: &quot;https://geo.btaa.org/?q=10c-03&quot;, &quot;sourceURL&quot;: &quot;https://data-cityofmadison.opendata.arcgis.com&quot;, &quot;totalRecords&quot;: 143}, &quot;type&quot;: &quot;Feature&quot;}, {&quot;geometry&quot;: {&quot;coordinates&quot;: [-93.11, 44.94], &quot;type&quot;: &quot;Point&quot;}, &quot;properties&quot;: {&quot;City&quot;: &quot;Saint Paul&quot;, &quot;Size&quot;: 22000, &quot;State&quot;: &quot;Minnesota&quot;, &quot;Title&quot;: &quot;City of Saint Paul GIS Data&quot;, &quot;btaaURL&quot;: &quot;https://geo.btaa.org/?q=05c-02&quot;, &quot;sourceURL&quot;: &quot;https://information.stpaul.gov&quot;, &quot;totalRecords&quot;: 213}, &quot;type&quot;: &quot;Feature&quot;}, {&quot;geometry&quot;: {&quot;coordinates&quot;: [-92.34, 42.5], &quot;type&quot;: &quot;Point&quot;}, &quot;properties&quot;: {&quot;City&quot;: &quot;Waterloo&quot;, &quot;Size&quot;: 12000, &quot;State&quot;: &quot;Iowa&quot;, &quot;Title&quot;: &quot;City of Waterloo\\u0027s Mapping and GIS Hub&quot;, &quot;btaaURL&quot;: &quot;https://geo.btaa.org/?q=03c-04&quot;, &quot;sourceURL&quot;: &quot;https://waterlooia.maps.arcgis.com/home/index.html&quot;, &quot;totalRecords&quot;: 2}, &quot;type&quot;: &quot;Feature&quot;}, {&quot;geometry&quot;: {&quot;coordinates&quot;: [-83.1, 42.35], &quot;type&quot;: &quot;Point&quot;}, &quot;properties&quot;: {&quot;City&quot;: &quot;Detroit&quot;, &quot;Size&quot;: 16000, &quot;State&quot;: &quot;Michigan&quot;, &quot;Title&quot;: &quot;Detroit Open Data&quot;, &quot;btaaURL&quot;: &quot;https://geo.btaa.org/?q=07c-01&quot;, &quot;sourceURL&quot;: &quot;https://data.detroitmi.gov&quot;, &quot;totalRecords&quot;: 134}, &quot;type&quot;: &quot;Feature&quot;}, {&quot;geometry&quot;: {&quot;coordinates&quot;: [-85.66, 42.96], &quot;type&quot;: &quot;Point&quot;}, &quot;properties&quot;: {&quot;City&quot;: &quot;Grand Rapids&quot;, &quot;Size&quot;: 12000, &quot;State&quot;: &quot;Michigan&quot;, &quot;Title&quot;: &quot;Grand Rapids, Michigan Open Data&quot;, &quot;btaaURL&quot;: &quot;https://geo.btaa.org/?q=07c-03&quot;, &quot;sourceURL&quot;: &quot;https://grdata-grandrapids.opendata.arcgis.com&quot;, &quot;totalRecords&quot;: 13}, &quot;type&quot;: &quot;Feature&quot;}, {&quot;geometry&quot;: {&quot;coordinates&quot;: [-96.69, 40.8], &quot;type&quot;: &quot;Point&quot;}, &quot;properties&quot;: {&quot;City&quot;: &quot;Lincoln&quot;, &quot;Size&quot;: 16000, &quot;State&quot;: &quot;Nebraska&quot;, &quot;Title&quot;: &quot;Lincoln Open Data and Performance Management&quot;, &quot;btaaURL&quot;: &quot;https://geo.btaa.org/?q=13c-01&quot;, &quot;sourceURL&quot;: &quot;https://data2-lincolnne.opendata.arcgis.com/&quot;, &quot;totalRecords&quot;: 53}, &quot;type&quot;: &quot;Feature&quot;}, {&quot;geometry&quot;: {&quot;coordinates&quot;: [-83.7, 43.01], &quot;type&quot;: &quot;Point&quot;}, &quot;properties&quot;: {&quot;City&quot;: &quot;Flint&quot;, &quot;Size&quot;: 12000, &quot;State&quot;: &quot;Michigan&quot;, &quot;Title&quot;: &quot;MapFlint Data Download&quot;, &quot;btaaURL&quot;: &quot;https://geo.btaa.org/?q=07c-04&quot;, &quot;sourceURL&quot;: &quot;https://mapflint-umich.opendata.arcgis.com&quot;, &quot;totalRecords&quot;: 29}, &quot;type&quot;: &quot;Feature&quot;}, {&quot;geometry&quot;: {&quot;coordinates&quot;: [-93.26, 44.97], &quot;type&quot;: &quot;Point&quot;}, &quot;properties&quot;: {&quot;City&quot;: &quot;Minneapolis&quot;, &quot;Size&quot;: 22000, &quot;State&quot;: &quot;Minnesota&quot;, &quot;Title&quot;: &quot;Minneapolis Open Data Hub&quot;, &quot;btaaURL&quot;: &quot;https://geo.btaa.org/?q=05c-01&quot;, &quot;sourceURL&quot;: &quot;https://opendata.minneapolismn.gov&quot;, &quot;totalRecords&quot;: 194}, &quot;type&quot;: &quot;Feature&quot;}, {&quot;geometry&quot;: {&quot;coordinates&quot;: [-77.01, 38.89], &quot;type&quot;: &quot;Point&quot;}, &quot;properties&quot;: {&quot;City&quot;: &quot;Washington&quot;, &quot;Size&quot;: 22000, &quot;State&quot;: &quot;District of Columbia&quot;, &quot;Title&quot;: &quot;Open Data DC&quot;, &quot;btaaURL&quot;: &quot;https://geo.btaa.org/?q=04c-01&quot;, &quot;sourceURL&quot;: &quot;https://opendata.dc.gov&quot;, &quot;totalRecords&quot;: 976}, &quot;type&quot;: &quot;Feature&quot;}, {&quot;geometry&quot;: {&quot;coordinates&quot;: [-75.12, 40.0], &quot;type&quot;: &quot;Point&quot;}, &quot;properties&quot;: {&quot;City&quot;: &quot;Philadelphia&quot;, &quot;Size&quot;: 22000, &quot;State&quot;: &quot;Pennsylvania&quot;, &quot;Title&quot;: &quot;OpenDataPhilly|PHLmaps&quot;, &quot;btaaURL&quot;: &quot;https://geo.btaa.org/?q=08c-01&quot;, &quot;sourceURL&quot;: &quot;https://www.opendataphilly.org|http://data-phl.opendata.arcgis.com&quot;, &quot;totalRecords&quot;: 842}, &quot;type&quot;: &quot;Feature&quot;}, {&quot;geometry&quot;: {&quot;coordinates&quot;: [-86.13, 39.78], &quot;type&quot;: &quot;Point&quot;}, &quot;properties&quot;: {&quot;City&quot;: &quot;Indianapolis&quot;, &quot;Size&quot;: 22000, &quot;State&quot;: &quot;Indiana&quot;, &quot;Title&quot;: &quot;OpenIndy Data Portal&quot;, &quot;btaaURL&quot;: &quot;https://geo.btaa.org/?q=01c-02&quot;, &quot;sourceURL&quot;: &quot;http://data.indy.gov&quot;, &quot;totalRecords&quot;: 261}, &quot;type&quot;: &quot;Feature&quot;}, {&quot;geometry&quot;: {&quot;coordinates&quot;: [-86.28, 41.68], &quot;type&quot;: &quot;Point&quot;}, &quot;properties&quot;: {&quot;City&quot;: &quot;South Bend&quot;, &quot;Size&quot;: 12000, &quot;State&quot;: &quot;Indiana&quot;, &quot;Title&quot;: &quot;South Bend, IN Open Data&quot;, &quot;btaaURL&quot;: &quot;https://geo.btaa.org/?q=09c-01&quot;, &quot;sourceURL&quot;: &quot;http://data-southbend.opendata.arcgis.com&quot;, &quot;totalRecords&quot;: 44}, &quot;type&quot;: &quot;Feature&quot;}, {&quot;geometry&quot;: {&quot;coordinates&quot;: [-89.81, 44.39], &quot;type&quot;: &quot;Point&quot;}, &quot;properties&quot;: {&quot;City&quot;: &quot;Wisconsin Rapids&quot;, &quot;Size&quot;: 16000, &quot;State&quot;: &quot;Wisconsin&quot;, &quot;Title&quot;: &quot;Wisconsin Rapids Online Map Portal&quot;, &quot;btaaURL&quot;: &quot;https://geo.btaa.org/?q=10c-04&quot;, &quot;sourceURL&quot;: &quot;https://rapidsdata-wisconsinrapids.opendata.arcgis.com&quot;, &quot;totalRecords&quot;: 144}, &quot;type&quot;: &quot;Feature&quot;}, {&quot;geometry&quot;: {&quot;coordinates&quot;: [-87.58, 38.0], &quot;type&quot;: &quot;Point&quot;}, &quot;properties&quot;: {&quot;City&quot;: &quot;Evansville&quot;, &quot;Size&quot;: 12000, &quot;State&quot;: &quot;Indiana&quot;, &quot;Title&quot;: &quot;Evansville, Vanderburgh County, Indiana Open Data Collection&quot;, &quot;btaaURL&quot;: &quot;https://geo.btaa.org/?q=01b-18163&quot;, &quot;sourceURL&quot;: &quot;https://dev-evansvilleapc.opendata.arcgis.com&quot;, &quot;totalRecords&quot;: 51}, &quot;type&quot;: &quot;Feature&quot;}], &quot;type&quot;: &quot;FeatureCollection&quot;});\n",
       "\n",
       "        \n",
       "    \n",
       "    geo_json_85a3b9f782a1ef964db5d982d2d6d549.bindTooltip(\n",
       "    function(layer){\n",
       "    let div = L.DomUtil.create(&#x27;div&#x27;);\n",
       "    \n",
       "    let handleObject = feature=&gt;typeof(feature)==&#x27;object&#x27; ? JSON.stringify(feature) : feature;\n",
       "    let fields = [&quot;City&quot;, &quot;sourceURL&quot;];\n",
       "    let aliases = [&quot;city&quot;, &quot;websiteUrl&quot;];\n",
       "    let table = &#x27;&lt;table&gt;&#x27; +\n",
       "        String(\n",
       "        fields.map(\n",
       "        (v,i)=&gt;\n",
       "        `&lt;tr&gt;\n",
       "            &lt;th&gt;${aliases[i]}&lt;/th&gt;\n",
       "            \n",
       "            &lt;td&gt;${handleObject(layer.feature.properties[v])}&lt;/td&gt;\n",
       "        &lt;/tr&gt;`).join(&#x27;&#x27;))\n",
       "    +&#x27;&lt;/table&gt;&#x27;;\n",
       "    div.innerHTML=table;\n",
       "    \n",
       "    return div\n",
       "    }\n",
       "    ,{&quot;className&quot;: &quot;foliumtooltip&quot;, &quot;sticky&quot;: true});\n",
       "                     \n",
       "&lt;/script&gt;\n",
       "&lt;/html&gt;\" style=\"position:absolute;width:100%;height:100%;left:0;top:0;border:none !important;\" allowfullscreen webkitallowfullscreen mozallowfullscreen></iframe></div></div>"
      ],
      "text/plain": [
       "<folium.folium.Map at 0x7fef42ad8310>"
      ]
     },
     "execution_count": 39,
     "metadata": {},
     "output_type": "execute_result"
    }
   ],
   "source": [
    "print('> Making map...')\n",
    "m = folium.Map(location = [44, -90], control_scale = True, zoom_start = 6)\n",
    "\n",
    "lyrCity = folium.GeoJson(open(activecities, 'r').read(),\n",
    "               tooltip = folium.GeoJsonTooltip(fields=('City', 'sourceURL'),\n",
    "                                               aliases=('city','websiteUrl')),\n",
    "               show = True).add_to(m)\n",
    "m"
   ]
  },
  {
   "cell_type": "markdown",
   "metadata": {},
   "source": [
    "***\n",
    "\n",
    "## Part 4: Legend JSON"
   ]
  },
  {
   "cell_type": "markdown",
   "metadata": {},
   "source": [
    "### Create legend JSON features"
   ]
  },
  {
   "cell_type": "code",
   "execution_count": 40,
   "metadata": {},
   "outputs": [
    {
     "name": "stdout",
     "output_type": "stream",
     "text": [
      "> Creating legend JSON featuers...\n"
     ]
    }
   ],
   "source": [
    "def create_legend_json(countyinterval, palette, cityinterval, size):\n",
    "    print('> Creating legend JSON featuers...')\n",
    "    countystyle = dict(zip(countyinterval, palette))\n",
    "    citystyle = dict(zip(cityinterval, size))\n",
    "    dic = {\n",
    "            'county':countystyle,\n",
    "              'city':citystyle\n",
    "          }\n",
    "    return dic\n",
    "    \n",
    "data_json = create_legend_json(countyInterval, palette, cityInterval, legendSize)"
   ]
  },
  {
   "cell_type": "markdown",
   "metadata": {},
   "source": [
    "### Write to legend JSON file `legend.json`"
   ]
  },
  {
   "cell_type": "code",
   "execution_count": 41,
   "metadata": {},
   "outputs": [
    {
     "name": "stdout",
     "output_type": "stream",
     "text": [
      "> Creating legend JSON file...\n"
     ]
    }
   ],
   "source": [
    "with open(legendjson, 'w') as txtfile:\n",
    "    json.dump(data_json, txtfile)\n",
    "print('> Creating legend JSON file...')"
   ]
  }
 ],
 "metadata": {
  "kernelspec": {
   "display_name": "Python 3 (ipykernel)",
   "language": "python",
   "name": "python3"
  },
  "language_info": {
   "codemirror_mode": {
    "name": "ipython",
    "version": 3
   },
   "file_extension": ".py",
   "mimetype": "text/x-python",
   "name": "python",
   "nbconvert_exporter": "python",
   "pygments_lexer": "ipython3",
   "version": "3.8.16"
  }
 },
 "nbformat": 4,
 "nbformat_minor": 4
}
