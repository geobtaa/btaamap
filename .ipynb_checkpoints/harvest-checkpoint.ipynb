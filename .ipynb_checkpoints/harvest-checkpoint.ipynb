{
 "cells": [
  {
   "cell_type": "markdown",
   "metadata": {},
   "source": [
    "# Harvest BTAA Geoportals\n",
    "\n",
    "> Original created on Dec 16 2020 <br>\n",
    "Edited on Jan 28 2021 -- Converted GeoJSON into TopoJSON to reduce file size<br>\n",
    "@author: Yijing Zhou @YijingZhou33 "
   ]
  },
  {
   "cell_type": "markdown",
   "metadata": {},
   "source": [
    "## Part 0: Initialization"
   ]
  },
  {
   "cell_type": "markdown",
   "metadata": {},
   "source": [
    "### Import necessary modules"
   ]
  },
  {
   "cell_type": "code",
   "execution_count": 1,
   "metadata": {},
   "outputs": [],
   "source": [
    "import os\n",
    "import pandas as pd\n",
    "import json\n",
    "import numpy as np\n",
    "import re\n",
    "from bs4 import BeautifulSoup, SoupStrainer\n",
    "import requests\n",
    "import geopandas as gpd\n",
    "import folium"
   ]
  },
  {
   "cell_type": "markdown",
   "metadata": {},
   "source": [
    "Note that **<a href='https://pypi.org/project/mapclassify/'>mapclassify</a>**, **<a href='https://seaborn.pydata.org/'>seaborn</a>** and **<a href='https://mattijn.github.io/topojson/'>topojson</a>** aren't built-in modules in Anaconda. You may need to install in advance. "
   ]
  },
  {
   "cell_type": "code",
   "execution_count": 2,
   "metadata": {},
   "outputs": [],
   "source": [
    "# pip install mapclassify \n",
    "# pip install seaborn\n",
    "# pip install topojson\n",
    "import mapclassify \n",
    "import seaborn as sns \n",
    "import topojson as tp"
   ]
  },
  {
   "cell_type": "markdown",
   "metadata": {},
   "source": [
    "### Set file path"
   ]
  },
  {
   "cell_type": "code",
   "execution_count": 3,
   "metadata": {},
   "outputs": [],
   "source": [
    "# ********** Input Files **********\n",
    "## Raw data: CSV files\n",
    "stategeoportals = os.path.join('data', 'allStates.csv')\n",
    "countygeoportals = os.path.join('data', 'allCounties.csv')\n",
    "citygeoportals = os.path.join('data', 'allCities.csv')\n",
    "\n",
    "## Basemap GeoJSON files for states and counties \n",
    "statejson = os.path.join('data', 'states.json')\n",
    "countyjson = os.path.join('data', 'counties.json')\n",
    "\n",
    "# ********** Output Files **********\n",
    "activestates = os.path.join('json', 'activeStates.topo.json')\n",
    "activecounties = os.path.join('json', 'activeCounties.topo.json')\n",
    "activecities = os.path.join('json', 'activeCities.json')\n",
    "\n",
    "legendjson = os.path.join('json', 'legend.json')"
   ]
  },
  {
   "cell_type": "markdown",
   "metadata": {},
   "source": [
    "***\n",
    "\n",
    "## Part 1: State Geoportals TopoJSON"
   ]
  },
  {
   "cell_type": "markdown",
   "metadata": {},
   "source": [
    "### Format state name in state geoportals spreadsheet `allStates.csv`"
   ]
  },
  {
   "cell_type": "code",
   "execution_count": 4,
   "metadata": {},
   "outputs": [
    {
     "data": {
      "text/html": [
       "<div>\n",
       "<style scoped>\n",
       "    .dataframe tbody tr th:only-of-type {\n",
       "        vertical-align: middle;\n",
       "    }\n",
       "\n",
       "    .dataframe tbody tr th {\n",
       "        vertical-align: top;\n",
       "    }\n",
       "\n",
       "    .dataframe thead th {\n",
       "        text-align: right;\n",
       "    }\n",
       "</style>\n",
       "<table border=\"1\" class=\"dataframe\">\n",
       "  <thead>\n",
       "    <tr style=\"text-align: right;\">\n",
       "      <th></th>\n",
       "      <th>stateCode</th>\n",
       "      <th>State</th>\n",
       "      <th>Title</th>\n",
       "      <th>sourceURL</th>\n",
       "      <th>btaaURL</th>\n",
       "    </tr>\n",
       "  </thead>\n",
       "  <tbody>\n",
       "    <tr>\n",
       "      <th>0</th>\n",
       "      <td>8856ec9a-47ac-4c79-bfba-643e97c0b62d</td>\n",
       "      <td>Pennsylvania</td>\n",
       "      <td>Center for Rural Pennsylvania Data Downloads</td>\n",
       "      <td>https://www.rural.pa.gov/home</td>\n",
       "      <td>https://geo.btaa.org/?q=8856ec9a</td>\n",
       "    </tr>\n",
       "    <tr>\n",
       "      <th>1</th>\n",
       "      <td>03a-06</td>\n",
       "      <td>Iowa</td>\n",
       "      <td>Election Data: Iowa</td>\n",
       "      <td>https://sos.iowa.gov/elections/otherinfo.html</td>\n",
       "      <td>https://geo.btaa.org/?q=03a</td>\n",
       "    </tr>\n",
       "    <tr>\n",
       "      <th>2</th>\n",
       "      <td>11a-01</td>\n",
       "      <td>Ohio</td>\n",
       "      <td>GEOhio Spatial Data Discovery Portal</td>\n",
       "      <td>http://ogrip-geohio.opendata.arcgis.com</td>\n",
       "      <td>https://geo.btaa.org/?q=11a</td>\n",
       "    </tr>\n",
       "    <tr>\n",
       "      <th>3</th>\n",
       "      <td>01d-02</td>\n",
       "      <td>Indiana</td>\n",
       "      <td>Indiana Spatial Data Portal</td>\n",
       "      <td>http://gis.iu.edu</td>\n",
       "      <td>https://geo.btaa.org/?q=01d</td>\n",
       "    </tr>\n",
       "    <tr>\n",
       "      <th>4</th>\n",
       "      <td>09a-02</td>\n",
       "      <td>Indiana</td>\n",
       "      <td>Indiana Statewide LiDAR: 2011-2013</td>\n",
       "      <td>https://doi.org/10.5069/G9959FHZ</td>\n",
       "      <td>https://geo.btaa.org/?q=09a</td>\n",
       "    </tr>\n",
       "  </tbody>\n",
       "</table>\n",
       "</div>"
      ],
      "text/plain": [
       "                              stateCode         State  \\\n",
       "0  8856ec9a-47ac-4c79-bfba-643e97c0b62d  Pennsylvania   \n",
       "1                                03a-06          Iowa   \n",
       "2                                11a-01          Ohio   \n",
       "3                                01d-02       Indiana   \n",
       "4                                09a-02       Indiana   \n",
       "\n",
       "                                          Title  \\\n",
       "0  Center for Rural Pennsylvania Data Downloads   \n",
       "1                           Election Data: Iowa   \n",
       "2          GEOhio Spatial Data Discovery Portal   \n",
       "3                   Indiana Spatial Data Portal   \n",
       "4            Indiana Statewide LiDAR: 2011-2013   \n",
       "\n",
       "                                       sourceURL  \\\n",
       "0                  https://www.rural.pa.gov/home   \n",
       "1  https://sos.iowa.gov/elections/otherinfo.html   \n",
       "2        http://ogrip-geohio.opendata.arcgis.com   \n",
       "3                              http://gis.iu.edu   \n",
       "4               https://doi.org/10.5069/G9959FHZ   \n",
       "\n",
       "                            btaaURL  \n",
       "0  https://geo.btaa.org/?q=8856ec9a  \n",
       "1       https://geo.btaa.org/?q=03a  \n",
       "2       https://geo.btaa.org/?q=11a  \n",
       "3       https://geo.btaa.org/?q=01d  \n",
       "4       https://geo.btaa.org/?q=09a  "
      ]
     },
     "execution_count": 4,
     "metadata": {},
     "output_type": "execute_result"
    }
   ],
   "source": [
    "df_csv = pd.read_csv(stategeoportals)\n",
    "df_csv['btaaURL'] = df_csv['btaaURL'].apply(lambda x: x.split('-')[0])\n",
    "df_csv.head()"
   ]
  },
  {
   "cell_type": "markdown",
   "metadata": {},
   "source": [
    "### Extract total records number from BTAA Geoportal search page"
   ]
  },
  {
   "cell_type": "code",
   "execution_count": 5,
   "metadata": {},
   "outputs": [],
   "source": [
    "def totalRecords(df):\n",
    "    totalrecords = []\n",
    "    for _, row in df.iterrows():\n",
    "        url = row['btaaURL']        \n",
    "        ## Start session and get the search page\n",
    "        session = requests.Session()\n",
    "        response = session.get(url)\n",
    "        ## Parse only part of the page (<meta> tag) for better performance using SoupStrainer and lxml\n",
    "        strainer = SoupStrainer('meta', attrs={'name': 'totalResults'})\n",
    "        soup = BeautifulSoup(response.content, 'lxml', parse_only=strainer)\n",
    "        ## The find() method looks through <meta> tag’s descendants and retrieves one result with attribute 'name'\n",
    "        meta_tag = soup.find('meta', attrs={'name': 'totalResults'})\n",
    "        ## Grab the content inside the <meta> tag that matches the filter\n",
    "        totalrecord = meta_tag.get('content')\n",
    "        totalrecords.append(totalrecord)\n",
    "    return totalrecords"
   ]
  },
  {
   "cell_type": "code",
   "execution_count": 6,
   "metadata": {},
   "outputs": [],
   "source": [
    "df_csv['totalRecords'] = totalRecords(df_csv)"
   ]
  },
  {
   "cell_type": "markdown",
   "metadata": {},
   "source": [
    "### Inspect the numinum number of total records\n",
    "If it equals to 0, meaning the landing page is 404 Not Found. Go back to check if the identifier is still active. "
   ]
  },
  {
   "cell_type": "code",
   "execution_count": 7,
   "metadata": {},
   "outputs": [],
   "source": [
    "def check_totalRecords(df):\n",
    "    df['totalRecords'] = df['totalRecords'].astype(int)\n",
    "    if df['totalRecords'].min() == 0:\n",
    "        return df[df['totalRecords']==0]\n",
    "    else:\n",
    "        print('> State Geoportal Codes all valid!')"
   ]
  },
  {
   "cell_type": "code",
   "execution_count": 8,
   "metadata": {},
   "outputs": [
    {
     "name": "stdout",
     "output_type": "stream",
     "text": [
      "> State Geoportal Codes all valid!\n"
     ]
    }
   ],
   "source": [
    "check_totalRecords(df_csv)"
   ]
  },
  {
   "cell_type": "markdown",
   "metadata": {},
   "source": [
    "### Group dataframe rows into list by geoportal sites"
   ]
  },
  {
   "cell_type": "code",
   "execution_count": 9,
   "metadata": {},
   "outputs": [
    {
     "name": "stderr",
     "output_type": "stream",
     "text": [
      "/var/folders/h1/wds8r6757dz_4h_l5tz85gyw0000gq/T/ipykernel_85905/2430260879.py:8: FutureWarning: Not prepending group keys to the result index of transform-like apply. In the future, the group keys will be included in the index, regardless of whether the applied function returns a like-indexed object.\n",
      "To preserve the previous behavior, use\n",
      "\n",
      "\t>>> .groupby(..., group_keys=False)\n",
      "\n",
      "To adopt the future behavior and silence this warning, use \n",
      "\n",
      "\t>>> .groupby(..., group_keys=True)\n",
      "  df_group = df_csv.groupby(['State']).apply(aggregate_to_array).drop_duplicates(subset=['State'])\n"
     ]
    },
    {
     "data": {
      "text/html": [
       "<div>\n",
       "<style scoped>\n",
       "    .dataframe tbody tr th:only-of-type {\n",
       "        vertical-align: middle;\n",
       "    }\n",
       "\n",
       "    .dataframe tbody tr th {\n",
       "        vertical-align: top;\n",
       "    }\n",
       "\n",
       "    .dataframe thead th {\n",
       "        text-align: right;\n",
       "    }\n",
       "</style>\n",
       "<table border=\"1\" class=\"dataframe\">\n",
       "  <thead>\n",
       "    <tr style=\"text-align: right;\">\n",
       "      <th></th>\n",
       "      <th>stateCode</th>\n",
       "      <th>State</th>\n",
       "      <th>Title</th>\n",
       "      <th>sourceURL</th>\n",
       "      <th>btaaURL</th>\n",
       "      <th>totalRecords</th>\n",
       "    </tr>\n",
       "  </thead>\n",
       "  <tbody>\n",
       "    <tr>\n",
       "      <th>0</th>\n",
       "      <td>[8856ec9a-47ac-4c79-bfba-643e97c0b62d, 08a-01,...</td>\n",
       "      <td>Pennsylvania</td>\n",
       "      <td>[Center for Rural Pennsylvania Data Downloads,...</td>\n",
       "      <td>[https://www.rural.pa.gov/home, http://www.pas...</td>\n",
       "      <td>https://geo.btaa.org/?q=8856ec9a</td>\n",
       "      <td>1</td>\n",
       "    </tr>\n",
       "    <tr>\n",
       "      <th>1</th>\n",
       "      <td>[03a-06, 03a-01, 03a-03, 03a-02, 03a-05]</td>\n",
       "      <td>Iowa</td>\n",
       "      <td>[Election Data: Iowa, Interactive map of coal ...</td>\n",
       "      <td>[https://sos.iowa.gov/elections/otherinfo.html...</td>\n",
       "      <td>https://geo.btaa.org/?q=03a</td>\n",
       "      <td>760</td>\n",
       "    </tr>\n",
       "    <tr>\n",
       "      <th>2</th>\n",
       "      <td>[11a-01, 11a-02, 11a-03]</td>\n",
       "      <td>Ohio</td>\n",
       "      <td>[GEOhio Spatial Data Discovery Portal, Ohio Pu...</td>\n",
       "      <td>[http://ogrip-geohio.opendata.arcgis.com, http...</td>\n",
       "      <td>https://geo.btaa.org/?q=11a</td>\n",
       "      <td>483</td>\n",
       "    </tr>\n",
       "    <tr>\n",
       "      <th>3</th>\n",
       "      <td>[01d-02, 09a-02, 09a-03]</td>\n",
       "      <td>Indiana</td>\n",
       "      <td>[Indiana Spatial Data Portal, Indiana Statewid...</td>\n",
       "      <td>[http://gis.iu.edu, https://doi.org/10.5069/G9...</td>\n",
       "      <td>https://geo.btaa.org/?q=01d</td>\n",
       "      <td>4819</td>\n",
       "    </tr>\n",
       "    <tr>\n",
       "      <th>9</th>\n",
       "      <td>[04a-01]</td>\n",
       "      <td>Maryland</td>\n",
       "      <td>[Maryland iMap]</td>\n",
       "      <td>[http://data.imap.maryland.gov]</td>\n",
       "      <td>https://geo.btaa.org/?q=04a</td>\n",
       "      <td>1225</td>\n",
       "    </tr>\n",
       "  </tbody>\n",
       "</table>\n",
       "</div>"
      ],
      "text/plain": [
       "                                           stateCode         State  \\\n",
       "0  [8856ec9a-47ac-4c79-bfba-643e97c0b62d, 08a-01,...  Pennsylvania   \n",
       "1           [03a-06, 03a-01, 03a-03, 03a-02, 03a-05]          Iowa   \n",
       "2                           [11a-01, 11a-02, 11a-03]          Ohio   \n",
       "3                           [01d-02, 09a-02, 09a-03]       Indiana   \n",
       "9                                           [04a-01]      Maryland   \n",
       "\n",
       "                                               Title  \\\n",
       "0  [Center for Rural Pennsylvania Data Downloads,...   \n",
       "1  [Election Data: Iowa, Interactive map of coal ...   \n",
       "2  [GEOhio Spatial Data Discovery Portal, Ohio Pu...   \n",
       "3  [Indiana Spatial Data Portal, Indiana Statewid...   \n",
       "9                                    [Maryland iMap]   \n",
       "\n",
       "                                           sourceURL  \\\n",
       "0  [https://www.rural.pa.gov/home, http://www.pas...   \n",
       "1  [https://sos.iowa.gov/elections/otherinfo.html...   \n",
       "2  [http://ogrip-geohio.opendata.arcgis.com, http...   \n",
       "3  [http://gis.iu.edu, https://doi.org/10.5069/G9...   \n",
       "9                    [http://data.imap.maryland.gov]   \n",
       "\n",
       "                            btaaURL  totalRecords  \n",
       "0  https://geo.btaa.org/?q=8856ec9a             1  \n",
       "1       https://geo.btaa.org/?q=03a           760  \n",
       "2       https://geo.btaa.org/?q=11a           483  \n",
       "3       https://geo.btaa.org/?q=01d          4819  \n",
       "9       https://geo.btaa.org/?q=04a          1225  "
      ]
     },
     "execution_count": 9,
     "metadata": {},
     "output_type": "execute_result"
    }
   ],
   "source": [
    "def aggregate_to_array(data):\n",
    "    groupItems = ['stateCode', 'Title', 'sourceURL']\n",
    "    for i in range(len(groupItems)):\n",
    "        data[groupItems[i]] = np.tile([data[groupItems[i]].values], (data.shape[0], 1)).tolist()\n",
    "    return data\n",
    "\n",
    "## Group by ['State']\n",
    "df_group = df_csv.groupby(['State']).apply(aggregate_to_array).drop_duplicates(subset=['State'])\n",
    "df_group.head()"
   ]
  },
  {
   "cell_type": "markdown",
   "metadata": {},
   "source": [
    "### Merge state GeoJSON and geoportal GeoJSON"
   ]
  },
  {
   "cell_type": "code",
   "execution_count": 10,
   "metadata": {},
   "outputs": [
    {
     "data": {
      "text/html": [
       "<div>\n",
       "<style scoped>\n",
       "    .dataframe tbody tr th:only-of-type {\n",
       "        vertical-align: middle;\n",
       "    }\n",
       "\n",
       "    .dataframe tbody tr th {\n",
       "        vertical-align: top;\n",
       "    }\n",
       "\n",
       "    .dataframe thead th {\n",
       "        text-align: right;\n",
       "    }\n",
       "</style>\n",
       "<table border=\"1\" class=\"dataframe\">\n",
       "  <thead>\n",
       "    <tr style=\"text-align: right;\">\n",
       "      <th></th>\n",
       "      <th>State</th>\n",
       "      <th>boundingBox</th>\n",
       "    </tr>\n",
       "  </thead>\n",
       "  <tbody>\n",
       "    <tr>\n",
       "      <th>0</th>\n",
       "      <td>Iowa</td>\n",
       "      <td>[[[-91.12, 40.71], [-91.12, 40.71], [-91.09, 4...</td>\n",
       "    </tr>\n",
       "    <tr>\n",
       "      <th>1</th>\n",
       "      <td>Minnesota</td>\n",
       "      <td>[[[-91.73, 43.5], [-91.73, 43.5], [-91.61, 43....</td>\n",
       "    </tr>\n",
       "    <tr>\n",
       "      <th>2</th>\n",
       "      <td>Nebraska</td>\n",
       "      <td>[[[-101.41, 40.0], [-101.41, 40.0], [-101.32, ...</td>\n",
       "    </tr>\n",
       "    <tr>\n",
       "      <th>3</th>\n",
       "      <td>Illinois</td>\n",
       "      <td>[[[-88.07, 37.51], [-88.07, 37.51], [-88.13, 3...</td>\n",
       "    </tr>\n",
       "    <tr>\n",
       "      <th>4</th>\n",
       "      <td>Indiana</td>\n",
       "      <td>[[[-86.34, 38.18], [-86.34, 38.18], [-86.3, 38...</td>\n",
       "    </tr>\n",
       "  </tbody>\n",
       "</table>\n",
       "</div>"
      ],
      "text/plain": [
       "       State                                        boundingBox\n",
       "0       Iowa  [[[-91.12, 40.71], [-91.12, 40.71], [-91.09, 4...\n",
       "1  Minnesota  [[[-91.73, 43.5], [-91.73, 43.5], [-91.61, 43....\n",
       "2   Nebraska  [[[-101.41, 40.0], [-101.41, 40.0], [-101.32, ...\n",
       "3   Illinois  [[[-88.07, 37.51], [-88.07, 37.51], [-88.13, 3...\n",
       "4    Indiana  [[[-86.34, 38.18], [-86.34, 38.18], [-86.3, 38..."
      ]
     },
     "execution_count": 10,
     "metadata": {},
     "output_type": "execute_result"
    }
   ],
   "source": [
    "## Load statejson featuer properties\n",
    "state_geojson = gpd.read_file(statejson)\n",
    "state_json = json.loads(state_geojson.to_json())\n",
    "df_allState = pd.json_normalize(state_json['features'])\n",
    "\n",
    "## Change column names for further operation\n",
    "df_allState = df_allState[['properties.State', 'geometry.coordinates']].rename(\n",
    "    columns={'properties.State':'State', 'geometry.coordinates':'boundingBox'})\n",
    "\n",
    "df_allState.head()"
   ]
  },
  {
   "cell_type": "code",
   "execution_count": 11,
   "metadata": {},
   "outputs": [
    {
     "data": {
      "text/html": [
       "<div>\n",
       "<style scoped>\n",
       "    .dataframe tbody tr th:only-of-type {\n",
       "        vertical-align: middle;\n",
       "    }\n",
       "\n",
       "    .dataframe tbody tr th {\n",
       "        vertical-align: top;\n",
       "    }\n",
       "\n",
       "    .dataframe thead th {\n",
       "        text-align: right;\n",
       "    }\n",
       "</style>\n",
       "<table border=\"1\" class=\"dataframe\">\n",
       "  <thead>\n",
       "    <tr style=\"text-align: right;\">\n",
       "      <th></th>\n",
       "      <th>stateCode</th>\n",
       "      <th>State</th>\n",
       "      <th>Title</th>\n",
       "      <th>sourceURL</th>\n",
       "      <th>btaaURL</th>\n",
       "      <th>totalRecords</th>\n",
       "      <th>boundingBox</th>\n",
       "    </tr>\n",
       "  </thead>\n",
       "  <tbody>\n",
       "    <tr>\n",
       "      <th>0</th>\n",
       "      <td>[8856ec9a-47ac-4c79-bfba-643e97c0b62d, 08a-01,...</td>\n",
       "      <td>Pennsylvania</td>\n",
       "      <td>[Center for Rural Pennsylvania Data Downloads,...</td>\n",
       "      <td>[https://www.rural.pa.gov/home, http://www.pas...</td>\n",
       "      <td>https://geo.btaa.org/?q=8856ec9a</td>\n",
       "      <td>1</td>\n",
       "      <td>[[[-77.48, 39.72], [-77.48, 39.72], [-77.46, 3...</td>\n",
       "    </tr>\n",
       "    <tr>\n",
       "      <th>1</th>\n",
       "      <td>[03a-06, 03a-01, 03a-03, 03a-02, 03a-05]</td>\n",
       "      <td>Iowa</td>\n",
       "      <td>[Election Data: Iowa, Interactive map of coal ...</td>\n",
       "      <td>[https://sos.iowa.gov/elections/otherinfo.html...</td>\n",
       "      <td>https://geo.btaa.org/?q=03a</td>\n",
       "      <td>760</td>\n",
       "      <td>[[[-91.12, 40.71], [-91.12, 40.71], [-91.09, 4...</td>\n",
       "    </tr>\n",
       "    <tr>\n",
       "      <th>2</th>\n",
       "      <td>[11a-01, 11a-02, 11a-03]</td>\n",
       "      <td>Ohio</td>\n",
       "      <td>[GEOhio Spatial Data Discovery Portal, Ohio Pu...</td>\n",
       "      <td>[http://ogrip-geohio.opendata.arcgis.com, http...</td>\n",
       "      <td>https://geo.btaa.org/?q=11a</td>\n",
       "      <td>483</td>\n",
       "      <td>[[[-83.27, 38.61], [-83.27, 38.61], [-83.25, 3...</td>\n",
       "    </tr>\n",
       "    <tr>\n",
       "      <th>3</th>\n",
       "      <td>[01d-02, 09a-02, 09a-03]</td>\n",
       "      <td>Indiana</td>\n",
       "      <td>[Indiana Spatial Data Portal, Indiana Statewid...</td>\n",
       "      <td>[http://gis.iu.edu, https://doi.org/10.5069/G9...</td>\n",
       "      <td>https://geo.btaa.org/?q=01d</td>\n",
       "      <td>4819</td>\n",
       "      <td>[[[-86.34, 38.18], [-86.34, 38.18], [-86.3, 38...</td>\n",
       "    </tr>\n",
       "    <tr>\n",
       "      <th>4</th>\n",
       "      <td>[04a-01]</td>\n",
       "      <td>Maryland</td>\n",
       "      <td>[Maryland iMap]</td>\n",
       "      <td>[http://data.imap.maryland.gov]</td>\n",
       "      <td>https://geo.btaa.org/?q=04a</td>\n",
       "      <td>1225</td>\n",
       "      <td>[[[[-75.71, 38.65], [-75.71, 38.65], [-75.72, ...</td>\n",
       "    </tr>\n",
       "  </tbody>\n",
       "</table>\n",
       "</div>"
      ],
      "text/plain": [
       "                                           stateCode         State  \\\n",
       "0  [8856ec9a-47ac-4c79-bfba-643e97c0b62d, 08a-01,...  Pennsylvania   \n",
       "1           [03a-06, 03a-01, 03a-03, 03a-02, 03a-05]          Iowa   \n",
       "2                           [11a-01, 11a-02, 11a-03]          Ohio   \n",
       "3                           [01d-02, 09a-02, 09a-03]       Indiana   \n",
       "4                                           [04a-01]      Maryland   \n",
       "\n",
       "                                               Title  \\\n",
       "0  [Center for Rural Pennsylvania Data Downloads,...   \n",
       "1  [Election Data: Iowa, Interactive map of coal ...   \n",
       "2  [GEOhio Spatial Data Discovery Portal, Ohio Pu...   \n",
       "3  [Indiana Spatial Data Portal, Indiana Statewid...   \n",
       "4                                    [Maryland iMap]   \n",
       "\n",
       "                                           sourceURL  \\\n",
       "0  [https://www.rural.pa.gov/home, http://www.pas...   \n",
       "1  [https://sos.iowa.gov/elections/otherinfo.html...   \n",
       "2  [http://ogrip-geohio.opendata.arcgis.com, http...   \n",
       "3  [http://gis.iu.edu, https://doi.org/10.5069/G9...   \n",
       "4                    [http://data.imap.maryland.gov]   \n",
       "\n",
       "                            btaaURL  totalRecords  \\\n",
       "0  https://geo.btaa.org/?q=8856ec9a             1   \n",
       "1       https://geo.btaa.org/?q=03a           760   \n",
       "2       https://geo.btaa.org/?q=11a           483   \n",
       "3       https://geo.btaa.org/?q=01d          4819   \n",
       "4       https://geo.btaa.org/?q=04a          1225   \n",
       "\n",
       "                                         boundingBox  \n",
       "0  [[[-77.48, 39.72], [-77.48, 39.72], [-77.46, 3...  \n",
       "1  [[[-91.12, 40.71], [-91.12, 40.71], [-91.09, 4...  \n",
       "2  [[[-83.27, 38.61], [-83.27, 38.61], [-83.25, 3...  \n",
       "3  [[[-86.34, 38.18], [-86.34, 38.18], [-86.3, 38...  \n",
       "4  [[[[-75.71, 38.65], [-75.71, 38.65], [-75.72, ...  "
      ]
     },
     "execution_count": 11,
     "metadata": {},
     "output_type": "execute_result"
    }
   ],
   "source": [
    "## Join on column 'State' from left dataframe df_group\n",
    "df_merge = pd.merge(df_group, df_allState, on = 'State', how = 'left')\n",
    "df_merge.head()"
   ]
  },
  {
   "cell_type": "markdown",
   "metadata": {},
   "source": [
    "### Create state GeoJSON features"
   ]
  },
  {
   "cell_type": "code",
   "execution_count": 12,
   "metadata": {},
   "outputs": [
    {
     "name": "stdout",
     "output_type": "stream",
     "text": [
      "> Creating state GeoJSON features...\n"
     ]
    }
   ],
   "source": [
    "def create_geojson_features(df):\n",
    "    print('> Creating state GeoJSON features...')\n",
    "    features = []\n",
    "    geometry_type = ''\n",
    "    geojson = {\n",
    "        'type': 'FeatureCollection',\n",
    "        'features': features\n",
    "    }\n",
    "        \n",
    "    for _, row in df.iterrows():\n",
    "        if type(row['boundingBox'][0][0][0]) is float:\n",
    "            geometry_type = 'Polygon'\n",
    "        else:\n",
    "            geometry_type = 'MultiPolygon'\n",
    "            \n",
    "        feature = {\n",
    "            'type': 'Feature',\n",
    "            'geometry': {\n",
    "                'type': geometry_type, \n",
    "                'coordinates': row['boundingBox']\n",
    "            },\n",
    "            'properties': {\n",
    "                'State': row['State'],\n",
    "                'Title': '|'.join([str(elem) for elem in row['Title']]),\n",
    "                'sourceURL': '|'.join([str(elem) for elem in row['sourceURL']]), \n",
    "                'btaaURL': row['btaaURL'],\n",
    "                'totalRecords': row['totalRecords']\n",
    "            }\n",
    "           }\n",
    "\n",
    "        features.append(feature)\n",
    "    return geojson\n",
    "\n",
    "data_geojson = create_geojson_features(df_merge)"
   ]
  },
  {
   "cell_type": "markdown",
   "metadata": {},
   "source": [
    "### Write to state TopoJSON file `activeStates.topo.json`"
   ]
  },
  {
   "cell_type": "code",
   "execution_count": 13,
   "metadata": {},
   "outputs": [
    {
     "name": "stdout",
     "output_type": "stream",
     "text": [
      "> Creating state TopoJSON file...\n"
     ]
    }
   ],
   "source": [
    "state_geojson = gpd.GeoDataFrame.from_features(data_geojson[\"features\"])\n",
    "# TopoJSON is an extension of GeoJSON to compress geometry information\n",
    "topo = tp.Topology(state_geojson)\n",
    "topo.to_json(activestates)\n",
    "print('> Creating state TopoJSON file...')"
   ]
  },
  {
   "cell_type": "markdown",
   "metadata": {},
   "source": [
    "### Inspect state TopoJSON"
   ]
  },
  {
   "cell_type": "code",
   "execution_count": 14,
   "metadata": {},
   "outputs": [
    {
     "data": {
      "text/html": [
       "\n",
       "<div id=\"altair-viz-f8e37be1916a4bb196177d92f978d541\"></div>\n",
       "<script type=\"text/javascript\">\n",
       "  (function(spec, embedOpt){\n",
       "    let outputDiv = document.currentScript.previousElementSibling;\n",
       "    if (outputDiv.id !== \"altair-viz-f8e37be1916a4bb196177d92f978d541\") {\n",
       "      outputDiv = document.getElementById(\"altair-viz-f8e37be1916a4bb196177d92f978d541\");\n",
       "    }\n",
       "    const paths = {\n",
       "      \"vega\": \"https://cdn.jsdelivr.net/npm//vega@5?noext\",\n",
       "      \"vega-lib\": \"https://cdn.jsdelivr.net/npm//vega-lib?noext\",\n",
       "      \"vega-lite\": \"https://cdn.jsdelivr.net/npm//vega-lite@4.8.1?noext\",\n",
       "      \"vega-embed\": \"https://cdn.jsdelivr.net/npm//vega-embed@6?noext\",\n",
       "    };\n",
       "\n",
       "    function loadScript(lib) {\n",
       "      return new Promise(function(resolve, reject) {\n",
       "        var s = document.createElement('script');\n",
       "        s.src = paths[lib];\n",
       "        s.async = true;\n",
       "        s.onload = () => resolve(paths[lib]);\n",
       "        s.onerror = () => reject(`Error loading script: ${paths[lib]}`);\n",
       "        document.getElementsByTagName(\"head\")[0].appendChild(s);\n",
       "      });\n",
       "    }\n",
       "\n",
       "    function showError(err) {\n",
       "      outputDiv.innerHTML = `<div class=\"error\" style=\"color:red;\">${err}</div>`;\n",
       "      throw err;\n",
       "    }\n",
       "\n",
       "    function displayChart(vegaEmbed) {\n",
       "      vegaEmbed(outputDiv, spec, embedOpt)\n",
       "        .catch(err => showError(`Javascript Error: ${err.message}<br>This usually means there's a typo in your chart specification. See the javascript console for the full traceback.`));\n",
       "    }\n",
       "\n",
       "    if(typeof define === \"function\" && define.amd) {\n",
       "      requirejs.config({paths});\n",
       "      require([\"vega-embed\"], displayChart, err => showError(`Error loading script: ${err.message}`));\n",
       "    } else if (typeof vegaEmbed === \"function\") {\n",
       "      displayChart(vegaEmbed);\n",
       "    } else {\n",
       "      loadScript(\"vega\")\n",
       "        .then(() => loadScript(\"vega-lite\"))\n",
       "        .then(() => loadScript(\"vega-embed\"))\n",
       "        .catch(showError)\n",
       "        .then(() => displayChart(vegaEmbed));\n",
       "    }\n",
       "  })({\"config\": {\"view\": {\"continuousWidth\": 400, \"continuousHeight\": 300}}, \"data\": {\"name\": \"data-e42ba126117962be81a37be9cd597940\", \"format\": {\"mesh\": \"data\", \"type\": \"topojson\"}}, \"mark\": {\"type\": \"geoshape\", \"filled\": false}, \"projection\": {\"reflectY\": true, \"type\": \"identity\"}, \"title\": \"State Topology\", \"width\": 300, \"$schema\": \"https://vega.github.io/schema/vega-lite/v4.8.1.json\", \"datasets\": {\"data-e42ba126117962be81a37be9cd597940\": \"{\\\"type\\\":\\\"Topology\\\",\\\"objects\\\":{\\\"data\\\":{\\\"geometries\\\":[{\\\"properties\\\":{\\\"State\\\":\\\"Pennsylvania\\\",\\\"Title\\\":\\\"Center for Rural Pennsylvania Data Downloads|PASDA: The Pennsylvania Geospatial Data Clearinghouse|Pennsylvania Department of Conservation and Natural Resources Open Data Portal\\\",\\\"sourceURL\\\":\\\"https://www.rural.pa.gov/home|http://www.pasda.psu.edu|https://newdata-dcnr.opendata.arcgis.com\\\",\\\"btaaURL\\\":\\\"https://geo.btaa.org/?q=8856ec9a\\\",\\\"totalRecords\\\":1},\\\"type\\\":\\\"Polygon\\\",\\\"arcs\\\":[[0,-7,1,-12]],\\\"id\\\":0},{\\\"properties\\\":{\\\"State\\\":\\\"Iowa\\\",\\\"Title\\\":\\\"Election Data: Iowa|Interactive map of coal mines in Iowa|Iowa Geodata|IowaDOT Open Data|State Data Center of Iowa\\\",\\\"sourceURL\\\":\\\"https://sos.iowa.gov/elections/otherinfo.html|https://programs.iowadnr.gov/maps/coalmines/|https://geodata.iowa.gov|https://public-iowadot.opendata.arcgis.com|https://www.iowadatacenter.org/\\\",\\\"btaaURL\\\":\\\"https://geo.btaa.org/?q=03a\\\",\\\"totalRecords\\\":760},\\\"type\\\":\\\"Polygon\\\",\\\"arcs\\\":[[2,-26,3,-25,4,-28]],\\\"id\\\":1},{\\\"properties\\\":{\\\"State\\\":\\\"Ohio\\\",\\\"Title\\\":\\\"GEOhio Spatial Data Discovery Portal|Ohio Public Utilities Commission Maps and GIS Data Directory|Ohio Spatial Data Infrastructure Downloads\\\",\\\"sourceURL\\\":\\\"http://ogrip-geohio.opendata.arcgis.com|https://www.puco.ohio.gov/utility-maps/maps-and-gis-data-directory/?dirPath=GIS_Data%2F|https://ogrip.oit.ohio.gov/ServicesData/GEOhioSpatialInformationPortal/OhioSpatialDataInfrastructure-Downloads.aspx\\\",\\\"btaaURL\\\":\\\"https://geo.btaa.org/?q=11a\\\",\\\"totalRecords\\\":483},\\\"type\\\":\\\"Polygon\\\",\\\"arcs\\\":[[-10,-22,5,6,7]],\\\"id\\\":2},{\\\"properties\\\":{\\\"State\\\":\\\"Indiana\\\",\\\"Title\\\":\\\"Indiana Spatial Data Portal|Indiana Statewide LiDAR: 2011-2013|Indiana Statewide LiDAR: 2016-2019\\\",\\\"sourceURL\\\":\\\"http://gis.iu.edu|https://doi.org/10.5069/G9959FHZ|https://lidar.jinha.org/\\\",\\\"btaaURL\\\":\\\"https://geo.btaa.org/?q=01d\\\",\\\"totalRecords\\\":4819},\\\"type\\\":\\\"Polygon\\\",\\\"arcs\\\":[[-30,8,-23,9,10]],\\\"id\\\":3},{\\\"properties\\\":{\\\"State\\\":\\\"Maryland\\\",\\\"Title\\\":\\\"Maryland iMap\\\",\\\"sourceURL\\\":\\\"http://data.imap.maryland.gov\\\",\\\"btaaURL\\\":\\\"https://geo.btaa.org/?q=04a\\\",\\\"totalRecords\\\":1225},\\\"type\\\":\\\"MultiPolygon\\\",\\\"arcs\\\":[[[11,12]],[[13]],[[14]],[[15]]],\\\"id\\\":4},{\\\"properties\\\":{\\\"State\\\":\\\"Michigan\\\",\\\"Title\\\":\\\"Michigan DNR Open Data Portal|State of Michigan Open Data Portal\\\",\\\"sourceURL\\\":\\\"https://gis-midnr.opendata.arcgis.com|http://gis-michigan.opendata.arcgis.com\\\",\\\"btaaURL\\\":\\\"https://geo.btaa.org/?q=06a\\\",\\\"totalRecords\\\":2783},\\\"type\\\":\\\"MultiPolygon\\\",\\\"arcs\\\":[[[16]],[[17]],[[18]],[[19]],[[20,21,22]]],\\\"id\\\":5},{\\\"properties\\\":{\\\"State\\\":\\\"Minnesota\\\",\\\"Title\\\":\\\"Minnesota Legislative Coordinating Commission - Geospatial Information (LCC-GIS)|Minnesota Geospatial Commons\\\",\\\"sourceURL\\\":\\\"https://www.gis.leg.mn/html/download.html|https://gisdata.mn.gov\\\",\\\"btaaURL\\\":\\\"https://geo.btaa.org/?q=05a\\\",\\\"totalRecords\\\":4136},\\\"type\\\":\\\"Polygon\\\",\\\"arcs\\\":[[23,24]],\\\"id\\\":6},{\\\"properties\\\":{\\\"State\\\":\\\"Nebraska\\\",\\\"Title\\\":\\\"Natural Resources Data Bank|Nebraska Department of Transportation Map Gallery|Nebraska Game & Parks Map and Data Portal|NebraskaMap\\\",\\\"sourceURL\\\":\\\"https://dnr.nebraska.gov/data|https://dot.nebraska.gov/travel/map-library/|https://data-outdoornebraska.opendata.arcgis.com/|https://www.nebraskamap.gov\\\",\\\"btaaURL\\\":\\\"https://geo.btaa.org/?q=13a\\\",\\\"totalRecords\\\":158},\\\"type\\\":\\\"Polygon\\\",\\\"arcs\\\":[[25,26]],\\\"id\\\":7},{\\\"properties\\\":{\\\"State\\\":\\\"Illinois\\\",\\\"Title\\\":\\\"State of Illinois Data Portal\\\",\\\"sourceURL\\\":\\\"https://data.illinois.gov\\\",\\\"btaaURL\\\":\\\"https://geo.btaa.org/?q=02a\\\",\\\"totalRecords\\\":184},\\\"type\\\":\\\"Polygon\\\",\\\"arcs\\\":[[27,28,29,30]],\\\"id\\\":8}],\\\"type\\\":\\\"GeometryCollection\\\"}},\\\"bbox\\\":[-104.06,36.99,-74.7,49.37],\\\"transform\\\":{\\\"scale\\\":[0.00029360293602936026,0.00012380123801238008],\\\"translate\\\":[-104.06,36.99]},\\\"arcs\\\":[[[83719,22051],[-3543,0],[0,2424],[-34,1131],[34,1938],[0,1939]],[[80176,40387],[2589,2262],[0,-2181],[14918,0],[102,-81],[102,-242],[137,-81],[102,-646],[272,0],[68,-81],[102,-81],[0,-80],[137,-243],[-68,-80],[0,-162],[136,-81],[0,-323],[-34,-161],[68,-566],[-68,-242],[0,-81],[136,-242],[68,-243],[136,-484],[137,0],[102,-162],[0,-161],[136,80],[238,-161],[137,0],[34,-81],[0,-161],[102,-162],[34,-242],[-307,-323],[0,-81],[-136,-162],[-136,-404],[34,-161],[-170,-566],[-136,-242],[-103,-81],[-34,-161],[68,0],[-102,-162],[-136,-242],[-102,-162],[-171,-80],[-68,-162],[0,-161],[205,-485],[34,-162],[34,-80],[34,-81],[-170,-162],[34,-161],[-34,-243],[-103,-161],[-136,0],[-68,-162],[0,-242],[-68,-242],[102,-162],[-102,-161],[34,-162],[0,-162],[34,-242],[-34,-81],[68,-80],[204,0],[137,-81],[68,-243],[-34,-484],[34,-323],[136,-162],[68,81],[102,-81],[69,-404],[68,-161],[34,-162],[136,-81],[136,-403],[341,-566],[34,-242],[-68,-243],[-273,0],[-136,-323],[-307,-161],[-68,-243],[-238,-161],[-68,-162],[-34,-80],[-102,0],[-103,-162],[-34,-242],[34,-243],[0,-161],[-170,0],[-204,-242],[-341,0],[-238,-404],[-171,242],[-374,81],[-205,0],[-170,-162],[-204,-404],[-68,-404],[-68,0]],[[42949,27302],[-102,161],[-34,0],[-34,162],[-102,0],[0,242],[-34,0],[34,162],[-171,0],[-34,161],[-102,162],[0,242],[-238,162],[0,242],[-102,81],[-69,161],[-715,0],[-817,-80],[-579,0],[-988,-81],[-238,0],[-1295,-81],[-2350,0],[-783,-81],[-1601,0],[-511,81],[-2520,0],[-1329,81]],[[25953,44426],[-136,242],[-34,323],[-34,81],[34,81],[-68,404],[-102,242],[-68,81],[-239,323],[-34,323],[34,243],[102,161],[35,323],[68,-81],[34,162],[68,404],[0,81],[102,323],[-34,323],[68,161],[-68,323],[136,81],[68,162],[0,81],[34,323],[-68,646],[-68,81],[-238,80],[-34,81],[34,81],[-34,81],[-34,242],[136,162],[68,403],[-34,162],[-102,162],[-102,323],[34,323],[-69,161],[477,0]],[[43733,52584],[-69,-323],[103,-323],[34,-404],[68,-161],[340,-323],[34,-243],[0,-161],[-306,-889],[-34,-565],[34,0],[34,-646],[34,-566],[170,-485],[34,-726],[34,-324],[239,-242],[272,-242],[102,0],[477,-162],[205,-161],[102,-566],[68,-81],[34,-242],[-34,-161]],[[70095,38287],[1124,-808],[511,-727],[681,0],[68,-242],[-988,-404],[545,-242],[647,161],[579,-484],[715,323],[1090,727],[205,-162],[749,-80],[886,1130],[408,727],[1226,1050],[1635,1131]],[[80176,40387],[0,-10904]],[[80176,29483],[-170,-162],[-136,0],[-102,-81],[-103,-242],[0,-81],[137,-242],[0,-323],[102,-162],[-102,-646],[0,-81],[68,-161],[34,-485],[-34,-242],[-136,-242],[-103,-485],[-68,-162],[0,-161],[-136,-889],[0,-484],[-68,-243],[0,-242],[-34,-81],[-102,81],[-34,0],[0,-162],[68,-242],[-34,-81],[-103,-161],[35,-243],[-171,-403],[34,-162],[102,-162],[0,-161],[-102,-162],[-34,-161],[-34,-323],[-102,-81],[-68,0],[-170,-242],[-171,-323],[-34,-81],[-204,-243],[-68,-242],[-205,-242],[-68,-162],[-68,-81],[-68,-161],[-136,0],[-205,-323],[-136,0],[-170,484],[-136,0],[-239,-484],[-68,-162],[-34,-484],[-341,0],[-68,-81],[-34,-323],[-68,-81],[-136,-242],[68,-404],[-34,-323],[-136,-81],[-102,0],[0,-81],[34,-242],[102,-162],[0,-404],[68,-323],[-68,-80],[-136,242],[-69,-81],[-102,-404],[-68,-161],[-102,80],[-34,81],[102,323],[-102,404],[-34,81],[-136,0],[-69,242],[-136,-81],[-68,-161],[-102,-81],[-34,-242],[-136,-404],[-34,-485],[-171,-323],[-68,-161],[136,-566],[-34,-242],[68,-404],[-34,-242],[-102,-162],[-204,81],[-68,-81],[-68,-888],[-68,-243],[-205,-80],[-68,0],[-272,-162],[-205,-81],[-102,0],[-34,81],[-68,485],[-205,242],[-102,323],[-136,81],[-204,81],[-102,80],[-69,243],[-34,404],[-68,242],[34,323],[-68,162],[-102,80],[-170,-242],[-205,-81],[-102,-161],[-170,-243],[-102,-323],[-137,-81],[-238,81],[-68,-81],[-68,-80],[-68,0],[-34,80],[-34,162],[-137,162],[-272,80],[-170,243],[-103,80],[-306,-161],[-34,-162],[-34,-161],[-68,-162],[-69,0],[-102,162],[-204,81],[-68,323],[-170,161],[-69,243],[-170,161],[-170,162],[-307,-162],[-136,81],[-307,161],[-170,162],[-34,485],[-68,404],[-102,161],[-68,565],[-137,243],[-136,0],[-102,81],[-68,484],[-170,0],[-103,-161],[-238,-162],[-102,0],[-170,162],[-239,404],[-170,-243],[-68,-81]],[[56301,38206],[238,-403],[136,80],[-68,-161],[170,-243],[545,0],[988,727],[375,404]],[[65633,38045],[0,-10905],[-34,-242],[0,-2504],[-34,-727],[0,-6624]],[[65565,17043],[-68,0],[-205,-242],[0,-161],[34,-162],[137,-162],[34,-242],[-68,-242],[-103,-162],[0,-161],[68,-81],[205,0],[34,-162],[0,-80],[-102,-323],[0,-324],[-545,-80],[-171,-162],[-136,-81],[-170,-323],[-136,-81],[-171,0],[-204,324],[-511,0],[-102,-162],[0,-242],[102,-889],[0,-161],[-34,-162],[-136,-161],[-136,-404],[-341,-162],[-102,-565],[-34,-323],[-102,-324],[-239,-242],[-136,81],[-68,81],[-102,-81],[-34,-323],[-205,-485],[0,-969],[-68,-242],[-102,-162],[-170,-81],[-69,-81],[-68,-161],[-170,323],[-306,81],[-205,161],[-102,162],[-34,161],[-34,566],[-136,242],[-68,81],[-103,0],[0,-162],[171,-80],[0,-243],[-171,-80],[-68,-81],[-136,161],[-34,0],[-34,-161],[102,-162],[0,-81],[-68,-161],[-136,-81],[-68,0],[-35,-242],[0,-243],[35,-403],[0,-81],[-69,-81],[-136,81],[-68,-81],[-34,-485],[-136,-80],[-68,0],[0,80],[34,323],[-34,81],[-68,0],[-137,-161],[-68,80],[-170,647],[-102,80],[-102,0],[-137,-323],[-102,-80],[-204,-81],[-68,-81],[-103,-81],[-102,-807],[-136,-243],[-68,81],[-102,323],[-68,81],[-171,81],[-136,161],[-136,162],[-273,323],[-204,81],[-170,-162],[-341,404],[-102,-404],[136,-242],[0,-243],[-68,-161],[-136,-81],[-102,81],[0,484],[-103,0],[-68,-80],[-68,80],[-238,-161],[-136,81],[-137,242],[-68,0],[-34,-162],[-34,-161],[102,-323],[-34,-242],[-68,-81],[-68,-162],[-170,162],[-103,81]],[[83719,22051],[3916,0],[784,81],[2111,-81],[5757,0]],[[96287,22051],[68,-2746],[34,-646],[0,-404],[34,-888],[102,-2504],[34,-1454],[0,-727],[34,-808],[1192,0],[886,-81],[-205,-646],[0,-808],[-374,-565],[-375,-1050],[0,-404],[-886,-162],[-68,-242],[-749,81],[341,969],[-443,646],[204,404],[-68,81],[239,161],[-341,0],[68,808],[-68,162],[-204,-808],[-137,0],[-102,323],[-170,-485],[-749,1454],[0,323],[340,485],[-204,485],[749,-243],[0,404],[-68,-242],[-102,161],[-136,808],[-171,0],[-170,404],[-170,81],[-239,-727],[-34,161],[273,1051],[272,-485],[68,161],[205,808],[102,0],[-68,81],[0,404],[-34,-242],[-307,403],[307,1212],[-375,-242],[-68,323],[68,565],[375,969],[238,324],[647,161],[-443,81],[103,646],[-69,404],[-204,404],[-170,-242],[-239,-1131],[-272,-243],[-443,162],[-136,-1292],[-443,80],[-238,162],[136,-242],[-68,-243],[-102,-161],[68,-162],[102,323],[477,-646],[-171,-1696],[-272,-1212],[102,-404],[34,-1534],[409,-1051],[-68,-323],[-34,-242],[-171,162],[-170,565],[-443,323],[1056,-1938],[34,-1293],[-851,1373],[-613,81],[-341,1292],[-170,-727],[-205,243],[-102,808],[-749,-324],[-136,162],[-68,646],[511,1293],[34,242],[102,161],[34,162],[68,-81],[34,81],[0,565],[477,808],[-341,646],[-102,162],[-272,-485],[-103,243],[-306,161],[-68,404],[-205,242],[-102,81],[-272,0],[-102,81],[-69,161],[-102,162],[-34,323],[136,162],[69,323],[0,81],[-103,161],[-170,162],[-102,242],[-170,0],[-205,161],[-170,0],[-68,81],[0,243],[-34,161],[68,162],[-68,242],[-136,0],[0,242],[34,0],[-34,162],[102,161],[-205,-80],[-68,80],[68,81],[0,162],[-34,0],[-68,-162],[-34,323],[-68,81],[136,81],[34,0],[0,323],[-68,-81],[-102,162],[0,-162],[-34,0],[-136,162],[-34,0],[34,-243],[-68,162],[-137,-81],[-102,162],[-204,484],[-307,81],[-68,-81],[-102,-80],[0,-81],[-102,-162],[-34,-161],[-273,161],[-34,-80],[-68,0],[0,-162],[-170,81],[102,-243],[-170,0],[-34,-80],[136,-243],[-102,0],[-34,-161],[-69,-81],[-102,81],[-170,-81],[-136,162],[-136,-81],[-35,81],[-68,0],[-170,161],[-34,162],[-102,0],[-34,161],[102,81],[34,81],[0,81],[-136,0],[0,80],[-102,-80],[0,-81],[-69,-243],[35,-161],[-103,-81],[-102,-242],[-306,-566],[-34,-161],[-273,323],[-34,81],[-34,-162],[-102,0],[0,-161],[-102,-243],[-103,-81],[0,-161],[-340,-323],[-68,-162],[-68,-242],[-171,-81],[-102,-161],[-238,-485],[-34,0],[-103,-81],[35,4200]],[[94584,15509],[0,484],[-171,-80],[102,-162],[-34,-242],[-68,81],[34,-324],[-170,-242],[68,889],[204,646],[171,-485],[0,-484],[-68,242],[-68,-323]],[[98739,11793],[68,0],[-136,-1050],[68,1050]],[[98058,8401],[102,80],[102,404],[170,889],[239,969],[-273,-1615],[-238,-727],[-102,0]],[[52997,90306],[-443,-1131],[-920,-565],[-442,-889],[-375,-242],[-170,161],[-34,324],[136,484],[2248,1858]],[[52997,83198],[204,565],[783,727],[1431,162],[307,-404],[-137,-242],[-613,-243],[-1022,-1292],[-647,-1696],[-204,969],[-409,161],[-34,889],[341,404]],[[61988,72536],[-170,-81],[-34,-323],[-511,323],[-647,-81],[-204,-323],[-68,-646],[-409,-566],[-239,-80],[35,-243],[-205,-81],[-170,-726],[-204,242],[-35,323],[409,969],[-613,162],[-477,-970],[-749,-80],[-477,-1212],[-238,-1050],[-852,-2100],[-34,-404],[-272,242],[-205,323],[-34,162],[68,81],[0,242],[34,81],[35,161],[170,647],[34,80],[-170,243],[-239,-323],[-238,80],[-34,-80],[-68,161],[-34,0],[0,-81],[-35,81],[103,323],[-34,323],[170,162],[68,242],[-68,323],[-68,243],[136,0],[34,242],[0,81],[-136,323],[0,161],[136,81],[-68,162],[0,80],[-136,81],[-102,243],[-341,161],[-68,242],[-205,-80],[-136,0],[-136,242],[34,81],[170,323],[-102,161],[34,243],[-68,81],[-136,80],[-102,81],[-103,0],[-170,162],[-136,-81],[-68,81],[-170,161],[-103,-81],[-170,162],[-102,0],[-34,81],[-102,80],[-103,0],[-102,-80],[-68,80],[-68,-242],[-68,0],[-136,242],[-68,0],[-103,81],[-136,-81],[-34,81],[-34,81],[-34,-81],[-443,323],[-204,243],[-375,404],[-2827,1211],[-613,323],[-34,243],[-68,161],[-68,404],[-170,565],[-171,0],[-34,81],[-102,81],[0,81],[-34,81],[-273,-81],[-68,242],[1329,889],[442,727],[341,403],[1362,243],[614,565],[272,646],[477,0],[204,243],[170,565],[852,1050],[34,-808],[375,-161],[0,-646],[238,-323],[-34,-485],[-102,-565],[102,-485],[920,1212],[-34,-404],[510,80],[477,0],[818,-565],[987,-2666],[886,-80],[341,323],[476,-808],[375,404],[409,-566],[613,1131],[1056,889],[170,-81],[817,242],[1227,-161],[919,727],[954,81],[-273,-647],[34,-1130],[-102,-324],[102,-242],[307,81],[443,-404],[579,323],[204,-565],[511,565],[375,81],[442,-1939],[-306,-323],[68,-323],[443,81],[306,-404],[-102,-323],[239,-485],[306,-161],[-34,-404],[-681,161],[-818,162],[-510,-162],[-409,485],[-239,0],[-136,-1454],[-408,242],[-716,1050],[-1090,647],[-442,0],[-511,-1050],[-682,0]],[[68834,72859],[171,-162],[136,323],[307,81],[-35,242],[-170,81],[273,162],[204,-81],[204,-646],[205,-162],[-171,-484],[-204,-81],[-170,242],[-579,-81],[-171,485],[-136,-242],[136,323]],[[58685,38610],[715,1131],[409,1777],[442,969],[307,1374],[204,2827],[-170,2827],[-647,2908],[-273,1454],[307,888],[170,0],[-102,81],[0,323],[-102,1050],[68,0],[-272,808],[442,1050],[409,1373],[102,1373],[-68,1454],[511,243],[102,403],[-68,566],[102,404],[920,727],[647,1696],[136,-162],[-272,-1777],[34,-1454],[374,-161],[273,808],[238,1211],[-34,1616],[68,484],[205,404],[749,404],[341,0],[238,323],[-545,404],[-136,889],[136,484],[341,404],[34,485],[851,323],[852,-1050],[511,161],[374,-323],[239,-484],[102,-566],[647,-81],[477,-646],[238,0],[409,-484],[307,80],[34,-242],[340,-485],[-102,-80],[68,-404],[307,-889],[-443,-404],[34,-323],[-102,-81],[102,-565],[375,-565],[136,-1293],[-136,-1454],[-137,-1454],[-579,-646],[-136,-727],[-102,-808],[-341,-565],[-579,-323],[-170,-323],[-68,-1777],[817,-808],[171,81],[408,969],[137,-242],[68,404],[340,727],[137,807],[1328,1050],[443,-323],[272,-484],[375,-1454],[34,-808],[375,-4200],[272,-1616],[-170,-565],[0,-1131],[-171,-1050],[-442,0],[68,323],[-341,81],[-306,-323],[68,-243],[-307,-888],[68,-323],[-204,-808],[-613,-565],[-273,-1374],[0,-727],[-987,-2423]],[[70095,38287],[-954,-81],[-375,0],[-1669,-80],[-68,0],[-1396,-81]],[[65633,38045],[0,485],[-4905,0],[-1022,80],[-1021,0]],[[25885,52584],[0,11874],[34,2504],[-34,162],[-68,242],[-170,404],[-273,161],[-272,81],[-170,404],[-103,485],[-238,484],[-34,243],[68,323],[579,727],[204,565],[35,81],[68,889],[34,161],[-68,565],[102,647],[-68,646],[-68,81],[0,242],[-35,162],[0,807],[-34,81],[-136,81],[-136,404],[-68,161],[0,323],[-102,162],[-34,808],[-69,80],[-34,162],[-34,81],[0,404],[34,242],[0,404],[-68,404],[102,242],[-34,242],[69,404],[0,162],[-103,-81],[0,162],[-34,80],[34,81],[-102,0],[0,242],[-68,81],[68,162],[-34,404],[34,80],[-68,485],[34,162],[-34,565],[-34,162],[34,242],[-34,161],[34,243],[-34,161],[34,162],[-34,242],[-68,0],[34,242],[-34,162],[68,323],[-34,162],[34,161],[-34,162],[34,323],[-68,161],[-68,404],[-102,323],[-35,404],[-102,243],[-68,161],[0,162],[-68,323],[-68,81],[0,323],[-102,242],[-68,808],[-68,161],[-35,243],[-68,161],[0,162],[-68,80],[68,81],[-68,81],[0,242],[34,0],[68,81],[-102,81],[102,81],[-68,0],[34,242],[-68,0],[102,162],[0,80],[0,0],[0,81],[-68,81],[68,81],[-102,80],[34,243],[-68,0],[68,81],[-34,80],[-68,81],[102,162],[-68,0],[0,80],[102,0],[0,162],[-68,0],[34,646],[-68,0],[34,81],[-68,81],[0,80],[34,0],[-68,81],[68,81],[-34,81],[68,81],[0,161],[68,81],[-34,81],[68,0],[34,323],[-68,242],[34,81],[-68,161],[0,162],[-68,81],[34,0],[-34,161],[-68,162],[34,81],[-68,80],[34,162],[-34,242],[-136,485],[-34,565],[7050,0],[34,2989],[1090,-323],[511,-3635],[-34,-808],[409,-565],[953,0],[205,-485],[1328,-242],[102,-727],[102,-162],[920,162],[136,161],[34,324],[545,403],[715,-80],[477,0],[750,-727],[306,0],[34,-323],[-238,-81],[-34,-242],[715,-162],[136,-323],[-34,-323],[341,-1131],[306,161],[-68,485],[68,404],[511,162],[307,-81],[204,-889],[647,-323],[273,-81],[34,-727],[442,-80],[0,-485],[1124,323],[716,969],[579,404],[408,-1292],[579,242],[34,-242],[1397,161],[409,-161],[136,-566],[306,-242],[511,323],[750,-242],[-341,-81],[-34,-242],[-1226,-1131],[-1737,-889],[-1737,-2019],[-1533,-2746],[-1124,-1535],[-988,-1131],[-408,-969],[-307,0],[34,-81],[0,-4766],[-136,-80],[-68,-324],[-34,0],[-205,81],[-136,-404],[-204,0],[-102,-242],[-409,-242],[-136,-243],[-68,-403],[-69,0],[-102,-647],[-170,-242],[-102,-162],[-102,-565],[34,-485],[136,-161],[272,0],[103,-81],[136,-646],[136,-81],[34,-161],[-34,-324],[-204,-646],[-137,-161],[-34,-727],[0,-162],[68,-242],[-34,-404],[-170,-323],[136,-404],[-34,-162],[68,-484],[0,-162],[-68,-161],[34,-323],[0,-162],[-170,-727],[238,-323],[375,-565],[68,-243],[341,-242],[579,-242],[68,-81],[68,-404],[170,-242],[137,-162],[408,-161],[409,-485],[102,-162],[68,-161],[0,-243],[103,-242],[136,-565],[340,-404],[341,-566],[170,-242],[102,-81],[137,0],[340,-323],[205,-323],[272,-808],[136,-484],[-34,-566],[0,-323],[102,-646],[-34,-404],[69,-404]],[[43733,52584],[-17848,0]],[[25953,44426],[137,-161],[0,-243],[-68,-242],[34,-242],[-34,-243],[102,-161],[68,-243],[102,-161],[34,-162],[-34,-242],[-68,-162],[34,-323],[204,-404],[68,-565],[103,-162],[0,-242],[136,0],[34,-161],[136,-81],[0,-404],[-34,-162],[68,-323],[205,-565],[-69,-323],[0,-162],[35,-242],[-103,-81],[0,-81],[68,-242],[-34,-404],[103,-161],[-34,-162],[0,-162],[136,-161],[170,161],[34,-80],[-34,-162],[-34,-161],[0,-81],[204,-81],[34,-81],[0,-969],[171,-323],[-34,-81],[-34,162],[-69,-81],[69,-566],[-34,-161],[0,-162],[204,-80],[0,-81],[-68,-81],[68,-404],[-68,-323],[68,-242],[0,-323],[68,-243],[0,-565],[34,-242],[-68,-162],[0,-485],[-102,-484],[374,-727],[34,-162],[-34,-242]],[[28235,29079],[34,-323],[69,-162],[170,-81],[0,324],[34,80],[68,-80],[0,-243],[-68,-161],[-68,-162],[204,-727],[34,-323],[34,-81],[0,-161],[-102,-81],[0,-81],[170,0],[171,-323],[238,-323],[34,-162],[34,-323],[136,-323],[103,-81],[34,-161],[-68,-162],[-34,-242],[136,-162],[68,-80],[136,-162],[-68,-81],[-1533,0],[-749,81],[-817,-81],[-1908,0],[-374,81],[-17507,0],[0,8078],[-6812,0],[0,3150],[-34,1373],[34,1131],[0,2423],[-34,4927],[0,3151],[4326,0],[2384,-81],[12227,0],[136,-404],[239,-162],[272,-323],[477,-323],[102,0],[68,-161],[0,-81],[307,-323],[238,0],[103,161],[136,323],[0,243],[238,80],[68,-161],[102,0],[137,81],[136,-162],[204,162],[205,-81],[204,81],[102,0],[68,-81],[239,161],[272,-80],[136,-81],[103,0],[68,-81],[34,-242],[170,-81],[102,-242],[375,-81],[136,0],[34,-81],[-34,-161],[34,-81],[205,81],[340,-243],[0,-161],[34,-81],[273,0],[68,-81],[34,-161],[-102,-162],[34,-81],[238,-484],[34,-243],[68,-80],[103,80],[102,0],[204,-242],[170,0]],[[42949,27302],[102,161],[103,0],[68,81],[-68,404],[68,404],[-34,242],[-103,162],[0,161],[103,243],[408,323],[137,0],[204,161],[102,162],[34,242],[102,404],[0,565],[137,404],[238,323],[68,243],[34,969],[-34,242],[-102,323],[-102,243],[-137,81],[-136,403],[0,324],[102,484],[34,566],[103,161],[102,81],[170,-81],[375,162],[204,80],[239,0],[170,81],[204,404],[205,162],[272,0],[68,80],[68,243],[239,161],[34,81],[0,404],[34,565],[68,324],[170,161],[205,242],[170,970],[34,404],[-34,403],[-68,243],[0,323],[-34,161],[-34,0],[-137,323],[-306,324],[-170,80],[-137,243],[-34,161],[-34,646],[-34,162],[-170,242],[-239,243],[-170,323],[-136,161],[0,81],[34,162]],[[45708,44588],[749,0],[1703,-81],[1908,0],[1430,-81],[3883,0],[-136,-1454],[272,-1212],[307,-807],[204,-1697],[273,-1050]],[[56301,38206],[0,-7835],[-35,-2100],[0,-9208],[-204,-81],[-102,-242],[68,-81],[-34,-162],[34,-161],[102,-81],[-34,-323],[0,-81],[-68,0],[-102,-242],[-102,-162],[34,-161],[0,-162],[102,-81],[0,-80],[68,-81],[68,-162],[34,-484],[-34,-81],[136,-81],[69,-161],[0,-243],[-35,-242],[-68,-242],[34,-81],[137,-485],[-34,-161],[34,-81],[0,-242],[-103,-404],[-170,-162],[-136,-242],[0,-162],[34,-161],[-68,-81],[-34,-162],[-68,-161],[68,-242],[0,-162],[-102,0],[-34,-162],[-239,-80],[0,-81],[68,-81],[-34,-242],[-102,-323],[-170,-243],[-68,-484],[-34,0],[-34,242],[-35,0],[-34,-162],[-68,-161],[0,161],[-68,0],[-170,-484],[-34,-81],[34,-242],[170,-243],[0,-80],[-68,-162],[-68,-81],[-170,-242],[34,-81],[170,81],[-68,-242],[-170,-162],[-35,0],[0,-81],[69,-80],[-34,-162],[34,-242],[-69,-162],[0,-242],[-68,0],[-68,81],[0,-162],[171,0],[0,-81],[-35,-81],[-204,81],[0,-81],[68,-242],[171,-242],[-35,-81],[-170,0],[0,-81],[170,-80]],[[54563,6624],[-102,-566],[-204,-323],[-102,-323],[0,-242],[102,-404],[204,-566],[-68,-242],[-749,-323],[-170,-242],[-205,80],[-170,-161],[-136,-808],[34,-323],[170,-404],[102,-404],[-102,-484],[-102,-243],[-34,0],[-102,-81],[-137,81],[-170,323],[-272,243],[-171,0],[-34,80],[-374,404],[-239,162],[-204,0],[-273,-243],[-170,-646],[-102,-161],[-68,-243],[0,-242],[68,-242],[68,-81],[-204,0],[-68,323],[-103,81],[-68,404],[-136,0],[-34,-243],[170,-242],[0,-161],[-68,-81],[-102,81],[-238,323],[0,404],[-137,323],[-68,242],[-102,404],[0,242],[-68,81],[-68,161],[0,243],[34,161],[102,81],[102,162],[34,404],[-68,323],[-136,323],[-136,646],[68,404],[-34,242],[34,242],[-34,81],[-205,162],[-306,323],[-34,242],[-34,162],[-137,323],[-408,565],[-34,0],[-34,-161],[-103,-81],[-136,0],[-136,242],[68,404],[-170,81],[-102,161],[-273,324],[-34,161],[-272,323],[-137,243],[-136,403],[-170,162],[-68,323],[-34,727],[34,404],[68,161],[136,324],[102,727],[34,80],[68,243],[205,403],[0,404],[-68,323],[0,162],[136,404],[68,161],[68,81],[34,243],[-68,161],[-375,485],[-136,81],[-136,0],[-307,323],[-204,0],[-204,-566],[-137,-161],[-204,80],[-136,485],[-136,808],[0,161],[68,243],[-102,404],[0,484],[-35,162],[-34,242],[-136,404],[-238,404],[-341,404],[-306,323],[-69,242],[-102,485],[-238,161],[-136,404],[-409,727],[-170,242],[0,324],[-34,323],[-239,484],[0,243],[68,80],[0,162],[-68,242],[-136,485],[-34,485],[-68,484],[34,566],[34,404],[34,484],[136,485]]]}\"}}, {\"mode\": \"vega-lite\"});\n",
       "</script>"
      ],
      "text/plain": [
       "alt.Chart(...)"
      ]
     },
     "execution_count": 14,
     "metadata": {},
     "output_type": "execute_result"
    }
   ],
   "source": [
    "topo.to_alt().properties(title='State Topology')"
   ]
  },
  {
   "cell_type": "markdown",
   "metadata": {},
   "source": [
    "***\n",
    "\n",
    "## Part 2: County Geoportals TopoJSON"
   ]
  },
  {
   "cell_type": "markdown",
   "metadata": {},
   "source": [
    "### Format county name in county geoportals spreadsheet `allCounties.csv`"
   ]
  },
  {
   "cell_type": "code",
   "execution_count": 15,
   "metadata": {},
   "outputs": [
    {
     "data": {
      "text/html": [
       "<div>\n",
       "<style scoped>\n",
       "    .dataframe tbody tr th:only-of-type {\n",
       "        vertical-align: middle;\n",
       "    }\n",
       "\n",
       "    .dataframe tbody tr th {\n",
       "        vertical-align: top;\n",
       "    }\n",
       "\n",
       "    .dataframe thead th {\n",
       "        text-align: right;\n",
       "    }\n",
       "</style>\n",
       "<table border=\"1\" class=\"dataframe\">\n",
       "  <thead>\n",
       "    <tr style=\"text-align: right;\">\n",
       "      <th></th>\n",
       "      <th>countyCode</th>\n",
       "      <th>County</th>\n",
       "      <th>State</th>\n",
       "      <th>Title</th>\n",
       "      <th>sourceURL</th>\n",
       "      <th>btaaURL</th>\n",
       "    </tr>\n",
       "  </thead>\n",
       "  <tbody>\n",
       "    <tr>\n",
       "      <th>0</th>\n",
       "      <td>02b-17001</td>\n",
       "      <td>Adams County</td>\n",
       "      <td>Illinois</td>\n",
       "      <td>Adams County, Illinois GIS</td>\n",
       "      <td>https://www.adamscountygis.com</td>\n",
       "      <td>https://geo.btaa.org/?q=02b-17001</td>\n",
       "    </tr>\n",
       "    <tr>\n",
       "      <th>1</th>\n",
       "      <td>06b-26005</td>\n",
       "      <td>Allegan County</td>\n",
       "      <td>Michigan</td>\n",
       "      <td>Allegan County GIS Data Library</td>\n",
       "      <td>https://www.allegancounty.org/online-services/...</td>\n",
       "      <td>https://geo.btaa.org/?q=06b-26005</td>\n",
       "    </tr>\n",
       "    <tr>\n",
       "      <th>2</th>\n",
       "      <td>08b-42003</td>\n",
       "      <td>Allegheny County</td>\n",
       "      <td>Pennsylvania</td>\n",
       "      <td>Allegheny County GIS Open Data</td>\n",
       "      <td>https://openac-alcogis.opendata.arcgis.com</td>\n",
       "      <td>https://geo.btaa.org/?q=08b-42003</td>\n",
       "    </tr>\n",
       "    <tr>\n",
       "      <th>3</th>\n",
       "      <td>11b-39003</td>\n",
       "      <td>Allen County</td>\n",
       "      <td>Ohio</td>\n",
       "      <td>Allen County GIS Data Download Page</td>\n",
       "      <td>http://gis.allencountyohio.com/GIS/downloads.html</td>\n",
       "      <td>https://geo.btaa.org/?q=11b-39003</td>\n",
       "    </tr>\n",
       "    <tr>\n",
       "      <th>4</th>\n",
       "      <td>04b-24003</td>\n",
       "      <td>Anne Arundel County</td>\n",
       "      <td>Maryland</td>\n",
       "      <td>Anne Arundel County GIS Data</td>\n",
       "      <td>https://maps.aacounty.org/</td>\n",
       "      <td>https://geo.btaa.org/?q=04b-24003</td>\n",
       "    </tr>\n",
       "  </tbody>\n",
       "</table>\n",
       "</div>"
      ],
      "text/plain": [
       "  countyCode               County         State  \\\n",
       "0  02b-17001         Adams County      Illinois   \n",
       "1  06b-26005       Allegan County      Michigan   \n",
       "2  08b-42003     Allegheny County  Pennsylvania   \n",
       "3  11b-39003         Allen County          Ohio   \n",
       "4  04b-24003  Anne Arundel County      Maryland   \n",
       "\n",
       "                                 Title  \\\n",
       "0           Adams County, Illinois GIS   \n",
       "1      Allegan County GIS Data Library   \n",
       "2       Allegheny County GIS Open Data   \n",
       "3  Allen County GIS Data Download Page   \n",
       "4         Anne Arundel County GIS Data   \n",
       "\n",
       "                                           sourceURL  \\\n",
       "0                     https://www.adamscountygis.com   \n",
       "1  https://www.allegancounty.org/online-services/...   \n",
       "2         https://openac-alcogis.opendata.arcgis.com   \n",
       "3  http://gis.allencountyohio.com/GIS/downloads.html   \n",
       "4                         https://maps.aacounty.org/   \n",
       "\n",
       "                             btaaURL  \n",
       "0  https://geo.btaa.org/?q=02b-17001  \n",
       "1  https://geo.btaa.org/?q=06b-26005  \n",
       "2  https://geo.btaa.org/?q=08b-42003  \n",
       "3  https://geo.btaa.org/?q=11b-39003  \n",
       "4  https://geo.btaa.org/?q=04b-24003  "
      ]
     },
     "execution_count": 15,
     "metadata": {},
     "output_type": "execute_result"
    }
   ],
   "source": [
    "df_csv = pd.read_csv(countygeoportals)\n",
    "\n",
    "## Replace 'Saint' and 'St' with 'St.'\n",
    "#commenting out jan-2023 as the lambda is not working\n",
    "# df_csv['County'] = df_csv['County'].apply(lambda x: re.sub(r'(Saint\\s|^St\\s|^St\\.\\s)', 'St. ', x))\n",
    "\n",
    "df_csv.head()"
   ]
  },
  {
   "cell_type": "markdown",
   "metadata": {},
   "source": [
    "### Extract total records number from BTAA Geoportal search page"
   ]
  },
  {
   "cell_type": "code",
   "execution_count": 16,
   "metadata": {},
   "outputs": [],
   "source": [
    "df_csv['totalRecords'] = totalRecords(df_csv)"
   ]
  },
  {
   "cell_type": "markdown",
   "metadata": {},
   "source": [
    "### Inspect the numinum number of total records\n",
    "If it equals to 0, meaning the landing page is 404 Not Found. Go back to check if the identifier is still active. "
   ]
  },
  {
   "cell_type": "code",
   "execution_count": 17,
   "metadata": {},
   "outputs": [
    {
     "name": "stdout",
     "output_type": "stream",
     "text": [
      "> State Geoportal Codes all valid!\n"
     ]
    }
   ],
   "source": [
    "check_totalRecords(df_csv)"
   ]
  },
  {
   "cell_type": "markdown",
   "metadata": {},
   "source": [
    "### Group dataframe rows into list by geoportal sites"
   ]
  },
  {
   "cell_type": "code",
   "execution_count": 18,
   "metadata": {},
   "outputs": [
    {
     "name": "stderr",
     "output_type": "stream",
     "text": [
      "/var/folders/h1/wds8r6757dz_4h_l5tz85gyw0000gq/T/ipykernel_85905/1245351213.py:8: FutureWarning: Not prepending group keys to the result index of transform-like apply. In the future, the group keys will be included in the index, regardless of whether the applied function returns a like-indexed object.\n",
      "To preserve the previous behavior, use\n",
      "\n",
      "\t>>> .groupby(..., group_keys=False)\n",
      "\n",
      "To adopt the future behavior and silence this warning, use \n",
      "\n",
      "\t>>> .groupby(..., group_keys=True)\n",
      "  df_group = df_csv.groupby(['County', 'State']).apply(aggregate_to_array).drop_duplicates(subset=['County', 'State'])\n"
     ]
    },
    {
     "data": {
      "text/html": [
       "<div>\n",
       "<style scoped>\n",
       "    .dataframe tbody tr th:only-of-type {\n",
       "        vertical-align: middle;\n",
       "    }\n",
       "\n",
       "    .dataframe tbody tr th {\n",
       "        vertical-align: top;\n",
       "    }\n",
       "\n",
       "    .dataframe thead th {\n",
       "        text-align: right;\n",
       "    }\n",
       "</style>\n",
       "<table border=\"1\" class=\"dataframe\">\n",
       "  <thead>\n",
       "    <tr style=\"text-align: right;\">\n",
       "      <th></th>\n",
       "      <th>countyCode</th>\n",
       "      <th>County</th>\n",
       "      <th>State</th>\n",
       "      <th>Title</th>\n",
       "      <th>sourceURL</th>\n",
       "      <th>btaaURL</th>\n",
       "      <th>totalRecords</th>\n",
       "    </tr>\n",
       "  </thead>\n",
       "  <tbody>\n",
       "    <tr>\n",
       "      <th>0</th>\n",
       "      <td>02b-17001</td>\n",
       "      <td>Adams County</td>\n",
       "      <td>Illinois</td>\n",
       "      <td>[Adams County, Illinois GIS]</td>\n",
       "      <td>[https://www.adamscountygis.com]</td>\n",
       "      <td>https://geo.btaa.org/?q=02b-17001</td>\n",
       "      <td>1</td>\n",
       "    </tr>\n",
       "    <tr>\n",
       "      <th>1</th>\n",
       "      <td>06b-26005</td>\n",
       "      <td>Allegan County</td>\n",
       "      <td>Michigan</td>\n",
       "      <td>[Allegan County GIS Data Library]</td>\n",
       "      <td>[https://www.allegancounty.org/online-services...</td>\n",
       "      <td>https://geo.btaa.org/?q=06b-26005</td>\n",
       "      <td>12</td>\n",
       "    </tr>\n",
       "    <tr>\n",
       "      <th>2</th>\n",
       "      <td>08b-42003</td>\n",
       "      <td>Allegheny County</td>\n",
       "      <td>Pennsylvania</td>\n",
       "      <td>[Allegheny County GIS Open Data]</td>\n",
       "      <td>[https://openac-alcogis.opendata.arcgis.com]</td>\n",
       "      <td>https://geo.btaa.org/?q=08b-42003</td>\n",
       "      <td>50</td>\n",
       "    </tr>\n",
       "    <tr>\n",
       "      <th>3</th>\n",
       "      <td>11b-39003</td>\n",
       "      <td>Allen County</td>\n",
       "      <td>Ohio</td>\n",
       "      <td>[Allen County GIS Data Download Page]</td>\n",
       "      <td>[http://gis.allencountyohio.com/GIS/downloads....</td>\n",
       "      <td>https://geo.btaa.org/?q=11b-39003</td>\n",
       "      <td>12</td>\n",
       "    </tr>\n",
       "    <tr>\n",
       "      <th>4</th>\n",
       "      <td>04b-24003</td>\n",
       "      <td>Anne Arundel County</td>\n",
       "      <td>Maryland</td>\n",
       "      <td>[Anne Arundel County GIS Data]</td>\n",
       "      <td>[https://maps.aacounty.org/]</td>\n",
       "      <td>https://geo.btaa.org/?q=04b-24003</td>\n",
       "      <td>228</td>\n",
       "    </tr>\n",
       "  </tbody>\n",
       "</table>\n",
       "</div>"
      ],
      "text/plain": [
       "  countyCode               County         State  \\\n",
       "0  02b-17001         Adams County      Illinois   \n",
       "1  06b-26005       Allegan County      Michigan   \n",
       "2  08b-42003     Allegheny County  Pennsylvania   \n",
       "3  11b-39003         Allen County          Ohio   \n",
       "4  04b-24003  Anne Arundel County      Maryland   \n",
       "\n",
       "                                   Title  \\\n",
       "0           [Adams County, Illinois GIS]   \n",
       "1      [Allegan County GIS Data Library]   \n",
       "2       [Allegheny County GIS Open Data]   \n",
       "3  [Allen County GIS Data Download Page]   \n",
       "4         [Anne Arundel County GIS Data]   \n",
       "\n",
       "                                           sourceURL  \\\n",
       "0                   [https://www.adamscountygis.com]   \n",
       "1  [https://www.allegancounty.org/online-services...   \n",
       "2       [https://openac-alcogis.opendata.arcgis.com]   \n",
       "3  [http://gis.allencountyohio.com/GIS/downloads....   \n",
       "4                       [https://maps.aacounty.org/]   \n",
       "\n",
       "                             btaaURL  totalRecords  \n",
       "0  https://geo.btaa.org/?q=02b-17001             1  \n",
       "1  https://geo.btaa.org/?q=06b-26005            12  \n",
       "2  https://geo.btaa.org/?q=08b-42003            50  \n",
       "3  https://geo.btaa.org/?q=11b-39003            12  \n",
       "4  https://geo.btaa.org/?q=04b-24003           228  "
      ]
     },
     "execution_count": 18,
     "metadata": {},
     "output_type": "execute_result"
    }
   ],
   "source": [
    "def aggregate_to_array(data):\n",
    "    groupItems = ['Title', 'sourceURL', 'totalRecords']\n",
    "    for i in range(len(groupItems)):\n",
    "        data[groupItems[i]] = np.tile([data[groupItems[i]].values], (data.shape[0], 1)).tolist()\n",
    "    return data\n",
    "\n",
    "## Group by ['County', 'State']\n",
    "df_group = df_csv.groupby(['County', 'State']).apply(aggregate_to_array).drop_duplicates(subset=['County', 'State'])\n",
    "## Sum up the total records if there're multiple geoportals in one county\n",
    "df_group['totalRecords'] = df_group['totalRecords'].apply(lambda x: sum(int(item)for item in x))\n",
    "df_group.head()"
   ]
  },
  {
   "cell_type": "markdown",
   "metadata": {},
   "source": [
    "### Classify the geoportal by total number\n",
    "You may want to adjust the classification method **`NaturalBreaks`** and class number **`k`**. \n",
    "Reference the <a href=\"https://pypi.org/project/mapclassify/\">mapclassify</a>. Note that we're going to exclude the outler `totaLRecords == 1` first. "
   ]
  },
  {
   "cell_type": "code",
   "execution_count": 19,
   "metadata": {},
   "outputs": [
    {
     "data": {
      "text/plain": [
       "NaturalBreaks             \n",
       "\n",
       "     Interval        Count\n",
       "--------------------------\n",
       "[   2.00,   82.00] |    62\n",
       "(  82.00,  228.00] |    12\n",
       "( 228.00,  520.00] |     2\n",
       "( 520.00, 1764.00] |     1"
      ]
     },
     "execution_count": 19,
     "metadata": {},
     "output_type": "execute_result"
    }
   ],
   "source": [
    "df_excludeOne = df_group[df_group['totalRecords'] != 1]\n",
    "n4 = mapclassify.NaturalBreaks(df_excludeOne.totalRecords, k=4)\n",
    "n4"
   ]
  },
  {
   "cell_type": "code",
   "execution_count": 20,
   "metadata": {},
   "outputs": [],
   "source": [
    "countyInterval = [1.0] + [i for i in list(n4.bins)]"
   ]
  },
  {
   "cell_type": "markdown",
   "metadata": {},
   "source": [
    "### Assign different color to each geoportal based on total records class"
   ]
  },
  {
   "cell_type": "code",
   "execution_count": 21,
   "metadata": {},
   "outputs": [
    {
     "data": {
      "image/png": "[encoded data removed]",
      "text/plain": [
       "<Figure size 500x100 with 1 Axes>"
      ]
     },
     "metadata": {},
     "output_type": "display_data"
    }
   ],
   "source": [
    "## Select the gradient color palette\n",
    "palette = ['#b3cde0','#6497b1','#005b96','#03396c ','#011f4b']\n",
    "colorScale = np.array(['#b3cde0','#6497b1','#005b96','#03396c','#011f4b'])\n",
    "sns.palplot(sns.color_palette(colorScale))"
   ]
  },
  {
   "cell_type": "code",
   "execution_count": 22,
   "metadata": {
    "scrolled": true
   },
   "outputs": [
    {
     "data": {
      "text/html": [
       "<div>\n",
       "<style scoped>\n",
       "    .dataframe tbody tr th:only-of-type {\n",
       "        vertical-align: middle;\n",
       "    }\n",
       "\n",
       "    .dataframe tbody tr th {\n",
       "        vertical-align: top;\n",
       "    }\n",
       "\n",
       "    .dataframe thead th {\n",
       "        text-align: right;\n",
       "    }\n",
       "</style>\n",
       "<table border=\"1\" class=\"dataframe\">\n",
       "  <thead>\n",
       "    <tr style=\"text-align: right;\">\n",
       "      <th></th>\n",
       "      <th>countyCode</th>\n",
       "      <th>County</th>\n",
       "      <th>State</th>\n",
       "      <th>Title</th>\n",
       "      <th>sourceURL</th>\n",
       "      <th>btaaURL</th>\n",
       "      <th>totalRecords</th>\n",
       "      <th>Color</th>\n",
       "    </tr>\n",
       "  </thead>\n",
       "  <tbody>\n",
       "    <tr>\n",
       "      <th>0</th>\n",
       "      <td>02b-17001</td>\n",
       "      <td>Adams County</td>\n",
       "      <td>Illinois</td>\n",
       "      <td>[Adams County, Illinois GIS]</td>\n",
       "      <td>[https://www.adamscountygis.com]</td>\n",
       "      <td>https://geo.btaa.org/?q=02b-17001</td>\n",
       "      <td>1</td>\n",
       "      <td>#b3cde0</td>\n",
       "    </tr>\n",
       "    <tr>\n",
       "      <th>1</th>\n",
       "      <td>06b-26005</td>\n",
       "      <td>Allegan County</td>\n",
       "      <td>Michigan</td>\n",
       "      <td>[Allegan County GIS Data Library]</td>\n",
       "      <td>[https://www.allegancounty.org/online-services...</td>\n",
       "      <td>https://geo.btaa.org/?q=06b-26005</td>\n",
       "      <td>12</td>\n",
       "      <td>#6497b1</td>\n",
       "    </tr>\n",
       "    <tr>\n",
       "      <th>2</th>\n",
       "      <td>08b-42003</td>\n",
       "      <td>Allegheny County</td>\n",
       "      <td>Pennsylvania</td>\n",
       "      <td>[Allegheny County GIS Open Data]</td>\n",
       "      <td>[https://openac-alcogis.opendata.arcgis.com]</td>\n",
       "      <td>https://geo.btaa.org/?q=08b-42003</td>\n",
       "      <td>50</td>\n",
       "      <td>#6497b1</td>\n",
       "    </tr>\n",
       "    <tr>\n",
       "      <th>3</th>\n",
       "      <td>11b-39003</td>\n",
       "      <td>Allen County</td>\n",
       "      <td>Ohio</td>\n",
       "      <td>[Allen County GIS Data Download Page]</td>\n",
       "      <td>[http://gis.allencountyohio.com/GIS/downloads....</td>\n",
       "      <td>https://geo.btaa.org/?q=11b-39003</td>\n",
       "      <td>12</td>\n",
       "      <td>#6497b1</td>\n",
       "    </tr>\n",
       "    <tr>\n",
       "      <th>4</th>\n",
       "      <td>04b-24003</td>\n",
       "      <td>Anne Arundel County</td>\n",
       "      <td>Maryland</td>\n",
       "      <td>[Anne Arundel County GIS Data]</td>\n",
       "      <td>[https://maps.aacounty.org/]</td>\n",
       "      <td>https://geo.btaa.org/?q=04b-24003</td>\n",
       "      <td>228</td>\n",
       "      <td>#005b96</td>\n",
       "    </tr>\n",
       "  </tbody>\n",
       "</table>\n",
       "</div>"
      ],
      "text/plain": [
       "  countyCode               County         State  \\\n",
       "0  02b-17001         Adams County      Illinois   \n",
       "1  06b-26005       Allegan County      Michigan   \n",
       "2  08b-42003     Allegheny County  Pennsylvania   \n",
       "3  11b-39003         Allen County          Ohio   \n",
       "4  04b-24003  Anne Arundel County      Maryland   \n",
       "\n",
       "                                   Title  \\\n",
       "0           [Adams County, Illinois GIS]   \n",
       "1      [Allegan County GIS Data Library]   \n",
       "2       [Allegheny County GIS Open Data]   \n",
       "3  [Allen County GIS Data Download Page]   \n",
       "4         [Anne Arundel County GIS Data]   \n",
       "\n",
       "                                           sourceURL  \\\n",
       "0                   [https://www.adamscountygis.com]   \n",
       "1  [https://www.allegancounty.org/online-services...   \n",
       "2       [https://openac-alcogis.opendata.arcgis.com]   \n",
       "3  [http://gis.allencountyohio.com/GIS/downloads....   \n",
       "4                       [https://maps.aacounty.org/]   \n",
       "\n",
       "                             btaaURL  totalRecords    Color  \n",
       "0  https://geo.btaa.org/?q=02b-17001             1  #b3cde0  \n",
       "1  https://geo.btaa.org/?q=06b-26005            12  #6497b1  \n",
       "2  https://geo.btaa.org/?q=08b-42003            50  #6497b1  \n",
       "3  https://geo.btaa.org/?q=11b-39003            12  #6497b1  \n",
       "4  https://geo.btaa.org/?q=04b-24003           228  #005b96  "
      ]
     },
     "execution_count": 22,
     "metadata": {},
     "output_type": "execute_result"
    }
   ],
   "source": [
    "def totalRecords_color(row):\n",
    "    if row['totalRecords'] <= countyInterval[0]:\n",
    "        return palette[0]\n",
    "    elif row['totalRecords'] > countyInterval[0] and row['totalRecords'] <= countyInterval[1]:\n",
    "        return palette[1]\n",
    "    elif row['totalRecords'] > countyInterval[1] and row['totalRecords'] <= countyInterval[2]:\n",
    "        return palette[2]\n",
    "    elif row['totalRecords'] > countyInterval[2] and row['totalRecords'] <= countyInterval[3]:\n",
    "        return palette[3]\n",
    "    else:\n",
    "        return palette[4]\n",
    "\n",
    "## Append a new column with color generated above\n",
    "df_group['Color'] = df_group.apply(totalRecords_color, axis=1)\n",
    "df_group.head()"
   ]
  },
  {
   "cell_type": "markdown",
   "metadata": {},
   "source": [
    "### Merge county GeoJSON and geoportal GeoJSON"
   ]
  },
  {
   "cell_type": "code",
   "execution_count": 23,
   "metadata": {},
   "outputs": [
    {
     "data": {
      "text/html": [
       "<div>\n",
       "<style scoped>\n",
       "    .dataframe tbody tr th:only-of-type {\n",
       "        vertical-align: middle;\n",
       "    }\n",
       "\n",
       "    .dataframe tbody tr th {\n",
       "        vertical-align: top;\n",
       "    }\n",
       "\n",
       "    .dataframe thead th {\n",
       "        text-align: right;\n",
       "    }\n",
       "</style>\n",
       "<table border=\"1\" class=\"dataframe\">\n",
       "  <thead>\n",
       "    <tr style=\"text-align: right;\">\n",
       "      <th></th>\n",
       "      <th>County</th>\n",
       "      <th>State</th>\n",
       "      <th>boundingBox</th>\n",
       "    </tr>\n",
       "  </thead>\n",
       "  <tbody>\n",
       "    <tr>\n",
       "      <th>0</th>\n",
       "      <td>Chase County</td>\n",
       "      <td>Nebraska</td>\n",
       "      <td>[[[-102.05, 40.7], [-102.05, 40.7], [-102.05, ...</td>\n",
       "    </tr>\n",
       "    <tr>\n",
       "      <th>1</th>\n",
       "      <td>Dundy County</td>\n",
       "      <td>Nebraska</td>\n",
       "      <td>[[[-101.32, 40.35], [-101.32, 40.35], [-101.33...</td>\n",
       "    </tr>\n",
       "    <tr>\n",
       "      <th>2</th>\n",
       "      <td>Frontier County</td>\n",
       "      <td>Nebraska</td>\n",
       "      <td>[[[-100.78, 40.7], [-100.78, 40.7], [-100.78, ...</td>\n",
       "    </tr>\n",
       "    <tr>\n",
       "      <th>3</th>\n",
       "      <td>Furnas County</td>\n",
       "      <td>Nebraska</td>\n",
       "      <td>[[[-100.09, 40.35], [-100.09, 40.35], [-100.1,...</td>\n",
       "    </tr>\n",
       "    <tr>\n",
       "      <th>4</th>\n",
       "      <td>Gosper County</td>\n",
       "      <td>Nebraska</td>\n",
       "      <td>[[[-99.98, 40.7], [-99.98, 40.7], [-99.98, 40....</td>\n",
       "    </tr>\n",
       "  </tbody>\n",
       "</table>\n",
       "</div>"
      ],
      "text/plain": [
       "            County     State  \\\n",
       "0     Chase County  Nebraska   \n",
       "1     Dundy County  Nebraska   \n",
       "2  Frontier County  Nebraska   \n",
       "3    Furnas County  Nebraska   \n",
       "4    Gosper County  Nebraska   \n",
       "\n",
       "                                         boundingBox  \n",
       "0  [[[-102.05, 40.7], [-102.05, 40.7], [-102.05, ...  \n",
       "1  [[[-101.32, 40.35], [-101.32, 40.35], [-101.33...  \n",
       "2  [[[-100.78, 40.7], [-100.78, 40.7], [-100.78, ...  \n",
       "3  [[[-100.09, 40.35], [-100.09, 40.35], [-100.1,...  \n",
       "4  [[[-99.98, 40.7], [-99.98, 40.7], [-99.98, 40....  "
      ]
     },
     "execution_count": 23,
     "metadata": {},
     "output_type": "execute_result"
    }
   ],
   "source": [
    "## Load countyjson featuer properties\n",
    "county_geojson = gpd.read_file(countyjson)\n",
    "county_json = json.loads(county_geojson.to_json())\n",
    "df_allCounty = pd.json_normalize(county_json['features'])\n",
    "\n",
    "## Change column names for further operation\n",
    "df_allCounty = df_allCounty[['properties.County', 'properties.State', 'geometry.coordinates']].rename(\n",
    "    columns={'properties.County':'County', 'properties.State':'State', 'geometry.coordinates':'boundingBox'})\n",
    "\n",
    "df_allCounty.head()"
   ]
  },
  {
   "cell_type": "code",
   "execution_count": 24,
   "metadata": {},
   "outputs": [
    {
     "data": {
      "text/html": [
       "<div>\n",
       "<style scoped>\n",
       "    .dataframe tbody tr th:only-of-type {\n",
       "        vertical-align: middle;\n",
       "    }\n",
       "\n",
       "    .dataframe tbody tr th {\n",
       "        vertical-align: top;\n",
       "    }\n",
       "\n",
       "    .dataframe thead th {\n",
       "        text-align: right;\n",
       "    }\n",
       "</style>\n",
       "<table border=\"1\" class=\"dataframe\">\n",
       "  <thead>\n",
       "    <tr style=\"text-align: right;\">\n",
       "      <th></th>\n",
       "      <th>countyCode</th>\n",
       "      <th>County</th>\n",
       "      <th>State</th>\n",
       "      <th>Title</th>\n",
       "      <th>sourceURL</th>\n",
       "      <th>btaaURL</th>\n",
       "      <th>totalRecords</th>\n",
       "      <th>Color</th>\n",
       "      <th>boundingBox</th>\n",
       "    </tr>\n",
       "  </thead>\n",
       "  <tbody>\n",
       "    <tr>\n",
       "      <th>0</th>\n",
       "      <td>02b-17001</td>\n",
       "      <td>Adams County</td>\n",
       "      <td>Illinois</td>\n",
       "      <td>[Adams County, Illinois GIS]</td>\n",
       "      <td>[https://www.adamscountygis.com]</td>\n",
       "      <td>https://geo.btaa.org/?q=02b-17001</td>\n",
       "      <td>1</td>\n",
       "      <td>#b3cde0</td>\n",
       "      <td>[[[-91.51, 40.2], [-91.51, 40.2], [-91.51, 40....</td>\n",
       "    </tr>\n",
       "    <tr>\n",
       "      <th>1</th>\n",
       "      <td>06b-26005</td>\n",
       "      <td>Allegan County</td>\n",
       "      <td>Michigan</td>\n",
       "      <td>[Allegan County GIS Data Library]</td>\n",
       "      <td>[https://www.allegancounty.org/online-services...</td>\n",
       "      <td>https://geo.btaa.org/?q=06b-26005</td>\n",
       "      <td>12</td>\n",
       "      <td>#6497b1</td>\n",
       "      <td>[[[-86.21, 42.77], [-86.21, 42.77], [-86.21, 4...</td>\n",
       "    </tr>\n",
       "    <tr>\n",
       "      <th>2</th>\n",
       "      <td>08b-42003</td>\n",
       "      <td>Allegheny County</td>\n",
       "      <td>Pennsylvania</td>\n",
       "      <td>[Allegheny County GIS Open Data]</td>\n",
       "      <td>[https://openac-alcogis.opendata.arcgis.com]</td>\n",
       "      <td>https://geo.btaa.org/?q=08b-42003</td>\n",
       "      <td>50</td>\n",
       "      <td>#6497b1</td>\n",
       "      <td>[[[-80.15, 40.67], [-80.15, 40.67], [-80.15, 4...</td>\n",
       "    </tr>\n",
       "    <tr>\n",
       "      <th>3</th>\n",
       "      <td>11b-39003</td>\n",
       "      <td>Allen County</td>\n",
       "      <td>Ohio</td>\n",
       "      <td>[Allen County GIS Data Download Page]</td>\n",
       "      <td>[http://gis.allencountyohio.com/GIS/downloads....</td>\n",
       "      <td>https://geo.btaa.org/?q=11b-39003</td>\n",
       "      <td>12</td>\n",
       "      <td>#6497b1</td>\n",
       "      <td>[[[-83.88, 40.92], [-83.88, 40.92], [-83.92, 4...</td>\n",
       "    </tr>\n",
       "    <tr>\n",
       "      <th>4</th>\n",
       "      <td>04b-24003</td>\n",
       "      <td>Anne Arundel County</td>\n",
       "      <td>Maryland</td>\n",
       "      <td>[Anne Arundel County GIS Data]</td>\n",
       "      <td>[https://maps.aacounty.org/]</td>\n",
       "      <td>https://geo.btaa.org/?q=04b-24003</td>\n",
       "      <td>228</td>\n",
       "      <td>#005b96</td>\n",
       "      <td>[[[[-76.5, 39.09], [-76.5, 39.09], [-76.5, 39....</td>\n",
       "    </tr>\n",
       "  </tbody>\n",
       "</table>\n",
       "</div>"
      ],
      "text/plain": [
       "  countyCode               County         State  \\\n",
       "0  02b-17001         Adams County      Illinois   \n",
       "1  06b-26005       Allegan County      Michigan   \n",
       "2  08b-42003     Allegheny County  Pennsylvania   \n",
       "3  11b-39003         Allen County          Ohio   \n",
       "4  04b-24003  Anne Arundel County      Maryland   \n",
       "\n",
       "                                   Title  \\\n",
       "0           [Adams County, Illinois GIS]   \n",
       "1      [Allegan County GIS Data Library]   \n",
       "2       [Allegheny County GIS Open Data]   \n",
       "3  [Allen County GIS Data Download Page]   \n",
       "4         [Anne Arundel County GIS Data]   \n",
       "\n",
       "                                           sourceURL  \\\n",
       "0                   [https://www.adamscountygis.com]   \n",
       "1  [https://www.allegancounty.org/online-services...   \n",
       "2       [https://openac-alcogis.opendata.arcgis.com]   \n",
       "3  [http://gis.allencountyohio.com/GIS/downloads....   \n",
       "4                       [https://maps.aacounty.org/]   \n",
       "\n",
       "                             btaaURL  totalRecords    Color  \\\n",
       "0  https://geo.btaa.org/?q=02b-17001             1  #b3cde0   \n",
       "1  https://geo.btaa.org/?q=06b-26005            12  #6497b1   \n",
       "2  https://geo.btaa.org/?q=08b-42003            50  #6497b1   \n",
       "3  https://geo.btaa.org/?q=11b-39003            12  #6497b1   \n",
       "4  https://geo.btaa.org/?q=04b-24003           228  #005b96   \n",
       "\n",
       "                                         boundingBox  \n",
       "0  [[[-91.51, 40.2], [-91.51, 40.2], [-91.51, 40....  \n",
       "1  [[[-86.21, 42.77], [-86.21, 42.77], [-86.21, 4...  \n",
       "2  [[[-80.15, 40.67], [-80.15, 40.67], [-80.15, 4...  \n",
       "3  [[[-83.88, 40.92], [-83.88, 40.92], [-83.92, 4...  \n",
       "4  [[[[-76.5, 39.09], [-76.5, 39.09], [-76.5, 39....  "
      ]
     },
     "execution_count": 24,
     "metadata": {},
     "output_type": "execute_result"
    }
   ],
   "source": [
    "## Join on column 'County' and 'State' from left dataframe df_group\n",
    "df_merge = pd.merge(df_group, df_allCounty, on = ['County','State'], how = 'left')\n",
    "df_merge.head()"
   ]
  },
  {
   "cell_type": "markdown",
   "metadata": {},
   "source": [
    "### Return rows with Nan value\n",
    "Check if there exists any records doesn't include any coordinates information in the boundingBox column. <br>\n",
    "If so, go back to `allCounties.csv` and manually change the **county** name to the one in `county.json`, then go to `Kernel` > `Restart & Run All`"
   ]
  },
  {
   "cell_type": "code",
   "execution_count": 25,
   "metadata": {},
   "outputs": [
    {
     "data": {
      "text/html": [
       "<div>\n",
       "<style scoped>\n",
       "    .dataframe tbody tr th:only-of-type {\n",
       "        vertical-align: middle;\n",
       "    }\n",
       "\n",
       "    .dataframe tbody tr th {\n",
       "        vertical-align: top;\n",
       "    }\n",
       "\n",
       "    .dataframe thead th {\n",
       "        text-align: right;\n",
       "    }\n",
       "</style>\n",
       "<table border=\"1\" class=\"dataframe\">\n",
       "  <thead>\n",
       "    <tr style=\"text-align: right;\">\n",
       "      <th></th>\n",
       "      <th>countyCode</th>\n",
       "      <th>County</th>\n",
       "      <th>State</th>\n",
       "      <th>Title</th>\n",
       "      <th>sourceURL</th>\n",
       "      <th>btaaURL</th>\n",
       "      <th>totalRecords</th>\n",
       "      <th>Color</th>\n",
       "      <th>boundingBox</th>\n",
       "    </tr>\n",
       "  </thead>\n",
       "  <tbody>\n",
       "    <tr>\n",
       "      <th>139</th>\n",
       "      <td>04b-24037</td>\n",
       "      <td>St Mary's County</td>\n",
       "      <td>Maryland</td>\n",
       "      <td>[St Mary's County GIS Downloadable Layers]</td>\n",
       "      <td>[https://www.stmarysmd.com/it/gis/]</td>\n",
       "      <td>https://geo.btaa.org/?q=04b-24037</td>\n",
       "      <td>26</td>\n",
       "      <td>#6497b1</td>\n",
       "      <td>NaN</td>\n",
       "    </tr>\n",
       "  </tbody>\n",
       "</table>\n",
       "</div>"
      ],
      "text/plain": [
       "    countyCode            County     State  \\\n",
       "139  04b-24037  St Mary's County  Maryland   \n",
       "\n",
       "                                          Title  \\\n",
       "139  [St Mary's County GIS Downloadable Layers]   \n",
       "\n",
       "                               sourceURL                            btaaURL  \\\n",
       "139  [https://www.stmarysmd.com/it/gis/]  https://geo.btaa.org/?q=04b-24037   \n",
       "\n",
       "     totalRecords    Color boundingBox  \n",
       "139            26  #6497b1         NaN  "
      ]
     },
     "execution_count": 25,
     "metadata": {},
     "output_type": "execute_result"
    }
   ],
   "source": [
    "def check_nanrows(df):\n",
    "    if df.isnull().values.any():\n",
    "        return df[df['boundingBox'].isnull()]\n",
    "    else:\n",
    "        print('> No NULL rows')        \n",
    "check_nanrows(df_merge)"
   ]
  },
  {
   "cell_type": "markdown",
   "metadata": {},
   "source": [
    "### Create county GeoJSON features"
   ]
  },
  {
   "cell_type": "code",
   "execution_count": 27,
   "metadata": {},
   "outputs": [
    {
     "name": "stdout",
     "output_type": "stream",
     "text": [
      "> Creating county GeoJSON features...\n"
     ]
    }
   ],
   "source": [
    "def create_geojson_features(df):\n",
    "    print('> Creating county GeoJSON features...')\n",
    "    features = []\n",
    "    geometry_type = ''\n",
    "    geojson = {\n",
    "        'type': 'FeatureCollection',\n",
    "        'features': features\n",
    "    }\n",
    "        \n",
    "    for _, row in df.iterrows():\n",
    "        if type(row['boundingBox'][0][0][0]) is float:\n",
    "            geometry_type = 'Polygon'\n",
    "        else:\n",
    "            geometry_type = 'MultiPolygon'\n",
    "            \n",
    "        feature = {\n",
    "            'type': 'Feature',\n",
    "            'geometry': {\n",
    "                'type': geometry_type, \n",
    "                'coordinates': row['boundingBox']\n",
    "            },\n",
    "            'properties': {\n",
    "                'County': row['County'],\n",
    "                'State': row['State'],\n",
    "                'countyCode': row['countyCode'],\n",
    "                'Title': '|'.join([str(elem) for elem in row['Title']]),\n",
    "                'sourceURL': '|'.join([str(elem) for elem in row['sourceURL']]), \n",
    "                'btaaURL': row['btaaURL'],\n",
    "                'totalRecords': row['totalRecords'],\n",
    "                'Color' : row['Color']\n",
    "            }\n",
    "           }\n",
    "\n",
    "        features.append(feature)\n",
    "    return geojson\n",
    "\n",
    "data_geojson = create_geojson_features(df_merge)"
   ]
  },
  {
   "cell_type": "markdown",
   "metadata": {},
   "source": [
    "### Write to county TopoJSON file `activeCounties.topo.json`"
   ]
  },
  {
   "cell_type": "code",
   "execution_count": null,
   "metadata": {
    "scrolled": true
   },
   "outputs": [],
   "source": [
    "county_geojson = gpd.GeoDataFrame.from_features(data_geojson[\"features\"])\n",
    "# TopoJSON is an extension of GeoJSON to compress geometry information\n",
    "topo = tp.Topology(county_geojson)\n",
    "topo.to_json(activecounties)\n",
    "print('> Creating county TopoJSON file...')"
   ]
  },
  {
   "cell_type": "markdown",
   "metadata": {},
   "source": [
    "### Inspect county TopoJSON"
   ]
  },
  {
   "cell_type": "code",
   "execution_count": null,
   "metadata": {},
   "outputs": [],
   "source": [
    "topo.to_alt().properties(title='County Topology')"
   ]
  },
  {
   "cell_type": "markdown",
   "metadata": {},
   "source": [
    "***\n",
    "\n",
    "## Part 3: City Geoportals GeoJSON"
   ]
  },
  {
   "cell_type": "markdown",
   "metadata": {},
   "source": [
    "### Format city name in city geoportals spreadsheet `allCities.csv`"
   ]
  },
  {
   "cell_type": "code",
   "execution_count": null,
   "metadata": {
    "scrolled": true
   },
   "outputs": [],
   "source": [
    "df = pd.read_csv(citygeoportals)\n",
    "## Calculate city coordinates and round to 2 decimal places \n",
    "df = pd.concat([df, df['Bounding Box'].str.split(',', expand=True).astype(float)], axis=1).rename(\n",
    "    columns={0:'minX', 1:'minY', 2:'maxX', 3:'maxY'})\n",
    "df['centerX'] = round((df['minX'] + df['maxX']) / 2, 2)\n",
    "df['centerY'] = round((df['minY'] + df['maxY']) / 2, 2)\n",
    "df_clean = df.drop(columns =['minX', 'minY', 'maxX', 'maxY', 'Bounding Box'])\n",
    "df_clean.head()"
   ]
  },
  {
   "cell_type": "markdown",
   "metadata": {},
   "source": [
    "### Etract total records number from BTAA Geoportal search page"
   ]
  },
  {
   "cell_type": "code",
   "execution_count": null,
   "metadata": {},
   "outputs": [],
   "source": [
    "df_clean['totalRecords'] = totalRecords(df_clean)"
   ]
  },
  {
   "cell_type": "markdown",
   "metadata": {},
   "source": [
    "### Inspect the numinum number of total records\n",
    "If it equals to 0, meaning the landing page is 404 Not Found. Go back to check if the identifier is still active. "
   ]
  },
  {
   "cell_type": "code",
   "execution_count": null,
   "metadata": {},
   "outputs": [],
   "source": [
    "check_totalRecords(df_clean)"
   ]
  },
  {
   "cell_type": "markdown",
   "metadata": {},
   "source": [
    "### Group dataframe rows into list by geoportal sites"
   ]
  },
  {
   "cell_type": "code",
   "execution_count": null,
   "metadata": {},
   "outputs": [],
   "source": [
    "def aggregate_to_array(data):\n",
    "    groupItems = ['Title', 'sourceURL', 'totalRecords']\n",
    "    for i in range(len(groupItems)):\n",
    "        data[groupItems[i]] = np.tile([data[groupItems[i]].values], (data.shape[0], 1)).tolist()\n",
    "    return data\n",
    "\n",
    "## Group by ['City', 'State']\n",
    "df_group = df_clean.groupby(['centerX']).apply(aggregate_to_array).drop_duplicates(subset=['City', 'State'])\n",
    "# sum up the total records if there're multiple geoportals in one city\n",
    "df_group['totalRecords'] = df_group['totalRecords'].apply(lambda x: sum(int(item)for item in x))\n",
    "df_group.head()"
   ]
  },
  {
   "cell_type": "markdown",
   "metadata": {},
   "source": [
    "### Classify the geoportal by total number\n",
    "You may want to adjust the classification method **`Quantiles`** and class number **`k`**. \n",
    "Reference the <a href=\"https://pypi.org/project/mapclassify/\">mapclassify</a>."
   ]
  },
  {
   "cell_type": "code",
   "execution_count": null,
   "metadata": {
    "scrolled": true
   },
   "outputs": [],
   "source": [
    "n3 = mapclassify.Quantiles(df_group.totalRecords, k=3)\n",
    "n3"
   ]
  },
  {
   "cell_type": "code",
   "execution_count": null,
   "metadata": {},
   "outputs": [],
   "source": [
    "cityInterval = list(n3.bins)"
   ]
  },
  {
   "cell_type": "markdown",
   "metadata": {},
   "source": [
    "### Assign different circle radius to each geoportal based on total records class"
   ]
  },
  {
   "cell_type": "code",
   "execution_count": null,
   "metadata": {},
   "outputs": [],
   "source": [
    "## Size of symbols on map in meters \n",
    "size = [12000, 16000, 22000]\n",
    "## Size of symbols inside legend in pixels\n",
    "legendSize = [12, 18, 28]"
   ]
  },
  {
   "cell_type": "code",
   "execution_count": null,
   "metadata": {},
   "outputs": [],
   "source": [
    "def totalRecords_size(row):\n",
    "    if row['totalRecords'] <= cityInterval[0]:\n",
    "        return size[0]\n",
    "    elif row['totalRecords'] > cityInterval[0] and row['totalRecords'] <= cityInterval[1]:\n",
    "        return size[1]\n",
    "    else:\n",
    "        return size[2]\n",
    "\n",
    "## Append a new column with color generated above\n",
    "df_group['Size'] = df_group.apply(totalRecords_size, axis=1)\n",
    "df_group.head()"
   ]
  },
  {
   "cell_type": "markdown",
   "metadata": {},
   "source": [
    "### Create city GeoJSON features"
   ]
  },
  {
   "cell_type": "code",
   "execution_count": null,
   "metadata": {},
   "outputs": [],
   "source": [
    "def create_geojson_features(df):\n",
    "    print('> Creating city GeoJSON features...')\n",
    "    features = []\n",
    "    geojson = {\n",
    "        'type': 'FeatureCollection',\n",
    "        'features': features\n",
    "    }\n",
    "    for _, row in df.iterrows():\n",
    "        feature = {\n",
    "            'type': 'Feature',\n",
    "            'geometry': {\n",
    "                'type':'Point', \n",
    "                'coordinates':[row['centerX'], row['centerY']]\n",
    "            },\n",
    "            'properties': {\n",
    "                'City': row['City'],\n",
    "                'State': row['State'],\n",
    "                'Title': '|'.join([str(elem) for elem in row['Title']]),\n",
    "                'sourceURL': '|'.join([str(elem) for elem in row['sourceURL']]), \n",
    "                'btaaURL': row['btaaURL'],\n",
    "                'totalRecords': row['totalRecords'],\n",
    "                'Size' : row['Size']\n",
    "            }\n",
    "           }\n",
    "\n",
    "        features.append(feature)\n",
    "    return geojson\n",
    "\n",
    "data_geojson = create_geojson_features(df_group)"
   ]
  },
  {
   "cell_type": "markdown",
   "metadata": {},
   "source": [
    "### Write to city GeoJSON file `activecities.json`"
   ]
  },
  {
   "cell_type": "code",
   "execution_count": null,
   "metadata": {},
   "outputs": [],
   "source": [
    "with open(activecities, 'w') as txtfile:\n",
    "    json.dump(data_geojson, txtfile)\n",
    "print('> Creating city GeoJSON file...')"
   ]
  },
  {
   "cell_type": "markdown",
   "metadata": {},
   "source": [
    "### Inspect city GeoJSON"
   ]
  },
  {
   "cell_type": "code",
   "execution_count": null,
   "metadata": {},
   "outputs": [],
   "source": [
    "print('> Making map...')\n",
    "m = folium.Map(location = [44, -90], control_scale = True, zoom_start = 6)\n",
    "\n",
    "lyrCity = folium.GeoJson(open(activecities, 'r').read(),\n",
    "               tooltip = folium.GeoJsonTooltip(fields=('City', 'sourceURL'),\n",
    "                                               aliases=('city','websiteUrl')),\n",
    "               show = True).add_to(m)\n",
    "m"
   ]
  },
  {
   "cell_type": "markdown",
   "metadata": {},
   "source": [
    "***\n",
    "\n",
    "## Part 4: Legend JSON"
   ]
  },
  {
   "cell_type": "markdown",
   "metadata": {},
   "source": [
    "### Create legend JSON features"
   ]
  },
  {
   "cell_type": "code",
   "execution_count": null,
   "metadata": {},
   "outputs": [],
   "source": [
    "def create_legend_json(countyinterval, palette, cityinterval, size):\n",
    "    print('> Creating legend JSON featuers...')\n",
    "    countystyle = dict(zip(countyinterval, palette))\n",
    "    citystyle = dict(zip(cityinterval, size))\n",
    "    dic = {\n",
    "            'county':countystyle,\n",
    "              'city':citystyle\n",
    "          }\n",
    "    return dic\n",
    "    \n",
    "data_json = create_legend_json(countyInterval, palette, cityInterval, legendSize)"
   ]
  },
  {
   "cell_type": "markdown",
   "metadata": {},
   "source": [
    "### Write to legend JSON file `legend.json`"
   ]
  },
  {
   "cell_type": "code",
   "execution_count": null,
   "metadata": {},
   "outputs": [],
   "source": [
    "with open(legendjson, 'w') as txtfile:\n",
    "    json.dump(data_json, txtfile)\n",
    "print('> Creating legend JSON file...')"
   ]
  }
 ],
 "metadata": {
  "kernelspec": {
   "display_name": "Python 3 (ipykernel)",
   "language": "python",
   "name": "python3"
  },
  "language_info": {
   "codemirror_mode": {
    "name": "ipython",
    "version": 3
   },
   "file_extension": ".py",
   "mimetype": "text/x-python",
   "name": "python",
   "nbconvert_exporter": "python",
   "pygments_lexer": "ipython3",
   "version": "3.8.16"
  }
 },
 "nbformat": 4,
 "nbformat_minor": 4
}
